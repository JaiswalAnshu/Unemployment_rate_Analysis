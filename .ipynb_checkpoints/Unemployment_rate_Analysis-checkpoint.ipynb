{
 "cells": [
  {
   "cell_type": "markdown",
   "id": "88680a94-41ff-487d-967e-41dfef531fc5",
   "metadata": {},
   "source": [
    "## Unemployment analysis of India"
   ]
  },
  {
   "cell_type": "markdown",
   "id": "8b214e2c-fc04-4ecc-b6b9-10b758ca500e",
   "metadata": {},
   "source": [
    "**Analyzing COVID-19 Impact on Unemployment rate in India**\n",
    "\n",
    "Objective : \n",
    "- The primary aim of this analysis is to assess the Consequence of the COVID-19 pandemic on India's job market. \n",
    "- The dataset under consideration contains crucial information about the unemployment rates across various Indian states.\n",
    "- The dataset encompasses key indicators such as States, Date, Measuring Frequency, Estimated Unemployment Rate (%) etc.\n",
    "\n",
    "\n",
    "Dataset Details :  \n",
    "This dataset provides insights into the unemployment scenario across different Indian states on a monthly basis during the COVID-19 crisis . Following are the features of this dataset - \n",
    "\n",
    "- States: The states within India.\n",
    "- Date: The date when the unemployment rate was recorded.\n",
    "- Measuring Frequency: The frequency at which measurements were taken (Monthly).\n",
    "- Estimated Unemployment Rate (%): The percentage of individuals unemployed in each state of India.\n",
    "- Estimated Employed Individuals: The count of people currently employed.\n",
    "- Estimated Labour Participation Rate (%): The proportion of the working population (age group: 16-64 years) participating in the labor force, either employed or actively seeking employment.\n",
    "\n",
    "Description : \n",
    "\n",
    "- This dataset offers valuable insights into how the unemployment rate, employment figures, and labor participation rates have been impacted across different regions in the country during the COVID-19 crisis.\n",
    "- This analysis intends to shed light on the socio-economic consequences of the pandemic on India's workforce and labor market. "
   ]
  },
  {
   "cell_type": "code",
   "execution_count": 1,
   "id": "a360cd8a-e9c4-48ca-b19a-0838ad61ec78",
   "metadata": {},
   "outputs": [],
   "source": [
    "# importing the required Libraries\n",
    "\n",
    "import pandas as pd \n",
    "import numpy as np \n",
    "import matplotlib.pyplot as plt \n",
    "%matplotlib inline\n",
    "import seaborn as sns \n",
    "import calendar "
   ]
  },
  {
   "cell_type": "code",
   "execution_count": 2,
   "id": "d1d2ba26-c08f-420d-9d27-a54a93fa4e36",
   "metadata": {},
   "outputs": [],
   "source": [
    "# Reading the CSV file using Pandas\n",
    "\n",
    "df= pd.read_csv(r'C:\\Users\\bhims\\Desktop\\COGNORISE INFOTECH Internship\\Unemployment in India folder\\Unemployment_Rate_upto_11_2020.csv')"
   ]
  },
  {
   "cell_type": "markdown",
   "id": "bf617e9f-968e-4954-a61f-1ed7acf8b226",
   "metadata": {},
   "source": [
    "#### Understanding the Dataset"
   ]
  },
  {
   "cell_type": "code",
   "execution_count": 3,
   "id": "a9919fe5-4951-4afc-904f-667c12e0da00",
   "metadata": {},
   "outputs": [
    {
     "data": {
      "text/plain": [
       "(267, 9)"
      ]
     },
     "execution_count": 3,
     "metadata": {},
     "output_type": "execute_result"
    }
   ],
   "source": [
    "# Getting the number of Rows by the number of columns in the Dataset\n",
    "\n",
    "df.shape"
   ]
  },
  {
   "cell_type": "code",
   "execution_count": 4,
   "id": "f35abe2f-d855-4f3f-93d2-4db448e5b55f",
   "metadata": {},
   "outputs": [
    {
     "data": {
      "text/html": [
       "<div>\n",
       "<style scoped>\n",
       "    .dataframe tbody tr th:only-of-type {\n",
       "        vertical-align: middle;\n",
       "    }\n",
       "\n",
       "    .dataframe tbody tr th {\n",
       "        vertical-align: top;\n",
       "    }\n",
       "\n",
       "    .dataframe thead th {\n",
       "        text-align: right;\n",
       "    }\n",
       "</style>\n",
       "<table border=\"1\" class=\"dataframe\">\n",
       "  <thead>\n",
       "    <tr style=\"text-align: right;\">\n",
       "      <th></th>\n",
       "      <th>Region</th>\n",
       "      <th>Date</th>\n",
       "      <th>Frequency</th>\n",
       "      <th>Estimated Unemployment Rate (%)</th>\n",
       "      <th>Estimated Employed</th>\n",
       "      <th>Estimated Labour Participation Rate (%)</th>\n",
       "      <th>Region.1</th>\n",
       "      <th>longitude</th>\n",
       "      <th>latitude</th>\n",
       "    </tr>\n",
       "  </thead>\n",
       "  <tbody>\n",
       "    <tr>\n",
       "      <th>0</th>\n",
       "      <td>Andhra Pradesh</td>\n",
       "      <td>31-01-2020</td>\n",
       "      <td>M</td>\n",
       "      <td>5.48</td>\n",
       "      <td>16635535</td>\n",
       "      <td>41.02</td>\n",
       "      <td>South</td>\n",
       "      <td>15.9129</td>\n",
       "      <td>79.74</td>\n",
       "    </tr>\n",
       "    <tr>\n",
       "      <th>1</th>\n",
       "      <td>Andhra Pradesh</td>\n",
       "      <td>29-02-2020</td>\n",
       "      <td>M</td>\n",
       "      <td>5.83</td>\n",
       "      <td>16545652</td>\n",
       "      <td>40.90</td>\n",
       "      <td>South</td>\n",
       "      <td>15.9129</td>\n",
       "      <td>79.74</td>\n",
       "    </tr>\n",
       "    <tr>\n",
       "      <th>2</th>\n",
       "      <td>Andhra Pradesh</td>\n",
       "      <td>31-03-2020</td>\n",
       "      <td>M</td>\n",
       "      <td>5.79</td>\n",
       "      <td>15881197</td>\n",
       "      <td>39.18</td>\n",
       "      <td>South</td>\n",
       "      <td>15.9129</td>\n",
       "      <td>79.74</td>\n",
       "    </tr>\n",
       "    <tr>\n",
       "      <th>3</th>\n",
       "      <td>Andhra Pradesh</td>\n",
       "      <td>30-04-2020</td>\n",
       "      <td>M</td>\n",
       "      <td>20.51</td>\n",
       "      <td>11336911</td>\n",
       "      <td>33.10</td>\n",
       "      <td>South</td>\n",
       "      <td>15.9129</td>\n",
       "      <td>79.74</td>\n",
       "    </tr>\n",
       "    <tr>\n",
       "      <th>4</th>\n",
       "      <td>Andhra Pradesh</td>\n",
       "      <td>31-05-2020</td>\n",
       "      <td>M</td>\n",
       "      <td>17.43</td>\n",
       "      <td>12988845</td>\n",
       "      <td>36.46</td>\n",
       "      <td>South</td>\n",
       "      <td>15.9129</td>\n",
       "      <td>79.74</td>\n",
       "    </tr>\n",
       "  </tbody>\n",
       "</table>\n",
       "</div>"
      ],
      "text/plain": [
       "           Region         Date  Frequency   Estimated Unemployment Rate (%)  \\\n",
       "0  Andhra Pradesh   31-01-2020          M                              5.48   \n",
       "1  Andhra Pradesh   29-02-2020          M                              5.83   \n",
       "2  Andhra Pradesh   31-03-2020          M                              5.79   \n",
       "3  Andhra Pradesh   30-04-2020          M                             20.51   \n",
       "4  Andhra Pradesh   31-05-2020          M                             17.43   \n",
       "\n",
       "    Estimated Employed   Estimated Labour Participation Rate (%) Region.1  \\\n",
       "0             16635535                                     41.02    South   \n",
       "1             16545652                                     40.90    South   \n",
       "2             15881197                                     39.18    South   \n",
       "3             11336911                                     33.10    South   \n",
       "4             12988845                                     36.46    South   \n",
       "\n",
       "   longitude  latitude  \n",
       "0    15.9129     79.74  \n",
       "1    15.9129     79.74  \n",
       "2    15.9129     79.74  \n",
       "3    15.9129     79.74  \n",
       "4    15.9129     79.74  "
      ]
     },
     "execution_count": 4,
     "metadata": {},
     "output_type": "execute_result"
    }
   ],
   "source": [
    "# Glimpse into head rows of dataframe \n",
    "\n",
    "df.head(5)"
   ]
  },
  {
   "cell_type": "code",
   "execution_count": 5,
   "id": "940151aa-c423-4013-9a8d-ccdd3d23901b",
   "metadata": {},
   "outputs": [
    {
     "data": {
      "text/html": [
       "<div>\n",
       "<style scoped>\n",
       "    .dataframe tbody tr th:only-of-type {\n",
       "        vertical-align: middle;\n",
       "    }\n",
       "\n",
       "    .dataframe tbody tr th {\n",
       "        vertical-align: top;\n",
       "    }\n",
       "\n",
       "    .dataframe thead th {\n",
       "        text-align: right;\n",
       "    }\n",
       "</style>\n",
       "<table border=\"1\" class=\"dataframe\">\n",
       "  <thead>\n",
       "    <tr style=\"text-align: right;\">\n",
       "      <th></th>\n",
       "      <th>Region</th>\n",
       "      <th>Date</th>\n",
       "      <th>Frequency</th>\n",
       "      <th>Estimated Unemployment Rate (%)</th>\n",
       "      <th>Estimated Employed</th>\n",
       "      <th>Estimated Labour Participation Rate (%)</th>\n",
       "      <th>Region.1</th>\n",
       "      <th>longitude</th>\n",
       "      <th>latitude</th>\n",
       "    </tr>\n",
       "  </thead>\n",
       "  <tbody>\n",
       "    <tr>\n",
       "      <th>262</th>\n",
       "      <td>West Bengal</td>\n",
       "      <td>30-06-2020</td>\n",
       "      <td>M</td>\n",
       "      <td>7.29</td>\n",
       "      <td>30726310</td>\n",
       "      <td>40.39</td>\n",
       "      <td>East</td>\n",
       "      <td>22.9868</td>\n",
       "      <td>87.855</td>\n",
       "    </tr>\n",
       "    <tr>\n",
       "      <th>263</th>\n",
       "      <td>West Bengal</td>\n",
       "      <td>31-07-2020</td>\n",
       "      <td>M</td>\n",
       "      <td>6.83</td>\n",
       "      <td>35372506</td>\n",
       "      <td>46.17</td>\n",
       "      <td>East</td>\n",
       "      <td>22.9868</td>\n",
       "      <td>87.855</td>\n",
       "    </tr>\n",
       "    <tr>\n",
       "      <th>264</th>\n",
       "      <td>West Bengal</td>\n",
       "      <td>31-08-2020</td>\n",
       "      <td>M</td>\n",
       "      <td>14.87</td>\n",
       "      <td>33298644</td>\n",
       "      <td>47.48</td>\n",
       "      <td>East</td>\n",
       "      <td>22.9868</td>\n",
       "      <td>87.855</td>\n",
       "    </tr>\n",
       "    <tr>\n",
       "      <th>265</th>\n",
       "      <td>West Bengal</td>\n",
       "      <td>30-09-2020</td>\n",
       "      <td>M</td>\n",
       "      <td>9.35</td>\n",
       "      <td>35707239</td>\n",
       "      <td>47.73</td>\n",
       "      <td>East</td>\n",
       "      <td>22.9868</td>\n",
       "      <td>87.855</td>\n",
       "    </tr>\n",
       "    <tr>\n",
       "      <th>266</th>\n",
       "      <td>West Bengal</td>\n",
       "      <td>31-10-2020</td>\n",
       "      <td>M</td>\n",
       "      <td>9.98</td>\n",
       "      <td>33962549</td>\n",
       "      <td>45.63</td>\n",
       "      <td>East</td>\n",
       "      <td>22.9868</td>\n",
       "      <td>87.855</td>\n",
       "    </tr>\n",
       "  </tbody>\n",
       "</table>\n",
       "</div>"
      ],
      "text/plain": [
       "          Region         Date  Frequency   Estimated Unemployment Rate (%)  \\\n",
       "262  West Bengal   30-06-2020          M                              7.29   \n",
       "263  West Bengal   31-07-2020          M                              6.83   \n",
       "264  West Bengal   31-08-2020          M                             14.87   \n",
       "265  West Bengal   30-09-2020          M                              9.35   \n",
       "266  West Bengal   31-10-2020          M                              9.98   \n",
       "\n",
       "      Estimated Employed   Estimated Labour Participation Rate (%) Region.1  \\\n",
       "262             30726310                                     40.39     East   \n",
       "263             35372506                                     46.17     East   \n",
       "264             33298644                                     47.48     East   \n",
       "265             35707239                                     47.73     East   \n",
       "266             33962549                                     45.63     East   \n",
       "\n",
       "     longitude  latitude  \n",
       "262    22.9868    87.855  \n",
       "263    22.9868    87.855  \n",
       "264    22.9868    87.855  \n",
       "265    22.9868    87.855  \n",
       "266    22.9868    87.855  "
      ]
     },
     "execution_count": 5,
     "metadata": {},
     "output_type": "execute_result"
    }
   ],
   "source": [
    "# Glimpse into top rows of dataframe \n",
    "\n",
    "df.tail(5)"
   ]
  },
  {
   "cell_type": "code",
   "execution_count": 6,
   "id": "3bf23efc-186f-4ead-a9c2-7709700f3f76",
   "metadata": {},
   "outputs": [
    {
     "data": {
      "text/plain": [
       "Index(['Region', ' Date', ' Frequency', ' Estimated Unemployment Rate (%)',\n",
       "       ' Estimated Employed', ' Estimated Labour Participation Rate (%)',\n",
       "       'Region.1', 'longitude', 'latitude'],\n",
       "      dtype='object')"
      ]
     },
     "execution_count": 6,
     "metadata": {},
     "output_type": "execute_result"
    }
   ],
   "source": [
    "df.columns"
   ]
  },
  {
   "cell_type": "code",
   "execution_count": 7,
   "id": "02c44061-0df1-4d18-9d9f-a1976ae50f8f",
   "metadata": {},
   "outputs": [
    {
     "name": "stdout",
     "output_type": "stream",
     "text": [
      "<class 'pandas.core.frame.DataFrame'>\n",
      "RangeIndex: 267 entries, 0 to 266\n",
      "Data columns (total 9 columns):\n",
      " #   Column                                    Non-Null Count  Dtype  \n",
      "---  ------                                    --------------  -----  \n",
      " 0   Region                                    267 non-null    object \n",
      " 1    Date                                     267 non-null    object \n",
      " 2    Frequency                                267 non-null    object \n",
      " 3    Estimated Unemployment Rate (%)          267 non-null    float64\n",
      " 4    Estimated Employed                       267 non-null    int64  \n",
      " 5    Estimated Labour Participation Rate (%)  267 non-null    float64\n",
      " 6   Region.1                                  267 non-null    object \n",
      " 7   longitude                                 267 non-null    float64\n",
      " 8   latitude                                  267 non-null    float64\n",
      "dtypes: float64(4), int64(1), object(4)\n",
      "memory usage: 18.9+ KB\n"
     ]
    }
   ],
   "source": [
    "# Getting Basic details about the dataset\n",
    "\n",
    "df.info()"
   ]
  },
  {
   "cell_type": "code",
   "execution_count": 8,
   "id": "5b72bccb-3adf-4d11-80cf-62776443868c",
   "metadata": {},
   "outputs": [
    {
     "data": {
      "text/html": [
       "<div>\n",
       "<style scoped>\n",
       "    .dataframe tbody tr th:only-of-type {\n",
       "        vertical-align: middle;\n",
       "    }\n",
       "\n",
       "    .dataframe tbody tr th {\n",
       "        vertical-align: top;\n",
       "    }\n",
       "\n",
       "    .dataframe thead th {\n",
       "        text-align: right;\n",
       "    }\n",
       "</style>\n",
       "<table border=\"1\" class=\"dataframe\">\n",
       "  <thead>\n",
       "    <tr style=\"text-align: right;\">\n",
       "      <th></th>\n",
       "      <th>Estimated Unemployment Rate (%)</th>\n",
       "      <th>Estimated Employed</th>\n",
       "      <th>Estimated Labour Participation Rate (%)</th>\n",
       "      <th>longitude</th>\n",
       "      <th>latitude</th>\n",
       "    </tr>\n",
       "  </thead>\n",
       "  <tbody>\n",
       "    <tr>\n",
       "      <th>count</th>\n",
       "      <td>267.000000</td>\n",
       "      <td>2.670000e+02</td>\n",
       "      <td>267.000000</td>\n",
       "      <td>267.000000</td>\n",
       "      <td>267.000000</td>\n",
       "    </tr>\n",
       "    <tr>\n",
       "      <th>mean</th>\n",
       "      <td>12.236929</td>\n",
       "      <td>1.396211e+07</td>\n",
       "      <td>41.681573</td>\n",
       "      <td>22.826048</td>\n",
       "      <td>80.532425</td>\n",
       "    </tr>\n",
       "    <tr>\n",
       "      <th>std</th>\n",
       "      <td>10.803283</td>\n",
       "      <td>1.336632e+07</td>\n",
       "      <td>7.845419</td>\n",
       "      <td>6.270731</td>\n",
       "      <td>5.831738</td>\n",
       "    </tr>\n",
       "    <tr>\n",
       "      <th>min</th>\n",
       "      <td>0.500000</td>\n",
       "      <td>1.175420e+05</td>\n",
       "      <td>16.770000</td>\n",
       "      <td>10.850500</td>\n",
       "      <td>71.192400</td>\n",
       "    </tr>\n",
       "    <tr>\n",
       "      <th>25%</th>\n",
       "      <td>4.845000</td>\n",
       "      <td>2.838930e+06</td>\n",
       "      <td>37.265000</td>\n",
       "      <td>18.112400</td>\n",
       "      <td>76.085600</td>\n",
       "    </tr>\n",
       "    <tr>\n",
       "      <th>50%</th>\n",
       "      <td>9.650000</td>\n",
       "      <td>9.732417e+06</td>\n",
       "      <td>40.390000</td>\n",
       "      <td>23.610200</td>\n",
       "      <td>79.019300</td>\n",
       "    </tr>\n",
       "    <tr>\n",
       "      <th>75%</th>\n",
       "      <td>16.755000</td>\n",
       "      <td>2.187869e+07</td>\n",
       "      <td>44.055000</td>\n",
       "      <td>27.278400</td>\n",
       "      <td>85.279900</td>\n",
       "    </tr>\n",
       "    <tr>\n",
       "      <th>max</th>\n",
       "      <td>75.850000</td>\n",
       "      <td>5.943376e+07</td>\n",
       "      <td>69.690000</td>\n",
       "      <td>33.778200</td>\n",
       "      <td>92.937600</td>\n",
       "    </tr>\n",
       "  </tbody>\n",
       "</table>\n",
       "</div>"
      ],
      "text/plain": [
       "        Estimated Unemployment Rate (%)   Estimated Employed  \\\n",
       "count                        267.000000         2.670000e+02   \n",
       "mean                          12.236929         1.396211e+07   \n",
       "std                           10.803283         1.336632e+07   \n",
       "min                            0.500000         1.175420e+05   \n",
       "25%                            4.845000         2.838930e+06   \n",
       "50%                            9.650000         9.732417e+06   \n",
       "75%                           16.755000         2.187869e+07   \n",
       "max                           75.850000         5.943376e+07   \n",
       "\n",
       "        Estimated Labour Participation Rate (%)   longitude    latitude  \n",
       "count                                267.000000  267.000000  267.000000  \n",
       "mean                                  41.681573   22.826048   80.532425  \n",
       "std                                    7.845419    6.270731    5.831738  \n",
       "min                                   16.770000   10.850500   71.192400  \n",
       "25%                                   37.265000   18.112400   76.085600  \n",
       "50%                                   40.390000   23.610200   79.019300  \n",
       "75%                                   44.055000   27.278400   85.279900  \n",
       "max                                   69.690000   33.778200   92.937600  "
      ]
     },
     "execution_count": 8,
     "metadata": {},
     "output_type": "execute_result"
    }
   ],
   "source": [
    "# Getting the details of varied columns  \n",
    "\n",
    "df.describe()"
   ]
  },
  {
   "cell_type": "code",
   "execution_count": 9,
   "id": "c318d4a5-4c13-4f6f-b079-b239a3a5b320",
   "metadata": {},
   "outputs": [
    {
     "data": {
      "text/plain": [
       "Region                                      0\n",
       " Date                                       0\n",
       " Frequency                                  0\n",
       " Estimated Unemployment Rate (%)            0\n",
       " Estimated Employed                         0\n",
       " Estimated Labour Participation Rate (%)    0\n",
       "Region.1                                    0\n",
       "longitude                                   0\n",
       "latitude                                    0\n",
       "dtype: int64"
      ]
     },
     "execution_count": 9,
     "metadata": {},
     "output_type": "execute_result"
    }
   ],
   "source": [
    "# Checking for null values \n",
    "\n",
    "df.isnull().sum()"
   ]
  },
  {
   "cell_type": "code",
   "execution_count": 10,
   "id": "ac00a5b2-85f6-4231-b6c5-a65197fa2996",
   "metadata": {},
   "outputs": [
    {
     "data": {
      "text/plain": [
       "Region                                       27\n",
       " Date                                        10\n",
       " Frequency                                    1\n",
       " Estimated Unemployment Rate (%)            252\n",
       " Estimated Employed                         267\n",
       " Estimated Labour Participation Rate (%)    248\n",
       "Region.1                                      5\n",
       "longitude                                    27\n",
       "latitude                                     24\n",
       "dtype: int64"
      ]
     },
     "execution_count": 10,
     "metadata": {},
     "output_type": "execute_result"
    }
   ],
   "source": [
    "# Checking for number of unique values in each column of the dataset \n",
    "\n",
    "df.nunique(axis =0)"
   ]
  },
  {
   "cell_type": "code",
   "execution_count": 11,
   "id": "d5e84ebb-f2bb-4b41-ad47-4522ee8c7ba8",
   "metadata": {},
   "outputs": [
    {
     "data": {
      "text/plain": [
       "array(['Andhra Pradesh', 'Assam', 'Bihar', 'Chhattisgarh', 'Delhi', 'Goa',\n",
       "       'Gujarat', 'Haryana', 'Himachal Pradesh', 'Jammu & Kashmir',\n",
       "       'Jharkhand', 'Karnataka', 'Kerala', 'Madhya Pradesh',\n",
       "       'Maharashtra', 'Meghalaya', 'Odisha', 'Puducherry', 'Punjab',\n",
       "       'Rajasthan', 'Sikkim', 'Tamil Nadu', 'Telangana', 'Tripura',\n",
       "       'Uttar Pradesh', 'Uttarakhand', 'West Bengal'], dtype=object)"
      ]
     },
     "execution_count": 11,
     "metadata": {},
     "output_type": "execute_result"
    }
   ],
   "source": [
    "# Checking for unique values in Region column of dataset  \n",
    "\n",
    "df.Region.unique()"
   ]
  },
  {
   "cell_type": "code",
   "execution_count": null,
   "id": "d0eca282-5abf-4e4a-a855-05c103c03a53",
   "metadata": {},
   "outputs": [],
   "source": []
  },
  {
   "cell_type": "markdown",
   "id": "8769f9ce-d121-4a34-a178-adc0158d5eea",
   "metadata": {},
   "source": [
    "**Formatting of the columns**"
   ]
  },
  {
   "cell_type": "code",
   "execution_count": 12,
   "id": "b9b86214-afc5-475f-a78e-11939d5f045c",
   "metadata": {},
   "outputs": [],
   "source": [
    "# importing the datetime module\n",
    "\n",
    "import datetime as dt "
   ]
  },
  {
   "cell_type": "code",
   "execution_count": 13,
   "id": "eb0244fa-91bc-438f-9d44-4f58ba75f48e",
   "metadata": {},
   "outputs": [
    {
     "data": {
      "text/plain": [
       "Index(['States', 'Date', 'Frequency', 'Estimated Unemployment Rate',\n",
       "       'Estimated Employed', 'Estimated Labour Participation Rate', 'Region',\n",
       "       'longitude', 'latitude'],\n",
       "      dtype='object')"
      ]
     },
     "execution_count": 13,
     "metadata": {},
     "output_type": "execute_result"
    }
   ],
   "source": [
    "# Renaming of columns for better understanding \n",
    "\n",
    "df.columns= ['States', 'Date', 'Frequency', 'Estimated Unemployment Rate', 'Estimated Employed',\n",
    "              'Estimated Labour Participation Rate', 'Region', 'longitude', 'latitude']\n",
    "\n",
    "# Renamed columns are :\n",
    "\n",
    "df.columns"
   ]
  },
  {
   "cell_type": "code",
   "execution_count": 14,
   "id": "3d62caa0-912e-4da8-a90f-601006788315",
   "metadata": {},
   "outputs": [],
   "source": [
    "# Converting columns to their specific datatype format\n",
    "\n",
    "df['Date'] = pd.to_datetime(df['Date'], dayfirst=True)\n",
    "\n",
    "df['Frequency'] = df['Frequency'].astype('category')\n",
    "\n",
    "df['Region'] =df['Region'].astype('category')\n"
   ]
  },
  {
   "cell_type": "code",
   "execution_count": null,
   "id": "c072b164-2ee5-4d03-bdb2-f9b3d0c7f9d7",
   "metadata": {},
   "outputs": [],
   "source": []
  },
  {
   "cell_type": "markdown",
   "id": "287fce58-5e34-4af5-8785-b619af439cba",
   "metadata": {},
   "source": [
    "#### Cleaning of Dataset"
   ]
  },
  {
   "cell_type": "code",
   "execution_count": 15,
   "id": "0bc8d5c4-e1f5-45a6-a30c-f3229657694a",
   "metadata": {},
   "outputs": [
    {
     "data": {
      "text/html": [
       "<div>\n",
       "<style scoped>\n",
       "    .dataframe tbody tr th:only-of-type {\n",
       "        vertical-align: middle;\n",
       "    }\n",
       "\n",
       "    .dataframe tbody tr th {\n",
       "        vertical-align: top;\n",
       "    }\n",
       "\n",
       "    .dataframe thead th {\n",
       "        text-align: right;\n",
       "    }\n",
       "</style>\n",
       "<table border=\"1\" class=\"dataframe\">\n",
       "  <thead>\n",
       "    <tr style=\"text-align: right;\">\n",
       "      <th></th>\n",
       "      <th>States</th>\n",
       "      <th>Date</th>\n",
       "      <th>Frequency</th>\n",
       "      <th>Estimated Unemployment Rate</th>\n",
       "      <th>Estimated Employed</th>\n",
       "      <th>Estimated Labour Participation Rate</th>\n",
       "      <th>Region</th>\n",
       "      <th>longitude</th>\n",
       "      <th>latitude</th>\n",
       "    </tr>\n",
       "  </thead>\n",
       "  <tbody>\n",
       "    <tr>\n",
       "      <th>0</th>\n",
       "      <td>Andhra Pradesh</td>\n",
       "      <td>2020-01-31</td>\n",
       "      <td>M</td>\n",
       "      <td>5.48</td>\n",
       "      <td>16635535</td>\n",
       "      <td>41.02</td>\n",
       "      <td>South</td>\n",
       "      <td>15.9129</td>\n",
       "      <td>79.74</td>\n",
       "    </tr>\n",
       "    <tr>\n",
       "      <th>1</th>\n",
       "      <td>Andhra Pradesh</td>\n",
       "      <td>2020-02-29</td>\n",
       "      <td>M</td>\n",
       "      <td>5.83</td>\n",
       "      <td>16545652</td>\n",
       "      <td>40.90</td>\n",
       "      <td>South</td>\n",
       "      <td>15.9129</td>\n",
       "      <td>79.74</td>\n",
       "    </tr>\n",
       "    <tr>\n",
       "      <th>2</th>\n",
       "      <td>Andhra Pradesh</td>\n",
       "      <td>2020-03-31</td>\n",
       "      <td>M</td>\n",
       "      <td>5.79</td>\n",
       "      <td>15881197</td>\n",
       "      <td>39.18</td>\n",
       "      <td>South</td>\n",
       "      <td>15.9129</td>\n",
       "      <td>79.74</td>\n",
       "    </tr>\n",
       "    <tr>\n",
       "      <th>3</th>\n",
       "      <td>Andhra Pradesh</td>\n",
       "      <td>2020-04-30</td>\n",
       "      <td>M</td>\n",
       "      <td>20.51</td>\n",
       "      <td>11336911</td>\n",
       "      <td>33.10</td>\n",
       "      <td>South</td>\n",
       "      <td>15.9129</td>\n",
       "      <td>79.74</td>\n",
       "    </tr>\n",
       "    <tr>\n",
       "      <th>4</th>\n",
       "      <td>Andhra Pradesh</td>\n",
       "      <td>2020-05-31</td>\n",
       "      <td>M</td>\n",
       "      <td>17.43</td>\n",
       "      <td>12988845</td>\n",
       "      <td>36.46</td>\n",
       "      <td>South</td>\n",
       "      <td>15.9129</td>\n",
       "      <td>79.74</td>\n",
       "    </tr>\n",
       "  </tbody>\n",
       "</table>\n",
       "</div>"
      ],
      "text/plain": [
       "           States       Date Frequency  Estimated Unemployment Rate  \\\n",
       "0  Andhra Pradesh 2020-01-31         M                         5.48   \n",
       "1  Andhra Pradesh 2020-02-29         M                         5.83   \n",
       "2  Andhra Pradesh 2020-03-31         M                         5.79   \n",
       "3  Andhra Pradesh 2020-04-30         M                        20.51   \n",
       "4  Andhra Pradesh 2020-05-31         M                        17.43   \n",
       "\n",
       "   Estimated Employed  Estimated Labour Participation Rate Region  longitude  \\\n",
       "0            16635535                                41.02  South    15.9129   \n",
       "1            16545652                                40.90  South    15.9129   \n",
       "2            15881197                                39.18  South    15.9129   \n",
       "3            11336911                                33.10  South    15.9129   \n",
       "4            12988845                                36.46  South    15.9129   \n",
       "\n",
       "   latitude  \n",
       "0     79.74  \n",
       "1     79.74  \n",
       "2     79.74  \n",
       "3     79.74  \n",
       "4     79.74  "
      ]
     },
     "execution_count": 15,
     "metadata": {},
     "output_type": "execute_result"
    }
   ],
   "source": [
    "# Removing redundant variables\n",
    "\n",
    "df_cleaned = df.copy()\n",
    "\n",
    "df_cleaned.head()"
   ]
  },
  {
   "cell_type": "code",
   "execution_count": 16,
   "id": "e42b76c9-1271-4fb9-9161-2536d7d92326",
   "metadata": {},
   "outputs": [
    {
     "data": {
      "text/html": [
       "<div>\n",
       "<style scoped>\n",
       "    .dataframe tbody tr th:only-of-type {\n",
       "        vertical-align: middle;\n",
       "    }\n",
       "\n",
       "    .dataframe tbody tr th {\n",
       "        vertical-align: top;\n",
       "    }\n",
       "\n",
       "    .dataframe thead th {\n",
       "        text-align: right;\n",
       "    }\n",
       "</style>\n",
       "<table border=\"1\" class=\"dataframe\">\n",
       "  <thead>\n",
       "    <tr style=\"text-align: right;\">\n",
       "      <th></th>\n",
       "      <th>States</th>\n",
       "      <th>Date</th>\n",
       "      <th>Frequency</th>\n",
       "      <th>Estimated Unemployment Rate</th>\n",
       "      <th>Estimated Employed</th>\n",
       "      <th>Estimated Labour Participation Rate</th>\n",
       "      <th>Region</th>\n",
       "      <th>longitude</th>\n",
       "      <th>latitude</th>\n",
       "      <th>Month_int</th>\n",
       "      <th>Month_name</th>\n",
       "    </tr>\n",
       "  </thead>\n",
       "  <tbody>\n",
       "    <tr>\n",
       "      <th>0</th>\n",
       "      <td>Andhra Pradesh</td>\n",
       "      <td>2020-01-31</td>\n",
       "      <td>M</td>\n",
       "      <td>5.48</td>\n",
       "      <td>16635535</td>\n",
       "      <td>41.02</td>\n",
       "      <td>South</td>\n",
       "      <td>15.9129</td>\n",
       "      <td>79.74</td>\n",
       "      <td>1</td>\n",
       "      <td>Jan</td>\n",
       "    </tr>\n",
       "    <tr>\n",
       "      <th>1</th>\n",
       "      <td>Andhra Pradesh</td>\n",
       "      <td>2020-02-29</td>\n",
       "      <td>M</td>\n",
       "      <td>5.83</td>\n",
       "      <td>16545652</td>\n",
       "      <td>40.90</td>\n",
       "      <td>South</td>\n",
       "      <td>15.9129</td>\n",
       "      <td>79.74</td>\n",
       "      <td>2</td>\n",
       "      <td>Feb</td>\n",
       "    </tr>\n",
       "    <tr>\n",
       "      <th>2</th>\n",
       "      <td>Andhra Pradesh</td>\n",
       "      <td>2020-03-31</td>\n",
       "      <td>M</td>\n",
       "      <td>5.79</td>\n",
       "      <td>15881197</td>\n",
       "      <td>39.18</td>\n",
       "      <td>South</td>\n",
       "      <td>15.9129</td>\n",
       "      <td>79.74</td>\n",
       "      <td>3</td>\n",
       "      <td>Mar</td>\n",
       "    </tr>\n",
       "    <tr>\n",
       "      <th>3</th>\n",
       "      <td>Andhra Pradesh</td>\n",
       "      <td>2020-04-30</td>\n",
       "      <td>M</td>\n",
       "      <td>20.51</td>\n",
       "      <td>11336911</td>\n",
       "      <td>33.10</td>\n",
       "      <td>South</td>\n",
       "      <td>15.9129</td>\n",
       "      <td>79.74</td>\n",
       "      <td>4</td>\n",
       "      <td>Apr</td>\n",
       "    </tr>\n",
       "    <tr>\n",
       "      <th>4</th>\n",
       "      <td>Andhra Pradesh</td>\n",
       "      <td>2020-05-31</td>\n",
       "      <td>M</td>\n",
       "      <td>17.43</td>\n",
       "      <td>12988845</td>\n",
       "      <td>36.46</td>\n",
       "      <td>South</td>\n",
       "      <td>15.9129</td>\n",
       "      <td>79.74</td>\n",
       "      <td>5</td>\n",
       "      <td>May</td>\n",
       "    </tr>\n",
       "  </tbody>\n",
       "</table>\n",
       "</div>"
      ],
      "text/plain": [
       "           States       Date Frequency  Estimated Unemployment Rate  \\\n",
       "0  Andhra Pradesh 2020-01-31         M                         5.48   \n",
       "1  Andhra Pradesh 2020-02-29         M                         5.83   \n",
       "2  Andhra Pradesh 2020-03-31         M                         5.79   \n",
       "3  Andhra Pradesh 2020-04-30         M                        20.51   \n",
       "4  Andhra Pradesh 2020-05-31         M                        17.43   \n",
       "\n",
       "   Estimated Employed  Estimated Labour Participation Rate Region  longitude  \\\n",
       "0            16635535                                41.02  South    15.9129   \n",
       "1            16545652                                40.90  South    15.9129   \n",
       "2            15881197                                39.18  South    15.9129   \n",
       "3            11336911                                33.10  South    15.9129   \n",
       "4            12988845                                36.46  South    15.9129   \n",
       "\n",
       "   latitude  Month_int Month_name  \n",
       "0     79.74          1        Jan  \n",
       "1     79.74          2        Feb  \n",
       "2     79.74          3        Mar  \n",
       "3     79.74          4        Apr  \n",
       "4     79.74          5        May  "
      ]
     },
     "execution_count": 16,
     "metadata": {},
     "output_type": "execute_result"
    }
   ],
   "source": [
    "# Extracting Month from the Date column\n",
    "\n",
    "df_cleaned['Month'] = df_cleaned['Date'].dt.month\n",
    "\n",
    "# Converting Month column to integer \n",
    "\n",
    "df_cleaned['Month_int'] = df_cleaned['Month'].apply(lambda x : int(x))\n",
    "\n",
    "# Converting Month_int column to Calender Month \n",
    "\n",
    "df_cleaned['Month_name'] = df_cleaned['Month_int'].apply(lambda x : calendar.month_abbr[x])\n",
    "\n",
    "# Droping the original Month Column\n",
    "\n",
    "df_cleaned.drop(columns = ['Month'] , inplace = True)\n",
    "\n",
    "df_cleaned.head()"
   ]
  },
  {
   "cell_type": "code",
   "execution_count": null,
   "id": "9b5663c9-a650-4e57-9654-1bfea350583b",
   "metadata": {},
   "outputs": [],
   "source": []
  },
  {
   "cell_type": "markdown",
   "id": "95871719-d5f5-4aa0-8578-0180473fb37e",
   "metadata": {},
   "source": [
    "#### Exploratory data analysis"
   ]
  },
  {
   "cell_type": "markdown",
   "id": "4542073d-8836-4c24-907c-713172f4438e",
   "metadata": {},
   "source": [
    "**Basic Statistics**"
   ]
  },
  {
   "cell_type": "code",
   "execution_count": 17,
   "id": "60562383-b29f-457e-a1b2-380377f6cf12",
   "metadata": {},
   "outputs": [
    {
     "data": {
      "text/html": [
       "<div>\n",
       "<style scoped>\n",
       "    .dataframe tbody tr th:only-of-type {\n",
       "        vertical-align: middle;\n",
       "    }\n",
       "\n",
       "    .dataframe tbody tr th {\n",
       "        vertical-align: top;\n",
       "    }\n",
       "\n",
       "    .dataframe thead th {\n",
       "        text-align: right;\n",
       "    }\n",
       "</style>\n",
       "<table border=\"1\" class=\"dataframe\">\n",
       "  <thead>\n",
       "    <tr style=\"text-align: right;\">\n",
       "      <th></th>\n",
       "      <th>count</th>\n",
       "      <th>mean</th>\n",
       "      <th>std</th>\n",
       "      <th>min</th>\n",
       "      <th>25%</th>\n",
       "      <th>50%</th>\n",
       "      <th>75%</th>\n",
       "      <th>max</th>\n",
       "    </tr>\n",
       "  </thead>\n",
       "  <tbody>\n",
       "    <tr>\n",
       "      <th>Estimated Unemployment Rate</th>\n",
       "      <td>267.0</td>\n",
       "      <td>12.24</td>\n",
       "      <td>10.80</td>\n",
       "      <td>0.50</td>\n",
       "      <td>4.84</td>\n",
       "      <td>9.65</td>\n",
       "      <td>16.76</td>\n",
       "      <td>75.85</td>\n",
       "    </tr>\n",
       "    <tr>\n",
       "      <th>Estimated Employed</th>\n",
       "      <td>267.0</td>\n",
       "      <td>13962105.72</td>\n",
       "      <td>13366318.36</td>\n",
       "      <td>117542.00</td>\n",
       "      <td>2838930.50</td>\n",
       "      <td>9732417.00</td>\n",
       "      <td>21878686.00</td>\n",
       "      <td>59433759.00</td>\n",
       "    </tr>\n",
       "    <tr>\n",
       "      <th>Estimated Labour Participation Rate</th>\n",
       "      <td>267.0</td>\n",
       "      <td>41.68</td>\n",
       "      <td>7.85</td>\n",
       "      <td>16.77</td>\n",
       "      <td>37.26</td>\n",
       "      <td>40.39</td>\n",
       "      <td>44.06</td>\n",
       "      <td>69.69</td>\n",
       "    </tr>\n",
       "  </tbody>\n",
       "</table>\n",
       "</div>"
      ],
      "text/plain": [
       "                                     count         mean          std  \\\n",
       "Estimated Unemployment Rate          267.0        12.24        10.80   \n",
       "Estimated Employed                   267.0  13962105.72  13366318.36   \n",
       "Estimated Labour Participation Rate  267.0        41.68         7.85   \n",
       "\n",
       "                                           min         25%         50%  \\\n",
       "Estimated Unemployment Rate               0.50        4.84        9.65   \n",
       "Estimated Employed                   117542.00  2838930.50  9732417.00   \n",
       "Estimated Labour Participation Rate      16.77       37.26       40.39   \n",
       "\n",
       "                                             75%          max  \n",
       "Estimated Unemployment Rate                16.76        75.85  \n",
       "Estimated Employed                   21878686.00  59433759.00  \n",
       "Estimated Labour Participation Rate        44.06        69.69  "
      ]
     },
     "execution_count": 17,
     "metadata": {},
     "output_type": "execute_result"
    }
   ],
   "source": [
    "df_stats = df_cleaned[['Estimated Unemployment Rate','Estimated Employed','Estimated Labour Participation Rate']]\n",
    "\n",
    "round(df_stats.describe().T, 2)"
   ]
  },
  {
   "cell_type": "code",
   "execution_count": null,
   "id": "5e820648-ca7d-42d8-8aea-301d28715eb8",
   "metadata": {},
   "outputs": [],
   "source": []
  },
  {
   "cell_type": "code",
   "execution_count": 18,
   "id": "4f2b50ea-a0cc-4e5d-ab7d-e50829988bd2",
   "metadata": {},
   "outputs": [
    {
     "data": {
      "text/html": [
       "<div>\n",
       "<style scoped>\n",
       "    .dataframe tbody tr th:only-of-type {\n",
       "        vertical-align: middle;\n",
       "    }\n",
       "\n",
       "    .dataframe tbody tr th {\n",
       "        vertical-align: top;\n",
       "    }\n",
       "\n",
       "    .dataframe thead th {\n",
       "        text-align: right;\n",
       "    }\n",
       "</style>\n",
       "<table border=\"1\" class=\"dataframe\">\n",
       "  <thead>\n",
       "    <tr style=\"text-align: right;\">\n",
       "      <th></th>\n",
       "      <th>States</th>\n",
       "      <th>Date</th>\n",
       "      <th>Frequency</th>\n",
       "      <th>Estimated Unemployment Rate</th>\n",
       "      <th>Estimated Employed</th>\n",
       "      <th>Estimated Labour Participation Rate</th>\n",
       "      <th>Region</th>\n",
       "      <th>longitude</th>\n",
       "      <th>latitude</th>\n",
       "      <th>Month_int</th>\n",
       "      <th>Month_name</th>\n",
       "    </tr>\n",
       "  </thead>\n",
       "  <tbody>\n",
       "    <tr>\n",
       "      <th>0</th>\n",
       "      <td>Andhra Pradesh</td>\n",
       "      <td>2020-01-31</td>\n",
       "      <td>M</td>\n",
       "      <td>5.48</td>\n",
       "      <td>16635535</td>\n",
       "      <td>41.02</td>\n",
       "      <td>South</td>\n",
       "      <td>15.9129</td>\n",
       "      <td>79.74</td>\n",
       "      <td>1</td>\n",
       "      <td>Jan</td>\n",
       "    </tr>\n",
       "    <tr>\n",
       "      <th>1</th>\n",
       "      <td>Andhra Pradesh</td>\n",
       "      <td>2020-02-29</td>\n",
       "      <td>M</td>\n",
       "      <td>5.83</td>\n",
       "      <td>16545652</td>\n",
       "      <td>40.90</td>\n",
       "      <td>South</td>\n",
       "      <td>15.9129</td>\n",
       "      <td>79.74</td>\n",
       "      <td>2</td>\n",
       "      <td>Feb</td>\n",
       "    </tr>\n",
       "    <tr>\n",
       "      <th>2</th>\n",
       "      <td>Andhra Pradesh</td>\n",
       "      <td>2020-03-31</td>\n",
       "      <td>M</td>\n",
       "      <td>5.79</td>\n",
       "      <td>15881197</td>\n",
       "      <td>39.18</td>\n",
       "      <td>South</td>\n",
       "      <td>15.9129</td>\n",
       "      <td>79.74</td>\n",
       "      <td>3</td>\n",
       "      <td>Mar</td>\n",
       "    </tr>\n",
       "    <tr>\n",
       "      <th>3</th>\n",
       "      <td>Andhra Pradesh</td>\n",
       "      <td>2020-04-30</td>\n",
       "      <td>M</td>\n",
       "      <td>20.51</td>\n",
       "      <td>11336911</td>\n",
       "      <td>33.10</td>\n",
       "      <td>South</td>\n",
       "      <td>15.9129</td>\n",
       "      <td>79.74</td>\n",
       "      <td>4</td>\n",
       "      <td>Apr</td>\n",
       "    </tr>\n",
       "    <tr>\n",
       "      <th>4</th>\n",
       "      <td>Andhra Pradesh</td>\n",
       "      <td>2020-05-31</td>\n",
       "      <td>M</td>\n",
       "      <td>17.43</td>\n",
       "      <td>12988845</td>\n",
       "      <td>36.46</td>\n",
       "      <td>South</td>\n",
       "      <td>15.9129</td>\n",
       "      <td>79.74</td>\n",
       "      <td>5</td>\n",
       "      <td>May</td>\n",
       "    </tr>\n",
       "  </tbody>\n",
       "</table>\n",
       "</div>"
      ],
      "text/plain": [
       "           States       Date Frequency  Estimated Unemployment Rate  \\\n",
       "0  Andhra Pradesh 2020-01-31         M                         5.48   \n",
       "1  Andhra Pradesh 2020-02-29         M                         5.83   \n",
       "2  Andhra Pradesh 2020-03-31         M                         5.79   \n",
       "3  Andhra Pradesh 2020-04-30         M                        20.51   \n",
       "4  Andhra Pradesh 2020-05-31         M                        17.43   \n",
       "\n",
       "   Estimated Employed  Estimated Labour Participation Rate Region  longitude  \\\n",
       "0            16635535                                41.02  South    15.9129   \n",
       "1            16545652                                40.90  South    15.9129   \n",
       "2            15881197                                39.18  South    15.9129   \n",
       "3            11336911                                33.10  South    15.9129   \n",
       "4            12988845                                36.46  South    15.9129   \n",
       "\n",
       "   latitude  Month_int Month_name  \n",
       "0     79.74          1        Jan  \n",
       "1     79.74          2        Feb  \n",
       "2     79.74          3        Mar  \n",
       "3     79.74          4        Apr  \n",
       "4     79.74          5        May  "
      ]
     },
     "execution_count": 18,
     "metadata": {},
     "output_type": "execute_result"
    }
   ],
   "source": [
    "df_cleaned.head()"
   ]
  },
  {
   "cell_type": "code",
   "execution_count": null,
   "id": "0d06ab59-b8e6-45ce-81c3-4bc1c9e1f460",
   "metadata": {},
   "outputs": [],
   "source": []
  },
  {
   "cell_type": "code",
   "execution_count": 147,
   "id": "0a77b48c-b1de-4d9f-8100-09d3d8747600",
   "metadata": {},
   "outputs": [
    {
     "data": {
      "text/html": [
       "<div>\n",
       "<style scoped>\n",
       "    .dataframe tbody tr th:only-of-type {\n",
       "        vertical-align: middle;\n",
       "    }\n",
       "\n",
       "    .dataframe tbody tr th {\n",
       "        vertical-align: top;\n",
       "    }\n",
       "\n",
       "    .dataframe thead th {\n",
       "        text-align: right;\n",
       "    }\n",
       "</style>\n",
       "<table border=\"1\" class=\"dataframe\">\n",
       "  <thead>\n",
       "    <tr style=\"text-align: right;\">\n",
       "      <th></th>\n",
       "      <th>Region</th>\n",
       "      <th>Estimated Unemployment Rate</th>\n",
       "      <th>Estimated Employed</th>\n",
       "      <th>Estimated Labour Participation Rate</th>\n",
       "    </tr>\n",
       "  </thead>\n",
       "  <tbody>\n",
       "    <tr>\n",
       "      <th>0</th>\n",
       "      <td>East</td>\n",
       "      <td>13.92</td>\n",
       "      <td>19602366.90</td>\n",
       "      <td>40.11</td>\n",
       "    </tr>\n",
       "    <tr>\n",
       "      <th>1</th>\n",
       "      <td>North</td>\n",
       "      <td>15.89</td>\n",
       "      <td>13072487.92</td>\n",
       "      <td>38.70</td>\n",
       "    </tr>\n",
       "    <tr>\n",
       "      <th>2</th>\n",
       "      <td>Northeast</td>\n",
       "      <td>10.95</td>\n",
       "      <td>3617105.53</td>\n",
       "      <td>52.06</td>\n",
       "    </tr>\n",
       "    <tr>\n",
       "      <th>3</th>\n",
       "      <td>South</td>\n",
       "      <td>10.45</td>\n",
       "      <td>14040589.33</td>\n",
       "      <td>40.44</td>\n",
       "    </tr>\n",
       "    <tr>\n",
       "      <th>4</th>\n",
       "      <td>West</td>\n",
       "      <td>8.24</td>\n",
       "      <td>18623512.72</td>\n",
       "      <td>41.26</td>\n",
       "    </tr>\n",
       "  </tbody>\n",
       "</table>\n",
       "</div>"
      ],
      "text/plain": [
       "      Region  Estimated Unemployment Rate  Estimated Employed  \\\n",
       "0       East                        13.92         19602366.90   \n",
       "1      North                        15.89         13072487.92   \n",
       "2  Northeast                        10.95          3617105.53   \n",
       "3      South                        10.45         14040589.33   \n",
       "4       West                         8.24         18623512.72   \n",
       "\n",
       "   Estimated Labour Participation Rate  \n",
       "0                                40.11  \n",
       "1                                38.70  \n",
       "2                                52.06  \n",
       "3                                40.44  \n",
       "4                                41.26  "
      ]
     },
     "execution_count": 147,
     "metadata": {},
     "output_type": "execute_result"
    }
   ],
   "source": [
    "# Making Statistics of dataframe based on different Regions . \n",
    "\n",
    "Rgn_stats = df_cleaned.groupby('Region') [['Estimated Unemployment Rate', 'Estimated Employed', 'Estimated Labour Participation Rate'] ].mean().round(decimals= 2).reset_index()\n",
    "\n",
    "Rgn_stats.head()"
   ]
  },
  {
   "cell_type": "code",
   "execution_count": null,
   "id": "34f00d6b-447b-4c53-ba0a-53a9b3512602",
   "metadata": {},
   "outputs": [],
   "source": []
  },
  {
   "cell_type": "markdown",
   "id": "43aed25e-c76e-477d-89dc-f610243064c7",
   "metadata": {},
   "source": [
    "**Heatmap Formation**"
   ]
  },
  {
   "cell_type": "code",
   "execution_count": 148,
   "id": "c2444fb3-28fa-471d-b0c9-e6bf1ac2d723",
   "metadata": {},
   "outputs": [
    {
     "data": {
      "text/html": [
       "<div>\n",
       "<style scoped>\n",
       "    .dataframe tbody tr th:only-of-type {\n",
       "        vertical-align: middle;\n",
       "    }\n",
       "\n",
       "    .dataframe tbody tr th {\n",
       "        vertical-align: top;\n",
       "    }\n",
       "\n",
       "    .dataframe thead th {\n",
       "        text-align: right;\n",
       "    }\n",
       "</style>\n",
       "<table border=\"1\" class=\"dataframe\">\n",
       "  <thead>\n",
       "    <tr style=\"text-align: right;\">\n",
       "      <th></th>\n",
       "      <th>Estimated Unemployment Rate</th>\n",
       "      <th>Estimated Employed</th>\n",
       "      <th>Estimated Labour Participation Rate</th>\n",
       "      <th>longitude</th>\n",
       "      <th>latitude</th>\n",
       "      <th>Month_int</th>\n",
       "    </tr>\n",
       "  </thead>\n",
       "  <tbody>\n",
       "    <tr>\n",
       "      <th>Estimated Unemployment Rate</th>\n",
       "      <td>1.000000</td>\n",
       "      <td>-0.245176</td>\n",
       "      <td>-0.073540</td>\n",
       "      <td>0.149976</td>\n",
       "      <td>-0.023976</td>\n",
       "      <td>-0.109654</td>\n",
       "    </tr>\n",
       "    <tr>\n",
       "      <th>Estimated Employed</th>\n",
       "      <td>-0.245176</td>\n",
       "      <td>1.000000</td>\n",
       "      <td>-0.047948</td>\n",
       "      <td>-0.113664</td>\n",
       "      <td>-0.119321</td>\n",
       "      <td>-0.002507</td>\n",
       "    </tr>\n",
       "    <tr>\n",
       "      <th>Estimated Labour Participation Rate</th>\n",
       "      <td>-0.073540</td>\n",
       "      <td>-0.047948</td>\n",
       "      <td>1.000000</td>\n",
       "      <td>0.080372</td>\n",
       "      <td>0.397836</td>\n",
       "      <td>-0.061983</td>\n",
       "    </tr>\n",
       "    <tr>\n",
       "      <th>longitude</th>\n",
       "      <td>0.149976</td>\n",
       "      <td>-0.113664</td>\n",
       "      <td>0.080372</td>\n",
       "      <td>1.000000</td>\n",
       "      <td>0.125895</td>\n",
       "      <td>0.011294</td>\n",
       "    </tr>\n",
       "    <tr>\n",
       "      <th>latitude</th>\n",
       "      <td>-0.023976</td>\n",
       "      <td>-0.119321</td>\n",
       "      <td>0.397836</td>\n",
       "      <td>0.125895</td>\n",
       "      <td>1.000000</td>\n",
       "      <td>0.013002</td>\n",
       "    </tr>\n",
       "    <tr>\n",
       "      <th>Month_int</th>\n",
       "      <td>-0.109654</td>\n",
       "      <td>-0.002507</td>\n",
       "      <td>-0.061983</td>\n",
       "      <td>0.011294</td>\n",
       "      <td>0.013002</td>\n",
       "      <td>1.000000</td>\n",
       "    </tr>\n",
       "  </tbody>\n",
       "</table>\n",
       "</div>"
      ],
      "text/plain": [
       "                                     Estimated Unemployment Rate  \\\n",
       "Estimated Unemployment Rate                             1.000000   \n",
       "Estimated Employed                                     -0.245176   \n",
       "Estimated Labour Participation Rate                    -0.073540   \n",
       "longitude                                               0.149976   \n",
       "latitude                                               -0.023976   \n",
       "Month_int                                              -0.109654   \n",
       "\n",
       "                                     Estimated Employed  \\\n",
       "Estimated Unemployment Rate                   -0.245176   \n",
       "Estimated Employed                             1.000000   \n",
       "Estimated Labour Participation Rate           -0.047948   \n",
       "longitude                                     -0.113664   \n",
       "latitude                                      -0.119321   \n",
       "Month_int                                     -0.002507   \n",
       "\n",
       "                                     Estimated Labour Participation Rate  \\\n",
       "Estimated Unemployment Rate                                    -0.073540   \n",
       "Estimated Employed                                             -0.047948   \n",
       "Estimated Labour Participation Rate                             1.000000   \n",
       "longitude                                                       0.080372   \n",
       "latitude                                                        0.397836   \n",
       "Month_int                                                      -0.061983   \n",
       "\n",
       "                                     longitude  latitude  Month_int  \n",
       "Estimated Unemployment Rate           0.149976 -0.023976  -0.109654  \n",
       "Estimated Employed                   -0.113664 -0.119321  -0.002507  \n",
       "Estimated Labour Participation Rate   0.080372  0.397836  -0.061983  \n",
       "longitude                             1.000000  0.125895   0.011294  \n",
       "latitude                              0.125895  1.000000   0.013002  \n",
       "Month_int                             0.011294  0.013002   1.000000  "
      ]
     },
     "execution_count": 148,
     "metadata": {},
     "output_type": "execute_result"
    }
   ],
   "source": [
    "# Making of a dataframe consisiting of the correlation between features os the dataframe \n",
    "\n",
    "hm = df_cleaned.corr(numeric_only = True)\n",
    "\n",
    "hm.head(10)"
   ]
  },
  {
   "cell_type": "code",
   "execution_count": null,
   "id": "7cd5ce0b-14ef-4c3b-8566-fc80101c64f4",
   "metadata": {},
   "outputs": [],
   "source": []
  },
  {
   "cell_type": "code",
   "execution_count": 149,
   "id": "822ad49b-ae7b-41bb-955a-21a33922b523",
   "metadata": {},
   "outputs": [
    {
     "data": {
      "image/png": "[encoded data removed]",
      "text/plain": [
       "<Figure size 1000x500 with 2 Axes>"
      ]
     },
     "metadata": {},
     "output_type": "display_data"
    }
   ],
   "source": [
    "# Formation of heatmap for the above correlation \n",
    "\n",
    "plt.figure(figsize =(10,5))\n",
    "sns.heatmap(hm, annot = True , cmap = 'rocket') ;"
   ]
  },
  {
   "cell_type": "code",
   "execution_count": null,
   "id": "943bdf76-55bd-4cd1-a570-fbf8cedd70f7",
   "metadata": {},
   "outputs": [],
   "source": []
  },
  {
   "cell_type": "markdown",
   "id": "27fdc71f-3d26-4d9d-8722-569fae903574",
   "metadata": {},
   "source": [
    "**Box plot Formation**"
   ]
  },
  {
   "cell_type": "code",
   "execution_count": 31,
   "id": "9228a5aa-e9bd-4fc9-9df0-67f8873850db",
   "metadata": {},
   "outputs": [
    {
     "data": {
      "application/vnd.plotly.v1+json": {
       "config": {
        "plotlyServerURL": "https://plot.ly"
       },
       "data": [
        {
         "alignmentgroup": "True",
         "hovertemplate": "States=%{x}<br>Estimated Unemployment Rate=%{y}<extra></extra>",
         "legendgroup": "Andhra Pradesh",
         "marker": {
          "color": "#636efa"
         },
         "name": "Andhra Pradesh",
         "notched": false,
         "offsetgroup": "Andhra Pradesh",
         "orientation": "v",
         "showlegend": true,
         "type": "box",
         "x": [
          "Andhra Pradesh",
          "Andhra Pradesh",
          "Andhra Pradesh",
          "Andhra Pradesh",
          "Andhra Pradesh",
          "Andhra Pradesh",
          "Andhra Pradesh",
          "Andhra Pradesh",
          "Andhra Pradesh",
          "Andhra Pradesh"
         ],
         "x0": " ",
         "xaxis": "x",
         "y": [
          5.48,
          5.83,
          5.79,
          20.51,
          17.43,
          3.31,
          8.34,
          6.96,
          6.4,
          6.59
         ],
         "y0": " ",
         "yaxis": "y"
        },
        {
         "alignmentgroup": "True",
         "hovertemplate": "States=%{x}<br>Estimated Unemployment Rate=%{y}<extra></extra>",
         "legendgroup": "Assam",
         "marker": {
          "color": "#EF553B"
         },
         "name": "Assam",
         "notched": false,
         "offsetgroup": "Assam",
         "orientation": "v",
         "showlegend": true,
         "type": "box",
         "x": [
          "Assam",
          "Assam",
          "Assam",
          "Assam",
          "Assam",
          "Assam",
          "Assam",
          "Assam",
          "Assam",
          "Assam"
         ],
         "x0": " ",
         "xaxis": "x",
         "y": [
          4.66,
          4.41,
          4.77,
          11.06,
          9.55,
          0.6,
          3.77,
          5.53,
          1.19,
          3.02
         ],
         "y0": " ",
         "yaxis": "y"
        },
        {
         "alignmentgroup": "True",
         "hovertemplate": "States=%{x}<br>Estimated Unemployment Rate=%{y}<extra></extra>",
         "legendgroup": "Bihar",
         "marker": {
          "color": "#00cc96"
         },
         "name": "Bihar",
         "notched": false,
         "offsetgroup": "Bihar",
         "orientation": "v",
         "showlegend": true,
         "type": "box",
         "x": [
          "Bihar",
          "Bihar",
          "Bihar",
          "Bihar",
          "Bihar",
          "Bihar",
          "Bihar",
          "Bihar",
          "Bihar",
          "Bihar"
         ],
         "x0": " ",
         "xaxis": "x",
         "y": [
          10.61,
          10.29,
          15.43,
          46.64,
          45.96,
          17.82,
          12.79,
          13.44,
          11.91,
          9.82
         ],
         "y0": " ",
         "yaxis": "y"
        },
        {
         "alignmentgroup": "True",
         "hovertemplate": "States=%{x}<br>Estimated Unemployment Rate=%{y}<extra></extra>",
         "legendgroup": "Chhattisgarh",
         "marker": {
          "color": "#ab63fa"
         },
         "name": "Chhattisgarh",
         "notched": false,
         "offsetgroup": "Chhattisgarh",
         "orientation": "v",
         "showlegend": true,
         "type": "box",
         "x": [
          "Chhattisgarh",
          "Chhattisgarh",
          "Chhattisgarh",
          "Chhattisgarh",
          "Chhattisgarh",
          "Chhattisgarh",
          "Chhattisgarh",
          "Chhattisgarh",
          "Chhattisgarh",
          "Chhattisgarh"
         ],
         "x0": " ",
         "xaxis": "x",
         "y": [
          9.65,
          8.38,
          7.54,
          3.41,
          10.5,
          14.23,
          10.27,
          5.63,
          1.96,
          6.62
         ],
         "y0": " ",
         "yaxis": "y"
        },
        {
         "alignmentgroup": "True",
         "hovertemplate": "States=%{x}<br>Estimated Unemployment Rate=%{y}<extra></extra>",
         "legendgroup": "Delhi",
         "marker": {
          "color": "#FFA15A"
         },
         "name": "Delhi",
         "notched": false,
         "offsetgroup": "Delhi",
         "orientation": "v",
         "showlegend": true,
         "type": "box",
         "x": [
          "Delhi",
          "Delhi",
          "Delhi",
          "Delhi",
          "Delhi",
          "Delhi",
          "Delhi",
          "Delhi",
          "Delhi",
          "Delhi"
         ],
         "x0": " ",
         "xaxis": "x",
         "y": [
          22.23,
          14.84,
          17.04,
          16.68,
          42.27,
          18.19,
          20.3,
          13.79,
          12.53,
          6.27
         ],
         "y0": " ",
         "yaxis": "y"
        },
        {
         "alignmentgroup": "True",
         "hovertemplate": "States=%{x}<br>Estimated Unemployment Rate=%{y}<extra></extra>",
         "legendgroup": "Goa",
         "marker": {
          "color": "#19d3f3"
         },
         "name": "Goa",
         "notched": false,
         "offsetgroup": "Goa",
         "orientation": "v",
         "showlegend": true,
         "type": "box",
         "x": [
          "Goa",
          "Goa",
          "Goa",
          "Goa",
          "Goa",
          "Goa",
          "Goa",
          "Goa",
          "Goa",
          "Goa"
         ],
         "x0": " ",
         "xaxis": "x",
         "y": [
          8.89,
          2.81,
          5.25,
          13.31,
          21.25,
          9.96,
          17.07,
          16.21,
          15.38,
          11.54
         ],
         "y0": " ",
         "yaxis": "y"
        },
        {
         "alignmentgroup": "True",
         "hovertemplate": "States=%{x}<br>Estimated Unemployment Rate=%{y}<extra></extra>",
         "legendgroup": "Gujarat",
         "marker": {
          "color": "#FF6692"
         },
         "name": "Gujarat",
         "notched": false,
         "offsetgroup": "Gujarat",
         "orientation": "v",
         "showlegend": true,
         "type": "box",
         "x": [
          "Gujarat",
          "Gujarat",
          "Gujarat",
          "Gujarat",
          "Gujarat",
          "Gujarat",
          "Gujarat",
          "Gujarat",
          "Gujarat",
          "Gujarat"
         ],
         "x0": " ",
         "xaxis": "x",
         "y": [
          5.54,
          6.38,
          6.66,
          18.71,
          12.11,
          3.2,
          1.84,
          1.87,
          3.42,
          4.03
         ],
         "y0": " ",
         "yaxis": "y"
        },
        {
         "alignmentgroup": "True",
         "hovertemplate": "States=%{x}<br>Estimated Unemployment Rate=%{y}<extra></extra>",
         "legendgroup": "Haryana",
         "marker": {
          "color": "#B6E880"
         },
         "name": "Haryana",
         "notched": false,
         "offsetgroup": "Haryana",
         "orientation": "v",
         "showlegend": true,
         "type": "box",
         "x": [
          "Haryana",
          "Haryana",
          "Haryana",
          "Haryana",
          "Haryana",
          "Haryana",
          "Haryana",
          "Haryana",
          "Haryana",
          "Haryana"
         ],
         "x0": " ",
         "xaxis": "x",
         "y": [
          20.34,
          25.77,
          25.05,
          43.22,
          29.02,
          26.7,
          24.18,
          33.5,
          19.68,
          27.31
         ],
         "y0": " ",
         "yaxis": "y"
        },
        {
         "alignmentgroup": "True",
         "hovertemplate": "States=%{x}<br>Estimated Unemployment Rate=%{y}<extra></extra>",
         "legendgroup": "Himachal Pradesh",
         "marker": {
          "color": "#FF97FF"
         },
         "name": "Himachal Pradesh",
         "notched": false,
         "offsetgroup": "Himachal Pradesh",
         "orientation": "v",
         "showlegend": true,
         "type": "box",
         "x": [
          "Himachal Pradesh",
          "Himachal Pradesh",
          "Himachal Pradesh",
          "Himachal Pradesh",
          "Himachal Pradesh",
          "Himachal Pradesh",
          "Himachal Pradesh",
          "Himachal Pradesh",
          "Himachal Pradesh",
          "Himachal Pradesh"
         ],
         "x0": " ",
         "xaxis": "x",
         "y": [
          16.83,
          16.84,
          18.76,
          2.2,
          26.95,
          13.47,
          24.31,
          15.79,
          12.04,
          13.46
         ],
         "y0": " ",
         "yaxis": "y"
        },
        {
         "alignmentgroup": "True",
         "hovertemplate": "States=%{x}<br>Estimated Unemployment Rate=%{y}<extra></extra>",
         "legendgroup": "Jammu & Kashmir",
         "marker": {
          "color": "#FECB52"
         },
         "name": "Jammu & Kashmir",
         "notched": false,
         "offsetgroup": "Jammu & Kashmir",
         "orientation": "v",
         "showlegend": true,
         "type": "box",
         "x": [
          "Jammu & Kashmir",
          "Jammu & Kashmir",
          "Jammu & Kashmir",
          "Jammu & Kashmir",
          "Jammu & Kashmir",
          "Jammu & Kashmir",
          "Jammu & Kashmir",
          "Jammu & Kashmir",
          "Jammu & Kashmir"
         ],
         "x0": " ",
         "xaxis": "x",
         "y": [
          21.08,
          20.78,
          15.5,
          18.74,
          17.92,
          10.88,
          11.09,
          16.17,
          16.14
         ],
         "y0": " ",
         "yaxis": "y"
        },
        {
         "alignmentgroup": "True",
         "hovertemplate": "States=%{x}<br>Estimated Unemployment Rate=%{y}<extra></extra>",
         "legendgroup": "Jharkhand",
         "marker": {
          "color": "#636efa"
         },
         "name": "Jharkhand",
         "notched": false,
         "offsetgroup": "Jharkhand",
         "orientation": "v",
         "showlegend": true,
         "type": "box",
         "x": [
          "Jharkhand",
          "Jharkhand",
          "Jharkhand",
          "Jharkhand",
          "Jharkhand",
          "Jharkhand",
          "Jharkhand",
          "Jharkhand",
          "Jharkhand",
          "Jharkhand"
         ],
         "x0": " ",
         "xaxis": "x",
         "y": [
          10.61,
          11.85,
          8.23,
          47.09,
          59.23,
          20.95,
          7.63,
          9.76,
          8.24,
          11.8
         ],
         "y0": " ",
         "yaxis": "y"
        },
        {
         "alignmentgroup": "True",
         "hovertemplate": "States=%{x}<br>Estimated Unemployment Rate=%{y}<extra></extra>",
         "legendgroup": "Karnataka",
         "marker": {
          "color": "#EF553B"
         },
         "name": "Karnataka",
         "notched": false,
         "offsetgroup": "Karnataka",
         "orientation": "v",
         "showlegend": true,
         "type": "box",
         "x": [
          "Karnataka",
          "Karnataka",
          "Karnataka",
          "Karnataka",
          "Karnataka",
          "Karnataka",
          "Karnataka",
          "Karnataka",
          "Karnataka",
          "Karnataka"
         ],
         "x0": " ",
         "xaxis": "x",
         "y": [
          2.86,
          3.61,
          3.46,
          29.84,
          19.97,
          8.44,
          4.01,
          0.5,
          2.41,
          1.58
         ],
         "y0": " ",
         "yaxis": "y"
        },
        {
         "alignmentgroup": "True",
         "hovertemplate": "States=%{x}<br>Estimated Unemployment Rate=%{y}<extra></extra>",
         "legendgroup": "Kerala",
         "marker": {
          "color": "#00cc96"
         },
         "name": "Kerala",
         "notched": false,
         "offsetgroup": "Kerala",
         "orientation": "v",
         "showlegend": true,
         "type": "box",
         "x": [
          "Kerala",
          "Kerala",
          "Kerala",
          "Kerala",
          "Kerala",
          "Kerala",
          "Kerala",
          "Kerala",
          "Kerala",
          "Kerala"
         ],
         "x0": " ",
         "xaxis": "x",
         "y": [
          5.31,
          7.6,
          8.99,
          16.99,
          17.88,
          9.71,
          7.09,
          10.98,
          5.91,
          3.88
         ],
         "y0": " ",
         "yaxis": "y"
        },
        {
         "alignmentgroup": "True",
         "hovertemplate": "States=%{x}<br>Estimated Unemployment Rate=%{y}<extra></extra>",
         "legendgroup": "Madhya Pradesh",
         "marker": {
          "color": "#ab63fa"
         },
         "name": "Madhya Pradesh",
         "notched": false,
         "offsetgroup": "Madhya Pradesh",
         "orientation": "v",
         "showlegend": true,
         "type": "box",
         "x": [
          "Madhya Pradesh",
          "Madhya Pradesh",
          "Madhya Pradesh",
          "Madhya Pradesh",
          "Madhya Pradesh",
          "Madhya Pradesh",
          "Madhya Pradesh",
          "Madhya Pradesh",
          "Madhya Pradesh",
          "Madhya Pradesh"
         ],
         "x0": " ",
         "xaxis": "x",
         "y": [
          4.11,
          4.57,
          2.22,
          12.36,
          21.98,
          6.48,
          5.08,
          4.7,
          3.91,
          3.13
         ],
         "y0": " ",
         "yaxis": "y"
        },
        {
         "alignmentgroup": "True",
         "hovertemplate": "States=%{x}<br>Estimated Unemployment Rate=%{y}<extra></extra>",
         "legendgroup": "Maharashtra",
         "marker": {
          "color": "#FFA15A"
         },
         "name": "Maharashtra",
         "notched": false,
         "offsetgroup": "Maharashtra",
         "orientation": "v",
         "showlegend": true,
         "type": "box",
         "x": [
          "Maharashtra",
          "Maharashtra",
          "Maharashtra",
          "Maharashtra",
          "Maharashtra",
          "Maharashtra",
          "Maharashtra",
          "Maharashtra",
          "Maharashtra",
          "Maharashtra"
         ],
         "x0": " ",
         "xaxis": "x",
         "y": [
          4.95,
          4.69,
          5.79,
          20.9,
          15.46,
          9.23,
          3.89,
          6.23,
          4.55,
          4.1
         ],
         "y0": " ",
         "yaxis": "y"
        },
        {
         "alignmentgroup": "True",
         "hovertemplate": "States=%{x}<br>Estimated Unemployment Rate=%{y}<extra></extra>",
         "legendgroup": "Meghalaya",
         "marker": {
          "color": "#19d3f3"
         },
         "name": "Meghalaya",
         "notched": false,
         "offsetgroup": "Meghalaya",
         "orientation": "v",
         "showlegend": true,
         "type": "box",
         "x": [
          "Meghalaya",
          "Meghalaya",
          "Meghalaya",
          "Meghalaya",
          "Meghalaya",
          "Meghalaya",
          "Meghalaya",
          "Meghalaya",
          "Meghalaya",
          "Meghalaya"
         ],
         "x0": " ",
         "xaxis": "x",
         "y": [
          1.66,
          3.59,
          1.58,
          10.03,
          5.92,
          1.15,
          2.1,
          3.74,
          4.29,
          4.6
         ],
         "y0": " ",
         "yaxis": "y"
        },
        {
         "alignmentgroup": "True",
         "hovertemplate": "States=%{x}<br>Estimated Unemployment Rate=%{y}<extra></extra>",
         "legendgroup": "Odisha",
         "marker": {
          "color": "#FF6692"
         },
         "name": "Odisha",
         "notched": false,
         "offsetgroup": "Odisha",
         "orientation": "v",
         "showlegend": true,
         "type": "box",
         "x": [
          "Odisha",
          "Odisha",
          "Odisha",
          "Odisha",
          "Odisha",
          "Odisha",
          "Odisha",
          "Odisha",
          "Odisha",
          "Odisha"
         ],
         "x0": " ",
         "xaxis": "x",
         "y": [
          1.9,
          3.12,
          13.08,
          23.76,
          11.41,
          3.77,
          1.88,
          1.42,
          2.1,
          2.18
         ],
         "y0": " ",
         "yaxis": "y"
        },
        {
         "alignmentgroup": "True",
         "hovertemplate": "States=%{x}<br>Estimated Unemployment Rate=%{y}<extra></extra>",
         "legendgroup": "Puducherry",
         "marker": {
          "color": "#B6E880"
         },
         "name": "Puducherry",
         "notched": false,
         "offsetgroup": "Puducherry",
         "orientation": "v",
         "showlegend": true,
         "type": "box",
         "x": [
          "Puducherry",
          "Puducherry",
          "Puducherry",
          "Puducherry",
          "Puducherry",
          "Puducherry",
          "Puducherry",
          "Puducherry",
          "Puducherry",
          "Puducherry"
         ],
         "x0": " ",
         "xaxis": "x",
         "y": [
          0.58,
          1.76,
          1.2,
          75.85,
          58.19,
          4.24,
          15.47,
          5.05,
          10.9,
          6.18
         ],
         "y0": " ",
         "yaxis": "y"
        },
        {
         "alignmentgroup": "True",
         "hovertemplate": "States=%{x}<br>Estimated Unemployment Rate=%{y}<extra></extra>",
         "legendgroup": "Punjab",
         "marker": {
          "color": "#FF97FF"
         },
         "name": "Punjab",
         "notched": false,
         "offsetgroup": "Punjab",
         "orientation": "v",
         "showlegend": true,
         "type": "box",
         "x": [
          "Punjab",
          "Punjab",
          "Punjab",
          "Punjab",
          "Punjab",
          "Punjab",
          "Punjab",
          "Punjab",
          "Punjab",
          "Punjab"
         ],
         "x0": " ",
         "xaxis": "x",
         "y": [
          11.11,
          10.97,
          10.32,
          2.86,
          28.33,
          16.55,
          9.19,
          10.99,
          9.61,
          9.88
         ],
         "y0": " ",
         "yaxis": "y"
        },
        {
         "alignmentgroup": "True",
         "hovertemplate": "States=%{x}<br>Estimated Unemployment Rate=%{y}<extra></extra>",
         "legendgroup": "Rajasthan",
         "marker": {
          "color": "#FECB52"
         },
         "name": "Rajasthan",
         "notched": false,
         "offsetgroup": "Rajasthan",
         "orientation": "v",
         "showlegend": true,
         "type": "box",
         "x": [
          "Rajasthan",
          "Rajasthan",
          "Rajasthan",
          "Rajasthan",
          "Rajasthan",
          "Rajasthan",
          "Rajasthan",
          "Rajasthan",
          "Rajasthan",
          "Rajasthan"
         ],
         "x0": " ",
         "xaxis": "x",
         "y": [
          10.97,
          15.16,
          11.9,
          17.7,
          15.74,
          14.39,
          15.81,
          17.51,
          15.35,
          24.15
         ],
         "y0": " ",
         "yaxis": "y"
        },
        {
         "alignmentgroup": "True",
         "hovertemplate": "States=%{x}<br>Estimated Unemployment Rate=%{y}<extra></extra>",
         "legendgroup": "Sikkim",
         "marker": {
          "color": "#636efa"
         },
         "name": "Sikkim",
         "notched": false,
         "offsetgroup": "Sikkim",
         "orientation": "v",
         "showlegend": true,
         "type": "box",
         "x": [
          "Sikkim",
          "Sikkim",
          "Sikkim",
          "Sikkim",
          "Sikkim",
          "Sikkim",
          "Sikkim",
          "Sikkim"
         ],
         "x0": " ",
         "xaxis": "x",
         "y": [
          23.57,
          2.28,
          24.51,
          4.46,
          4.45,
          12.49,
          5.7,
          0.88
         ],
         "y0": " ",
         "yaxis": "y"
        },
        {
         "alignmentgroup": "True",
         "hovertemplate": "States=%{x}<br>Estimated Unemployment Rate=%{y}<extra></extra>",
         "legendgroup": "Tamil Nadu",
         "marker": {
          "color": "#EF553B"
         },
         "name": "Tamil Nadu",
         "notched": false,
         "offsetgroup": "Tamil Nadu",
         "orientation": "v",
         "showlegend": true,
         "type": "box",
         "x": [
          "Tamil Nadu",
          "Tamil Nadu",
          "Tamil Nadu",
          "Tamil Nadu",
          "Tamil Nadu",
          "Tamil Nadu",
          "Tamil Nadu",
          "Tamil Nadu",
          "Tamil Nadu",
          "Tamil Nadu"
         ],
         "x0": " ",
         "xaxis": "x",
         "y": [
          1.57,
          2.09,
          6.4,
          49.83,
          33.16,
          12.2,
          6.81,
          2.65,
          5,
          2.16
         ],
         "y0": " ",
         "yaxis": "y"
        },
        {
         "alignmentgroup": "True",
         "hovertemplate": "States=%{x}<br>Estimated Unemployment Rate=%{y}<extra></extra>",
         "legendgroup": "Telangana",
         "marker": {
          "color": "#00cc96"
         },
         "name": "Telangana",
         "notched": false,
         "offsetgroup": "Telangana",
         "orientation": "v",
         "showlegend": true,
         "type": "box",
         "x": [
          "Telangana",
          "Telangana",
          "Telangana",
          "Telangana",
          "Telangana",
          "Telangana",
          "Telangana",
          "Telangana",
          "Telangana",
          "Telangana"
         ],
         "x0": " ",
         "xaxis": "x",
         "y": [
          5.49,
          8.29,
          5.77,
          6.25,
          14.7,
          10.55,
          5.36,
          5.79,
          3.27,
          2.86
         ],
         "y0": " ",
         "yaxis": "y"
        },
        {
         "alignmentgroup": "True",
         "hovertemplate": "States=%{x}<br>Estimated Unemployment Rate=%{y}<extra></extra>",
         "legendgroup": "Tripura",
         "marker": {
          "color": "#ab63fa"
         },
         "name": "Tripura",
         "notched": false,
         "offsetgroup": "Tripura",
         "orientation": "v",
         "showlegend": true,
         "type": "box",
         "x": [
          "Tripura",
          "Tripura",
          "Tripura",
          "Tripura",
          "Tripura",
          "Tripura",
          "Tripura",
          "Tripura",
          "Tripura",
          "Tripura"
         ],
         "x0": " ",
         "xaxis": "x",
         "y": [
          32.67,
          28.4,
          29.95,
          41.23,
          21.51,
          21.71,
          18.24,
          27.92,
          17.35,
          11.57
         ],
         "y0": " ",
         "yaxis": "y"
        },
        {
         "alignmentgroup": "True",
         "hovertemplate": "States=%{x}<br>Estimated Unemployment Rate=%{y}<extra></extra>",
         "legendgroup": "Uttar Pradesh",
         "marker": {
          "color": "#FFA15A"
         },
         "name": "Uttar Pradesh",
         "notched": false,
         "offsetgroup": "Uttar Pradesh",
         "orientation": "v",
         "showlegend": true,
         "type": "box",
         "x": [
          "Uttar Pradesh",
          "Uttar Pradesh",
          "Uttar Pradesh",
          "Uttar Pradesh",
          "Uttar Pradesh",
          "Uttar Pradesh",
          "Uttar Pradesh",
          "Uttar Pradesh",
          "Uttar Pradesh",
          "Uttar Pradesh"
         ],
         "x0": " ",
         "xaxis": "x",
         "y": [
          7.58,
          8.98,
          10.11,
          21.54,
          20.41,
          9.47,
          5.56,
          5.79,
          4.18,
          3.75
         ],
         "y0": " ",
         "yaxis": "y"
        },
        {
         "alignmentgroup": "True",
         "hovertemplate": "States=%{x}<br>Estimated Unemployment Rate=%{y}<extra></extra>",
         "legendgroup": "Uttarakhand",
         "marker": {
          "color": "#19d3f3"
         },
         "name": "Uttarakhand",
         "notched": false,
         "offsetgroup": "Uttarakhand",
         "orientation": "v",
         "showlegend": true,
         "type": "box",
         "x": [
          "Uttarakhand",
          "Uttarakhand",
          "Uttarakhand",
          "Uttarakhand",
          "Uttarakhand",
          "Uttarakhand",
          "Uttarakhand",
          "Uttarakhand",
          "Uttarakhand",
          "Uttarakhand"
         ],
         "x0": " ",
         "xaxis": "x",
         "y": [
          5.49,
          4.99,
          19.85,
          6.48,
          8.01,
          8.61,
          12.38,
          14.26,
          22.26,
          9.23
         ],
         "y0": " ",
         "yaxis": "y"
        },
        {
         "alignmentgroup": "True",
         "hovertemplate": "States=%{x}<br>Estimated Unemployment Rate=%{y}<extra></extra>",
         "legendgroup": "West Bengal",
         "marker": {
          "color": "#FF6692"
         },
         "name": "West Bengal",
         "notched": false,
         "offsetgroup": "West Bengal",
         "orientation": "v",
         "showlegend": true,
         "type": "box",
         "x": [
          "West Bengal",
          "West Bengal",
          "West Bengal",
          "West Bengal",
          "West Bengal",
          "West Bengal",
          "West Bengal",
          "West Bengal",
          "West Bengal",
          "West Bengal"
         ],
         "x0": " ",
         "xaxis": "x",
         "y": [
          6.94,
          4.92,
          6.92,
          17.41,
          17.41,
          7.29,
          6.83,
          14.87,
          9.35,
          9.98
         ],
         "y0": " ",
         "yaxis": "y"
        }
       ],
       "layout": {
        "autosize": true,
        "boxmode": "overlay",
        "legend": {
         "title": {
          "text": "States"
         },
         "tracegroupgap": 0
        },
        "template": {
         "data": {
          "bar": [
           {
            "error_x": {
             "color": "#2a3f5f"
            },
            "error_y": {
             "color": "#2a3f5f"
            },
            "marker": {
             "line": {
              "color": "#E5ECF6",
              "width": 0.5
             },
             "pattern": {
              "fillmode": "overlay",
              "size": 10,
              "solidity": 0.2
             }
            },
            "type": "bar"
           }
          ],
          "barpolar": [
           {
            "marker": {
             "line": {
              "color": "#E5ECF6",
              "width": 0.5
             },
             "pattern": {
              "fillmode": "overlay",
              "size": 10,
              "solidity": 0.2
             }
            },
            "type": "barpolar"
           }
          ],
          "carpet": [
           {
            "aaxis": {
             "endlinecolor": "#2a3f5f",
             "gridcolor": "white",
             "linecolor": "white",
             "minorgridcolor": "white",
             "startlinecolor": "#2a3f5f"
            },
            "baxis": {
             "endlinecolor": "#2a3f5f",
             "gridcolor": "white",
             "linecolor": "white",
             "minorgridcolor": "white",
             "startlinecolor": "#2a3f5f"
            },
            "type": "carpet"
           }
          ],
          "choropleth": [
           {
            "colorbar": {
             "outlinewidth": 0,
             "ticks": ""
            },
            "type": "choropleth"
           }
          ],
          "contour": [
           {
            "colorbar": {
             "outlinewidth": 0,
             "ticks": ""
            },
            "colorscale": [
             [
              0,
              "#0d0887"
             ],
             [
              0.1111111111111111,
              "#46039f"
             ],
             [
              0.2222222222222222,
              "#7201a8"
             ],
             [
              0.3333333333333333,
              "#9c179e"
             ],
             [
              0.4444444444444444,
              "#bd3786"
             ],
             [
              0.5555555555555556,
              "#d8576b"
             ],
             [
              0.6666666666666666,
              "#ed7953"
             ],
             [
              0.7777777777777778,
              "#fb9f3a"
             ],
             [
              0.8888888888888888,
              "#fdca26"
             ],
             [
              1,
              "#f0f921"
             ]
            ],
            "type": "contour"
           }
          ],
          "contourcarpet": [
           {
            "colorbar": {
             "outlinewidth": 0,
             "ticks": ""
            },
            "type": "contourcarpet"
           }
          ],
          "heatmap": [
           {
            "colorbar": {
             "outlinewidth": 0,
             "ticks": ""
            },
            "colorscale": [
             [
              0,
              "#0d0887"
             ],
             [
              0.1111111111111111,
              "#46039f"
             ],
             [
              0.2222222222222222,
              "#7201a8"
             ],
             [
              0.3333333333333333,
              "#9c179e"
             ],
             [
              0.4444444444444444,
              "#bd3786"
             ],
             [
              0.5555555555555556,
              "#d8576b"
             ],
             [
              0.6666666666666666,
              "#ed7953"
             ],
             [
              0.7777777777777778,
              "#fb9f3a"
             ],
             [
              0.8888888888888888,
              "#fdca26"
             ],
             [
              1,
              "#f0f921"
             ]
            ],
            "type": "heatmap"
           }
          ],
          "heatmapgl": [
           {
            "colorbar": {
             "outlinewidth": 0,
             "ticks": ""
            },
            "colorscale": [
             [
              0,
              "#0d0887"
             ],
             [
              0.1111111111111111,
              "#46039f"
             ],
             [
              0.2222222222222222,
              "#7201a8"
             ],
             [
              0.3333333333333333,
              "#9c179e"
             ],
             [
              0.4444444444444444,
              "#bd3786"
             ],
             [
              0.5555555555555556,
              "#d8576b"
             ],
             [
              0.6666666666666666,
              "#ed7953"
             ],
             [
              0.7777777777777778,
              "#fb9f3a"
             ],
             [
              0.8888888888888888,
              "#fdca26"
             ],
             [
              1,
              "#f0f921"
             ]
            ],
            "type": "heatmapgl"
           }
          ],
          "histogram": [
           {
            "marker": {
             "pattern": {
              "fillmode": "overlay",
              "size": 10,
              "solidity": 0.2
             }
            },
            "type": "histogram"
           }
          ],
          "histogram2d": [
           {
            "colorbar": {
             "outlinewidth": 0,
             "ticks": ""
            },
            "colorscale": [
             [
              0,
              "#0d0887"
             ],
             [
              0.1111111111111111,
              "#46039f"
             ],
             [
              0.2222222222222222,
              "#7201a8"
             ],
             [
              0.3333333333333333,
              "#9c179e"
             ],
             [
              0.4444444444444444,
              "#bd3786"
             ],
             [
              0.5555555555555556,
              "#d8576b"
             ],
             [
              0.6666666666666666,
              "#ed7953"
             ],
             [
              0.7777777777777778,
              "#fb9f3a"
             ],
             [
              0.8888888888888888,
              "#fdca26"
             ],
             [
              1,
              "#f0f921"
             ]
            ],
            "type": "histogram2d"
           }
          ],
          "histogram2dcontour": [
           {
            "colorbar": {
             "outlinewidth": 0,
             "ticks": ""
            },
            "colorscale": [
             [
              0,
              "#0d0887"
             ],
             [
              0.1111111111111111,
              "#46039f"
             ],
             [
              0.2222222222222222,
              "#7201a8"
             ],
             [
              0.3333333333333333,
              "#9c179e"
             ],
             [
              0.4444444444444444,
              "#bd3786"
             ],
             [
              0.5555555555555556,
              "#d8576b"
             ],
             [
              0.6666666666666666,
              "#ed7953"
             ],
             [
              0.7777777777777778,
              "#fb9f3a"
             ],
             [
              0.8888888888888888,
              "#fdca26"
             ],
             [
              1,
              "#f0f921"
             ]
            ],
            "type": "histogram2dcontour"
           }
          ],
          "mesh3d": [
           {
            "colorbar": {
             "outlinewidth": 0,
             "ticks": ""
            },
            "type": "mesh3d"
           }
          ],
          "parcoords": [
           {
            "line": {
             "colorbar": {
              "outlinewidth": 0,
              "ticks": ""
             }
            },
            "type": "parcoords"
           }
          ],
          "pie": [
           {
            "automargin": true,
            "type": "pie"
           }
          ],
          "scatter": [
           {
            "fillpattern": {
             "fillmode": "overlay",
             "size": 10,
             "solidity": 0.2
            },
            "type": "scatter"
           }
          ],
          "scatter3d": [
           {
            "line": {
             "colorbar": {
              "outlinewidth": 0,
              "ticks": ""
             }
            },
            "marker": {
             "colorbar": {
              "outlinewidth": 0,
              "ticks": ""
             }
            },
            "type": "scatter3d"
           }
          ],
          "scattercarpet": [
           {
            "marker": {
             "colorbar": {
              "outlinewidth": 0,
              "ticks": ""
             }
            },
            "type": "scattercarpet"
           }
          ],
          "scattergeo": [
           {
            "marker": {
             "colorbar": {
              "outlinewidth": 0,
              "ticks": ""
             }
            },
            "type": "scattergeo"
           }
          ],
          "scattergl": [
           {
            "marker": {
             "colorbar": {
              "outlinewidth": 0,
              "ticks": ""
             }
            },
            "type": "scattergl"
           }
          ],
          "scattermapbox": [
           {
            "marker": {
             "colorbar": {
              "outlinewidth": 0,
              "ticks": ""
             }
            },
            "type": "scattermapbox"
           }
          ],
          "scatterpolar": [
           {
            "marker": {
             "colorbar": {
              "outlinewidth": 0,
              "ticks": ""
             }
            },
            "type": "scatterpolar"
           }
          ],
          "scatterpolargl": [
           {
            "marker": {
             "colorbar": {
              "outlinewidth": 0,
              "ticks": ""
             }
            },
            "type": "scatterpolargl"
           }
          ],
          "scatterternary": [
           {
            "marker": {
             "colorbar": {
              "outlinewidth": 0,
              "ticks": ""
             }
            },
            "type": "scatterternary"
           }
          ],
          "surface": [
           {
            "colorbar": {
             "outlinewidth": 0,
             "ticks": ""
            },
            "colorscale": [
             [
              0,
              "#0d0887"
             ],
             [
              0.1111111111111111,
              "#46039f"
             ],
             [
              0.2222222222222222,
              "#7201a8"
             ],
             [
              0.3333333333333333,
              "#9c179e"
             ],
             [
              0.4444444444444444,
              "#bd3786"
             ],
             [
              0.5555555555555556,
              "#d8576b"
             ],
             [
              0.6666666666666666,
              "#ed7953"
             ],
             [
              0.7777777777777778,
              "#fb9f3a"
             ],
             [
              0.8888888888888888,
              "#fdca26"
             ],
             [
              1,
              "#f0f921"
             ]
            ],
            "type": "surface"
           }
          ],
          "table": [
           {
            "cells": {
             "fill": {
              "color": "#EBF0F8"
             },
             "line": {
              "color": "white"
             }
            },
            "header": {
             "fill": {
              "color": "#C8D4E3"
             },
             "line": {
              "color": "white"
             }
            },
            "type": "table"
           }
          ]
         },
         "layout": {
          "annotationdefaults": {
           "arrowcolor": "#2a3f5f",
           "arrowhead": 0,
           "arrowwidth": 1
          },
          "autotypenumbers": "strict",
          "coloraxis": {
           "colorbar": {
            "outlinewidth": 0,
            "ticks": ""
           }
          },
          "colorscale": {
           "diverging": [
            [
             0,
             "#8e0152"
            ],
            [
             0.1,
             "#c51b7d"
            ],
            [
             0.2,
             "#de77ae"
            ],
            [
             0.3,
             "#f1b6da"
            ],
            [
             0.4,
             "#fde0ef"
            ],
            [
             0.5,
             "#f7f7f7"
            ],
            [
             0.6,
             "#e6f5d0"
            ],
            [
             0.7,
             "#b8e186"
            ],
            [
             0.8,
             "#7fbc41"
            ],
            [
             0.9,
             "#4d9221"
            ],
            [
             1,
             "#276419"
            ]
           ],
           "sequential": [
            [
             0,
             "#0d0887"
            ],
            [
             0.1111111111111111,
             "#46039f"
            ],
            [
             0.2222222222222222,
             "#7201a8"
            ],
            [
             0.3333333333333333,
             "#9c179e"
            ],
            [
             0.4444444444444444,
             "#bd3786"
            ],
            [
             0.5555555555555556,
             "#d8576b"
            ],
            [
             0.6666666666666666,
             "#ed7953"
            ],
            [
             0.7777777777777778,
             "#fb9f3a"
            ],
            [
             0.8888888888888888,
             "#fdca26"
            ],
            [
             1,
             "#f0f921"
            ]
           ],
           "sequentialminus": [
            [
             0,
             "#0d0887"
            ],
            [
             0.1111111111111111,
             "#46039f"
            ],
            [
             0.2222222222222222,
             "#7201a8"
            ],
            [
             0.3333333333333333,
             "#9c179e"
            ],
            [
             0.4444444444444444,
             "#bd3786"
            ],
            [
             0.5555555555555556,
             "#d8576b"
            ],
            [
             0.6666666666666666,
             "#ed7953"
            ],
            [
             0.7777777777777778,
             "#fb9f3a"
            ],
            [
             0.8888888888888888,
             "#fdca26"
            ],
            [
             1,
             "#f0f921"
            ]
           ]
          },
          "colorway": [
           "#636efa",
           "#EF553B",
           "#00cc96",
           "#ab63fa",
           "#FFA15A",
           "#19d3f3",
           "#FF6692",
           "#B6E880",
           "#FF97FF",
           "#FECB52"
          ],
          "font": {
           "color": "#2a3f5f"
          },
          "geo": {
           "bgcolor": "white",
           "lakecolor": "white",
           "landcolor": "#E5ECF6",
           "showlakes": true,
           "showland": true,
           "subunitcolor": "white"
          },
          "hoverlabel": {
           "align": "left"
          },
          "hovermode": "closest",
          "mapbox": {
           "style": "light"
          },
          "paper_bgcolor": "white",
          "plot_bgcolor": "#E5ECF6",
          "polar": {
           "angularaxis": {
            "gridcolor": "white",
            "linecolor": "white",
            "ticks": ""
           },
           "bgcolor": "#E5ECF6",
           "radialaxis": {
            "gridcolor": "white",
            "linecolor": "white",
            "ticks": ""
           }
          },
          "scene": {
           "xaxis": {
            "backgroundcolor": "#E5ECF6",
            "gridcolor": "white",
            "gridwidth": 2,
            "linecolor": "white",
            "showbackground": true,
            "ticks": "",
            "zerolinecolor": "white"
           },
           "yaxis": {
            "backgroundcolor": "#E5ECF6",
            "gridcolor": "white",
            "gridwidth": 2,
            "linecolor": "white",
            "showbackground": true,
            "ticks": "",
            "zerolinecolor": "white"
           },
           "zaxis": {
            "backgroundcolor": "#E5ECF6",
            "gridcolor": "white",
            "gridwidth": 2,
            "linecolor": "white",
            "showbackground": true,
            "ticks": "",
            "zerolinecolor": "white"
           }
          },
          "shapedefaults": {
           "line": {
            "color": "#2a3f5f"
           }
          },
          "ternary": {
           "aaxis": {
            "gridcolor": "white",
            "linecolor": "white",
            "ticks": ""
           },
           "baxis": {
            "gridcolor": "white",
            "linecolor": "white",
            "ticks": ""
           },
           "bgcolor": "#E5ECF6",
           "caxis": {
            "gridcolor": "white",
            "linecolor": "white",
            "ticks": ""
           }
          },
          "title": {
           "x": 0.05
          },
          "xaxis": {
           "automargin": true,
           "gridcolor": "white",
           "linecolor": "white",
           "ticks": "",
           "title": {
            "standoff": 15
           },
           "zerolinecolor": "white",
           "zerolinewidth": 2
          },
          "yaxis": {
           "automargin": true,
           "gridcolor": "white",
           "linecolor": "white",
           "ticks": "",
           "title": {
            "standoff": 15
           },
           "zerolinecolor": "white",
           "zerolinewidth": 2
          }
         }
        },
        "title": {
         "text": " Unemployment Rate per state"
        },
        "xaxis": {
         "anchor": "y",
         "autorange": true,
         "categoryarray": [
          "Andhra Pradesh",
          "Assam",
          "Bihar",
          "Chhattisgarh",
          "Delhi",
          "Goa",
          "Gujarat",
          "Haryana",
          "Himachal Pradesh",
          "Jammu & Kashmir",
          "Jharkhand",
          "Karnataka",
          "Kerala",
          "Madhya Pradesh",
          "Maharashtra",
          "Meghalaya",
          "Odisha",
          "Puducherry",
          "Punjab",
          "Rajasthan",
          "Sikkim",
          "Tamil Nadu",
          "Telangana",
          "Tripura",
          "Uttar Pradesh",
          "Uttarakhand",
          "West Bengal"
         ],
         "categoryorder": "total descending",
         "domain": [
          0,
          1
         ],
         "range": [
          -0.5,
          26.5
         ],
         "tickangle": 45,
         "title": {
          "text": "States"
         },
         "type": "category"
        },
        "yaxis": {
         "anchor": "x",
         "autorange": true,
         "domain": [
          0,
          1
         ],
         "range": [
          -3.686111111111112,
          80.03611111111111
         ],
         "title": {
          "text": "Estimated Unemployment Rate"
         },
         "type": "linear"
        }
       }
      },
      "text/html": [
       "<div>                            <div id=\"af12fcc3-89e2-442e-b81c-99a703f7cc96\" class=\"plotly-graph-div\" style=\"height:600px; width:100%;\"></div>            <script type=\"text/javascript\">                require([\"plotly\"], function(Plotly) {                    window.PLOTLYENV=window.PLOTLYENV || {};                                    if (document.getElementById(\"af12fcc3-89e2-442e-b81c-99a703f7cc96\")) {                    Plotly.newPlot(                        \"af12fcc3-89e2-442e-b81c-99a703f7cc96\",                        [{\"alignmentgroup\":\"True\",\"hovertemplate\":\"States=%{x}\\u003cbr\\u003eEstimated Unemployment Rate=%{y}\\u003cextra\\u003e\\u003c\\u002fextra\\u003e\",\"legendgroup\":\"Andhra Pradesh\",\"marker\":{\"color\":\"#636efa\"},\"name\":\"Andhra Pradesh\",\"notched\":false,\"offsetgroup\":\"Andhra Pradesh\",\"orientation\":\"v\",\"showlegend\":true,\"x\":[\"Andhra Pradesh\",\"Andhra Pradesh\",\"Andhra Pradesh\",\"Andhra Pradesh\",\"Andhra Pradesh\",\"Andhra Pradesh\",\"Andhra Pradesh\",\"Andhra Pradesh\",\"Andhra Pradesh\",\"Andhra Pradesh\"],\"x0\":\" \",\"xaxis\":\"x\",\"y\":[5.48,5.83,5.79,20.51,17.43,3.31,8.34,6.96,6.4,6.59],\"y0\":\" \",\"yaxis\":\"y\",\"type\":\"box\"},{\"alignmentgroup\":\"True\",\"hovertemplate\":\"States=%{x}\\u003cbr\\u003eEstimated Unemployment Rate=%{y}\\u003cextra\\u003e\\u003c\\u002fextra\\u003e\",\"legendgroup\":\"Assam\",\"marker\":{\"color\":\"#EF553B\"},\"name\":\"Assam\",\"notched\":false,\"offsetgroup\":\"Assam\",\"orientation\":\"v\",\"showlegend\":true,\"x\":[\"Assam\",\"Assam\",\"Assam\",\"Assam\",\"Assam\",\"Assam\",\"Assam\",\"Assam\",\"Assam\",\"Assam\"],\"x0\":\" \",\"xaxis\":\"x\",\"y\":[4.66,4.41,4.77,11.06,9.55,0.6,3.77,5.53,1.19,3.02],\"y0\":\" \",\"yaxis\":\"y\",\"type\":\"box\"},{\"alignmentgroup\":\"True\",\"hovertemplate\":\"States=%{x}\\u003cbr\\u003eEstimated Unemployment Rate=%{y}\\u003cextra\\u003e\\u003c\\u002fextra\\u003e\",\"legendgroup\":\"Bihar\",\"marker\":{\"color\":\"#00cc96\"},\"name\":\"Bihar\",\"notched\":false,\"offsetgroup\":\"Bihar\",\"orientation\":\"v\",\"showlegend\":true,\"x\":[\"Bihar\",\"Bihar\",\"Bihar\",\"Bihar\",\"Bihar\",\"Bihar\",\"Bihar\",\"Bihar\",\"Bihar\",\"Bihar\"],\"x0\":\" \",\"xaxis\":\"x\",\"y\":[10.61,10.29,15.43,46.64,45.96,17.82,12.79,13.44,11.91,9.82],\"y0\":\" \",\"yaxis\":\"y\",\"type\":\"box\"},{\"alignmentgroup\":\"True\",\"hovertemplate\":\"States=%{x}\\u003cbr\\u003eEstimated Unemployment Rate=%{y}\\u003cextra\\u003e\\u003c\\u002fextra\\u003e\",\"legendgroup\":\"Chhattisgarh\",\"marker\":{\"color\":\"#ab63fa\"},\"name\":\"Chhattisgarh\",\"notched\":false,\"offsetgroup\":\"Chhattisgarh\",\"orientation\":\"v\",\"showlegend\":true,\"x\":[\"Chhattisgarh\",\"Chhattisgarh\",\"Chhattisgarh\",\"Chhattisgarh\",\"Chhattisgarh\",\"Chhattisgarh\",\"Chhattisgarh\",\"Chhattisgarh\",\"Chhattisgarh\",\"Chhattisgarh\"],\"x0\":\" \",\"xaxis\":\"x\",\"y\":[9.65,8.38,7.54,3.41,10.5,14.23,10.27,5.63,1.96,6.62],\"y0\":\" \",\"yaxis\":\"y\",\"type\":\"box\"},{\"alignmentgroup\":\"True\",\"hovertemplate\":\"States=%{x}\\u003cbr\\u003eEstimated Unemployment Rate=%{y}\\u003cextra\\u003e\\u003c\\u002fextra\\u003e\",\"legendgroup\":\"Delhi\",\"marker\":{\"color\":\"#FFA15A\"},\"name\":\"Delhi\",\"notched\":false,\"offsetgroup\":\"Delhi\",\"orientation\":\"v\",\"showlegend\":true,\"x\":[\"Delhi\",\"Delhi\",\"Delhi\",\"Delhi\",\"Delhi\",\"Delhi\",\"Delhi\",\"Delhi\",\"Delhi\",\"Delhi\"],\"x0\":\" \",\"xaxis\":\"x\",\"y\":[22.23,14.84,17.04,16.68,42.27,18.19,20.3,13.79,12.53,6.27],\"y0\":\" \",\"yaxis\":\"y\",\"type\":\"box\"},{\"alignmentgroup\":\"True\",\"hovertemplate\":\"States=%{x}\\u003cbr\\u003eEstimated Unemployment Rate=%{y}\\u003cextra\\u003e\\u003c\\u002fextra\\u003e\",\"legendgroup\":\"Goa\",\"marker\":{\"color\":\"#19d3f3\"},\"name\":\"Goa\",\"notched\":false,\"offsetgroup\":\"Goa\",\"orientation\":\"v\",\"showlegend\":true,\"x\":[\"Goa\",\"Goa\",\"Goa\",\"Goa\",\"Goa\",\"Goa\",\"Goa\",\"Goa\",\"Goa\",\"Goa\"],\"x0\":\" \",\"xaxis\":\"x\",\"y\":[8.89,2.81,5.25,13.31,21.25,9.96,17.07,16.21,15.38,11.54],\"y0\":\" \",\"yaxis\":\"y\",\"type\":\"box\"},{\"alignmentgroup\":\"True\",\"hovertemplate\":\"States=%{x}\\u003cbr\\u003eEstimated Unemployment Rate=%{y}\\u003cextra\\u003e\\u003c\\u002fextra\\u003e\",\"legendgroup\":\"Gujarat\",\"marker\":{\"color\":\"#FF6692\"},\"name\":\"Gujarat\",\"notched\":false,\"offsetgroup\":\"Gujarat\",\"orientation\":\"v\",\"showlegend\":true,\"x\":[\"Gujarat\",\"Gujarat\",\"Gujarat\",\"Gujarat\",\"Gujarat\",\"Gujarat\",\"Gujarat\",\"Gujarat\",\"Gujarat\",\"Gujarat\"],\"x0\":\" \",\"xaxis\":\"x\",\"y\":[5.54,6.38,6.66,18.71,12.11,3.2,1.84,1.87,3.42,4.03],\"y0\":\" \",\"yaxis\":\"y\",\"type\":\"box\"},{\"alignmentgroup\":\"True\",\"hovertemplate\":\"States=%{x}\\u003cbr\\u003eEstimated Unemployment Rate=%{y}\\u003cextra\\u003e\\u003c\\u002fextra\\u003e\",\"legendgroup\":\"Haryana\",\"marker\":{\"color\":\"#B6E880\"},\"name\":\"Haryana\",\"notched\":false,\"offsetgroup\":\"Haryana\",\"orientation\":\"v\",\"showlegend\":true,\"x\":[\"Haryana\",\"Haryana\",\"Haryana\",\"Haryana\",\"Haryana\",\"Haryana\",\"Haryana\",\"Haryana\",\"Haryana\",\"Haryana\"],\"x0\":\" \",\"xaxis\":\"x\",\"y\":[20.34,25.77,25.05,43.22,29.02,26.7,24.18,33.5,19.68,27.31],\"y0\":\" \",\"yaxis\":\"y\",\"type\":\"box\"},{\"alignmentgroup\":\"True\",\"hovertemplate\":\"States=%{x}\\u003cbr\\u003eEstimated Unemployment Rate=%{y}\\u003cextra\\u003e\\u003c\\u002fextra\\u003e\",\"legendgroup\":\"Himachal Pradesh\",\"marker\":{\"color\":\"#FF97FF\"},\"name\":\"Himachal Pradesh\",\"notched\":false,\"offsetgroup\":\"Himachal Pradesh\",\"orientation\":\"v\",\"showlegend\":true,\"x\":[\"Himachal Pradesh\",\"Himachal Pradesh\",\"Himachal Pradesh\",\"Himachal Pradesh\",\"Himachal Pradesh\",\"Himachal Pradesh\",\"Himachal Pradesh\",\"Himachal Pradesh\",\"Himachal Pradesh\",\"Himachal Pradesh\"],\"x0\":\" \",\"xaxis\":\"x\",\"y\":[16.83,16.84,18.76,2.2,26.95,13.47,24.31,15.79,12.04,13.46],\"y0\":\" \",\"yaxis\":\"y\",\"type\":\"box\"},{\"alignmentgroup\":\"True\",\"hovertemplate\":\"States=%{x}\\u003cbr\\u003eEstimated Unemployment Rate=%{y}\\u003cextra\\u003e\\u003c\\u002fextra\\u003e\",\"legendgroup\":\"Jammu & Kashmir\",\"marker\":{\"color\":\"#FECB52\"},\"name\":\"Jammu & Kashmir\",\"notched\":false,\"offsetgroup\":\"Jammu & Kashmir\",\"orientation\":\"v\",\"showlegend\":true,\"x\":[\"Jammu & Kashmir\",\"Jammu & Kashmir\",\"Jammu & Kashmir\",\"Jammu & Kashmir\",\"Jammu & Kashmir\",\"Jammu & Kashmir\",\"Jammu & Kashmir\",\"Jammu & Kashmir\",\"Jammu & Kashmir\"],\"x0\":\" \",\"xaxis\":\"x\",\"y\":[21.08,20.78,15.5,18.74,17.92,10.88,11.09,16.17,16.14],\"y0\":\" \",\"yaxis\":\"y\",\"type\":\"box\"},{\"alignmentgroup\":\"True\",\"hovertemplate\":\"States=%{x}\\u003cbr\\u003eEstimated Unemployment Rate=%{y}\\u003cextra\\u003e\\u003c\\u002fextra\\u003e\",\"legendgroup\":\"Jharkhand\",\"marker\":{\"color\":\"#636efa\"},\"name\":\"Jharkhand\",\"notched\":false,\"offsetgroup\":\"Jharkhand\",\"orientation\":\"v\",\"showlegend\":true,\"x\":[\"Jharkhand\",\"Jharkhand\",\"Jharkhand\",\"Jharkhand\",\"Jharkhand\",\"Jharkhand\",\"Jharkhand\",\"Jharkhand\",\"Jharkhand\",\"Jharkhand\"],\"x0\":\" \",\"xaxis\":\"x\",\"y\":[10.61,11.85,8.23,47.09,59.23,20.95,7.63,9.76,8.24,11.8],\"y0\":\" \",\"yaxis\":\"y\",\"type\":\"box\"},{\"alignmentgroup\":\"True\",\"hovertemplate\":\"States=%{x}\\u003cbr\\u003eEstimated Unemployment Rate=%{y}\\u003cextra\\u003e\\u003c\\u002fextra\\u003e\",\"legendgroup\":\"Karnataka\",\"marker\":{\"color\":\"#EF553B\"},\"name\":\"Karnataka\",\"notched\":false,\"offsetgroup\":\"Karnataka\",\"orientation\":\"v\",\"showlegend\":true,\"x\":[\"Karnataka\",\"Karnataka\",\"Karnataka\",\"Karnataka\",\"Karnataka\",\"Karnataka\",\"Karnataka\",\"Karnataka\",\"Karnataka\",\"Karnataka\"],\"x0\":\" \",\"xaxis\":\"x\",\"y\":[2.86,3.61,3.46,29.84,19.97,8.44,4.01,0.5,2.41,1.58],\"y0\":\" \",\"yaxis\":\"y\",\"type\":\"box\"},{\"alignmentgroup\":\"True\",\"hovertemplate\":\"States=%{x}\\u003cbr\\u003eEstimated Unemployment Rate=%{y}\\u003cextra\\u003e\\u003c\\u002fextra\\u003e\",\"legendgroup\":\"Kerala\",\"marker\":{\"color\":\"#00cc96\"},\"name\":\"Kerala\",\"notched\":false,\"offsetgroup\":\"Kerala\",\"orientation\":\"v\",\"showlegend\":true,\"x\":[\"Kerala\",\"Kerala\",\"Kerala\",\"Kerala\",\"Kerala\",\"Kerala\",\"Kerala\",\"Kerala\",\"Kerala\",\"Kerala\"],\"x0\":\" \",\"xaxis\":\"x\",\"y\":[5.31,7.6,8.99,16.99,17.88,9.71,7.09,10.98,5.91,3.88],\"y0\":\" \",\"yaxis\":\"y\",\"type\":\"box\"},{\"alignmentgroup\":\"True\",\"hovertemplate\":\"States=%{x}\\u003cbr\\u003eEstimated Unemployment Rate=%{y}\\u003cextra\\u003e\\u003c\\u002fextra\\u003e\",\"legendgroup\":\"Madhya Pradesh\",\"marker\":{\"color\":\"#ab63fa\"},\"name\":\"Madhya Pradesh\",\"notched\":false,\"offsetgroup\":\"Madhya Pradesh\",\"orientation\":\"v\",\"showlegend\":true,\"x\":[\"Madhya Pradesh\",\"Madhya Pradesh\",\"Madhya Pradesh\",\"Madhya Pradesh\",\"Madhya Pradesh\",\"Madhya Pradesh\",\"Madhya Pradesh\",\"Madhya Pradesh\",\"Madhya Pradesh\",\"Madhya Pradesh\"],\"x0\":\" \",\"xaxis\":\"x\",\"y\":[4.11,4.57,2.22,12.36,21.98,6.48,5.08,4.7,3.91,3.13],\"y0\":\" \",\"yaxis\":\"y\",\"type\":\"box\"},{\"alignmentgroup\":\"True\",\"hovertemplate\":\"States=%{x}\\u003cbr\\u003eEstimated Unemployment Rate=%{y}\\u003cextra\\u003e\\u003c\\u002fextra\\u003e\",\"legendgroup\":\"Maharashtra\",\"marker\":{\"color\":\"#FFA15A\"},\"name\":\"Maharashtra\",\"notched\":false,\"offsetgroup\":\"Maharashtra\",\"orientation\":\"v\",\"showlegend\":true,\"x\":[\"Maharashtra\",\"Maharashtra\",\"Maharashtra\",\"Maharashtra\",\"Maharashtra\",\"Maharashtra\",\"Maharashtra\",\"Maharashtra\",\"Maharashtra\",\"Maharashtra\"],\"x0\":\" \",\"xaxis\":\"x\",\"y\":[4.95,4.69,5.79,20.9,15.46,9.23,3.89,6.23,4.55,4.1],\"y0\":\" \",\"yaxis\":\"y\",\"type\":\"box\"},{\"alignmentgroup\":\"True\",\"hovertemplate\":\"States=%{x}\\u003cbr\\u003eEstimated Unemployment Rate=%{y}\\u003cextra\\u003e\\u003c\\u002fextra\\u003e\",\"legendgroup\":\"Meghalaya\",\"marker\":{\"color\":\"#19d3f3\"},\"name\":\"Meghalaya\",\"notched\":false,\"offsetgroup\":\"Meghalaya\",\"orientation\":\"v\",\"showlegend\":true,\"x\":[\"Meghalaya\",\"Meghalaya\",\"Meghalaya\",\"Meghalaya\",\"Meghalaya\",\"Meghalaya\",\"Meghalaya\",\"Meghalaya\",\"Meghalaya\",\"Meghalaya\"],\"x0\":\" \",\"xaxis\":\"x\",\"y\":[1.66,3.59,1.58,10.03,5.92,1.15,2.1,3.74,4.29,4.6],\"y0\":\" \",\"yaxis\":\"y\",\"type\":\"box\"},{\"alignmentgroup\":\"True\",\"hovertemplate\":\"States=%{x}\\u003cbr\\u003eEstimated Unemployment Rate=%{y}\\u003cextra\\u003e\\u003c\\u002fextra\\u003e\",\"legendgroup\":\"Odisha\",\"marker\":{\"color\":\"#FF6692\"},\"name\":\"Odisha\",\"notched\":false,\"offsetgroup\":\"Odisha\",\"orientation\":\"v\",\"showlegend\":true,\"x\":[\"Odisha\",\"Odisha\",\"Odisha\",\"Odisha\",\"Odisha\",\"Odisha\",\"Odisha\",\"Odisha\",\"Odisha\",\"Odisha\"],\"x0\":\" \",\"xaxis\":\"x\",\"y\":[1.9,3.12,13.08,23.76,11.41,3.77,1.88,1.42,2.1,2.18],\"y0\":\" \",\"yaxis\":\"y\",\"type\":\"box\"},{\"alignmentgroup\":\"True\",\"hovertemplate\":\"States=%{x}\\u003cbr\\u003eEstimated Unemployment Rate=%{y}\\u003cextra\\u003e\\u003c\\u002fextra\\u003e\",\"legendgroup\":\"Puducherry\",\"marker\":{\"color\":\"#B6E880\"},\"name\":\"Puducherry\",\"notched\":false,\"offsetgroup\":\"Puducherry\",\"orientation\":\"v\",\"showlegend\":true,\"x\":[\"Puducherry\",\"Puducherry\",\"Puducherry\",\"Puducherry\",\"Puducherry\",\"Puducherry\",\"Puducherry\",\"Puducherry\",\"Puducherry\",\"Puducherry\"],\"x0\":\" \",\"xaxis\":\"x\",\"y\":[0.58,1.76,1.2,75.85,58.19,4.24,15.47,5.05,10.9,6.18],\"y0\":\" \",\"yaxis\":\"y\",\"type\":\"box\"},{\"alignmentgroup\":\"True\",\"hovertemplate\":\"States=%{x}\\u003cbr\\u003eEstimated Unemployment Rate=%{y}\\u003cextra\\u003e\\u003c\\u002fextra\\u003e\",\"legendgroup\":\"Punjab\",\"marker\":{\"color\":\"#FF97FF\"},\"name\":\"Punjab\",\"notched\":false,\"offsetgroup\":\"Punjab\",\"orientation\":\"v\",\"showlegend\":true,\"x\":[\"Punjab\",\"Punjab\",\"Punjab\",\"Punjab\",\"Punjab\",\"Punjab\",\"Punjab\",\"Punjab\",\"Punjab\",\"Punjab\"],\"x0\":\" \",\"xaxis\":\"x\",\"y\":[11.11,10.97,10.32,2.86,28.33,16.55,9.19,10.99,9.61,9.88],\"y0\":\" \",\"yaxis\":\"y\",\"type\":\"box\"},{\"alignmentgroup\":\"True\",\"hovertemplate\":\"States=%{x}\\u003cbr\\u003eEstimated Unemployment Rate=%{y}\\u003cextra\\u003e\\u003c\\u002fextra\\u003e\",\"legendgroup\":\"Rajasthan\",\"marker\":{\"color\":\"#FECB52\"},\"name\":\"Rajasthan\",\"notched\":false,\"offsetgroup\":\"Rajasthan\",\"orientation\":\"v\",\"showlegend\":true,\"x\":[\"Rajasthan\",\"Rajasthan\",\"Rajasthan\",\"Rajasthan\",\"Rajasthan\",\"Rajasthan\",\"Rajasthan\",\"Rajasthan\",\"Rajasthan\",\"Rajasthan\"],\"x0\":\" \",\"xaxis\":\"x\",\"y\":[10.97,15.16,11.9,17.7,15.74,14.39,15.81,17.51,15.35,24.15],\"y0\":\" \",\"yaxis\":\"y\",\"type\":\"box\"},{\"alignmentgroup\":\"True\",\"hovertemplate\":\"States=%{x}\\u003cbr\\u003eEstimated Unemployment Rate=%{y}\\u003cextra\\u003e\\u003c\\u002fextra\\u003e\",\"legendgroup\":\"Sikkim\",\"marker\":{\"color\":\"#636efa\"},\"name\":\"Sikkim\",\"notched\":false,\"offsetgroup\":\"Sikkim\",\"orientation\":\"v\",\"showlegend\":true,\"x\":[\"Sikkim\",\"Sikkim\",\"Sikkim\",\"Sikkim\",\"Sikkim\",\"Sikkim\",\"Sikkim\",\"Sikkim\"],\"x0\":\" \",\"xaxis\":\"x\",\"y\":[23.57,2.28,24.51,4.46,4.45,12.49,5.7,0.88],\"y0\":\" \",\"yaxis\":\"y\",\"type\":\"box\"},{\"alignmentgroup\":\"True\",\"hovertemplate\":\"States=%{x}\\u003cbr\\u003eEstimated Unemployment Rate=%{y}\\u003cextra\\u003e\\u003c\\u002fextra\\u003e\",\"legendgroup\":\"Tamil Nadu\",\"marker\":{\"color\":\"#EF553B\"},\"name\":\"Tamil Nadu\",\"notched\":false,\"offsetgroup\":\"Tamil Nadu\",\"orientation\":\"v\",\"showlegend\":true,\"x\":[\"Tamil Nadu\",\"Tamil Nadu\",\"Tamil Nadu\",\"Tamil Nadu\",\"Tamil Nadu\",\"Tamil Nadu\",\"Tamil Nadu\",\"Tamil Nadu\",\"Tamil Nadu\",\"Tamil Nadu\"],\"x0\":\" \",\"xaxis\":\"x\",\"y\":[1.57,2.09,6.4,49.83,33.16,12.2,6.81,2.65,5.0,2.16],\"y0\":\" \",\"yaxis\":\"y\",\"type\":\"box\"},{\"alignmentgroup\":\"True\",\"hovertemplate\":\"States=%{x}\\u003cbr\\u003eEstimated Unemployment Rate=%{y}\\u003cextra\\u003e\\u003c\\u002fextra\\u003e\",\"legendgroup\":\"Telangana\",\"marker\":{\"color\":\"#00cc96\"},\"name\":\"Telangana\",\"notched\":false,\"offsetgroup\":\"Telangana\",\"orientation\":\"v\",\"showlegend\":true,\"x\":[\"Telangana\",\"Telangana\",\"Telangana\",\"Telangana\",\"Telangana\",\"Telangana\",\"Telangana\",\"Telangana\",\"Telangana\",\"Telangana\"],\"x0\":\" \",\"xaxis\":\"x\",\"y\":[5.49,8.29,5.77,6.25,14.7,10.55,5.36,5.79,3.27,2.86],\"y0\":\" \",\"yaxis\":\"y\",\"type\":\"box\"},{\"alignmentgroup\":\"True\",\"hovertemplate\":\"States=%{x}\\u003cbr\\u003eEstimated Unemployment Rate=%{y}\\u003cextra\\u003e\\u003c\\u002fextra\\u003e\",\"legendgroup\":\"Tripura\",\"marker\":{\"color\":\"#ab63fa\"},\"name\":\"Tripura\",\"notched\":false,\"offsetgroup\":\"Tripura\",\"orientation\":\"v\",\"showlegend\":true,\"x\":[\"Tripura\",\"Tripura\",\"Tripura\",\"Tripura\",\"Tripura\",\"Tripura\",\"Tripura\",\"Tripura\",\"Tripura\",\"Tripura\"],\"x0\":\" \",\"xaxis\":\"x\",\"y\":[32.67,28.4,29.95,41.23,21.51,21.71,18.24,27.92,17.35,11.57],\"y0\":\" \",\"yaxis\":\"y\",\"type\":\"box\"},{\"alignmentgroup\":\"True\",\"hovertemplate\":\"States=%{x}\\u003cbr\\u003eEstimated Unemployment Rate=%{y}\\u003cextra\\u003e\\u003c\\u002fextra\\u003e\",\"legendgroup\":\"Uttar Pradesh\",\"marker\":{\"color\":\"#FFA15A\"},\"name\":\"Uttar Pradesh\",\"notched\":false,\"offsetgroup\":\"Uttar Pradesh\",\"orientation\":\"v\",\"showlegend\":true,\"x\":[\"Uttar Pradesh\",\"Uttar Pradesh\",\"Uttar Pradesh\",\"Uttar Pradesh\",\"Uttar Pradesh\",\"Uttar Pradesh\",\"Uttar Pradesh\",\"Uttar Pradesh\",\"Uttar Pradesh\",\"Uttar Pradesh\"],\"x0\":\" \",\"xaxis\":\"x\",\"y\":[7.58,8.98,10.11,21.54,20.41,9.47,5.56,5.79,4.18,3.75],\"y0\":\" \",\"yaxis\":\"y\",\"type\":\"box\"},{\"alignmentgroup\":\"True\",\"hovertemplate\":\"States=%{x}\\u003cbr\\u003eEstimated Unemployment Rate=%{y}\\u003cextra\\u003e\\u003c\\u002fextra\\u003e\",\"legendgroup\":\"Uttarakhand\",\"marker\":{\"color\":\"#19d3f3\"},\"name\":\"Uttarakhand\",\"notched\":false,\"offsetgroup\":\"Uttarakhand\",\"orientation\":\"v\",\"showlegend\":true,\"x\":[\"Uttarakhand\",\"Uttarakhand\",\"Uttarakhand\",\"Uttarakhand\",\"Uttarakhand\",\"Uttarakhand\",\"Uttarakhand\",\"Uttarakhand\",\"Uttarakhand\",\"Uttarakhand\"],\"x0\":\" \",\"xaxis\":\"x\",\"y\":[5.49,4.99,19.85,6.48,8.01,8.61,12.38,14.26,22.26,9.23],\"y0\":\" \",\"yaxis\":\"y\",\"type\":\"box\"},{\"alignmentgroup\":\"True\",\"hovertemplate\":\"States=%{x}\\u003cbr\\u003eEstimated Unemployment Rate=%{y}\\u003cextra\\u003e\\u003c\\u002fextra\\u003e\",\"legendgroup\":\"West Bengal\",\"marker\":{\"color\":\"#FF6692\"},\"name\":\"West Bengal\",\"notched\":false,\"offsetgroup\":\"West Bengal\",\"orientation\":\"v\",\"showlegend\":true,\"x\":[\"West Bengal\",\"West Bengal\",\"West Bengal\",\"West Bengal\",\"West Bengal\",\"West Bengal\",\"West Bengal\",\"West Bengal\",\"West Bengal\",\"West Bengal\"],\"x0\":\" \",\"xaxis\":\"x\",\"y\":[6.94,4.92,6.92,17.41,17.41,7.29,6.83,14.87,9.35,9.98],\"y0\":\" \",\"yaxis\":\"y\",\"type\":\"box\"}],                        {\"template\":{\"data\":{\"histogram2dcontour\":[{\"type\":\"histogram2dcontour\",\"colorbar\":{\"outlinewidth\":0,\"ticks\":\"\"},\"colorscale\":[[0.0,\"#0d0887\"],[0.1111111111111111,\"#46039f\"],[0.2222222222222222,\"#7201a8\"],[0.3333333333333333,\"#9c179e\"],[0.4444444444444444,\"#bd3786\"],[0.5555555555555556,\"#d8576b\"],[0.6666666666666666,\"#ed7953\"],[0.7777777777777778,\"#fb9f3a\"],[0.8888888888888888,\"#fdca26\"],[1.0,\"#f0f921\"]]}],\"choropleth\":[{\"type\":\"choropleth\",\"colorbar\":{\"outlinewidth\":0,\"ticks\":\"\"}}],\"histogram2d\":[{\"type\":\"histogram2d\",\"colorbar\":{\"outlinewidth\":0,\"ticks\":\"\"},\"colorscale\":[[0.0,\"#0d0887\"],[0.1111111111111111,\"#46039f\"],[0.2222222222222222,\"#7201a8\"],[0.3333333333333333,\"#9c179e\"],[0.4444444444444444,\"#bd3786\"],[0.5555555555555556,\"#d8576b\"],[0.6666666666666666,\"#ed7953\"],[0.7777777777777778,\"#fb9f3a\"],[0.8888888888888888,\"#fdca26\"],[1.0,\"#f0f921\"]]}],\"heatmap\":[{\"type\":\"heatmap\",\"colorbar\":{\"outlinewidth\":0,\"ticks\":\"\"},\"colorscale\":[[0.0,\"#0d0887\"],[0.1111111111111111,\"#46039f\"],[0.2222222222222222,\"#7201a8\"],[0.3333333333333333,\"#9c179e\"],[0.4444444444444444,\"#bd3786\"],[0.5555555555555556,\"#d8576b\"],[0.6666666666666666,\"#ed7953\"],[0.7777777777777778,\"#fb9f3a\"],[0.8888888888888888,\"#fdca26\"],[1.0,\"#f0f921\"]]}],\"heatmapgl\":[{\"type\":\"heatmapgl\",\"colorbar\":{\"outlinewidth\":0,\"ticks\":\"\"},\"colorscale\":[[0.0,\"#0d0887\"],[0.1111111111111111,\"#46039f\"],[0.2222222222222222,\"#7201a8\"],[0.3333333333333333,\"#9c179e\"],[0.4444444444444444,\"#bd3786\"],[0.5555555555555556,\"#d8576b\"],[0.6666666666666666,\"#ed7953\"],[0.7777777777777778,\"#fb9f3a\"],[0.8888888888888888,\"#fdca26\"],[1.0,\"#f0f921\"]]}],\"contourcarpet\":[{\"type\":\"contourcarpet\",\"colorbar\":{\"outlinewidth\":0,\"ticks\":\"\"}}],\"contour\":[{\"type\":\"contour\",\"colorbar\":{\"outlinewidth\":0,\"ticks\":\"\"},\"colorscale\":[[0.0,\"#0d0887\"],[0.1111111111111111,\"#46039f\"],[0.2222222222222222,\"#7201a8\"],[0.3333333333333333,\"#9c179e\"],[0.4444444444444444,\"#bd3786\"],[0.5555555555555556,\"#d8576b\"],[0.6666666666666666,\"#ed7953\"],[0.7777777777777778,\"#fb9f3a\"],[0.8888888888888888,\"#fdca26\"],[1.0,\"#f0f921\"]]}],\"surface\":[{\"type\":\"surface\",\"colorbar\":{\"outlinewidth\":0,\"ticks\":\"\"},\"colorscale\":[[0.0,\"#0d0887\"],[0.1111111111111111,\"#46039f\"],[0.2222222222222222,\"#7201a8\"],[0.3333333333333333,\"#9c179e\"],[0.4444444444444444,\"#bd3786\"],[0.5555555555555556,\"#d8576b\"],[0.6666666666666666,\"#ed7953\"],[0.7777777777777778,\"#fb9f3a\"],[0.8888888888888888,\"#fdca26\"],[1.0,\"#f0f921\"]]}],\"mesh3d\":[{\"type\":\"mesh3d\",\"colorbar\":{\"outlinewidth\":0,\"ticks\":\"\"}}],\"scatter\":[{\"fillpattern\":{\"fillmode\":\"overlay\",\"size\":10,\"solidity\":0.2},\"type\":\"scatter\"}],\"parcoords\":[{\"type\":\"parcoords\",\"line\":{\"colorbar\":{\"outlinewidth\":0,\"ticks\":\"\"}}}],\"scatterpolargl\":[{\"type\":\"scatterpolargl\",\"marker\":{\"colorbar\":{\"outlinewidth\":0,\"ticks\":\"\"}}}],\"bar\":[{\"error_x\":{\"color\":\"#2a3f5f\"},\"error_y\":{\"color\":\"#2a3f5f\"},\"marker\":{\"line\":{\"color\":\"#E5ECF6\",\"width\":0.5},\"pattern\":{\"fillmode\":\"overlay\",\"size\":10,\"solidity\":0.2}},\"type\":\"bar\"}],\"scattergeo\":[{\"type\":\"scattergeo\",\"marker\":{\"colorbar\":{\"outlinewidth\":0,\"ticks\":\"\"}}}],\"scatterpolar\":[{\"type\":\"scatterpolar\",\"marker\":{\"colorbar\":{\"outlinewidth\":0,\"ticks\":\"\"}}}],\"histogram\":[{\"marker\":{\"pattern\":{\"fillmode\":\"overlay\",\"size\":10,\"solidity\":0.2}},\"type\":\"histogram\"}],\"scattergl\":[{\"type\":\"scattergl\",\"marker\":{\"colorbar\":{\"outlinewidth\":0,\"ticks\":\"\"}}}],\"scatter3d\":[{\"type\":\"scatter3d\",\"line\":{\"colorbar\":{\"outlinewidth\":0,\"ticks\":\"\"}},\"marker\":{\"colorbar\":{\"outlinewidth\":0,\"ticks\":\"\"}}}],\"scattermapbox\":[{\"type\":\"scattermapbox\",\"marker\":{\"colorbar\":{\"outlinewidth\":0,\"ticks\":\"\"}}}],\"scatterternary\":[{\"type\":\"scatterternary\",\"marker\":{\"colorbar\":{\"outlinewidth\":0,\"ticks\":\"\"}}}],\"scattercarpet\":[{\"type\":\"scattercarpet\",\"marker\":{\"colorbar\":{\"outlinewidth\":0,\"ticks\":\"\"}}}],\"carpet\":[{\"aaxis\":{\"endlinecolor\":\"#2a3f5f\",\"gridcolor\":\"white\",\"linecolor\":\"white\",\"minorgridcolor\":\"white\",\"startlinecolor\":\"#2a3f5f\"},\"baxis\":{\"endlinecolor\":\"#2a3f5f\",\"gridcolor\":\"white\",\"linecolor\":\"white\",\"minorgridcolor\":\"white\",\"startlinecolor\":\"#2a3f5f\"},\"type\":\"carpet\"}],\"table\":[{\"cells\":{\"fill\":{\"color\":\"#EBF0F8\"},\"line\":{\"color\":\"white\"}},\"header\":{\"fill\":{\"color\":\"#C8D4E3\"},\"line\":{\"color\":\"white\"}},\"type\":\"table\"}],\"barpolar\":[{\"marker\":{\"line\":{\"color\":\"#E5ECF6\",\"width\":0.5},\"pattern\":{\"fillmode\":\"overlay\",\"size\":10,\"solidity\":0.2}},\"type\":\"barpolar\"}],\"pie\":[{\"automargin\":true,\"type\":\"pie\"}]},\"layout\":{\"autotypenumbers\":\"strict\",\"colorway\":[\"#636efa\",\"#EF553B\",\"#00cc96\",\"#ab63fa\",\"#FFA15A\",\"#19d3f3\",\"#FF6692\",\"#B6E880\",\"#FF97FF\",\"#FECB52\"],\"font\":{\"color\":\"#2a3f5f\"},\"hovermode\":\"closest\",\"hoverlabel\":{\"align\":\"left\"},\"paper_bgcolor\":\"white\",\"plot_bgcolor\":\"#E5ECF6\",\"polar\":{\"bgcolor\":\"#E5ECF6\",\"angularaxis\":{\"gridcolor\":\"white\",\"linecolor\":\"white\",\"ticks\":\"\"},\"radialaxis\":{\"gridcolor\":\"white\",\"linecolor\":\"white\",\"ticks\":\"\"}},\"ternary\":{\"bgcolor\":\"#E5ECF6\",\"aaxis\":{\"gridcolor\":\"white\",\"linecolor\":\"white\",\"ticks\":\"\"},\"baxis\":{\"gridcolor\":\"white\",\"linecolor\":\"white\",\"ticks\":\"\"},\"caxis\":{\"gridcolor\":\"white\",\"linecolor\":\"white\",\"ticks\":\"\"}},\"coloraxis\":{\"colorbar\":{\"outlinewidth\":0,\"ticks\":\"\"}},\"colorscale\":{\"sequential\":[[0.0,\"#0d0887\"],[0.1111111111111111,\"#46039f\"],[0.2222222222222222,\"#7201a8\"],[0.3333333333333333,\"#9c179e\"],[0.4444444444444444,\"#bd3786\"],[0.5555555555555556,\"#d8576b\"],[0.6666666666666666,\"#ed7953\"],[0.7777777777777778,\"#fb9f3a\"],[0.8888888888888888,\"#fdca26\"],[1.0,\"#f0f921\"]],\"sequentialminus\":[[0.0,\"#0d0887\"],[0.1111111111111111,\"#46039f\"],[0.2222222222222222,\"#7201a8\"],[0.3333333333333333,\"#9c179e\"],[0.4444444444444444,\"#bd3786\"],[0.5555555555555556,\"#d8576b\"],[0.6666666666666666,\"#ed7953\"],[0.7777777777777778,\"#fb9f3a\"],[0.8888888888888888,\"#fdca26\"],[1.0,\"#f0f921\"]],\"diverging\":[[0,\"#8e0152\"],[0.1,\"#c51b7d\"],[0.2,\"#de77ae\"],[0.3,\"#f1b6da\"],[0.4,\"#fde0ef\"],[0.5,\"#f7f7f7\"],[0.6,\"#e6f5d0\"],[0.7,\"#b8e186\"],[0.8,\"#7fbc41\"],[0.9,\"#4d9221\"],[1,\"#276419\"]]},\"xaxis\":{\"gridcolor\":\"white\",\"linecolor\":\"white\",\"ticks\":\"\",\"title\":{\"standoff\":15},\"zerolinecolor\":\"white\",\"automargin\":true,\"zerolinewidth\":2},\"yaxis\":{\"gridcolor\":\"white\",\"linecolor\":\"white\",\"ticks\":\"\",\"title\":{\"standoff\":15},\"zerolinecolor\":\"white\",\"automargin\":true,\"zerolinewidth\":2},\"scene\":{\"xaxis\":{\"backgroundcolor\":\"#E5ECF6\",\"gridcolor\":\"white\",\"linecolor\":\"white\",\"showbackground\":true,\"ticks\":\"\",\"zerolinecolor\":\"white\",\"gridwidth\":2},\"yaxis\":{\"backgroundcolor\":\"#E5ECF6\",\"gridcolor\":\"white\",\"linecolor\":\"white\",\"showbackground\":true,\"ticks\":\"\",\"zerolinecolor\":\"white\",\"gridwidth\":2},\"zaxis\":{\"backgroundcolor\":\"#E5ECF6\",\"gridcolor\":\"white\",\"linecolor\":\"white\",\"showbackground\":true,\"ticks\":\"\",\"zerolinecolor\":\"white\",\"gridwidth\":2}},\"shapedefaults\":{\"line\":{\"color\":\"#2a3f5f\"}},\"annotationdefaults\":{\"arrowcolor\":\"#2a3f5f\",\"arrowhead\":0,\"arrowwidth\":1},\"geo\":{\"bgcolor\":\"white\",\"landcolor\":\"#E5ECF6\",\"subunitcolor\":\"white\",\"showland\":true,\"showlakes\":true,\"lakecolor\":\"white\"},\"title\":{\"x\":0.05},\"mapbox\":{\"style\":\"light\"}}},\"xaxis\":{\"anchor\":\"y\",\"domain\":[0.0,1.0],\"title\":{\"text\":\"States\"},\"categoryorder\":\"total descending\",\"categoryarray\":[\"Andhra Pradesh\",\"Assam\",\"Bihar\",\"Chhattisgarh\",\"Delhi\",\"Goa\",\"Gujarat\",\"Haryana\",\"Himachal Pradesh\",\"Jammu & Kashmir\",\"Jharkhand\",\"Karnataka\",\"Kerala\",\"Madhya Pradesh\",\"Maharashtra\",\"Meghalaya\",\"Odisha\",\"Puducherry\",\"Punjab\",\"Rajasthan\",\"Sikkim\",\"Tamil Nadu\",\"Telangana\",\"Tripura\",\"Uttar Pradesh\",\"Uttarakhand\",\"West Bengal\"],\"tickangle\":45},\"yaxis\":{\"anchor\":\"x\",\"domain\":[0.0,1.0],\"title\":{\"text\":\"Estimated Unemployment Rate\"}},\"legend\":{\"title\":{\"text\":\"States\"},\"tracegroupgap\":0},\"title\":{\"text\":\" Unemployment Rate per state\"},\"boxmode\":\"overlay\",\"height\":600},                        {\"responsive\": true}                    ).then(function(){\n",
       "                            \n",
       "var gd = document.getElementById('af12fcc3-89e2-442e-b81c-99a703f7cc96');\n",
       "var x = new MutationObserver(function (mutations, observer) {{\n",
       "        var display = window.getComputedStyle(gd).display;\n",
       "        if (!display || display === 'none') {{\n",
       "            console.log([gd, 'removed!']);\n",
       "            Plotly.purge(gd);\n",
       "            observer.disconnect();\n",
       "        }}\n",
       "}});\n",
       "\n",
       "// Listen for the removal of the full notebook cells\n",
       "var notebookContainer = gd.closest('#notebook-container');\n",
       "if (notebookContainer) {{\n",
       "    x.observe(notebookContainer, {childList: true});\n",
       "}}\n",
       "\n",
       "// Listen for the clearing of the current output cell\n",
       "var outputEl = gd.closest('.output');\n",
       "if (outputEl) {{\n",
       "    x.observe(outputEl, {childList: true});\n",
       "}}\n",
       "\n",
       "                        })                };                });            </script>        </div>"
      ]
     },
     "metadata": {},
     "output_type": "display_data"
    }
   ],
   "source": [
    "# making Box plot for Estimated Unemployment Rate per state\n",
    "import plotly.express as px \n",
    "\n",
    "fig = px.box(df_cleaned , x = 'States' , y = 'Estimated Unemployment Rate' , color = 'States' , title = ' Unemployment Rate per state' ) \n",
    "\n",
    "# updating x axis  \n",
    "fig.update_layout(xaxis = {'categoryorder' : 'total descending' })\n",
    "fig.layout.xaxis.tickangle = 45\n",
    "fig.layout.height = 600\n",
    "\n",
    "fig.show()"
   ]
  },
  {
   "cell_type": "code",
   "execution_count": null,
   "id": "d4325172-d372-4446-b36d-36ac7369d569",
   "metadata": {},
   "outputs": [],
   "source": []
  },
  {
   "cell_type": "markdown",
   "id": "be8c461a-be33-4a3f-bcc6-95c1853563b0",
   "metadata": {},
   "source": [
    "**Scatter Matrix plot Formation**"
   ]
  },
  {
   "cell_type": "code",
   "execution_count": 23,
   "id": "a2b8d769-ed48-4ef0-bedd-4ba9899be01c",
   "metadata": {},
   "outputs": [
    {
     "data": {
      "application/vnd.plotly.v1+json": {
       "config": {
        "plotlyServerURL": "https://plot.ly"
       },
       "data": [
        {
         "dimensions": [
          {
           "axis": {
            "matches": true
           },
           "label": "Estimated Unemployment Rate",
           "values": [
            5.48,
            5.83,
            5.79,
            20.51,
            17.43,
            3.31,
            8.34,
            6.96,
            6.4,
            6.59,
            2.86,
            3.61,
            3.46,
            29.84,
            19.97,
            8.44,
            4.01,
            0.5,
            2.41,
            1.58,
            5.31,
            7.6,
            8.99,
            16.99,
            17.88,
            9.71,
            7.09,
            10.98,
            5.91,
            3.88,
            0.58,
            1.76,
            1.2,
            75.85,
            58.19,
            4.24,
            15.47,
            5.05,
            10.9,
            6.18,
            1.57,
            2.09,
            6.4,
            49.83,
            33.16,
            12.2,
            6.81,
            2.65,
            5,
            2.16,
            5.49,
            8.29,
            5.77,
            6.25,
            14.7,
            10.55,
            5.36,
            5.79,
            3.27,
            2.86
           ]
          },
          {
           "axis": {
            "matches": true
           },
           "label": "Estimated Employed",
           "values": [
            16635535,
            16545652,
            15881197,
            11336911,
            12988845,
            19805400,
            15431615,
            15251776,
            15220312,
            15157557,
            22688028,
            21677719,
            22079653,
            16718395,
            19397853,
            24215057,
            22885616,
            24094289,
            20127176,
            22356390,
            9904534,
            9828023,
            8221728,
            3933276,
            7921962,
            9228268,
            9504420,
            9031944,
            9240913,
            9152881,
            457950,
            493961,
            421028,
            117542,
            172308,
            367135,
            386563,
            396006,
            411717,
            428419,
            26881641,
            27570589,
            26830768,
            9719167,
            11483256,
            19096847,
            24572827,
            27046415,
            23025845,
            23651626,
            17609295,
            16825970,
            17341613,
            12172230,
            14977774,
            15108910,
            15679417,
            18185429,
            16961448,
            17578739
           ]
          },
          {
           "axis": {
            "matches": true
           },
           "label": "Estimated Labour Participation Rate",
           "values": [
            41.02,
            40.9,
            39.18,
            33.1,
            36.46,
            47.41,
            38.91,
            37.83,
            37.47,
            37.34,
            42.18,
            40.54,
            41.14,
            42.78,
            43.43,
            47.29,
            42.55,
            43.13,
            36.66,
            40.3,
            37.12,
            37.71,
            32,
            16.77,
            34.11,
            36.11,
            36.1,
            35.78,
            34.6,
            33.52,
            37.46,
            40.8,
            34.49,
            39.3,
            33.19,
            30.8,
            36.64,
            33.34,
            36.84,
            36.32,
            41.96,
            43.2,
            43.91,
            29.63,
            26.23,
            33.16,
            40.13,
            42.22,
            36.77,
            36.62,
            59.25,
            58.24,
            58.31,
            41.06,
            55.43,
            53.22,
            52.1,
            60.59,
            54.94,
            56.58
           ]
          }
         ],
         "hovertemplate": "Region=South<br>%{xaxis.title.text}=%{x}<br>%{yaxis.title.text}=%{y}<extra></extra>",
         "legendgroup": "South",
         "marker": {
          "color": "#636efa",
          "symbol": "circle"
         },
         "name": "South",
         "showlegend": true,
         "type": "splom"
        },
        {
         "dimensions": [
          {
           "axis": {
            "matches": true
           },
           "label": "Estimated Unemployment Rate",
           "values": [
            4.66,
            4.41,
            4.77,
            11.06,
            9.55,
            0.6,
            3.77,
            5.53,
            1.19,
            3.02,
            1.66,
            3.59,
            1.58,
            10.03,
            5.92,
            1.15,
            2.1,
            3.74,
            4.29,
            4.6,
            23.57,
            2.28,
            24.51,
            4.46,
            4.45,
            12.49,
            5.7,
            0.88,
            32.67,
            28.4,
            29.95,
            41.23,
            21.51,
            21.71,
            18.24,
            27.92,
            17.35,
            11.57
           ]
          },
          {
           "axis": {
            "matches": true
           },
           "label": "Estimated Employed",
           "values": [
            13051904,
            10088268,
            11542888,
            6830817,
            11367897,
            9095944,
            10286757,
            9781310,
            14107641,
            11949329,
            1491093,
            1346829,
            1482351,
            965057,
            1215064,
            1350794,
            1448106,
            1357643,
            1459726,
            1381490,
            262895,
            215303,
            193427,
            221058,
            265175,
            244462,
            231798,
            242068,
            1508130,
            1584686,
            1511217,
            971514,
            1290986,
            1494140,
            1348849,
            1318621,
            1368244,
            1576529
           ]
          },
          {
           "axis": {
            "matches": true
           },
           "label": "Estimated Labour Participation Rate",
           "values": [
            52.98,
            40.77,
            46.73,
            29.55,
            48.26,
            35.07,
            40.88,
            39.52,
            54.38,
            46.84,
            65.49,
            60.2,
            64.74,
            45.99,
            55.24,
            58.31,
            62.96,
            59.88,
            64.6,
            61.18,
            60.59,
            38.7,
            44.88,
            40.4,
            48.32,
            48.49,
            42.54,
            42.13,
            69.69,
            68.74,
            66.89,
            51.16,
            50.81,
            58.85,
            50.78,
            56.21,
            50.77,
            54.58
           ]
          }
         ],
         "hovertemplate": "Region=Northeast<br>%{xaxis.title.text}=%{x}<br>%{yaxis.title.text}=%{y}<extra></extra>",
         "legendgroup": "Northeast",
         "marker": {
          "color": "#EF553B",
          "symbol": "circle"
         },
         "name": "Northeast",
         "showlegend": true,
         "type": "splom"
        },
        {
         "dimensions": [
          {
           "axis": {
            "matches": true
           },
           "label": "Estimated Unemployment Rate",
           "values": [
            10.61,
            10.29,
            15.43,
            46.64,
            45.96,
            17.82,
            12.79,
            13.44,
            11.91,
            9.82,
            10.61,
            11.85,
            8.23,
            47.09,
            59.23,
            20.95,
            7.63,
            9.76,
            8.24,
            11.8,
            1.9,
            3.12,
            13.08,
            23.76,
            11.41,
            3.77,
            1.88,
            1.42,
            2.1,
            2.18,
            6.94,
            4.92,
            6.92,
            17.41,
            17.41,
            7.29,
            6.83,
            14.87,
            9.35,
            9.98
           ]
          },
          {
           "axis": {
            "matches": true
           },
           "label": "Estimated Employed",
           "values": [
            26397671,
            26281655,
            25717519,
            16046236,
            16280203,
            23963933,
            24989370,
            23795534,
            26902907,
            25693252,
            10198029,
            10425425,
            9638115,
            5335262,
            4145385,
            8622722,
            9521900,
            9331640,
            10185670,
            10302276,
            13743448,
            14280735,
            12272109,
            6865693,
            11730937,
            12903993,
            13614400,
            14154039,
            13608422,
            14094553,
            35820789,
            36964178,
            35903917,
            26938836,
            28356675,
            30726310,
            35372506,
            33298644,
            35707239,
            33962549
           ]
          },
          {
           "axis": {
            "matches": true
           },
           "label": "Estimated Labour Participation Rate",
           "values": [
            37.72,
            37.35,
            38.69,
            38.17,
            38.16,
            36.86,
            36.14,
            34.59,
            38.35,
            35.7,
            42.92,
            44.4,
            39.34,
            37.69,
            37.92,
            40.59,
            38.27,
            38.31,
            41.04,
            43.08,
            39.44,
            41.44,
            39.62,
            25.23,
            37.04,
            37.45,
            38.69,
            39.96,
            38.63,
            39.98,
            47.35,
            47.74,
            47.27,
            39.9,
            41.92,
            40.39,
            46.17,
            47.48,
            47.73,
            45.63
           ]
          }
         ],
         "hovertemplate": "Region=East<br>%{xaxis.title.text}=%{x}<br>%{yaxis.title.text}=%{y}<extra></extra>",
         "legendgroup": "East",
         "marker": {
          "color": "#00cc96",
          "symbol": "circle"
         },
         "name": "East",
         "showlegend": true,
         "type": "splom"
        },
        {
         "dimensions": [
          {
           "axis": {
            "matches": true
           },
           "label": "Estimated Unemployment Rate",
           "values": [
            9.65,
            8.38,
            7.54,
            3.41,
            10.5,
            14.23,
            10.27,
            5.63,
            1.96,
            6.62,
            8.89,
            2.81,
            5.25,
            13.31,
            21.25,
            9.96,
            17.07,
            16.21,
            15.38,
            11.54,
            5.54,
            6.38,
            6.66,
            18.71,
            12.11,
            3.2,
            1.84,
            1.87,
            3.42,
            4.03,
            4.11,
            4.57,
            2.22,
            12.36,
            21.98,
            6.48,
            5.08,
            4.7,
            3.91,
            3.13,
            4.95,
            4.69,
            5.79,
            20.9,
            15.46,
            9.23,
            3.89,
            6.23,
            4.55,
            4.1
           ]
          },
          {
           "axis": {
            "matches": true
           },
           "label": "Estimated Employed",
           "values": [
            8552172,
            9195114,
            9302317,
            7600448,
            6991217,
            7332807,
            8620294,
            9050422,
            9021854,
            8546847,
            416750,
            478068,
            411761,
            500614,
            378244,
            489111,
            458876,
            473016,
            425004,
            392304,
            24126346,
            24757795,
            23566641,
            15288878,
            17836936,
            23657055,
            24276120,
            22817232,
            25010199,
            25970259,
            23018632,
            22711479,
            22867164,
            19041832,
            18443927,
            23054646,
            23940158,
            23619011,
            23341952,
            23144552,
            42596868,
            42416317,
            40196806,
            27689253,
            32116847,
            39708538,
            40998545,
            40963616,
            42042911,
            43317881
           ]
          },
          {
           "axis": {
            "matches": true
           },
           "label": "Estimated Labour Participation Rate",
           "values": [
            43.08,
            45.58,
            45.59,
            35.58,
            35.23,
            38.48,
            43.14,
            42.97,
            41.14,
            40.82,
            35.73,
            38.38,
            33.88,
            44.97,
            37.36,
            42.21,
            42.94,
            43.76,
            38.89,
            34.3,
            48.49,
            50.11,
            47.75,
            35.5,
            38.23,
            45.96,
            46.41,
            43.55,
            48.41,
            50.49,
            39.42,
            39,
            38.24,
            35.45,
            38.48,
            40.04,
            40.88,
            40.08,
            39.2,
            38.47,
            44.19,
            43.8,
            41.91,
            34.32,
            37.17,
            42.71,
            41.57,
            42.49,
            42.75,
            43.75
           ]
          }
         ],
         "hovertemplate": "Region=West<br>%{xaxis.title.text}=%{x}<br>%{yaxis.title.text}=%{y}<extra></extra>",
         "legendgroup": "West",
         "marker": {
          "color": "#ab63fa",
          "symbol": "circle"
         },
         "name": "West",
         "showlegend": true,
         "type": "splom"
        },
        {
         "dimensions": [
          {
           "axis": {
            "matches": true
           },
           "label": "Estimated Unemployment Rate",
           "values": [
            22.23,
            14.84,
            17.04,
            16.68,
            42.27,
            18.19,
            20.3,
            13.79,
            12.53,
            6.27,
            20.34,
            25.77,
            25.05,
            43.22,
            29.02,
            26.7,
            24.18,
            33.5,
            19.68,
            27.31,
            16.83,
            16.84,
            18.76,
            2.2,
            26.95,
            13.47,
            24.31,
            15.79,
            12.04,
            13.46,
            21.08,
            20.78,
            15.5,
            18.74,
            17.92,
            10.88,
            11.09,
            16.17,
            16.14,
            11.11,
            10.97,
            10.32,
            2.86,
            28.33,
            16.55,
            9.19,
            10.99,
            9.61,
            9.88,
            10.97,
            15.16,
            11.9,
            17.7,
            15.74,
            14.39,
            15.81,
            17.51,
            15.35,
            24.15,
            7.58,
            8.98,
            10.11,
            21.54,
            20.41,
            9.47,
            5.56,
            5.79,
            4.18,
            3.75,
            5.49,
            4.99,
            19.85,
            6.48,
            8.01,
            8.61,
            12.38,
            14.26,
            22.26,
            9.23
           ]
          },
          {
           "axis": {
            "matches": true
           },
           "label": "Estimated Employed",
           "values": [
            5805284,
            5856307,
            5553805,
            3119274,
            2632404,
            4418914,
            4291053,
            4850107,
            4958373,
            4842698,
            7693231,
            7322942,
            6641555,
            5647630,
            6437868,
            6951934,
            6800652,
            7113788,
            7132439,
            6698551,
            2287632,
            2180268,
            2021858,
            1131128,
            1897639,
            2199683,
            2229456,
            2029740,
            2237480,
            2123965,
            3453025,
            3223513,
            3359107,
            3246493,
            3202336,
            3558889,
            3429950,
            3210281,
            3106691,
            9442093,
            9229047,
            9975485,
            7020565,
            6872938,
            8390766,
            9732417,
            9386169,
            8980432,
            8800430,
            20641716,
            20328915,
            20024680,
            15984142,
            19826602,
            20506612,
            19932393,
            20014060,
            20149594,
            19908808,
            59433759,
            58060531,
            56976338,
            50915056,
            49801902,
            55380649,
            56201654,
            55831744,
            56106836,
            56539521,
            2711639,
            3020931,
            2539302,
            2720115,
            2694072,
            2656071,
            2938552,
            2717528,
            2695230,
            2739309
           ]
          },
          {
           "axis": {
            "matches": true
           },
           "label": "Estimated Labour Participation Rate",
           "values": [
            47.79,
            43.92,
            42.65,
            23.8,
            28.91,
            34.17,
            33.97,
            35.41,
            35.59,
            32.36,
            43.36,
            44.21,
            39.63,
            44.38,
            40.39,
            42.14,
            39.77,
            47.32,
            39.2,
            40.6,
            45.5,
            43.3,
            41.04,
            19.04,
            42.7,
            41.72,
            48.25,
            39.42,
            41.54,
            40.01,
            42.2,
            39.17,
            38.18,
            38.21,
            37.24,
            38.03,
            36.66,
            36.31,
            35.05,
            42.82,
            41.72,
            44.69,
            28.99,
            38.39,
            40.18,
            42.76,
            41.99,
            39.5,
            38.75,
            40.51,
            41.77,
            39.54,
            33.71,
            40.74,
            41.38,
            40.8,
            41.71,
            40.83,
            44.92,
            39.63,
            39.23,
            38.89,
            39.73,
            38.22,
            37.29,
            36.19,
            35.96,
            35.45,
            35.49,
            32.99,
            36.48,
            36.27,
            33.23,
            33.38,
            33.06,
            38.07,
            35.9,
            39.18,
            34.03
           ]
          }
         ],
         "hovertemplate": "Region=North<br>%{xaxis.title.text}=%{x}<br>%{yaxis.title.text}=%{y}<extra></extra>",
         "legendgroup": "North",
         "marker": {
          "color": "#FFA15A",
          "symbol": "circle"
         },
         "name": "North",
         "showlegend": true,
         "type": "splom"
        }
       ],
       "layout": {
        "autosize": true,
        "dragmode": "select",
        "legend": {
         "title": {
          "text": "Region"
         },
         "tracegroupgap": 0
        },
        "margin": {
         "t": 60
        },
        "template": {
         "data": {
          "bar": [
           {
            "error_x": {
             "color": "#2a3f5f"
            },
            "error_y": {
             "color": "#2a3f5f"
            },
            "marker": {
             "line": {
              "color": "#E5ECF6",
              "width": 0.5
             },
             "pattern": {
              "fillmode": "overlay",
              "size": 10,
              "solidity": 0.2
             }
            },
            "type": "bar"
           }
          ],
          "barpolar": [
           {
            "marker": {
             "line": {
              "color": "#E5ECF6",
              "width": 0.5
             },
             "pattern": {
              "fillmode": "overlay",
              "size": 10,
              "solidity": 0.2
             }
            },
            "type": "barpolar"
           }
          ],
          "carpet": [
           {
            "aaxis": {
             "endlinecolor": "#2a3f5f",
             "gridcolor": "white",
             "linecolor": "white",
             "minorgridcolor": "white",
             "startlinecolor": "#2a3f5f"
            },
            "baxis": {
             "endlinecolor": "#2a3f5f",
             "gridcolor": "white",
             "linecolor": "white",
             "minorgridcolor": "white",
             "startlinecolor": "#2a3f5f"
            },
            "type": "carpet"
           }
          ],
          "choropleth": [
           {
            "colorbar": {
             "outlinewidth": 0,
             "ticks": ""
            },
            "type": "choropleth"
           }
          ],
          "contour": [
           {
            "colorbar": {
             "outlinewidth": 0,
             "ticks": ""
            },
            "colorscale": [
             [
              0,
              "#0d0887"
             ],
             [
              0.1111111111111111,
              "#46039f"
             ],
             [
              0.2222222222222222,
              "#7201a8"
             ],
             [
              0.3333333333333333,
              "#9c179e"
             ],
             [
              0.4444444444444444,
              "#bd3786"
             ],
             [
              0.5555555555555556,
              "#d8576b"
             ],
             [
              0.6666666666666666,
              "#ed7953"
             ],
             [
              0.7777777777777778,
              "#fb9f3a"
             ],
             [
              0.8888888888888888,
              "#fdca26"
             ],
             [
              1,
              "#f0f921"
             ]
            ],
            "type": "contour"
           }
          ],
          "contourcarpet": [
           {
            "colorbar": {
             "outlinewidth": 0,
             "ticks": ""
            },
            "type": "contourcarpet"
           }
          ],
          "heatmap": [
           {
            "colorbar": {
             "outlinewidth": 0,
             "ticks": ""
            },
            "colorscale": [
             [
              0,
              "#0d0887"
             ],
             [
              0.1111111111111111,
              "#46039f"
             ],
             [
              0.2222222222222222,
              "#7201a8"
             ],
             [
              0.3333333333333333,
              "#9c179e"
             ],
             [
              0.4444444444444444,
              "#bd3786"
             ],
             [
              0.5555555555555556,
              "#d8576b"
             ],
             [
              0.6666666666666666,
              "#ed7953"
             ],
             [
              0.7777777777777778,
              "#fb9f3a"
             ],
             [
              0.8888888888888888,
              "#fdca26"
             ],
             [
              1,
              "#f0f921"
             ]
            ],
            "type": "heatmap"
           }
          ],
          "heatmapgl": [
           {
            "colorbar": {
             "outlinewidth": 0,
             "ticks": ""
            },
            "colorscale": [
             [
              0,
              "#0d0887"
             ],
             [
              0.1111111111111111,
              "#46039f"
             ],
             [
              0.2222222222222222,
              "#7201a8"
             ],
             [
              0.3333333333333333,
              "#9c179e"
             ],
             [
              0.4444444444444444,
              "#bd3786"
             ],
             [
              0.5555555555555556,
              "#d8576b"
             ],
             [
              0.6666666666666666,
              "#ed7953"
             ],
             [
              0.7777777777777778,
              "#fb9f3a"
             ],
             [
              0.8888888888888888,
              "#fdca26"
             ],
             [
              1,
              "#f0f921"
             ]
            ],
            "type": "heatmapgl"
           }
          ],
          "histogram": [
           {
            "marker": {
             "pattern": {
              "fillmode": "overlay",
              "size": 10,
              "solidity": 0.2
             }
            },
            "type": "histogram"
           }
          ],
          "histogram2d": [
           {
            "colorbar": {
             "outlinewidth": 0,
             "ticks": ""
            },
            "colorscale": [
             [
              0,
              "#0d0887"
             ],
             [
              0.1111111111111111,
              "#46039f"
             ],
             [
              0.2222222222222222,
              "#7201a8"
             ],
             [
              0.3333333333333333,
              "#9c179e"
             ],
             [
              0.4444444444444444,
              "#bd3786"
             ],
             [
              0.5555555555555556,
              "#d8576b"
             ],
             [
              0.6666666666666666,
              "#ed7953"
             ],
             [
              0.7777777777777778,
              "#fb9f3a"
             ],
             [
              0.8888888888888888,
              "#fdca26"
             ],
             [
              1,
              "#f0f921"
             ]
            ],
            "type": "histogram2d"
           }
          ],
          "histogram2dcontour": [
           {
            "colorbar": {
             "outlinewidth": 0,
             "ticks": ""
            },
            "colorscale": [
             [
              0,
              "#0d0887"
             ],
             [
              0.1111111111111111,
              "#46039f"
             ],
             [
              0.2222222222222222,
              "#7201a8"
             ],
             [
              0.3333333333333333,
              "#9c179e"
             ],
             [
              0.4444444444444444,
              "#bd3786"
             ],
             [
              0.5555555555555556,
              "#d8576b"
             ],
             [
              0.6666666666666666,
              "#ed7953"
             ],
             [
              0.7777777777777778,
              "#fb9f3a"
             ],
             [
              0.8888888888888888,
              "#fdca26"
             ],
             [
              1,
              "#f0f921"
             ]
            ],
            "type": "histogram2dcontour"
           }
          ],
          "mesh3d": [
           {
            "colorbar": {
             "outlinewidth": 0,
             "ticks": ""
            },
            "type": "mesh3d"
           }
          ],
          "parcoords": [
           {
            "line": {
             "colorbar": {
              "outlinewidth": 0,
              "ticks": ""
             }
            },
            "type": "parcoords"
           }
          ],
          "pie": [
           {
            "automargin": true,
            "type": "pie"
           }
          ],
          "scatter": [
           {
            "fillpattern": {
             "fillmode": "overlay",
             "size": 10,
             "solidity": 0.2
            },
            "type": "scatter"
           }
          ],
          "scatter3d": [
           {
            "line": {
             "colorbar": {
              "outlinewidth": 0,
              "ticks": ""
             }
            },
            "marker": {
             "colorbar": {
              "outlinewidth": 0,
              "ticks": ""
             }
            },
            "type": "scatter3d"
           }
          ],
          "scattercarpet": [
           {
            "marker": {
             "colorbar": {
              "outlinewidth": 0,
              "ticks": ""
             }
            },
            "type": "scattercarpet"
           }
          ],
          "scattergeo": [
           {
            "marker": {
             "colorbar": {
              "outlinewidth": 0,
              "ticks": ""
             }
            },
            "type": "scattergeo"
           }
          ],
          "scattergl": [
           {
            "marker": {
             "colorbar": {
              "outlinewidth": 0,
              "ticks": ""
             }
            },
            "type": "scattergl"
           }
          ],
          "scattermapbox": [
           {
            "marker": {
             "colorbar": {
              "outlinewidth": 0,
              "ticks": ""
             }
            },
            "type": "scattermapbox"
           }
          ],
          "scatterpolar": [
           {
            "marker": {
             "colorbar": {
              "outlinewidth": 0,
              "ticks": ""
             }
            },
            "type": "scatterpolar"
           }
          ],
          "scatterpolargl": [
           {
            "marker": {
             "colorbar": {
              "outlinewidth": 0,
              "ticks": ""
             }
            },
            "type": "scatterpolargl"
           }
          ],
          "scatterternary": [
           {
            "marker": {
             "colorbar": {
              "outlinewidth": 0,
              "ticks": ""
             }
            },
            "type": "scatterternary"
           }
          ],
          "surface": [
           {
            "colorbar": {
             "outlinewidth": 0,
             "ticks": ""
            },
            "colorscale": [
             [
              0,
              "#0d0887"
             ],
             [
              0.1111111111111111,
              "#46039f"
             ],
             [
              0.2222222222222222,
              "#7201a8"
             ],
             [
              0.3333333333333333,
              "#9c179e"
             ],
             [
              0.4444444444444444,
              "#bd3786"
             ],
             [
              0.5555555555555556,
              "#d8576b"
             ],
             [
              0.6666666666666666,
              "#ed7953"
             ],
             [
              0.7777777777777778,
              "#fb9f3a"
             ],
             [
              0.8888888888888888,
              "#fdca26"
             ],
             [
              1,
              "#f0f921"
             ]
            ],
            "type": "surface"
           }
          ],
          "table": [
           {
            "cells": {
             "fill": {
              "color": "#EBF0F8"
             },
             "line": {
              "color": "white"
             }
            },
            "header": {
             "fill": {
              "color": "#C8D4E3"
             },
             "line": {
              "color": "white"
             }
            },
            "type": "table"
           }
          ]
         },
         "layout": {
          "annotationdefaults": {
           "arrowcolor": "#2a3f5f",
           "arrowhead": 0,
           "arrowwidth": 1
          },
          "autotypenumbers": "strict",
          "coloraxis": {
           "colorbar": {
            "outlinewidth": 0,
            "ticks": ""
           }
          },
          "colorscale": {
           "diverging": [
            [
             0,
             "#8e0152"
            ],
            [
             0.1,
             "#c51b7d"
            ],
            [
             0.2,
             "#de77ae"
            ],
            [
             0.3,
             "#f1b6da"
            ],
            [
             0.4,
             "#fde0ef"
            ],
            [
             0.5,
             "#f7f7f7"
            ],
            [
             0.6,
             "#e6f5d0"
            ],
            [
             0.7,
             "#b8e186"
            ],
            [
             0.8,
             "#7fbc41"
            ],
            [
             0.9,
             "#4d9221"
            ],
            [
             1,
             "#276419"
            ]
           ],
           "sequential": [
            [
             0,
             "#0d0887"
            ],
            [
             0.1111111111111111,
             "#46039f"
            ],
            [
             0.2222222222222222,
             "#7201a8"
            ],
            [
             0.3333333333333333,
             "#9c179e"
            ],
            [
             0.4444444444444444,
             "#bd3786"
            ],
            [
             0.5555555555555556,
             "#d8576b"
            ],
            [
             0.6666666666666666,
             "#ed7953"
            ],
            [
             0.7777777777777778,
             "#fb9f3a"
            ],
            [
             0.8888888888888888,
             "#fdca26"
            ],
            [
             1,
             "#f0f921"
            ]
           ],
           "sequentialminus": [
            [
             0,
             "#0d0887"
            ],
            [
             0.1111111111111111,
             "#46039f"
            ],
            [
             0.2222222222222222,
             "#7201a8"
            ],
            [
             0.3333333333333333,
             "#9c179e"
            ],
            [
             0.4444444444444444,
             "#bd3786"
            ],
            [
             0.5555555555555556,
             "#d8576b"
            ],
            [
             0.6666666666666666,
             "#ed7953"
            ],
            [
             0.7777777777777778,
             "#fb9f3a"
            ],
            [
             0.8888888888888888,
             "#fdca26"
            ],
            [
             1,
             "#f0f921"
            ]
           ]
          },
          "colorway": [
           "#636efa",
           "#EF553B",
           "#00cc96",
           "#ab63fa",
           "#FFA15A",
           "#19d3f3",
           "#FF6692",
           "#B6E880",
           "#FF97FF",
           "#FECB52"
          ],
          "font": {
           "color": "#2a3f5f"
          },
          "geo": {
           "bgcolor": "white",
           "lakecolor": "white",
           "landcolor": "#E5ECF6",
           "showlakes": true,
           "showland": true,
           "subunitcolor": "white"
          },
          "hoverlabel": {
           "align": "left"
          },
          "hovermode": "closest",
          "mapbox": {
           "style": "light"
          },
          "paper_bgcolor": "white",
          "plot_bgcolor": "#E5ECF6",
          "polar": {
           "angularaxis": {
            "gridcolor": "white",
            "linecolor": "white",
            "ticks": ""
           },
           "bgcolor": "#E5ECF6",
           "radialaxis": {
            "gridcolor": "white",
            "linecolor": "white",
            "ticks": ""
           }
          },
          "scene": {
           "xaxis": {
            "backgroundcolor": "#E5ECF6",
            "gridcolor": "white",
            "gridwidth": 2,
            "linecolor": "white",
            "showbackground": true,
            "ticks": "",
            "zerolinecolor": "white"
           },
           "yaxis": {
            "backgroundcolor": "#E5ECF6",
            "gridcolor": "white",
            "gridwidth": 2,
            "linecolor": "white",
            "showbackground": true,
            "ticks": "",
            "zerolinecolor": "white"
           },
           "zaxis": {
            "backgroundcolor": "#E5ECF6",
            "gridcolor": "white",
            "gridwidth": 2,
            "linecolor": "white",
            "showbackground": true,
            "ticks": "",
            "zerolinecolor": "white"
           }
          },
          "shapedefaults": {
           "line": {
            "color": "#2a3f5f"
           }
          },
          "ternary": {
           "aaxis": {
            "gridcolor": "white",
            "linecolor": "white",
            "ticks": ""
           },
           "baxis": {
            "gridcolor": "white",
            "linecolor": "white",
            "ticks": ""
           },
           "bgcolor": "#E5ECF6",
           "caxis": {
            "gridcolor": "white",
            "linecolor": "white",
            "ticks": ""
           }
          },
          "title": {
           "x": 0.05
          },
          "xaxis": {
           "automargin": true,
           "gridcolor": "white",
           "linecolor": "white",
           "ticks": "",
           "title": {
            "standoff": 15
           },
           "zerolinecolor": "white",
           "zerolinewidth": 2
          },
          "yaxis": {
           "automargin": true,
           "gridcolor": "white",
           "linecolor": "white",
           "ticks": "",
           "title": {
            "standoff": 15
           },
           "zerolinecolor": "white",
           "zerolinewidth": 2
          }
         }
        },
        "xaxis": {
         "autorange": true,
         "range": [
          -5.219291487749431,
          81.56929148774942
         ],
         "type": "linear"
        },
        "xaxis2": {
         "autorange": true,
         "range": [
          -4384737.163551402,
          63936038.163551405
         ],
         "type": "linear"
        },
        "xaxis3": {
         "autorange": true,
         "range": [
          12.753212932558725,
          73.70678706744127
         ],
         "type": "linear"
        },
        "yaxis": {
         "autorange": true,
         "range": [
          -5.219291487749431,
          81.56929148774942
         ],
         "type": "linear"
        },
        "yaxis2": {
         "autorange": true,
         "range": [
          -4384737.163551402,
          63936038.163551405
         ],
         "type": "linear"
        },
        "yaxis3": {
         "autorange": true,
         "range": [
          12.753212932558725,
          73.70678706744127
         ],
         "type": "linear"
        }
       }
      },
      "text/html": [
       "<div>                            <div id=\"cbe54e7a-3453-4318-990b-67b03cf86cfd\" class=\"plotly-graph-div\" style=\"height:900px; width:100%;\"></div>            <script type=\"text/javascript\">                require([\"plotly\"], function(Plotly) {                    window.PLOTLYENV=window.PLOTLYENV || {};                                    if (document.getElementById(\"cbe54e7a-3453-4318-990b-67b03cf86cfd\")) {                    Plotly.newPlot(                        \"cbe54e7a-3453-4318-990b-67b03cf86cfd\",                        [{\"dimensions\":[{\"axis\":{\"matches\":true},\"label\":\"Estimated Unemployment Rate\",\"values\":[5.48,5.83,5.79,20.51,17.43,3.31,8.34,6.96,6.4,6.59,2.86,3.61,3.46,29.84,19.97,8.44,4.01,0.5,2.41,1.58,5.31,7.6,8.99,16.99,17.88,9.71,7.09,10.98,5.91,3.88,0.58,1.76,1.2,75.85,58.19,4.24,15.47,5.05,10.9,6.18,1.57,2.09,6.4,49.83,33.16,12.2,6.81,2.65,5.0,2.16,5.49,8.29,5.77,6.25,14.7,10.55,5.36,5.79,3.27,2.86]},{\"axis\":{\"matches\":true},\"label\":\"Estimated Employed\",\"values\":[16635535,16545652,15881197,11336911,12988845,19805400,15431615,15251776,15220312,15157557,22688028,21677719,22079653,16718395,19397853,24215057,22885616,24094289,20127176,22356390,9904534,9828023,8221728,3933276,7921962,9228268,9504420,9031944,9240913,9152881,457950,493961,421028,117542,172308,367135,386563,396006,411717,428419,26881641,27570589,26830768,9719167,11483256,19096847,24572827,27046415,23025845,23651626,17609295,16825970,17341613,12172230,14977774,15108910,15679417,18185429,16961448,17578739]},{\"axis\":{\"matches\":true},\"label\":\"Estimated Labour Participation Rate\",\"values\":[41.02,40.9,39.18,33.1,36.46,47.41,38.91,37.83,37.47,37.34,42.18,40.54,41.14,42.78,43.43,47.29,42.55,43.13,36.66,40.3,37.12,37.71,32.0,16.77,34.11,36.11,36.1,35.78,34.6,33.52,37.46,40.8,34.49,39.3,33.19,30.8,36.64,33.34,36.84,36.32,41.96,43.2,43.91,29.63,26.23,33.16,40.13,42.22,36.77,36.62,59.25,58.24,58.31,41.06,55.43,53.22,52.1,60.59,54.94,56.58]}],\"hovertemplate\":\"Region=South\\u003cbr\\u003e%{xaxis.title.text}=%{x}\\u003cbr\\u003e%{yaxis.title.text}=%{y}\\u003cextra\\u003e\\u003c\\u002fextra\\u003e\",\"legendgroup\":\"South\",\"marker\":{\"color\":\"#636efa\",\"symbol\":\"circle\"},\"name\":\"South\",\"showlegend\":true,\"type\":\"splom\"},{\"dimensions\":[{\"axis\":{\"matches\":true},\"label\":\"Estimated Unemployment Rate\",\"values\":[4.66,4.41,4.77,11.06,9.55,0.6,3.77,5.53,1.19,3.02,1.66,3.59,1.58,10.03,5.92,1.15,2.1,3.74,4.29,4.6,23.57,2.28,24.51,4.46,4.45,12.49,5.7,0.88,32.67,28.4,29.95,41.23,21.51,21.71,18.24,27.92,17.35,11.57]},{\"axis\":{\"matches\":true},\"label\":\"Estimated Employed\",\"values\":[13051904,10088268,11542888,6830817,11367897,9095944,10286757,9781310,14107641,11949329,1491093,1346829,1482351,965057,1215064,1350794,1448106,1357643,1459726,1381490,262895,215303,193427,221058,265175,244462,231798,242068,1508130,1584686,1511217,971514,1290986,1494140,1348849,1318621,1368244,1576529]},{\"axis\":{\"matches\":true},\"label\":\"Estimated Labour Participation Rate\",\"values\":[52.98,40.77,46.73,29.55,48.26,35.07,40.88,39.52,54.38,46.84,65.49,60.2,64.74,45.99,55.24,58.31,62.96,59.88,64.6,61.18,60.59,38.7,44.88,40.4,48.32,48.49,42.54,42.13,69.69,68.74,66.89,51.16,50.81,58.85,50.78,56.21,50.77,54.58]}],\"hovertemplate\":\"Region=Northeast\\u003cbr\\u003e%{xaxis.title.text}=%{x}\\u003cbr\\u003e%{yaxis.title.text}=%{y}\\u003cextra\\u003e\\u003c\\u002fextra\\u003e\",\"legendgroup\":\"Northeast\",\"marker\":{\"color\":\"#EF553B\",\"symbol\":\"circle\"},\"name\":\"Northeast\",\"showlegend\":true,\"type\":\"splom\"},{\"dimensions\":[{\"axis\":{\"matches\":true},\"label\":\"Estimated Unemployment Rate\",\"values\":[10.61,10.29,15.43,46.64,45.96,17.82,12.79,13.44,11.91,9.82,10.61,11.85,8.23,47.09,59.23,20.95,7.63,9.76,8.24,11.8,1.9,3.12,13.08,23.76,11.41,3.77,1.88,1.42,2.1,2.18,6.94,4.92,6.92,17.41,17.41,7.29,6.83,14.87,9.35,9.98]},{\"axis\":{\"matches\":true},\"label\":\"Estimated Employed\",\"values\":[26397671,26281655,25717519,16046236,16280203,23963933,24989370,23795534,26902907,25693252,10198029,10425425,9638115,5335262,4145385,8622722,9521900,9331640,10185670,10302276,13743448,14280735,12272109,6865693,11730937,12903993,13614400,14154039,13608422,14094553,35820789,36964178,35903917,26938836,28356675,30726310,35372506,33298644,35707239,33962549]},{\"axis\":{\"matches\":true},\"label\":\"Estimated Labour Participation Rate\",\"values\":[37.72,37.35,38.69,38.17,38.16,36.86,36.14,34.59,38.35,35.7,42.92,44.4,39.34,37.69,37.92,40.59,38.27,38.31,41.04,43.08,39.44,41.44,39.62,25.23,37.04,37.45,38.69,39.96,38.63,39.98,47.35,47.74,47.27,39.9,41.92,40.39,46.17,47.48,47.73,45.63]}],\"hovertemplate\":\"Region=East\\u003cbr\\u003e%{xaxis.title.text}=%{x}\\u003cbr\\u003e%{yaxis.title.text}=%{y}\\u003cextra\\u003e\\u003c\\u002fextra\\u003e\",\"legendgroup\":\"East\",\"marker\":{\"color\":\"#00cc96\",\"symbol\":\"circle\"},\"name\":\"East\",\"showlegend\":true,\"type\":\"splom\"},{\"dimensions\":[{\"axis\":{\"matches\":true},\"label\":\"Estimated Unemployment Rate\",\"values\":[9.65,8.38,7.54,3.41,10.5,14.23,10.27,5.63,1.96,6.62,8.89,2.81,5.25,13.31,21.25,9.96,17.07,16.21,15.38,11.54,5.54,6.38,6.66,18.71,12.11,3.2,1.84,1.87,3.42,4.03,4.11,4.57,2.22,12.36,21.98,6.48,5.08,4.7,3.91,3.13,4.95,4.69,5.79,20.9,15.46,9.23,3.89,6.23,4.55,4.1]},{\"axis\":{\"matches\":true},\"label\":\"Estimated Employed\",\"values\":[8552172,9195114,9302317,7600448,6991217,7332807,8620294,9050422,9021854,8546847,416750,478068,411761,500614,378244,489111,458876,473016,425004,392304,24126346,24757795,23566641,15288878,17836936,23657055,24276120,22817232,25010199,25970259,23018632,22711479,22867164,19041832,18443927,23054646,23940158,23619011,23341952,23144552,42596868,42416317,40196806,27689253,32116847,39708538,40998545,40963616,42042911,43317881]},{\"axis\":{\"matches\":true},\"label\":\"Estimated Labour Participation Rate\",\"values\":[43.08,45.58,45.59,35.58,35.23,38.48,43.14,42.97,41.14,40.82,35.73,38.38,33.88,44.97,37.36,42.21,42.94,43.76,38.89,34.3,48.49,50.11,47.75,35.5,38.23,45.96,46.41,43.55,48.41,50.49,39.42,39.0,38.24,35.45,38.48,40.04,40.88,40.08,39.2,38.47,44.19,43.8,41.91,34.32,37.17,42.71,41.57,42.49,42.75,43.75]}],\"hovertemplate\":\"Region=West\\u003cbr\\u003e%{xaxis.title.text}=%{x}\\u003cbr\\u003e%{yaxis.title.text}=%{y}\\u003cextra\\u003e\\u003c\\u002fextra\\u003e\",\"legendgroup\":\"West\",\"marker\":{\"color\":\"#ab63fa\",\"symbol\":\"circle\"},\"name\":\"West\",\"showlegend\":true,\"type\":\"splom\"},{\"dimensions\":[{\"axis\":{\"matches\":true},\"label\":\"Estimated Unemployment Rate\",\"values\":[22.23,14.84,17.04,16.68,42.27,18.19,20.3,13.79,12.53,6.27,20.34,25.77,25.05,43.22,29.02,26.7,24.18,33.5,19.68,27.31,16.83,16.84,18.76,2.2,26.95,13.47,24.31,15.79,12.04,13.46,21.08,20.78,15.5,18.74,17.92,10.88,11.09,16.17,16.14,11.11,10.97,10.32,2.86,28.33,16.55,9.19,10.99,9.61,9.88,10.97,15.16,11.9,17.7,15.74,14.39,15.81,17.51,15.35,24.15,7.58,8.98,10.11,21.54,20.41,9.47,5.56,5.79,4.18,3.75,5.49,4.99,19.85,6.48,8.01,8.61,12.38,14.26,22.26,9.23]},{\"axis\":{\"matches\":true},\"label\":\"Estimated Employed\",\"values\":[5805284,5856307,5553805,3119274,2632404,4418914,4291053,4850107,4958373,4842698,7693231,7322942,6641555,5647630,6437868,6951934,6800652,7113788,7132439,6698551,2287632,2180268,2021858,1131128,1897639,2199683,2229456,2029740,2237480,2123965,3453025,3223513,3359107,3246493,3202336,3558889,3429950,3210281,3106691,9442093,9229047,9975485,7020565,6872938,8390766,9732417,9386169,8980432,8800430,20641716,20328915,20024680,15984142,19826602,20506612,19932393,20014060,20149594,19908808,59433759,58060531,56976338,50915056,49801902,55380649,56201654,55831744,56106836,56539521,2711639,3020931,2539302,2720115,2694072,2656071,2938552,2717528,2695230,2739309]},{\"axis\":{\"matches\":true},\"label\":\"Estimated Labour Participation Rate\",\"values\":[47.79,43.92,42.65,23.8,28.91,34.17,33.97,35.41,35.59,32.36,43.36,44.21,39.63,44.38,40.39,42.14,39.77,47.32,39.2,40.6,45.5,43.3,41.04,19.04,42.7,41.72,48.25,39.42,41.54,40.01,42.2,39.17,38.18,38.21,37.24,38.03,36.66,36.31,35.05,42.82,41.72,44.69,28.99,38.39,40.18,42.76,41.99,39.5,38.75,40.51,41.77,39.54,33.71,40.74,41.38,40.8,41.71,40.83,44.92,39.63,39.23,38.89,39.73,38.22,37.29,36.19,35.96,35.45,35.49,32.99,36.48,36.27,33.23,33.38,33.06,38.07,35.9,39.18,34.03]}],\"hovertemplate\":\"Region=North\\u003cbr\\u003e%{xaxis.title.text}=%{x}\\u003cbr\\u003e%{yaxis.title.text}=%{y}\\u003cextra\\u003e\\u003c\\u002fextra\\u003e\",\"legendgroup\":\"North\",\"marker\":{\"color\":\"#FFA15A\",\"symbol\":\"circle\"},\"name\":\"North\",\"showlegend\":true,\"type\":\"splom\"}],                        {\"template\":{\"data\":{\"histogram2dcontour\":[{\"type\":\"histogram2dcontour\",\"colorbar\":{\"outlinewidth\":0,\"ticks\":\"\"},\"colorscale\":[[0.0,\"#0d0887\"],[0.1111111111111111,\"#46039f\"],[0.2222222222222222,\"#7201a8\"],[0.3333333333333333,\"#9c179e\"],[0.4444444444444444,\"#bd3786\"],[0.5555555555555556,\"#d8576b\"],[0.6666666666666666,\"#ed7953\"],[0.7777777777777778,\"#fb9f3a\"],[0.8888888888888888,\"#fdca26\"],[1.0,\"#f0f921\"]]}],\"choropleth\":[{\"type\":\"choropleth\",\"colorbar\":{\"outlinewidth\":0,\"ticks\":\"\"}}],\"histogram2d\":[{\"type\":\"histogram2d\",\"colorbar\":{\"outlinewidth\":0,\"ticks\":\"\"},\"colorscale\":[[0.0,\"#0d0887\"],[0.1111111111111111,\"#46039f\"],[0.2222222222222222,\"#7201a8\"],[0.3333333333333333,\"#9c179e\"],[0.4444444444444444,\"#bd3786\"],[0.5555555555555556,\"#d8576b\"],[0.6666666666666666,\"#ed7953\"],[0.7777777777777778,\"#fb9f3a\"],[0.8888888888888888,\"#fdca26\"],[1.0,\"#f0f921\"]]}],\"heatmap\":[{\"type\":\"heatmap\",\"colorbar\":{\"outlinewidth\":0,\"ticks\":\"\"},\"colorscale\":[[0.0,\"#0d0887\"],[0.1111111111111111,\"#46039f\"],[0.2222222222222222,\"#7201a8\"],[0.3333333333333333,\"#9c179e\"],[0.4444444444444444,\"#bd3786\"],[0.5555555555555556,\"#d8576b\"],[0.6666666666666666,\"#ed7953\"],[0.7777777777777778,\"#fb9f3a\"],[0.8888888888888888,\"#fdca26\"],[1.0,\"#f0f921\"]]}],\"heatmapgl\":[{\"type\":\"heatmapgl\",\"colorbar\":{\"outlinewidth\":0,\"ticks\":\"\"},\"colorscale\":[[0.0,\"#0d0887\"],[0.1111111111111111,\"#46039f\"],[0.2222222222222222,\"#7201a8\"],[0.3333333333333333,\"#9c179e\"],[0.4444444444444444,\"#bd3786\"],[0.5555555555555556,\"#d8576b\"],[0.6666666666666666,\"#ed7953\"],[0.7777777777777778,\"#fb9f3a\"],[0.8888888888888888,\"#fdca26\"],[1.0,\"#f0f921\"]]}],\"contourcarpet\":[{\"type\":\"contourcarpet\",\"colorbar\":{\"outlinewidth\":0,\"ticks\":\"\"}}],\"contour\":[{\"type\":\"contour\",\"colorbar\":{\"outlinewidth\":0,\"ticks\":\"\"},\"colorscale\":[[0.0,\"#0d0887\"],[0.1111111111111111,\"#46039f\"],[0.2222222222222222,\"#7201a8\"],[0.3333333333333333,\"#9c179e\"],[0.4444444444444444,\"#bd3786\"],[0.5555555555555556,\"#d8576b\"],[0.6666666666666666,\"#ed7953\"],[0.7777777777777778,\"#fb9f3a\"],[0.8888888888888888,\"#fdca26\"],[1.0,\"#f0f921\"]]}],\"surface\":[{\"type\":\"surface\",\"colorbar\":{\"outlinewidth\":0,\"ticks\":\"\"},\"colorscale\":[[0.0,\"#0d0887\"],[0.1111111111111111,\"#46039f\"],[0.2222222222222222,\"#7201a8\"],[0.3333333333333333,\"#9c179e\"],[0.4444444444444444,\"#bd3786\"],[0.5555555555555556,\"#d8576b\"],[0.6666666666666666,\"#ed7953\"],[0.7777777777777778,\"#fb9f3a\"],[0.8888888888888888,\"#fdca26\"],[1.0,\"#f0f921\"]]}],\"mesh3d\":[{\"type\":\"mesh3d\",\"colorbar\":{\"outlinewidth\":0,\"ticks\":\"\"}}],\"scatter\":[{\"fillpattern\":{\"fillmode\":\"overlay\",\"size\":10,\"solidity\":0.2},\"type\":\"scatter\"}],\"parcoords\":[{\"type\":\"parcoords\",\"line\":{\"colorbar\":{\"outlinewidth\":0,\"ticks\":\"\"}}}],\"scatterpolargl\":[{\"type\":\"scatterpolargl\",\"marker\":{\"colorbar\":{\"outlinewidth\":0,\"ticks\":\"\"}}}],\"bar\":[{\"error_x\":{\"color\":\"#2a3f5f\"},\"error_y\":{\"color\":\"#2a3f5f\"},\"marker\":{\"line\":{\"color\":\"#E5ECF6\",\"width\":0.5},\"pattern\":{\"fillmode\":\"overlay\",\"size\":10,\"solidity\":0.2}},\"type\":\"bar\"}],\"scattergeo\":[{\"type\":\"scattergeo\",\"marker\":{\"colorbar\":{\"outlinewidth\":0,\"ticks\":\"\"}}}],\"scatterpolar\":[{\"type\":\"scatterpolar\",\"marker\":{\"colorbar\":{\"outlinewidth\":0,\"ticks\":\"\"}}}],\"histogram\":[{\"marker\":{\"pattern\":{\"fillmode\":\"overlay\",\"size\":10,\"solidity\":0.2}},\"type\":\"histogram\"}],\"scattergl\":[{\"type\":\"scattergl\",\"marker\":{\"colorbar\":{\"outlinewidth\":0,\"ticks\":\"\"}}}],\"scatter3d\":[{\"type\":\"scatter3d\",\"line\":{\"colorbar\":{\"outlinewidth\":0,\"ticks\":\"\"}},\"marker\":{\"colorbar\":{\"outlinewidth\":0,\"ticks\":\"\"}}}],\"scattermapbox\":[{\"type\":\"scattermapbox\",\"marker\":{\"colorbar\":{\"outlinewidth\":0,\"ticks\":\"\"}}}],\"scatterternary\":[{\"type\":\"scatterternary\",\"marker\":{\"colorbar\":{\"outlinewidth\":0,\"ticks\":\"\"}}}],\"scattercarpet\":[{\"type\":\"scattercarpet\",\"marker\":{\"colorbar\":{\"outlinewidth\":0,\"ticks\":\"\"}}}],\"carpet\":[{\"aaxis\":{\"endlinecolor\":\"#2a3f5f\",\"gridcolor\":\"white\",\"linecolor\":\"white\",\"minorgridcolor\":\"white\",\"startlinecolor\":\"#2a3f5f\"},\"baxis\":{\"endlinecolor\":\"#2a3f5f\",\"gridcolor\":\"white\",\"linecolor\":\"white\",\"minorgridcolor\":\"white\",\"startlinecolor\":\"#2a3f5f\"},\"type\":\"carpet\"}],\"table\":[{\"cells\":{\"fill\":{\"color\":\"#EBF0F8\"},\"line\":{\"color\":\"white\"}},\"header\":{\"fill\":{\"color\":\"#C8D4E3\"},\"line\":{\"color\":\"white\"}},\"type\":\"table\"}],\"barpolar\":[{\"marker\":{\"line\":{\"color\":\"#E5ECF6\",\"width\":0.5},\"pattern\":{\"fillmode\":\"overlay\",\"size\":10,\"solidity\":0.2}},\"type\":\"barpolar\"}],\"pie\":[{\"automargin\":true,\"type\":\"pie\"}]},\"layout\":{\"autotypenumbers\":\"strict\",\"colorway\":[\"#636efa\",\"#EF553B\",\"#00cc96\",\"#ab63fa\",\"#FFA15A\",\"#19d3f3\",\"#FF6692\",\"#B6E880\",\"#FF97FF\",\"#FECB52\"],\"font\":{\"color\":\"#2a3f5f\"},\"hovermode\":\"closest\",\"hoverlabel\":{\"align\":\"left\"},\"paper_bgcolor\":\"white\",\"plot_bgcolor\":\"#E5ECF6\",\"polar\":{\"bgcolor\":\"#E5ECF6\",\"angularaxis\":{\"gridcolor\":\"white\",\"linecolor\":\"white\",\"ticks\":\"\"},\"radialaxis\":{\"gridcolor\":\"white\",\"linecolor\":\"white\",\"ticks\":\"\"}},\"ternary\":{\"bgcolor\":\"#E5ECF6\",\"aaxis\":{\"gridcolor\":\"white\",\"linecolor\":\"white\",\"ticks\":\"\"},\"baxis\":{\"gridcolor\":\"white\",\"linecolor\":\"white\",\"ticks\":\"\"},\"caxis\":{\"gridcolor\":\"white\",\"linecolor\":\"white\",\"ticks\":\"\"}},\"coloraxis\":{\"colorbar\":{\"outlinewidth\":0,\"ticks\":\"\"}},\"colorscale\":{\"sequential\":[[0.0,\"#0d0887\"],[0.1111111111111111,\"#46039f\"],[0.2222222222222222,\"#7201a8\"],[0.3333333333333333,\"#9c179e\"],[0.4444444444444444,\"#bd3786\"],[0.5555555555555556,\"#d8576b\"],[0.6666666666666666,\"#ed7953\"],[0.7777777777777778,\"#fb9f3a\"],[0.8888888888888888,\"#fdca26\"],[1.0,\"#f0f921\"]],\"sequentialminus\":[[0.0,\"#0d0887\"],[0.1111111111111111,\"#46039f\"],[0.2222222222222222,\"#7201a8\"],[0.3333333333333333,\"#9c179e\"],[0.4444444444444444,\"#bd3786\"],[0.5555555555555556,\"#d8576b\"],[0.6666666666666666,\"#ed7953\"],[0.7777777777777778,\"#fb9f3a\"],[0.8888888888888888,\"#fdca26\"],[1.0,\"#f0f921\"]],\"diverging\":[[0,\"#8e0152\"],[0.1,\"#c51b7d\"],[0.2,\"#de77ae\"],[0.3,\"#f1b6da\"],[0.4,\"#fde0ef\"],[0.5,\"#f7f7f7\"],[0.6,\"#e6f5d0\"],[0.7,\"#b8e186\"],[0.8,\"#7fbc41\"],[0.9,\"#4d9221\"],[1,\"#276419\"]]},\"xaxis\":{\"gridcolor\":\"white\",\"linecolor\":\"white\",\"ticks\":\"\",\"title\":{\"standoff\":15},\"zerolinecolor\":\"white\",\"automargin\":true,\"zerolinewidth\":2},\"yaxis\":{\"gridcolor\":\"white\",\"linecolor\":\"white\",\"ticks\":\"\",\"title\":{\"standoff\":15},\"zerolinecolor\":\"white\",\"automargin\":true,\"zerolinewidth\":2},\"scene\":{\"xaxis\":{\"backgroundcolor\":\"#E5ECF6\",\"gridcolor\":\"white\",\"linecolor\":\"white\",\"showbackground\":true,\"ticks\":\"\",\"zerolinecolor\":\"white\",\"gridwidth\":2},\"yaxis\":{\"backgroundcolor\":\"#E5ECF6\",\"gridcolor\":\"white\",\"linecolor\":\"white\",\"showbackground\":true,\"ticks\":\"\",\"zerolinecolor\":\"white\",\"gridwidth\":2},\"zaxis\":{\"backgroundcolor\":\"#E5ECF6\",\"gridcolor\":\"white\",\"linecolor\":\"white\",\"showbackground\":true,\"ticks\":\"\",\"zerolinecolor\":\"white\",\"gridwidth\":2}},\"shapedefaults\":{\"line\":{\"color\":\"#2a3f5f\"}},\"annotationdefaults\":{\"arrowcolor\":\"#2a3f5f\",\"arrowhead\":0,\"arrowwidth\":1},\"geo\":{\"bgcolor\":\"white\",\"landcolor\":\"#E5ECF6\",\"subunitcolor\":\"white\",\"showland\":true,\"showlakes\":true,\"lakecolor\":\"white\"},\"title\":{\"x\":0.05},\"mapbox\":{\"style\":\"light\"}}},\"legend\":{\"title\":{\"text\":\"Region\"},\"tracegroupgap\":0},\"margin\":{\"t\":60},\"dragmode\":\"select\",\"height\":900},                        {\"responsive\": true}                    ).then(function(){\n",
       "                            \n",
       "var gd = document.getElementById('cbe54e7a-3453-4318-990b-67b03cf86cfd');\n",
       "var x = new MutationObserver(function (mutations, observer) {{\n",
       "        var display = window.getComputedStyle(gd).display;\n",
       "        if (!display || display === 'none') {{\n",
       "            console.log([gd, 'removed!']);\n",
       "            Plotly.purge(gd);\n",
       "            observer.disconnect();\n",
       "        }}\n",
       "}});\n",
       "\n",
       "// Listen for the removal of the full notebook cells\n",
       "var notebookContainer = gd.closest('#notebook-container');\n",
       "if (notebookContainer) {{\n",
       "    x.observe(notebookContainer, {childList: true});\n",
       "}}\n",
       "\n",
       "// Listen for the clearing of the current output cell\n",
       "var outputEl = gd.closest('.output');\n",
       "if (outputEl) {{\n",
       "    x.observe(outputEl, {childList: true});\n",
       "}}\n",
       "\n",
       "                        })                };                });            </script>        </div>"
      ]
     },
     "metadata": {},
     "output_type": "display_data"
    }
   ],
   "source": [
    "# Scatter matrix plot Formation \n",
    "fig= px.scatter_matrix(df_cleaned , dimensions = {'Estimated Unemployment Rate', 'Estimated Employed' , 'Estimated Labour Participation Rate'} ,  \n",
    "                       color = 'Region' , height = 900)\n",
    "\n",
    "# Showing Scatter matrix\n",
    "fig.show()"
   ]
  },
  {
   "cell_type": "code",
   "execution_count": null,
   "id": "1104796a-aabd-484d-89d3-ad06cba4d2b7",
   "metadata": {},
   "outputs": [],
   "source": []
  },
  {
   "cell_type": "markdown",
   "id": "e91962e8-2997-489c-b728-30c67dcc8e94",
   "metadata": {},
   "source": [
    "**Bar plot Formation**\n",
    "\n",
    "This Plot shows the average unemployment Rate in each state . "
   ]
  },
  {
   "cell_type": "code",
   "execution_count": 24,
   "id": "7ab27bd2-5a7b-40f4-8034-c193c4aad0a8",
   "metadata": {},
   "outputs": [
    {
     "data": {
      "application/vnd.plotly.v1+json": {
       "config": {
        "plotlyServerURL": "https://plot.ly"
       },
       "data": [
        {
         "alignmentgroup": "True",
         "hovertemplate": "States=%{x}<br>Estimated Unemployment Rate=%{y}<extra></extra>",
         "legendgroup": "Haryana",
         "marker": {
          "color": "#636efa",
          "pattern": {
           "shape": ""
          }
         },
         "name": "Haryana",
         "offsetgroup": "Haryana",
         "orientation": "v",
         "showlegend": true,
         "textposition": "auto",
         "type": "bar",
         "x": [
          "Haryana"
         ],
         "xaxis": "x",
         "y": [
          27.476999999999997
         ],
         "yaxis": "y"
        },
        {
         "alignmentgroup": "True",
         "hovertemplate": "States=%{x}<br>Estimated Unemployment Rate=%{y}<extra></extra>",
         "legendgroup": "Tripura",
         "marker": {
          "color": "#EF553B",
          "pattern": {
           "shape": ""
          }
         },
         "name": "Tripura",
         "offsetgroup": "Tripura",
         "orientation": "v",
         "showlegend": true,
         "textposition": "auto",
         "type": "bar",
         "x": [
          "Tripura"
         ],
         "xaxis": "x",
         "y": [
          25.055
         ],
         "yaxis": "y"
        },
        {
         "alignmentgroup": "True",
         "hovertemplate": "States=%{x}<br>Estimated Unemployment Rate=%{y}<extra></extra>",
         "legendgroup": "Jharkhand",
         "marker": {
          "color": "#00cc96",
          "pattern": {
           "shape": ""
          }
         },
         "name": "Jharkhand",
         "offsetgroup": "Jharkhand",
         "orientation": "v",
         "showlegend": true,
         "textposition": "auto",
         "type": "bar",
         "x": [
          "Jharkhand"
         ],
         "xaxis": "x",
         "y": [
          19.538999999999998
         ],
         "yaxis": "y"
        },
        {
         "alignmentgroup": "True",
         "hovertemplate": "States=%{x}<br>Estimated Unemployment Rate=%{y}<extra></extra>",
         "legendgroup": "Bihar",
         "marker": {
          "color": "#ab63fa",
          "pattern": {
           "shape": ""
          }
         },
         "name": "Bihar",
         "offsetgroup": "Bihar",
         "orientation": "v",
         "showlegend": true,
         "textposition": "auto",
         "type": "bar",
         "x": [
          "Bihar"
         ],
         "xaxis": "x",
         "y": [
          19.471
         ],
         "yaxis": "y"
        },
        {
         "alignmentgroup": "True",
         "hovertemplate": "States=%{x}<br>Estimated Unemployment Rate=%{y}<extra></extra>",
         "legendgroup": "Delhi",
         "marker": {
          "color": "#FFA15A",
          "pattern": {
           "shape": ""
          }
         },
         "name": "Delhi",
         "offsetgroup": "Delhi",
         "orientation": "v",
         "showlegend": true,
         "textposition": "auto",
         "type": "bar",
         "x": [
          "Delhi"
         ],
         "xaxis": "x",
         "y": [
          18.414
         ],
         "yaxis": "y"
        },
        {
         "alignmentgroup": "True",
         "hovertemplate": "States=%{x}<br>Estimated Unemployment Rate=%{y}<extra></extra>",
         "legendgroup": "Puducherry",
         "marker": {
          "color": "#19d3f3",
          "pattern": {
           "shape": ""
          }
         },
         "name": "Puducherry",
         "offsetgroup": "Puducherry",
         "orientation": "v",
         "showlegend": true,
         "textposition": "auto",
         "type": "bar",
         "x": [
          "Puducherry"
         ],
         "xaxis": "x",
         "y": [
          17.942
         ],
         "yaxis": "y"
        },
        {
         "alignmentgroup": "True",
         "hovertemplate": "States=%{x}<br>Estimated Unemployment Rate=%{y}<extra></extra>",
         "legendgroup": "Jammu & Kashmir",
         "marker": {
          "color": "#FF6692",
          "pattern": {
           "shape": ""
          }
         },
         "name": "Jammu & Kashmir",
         "offsetgroup": "Jammu & Kashmir",
         "orientation": "v",
         "showlegend": true,
         "textposition": "auto",
         "type": "bar",
         "x": [
          "Jammu & Kashmir"
         ],
         "xaxis": "x",
         "y": [
          16.477777777777778
         ],
         "yaxis": "y"
        },
        {
         "alignmentgroup": "True",
         "hovertemplate": "States=%{x}<br>Estimated Unemployment Rate=%{y}<extra></extra>",
         "legendgroup": "Himachal Pradesh",
         "marker": {
          "color": "#B6E880",
          "pattern": {
           "shape": ""
          }
         },
         "name": "Himachal Pradesh",
         "offsetgroup": "Himachal Pradesh",
         "orientation": "v",
         "showlegend": true,
         "textposition": "auto",
         "type": "bar",
         "x": [
          "Himachal Pradesh"
         ],
         "xaxis": "x",
         "y": [
          16.065
         ],
         "yaxis": "y"
        },
        {
         "alignmentgroup": "True",
         "hovertemplate": "States=%{x}<br>Estimated Unemployment Rate=%{y}<extra></extra>",
         "legendgroup": "Rajasthan",
         "marker": {
          "color": "#FF97FF",
          "pattern": {
           "shape": ""
          }
         },
         "name": "Rajasthan",
         "offsetgroup": "Rajasthan",
         "orientation": "v",
         "showlegend": true,
         "textposition": "auto",
         "type": "bar",
         "x": [
          "Rajasthan"
         ],
         "xaxis": "x",
         "y": [
          15.868
         ],
         "yaxis": "y"
        },
        {
         "alignmentgroup": "True",
         "hovertemplate": "States=%{x}<br>Estimated Unemployment Rate=%{y}<extra></extra>",
         "legendgroup": "Tamil Nadu",
         "marker": {
          "color": "#FECB52",
          "pattern": {
           "shape": ""
          }
         },
         "name": "Tamil Nadu",
         "offsetgroup": "Tamil Nadu",
         "orientation": "v",
         "showlegend": true,
         "textposition": "auto",
         "type": "bar",
         "x": [
          "Tamil Nadu"
         ],
         "xaxis": "x",
         "y": [
          12.187
         ],
         "yaxis": "y"
        },
        {
         "alignmentgroup": "True",
         "hovertemplate": "States=%{x}<br>Estimated Unemployment Rate=%{y}<extra></extra>",
         "legendgroup": "Goa",
         "marker": {
          "color": "#636efa",
          "pattern": {
           "shape": ""
          }
         },
         "name": "Goa",
         "offsetgroup": "Goa",
         "orientation": "v",
         "showlegend": true,
         "textposition": "auto",
         "type": "bar",
         "x": [
          "Goa"
         ],
         "xaxis": "x",
         "y": [
          12.167
         ],
         "yaxis": "y"
        },
        {
         "alignmentgroup": "True",
         "hovertemplate": "States=%{x}<br>Estimated Unemployment Rate=%{y}<extra></extra>",
         "legendgroup": "Punjab",
         "marker": {
          "color": "#EF553B",
          "pattern": {
           "shape": ""
          }
         },
         "name": "Punjab",
         "offsetgroup": "Punjab",
         "orientation": "v",
         "showlegend": true,
         "textposition": "auto",
         "type": "bar",
         "x": [
          "Punjab"
         ],
         "xaxis": "x",
         "y": [
          11.981
         ],
         "yaxis": "y"
        },
        {
         "alignmentgroup": "True",
         "hovertemplate": "States=%{x}<br>Estimated Unemployment Rate=%{y}<extra></extra>",
         "legendgroup": "Uttarakhand",
         "marker": {
          "color": "#00cc96",
          "pattern": {
           "shape": ""
          }
         },
         "name": "Uttarakhand",
         "offsetgroup": "Uttarakhand",
         "orientation": "v",
         "showlegend": true,
         "textposition": "auto",
         "type": "bar",
         "x": [
          "Uttarakhand"
         ],
         "xaxis": "x",
         "y": [
          11.156
         ],
         "yaxis": "y"
        },
        {
         "alignmentgroup": "True",
         "hovertemplate": "States=%{x}<br>Estimated Unemployment Rate=%{y}<extra></extra>",
         "legendgroup": "West Bengal",
         "marker": {
          "color": "#ab63fa",
          "pattern": {
           "shape": ""
          }
         },
         "name": "West Bengal",
         "offsetgroup": "West Bengal",
         "orientation": "v",
         "showlegend": true,
         "textposition": "auto",
         "type": "bar",
         "x": [
          "West Bengal"
         ],
         "xaxis": "x",
         "y": [
          10.192
         ],
         "yaxis": "y"
        },
        {
         "alignmentgroup": "True",
         "hovertemplate": "States=%{x}<br>Estimated Unemployment Rate=%{y}<extra></extra>",
         "legendgroup": "Sikkim",
         "marker": {
          "color": "#FFA15A",
          "pattern": {
           "shape": ""
          }
         },
         "name": "Sikkim",
         "offsetgroup": "Sikkim",
         "orientation": "v",
         "showlegend": true,
         "textposition": "auto",
         "type": "bar",
         "x": [
          "Sikkim"
         ],
         "xaxis": "x",
         "y": [
          9.7925
         ],
         "yaxis": "y"
        },
        {
         "alignmentgroup": "True",
         "hovertemplate": "States=%{x}<br>Estimated Unemployment Rate=%{y}<extra></extra>",
         "legendgroup": "Uttar Pradesh",
         "marker": {
          "color": "#19d3f3",
          "pattern": {
           "shape": ""
          }
         },
         "name": "Uttar Pradesh",
         "offsetgroup": "Uttar Pradesh",
         "orientation": "v",
         "showlegend": true,
         "textposition": "auto",
         "type": "bar",
         "x": [
          "Uttar Pradesh"
         ],
         "xaxis": "x",
         "y": [
          9.737
         ],
         "yaxis": "y"
        },
        {
         "alignmentgroup": "True",
         "hovertemplate": "States=%{x}<br>Estimated Unemployment Rate=%{y}<extra></extra>",
         "legendgroup": "Kerala",
         "marker": {
          "color": "#FF6692",
          "pattern": {
           "shape": ""
          }
         },
         "name": "Kerala",
         "offsetgroup": "Kerala",
         "orientation": "v",
         "showlegend": true,
         "textposition": "auto",
         "type": "bar",
         "x": [
          "Kerala"
         ],
         "xaxis": "x",
         "y": [
          9.434000000000001
         ],
         "yaxis": "y"
        },
        {
         "alignmentgroup": "True",
         "hovertemplate": "States=%{x}<br>Estimated Unemployment Rate=%{y}<extra></extra>",
         "legendgroup": "Andhra Pradesh",
         "marker": {
          "color": "#B6E880",
          "pattern": {
           "shape": ""
          }
         },
         "name": "Andhra Pradesh",
         "offsetgroup": "Andhra Pradesh",
         "orientation": "v",
         "showlegend": true,
         "textposition": "auto",
         "type": "bar",
         "x": [
          "Andhra Pradesh"
         ],
         "xaxis": "x",
         "y": [
          8.664
         ],
         "yaxis": "y"
        },
        {
         "alignmentgroup": "True",
         "hovertemplate": "States=%{x}<br>Estimated Unemployment Rate=%{y}<extra></extra>",
         "legendgroup": "Maharashtra",
         "marker": {
          "color": "#FF97FF",
          "pattern": {
           "shape": ""
          }
         },
         "name": "Maharashtra",
         "offsetgroup": "Maharashtra",
         "orientation": "v",
         "showlegend": true,
         "textposition": "auto",
         "type": "bar",
         "x": [
          "Maharashtra"
         ],
         "xaxis": "x",
         "y": [
          7.979000000000001
         ],
         "yaxis": "y"
        },
        {
         "alignmentgroup": "True",
         "hovertemplate": "States=%{x}<br>Estimated Unemployment Rate=%{y}<extra></extra>",
         "legendgroup": "Chhattisgarh",
         "marker": {
          "color": "#FECB52",
          "pattern": {
           "shape": ""
          }
         },
         "name": "Chhattisgarh",
         "offsetgroup": "Chhattisgarh",
         "orientation": "v",
         "showlegend": true,
         "textposition": "auto",
         "type": "bar",
         "x": [
          "Chhattisgarh"
         ],
         "xaxis": "x",
         "y": [
          7.819
         ],
         "yaxis": "y"
        },
        {
         "alignmentgroup": "True",
         "hovertemplate": "States=%{x}<br>Estimated Unemployment Rate=%{y}<extra></extra>",
         "legendgroup": "Karnataka",
         "marker": {
          "color": "#636efa",
          "pattern": {
           "shape": ""
          }
         },
         "name": "Karnataka",
         "offsetgroup": "Karnataka",
         "orientation": "v",
         "showlegend": true,
         "textposition": "auto",
         "type": "bar",
         "x": [
          "Karnataka"
         ],
         "xaxis": "x",
         "y": [
          7.667999999999999
         ],
         "yaxis": "y"
        },
        {
         "alignmentgroup": "True",
         "hovertemplate": "States=%{x}<br>Estimated Unemployment Rate=%{y}<extra></extra>",
         "legendgroup": "Madhya Pradesh",
         "marker": {
          "color": "#EF553B",
          "pattern": {
           "shape": ""
          }
         },
         "name": "Madhya Pradesh",
         "offsetgroup": "Madhya Pradesh",
         "orientation": "v",
         "showlegend": true,
         "textposition": "auto",
         "type": "bar",
         "x": [
          "Madhya Pradesh"
         ],
         "xaxis": "x",
         "y": [
          6.854000000000001
         ],
         "yaxis": "y"
        },
        {
         "alignmentgroup": "True",
         "hovertemplate": "States=%{x}<br>Estimated Unemployment Rate=%{y}<extra></extra>",
         "legendgroup": "Telangana",
         "marker": {
          "color": "#00cc96",
          "pattern": {
           "shape": ""
          }
         },
         "name": "Telangana",
         "offsetgroup": "Telangana",
         "orientation": "v",
         "showlegend": true,
         "textposition": "auto",
         "type": "bar",
         "x": [
          "Telangana"
         ],
         "xaxis": "x",
         "y": [
          6.833
         ],
         "yaxis": "y"
        },
        {
         "alignmentgroup": "True",
         "hovertemplate": "States=%{x}<br>Estimated Unemployment Rate=%{y}<extra></extra>",
         "legendgroup": "Odisha",
         "marker": {
          "color": "#ab63fa",
          "pattern": {
           "shape": ""
          }
         },
         "name": "Odisha",
         "offsetgroup": "Odisha",
         "orientation": "v",
         "showlegend": true,
         "textposition": "auto",
         "type": "bar",
         "x": [
          "Odisha"
         ],
         "xaxis": "x",
         "y": [
          6.462000000000001
         ],
         "yaxis": "y"
        },
        {
         "alignmentgroup": "True",
         "hovertemplate": "States=%{x}<br>Estimated Unemployment Rate=%{y}<extra></extra>",
         "legendgroup": "Gujarat",
         "marker": {
          "color": "#FFA15A",
          "pattern": {
           "shape": ""
          }
         },
         "name": "Gujarat",
         "offsetgroup": "Gujarat",
         "orientation": "v",
         "showlegend": true,
         "textposition": "auto",
         "type": "bar",
         "x": [
          "Gujarat"
         ],
         "xaxis": "x",
         "y": [
          6.3759999999999994
         ],
         "yaxis": "y"
        },
        {
         "alignmentgroup": "True",
         "hovertemplate": "States=%{x}<br>Estimated Unemployment Rate=%{y}<extra></extra>",
         "legendgroup": "Assam",
         "marker": {
          "color": "#19d3f3",
          "pattern": {
           "shape": ""
          }
         },
         "name": "Assam",
         "offsetgroup": "Assam",
         "orientation": "v",
         "showlegend": true,
         "textposition": "auto",
         "type": "bar",
         "x": [
          "Assam"
         ],
         "xaxis": "x",
         "y": [
          4.856
         ],
         "yaxis": "y"
        },
        {
         "alignmentgroup": "True",
         "hovertemplate": "States=%{x}<br>Estimated Unemployment Rate=%{y}<extra></extra>",
         "legendgroup": "Meghalaya",
         "marker": {
          "color": "#FF6692",
          "pattern": {
           "shape": ""
          }
         },
         "name": "Meghalaya",
         "offsetgroup": "Meghalaya",
         "orientation": "v",
         "showlegend": true,
         "textposition": "auto",
         "type": "bar",
         "x": [
          "Meghalaya"
         ],
         "xaxis": "x",
         "y": [
          3.8659999999999997
         ],
         "yaxis": "y"
        }
       ],
       "layout": {
        "barmode": "relative",
        "height": 500,
        "legend": {
         "title": {
          "text": "States"
         },
         "tracegroupgap": 0
        },
        "template": {
         "data": {
          "bar": [
           {
            "error_x": {
             "color": "#2a3f5f"
            },
            "error_y": {
             "color": "#2a3f5f"
            },
            "marker": {
             "line": {
              "color": "#E5ECF6",
              "width": 0.5
             },
             "pattern": {
              "fillmode": "overlay",
              "size": 10,
              "solidity": 0.2
             }
            },
            "type": "bar"
           }
          ],
          "barpolar": [
           {
            "marker": {
             "line": {
              "color": "#E5ECF6",
              "width": 0.5
             },
             "pattern": {
              "fillmode": "overlay",
              "size": 10,
              "solidity": 0.2
             }
            },
            "type": "barpolar"
           }
          ],
          "carpet": [
           {
            "aaxis": {
             "endlinecolor": "#2a3f5f",
             "gridcolor": "white",
             "linecolor": "white",
             "minorgridcolor": "white",
             "startlinecolor": "#2a3f5f"
            },
            "baxis": {
             "endlinecolor": "#2a3f5f",
             "gridcolor": "white",
             "linecolor": "white",
             "minorgridcolor": "white",
             "startlinecolor": "#2a3f5f"
            },
            "type": "carpet"
           }
          ],
          "choropleth": [
           {
            "colorbar": {
             "outlinewidth": 0,
             "ticks": ""
            },
            "type": "choropleth"
           }
          ],
          "contour": [
           {
            "colorbar": {
             "outlinewidth": 0,
             "ticks": ""
            },
            "colorscale": [
             [
              0,
              "#0d0887"
             ],
             [
              0.1111111111111111,
              "#46039f"
             ],
             [
              0.2222222222222222,
              "#7201a8"
             ],
             [
              0.3333333333333333,
              "#9c179e"
             ],
             [
              0.4444444444444444,
              "#bd3786"
             ],
             [
              0.5555555555555556,
              "#d8576b"
             ],
             [
              0.6666666666666666,
              "#ed7953"
             ],
             [
              0.7777777777777778,
              "#fb9f3a"
             ],
             [
              0.8888888888888888,
              "#fdca26"
             ],
             [
              1,
              "#f0f921"
             ]
            ],
            "type": "contour"
           }
          ],
          "contourcarpet": [
           {
            "colorbar": {
             "outlinewidth": 0,
             "ticks": ""
            },
            "type": "contourcarpet"
           }
          ],
          "heatmap": [
           {
            "colorbar": {
             "outlinewidth": 0,
             "ticks": ""
            },
            "colorscale": [
             [
              0,
              "#0d0887"
             ],
             [
              0.1111111111111111,
              "#46039f"
             ],
             [
              0.2222222222222222,
              "#7201a8"
             ],
             [
              0.3333333333333333,
              "#9c179e"
             ],
             [
              0.4444444444444444,
              "#bd3786"
             ],
             [
              0.5555555555555556,
              "#d8576b"
             ],
             [
              0.6666666666666666,
              "#ed7953"
             ],
             [
              0.7777777777777778,
              "#fb9f3a"
             ],
             [
              0.8888888888888888,
              "#fdca26"
             ],
             [
              1,
              "#f0f921"
             ]
            ],
            "type": "heatmap"
           }
          ],
          "heatmapgl": [
           {
            "colorbar": {
             "outlinewidth": 0,
             "ticks": ""
            },
            "colorscale": [
             [
              0,
              "#0d0887"
             ],
             [
              0.1111111111111111,
              "#46039f"
             ],
             [
              0.2222222222222222,
              "#7201a8"
             ],
             [
              0.3333333333333333,
              "#9c179e"
             ],
             [
              0.4444444444444444,
              "#bd3786"
             ],
             [
              0.5555555555555556,
              "#d8576b"
             ],
             [
              0.6666666666666666,
              "#ed7953"
             ],
             [
              0.7777777777777778,
              "#fb9f3a"
             ],
             [
              0.8888888888888888,
              "#fdca26"
             ],
             [
              1,
              "#f0f921"
             ]
            ],
            "type": "heatmapgl"
           }
          ],
          "histogram": [
           {
            "marker": {
             "pattern": {
              "fillmode": "overlay",
              "size": 10,
              "solidity": 0.2
             }
            },
            "type": "histogram"
           }
          ],
          "histogram2d": [
           {
            "colorbar": {
             "outlinewidth": 0,
             "ticks": ""
            },
            "colorscale": [
             [
              0,
              "#0d0887"
             ],
             [
              0.1111111111111111,
              "#46039f"
             ],
             [
              0.2222222222222222,
              "#7201a8"
             ],
             [
              0.3333333333333333,
              "#9c179e"
             ],
             [
              0.4444444444444444,
              "#bd3786"
             ],
             [
              0.5555555555555556,
              "#d8576b"
             ],
             [
              0.6666666666666666,
              "#ed7953"
             ],
             [
              0.7777777777777778,
              "#fb9f3a"
             ],
             [
              0.8888888888888888,
              "#fdca26"
             ],
             [
              1,
              "#f0f921"
             ]
            ],
            "type": "histogram2d"
           }
          ],
          "histogram2dcontour": [
           {
            "colorbar": {
             "outlinewidth": 0,
             "ticks": ""
            },
            "colorscale": [
             [
              0,
              "#0d0887"
             ],
             [
              0.1111111111111111,
              "#46039f"
             ],
             [
              0.2222222222222222,
              "#7201a8"
             ],
             [
              0.3333333333333333,
              "#9c179e"
             ],
             [
              0.4444444444444444,
              "#bd3786"
             ],
             [
              0.5555555555555556,
              "#d8576b"
             ],
             [
              0.6666666666666666,
              "#ed7953"
             ],
             [
              0.7777777777777778,
              "#fb9f3a"
             ],
             [
              0.8888888888888888,
              "#fdca26"
             ],
             [
              1,
              "#f0f921"
             ]
            ],
            "type": "histogram2dcontour"
           }
          ],
          "mesh3d": [
           {
            "colorbar": {
             "outlinewidth": 0,
             "ticks": ""
            },
            "type": "mesh3d"
           }
          ],
          "parcoords": [
           {
            "line": {
             "colorbar": {
              "outlinewidth": 0,
              "ticks": ""
             }
            },
            "type": "parcoords"
           }
          ],
          "pie": [
           {
            "automargin": true,
            "type": "pie"
           }
          ],
          "scatter": [
           {
            "fillpattern": {
             "fillmode": "overlay",
             "size": 10,
             "solidity": 0.2
            },
            "type": "scatter"
           }
          ],
          "scatter3d": [
           {
            "line": {
             "colorbar": {
              "outlinewidth": 0,
              "ticks": ""
             }
            },
            "marker": {
             "colorbar": {
              "outlinewidth": 0,
              "ticks": ""
             }
            },
            "type": "scatter3d"
           }
          ],
          "scattercarpet": [
           {
            "marker": {
             "colorbar": {
              "outlinewidth": 0,
              "ticks": ""
             }
            },
            "type": "scattercarpet"
           }
          ],
          "scattergeo": [
           {
            "marker": {
             "colorbar": {
              "outlinewidth": 0,
              "ticks": ""
             }
            },
            "type": "scattergeo"
           }
          ],
          "scattergl": [
           {
            "marker": {
             "colorbar": {
              "outlinewidth": 0,
              "ticks": ""
             }
            },
            "type": "scattergl"
           }
          ],
          "scattermapbox": [
           {
            "marker": {
             "colorbar": {
              "outlinewidth": 0,
              "ticks": ""
             }
            },
            "type": "scattermapbox"
           }
          ],
          "scatterpolar": [
           {
            "marker": {
             "colorbar": {
              "outlinewidth": 0,
              "ticks": ""
             }
            },
            "type": "scatterpolar"
           }
          ],
          "scatterpolargl": [
           {
            "marker": {
             "colorbar": {
              "outlinewidth": 0,
              "ticks": ""
             }
            },
            "type": "scatterpolargl"
           }
          ],
          "scatterternary": [
           {
            "marker": {
             "colorbar": {
              "outlinewidth": 0,
              "ticks": ""
             }
            },
            "type": "scatterternary"
           }
          ],
          "surface": [
           {
            "colorbar": {
             "outlinewidth": 0,
             "ticks": ""
            },
            "colorscale": [
             [
              0,
              "#0d0887"
             ],
             [
              0.1111111111111111,
              "#46039f"
             ],
             [
              0.2222222222222222,
              "#7201a8"
             ],
             [
              0.3333333333333333,
              "#9c179e"
             ],
             [
              0.4444444444444444,
              "#bd3786"
             ],
             [
              0.5555555555555556,
              "#d8576b"
             ],
             [
              0.6666666666666666,
              "#ed7953"
             ],
             [
              0.7777777777777778,
              "#fb9f3a"
             ],
             [
              0.8888888888888888,
              "#fdca26"
             ],
             [
              1,
              "#f0f921"
             ]
            ],
            "type": "surface"
           }
          ],
          "table": [
           {
            "cells": {
             "fill": {
              "color": "#EBF0F8"
             },
             "line": {
              "color": "white"
             }
            },
            "header": {
             "fill": {
              "color": "#C8D4E3"
             },
             "line": {
              "color": "white"
             }
            },
            "type": "table"
           }
          ]
         },
         "layout": {
          "annotationdefaults": {
           "arrowcolor": "#2a3f5f",
           "arrowhead": 0,
           "arrowwidth": 1
          },
          "autotypenumbers": "strict",
          "coloraxis": {
           "colorbar": {
            "outlinewidth": 0,
            "ticks": ""
           }
          },
          "colorscale": {
           "diverging": [
            [
             0,
             "#8e0152"
            ],
            [
             0.1,
             "#c51b7d"
            ],
            [
             0.2,
             "#de77ae"
            ],
            [
             0.3,
             "#f1b6da"
            ],
            [
             0.4,
             "#fde0ef"
            ],
            [
             0.5,
             "#f7f7f7"
            ],
            [
             0.6,
             "#e6f5d0"
            ],
            [
             0.7,
             "#b8e186"
            ],
            [
             0.8,
             "#7fbc41"
            ],
            [
             0.9,
             "#4d9221"
            ],
            [
             1,
             "#276419"
            ]
           ],
           "sequential": [
            [
             0,
             "#0d0887"
            ],
            [
             0.1111111111111111,
             "#46039f"
            ],
            [
             0.2222222222222222,
             "#7201a8"
            ],
            [
             0.3333333333333333,
             "#9c179e"
            ],
            [
             0.4444444444444444,
             "#bd3786"
            ],
            [
             0.5555555555555556,
             "#d8576b"
            ],
            [
             0.6666666666666666,
             "#ed7953"
            ],
            [
             0.7777777777777778,
             "#fb9f3a"
            ],
            [
             0.8888888888888888,
             "#fdca26"
            ],
            [
             1,
             "#f0f921"
            ]
           ],
           "sequentialminus": [
            [
             0,
             "#0d0887"
            ],
            [
             0.1111111111111111,
             "#46039f"
            ],
            [
             0.2222222222222222,
             "#7201a8"
            ],
            [
             0.3333333333333333,
             "#9c179e"
            ],
            [
             0.4444444444444444,
             "#bd3786"
            ],
            [
             0.5555555555555556,
             "#d8576b"
            ],
            [
             0.6666666666666666,
             "#ed7953"
            ],
            [
             0.7777777777777778,
             "#fb9f3a"
            ],
            [
             0.8888888888888888,
             "#fdca26"
            ],
            [
             1,
             "#f0f921"
            ]
           ]
          },
          "colorway": [
           "#636efa",
           "#EF553B",
           "#00cc96",
           "#ab63fa",
           "#FFA15A",
           "#19d3f3",
           "#FF6692",
           "#B6E880",
           "#FF97FF",
           "#FECB52"
          ],
          "font": {
           "color": "#2a3f5f"
          },
          "geo": {
           "bgcolor": "white",
           "lakecolor": "white",
           "landcolor": "#E5ECF6",
           "showlakes": true,
           "showland": true,
           "subunitcolor": "white"
          },
          "hoverlabel": {
           "align": "left"
          },
          "hovermode": "closest",
          "mapbox": {
           "style": "light"
          },
          "paper_bgcolor": "white",
          "plot_bgcolor": "#E5ECF6",
          "polar": {
           "angularaxis": {
            "gridcolor": "white",
            "linecolor": "white",
            "ticks": ""
           },
           "bgcolor": "#E5ECF6",
           "radialaxis": {
            "gridcolor": "white",
            "linecolor": "white",
            "ticks": ""
           }
          },
          "scene": {
           "xaxis": {
            "backgroundcolor": "#E5ECF6",
            "gridcolor": "white",
            "gridwidth": 2,
            "linecolor": "white",
            "showbackground": true,
            "ticks": "",
            "zerolinecolor": "white"
           },
           "yaxis": {
            "backgroundcolor": "#E5ECF6",
            "gridcolor": "white",
            "gridwidth": 2,
            "linecolor": "white",
            "showbackground": true,
            "ticks": "",
            "zerolinecolor": "white"
           },
           "zaxis": {
            "backgroundcolor": "#E5ECF6",
            "gridcolor": "white",
            "gridwidth": 2,
            "linecolor": "white",
            "showbackground": true,
            "ticks": "",
            "zerolinecolor": "white"
           }
          },
          "shapedefaults": {
           "line": {
            "color": "#2a3f5f"
           }
          },
          "ternary": {
           "aaxis": {
            "gridcolor": "white",
            "linecolor": "white",
            "ticks": ""
           },
           "baxis": {
            "gridcolor": "white",
            "linecolor": "white",
            "ticks": ""
           },
           "bgcolor": "#E5ECF6",
           "caxis": {
            "gridcolor": "white",
            "linecolor": "white",
            "ticks": ""
           }
          },
          "title": {
           "x": 0.05
          },
          "xaxis": {
           "automargin": true,
           "gridcolor": "white",
           "linecolor": "white",
           "ticks": "",
           "title": {
            "standoff": 15
           },
           "zerolinecolor": "white",
           "zerolinewidth": 2
          },
          "yaxis": {
           "automargin": true,
           "gridcolor": "white",
           "linecolor": "white",
           "ticks": "",
           "title": {
            "standoff": 15
           },
           "zerolinecolor": "white",
           "zerolinewidth": 2
          }
         }
        },
        "title": {
         "text": "Average Unemployment Rate in each State"
        },
        "width": 1100,
        "xaxis": {
         "anchor": "y",
         "autorange": true,
         "categoryarray": [
          "Haryana",
          "Tripura",
          "Jharkhand",
          "Bihar",
          "Delhi",
          "Puducherry",
          "Jammu & Kashmir",
          "Himachal Pradesh",
          "Rajasthan",
          "Tamil Nadu",
          "Goa",
          "Punjab",
          "Uttarakhand",
          "West Bengal",
          "Sikkim",
          "Uttar Pradesh",
          "Kerala",
          "Andhra Pradesh",
          "Maharashtra",
          "Chhattisgarh",
          "Karnataka",
          "Madhya Pradesh",
          "Telangana",
          "Odisha",
          "Gujarat",
          "Assam",
          "Meghalaya"
         ],
         "categoryorder": "array",
         "domain": [
          0,
          1
         ],
         "range": [
          -0.5,
          26.5
         ],
         "tickangle": 60,
         "title": {
          "text": "States"
         },
         "type": "category"
        },
        "yaxis": {
         "anchor": "x",
         "autorange": true,
         "domain": [
          0,
          1
         ],
         "range": [
          0,
          28.92315789473684
         ],
         "title": {
          "text": "Estimated Unemployment Rate"
         },
         "type": "linear"
        }
       }
      },
      "text/html": [
       "<div>                            <div id=\"415bc0ec-4a04-4842-b965-42bbc295403d\" class=\"plotly-graph-div\" style=\"height:500px; width:1100px;\"></div>            <script type=\"text/javascript\">                require([\"plotly\"], function(Plotly) {                    window.PLOTLYENV=window.PLOTLYENV || {};                                    if (document.getElementById(\"415bc0ec-4a04-4842-b965-42bbc295403d\")) {                    Plotly.newPlot(                        \"415bc0ec-4a04-4842-b965-42bbc295403d\",                        [{\"alignmentgroup\":\"True\",\"hovertemplate\":\"States=%{x}\\u003cbr\\u003eEstimated Unemployment Rate=%{y}\\u003cextra\\u003e\\u003c\\u002fextra\\u003e\",\"legendgroup\":\"Haryana\",\"marker\":{\"color\":\"#636efa\",\"pattern\":{\"shape\":\"\"}},\"name\":\"Haryana\",\"offsetgroup\":\"Haryana\",\"orientation\":\"v\",\"showlegend\":true,\"textposition\":\"auto\",\"x\":[\"Haryana\"],\"xaxis\":\"x\",\"y\":[27.476999999999997],\"yaxis\":\"y\",\"type\":\"bar\"},{\"alignmentgroup\":\"True\",\"hovertemplate\":\"States=%{x}\\u003cbr\\u003eEstimated Unemployment Rate=%{y}\\u003cextra\\u003e\\u003c\\u002fextra\\u003e\",\"legendgroup\":\"Tripura\",\"marker\":{\"color\":\"#EF553B\",\"pattern\":{\"shape\":\"\"}},\"name\":\"Tripura\",\"offsetgroup\":\"Tripura\",\"orientation\":\"v\",\"showlegend\":true,\"textposition\":\"auto\",\"x\":[\"Tripura\"],\"xaxis\":\"x\",\"y\":[25.055],\"yaxis\":\"y\",\"type\":\"bar\"},{\"alignmentgroup\":\"True\",\"hovertemplate\":\"States=%{x}\\u003cbr\\u003eEstimated Unemployment Rate=%{y}\\u003cextra\\u003e\\u003c\\u002fextra\\u003e\",\"legendgroup\":\"Jharkhand\",\"marker\":{\"color\":\"#00cc96\",\"pattern\":{\"shape\":\"\"}},\"name\":\"Jharkhand\",\"offsetgroup\":\"Jharkhand\",\"orientation\":\"v\",\"showlegend\":true,\"textposition\":\"auto\",\"x\":[\"Jharkhand\"],\"xaxis\":\"x\",\"y\":[19.538999999999998],\"yaxis\":\"y\",\"type\":\"bar\"},{\"alignmentgroup\":\"True\",\"hovertemplate\":\"States=%{x}\\u003cbr\\u003eEstimated Unemployment Rate=%{y}\\u003cextra\\u003e\\u003c\\u002fextra\\u003e\",\"legendgroup\":\"Bihar\",\"marker\":{\"color\":\"#ab63fa\",\"pattern\":{\"shape\":\"\"}},\"name\":\"Bihar\",\"offsetgroup\":\"Bihar\",\"orientation\":\"v\",\"showlegend\":true,\"textposition\":\"auto\",\"x\":[\"Bihar\"],\"xaxis\":\"x\",\"y\":[19.471],\"yaxis\":\"y\",\"type\":\"bar\"},{\"alignmentgroup\":\"True\",\"hovertemplate\":\"States=%{x}\\u003cbr\\u003eEstimated Unemployment Rate=%{y}\\u003cextra\\u003e\\u003c\\u002fextra\\u003e\",\"legendgroup\":\"Delhi\",\"marker\":{\"color\":\"#FFA15A\",\"pattern\":{\"shape\":\"\"}},\"name\":\"Delhi\",\"offsetgroup\":\"Delhi\",\"orientation\":\"v\",\"showlegend\":true,\"textposition\":\"auto\",\"x\":[\"Delhi\"],\"xaxis\":\"x\",\"y\":[18.414],\"yaxis\":\"y\",\"type\":\"bar\"},{\"alignmentgroup\":\"True\",\"hovertemplate\":\"States=%{x}\\u003cbr\\u003eEstimated Unemployment Rate=%{y}\\u003cextra\\u003e\\u003c\\u002fextra\\u003e\",\"legendgroup\":\"Puducherry\",\"marker\":{\"color\":\"#19d3f3\",\"pattern\":{\"shape\":\"\"}},\"name\":\"Puducherry\",\"offsetgroup\":\"Puducherry\",\"orientation\":\"v\",\"showlegend\":true,\"textposition\":\"auto\",\"x\":[\"Puducherry\"],\"xaxis\":\"x\",\"y\":[17.942],\"yaxis\":\"y\",\"type\":\"bar\"},{\"alignmentgroup\":\"True\",\"hovertemplate\":\"States=%{x}\\u003cbr\\u003eEstimated Unemployment Rate=%{y}\\u003cextra\\u003e\\u003c\\u002fextra\\u003e\",\"legendgroup\":\"Jammu & Kashmir\",\"marker\":{\"color\":\"#FF6692\",\"pattern\":{\"shape\":\"\"}},\"name\":\"Jammu & Kashmir\",\"offsetgroup\":\"Jammu & Kashmir\",\"orientation\":\"v\",\"showlegend\":true,\"textposition\":\"auto\",\"x\":[\"Jammu & Kashmir\"],\"xaxis\":\"x\",\"y\":[16.477777777777778],\"yaxis\":\"y\",\"type\":\"bar\"},{\"alignmentgroup\":\"True\",\"hovertemplate\":\"States=%{x}\\u003cbr\\u003eEstimated Unemployment Rate=%{y}\\u003cextra\\u003e\\u003c\\u002fextra\\u003e\",\"legendgroup\":\"Himachal Pradesh\",\"marker\":{\"color\":\"#B6E880\",\"pattern\":{\"shape\":\"\"}},\"name\":\"Himachal Pradesh\",\"offsetgroup\":\"Himachal Pradesh\",\"orientation\":\"v\",\"showlegend\":true,\"textposition\":\"auto\",\"x\":[\"Himachal Pradesh\"],\"xaxis\":\"x\",\"y\":[16.065],\"yaxis\":\"y\",\"type\":\"bar\"},{\"alignmentgroup\":\"True\",\"hovertemplate\":\"States=%{x}\\u003cbr\\u003eEstimated Unemployment Rate=%{y}\\u003cextra\\u003e\\u003c\\u002fextra\\u003e\",\"legendgroup\":\"Rajasthan\",\"marker\":{\"color\":\"#FF97FF\",\"pattern\":{\"shape\":\"\"}},\"name\":\"Rajasthan\",\"offsetgroup\":\"Rajasthan\",\"orientation\":\"v\",\"showlegend\":true,\"textposition\":\"auto\",\"x\":[\"Rajasthan\"],\"xaxis\":\"x\",\"y\":[15.868],\"yaxis\":\"y\",\"type\":\"bar\"},{\"alignmentgroup\":\"True\",\"hovertemplate\":\"States=%{x}\\u003cbr\\u003eEstimated Unemployment Rate=%{y}\\u003cextra\\u003e\\u003c\\u002fextra\\u003e\",\"legendgroup\":\"Tamil Nadu\",\"marker\":{\"color\":\"#FECB52\",\"pattern\":{\"shape\":\"\"}},\"name\":\"Tamil Nadu\",\"offsetgroup\":\"Tamil Nadu\",\"orientation\":\"v\",\"showlegend\":true,\"textposition\":\"auto\",\"x\":[\"Tamil Nadu\"],\"xaxis\":\"x\",\"y\":[12.187],\"yaxis\":\"y\",\"type\":\"bar\"},{\"alignmentgroup\":\"True\",\"hovertemplate\":\"States=%{x}\\u003cbr\\u003eEstimated Unemployment Rate=%{y}\\u003cextra\\u003e\\u003c\\u002fextra\\u003e\",\"legendgroup\":\"Goa\",\"marker\":{\"color\":\"#636efa\",\"pattern\":{\"shape\":\"\"}},\"name\":\"Goa\",\"offsetgroup\":\"Goa\",\"orientation\":\"v\",\"showlegend\":true,\"textposition\":\"auto\",\"x\":[\"Goa\"],\"xaxis\":\"x\",\"y\":[12.167],\"yaxis\":\"y\",\"type\":\"bar\"},{\"alignmentgroup\":\"True\",\"hovertemplate\":\"States=%{x}\\u003cbr\\u003eEstimated Unemployment Rate=%{y}\\u003cextra\\u003e\\u003c\\u002fextra\\u003e\",\"legendgroup\":\"Punjab\",\"marker\":{\"color\":\"#EF553B\",\"pattern\":{\"shape\":\"\"}},\"name\":\"Punjab\",\"offsetgroup\":\"Punjab\",\"orientation\":\"v\",\"showlegend\":true,\"textposition\":\"auto\",\"x\":[\"Punjab\"],\"xaxis\":\"x\",\"y\":[11.981],\"yaxis\":\"y\",\"type\":\"bar\"},{\"alignmentgroup\":\"True\",\"hovertemplate\":\"States=%{x}\\u003cbr\\u003eEstimated Unemployment Rate=%{y}\\u003cextra\\u003e\\u003c\\u002fextra\\u003e\",\"legendgroup\":\"Uttarakhand\",\"marker\":{\"color\":\"#00cc96\",\"pattern\":{\"shape\":\"\"}},\"name\":\"Uttarakhand\",\"offsetgroup\":\"Uttarakhand\",\"orientation\":\"v\",\"showlegend\":true,\"textposition\":\"auto\",\"x\":[\"Uttarakhand\"],\"xaxis\":\"x\",\"y\":[11.156],\"yaxis\":\"y\",\"type\":\"bar\"},{\"alignmentgroup\":\"True\",\"hovertemplate\":\"States=%{x}\\u003cbr\\u003eEstimated Unemployment Rate=%{y}\\u003cextra\\u003e\\u003c\\u002fextra\\u003e\",\"legendgroup\":\"West Bengal\",\"marker\":{\"color\":\"#ab63fa\",\"pattern\":{\"shape\":\"\"}},\"name\":\"West Bengal\",\"offsetgroup\":\"West Bengal\",\"orientation\":\"v\",\"showlegend\":true,\"textposition\":\"auto\",\"x\":[\"West Bengal\"],\"xaxis\":\"x\",\"y\":[10.192],\"yaxis\":\"y\",\"type\":\"bar\"},{\"alignmentgroup\":\"True\",\"hovertemplate\":\"States=%{x}\\u003cbr\\u003eEstimated Unemployment Rate=%{y}\\u003cextra\\u003e\\u003c\\u002fextra\\u003e\",\"legendgroup\":\"Sikkim\",\"marker\":{\"color\":\"#FFA15A\",\"pattern\":{\"shape\":\"\"}},\"name\":\"Sikkim\",\"offsetgroup\":\"Sikkim\",\"orientation\":\"v\",\"showlegend\":true,\"textposition\":\"auto\",\"x\":[\"Sikkim\"],\"xaxis\":\"x\",\"y\":[9.7925],\"yaxis\":\"y\",\"type\":\"bar\"},{\"alignmentgroup\":\"True\",\"hovertemplate\":\"States=%{x}\\u003cbr\\u003eEstimated Unemployment Rate=%{y}\\u003cextra\\u003e\\u003c\\u002fextra\\u003e\",\"legendgroup\":\"Uttar Pradesh\",\"marker\":{\"color\":\"#19d3f3\",\"pattern\":{\"shape\":\"\"}},\"name\":\"Uttar Pradesh\",\"offsetgroup\":\"Uttar Pradesh\",\"orientation\":\"v\",\"showlegend\":true,\"textposition\":\"auto\",\"x\":[\"Uttar Pradesh\"],\"xaxis\":\"x\",\"y\":[9.737],\"yaxis\":\"y\",\"type\":\"bar\"},{\"alignmentgroup\":\"True\",\"hovertemplate\":\"States=%{x}\\u003cbr\\u003eEstimated Unemployment Rate=%{y}\\u003cextra\\u003e\\u003c\\u002fextra\\u003e\",\"legendgroup\":\"Kerala\",\"marker\":{\"color\":\"#FF6692\",\"pattern\":{\"shape\":\"\"}},\"name\":\"Kerala\",\"offsetgroup\":\"Kerala\",\"orientation\":\"v\",\"showlegend\":true,\"textposition\":\"auto\",\"x\":[\"Kerala\"],\"xaxis\":\"x\",\"y\":[9.434000000000001],\"yaxis\":\"y\",\"type\":\"bar\"},{\"alignmentgroup\":\"True\",\"hovertemplate\":\"States=%{x}\\u003cbr\\u003eEstimated Unemployment Rate=%{y}\\u003cextra\\u003e\\u003c\\u002fextra\\u003e\",\"legendgroup\":\"Andhra Pradesh\",\"marker\":{\"color\":\"#B6E880\",\"pattern\":{\"shape\":\"\"}},\"name\":\"Andhra Pradesh\",\"offsetgroup\":\"Andhra Pradesh\",\"orientation\":\"v\",\"showlegend\":true,\"textposition\":\"auto\",\"x\":[\"Andhra Pradesh\"],\"xaxis\":\"x\",\"y\":[8.664],\"yaxis\":\"y\",\"type\":\"bar\"},{\"alignmentgroup\":\"True\",\"hovertemplate\":\"States=%{x}\\u003cbr\\u003eEstimated Unemployment Rate=%{y}\\u003cextra\\u003e\\u003c\\u002fextra\\u003e\",\"legendgroup\":\"Maharashtra\",\"marker\":{\"color\":\"#FF97FF\",\"pattern\":{\"shape\":\"\"}},\"name\":\"Maharashtra\",\"offsetgroup\":\"Maharashtra\",\"orientation\":\"v\",\"showlegend\":true,\"textposition\":\"auto\",\"x\":[\"Maharashtra\"],\"xaxis\":\"x\",\"y\":[7.979000000000001],\"yaxis\":\"y\",\"type\":\"bar\"},{\"alignmentgroup\":\"True\",\"hovertemplate\":\"States=%{x}\\u003cbr\\u003eEstimated Unemployment Rate=%{y}\\u003cextra\\u003e\\u003c\\u002fextra\\u003e\",\"legendgroup\":\"Chhattisgarh\",\"marker\":{\"color\":\"#FECB52\",\"pattern\":{\"shape\":\"\"}},\"name\":\"Chhattisgarh\",\"offsetgroup\":\"Chhattisgarh\",\"orientation\":\"v\",\"showlegend\":true,\"textposition\":\"auto\",\"x\":[\"Chhattisgarh\"],\"xaxis\":\"x\",\"y\":[7.819],\"yaxis\":\"y\",\"type\":\"bar\"},{\"alignmentgroup\":\"True\",\"hovertemplate\":\"States=%{x}\\u003cbr\\u003eEstimated Unemployment Rate=%{y}\\u003cextra\\u003e\\u003c\\u002fextra\\u003e\",\"legendgroup\":\"Karnataka\",\"marker\":{\"color\":\"#636efa\",\"pattern\":{\"shape\":\"\"}},\"name\":\"Karnataka\",\"offsetgroup\":\"Karnataka\",\"orientation\":\"v\",\"showlegend\":true,\"textposition\":\"auto\",\"x\":[\"Karnataka\"],\"xaxis\":\"x\",\"y\":[7.667999999999999],\"yaxis\":\"y\",\"type\":\"bar\"},{\"alignmentgroup\":\"True\",\"hovertemplate\":\"States=%{x}\\u003cbr\\u003eEstimated Unemployment Rate=%{y}\\u003cextra\\u003e\\u003c\\u002fextra\\u003e\",\"legendgroup\":\"Madhya Pradesh\",\"marker\":{\"color\":\"#EF553B\",\"pattern\":{\"shape\":\"\"}},\"name\":\"Madhya Pradesh\",\"offsetgroup\":\"Madhya Pradesh\",\"orientation\":\"v\",\"showlegend\":true,\"textposition\":\"auto\",\"x\":[\"Madhya Pradesh\"],\"xaxis\":\"x\",\"y\":[6.854000000000001],\"yaxis\":\"y\",\"type\":\"bar\"},{\"alignmentgroup\":\"True\",\"hovertemplate\":\"States=%{x}\\u003cbr\\u003eEstimated Unemployment Rate=%{y}\\u003cextra\\u003e\\u003c\\u002fextra\\u003e\",\"legendgroup\":\"Telangana\",\"marker\":{\"color\":\"#00cc96\",\"pattern\":{\"shape\":\"\"}},\"name\":\"Telangana\",\"offsetgroup\":\"Telangana\",\"orientation\":\"v\",\"showlegend\":true,\"textposition\":\"auto\",\"x\":[\"Telangana\"],\"xaxis\":\"x\",\"y\":[6.833],\"yaxis\":\"y\",\"type\":\"bar\"},{\"alignmentgroup\":\"True\",\"hovertemplate\":\"States=%{x}\\u003cbr\\u003eEstimated Unemployment Rate=%{y}\\u003cextra\\u003e\\u003c\\u002fextra\\u003e\",\"legendgroup\":\"Odisha\",\"marker\":{\"color\":\"#ab63fa\",\"pattern\":{\"shape\":\"\"}},\"name\":\"Odisha\",\"offsetgroup\":\"Odisha\",\"orientation\":\"v\",\"showlegend\":true,\"textposition\":\"auto\",\"x\":[\"Odisha\"],\"xaxis\":\"x\",\"y\":[6.462000000000001],\"yaxis\":\"y\",\"type\":\"bar\"},{\"alignmentgroup\":\"True\",\"hovertemplate\":\"States=%{x}\\u003cbr\\u003eEstimated Unemployment Rate=%{y}\\u003cextra\\u003e\\u003c\\u002fextra\\u003e\",\"legendgroup\":\"Gujarat\",\"marker\":{\"color\":\"#FFA15A\",\"pattern\":{\"shape\":\"\"}},\"name\":\"Gujarat\",\"offsetgroup\":\"Gujarat\",\"orientation\":\"v\",\"showlegend\":true,\"textposition\":\"auto\",\"x\":[\"Gujarat\"],\"xaxis\":\"x\",\"y\":[6.3759999999999994],\"yaxis\":\"y\",\"type\":\"bar\"},{\"alignmentgroup\":\"True\",\"hovertemplate\":\"States=%{x}\\u003cbr\\u003eEstimated Unemployment Rate=%{y}\\u003cextra\\u003e\\u003c\\u002fextra\\u003e\",\"legendgroup\":\"Assam\",\"marker\":{\"color\":\"#19d3f3\",\"pattern\":{\"shape\":\"\"}},\"name\":\"Assam\",\"offsetgroup\":\"Assam\",\"orientation\":\"v\",\"showlegend\":true,\"textposition\":\"auto\",\"x\":[\"Assam\"],\"xaxis\":\"x\",\"y\":[4.856],\"yaxis\":\"y\",\"type\":\"bar\"},{\"alignmentgroup\":\"True\",\"hovertemplate\":\"States=%{x}\\u003cbr\\u003eEstimated Unemployment Rate=%{y}\\u003cextra\\u003e\\u003c\\u002fextra\\u003e\",\"legendgroup\":\"Meghalaya\",\"marker\":{\"color\":\"#FF6692\",\"pattern\":{\"shape\":\"\"}},\"name\":\"Meghalaya\",\"offsetgroup\":\"Meghalaya\",\"orientation\":\"v\",\"showlegend\":true,\"textposition\":\"auto\",\"x\":[\"Meghalaya\"],\"xaxis\":\"x\",\"y\":[3.8659999999999997],\"yaxis\":\"y\",\"type\":\"bar\"}],                        {\"template\":{\"data\":{\"histogram2dcontour\":[{\"type\":\"histogram2dcontour\",\"colorbar\":{\"outlinewidth\":0,\"ticks\":\"\"},\"colorscale\":[[0.0,\"#0d0887\"],[0.1111111111111111,\"#46039f\"],[0.2222222222222222,\"#7201a8\"],[0.3333333333333333,\"#9c179e\"],[0.4444444444444444,\"#bd3786\"],[0.5555555555555556,\"#d8576b\"],[0.6666666666666666,\"#ed7953\"],[0.7777777777777778,\"#fb9f3a\"],[0.8888888888888888,\"#fdca26\"],[1.0,\"#f0f921\"]]}],\"choropleth\":[{\"type\":\"choropleth\",\"colorbar\":{\"outlinewidth\":0,\"ticks\":\"\"}}],\"histogram2d\":[{\"type\":\"histogram2d\",\"colorbar\":{\"outlinewidth\":0,\"ticks\":\"\"},\"colorscale\":[[0.0,\"#0d0887\"],[0.1111111111111111,\"#46039f\"],[0.2222222222222222,\"#7201a8\"],[0.3333333333333333,\"#9c179e\"],[0.4444444444444444,\"#bd3786\"],[0.5555555555555556,\"#d8576b\"],[0.6666666666666666,\"#ed7953\"],[0.7777777777777778,\"#fb9f3a\"],[0.8888888888888888,\"#fdca26\"],[1.0,\"#f0f921\"]]}],\"heatmap\":[{\"type\":\"heatmap\",\"colorbar\":{\"outlinewidth\":0,\"ticks\":\"\"},\"colorscale\":[[0.0,\"#0d0887\"],[0.1111111111111111,\"#46039f\"],[0.2222222222222222,\"#7201a8\"],[0.3333333333333333,\"#9c179e\"],[0.4444444444444444,\"#bd3786\"],[0.5555555555555556,\"#d8576b\"],[0.6666666666666666,\"#ed7953\"],[0.7777777777777778,\"#fb9f3a\"],[0.8888888888888888,\"#fdca26\"],[1.0,\"#f0f921\"]]}],\"heatmapgl\":[{\"type\":\"heatmapgl\",\"colorbar\":{\"outlinewidth\":0,\"ticks\":\"\"},\"colorscale\":[[0.0,\"#0d0887\"],[0.1111111111111111,\"#46039f\"],[0.2222222222222222,\"#7201a8\"],[0.3333333333333333,\"#9c179e\"],[0.4444444444444444,\"#bd3786\"],[0.5555555555555556,\"#d8576b\"],[0.6666666666666666,\"#ed7953\"],[0.7777777777777778,\"#fb9f3a\"],[0.8888888888888888,\"#fdca26\"],[1.0,\"#f0f921\"]]}],\"contourcarpet\":[{\"type\":\"contourcarpet\",\"colorbar\":{\"outlinewidth\":0,\"ticks\":\"\"}}],\"contour\":[{\"type\":\"contour\",\"colorbar\":{\"outlinewidth\":0,\"ticks\":\"\"},\"colorscale\":[[0.0,\"#0d0887\"],[0.1111111111111111,\"#46039f\"],[0.2222222222222222,\"#7201a8\"],[0.3333333333333333,\"#9c179e\"],[0.4444444444444444,\"#bd3786\"],[0.5555555555555556,\"#d8576b\"],[0.6666666666666666,\"#ed7953\"],[0.7777777777777778,\"#fb9f3a\"],[0.8888888888888888,\"#fdca26\"],[1.0,\"#f0f921\"]]}],\"surface\":[{\"type\":\"surface\",\"colorbar\":{\"outlinewidth\":0,\"ticks\":\"\"},\"colorscale\":[[0.0,\"#0d0887\"],[0.1111111111111111,\"#46039f\"],[0.2222222222222222,\"#7201a8\"],[0.3333333333333333,\"#9c179e\"],[0.4444444444444444,\"#bd3786\"],[0.5555555555555556,\"#d8576b\"],[0.6666666666666666,\"#ed7953\"],[0.7777777777777778,\"#fb9f3a\"],[0.8888888888888888,\"#fdca26\"],[1.0,\"#f0f921\"]]}],\"mesh3d\":[{\"type\":\"mesh3d\",\"colorbar\":{\"outlinewidth\":0,\"ticks\":\"\"}}],\"scatter\":[{\"fillpattern\":{\"fillmode\":\"overlay\",\"size\":10,\"solidity\":0.2},\"type\":\"scatter\"}],\"parcoords\":[{\"type\":\"parcoords\",\"line\":{\"colorbar\":{\"outlinewidth\":0,\"ticks\":\"\"}}}],\"scatterpolargl\":[{\"type\":\"scatterpolargl\",\"marker\":{\"colorbar\":{\"outlinewidth\":0,\"ticks\":\"\"}}}],\"bar\":[{\"error_x\":{\"color\":\"#2a3f5f\"},\"error_y\":{\"color\":\"#2a3f5f\"},\"marker\":{\"line\":{\"color\":\"#E5ECF6\",\"width\":0.5},\"pattern\":{\"fillmode\":\"overlay\",\"size\":10,\"solidity\":0.2}},\"type\":\"bar\"}],\"scattergeo\":[{\"type\":\"scattergeo\",\"marker\":{\"colorbar\":{\"outlinewidth\":0,\"ticks\":\"\"}}}],\"scatterpolar\":[{\"type\":\"scatterpolar\",\"marker\":{\"colorbar\":{\"outlinewidth\":0,\"ticks\":\"\"}}}],\"histogram\":[{\"marker\":{\"pattern\":{\"fillmode\":\"overlay\",\"size\":10,\"solidity\":0.2}},\"type\":\"histogram\"}],\"scattergl\":[{\"type\":\"scattergl\",\"marker\":{\"colorbar\":{\"outlinewidth\":0,\"ticks\":\"\"}}}],\"scatter3d\":[{\"type\":\"scatter3d\",\"line\":{\"colorbar\":{\"outlinewidth\":0,\"ticks\":\"\"}},\"marker\":{\"colorbar\":{\"outlinewidth\":0,\"ticks\":\"\"}}}],\"scattermapbox\":[{\"type\":\"scattermapbox\",\"marker\":{\"colorbar\":{\"outlinewidth\":0,\"ticks\":\"\"}}}],\"scatterternary\":[{\"type\":\"scatterternary\",\"marker\":{\"colorbar\":{\"outlinewidth\":0,\"ticks\":\"\"}}}],\"scattercarpet\":[{\"type\":\"scattercarpet\",\"marker\":{\"colorbar\":{\"outlinewidth\":0,\"ticks\":\"\"}}}],\"carpet\":[{\"aaxis\":{\"endlinecolor\":\"#2a3f5f\",\"gridcolor\":\"white\",\"linecolor\":\"white\",\"minorgridcolor\":\"white\",\"startlinecolor\":\"#2a3f5f\"},\"baxis\":{\"endlinecolor\":\"#2a3f5f\",\"gridcolor\":\"white\",\"linecolor\":\"white\",\"minorgridcolor\":\"white\",\"startlinecolor\":\"#2a3f5f\"},\"type\":\"carpet\"}],\"table\":[{\"cells\":{\"fill\":{\"color\":\"#EBF0F8\"},\"line\":{\"color\":\"white\"}},\"header\":{\"fill\":{\"color\":\"#C8D4E3\"},\"line\":{\"color\":\"white\"}},\"type\":\"table\"}],\"barpolar\":[{\"marker\":{\"line\":{\"color\":\"#E5ECF6\",\"width\":0.5},\"pattern\":{\"fillmode\":\"overlay\",\"size\":10,\"solidity\":0.2}},\"type\":\"barpolar\"}],\"pie\":[{\"automargin\":true,\"type\":\"pie\"}]},\"layout\":{\"autotypenumbers\":\"strict\",\"colorway\":[\"#636efa\",\"#EF553B\",\"#00cc96\",\"#ab63fa\",\"#FFA15A\",\"#19d3f3\",\"#FF6692\",\"#B6E880\",\"#FF97FF\",\"#FECB52\"],\"font\":{\"color\":\"#2a3f5f\"},\"hovermode\":\"closest\",\"hoverlabel\":{\"align\":\"left\"},\"paper_bgcolor\":\"white\",\"plot_bgcolor\":\"#E5ECF6\",\"polar\":{\"bgcolor\":\"#E5ECF6\",\"angularaxis\":{\"gridcolor\":\"white\",\"linecolor\":\"white\",\"ticks\":\"\"},\"radialaxis\":{\"gridcolor\":\"white\",\"linecolor\":\"white\",\"ticks\":\"\"}},\"ternary\":{\"bgcolor\":\"#E5ECF6\",\"aaxis\":{\"gridcolor\":\"white\",\"linecolor\":\"white\",\"ticks\":\"\"},\"baxis\":{\"gridcolor\":\"white\",\"linecolor\":\"white\",\"ticks\":\"\"},\"caxis\":{\"gridcolor\":\"white\",\"linecolor\":\"white\",\"ticks\":\"\"}},\"coloraxis\":{\"colorbar\":{\"outlinewidth\":0,\"ticks\":\"\"}},\"colorscale\":{\"sequential\":[[0.0,\"#0d0887\"],[0.1111111111111111,\"#46039f\"],[0.2222222222222222,\"#7201a8\"],[0.3333333333333333,\"#9c179e\"],[0.4444444444444444,\"#bd3786\"],[0.5555555555555556,\"#d8576b\"],[0.6666666666666666,\"#ed7953\"],[0.7777777777777778,\"#fb9f3a\"],[0.8888888888888888,\"#fdca26\"],[1.0,\"#f0f921\"]],\"sequentialminus\":[[0.0,\"#0d0887\"],[0.1111111111111111,\"#46039f\"],[0.2222222222222222,\"#7201a8\"],[0.3333333333333333,\"#9c179e\"],[0.4444444444444444,\"#bd3786\"],[0.5555555555555556,\"#d8576b\"],[0.6666666666666666,\"#ed7953\"],[0.7777777777777778,\"#fb9f3a\"],[0.8888888888888888,\"#fdca26\"],[1.0,\"#f0f921\"]],\"diverging\":[[0,\"#8e0152\"],[0.1,\"#c51b7d\"],[0.2,\"#de77ae\"],[0.3,\"#f1b6da\"],[0.4,\"#fde0ef\"],[0.5,\"#f7f7f7\"],[0.6,\"#e6f5d0\"],[0.7,\"#b8e186\"],[0.8,\"#7fbc41\"],[0.9,\"#4d9221\"],[1,\"#276419\"]]},\"xaxis\":{\"gridcolor\":\"white\",\"linecolor\":\"white\",\"ticks\":\"\",\"title\":{\"standoff\":15},\"zerolinecolor\":\"white\",\"automargin\":true,\"zerolinewidth\":2},\"yaxis\":{\"gridcolor\":\"white\",\"linecolor\":\"white\",\"ticks\":\"\",\"title\":{\"standoff\":15},\"zerolinecolor\":\"white\",\"automargin\":true,\"zerolinewidth\":2},\"scene\":{\"xaxis\":{\"backgroundcolor\":\"#E5ECF6\",\"gridcolor\":\"white\",\"linecolor\":\"white\",\"showbackground\":true,\"ticks\":\"\",\"zerolinecolor\":\"white\",\"gridwidth\":2},\"yaxis\":{\"backgroundcolor\":\"#E5ECF6\",\"gridcolor\":\"white\",\"linecolor\":\"white\",\"showbackground\":true,\"ticks\":\"\",\"zerolinecolor\":\"white\",\"gridwidth\":2},\"zaxis\":{\"backgroundcolor\":\"#E5ECF6\",\"gridcolor\":\"white\",\"linecolor\":\"white\",\"showbackground\":true,\"ticks\":\"\",\"zerolinecolor\":\"white\",\"gridwidth\":2}},\"shapedefaults\":{\"line\":{\"color\":\"#2a3f5f\"}},\"annotationdefaults\":{\"arrowcolor\":\"#2a3f5f\",\"arrowhead\":0,\"arrowwidth\":1},\"geo\":{\"bgcolor\":\"white\",\"landcolor\":\"#E5ECF6\",\"subunitcolor\":\"white\",\"showland\":true,\"showlakes\":true,\"lakecolor\":\"white\"},\"title\":{\"x\":0.05},\"mapbox\":{\"style\":\"light\"}}},\"xaxis\":{\"anchor\":\"y\",\"domain\":[0.0,1.0],\"title\":{\"text\":\"States\"},\"categoryorder\":\"array\",\"categoryarray\":[\"Haryana\",\"Tripura\",\"Jharkhand\",\"Bihar\",\"Delhi\",\"Puducherry\",\"Jammu & Kashmir\",\"Himachal Pradesh\",\"Rajasthan\",\"Tamil Nadu\",\"Goa\",\"Punjab\",\"Uttarakhand\",\"West Bengal\",\"Sikkim\",\"Uttar Pradesh\",\"Kerala\",\"Andhra Pradesh\",\"Maharashtra\",\"Chhattisgarh\",\"Karnataka\",\"Madhya Pradesh\",\"Telangana\",\"Odisha\",\"Gujarat\",\"Assam\",\"Meghalaya\"],\"tickangle\":60},\"yaxis\":{\"anchor\":\"x\",\"domain\":[0.0,1.0],\"title\":{\"text\":\"Estimated Unemployment Rate\"}},\"legend\":{\"title\":{\"text\":\"States\"},\"tracegroupgap\":0},\"title\":{\"text\":\"Average Unemployment Rate in each State\"},\"barmode\":\"relative\",\"width\":1100,\"height\":500},                        {\"responsive\": true}                    ).then(function(){\n",
       "                            \n",
       "var gd = document.getElementById('415bc0ec-4a04-4842-b965-42bbc295403d');\n",
       "var x = new MutationObserver(function (mutations, observer) {{\n",
       "        var display = window.getComputedStyle(gd).display;\n",
       "        if (!display || display === 'none') {{\n",
       "            console.log([gd, 'removed!']);\n",
       "            Plotly.purge(gd);\n",
       "            observer.disconnect();\n",
       "        }}\n",
       "}});\n",
       "\n",
       "// Listen for the removal of the full notebook cells\n",
       "var notebookContainer = gd.closest('#notebook-container');\n",
       "if (notebookContainer) {{\n",
       "    x.observe(notebookContainer, {childList: true});\n",
       "}}\n",
       "\n",
       "// Listen for the clearing of the current output cell\n",
       "var outputEl = gd.closest('.output');\n",
       "if (outputEl) {{\n",
       "    x.observe(outputEl, {childList: true});\n",
       "}}\n",
       "\n",
       "                        })                };                });            </script>        </div>"
      ]
     },
     "metadata": {},
     "output_type": "display_data"
    }
   ],
   "source": [
    "# Dataframe required formation for the Bar plot\n",
    "\n",
    "unemp_df = df_cleaned[['States','Estimated Unemployment Rate']]\n",
    "\n",
    "bar_df = unemp_df.groupby('States').mean().reset_index()\n",
    "\n",
    "bar_df = bar_df.sort_values('Estimated Unemployment Rate' , ascending = False)\n",
    "\n",
    "\n",
    "# Bar Plot formation \n",
    "\n",
    "fig = px.bar(bar_df , y= 'Estimated Unemployment Rate' , x= 'States', color = 'States', title = 'Average Unemployment Rate in each State' )\n",
    "fig.layout.xaxis.tickangle = 60\n",
    "fig.layout.width = 1100\n",
    "fig.layout.height = 500\n",
    "\n",
    "# Showcasing the bar plot formed\n",
    "fig.show()"
   ]
  },
  {
   "cell_type": "markdown",
   "id": "bbd51bef-6ee6-4467-8213-a6b6c9b50998",
   "metadata": {},
   "source": [
    "Haryana and Tripura have been unemployed for long"
   ]
  },
  {
   "cell_type": "code",
   "execution_count": null,
   "id": "17388eab-322c-4d35-8fef-dd59021e6264",
   "metadata": {},
   "outputs": [],
   "source": []
  },
  {
   "cell_type": "markdown",
   "id": "dbaa871a-0a61-4fe2-a35a-e8de10945920",
   "metadata": {},
   "source": [
    "**Bar chart showing the unemployment rate per Region**"
   ]
  },
  {
   "cell_type": "code",
   "execution_count": 25,
   "id": "19576d5c-ce30-491e-a39d-88026b5c1bfc",
   "metadata": {},
   "outputs": [
    {
     "data": {
      "application/vnd.plotly.v1+json": {
       "config": {
        "plotlyServerURL": "https://plot.ly"
       },
       "data": [
        {
         "alignmentgroup": "True",
         "hovertemplate": "States=Andhra Pradesh<br>Month_name=Oct<br>Region=%{x}<br>Estimated Unemployment Rate=%{y}<extra></extra>",
         "legendgroup": "Andhra Pradesh",
         "marker": {
          "color": "#636efa",
          "pattern": {
           "shape": ""
          }
         },
         "name": "Andhra Pradesh",
         "offsetgroup": "Andhra Pradesh",
         "orientation": "v",
         "showlegend": true,
         "textposition": "auto",
         "type": "bar",
         "x": [
          "South"
         ],
         "xaxis": "x",
         "y": [
          6.59
         ],
         "yaxis": "y"
        },
        {
         "alignmentgroup": "True",
         "hovertemplate": "States=Assam<br>Month_name=Oct<br>Region=%{x}<br>Estimated Unemployment Rate=%{y}<extra></extra>",
         "legendgroup": "Assam",
         "marker": {
          "color": "#EF553B",
          "pattern": {
           "shape": ""
          }
         },
         "name": "Assam",
         "offsetgroup": "Assam",
         "orientation": "v",
         "showlegend": true,
         "textposition": "auto",
         "type": "bar",
         "x": [
          "Northeast"
         ],
         "xaxis": "x",
         "y": [
          3.02
         ],
         "yaxis": "y"
        },
        {
         "alignmentgroup": "True",
         "hovertemplate": "States=Bihar<br>Month_name=Oct<br>Region=%{x}<br>Estimated Unemployment Rate=%{y}<extra></extra>",
         "legendgroup": "Bihar",
         "marker": {
          "color": "#00cc96",
          "pattern": {
           "shape": ""
          }
         },
         "name": "Bihar",
         "offsetgroup": "Bihar",
         "orientation": "v",
         "showlegend": true,
         "textposition": "auto",
         "type": "bar",
         "x": [
          "East"
         ],
         "xaxis": "x",
         "y": [
          9.82
         ],
         "yaxis": "y"
        },
        {
         "alignmentgroup": "True",
         "hovertemplate": "States=Chhattisgarh<br>Month_name=Oct<br>Region=%{x}<br>Estimated Unemployment Rate=%{y}<extra></extra>",
         "legendgroup": "Chhattisgarh",
         "marker": {
          "color": "#ab63fa",
          "pattern": {
           "shape": ""
          }
         },
         "name": "Chhattisgarh",
         "offsetgroup": "Chhattisgarh",
         "orientation": "v",
         "showlegend": true,
         "textposition": "auto",
         "type": "bar",
         "x": [
          "West"
         ],
         "xaxis": "x",
         "y": [
          6.62
         ],
         "yaxis": "y"
        },
        {
         "alignmentgroup": "True",
         "hovertemplate": "States=Delhi<br>Month_name=Oct<br>Region=%{x}<br>Estimated Unemployment Rate=%{y}<extra></extra>",
         "legendgroup": "Delhi",
         "marker": {
          "color": "#FFA15A",
          "pattern": {
           "shape": ""
          }
         },
         "name": "Delhi",
         "offsetgroup": "Delhi",
         "orientation": "v",
         "showlegend": true,
         "textposition": "auto",
         "type": "bar",
         "x": [
          "North"
         ],
         "xaxis": "x",
         "y": [
          6.27
         ],
         "yaxis": "y"
        },
        {
         "alignmentgroup": "True",
         "hovertemplate": "States=Goa<br>Month_name=Oct<br>Region=%{x}<br>Estimated Unemployment Rate=%{y}<extra></extra>",
         "legendgroup": "Goa",
         "marker": {
          "color": "#19d3f3",
          "pattern": {
           "shape": ""
          }
         },
         "name": "Goa",
         "offsetgroup": "Goa",
         "orientation": "v",
         "showlegend": true,
         "textposition": "auto",
         "type": "bar",
         "x": [
          "West"
         ],
         "xaxis": "x",
         "y": [
          11.54
         ],
         "yaxis": "y"
        },
        {
         "alignmentgroup": "True",
         "hovertemplate": "States=Gujarat<br>Month_name=Oct<br>Region=%{x}<br>Estimated Unemployment Rate=%{y}<extra></extra>",
         "legendgroup": "Gujarat",
         "marker": {
          "color": "#FF6692",
          "pattern": {
           "shape": ""
          }
         },
         "name": "Gujarat",
         "offsetgroup": "Gujarat",
         "orientation": "v",
         "showlegend": true,
         "textposition": "auto",
         "type": "bar",
         "x": [
          "West"
         ],
         "xaxis": "x",
         "y": [
          4.03
         ],
         "yaxis": "y"
        },
        {
         "alignmentgroup": "True",
         "hovertemplate": "States=Haryana<br>Month_name=Oct<br>Region=%{x}<br>Estimated Unemployment Rate=%{y}<extra></extra>",
         "legendgroup": "Haryana",
         "marker": {
          "color": "#B6E880",
          "pattern": {
           "shape": ""
          }
         },
         "name": "Haryana",
         "offsetgroup": "Haryana",
         "orientation": "v",
         "showlegend": true,
         "textposition": "auto",
         "type": "bar",
         "x": [
          "North"
         ],
         "xaxis": "x",
         "y": [
          27.31
         ],
         "yaxis": "y"
        },
        {
         "alignmentgroup": "True",
         "hovertemplate": "States=Himachal Pradesh<br>Month_name=Oct<br>Region=%{x}<br>Estimated Unemployment Rate=%{y}<extra></extra>",
         "legendgroup": "Himachal Pradesh",
         "marker": {
          "color": "#FF97FF",
          "pattern": {
           "shape": ""
          }
         },
         "name": "Himachal Pradesh",
         "offsetgroup": "Himachal Pradesh",
         "orientation": "v",
         "showlegend": true,
         "textposition": "auto",
         "type": "bar",
         "x": [
          "North"
         ],
         "xaxis": "x",
         "y": [
          13.46
         ],
         "yaxis": "y"
        },
        {
         "alignmentgroup": "True",
         "hovertemplate": "States=Jammu & Kashmir<br>Month_name=Oct<br>Region=%{x}<br>Estimated Unemployment Rate=%{y}<extra></extra>",
         "legendgroup": "Jammu & Kashmir",
         "marker": {
          "color": "#FECB52",
          "pattern": {
           "shape": ""
          }
         },
         "name": "Jammu & Kashmir",
         "offsetgroup": "Jammu & Kashmir",
         "orientation": "v",
         "showlegend": true,
         "textposition": "auto",
         "type": "bar",
         "x": [
          "North"
         ],
         "xaxis": "x",
         "y": [
          16.14
         ],
         "yaxis": "y"
        },
        {
         "alignmentgroup": "True",
         "hovertemplate": "States=Jharkhand<br>Month_name=Oct<br>Region=%{x}<br>Estimated Unemployment Rate=%{y}<extra></extra>",
         "legendgroup": "Jharkhand",
         "marker": {
          "color": "#636efa",
          "pattern": {
           "shape": ""
          }
         },
         "name": "Jharkhand",
         "offsetgroup": "Jharkhand",
         "orientation": "v",
         "showlegend": true,
         "textposition": "auto",
         "type": "bar",
         "x": [
          "East"
         ],
         "xaxis": "x",
         "y": [
          11.8
         ],
         "yaxis": "y"
        },
        {
         "alignmentgroup": "True",
         "hovertemplate": "States=Karnataka<br>Month_name=Oct<br>Region=%{x}<br>Estimated Unemployment Rate=%{y}<extra></extra>",
         "legendgroup": "Karnataka",
         "marker": {
          "color": "#EF553B",
          "pattern": {
           "shape": ""
          }
         },
         "name": "Karnataka",
         "offsetgroup": "Karnataka",
         "orientation": "v",
         "showlegend": true,
         "textposition": "auto",
         "type": "bar",
         "x": [
          "South"
         ],
         "xaxis": "x",
         "y": [
          1.58
         ],
         "yaxis": "y"
        },
        {
         "alignmentgroup": "True",
         "hovertemplate": "States=Kerala<br>Month_name=Oct<br>Region=%{x}<br>Estimated Unemployment Rate=%{y}<extra></extra>",
         "legendgroup": "Kerala",
         "marker": {
          "color": "#00cc96",
          "pattern": {
           "shape": ""
          }
         },
         "name": "Kerala",
         "offsetgroup": "Kerala",
         "orientation": "v",
         "showlegend": true,
         "textposition": "auto",
         "type": "bar",
         "x": [
          "South"
         ],
         "xaxis": "x",
         "y": [
          3.88
         ],
         "yaxis": "y"
        },
        {
         "alignmentgroup": "True",
         "hovertemplate": "States=Madhya Pradesh<br>Month_name=Oct<br>Region=%{x}<br>Estimated Unemployment Rate=%{y}<extra></extra>",
         "legendgroup": "Madhya Pradesh",
         "marker": {
          "color": "#ab63fa",
          "pattern": {
           "shape": ""
          }
         },
         "name": "Madhya Pradesh",
         "offsetgroup": "Madhya Pradesh",
         "orientation": "v",
         "showlegend": true,
         "textposition": "auto",
         "type": "bar",
         "x": [
          "West"
         ],
         "xaxis": "x",
         "y": [
          3.13
         ],
         "yaxis": "y"
        },
        {
         "alignmentgroup": "True",
         "hovertemplate": "States=Maharashtra<br>Month_name=Oct<br>Region=%{x}<br>Estimated Unemployment Rate=%{y}<extra></extra>",
         "legendgroup": "Maharashtra",
         "marker": {
          "color": "#FFA15A",
          "pattern": {
           "shape": ""
          }
         },
         "name": "Maharashtra",
         "offsetgroup": "Maharashtra",
         "orientation": "v",
         "showlegend": true,
         "textposition": "auto",
         "type": "bar",
         "x": [
          "West"
         ],
         "xaxis": "x",
         "y": [
          4.1
         ],
         "yaxis": "y"
        },
        {
         "alignmentgroup": "True",
         "hovertemplate": "States=Meghalaya<br>Month_name=Oct<br>Region=%{x}<br>Estimated Unemployment Rate=%{y}<extra></extra>",
         "legendgroup": "Meghalaya",
         "marker": {
          "color": "#19d3f3",
          "pattern": {
           "shape": ""
          }
         },
         "name": "Meghalaya",
         "offsetgroup": "Meghalaya",
         "orientation": "v",
         "showlegend": true,
         "textposition": "auto",
         "type": "bar",
         "x": [
          "Northeast"
         ],
         "xaxis": "x",
         "y": [
          4.6
         ],
         "yaxis": "y"
        },
        {
         "alignmentgroup": "True",
         "hovertemplate": "States=Odisha<br>Month_name=Oct<br>Region=%{x}<br>Estimated Unemployment Rate=%{y}<extra></extra>",
         "legendgroup": "Odisha",
         "marker": {
          "color": "#FF6692",
          "pattern": {
           "shape": ""
          }
         },
         "name": "Odisha",
         "offsetgroup": "Odisha",
         "orientation": "v",
         "showlegend": true,
         "textposition": "auto",
         "type": "bar",
         "x": [
          "East"
         ],
         "xaxis": "x",
         "y": [
          2.18
         ],
         "yaxis": "y"
        },
        {
         "alignmentgroup": "True",
         "hovertemplate": "States=Puducherry<br>Month_name=Oct<br>Region=%{x}<br>Estimated Unemployment Rate=%{y}<extra></extra>",
         "legendgroup": "Puducherry",
         "marker": {
          "color": "#B6E880",
          "pattern": {
           "shape": ""
          }
         },
         "name": "Puducherry",
         "offsetgroup": "Puducherry",
         "orientation": "v",
         "showlegend": true,
         "textposition": "auto",
         "type": "bar",
         "x": [
          "South"
         ],
         "xaxis": "x",
         "y": [
          6.18
         ],
         "yaxis": "y"
        },
        {
         "alignmentgroup": "True",
         "hovertemplate": "States=Punjab<br>Month_name=Oct<br>Region=%{x}<br>Estimated Unemployment Rate=%{y}<extra></extra>",
         "legendgroup": "Punjab",
         "marker": {
          "color": "#FF97FF",
          "pattern": {
           "shape": ""
          }
         },
         "name": "Punjab",
         "offsetgroup": "Punjab",
         "orientation": "v",
         "showlegend": true,
         "textposition": "auto",
         "type": "bar",
         "x": [
          "North"
         ],
         "xaxis": "x",
         "y": [
          9.88
         ],
         "yaxis": "y"
        },
        {
         "alignmentgroup": "True",
         "hovertemplate": "States=Rajasthan<br>Month_name=Oct<br>Region=%{x}<br>Estimated Unemployment Rate=%{y}<extra></extra>",
         "legendgroup": "Rajasthan",
         "marker": {
          "color": "#FECB52",
          "pattern": {
           "shape": ""
          }
         },
         "name": "Rajasthan",
         "offsetgroup": "Rajasthan",
         "orientation": "v",
         "showlegend": true,
         "textposition": "auto",
         "type": "bar",
         "x": [
          "North"
         ],
         "xaxis": "x",
         "y": [
          24.15
         ],
         "yaxis": "y"
        },
        {
         "alignmentgroup": "True",
         "hovertemplate": "States=Sikkim<br>Month_name=Oct<br>Region=%{x}<br>Estimated Unemployment Rate=%{y}<extra></extra>",
         "legendgroup": "Sikkim",
         "marker": {
          "color": "#636efa",
          "pattern": {
           "shape": ""
          }
         },
         "name": "Sikkim",
         "offsetgroup": "Sikkim",
         "orientation": "v",
         "showlegend": true,
         "textposition": "auto",
         "type": "bar",
         "x": [
          "Northeast"
         ],
         "xaxis": "x",
         "y": [
          0.88
         ],
         "yaxis": "y"
        },
        {
         "alignmentgroup": "True",
         "hovertemplate": "States=Tamil Nadu<br>Month_name=Oct<br>Region=%{x}<br>Estimated Unemployment Rate=%{y}<extra></extra>",
         "legendgroup": "Tamil Nadu",
         "marker": {
          "color": "#EF553B",
          "pattern": {
           "shape": ""
          }
         },
         "name": "Tamil Nadu",
         "offsetgroup": "Tamil Nadu",
         "orientation": "v",
         "showlegend": true,
         "textposition": "auto",
         "type": "bar",
         "x": [
          "South"
         ],
         "xaxis": "x",
         "y": [
          2.16
         ],
         "yaxis": "y"
        },
        {
         "alignmentgroup": "True",
         "hovertemplate": "States=Telangana<br>Month_name=Oct<br>Region=%{x}<br>Estimated Unemployment Rate=%{y}<extra></extra>",
         "legendgroup": "Telangana",
         "marker": {
          "color": "#00cc96",
          "pattern": {
           "shape": ""
          }
         },
         "name": "Telangana",
         "offsetgroup": "Telangana",
         "orientation": "v",
         "showlegend": true,
         "textposition": "auto",
         "type": "bar",
         "x": [
          "South"
         ],
         "xaxis": "x",
         "y": [
          2.86
         ],
         "yaxis": "y"
        },
        {
         "alignmentgroup": "True",
         "hovertemplate": "States=Tripura<br>Month_name=Oct<br>Region=%{x}<br>Estimated Unemployment Rate=%{y}<extra></extra>",
         "legendgroup": "Tripura",
         "marker": {
          "color": "#ab63fa",
          "pattern": {
           "shape": ""
          }
         },
         "name": "Tripura",
         "offsetgroup": "Tripura",
         "orientation": "v",
         "showlegend": true,
         "textposition": "auto",
         "type": "bar",
         "x": [
          "Northeast"
         ],
         "xaxis": "x",
         "y": [
          11.57
         ],
         "yaxis": "y"
        },
        {
         "alignmentgroup": "True",
         "hovertemplate": "States=Uttar Pradesh<br>Month_name=Oct<br>Region=%{x}<br>Estimated Unemployment Rate=%{y}<extra></extra>",
         "legendgroup": "Uttar Pradesh",
         "marker": {
          "color": "#FFA15A",
          "pattern": {
           "shape": ""
          }
         },
         "name": "Uttar Pradesh",
         "offsetgroup": "Uttar Pradesh",
         "orientation": "v",
         "showlegend": true,
         "textposition": "auto",
         "type": "bar",
         "x": [
          "North"
         ],
         "xaxis": "x",
         "y": [
          3.75
         ],
         "yaxis": "y"
        },
        {
         "alignmentgroup": "True",
         "hovertemplate": "States=Uttarakhand<br>Month_name=Oct<br>Region=%{x}<br>Estimated Unemployment Rate=%{y}<extra></extra>",
         "legendgroup": "Uttarakhand",
         "marker": {
          "color": "#19d3f3",
          "pattern": {
           "shape": ""
          }
         },
         "name": "Uttarakhand",
         "offsetgroup": "Uttarakhand",
         "orientation": "v",
         "showlegend": true,
         "textposition": "auto",
         "type": "bar",
         "x": [
          "North"
         ],
         "xaxis": "x",
         "y": [
          9.23
         ],
         "yaxis": "y"
        }
       ],
       "frames": [
        {
         "data": [
          {
           "alignmentgroup": "True",
           "hovertemplate": "States=Andhra Pradesh<br>Month_name=Jan<br>Region=%{x}<br>Estimated Unemployment Rate=%{y}<extra></extra>",
           "legendgroup": "Andhra Pradesh",
           "marker": {
            "color": "#636efa",
            "pattern": {
             "shape": ""
            }
           },
           "name": "Andhra Pradesh",
           "offsetgroup": "Andhra Pradesh",
           "orientation": "v",
           "showlegend": true,
           "textposition": "auto",
           "type": "bar",
           "x": [
            "South"
           ],
           "xaxis": "x",
           "y": [
            5.48
           ],
           "yaxis": "y"
          },
          {
           "alignmentgroup": "True",
           "hovertemplate": "States=Assam<br>Month_name=Jan<br>Region=%{x}<br>Estimated Unemployment Rate=%{y}<extra></extra>",
           "legendgroup": "Assam",
           "marker": {
            "color": "#EF553B",
            "pattern": {
             "shape": ""
            }
           },
           "name": "Assam",
           "offsetgroup": "Assam",
           "orientation": "v",
           "showlegend": true,
           "textposition": "auto",
           "type": "bar",
           "x": [
            "Northeast"
           ],
           "xaxis": "x",
           "y": [
            4.66
           ],
           "yaxis": "y"
          },
          {
           "alignmentgroup": "True",
           "hovertemplate": "States=Bihar<br>Month_name=Jan<br>Region=%{x}<br>Estimated Unemployment Rate=%{y}<extra></extra>",
           "legendgroup": "Bihar",
           "marker": {
            "color": "#00cc96",
            "pattern": {
             "shape": ""
            }
           },
           "name": "Bihar",
           "offsetgroup": "Bihar",
           "orientation": "v",
           "showlegend": true,
           "textposition": "auto",
           "type": "bar",
           "x": [
            "East"
           ],
           "xaxis": "x",
           "y": [
            10.61
           ],
           "yaxis": "y"
          },
          {
           "alignmentgroup": "True",
           "hovertemplate": "States=Chhattisgarh<br>Month_name=Jan<br>Region=%{x}<br>Estimated Unemployment Rate=%{y}<extra></extra>",
           "legendgroup": "Chhattisgarh",
           "marker": {
            "color": "#ab63fa",
            "pattern": {
             "shape": ""
            }
           },
           "name": "Chhattisgarh",
           "offsetgroup": "Chhattisgarh",
           "orientation": "v",
           "showlegend": true,
           "textposition": "auto",
           "type": "bar",
           "x": [
            "West"
           ],
           "xaxis": "x",
           "y": [
            9.65
           ],
           "yaxis": "y"
          },
          {
           "alignmentgroup": "True",
           "hovertemplate": "States=Delhi<br>Month_name=Jan<br>Region=%{x}<br>Estimated Unemployment Rate=%{y}<extra></extra>",
           "legendgroup": "Delhi",
           "marker": {
            "color": "#FFA15A",
            "pattern": {
             "shape": ""
            }
           },
           "name": "Delhi",
           "offsetgroup": "Delhi",
           "orientation": "v",
           "showlegend": true,
           "textposition": "auto",
           "type": "bar",
           "x": [
            "North"
           ],
           "xaxis": "x",
           "y": [
            22.23
           ],
           "yaxis": "y"
          },
          {
           "alignmentgroup": "True",
           "hovertemplate": "States=Goa<br>Month_name=Jan<br>Region=%{x}<br>Estimated Unemployment Rate=%{y}<extra></extra>",
           "legendgroup": "Goa",
           "marker": {
            "color": "#19d3f3",
            "pattern": {
             "shape": ""
            }
           },
           "name": "Goa",
           "offsetgroup": "Goa",
           "orientation": "v",
           "showlegend": true,
           "textposition": "auto",
           "type": "bar",
           "x": [
            "West"
           ],
           "xaxis": "x",
           "y": [
            8.89
           ],
           "yaxis": "y"
          },
          {
           "alignmentgroup": "True",
           "hovertemplate": "States=Gujarat<br>Month_name=Jan<br>Region=%{x}<br>Estimated Unemployment Rate=%{y}<extra></extra>",
           "legendgroup": "Gujarat",
           "marker": {
            "color": "#FF6692",
            "pattern": {
             "shape": ""
            }
           },
           "name": "Gujarat",
           "offsetgroup": "Gujarat",
           "orientation": "v",
           "showlegend": true,
           "textposition": "auto",
           "type": "bar",
           "x": [
            "West"
           ],
           "xaxis": "x",
           "y": [
            5.54
           ],
           "yaxis": "y"
          },
          {
           "alignmentgroup": "True",
           "hovertemplate": "States=Haryana<br>Month_name=Jan<br>Region=%{x}<br>Estimated Unemployment Rate=%{y}<extra></extra>",
           "legendgroup": "Haryana",
           "marker": {
            "color": "#B6E880",
            "pattern": {
             "shape": ""
            }
           },
           "name": "Haryana",
           "offsetgroup": "Haryana",
           "orientation": "v",
           "showlegend": true,
           "textposition": "auto",
           "type": "bar",
           "x": [
            "North"
           ],
           "xaxis": "x",
           "y": [
            20.34
           ],
           "yaxis": "y"
          },
          {
           "alignmentgroup": "True",
           "hovertemplate": "States=Himachal Pradesh<br>Month_name=Jan<br>Region=%{x}<br>Estimated Unemployment Rate=%{y}<extra></extra>",
           "legendgroup": "Himachal Pradesh",
           "marker": {
            "color": "#FF97FF",
            "pattern": {
             "shape": ""
            }
           },
           "name": "Himachal Pradesh",
           "offsetgroup": "Himachal Pradesh",
           "orientation": "v",
           "showlegend": true,
           "textposition": "auto",
           "type": "bar",
           "x": [
            "North"
           ],
           "xaxis": "x",
           "y": [
            16.83
           ],
           "yaxis": "y"
          },
          {
           "alignmentgroup": "True",
           "hovertemplate": "States=Jammu & Kashmir<br>Month_name=Jan<br>Region=%{x}<br>Estimated Unemployment Rate=%{y}<extra></extra>",
           "legendgroup": "Jammu & Kashmir",
           "marker": {
            "color": "#FECB52",
            "pattern": {
             "shape": ""
            }
           },
           "name": "Jammu & Kashmir",
           "offsetgroup": "Jammu & Kashmir",
           "orientation": "v",
           "showlegend": true,
           "textposition": "auto",
           "type": "bar",
           "x": [
            "North"
           ],
           "xaxis": "x",
           "y": [
            21.08
           ],
           "yaxis": "y"
          },
          {
           "alignmentgroup": "True",
           "hovertemplate": "States=Jharkhand<br>Month_name=Jan<br>Region=%{x}<br>Estimated Unemployment Rate=%{y}<extra></extra>",
           "legendgroup": "Jharkhand",
           "marker": {
            "color": "#636efa",
            "pattern": {
             "shape": ""
            }
           },
           "name": "Jharkhand",
           "offsetgroup": "Jharkhand",
           "orientation": "v",
           "showlegend": true,
           "textposition": "auto",
           "type": "bar",
           "x": [
            "East"
           ],
           "xaxis": "x",
           "y": [
            10.61
           ],
           "yaxis": "y"
          },
          {
           "alignmentgroup": "True",
           "hovertemplate": "States=Karnataka<br>Month_name=Jan<br>Region=%{x}<br>Estimated Unemployment Rate=%{y}<extra></extra>",
           "legendgroup": "Karnataka",
           "marker": {
            "color": "#EF553B",
            "pattern": {
             "shape": ""
            }
           },
           "name": "Karnataka",
           "offsetgroup": "Karnataka",
           "orientation": "v",
           "showlegend": true,
           "textposition": "auto",
           "type": "bar",
           "x": [
            "South"
           ],
           "xaxis": "x",
           "y": [
            2.86
           ],
           "yaxis": "y"
          },
          {
           "alignmentgroup": "True",
           "hovertemplate": "States=Kerala<br>Month_name=Jan<br>Region=%{x}<br>Estimated Unemployment Rate=%{y}<extra></extra>",
           "legendgroup": "Kerala",
           "marker": {
            "color": "#00cc96",
            "pattern": {
             "shape": ""
            }
           },
           "name": "Kerala",
           "offsetgroup": "Kerala",
           "orientation": "v",
           "showlegend": true,
           "textposition": "auto",
           "type": "bar",
           "x": [
            "South"
           ],
           "xaxis": "x",
           "y": [
            5.31
           ],
           "yaxis": "y"
          },
          {
           "alignmentgroup": "True",
           "hovertemplate": "States=Madhya Pradesh<br>Month_name=Jan<br>Region=%{x}<br>Estimated Unemployment Rate=%{y}<extra></extra>",
           "legendgroup": "Madhya Pradesh",
           "marker": {
            "color": "#ab63fa",
            "pattern": {
             "shape": ""
            }
           },
           "name": "Madhya Pradesh",
           "offsetgroup": "Madhya Pradesh",
           "orientation": "v",
           "showlegend": true,
           "textposition": "auto",
           "type": "bar",
           "x": [
            "West"
           ],
           "xaxis": "x",
           "y": [
            4.11
           ],
           "yaxis": "y"
          },
          {
           "alignmentgroup": "True",
           "hovertemplate": "States=Maharashtra<br>Month_name=Jan<br>Region=%{x}<br>Estimated Unemployment Rate=%{y}<extra></extra>",
           "legendgroup": "Maharashtra",
           "marker": {
            "color": "#FFA15A",
            "pattern": {
             "shape": ""
            }
           },
           "name": "Maharashtra",
           "offsetgroup": "Maharashtra",
           "orientation": "v",
           "showlegend": true,
           "textposition": "auto",
           "type": "bar",
           "x": [
            "West"
           ],
           "xaxis": "x",
           "y": [
            4.95
           ],
           "yaxis": "y"
          },
          {
           "alignmentgroup": "True",
           "hovertemplate": "States=Meghalaya<br>Month_name=Jan<br>Region=%{x}<br>Estimated Unemployment Rate=%{y}<extra></extra>",
           "legendgroup": "Meghalaya",
           "marker": {
            "color": "#19d3f3",
            "pattern": {
             "shape": ""
            }
           },
           "name": "Meghalaya",
           "offsetgroup": "Meghalaya",
           "orientation": "v",
           "showlegend": true,
           "textposition": "auto",
           "type": "bar",
           "x": [
            "Northeast"
           ],
           "xaxis": "x",
           "y": [
            1.66
           ],
           "yaxis": "y"
          },
          {
           "alignmentgroup": "True",
           "hovertemplate": "States=Odisha<br>Month_name=Jan<br>Region=%{x}<br>Estimated Unemployment Rate=%{y}<extra></extra>",
           "legendgroup": "Odisha",
           "marker": {
            "color": "#FF6692",
            "pattern": {
             "shape": ""
            }
           },
           "name": "Odisha",
           "offsetgroup": "Odisha",
           "orientation": "v",
           "showlegend": true,
           "textposition": "auto",
           "type": "bar",
           "x": [
            "East"
           ],
           "xaxis": "x",
           "y": [
            1.9
           ],
           "yaxis": "y"
          },
          {
           "alignmentgroup": "True",
           "hovertemplate": "States=Puducherry<br>Month_name=Jan<br>Region=%{x}<br>Estimated Unemployment Rate=%{y}<extra></extra>",
           "legendgroup": "Puducherry",
           "marker": {
            "color": "#B6E880",
            "pattern": {
             "shape": ""
            }
           },
           "name": "Puducherry",
           "offsetgroup": "Puducherry",
           "orientation": "v",
           "showlegend": true,
           "textposition": "auto",
           "type": "bar",
           "x": [
            "South"
           ],
           "xaxis": "x",
           "y": [
            0.58
           ],
           "yaxis": "y"
          },
          {
           "alignmentgroup": "True",
           "hovertemplate": "States=Punjab<br>Month_name=Jan<br>Region=%{x}<br>Estimated Unemployment Rate=%{y}<extra></extra>",
           "legendgroup": "Punjab",
           "marker": {
            "color": "#FF97FF",
            "pattern": {
             "shape": ""
            }
           },
           "name": "Punjab",
           "offsetgroup": "Punjab",
           "orientation": "v",
           "showlegend": true,
           "textposition": "auto",
           "type": "bar",
           "x": [
            "North"
           ],
           "xaxis": "x",
           "y": [
            11.11
           ],
           "yaxis": "y"
          },
          {
           "alignmentgroup": "True",
           "hovertemplate": "States=Rajasthan<br>Month_name=Jan<br>Region=%{x}<br>Estimated Unemployment Rate=%{y}<extra></extra>",
           "legendgroup": "Rajasthan",
           "marker": {
            "color": "#FECB52",
            "pattern": {
             "shape": ""
            }
           },
           "name": "Rajasthan",
           "offsetgroup": "Rajasthan",
           "orientation": "v",
           "showlegend": true,
           "textposition": "auto",
           "type": "bar",
           "x": [
            "North"
           ],
           "xaxis": "x",
           "y": [
            10.97
           ],
           "yaxis": "y"
          },
          {
           "alignmentgroup": "True",
           "hovertemplate": "States=Tamil Nadu<br>Month_name=Jan<br>Region=%{x}<br>Estimated Unemployment Rate=%{y}<extra></extra>",
           "legendgroup": "Tamil Nadu",
           "marker": {
            "color": "#EF553B",
            "pattern": {
             "shape": ""
            }
           },
           "name": "Tamil Nadu",
           "offsetgroup": "Tamil Nadu",
           "orientation": "v",
           "showlegend": true,
           "textposition": "auto",
           "type": "bar",
           "x": [
            "South"
           ],
           "xaxis": "x",
           "y": [
            1.57
           ],
           "yaxis": "y"
          },
          {
           "alignmentgroup": "True",
           "hovertemplate": "States=Telangana<br>Month_name=Jan<br>Region=%{x}<br>Estimated Unemployment Rate=%{y}<extra></extra>",
           "legendgroup": "Telangana",
           "marker": {
            "color": "#00cc96",
            "pattern": {
             "shape": ""
            }
           },
           "name": "Telangana",
           "offsetgroup": "Telangana",
           "orientation": "v",
           "showlegend": true,
           "textposition": "auto",
           "type": "bar",
           "x": [
            "South"
           ],
           "xaxis": "x",
           "y": [
            5.49
           ],
           "yaxis": "y"
          },
          {
           "alignmentgroup": "True",
           "hovertemplate": "States=Tripura<br>Month_name=Jan<br>Region=%{x}<br>Estimated Unemployment Rate=%{y}<extra></extra>",
           "legendgroup": "Tripura",
           "marker": {
            "color": "#ab63fa",
            "pattern": {
             "shape": ""
            }
           },
           "name": "Tripura",
           "offsetgroup": "Tripura",
           "orientation": "v",
           "showlegend": true,
           "textposition": "auto",
           "type": "bar",
           "x": [
            "Northeast"
           ],
           "xaxis": "x",
           "y": [
            32.67
           ],
           "yaxis": "y"
          },
          {
           "alignmentgroup": "True",
           "hovertemplate": "States=Uttar Pradesh<br>Month_name=Jan<br>Region=%{x}<br>Estimated Unemployment Rate=%{y}<extra></extra>",
           "legendgroup": "Uttar Pradesh",
           "marker": {
            "color": "#FFA15A",
            "pattern": {
             "shape": ""
            }
           },
           "name": "Uttar Pradesh",
           "offsetgroup": "Uttar Pradesh",
           "orientation": "v",
           "showlegend": true,
           "textposition": "auto",
           "type": "bar",
           "x": [
            "North"
           ],
           "xaxis": "x",
           "y": [
            7.58
           ],
           "yaxis": "y"
          },
          {
           "alignmentgroup": "True",
           "hovertemplate": "States=Uttarakhand<br>Month_name=Jan<br>Region=%{x}<br>Estimated Unemployment Rate=%{y}<extra></extra>",
           "legendgroup": "Uttarakhand",
           "marker": {
            "color": "#19d3f3",
            "pattern": {
             "shape": ""
            }
           },
           "name": "Uttarakhand",
           "offsetgroup": "Uttarakhand",
           "orientation": "v",
           "showlegend": true,
           "textposition": "auto",
           "type": "bar",
           "x": [
            "North"
           ],
           "xaxis": "x",
           "y": [
            5.49
           ],
           "yaxis": "y"
          },
          {
           "alignmentgroup": "True",
           "hovertemplate": "States=West Bengal<br>Month_name=Jan<br>Region=%{x}<br>Estimated Unemployment Rate=%{y}<extra></extra>",
           "legendgroup": "West Bengal",
           "marker": {
            "color": "#FF6692",
            "pattern": {
             "shape": ""
            }
           },
           "name": "West Bengal",
           "offsetgroup": "West Bengal",
           "orientation": "v",
           "showlegend": true,
           "textposition": "auto",
           "type": "bar",
           "x": [
            "East"
           ],
           "xaxis": "x",
           "y": [
            6.94
           ],
           "yaxis": "y"
          }
         ],
         "name": "Jan"
        },
        {
         "data": [
          {
           "alignmentgroup": "True",
           "hovertemplate": "States=Andhra Pradesh<br>Month_name=Feb<br>Region=%{x}<br>Estimated Unemployment Rate=%{y}<extra></extra>",
           "legendgroup": "Andhra Pradesh",
           "marker": {
            "color": "#636efa",
            "pattern": {
             "shape": ""
            }
           },
           "name": "Andhra Pradesh",
           "offsetgroup": "Andhra Pradesh",
           "orientation": "v",
           "showlegend": true,
           "textposition": "auto",
           "type": "bar",
           "x": [
            "South"
           ],
           "xaxis": "x",
           "y": [
            5.83
           ],
           "yaxis": "y"
          },
          {
           "alignmentgroup": "True",
           "hovertemplate": "States=Assam<br>Month_name=Feb<br>Region=%{x}<br>Estimated Unemployment Rate=%{y}<extra></extra>",
           "legendgroup": "Assam",
           "marker": {
            "color": "#EF553B",
            "pattern": {
             "shape": ""
            }
           },
           "name": "Assam",
           "offsetgroup": "Assam",
           "orientation": "v",
           "showlegend": true,
           "textposition": "auto",
           "type": "bar",
           "x": [
            "Northeast"
           ],
           "xaxis": "x",
           "y": [
            4.41
           ],
           "yaxis": "y"
          },
          {
           "alignmentgroup": "True",
           "hovertemplate": "States=Bihar<br>Month_name=Feb<br>Region=%{x}<br>Estimated Unemployment Rate=%{y}<extra></extra>",
           "legendgroup": "Bihar",
           "marker": {
            "color": "#00cc96",
            "pattern": {
             "shape": ""
            }
           },
           "name": "Bihar",
           "offsetgroup": "Bihar",
           "orientation": "v",
           "showlegend": true,
           "textposition": "auto",
           "type": "bar",
           "x": [
            "East"
           ],
           "xaxis": "x",
           "y": [
            10.29
           ],
           "yaxis": "y"
          },
          {
           "alignmentgroup": "True",
           "hovertemplate": "States=Chhattisgarh<br>Month_name=Feb<br>Region=%{x}<br>Estimated Unemployment Rate=%{y}<extra></extra>",
           "legendgroup": "Chhattisgarh",
           "marker": {
            "color": "#ab63fa",
            "pattern": {
             "shape": ""
            }
           },
           "name": "Chhattisgarh",
           "offsetgroup": "Chhattisgarh",
           "orientation": "v",
           "showlegend": true,
           "textposition": "auto",
           "type": "bar",
           "x": [
            "West"
           ],
           "xaxis": "x",
           "y": [
            8.38
           ],
           "yaxis": "y"
          },
          {
           "alignmentgroup": "True",
           "hovertemplate": "States=Delhi<br>Month_name=Feb<br>Region=%{x}<br>Estimated Unemployment Rate=%{y}<extra></extra>",
           "legendgroup": "Delhi",
           "marker": {
            "color": "#FFA15A",
            "pattern": {
             "shape": ""
            }
           },
           "name": "Delhi",
           "offsetgroup": "Delhi",
           "orientation": "v",
           "showlegend": true,
           "textposition": "auto",
           "type": "bar",
           "x": [
            "North"
           ],
           "xaxis": "x",
           "y": [
            14.84
           ],
           "yaxis": "y"
          },
          {
           "alignmentgroup": "True",
           "hovertemplate": "States=Goa<br>Month_name=Feb<br>Region=%{x}<br>Estimated Unemployment Rate=%{y}<extra></extra>",
           "legendgroup": "Goa",
           "marker": {
            "color": "#19d3f3",
            "pattern": {
             "shape": ""
            }
           },
           "name": "Goa",
           "offsetgroup": "Goa",
           "orientation": "v",
           "showlegend": true,
           "textposition": "auto",
           "type": "bar",
           "x": [
            "West"
           ],
           "xaxis": "x",
           "y": [
            2.81
           ],
           "yaxis": "y"
          },
          {
           "alignmentgroup": "True",
           "hovertemplate": "States=Gujarat<br>Month_name=Feb<br>Region=%{x}<br>Estimated Unemployment Rate=%{y}<extra></extra>",
           "legendgroup": "Gujarat",
           "marker": {
            "color": "#FF6692",
            "pattern": {
             "shape": ""
            }
           },
           "name": "Gujarat",
           "offsetgroup": "Gujarat",
           "orientation": "v",
           "showlegend": true,
           "textposition": "auto",
           "type": "bar",
           "x": [
            "West"
           ],
           "xaxis": "x",
           "y": [
            6.38
           ],
           "yaxis": "y"
          },
          {
           "alignmentgroup": "True",
           "hovertemplate": "States=Haryana<br>Month_name=Feb<br>Region=%{x}<br>Estimated Unemployment Rate=%{y}<extra></extra>",
           "legendgroup": "Haryana",
           "marker": {
            "color": "#B6E880",
            "pattern": {
             "shape": ""
            }
           },
           "name": "Haryana",
           "offsetgroup": "Haryana",
           "orientation": "v",
           "showlegend": true,
           "textposition": "auto",
           "type": "bar",
           "x": [
            "North"
           ],
           "xaxis": "x",
           "y": [
            25.77
           ],
           "yaxis": "y"
          },
          {
           "alignmentgroup": "True",
           "hovertemplate": "States=Himachal Pradesh<br>Month_name=Feb<br>Region=%{x}<br>Estimated Unemployment Rate=%{y}<extra></extra>",
           "legendgroup": "Himachal Pradesh",
           "marker": {
            "color": "#FF97FF",
            "pattern": {
             "shape": ""
            }
           },
           "name": "Himachal Pradesh",
           "offsetgroup": "Himachal Pradesh",
           "orientation": "v",
           "showlegend": true,
           "textposition": "auto",
           "type": "bar",
           "x": [
            "North"
           ],
           "xaxis": "x",
           "y": [
            16.84
           ],
           "yaxis": "y"
          },
          {
           "alignmentgroup": "True",
           "hovertemplate": "States=Jammu & Kashmir<br>Month_name=Feb<br>Region=%{x}<br>Estimated Unemployment Rate=%{y}<extra></extra>",
           "legendgroup": "Jammu & Kashmir",
           "marker": {
            "color": "#FECB52",
            "pattern": {
             "shape": ""
            }
           },
           "name": "Jammu & Kashmir",
           "offsetgroup": "Jammu & Kashmir",
           "orientation": "v",
           "showlegend": true,
           "textposition": "auto",
           "type": "bar",
           "x": [
            "North"
           ],
           "xaxis": "x",
           "y": [
            20.78
           ],
           "yaxis": "y"
          },
          {
           "alignmentgroup": "True",
           "hovertemplate": "States=Jharkhand<br>Month_name=Feb<br>Region=%{x}<br>Estimated Unemployment Rate=%{y}<extra></extra>",
           "legendgroup": "Jharkhand",
           "marker": {
            "color": "#636efa",
            "pattern": {
             "shape": ""
            }
           },
           "name": "Jharkhand",
           "offsetgroup": "Jharkhand",
           "orientation": "v",
           "showlegend": true,
           "textposition": "auto",
           "type": "bar",
           "x": [
            "East"
           ],
           "xaxis": "x",
           "y": [
            11.85
           ],
           "yaxis": "y"
          },
          {
           "alignmentgroup": "True",
           "hovertemplate": "States=Karnataka<br>Month_name=Feb<br>Region=%{x}<br>Estimated Unemployment Rate=%{y}<extra></extra>",
           "legendgroup": "Karnataka",
           "marker": {
            "color": "#EF553B",
            "pattern": {
             "shape": ""
            }
           },
           "name": "Karnataka",
           "offsetgroup": "Karnataka",
           "orientation": "v",
           "showlegend": true,
           "textposition": "auto",
           "type": "bar",
           "x": [
            "South"
           ],
           "xaxis": "x",
           "y": [
            3.61
           ],
           "yaxis": "y"
          },
          {
           "alignmentgroup": "True",
           "hovertemplate": "States=Kerala<br>Month_name=Feb<br>Region=%{x}<br>Estimated Unemployment Rate=%{y}<extra></extra>",
           "legendgroup": "Kerala",
           "marker": {
            "color": "#00cc96",
            "pattern": {
             "shape": ""
            }
           },
           "name": "Kerala",
           "offsetgroup": "Kerala",
           "orientation": "v",
           "showlegend": true,
           "textposition": "auto",
           "type": "bar",
           "x": [
            "South"
           ],
           "xaxis": "x",
           "y": [
            7.6
           ],
           "yaxis": "y"
          },
          {
           "alignmentgroup": "True",
           "hovertemplate": "States=Madhya Pradesh<br>Month_name=Feb<br>Region=%{x}<br>Estimated Unemployment Rate=%{y}<extra></extra>",
           "legendgroup": "Madhya Pradesh",
           "marker": {
            "color": "#ab63fa",
            "pattern": {
             "shape": ""
            }
           },
           "name": "Madhya Pradesh",
           "offsetgroup": "Madhya Pradesh",
           "orientation": "v",
           "showlegend": true,
           "textposition": "auto",
           "type": "bar",
           "x": [
            "West"
           ],
           "xaxis": "x",
           "y": [
            4.57
           ],
           "yaxis": "y"
          },
          {
           "alignmentgroup": "True",
           "hovertemplate": "States=Maharashtra<br>Month_name=Feb<br>Region=%{x}<br>Estimated Unemployment Rate=%{y}<extra></extra>",
           "legendgroup": "Maharashtra",
           "marker": {
            "color": "#FFA15A",
            "pattern": {
             "shape": ""
            }
           },
           "name": "Maharashtra",
           "offsetgroup": "Maharashtra",
           "orientation": "v",
           "showlegend": true,
           "textposition": "auto",
           "type": "bar",
           "x": [
            "West"
           ],
           "xaxis": "x",
           "y": [
            4.69
           ],
           "yaxis": "y"
          },
          {
           "alignmentgroup": "True",
           "hovertemplate": "States=Meghalaya<br>Month_name=Feb<br>Region=%{x}<br>Estimated Unemployment Rate=%{y}<extra></extra>",
           "legendgroup": "Meghalaya",
           "marker": {
            "color": "#19d3f3",
            "pattern": {
             "shape": ""
            }
           },
           "name": "Meghalaya",
           "offsetgroup": "Meghalaya",
           "orientation": "v",
           "showlegend": true,
           "textposition": "auto",
           "type": "bar",
           "x": [
            "Northeast"
           ],
           "xaxis": "x",
           "y": [
            3.59
           ],
           "yaxis": "y"
          },
          {
           "alignmentgroup": "True",
           "hovertemplate": "States=Odisha<br>Month_name=Feb<br>Region=%{x}<br>Estimated Unemployment Rate=%{y}<extra></extra>",
           "legendgroup": "Odisha",
           "marker": {
            "color": "#FF6692",
            "pattern": {
             "shape": ""
            }
           },
           "name": "Odisha",
           "offsetgroup": "Odisha",
           "orientation": "v",
           "showlegend": true,
           "textposition": "auto",
           "type": "bar",
           "x": [
            "East"
           ],
           "xaxis": "x",
           "y": [
            3.12
           ],
           "yaxis": "y"
          },
          {
           "alignmentgroup": "True",
           "hovertemplate": "States=Puducherry<br>Month_name=Feb<br>Region=%{x}<br>Estimated Unemployment Rate=%{y}<extra></extra>",
           "legendgroup": "Puducherry",
           "marker": {
            "color": "#B6E880",
            "pattern": {
             "shape": ""
            }
           },
           "name": "Puducherry",
           "offsetgroup": "Puducherry",
           "orientation": "v",
           "showlegend": true,
           "textposition": "auto",
           "type": "bar",
           "x": [
            "South"
           ],
           "xaxis": "x",
           "y": [
            1.76
           ],
           "yaxis": "y"
          },
          {
           "alignmentgroup": "True",
           "hovertemplate": "States=Punjab<br>Month_name=Feb<br>Region=%{x}<br>Estimated Unemployment Rate=%{y}<extra></extra>",
           "legendgroup": "Punjab",
           "marker": {
            "color": "#FF97FF",
            "pattern": {
             "shape": ""
            }
           },
           "name": "Punjab",
           "offsetgroup": "Punjab",
           "orientation": "v",
           "showlegend": true,
           "textposition": "auto",
           "type": "bar",
           "x": [
            "North"
           ],
           "xaxis": "x",
           "y": [
            10.97
           ],
           "yaxis": "y"
          },
          {
           "alignmentgroup": "True",
           "hovertemplate": "States=Rajasthan<br>Month_name=Feb<br>Region=%{x}<br>Estimated Unemployment Rate=%{y}<extra></extra>",
           "legendgroup": "Rajasthan",
           "marker": {
            "color": "#FECB52",
            "pattern": {
             "shape": ""
            }
           },
           "name": "Rajasthan",
           "offsetgroup": "Rajasthan",
           "orientation": "v",
           "showlegend": true,
           "textposition": "auto",
           "type": "bar",
           "x": [
            "North"
           ],
           "xaxis": "x",
           "y": [
            15.16
           ],
           "yaxis": "y"
          },
          {
           "alignmentgroup": "True",
           "hovertemplate": "States=Tamil Nadu<br>Month_name=Feb<br>Region=%{x}<br>Estimated Unemployment Rate=%{y}<extra></extra>",
           "legendgroup": "Tamil Nadu",
           "marker": {
            "color": "#EF553B",
            "pattern": {
             "shape": ""
            }
           },
           "name": "Tamil Nadu",
           "offsetgroup": "Tamil Nadu",
           "orientation": "v",
           "showlegend": true,
           "textposition": "auto",
           "type": "bar",
           "x": [
            "South"
           ],
           "xaxis": "x",
           "y": [
            2.09
           ],
           "yaxis": "y"
          },
          {
           "alignmentgroup": "True",
           "hovertemplate": "States=Telangana<br>Month_name=Feb<br>Region=%{x}<br>Estimated Unemployment Rate=%{y}<extra></extra>",
           "legendgroup": "Telangana",
           "marker": {
            "color": "#00cc96",
            "pattern": {
             "shape": ""
            }
           },
           "name": "Telangana",
           "offsetgroup": "Telangana",
           "orientation": "v",
           "showlegend": true,
           "textposition": "auto",
           "type": "bar",
           "x": [
            "South"
           ],
           "xaxis": "x",
           "y": [
            8.29
           ],
           "yaxis": "y"
          },
          {
           "alignmentgroup": "True",
           "hovertemplate": "States=Tripura<br>Month_name=Feb<br>Region=%{x}<br>Estimated Unemployment Rate=%{y}<extra></extra>",
           "legendgroup": "Tripura",
           "marker": {
            "color": "#ab63fa",
            "pattern": {
             "shape": ""
            }
           },
           "name": "Tripura",
           "offsetgroup": "Tripura",
           "orientation": "v",
           "showlegend": true,
           "textposition": "auto",
           "type": "bar",
           "x": [
            "Northeast"
           ],
           "xaxis": "x",
           "y": [
            28.4
           ],
           "yaxis": "y"
          },
          {
           "alignmentgroup": "True",
           "hovertemplate": "States=Uttar Pradesh<br>Month_name=Feb<br>Region=%{x}<br>Estimated Unemployment Rate=%{y}<extra></extra>",
           "legendgroup": "Uttar Pradesh",
           "marker": {
            "color": "#FFA15A",
            "pattern": {
             "shape": ""
            }
           },
           "name": "Uttar Pradesh",
           "offsetgroup": "Uttar Pradesh",
           "orientation": "v",
           "showlegend": true,
           "textposition": "auto",
           "type": "bar",
           "x": [
            "North"
           ],
           "xaxis": "x",
           "y": [
            8.98
           ],
           "yaxis": "y"
          },
          {
           "alignmentgroup": "True",
           "hovertemplate": "States=Uttarakhand<br>Month_name=Feb<br>Region=%{x}<br>Estimated Unemployment Rate=%{y}<extra></extra>",
           "legendgroup": "Uttarakhand",
           "marker": {
            "color": "#19d3f3",
            "pattern": {
             "shape": ""
            }
           },
           "name": "Uttarakhand",
           "offsetgroup": "Uttarakhand",
           "orientation": "v",
           "showlegend": true,
           "textposition": "auto",
           "type": "bar",
           "x": [
            "North"
           ],
           "xaxis": "x",
           "y": [
            4.99
           ],
           "yaxis": "y"
          },
          {
           "alignmentgroup": "True",
           "hovertemplate": "States=West Bengal<br>Month_name=Feb<br>Region=%{x}<br>Estimated Unemployment Rate=%{y}<extra></extra>",
           "legendgroup": "West Bengal",
           "marker": {
            "color": "#FF6692",
            "pattern": {
             "shape": ""
            }
           },
           "name": "West Bengal",
           "offsetgroup": "West Bengal",
           "orientation": "v",
           "showlegend": true,
           "textposition": "auto",
           "type": "bar",
           "x": [
            "East"
           ],
           "xaxis": "x",
           "y": [
            4.92
           ],
           "yaxis": "y"
          }
         ],
         "name": "Feb"
        },
        {
         "data": [
          {
           "alignmentgroup": "True",
           "hovertemplate": "States=Andhra Pradesh<br>Month_name=Mar<br>Region=%{x}<br>Estimated Unemployment Rate=%{y}<extra></extra>",
           "legendgroup": "Andhra Pradesh",
           "marker": {
            "color": "#636efa",
            "pattern": {
             "shape": ""
            }
           },
           "name": "Andhra Pradesh",
           "offsetgroup": "Andhra Pradesh",
           "orientation": "v",
           "showlegend": true,
           "textposition": "auto",
           "type": "bar",
           "x": [
            "South"
           ],
           "xaxis": "x",
           "y": [
            5.79
           ],
           "yaxis": "y"
          },
          {
           "alignmentgroup": "True",
           "hovertemplate": "States=Assam<br>Month_name=Mar<br>Region=%{x}<br>Estimated Unemployment Rate=%{y}<extra></extra>",
           "legendgroup": "Assam",
           "marker": {
            "color": "#EF553B",
            "pattern": {
             "shape": ""
            }
           },
           "name": "Assam",
           "offsetgroup": "Assam",
           "orientation": "v",
           "showlegend": true,
           "textposition": "auto",
           "type": "bar",
           "x": [
            "Northeast"
           ],
           "xaxis": "x",
           "y": [
            4.77
           ],
           "yaxis": "y"
          },
          {
           "alignmentgroup": "True",
           "hovertemplate": "States=Bihar<br>Month_name=Mar<br>Region=%{x}<br>Estimated Unemployment Rate=%{y}<extra></extra>",
           "legendgroup": "Bihar",
           "marker": {
            "color": "#00cc96",
            "pattern": {
             "shape": ""
            }
           },
           "name": "Bihar",
           "offsetgroup": "Bihar",
           "orientation": "v",
           "showlegend": true,
           "textposition": "auto",
           "type": "bar",
           "x": [
            "East"
           ],
           "xaxis": "x",
           "y": [
            15.43
           ],
           "yaxis": "y"
          },
          {
           "alignmentgroup": "True",
           "hovertemplate": "States=Chhattisgarh<br>Month_name=Mar<br>Region=%{x}<br>Estimated Unemployment Rate=%{y}<extra></extra>",
           "legendgroup": "Chhattisgarh",
           "marker": {
            "color": "#ab63fa",
            "pattern": {
             "shape": ""
            }
           },
           "name": "Chhattisgarh",
           "offsetgroup": "Chhattisgarh",
           "orientation": "v",
           "showlegend": true,
           "textposition": "auto",
           "type": "bar",
           "x": [
            "West"
           ],
           "xaxis": "x",
           "y": [
            7.54
           ],
           "yaxis": "y"
          },
          {
           "alignmentgroup": "True",
           "hovertemplate": "States=Delhi<br>Month_name=Mar<br>Region=%{x}<br>Estimated Unemployment Rate=%{y}<extra></extra>",
           "legendgroup": "Delhi",
           "marker": {
            "color": "#FFA15A",
            "pattern": {
             "shape": ""
            }
           },
           "name": "Delhi",
           "offsetgroup": "Delhi",
           "orientation": "v",
           "showlegend": true,
           "textposition": "auto",
           "type": "bar",
           "x": [
            "North"
           ],
           "xaxis": "x",
           "y": [
            17.04
           ],
           "yaxis": "y"
          },
          {
           "alignmentgroup": "True",
           "hovertemplate": "States=Goa<br>Month_name=Mar<br>Region=%{x}<br>Estimated Unemployment Rate=%{y}<extra></extra>",
           "legendgroup": "Goa",
           "marker": {
            "color": "#19d3f3",
            "pattern": {
             "shape": ""
            }
           },
           "name": "Goa",
           "offsetgroup": "Goa",
           "orientation": "v",
           "showlegend": true,
           "textposition": "auto",
           "type": "bar",
           "x": [
            "West"
           ],
           "xaxis": "x",
           "y": [
            5.25
           ],
           "yaxis": "y"
          },
          {
           "alignmentgroup": "True",
           "hovertemplate": "States=Gujarat<br>Month_name=Mar<br>Region=%{x}<br>Estimated Unemployment Rate=%{y}<extra></extra>",
           "legendgroup": "Gujarat",
           "marker": {
            "color": "#FF6692",
            "pattern": {
             "shape": ""
            }
           },
           "name": "Gujarat",
           "offsetgroup": "Gujarat",
           "orientation": "v",
           "showlegend": true,
           "textposition": "auto",
           "type": "bar",
           "x": [
            "West"
           ],
           "xaxis": "x",
           "y": [
            6.66
           ],
           "yaxis": "y"
          },
          {
           "alignmentgroup": "True",
           "hovertemplate": "States=Haryana<br>Month_name=Mar<br>Region=%{x}<br>Estimated Unemployment Rate=%{y}<extra></extra>",
           "legendgroup": "Haryana",
           "marker": {
            "color": "#B6E880",
            "pattern": {
             "shape": ""
            }
           },
           "name": "Haryana",
           "offsetgroup": "Haryana",
           "orientation": "v",
           "showlegend": true,
           "textposition": "auto",
           "type": "bar",
           "x": [
            "North"
           ],
           "xaxis": "x",
           "y": [
            25.05
           ],
           "yaxis": "y"
          },
          {
           "alignmentgroup": "True",
           "hovertemplate": "States=Himachal Pradesh<br>Month_name=Mar<br>Region=%{x}<br>Estimated Unemployment Rate=%{y}<extra></extra>",
           "legendgroup": "Himachal Pradesh",
           "marker": {
            "color": "#FF97FF",
            "pattern": {
             "shape": ""
            }
           },
           "name": "Himachal Pradesh",
           "offsetgroup": "Himachal Pradesh",
           "orientation": "v",
           "showlegend": true,
           "textposition": "auto",
           "type": "bar",
           "x": [
            "North"
           ],
           "xaxis": "x",
           "y": [
            18.76
           ],
           "yaxis": "y"
          },
          {
           "alignmentgroup": "True",
           "hovertemplate": "States=Jammu & Kashmir<br>Month_name=Mar<br>Region=%{x}<br>Estimated Unemployment Rate=%{y}<extra></extra>",
           "legendgroup": "Jammu & Kashmir",
           "marker": {
            "color": "#FECB52",
            "pattern": {
             "shape": ""
            }
           },
           "name": "Jammu & Kashmir",
           "offsetgroup": "Jammu & Kashmir",
           "orientation": "v",
           "showlegend": true,
           "textposition": "auto",
           "type": "bar",
           "x": [
            "North"
           ],
           "xaxis": "x",
           "y": [
            15.5
           ],
           "yaxis": "y"
          },
          {
           "alignmentgroup": "True",
           "hovertemplate": "States=Jharkhand<br>Month_name=Mar<br>Region=%{x}<br>Estimated Unemployment Rate=%{y}<extra></extra>",
           "legendgroup": "Jharkhand",
           "marker": {
            "color": "#636efa",
            "pattern": {
             "shape": ""
            }
           },
           "name": "Jharkhand",
           "offsetgroup": "Jharkhand",
           "orientation": "v",
           "showlegend": true,
           "textposition": "auto",
           "type": "bar",
           "x": [
            "East"
           ],
           "xaxis": "x",
           "y": [
            8.23
           ],
           "yaxis": "y"
          },
          {
           "alignmentgroup": "True",
           "hovertemplate": "States=Karnataka<br>Month_name=Mar<br>Region=%{x}<br>Estimated Unemployment Rate=%{y}<extra></extra>",
           "legendgroup": "Karnataka",
           "marker": {
            "color": "#EF553B",
            "pattern": {
             "shape": ""
            }
           },
           "name": "Karnataka",
           "offsetgroup": "Karnataka",
           "orientation": "v",
           "showlegend": true,
           "textposition": "auto",
           "type": "bar",
           "x": [
            "South"
           ],
           "xaxis": "x",
           "y": [
            3.46
           ],
           "yaxis": "y"
          },
          {
           "alignmentgroup": "True",
           "hovertemplate": "States=Kerala<br>Month_name=Mar<br>Region=%{x}<br>Estimated Unemployment Rate=%{y}<extra></extra>",
           "legendgroup": "Kerala",
           "marker": {
            "color": "#00cc96",
            "pattern": {
             "shape": ""
            }
           },
           "name": "Kerala",
           "offsetgroup": "Kerala",
           "orientation": "v",
           "showlegend": true,
           "textposition": "auto",
           "type": "bar",
           "x": [
            "South"
           ],
           "xaxis": "x",
           "y": [
            8.99
           ],
           "yaxis": "y"
          },
          {
           "alignmentgroup": "True",
           "hovertemplate": "States=Madhya Pradesh<br>Month_name=Mar<br>Region=%{x}<br>Estimated Unemployment Rate=%{y}<extra></extra>",
           "legendgroup": "Madhya Pradesh",
           "marker": {
            "color": "#ab63fa",
            "pattern": {
             "shape": ""
            }
           },
           "name": "Madhya Pradesh",
           "offsetgroup": "Madhya Pradesh",
           "orientation": "v",
           "showlegend": true,
           "textposition": "auto",
           "type": "bar",
           "x": [
            "West"
           ],
           "xaxis": "x",
           "y": [
            2.22
           ],
           "yaxis": "y"
          },
          {
           "alignmentgroup": "True",
           "hovertemplate": "States=Maharashtra<br>Month_name=Mar<br>Region=%{x}<br>Estimated Unemployment Rate=%{y}<extra></extra>",
           "legendgroup": "Maharashtra",
           "marker": {
            "color": "#FFA15A",
            "pattern": {
             "shape": ""
            }
           },
           "name": "Maharashtra",
           "offsetgroup": "Maharashtra",
           "orientation": "v",
           "showlegend": true,
           "textposition": "auto",
           "type": "bar",
           "x": [
            "West"
           ],
           "xaxis": "x",
           "y": [
            5.79
           ],
           "yaxis": "y"
          },
          {
           "alignmentgroup": "True",
           "hovertemplate": "States=Meghalaya<br>Month_name=Mar<br>Region=%{x}<br>Estimated Unemployment Rate=%{y}<extra></extra>",
           "legendgroup": "Meghalaya",
           "marker": {
            "color": "#19d3f3",
            "pattern": {
             "shape": ""
            }
           },
           "name": "Meghalaya",
           "offsetgroup": "Meghalaya",
           "orientation": "v",
           "showlegend": true,
           "textposition": "auto",
           "type": "bar",
           "x": [
            "Northeast"
           ],
           "xaxis": "x",
           "y": [
            1.58
           ],
           "yaxis": "y"
          },
          {
           "alignmentgroup": "True",
           "hovertemplate": "States=Odisha<br>Month_name=Mar<br>Region=%{x}<br>Estimated Unemployment Rate=%{y}<extra></extra>",
           "legendgroup": "Odisha",
           "marker": {
            "color": "#FF6692",
            "pattern": {
             "shape": ""
            }
           },
           "name": "Odisha",
           "offsetgroup": "Odisha",
           "orientation": "v",
           "showlegend": true,
           "textposition": "auto",
           "type": "bar",
           "x": [
            "East"
           ],
           "xaxis": "x",
           "y": [
            13.08
           ],
           "yaxis": "y"
          },
          {
           "alignmentgroup": "True",
           "hovertemplate": "States=Puducherry<br>Month_name=Mar<br>Region=%{x}<br>Estimated Unemployment Rate=%{y}<extra></extra>",
           "legendgroup": "Puducherry",
           "marker": {
            "color": "#B6E880",
            "pattern": {
             "shape": ""
            }
           },
           "name": "Puducherry",
           "offsetgroup": "Puducherry",
           "orientation": "v",
           "showlegend": true,
           "textposition": "auto",
           "type": "bar",
           "x": [
            "South"
           ],
           "xaxis": "x",
           "y": [
            1.2
           ],
           "yaxis": "y"
          },
          {
           "alignmentgroup": "True",
           "hovertemplate": "States=Punjab<br>Month_name=Mar<br>Region=%{x}<br>Estimated Unemployment Rate=%{y}<extra></extra>",
           "legendgroup": "Punjab",
           "marker": {
            "color": "#FF97FF",
            "pattern": {
             "shape": ""
            }
           },
           "name": "Punjab",
           "offsetgroup": "Punjab",
           "orientation": "v",
           "showlegend": true,
           "textposition": "auto",
           "type": "bar",
           "x": [
            "North"
           ],
           "xaxis": "x",
           "y": [
            10.32
           ],
           "yaxis": "y"
          },
          {
           "alignmentgroup": "True",
           "hovertemplate": "States=Rajasthan<br>Month_name=Mar<br>Region=%{x}<br>Estimated Unemployment Rate=%{y}<extra></extra>",
           "legendgroup": "Rajasthan",
           "marker": {
            "color": "#FECB52",
            "pattern": {
             "shape": ""
            }
           },
           "name": "Rajasthan",
           "offsetgroup": "Rajasthan",
           "orientation": "v",
           "showlegend": true,
           "textposition": "auto",
           "type": "bar",
           "x": [
            "North"
           ],
           "xaxis": "x",
           "y": [
            11.9
           ],
           "yaxis": "y"
          },
          {
           "alignmentgroup": "True",
           "hovertemplate": "States=Sikkim<br>Month_name=Mar<br>Region=%{x}<br>Estimated Unemployment Rate=%{y}<extra></extra>",
           "legendgroup": "Sikkim",
           "marker": {
            "color": "#636efa",
            "pattern": {
             "shape": ""
            }
           },
           "name": "Sikkim",
           "offsetgroup": "Sikkim",
           "orientation": "v",
           "showlegend": true,
           "textposition": "auto",
           "type": "bar",
           "x": [
            "Northeast"
           ],
           "xaxis": "x",
           "y": [
            23.57
           ],
           "yaxis": "y"
          },
          {
           "alignmentgroup": "True",
           "hovertemplate": "States=Tamil Nadu<br>Month_name=Mar<br>Region=%{x}<br>Estimated Unemployment Rate=%{y}<extra></extra>",
           "legendgroup": "Tamil Nadu",
           "marker": {
            "color": "#EF553B",
            "pattern": {
             "shape": ""
            }
           },
           "name": "Tamil Nadu",
           "offsetgroup": "Tamil Nadu",
           "orientation": "v",
           "showlegend": true,
           "textposition": "auto",
           "type": "bar",
           "x": [
            "South"
           ],
           "xaxis": "x",
           "y": [
            6.4
           ],
           "yaxis": "y"
          },
          {
           "alignmentgroup": "True",
           "hovertemplate": "States=Telangana<br>Month_name=Mar<br>Region=%{x}<br>Estimated Unemployment Rate=%{y}<extra></extra>",
           "legendgroup": "Telangana",
           "marker": {
            "color": "#00cc96",
            "pattern": {
             "shape": ""
            }
           },
           "name": "Telangana",
           "offsetgroup": "Telangana",
           "orientation": "v",
           "showlegend": true,
           "textposition": "auto",
           "type": "bar",
           "x": [
            "South"
           ],
           "xaxis": "x",
           "y": [
            5.77
           ],
           "yaxis": "y"
          },
          {
           "alignmentgroup": "True",
           "hovertemplate": "States=Tripura<br>Month_name=Mar<br>Region=%{x}<br>Estimated Unemployment Rate=%{y}<extra></extra>",
           "legendgroup": "Tripura",
           "marker": {
            "color": "#ab63fa",
            "pattern": {
             "shape": ""
            }
           },
           "name": "Tripura",
           "offsetgroup": "Tripura",
           "orientation": "v",
           "showlegend": true,
           "textposition": "auto",
           "type": "bar",
           "x": [
            "Northeast"
           ],
           "xaxis": "x",
           "y": [
            29.95
           ],
           "yaxis": "y"
          },
          {
           "alignmentgroup": "True",
           "hovertemplate": "States=Uttar Pradesh<br>Month_name=Mar<br>Region=%{x}<br>Estimated Unemployment Rate=%{y}<extra></extra>",
           "legendgroup": "Uttar Pradesh",
           "marker": {
            "color": "#FFA15A",
            "pattern": {
             "shape": ""
            }
           },
           "name": "Uttar Pradesh",
           "offsetgroup": "Uttar Pradesh",
           "orientation": "v",
           "showlegend": true,
           "textposition": "auto",
           "type": "bar",
           "x": [
            "North"
           ],
           "xaxis": "x",
           "y": [
            10.11
           ],
           "yaxis": "y"
          },
          {
           "alignmentgroup": "True",
           "hovertemplate": "States=Uttarakhand<br>Month_name=Mar<br>Region=%{x}<br>Estimated Unemployment Rate=%{y}<extra></extra>",
           "legendgroup": "Uttarakhand",
           "marker": {
            "color": "#19d3f3",
            "pattern": {
             "shape": ""
            }
           },
           "name": "Uttarakhand",
           "offsetgroup": "Uttarakhand",
           "orientation": "v",
           "showlegend": true,
           "textposition": "auto",
           "type": "bar",
           "x": [
            "North"
           ],
           "xaxis": "x",
           "y": [
            19.85
           ],
           "yaxis": "y"
          },
          {
           "alignmentgroup": "True",
           "hovertemplate": "States=West Bengal<br>Month_name=Mar<br>Region=%{x}<br>Estimated Unemployment Rate=%{y}<extra></extra>",
           "legendgroup": "West Bengal",
           "marker": {
            "color": "#FF6692",
            "pattern": {
             "shape": ""
            }
           },
           "name": "West Bengal",
           "offsetgroup": "West Bengal",
           "orientation": "v",
           "showlegend": true,
           "textposition": "auto",
           "type": "bar",
           "x": [
            "East"
           ],
           "xaxis": "x",
           "y": [
            6.92
           ],
           "yaxis": "y"
          }
         ],
         "name": "Mar"
        },
        {
         "data": [
          {
           "alignmentgroup": "True",
           "hovertemplate": "States=Andhra Pradesh<br>Month_name=Apr<br>Region=%{x}<br>Estimated Unemployment Rate=%{y}<extra></extra>",
           "legendgroup": "Andhra Pradesh",
           "marker": {
            "color": "#636efa",
            "pattern": {
             "shape": ""
            }
           },
           "name": "Andhra Pradesh",
           "offsetgroup": "Andhra Pradesh",
           "orientation": "v",
           "showlegend": true,
           "textposition": "auto",
           "type": "bar",
           "x": [
            "South"
           ],
           "xaxis": "x",
           "y": [
            20.51
           ],
           "yaxis": "y"
          },
          {
           "alignmentgroup": "True",
           "hovertemplate": "States=Assam<br>Month_name=Apr<br>Region=%{x}<br>Estimated Unemployment Rate=%{y}<extra></extra>",
           "legendgroup": "Assam",
           "marker": {
            "color": "#EF553B",
            "pattern": {
             "shape": ""
            }
           },
           "name": "Assam",
           "offsetgroup": "Assam",
           "orientation": "v",
           "showlegend": true,
           "textposition": "auto",
           "type": "bar",
           "x": [
            "Northeast"
           ],
           "xaxis": "x",
           "y": [
            11.06
           ],
           "yaxis": "y"
          },
          {
           "alignmentgroup": "True",
           "hovertemplate": "States=Bihar<br>Month_name=Apr<br>Region=%{x}<br>Estimated Unemployment Rate=%{y}<extra></extra>",
           "legendgroup": "Bihar",
           "marker": {
            "color": "#00cc96",
            "pattern": {
             "shape": ""
            }
           },
           "name": "Bihar",
           "offsetgroup": "Bihar",
           "orientation": "v",
           "showlegend": true,
           "textposition": "auto",
           "type": "bar",
           "x": [
            "East"
           ],
           "xaxis": "x",
           "y": [
            46.64
           ],
           "yaxis": "y"
          },
          {
           "alignmentgroup": "True",
           "hovertemplate": "States=Chhattisgarh<br>Month_name=Apr<br>Region=%{x}<br>Estimated Unemployment Rate=%{y}<extra></extra>",
           "legendgroup": "Chhattisgarh",
           "marker": {
            "color": "#ab63fa",
            "pattern": {
             "shape": ""
            }
           },
           "name": "Chhattisgarh",
           "offsetgroup": "Chhattisgarh",
           "orientation": "v",
           "showlegend": true,
           "textposition": "auto",
           "type": "bar",
           "x": [
            "West"
           ],
           "xaxis": "x",
           "y": [
            3.41
           ],
           "yaxis": "y"
          },
          {
           "alignmentgroup": "True",
           "hovertemplate": "States=Delhi<br>Month_name=Apr<br>Region=%{x}<br>Estimated Unemployment Rate=%{y}<extra></extra>",
           "legendgroup": "Delhi",
           "marker": {
            "color": "#FFA15A",
            "pattern": {
             "shape": ""
            }
           },
           "name": "Delhi",
           "offsetgroup": "Delhi",
           "orientation": "v",
           "showlegend": true,
           "textposition": "auto",
           "type": "bar",
           "x": [
            "North"
           ],
           "xaxis": "x",
           "y": [
            16.68
           ],
           "yaxis": "y"
          },
          {
           "alignmentgroup": "True",
           "hovertemplate": "States=Goa<br>Month_name=Apr<br>Region=%{x}<br>Estimated Unemployment Rate=%{y}<extra></extra>",
           "legendgroup": "Goa",
           "marker": {
            "color": "#19d3f3",
            "pattern": {
             "shape": ""
            }
           },
           "name": "Goa",
           "offsetgroup": "Goa",
           "orientation": "v",
           "showlegend": true,
           "textposition": "auto",
           "type": "bar",
           "x": [
            "West"
           ],
           "xaxis": "x",
           "y": [
            13.31
           ],
           "yaxis": "y"
          },
          {
           "alignmentgroup": "True",
           "hovertemplate": "States=Gujarat<br>Month_name=Apr<br>Region=%{x}<br>Estimated Unemployment Rate=%{y}<extra></extra>",
           "legendgroup": "Gujarat",
           "marker": {
            "color": "#FF6692",
            "pattern": {
             "shape": ""
            }
           },
           "name": "Gujarat",
           "offsetgroup": "Gujarat",
           "orientation": "v",
           "showlegend": true,
           "textposition": "auto",
           "type": "bar",
           "x": [
            "West"
           ],
           "xaxis": "x",
           "y": [
            18.71
           ],
           "yaxis": "y"
          },
          {
           "alignmentgroup": "True",
           "hovertemplate": "States=Haryana<br>Month_name=Apr<br>Region=%{x}<br>Estimated Unemployment Rate=%{y}<extra></extra>",
           "legendgroup": "Haryana",
           "marker": {
            "color": "#B6E880",
            "pattern": {
             "shape": ""
            }
           },
           "name": "Haryana",
           "offsetgroup": "Haryana",
           "orientation": "v",
           "showlegend": true,
           "textposition": "auto",
           "type": "bar",
           "x": [
            "North"
           ],
           "xaxis": "x",
           "y": [
            43.22
           ],
           "yaxis": "y"
          },
          {
           "alignmentgroup": "True",
           "hovertemplate": "States=Himachal Pradesh<br>Month_name=Apr<br>Region=%{x}<br>Estimated Unemployment Rate=%{y}<extra></extra>",
           "legendgroup": "Himachal Pradesh",
           "marker": {
            "color": "#FF97FF",
            "pattern": {
             "shape": ""
            }
           },
           "name": "Himachal Pradesh",
           "offsetgroup": "Himachal Pradesh",
           "orientation": "v",
           "showlegend": true,
           "textposition": "auto",
           "type": "bar",
           "x": [
            "North"
           ],
           "xaxis": "x",
           "y": [
            2.2
           ],
           "yaxis": "y"
          },
          {
           "alignmentgroup": "True",
           "hovertemplate": "States=Jharkhand<br>Month_name=Apr<br>Region=%{x}<br>Estimated Unemployment Rate=%{y}<extra></extra>",
           "legendgroup": "Jharkhand",
           "marker": {
            "color": "#636efa",
            "pattern": {
             "shape": ""
            }
           },
           "name": "Jharkhand",
           "offsetgroup": "Jharkhand",
           "orientation": "v",
           "showlegend": true,
           "textposition": "auto",
           "type": "bar",
           "x": [
            "East"
           ],
           "xaxis": "x",
           "y": [
            47.09
           ],
           "yaxis": "y"
          },
          {
           "alignmentgroup": "True",
           "hovertemplate": "States=Karnataka<br>Month_name=Apr<br>Region=%{x}<br>Estimated Unemployment Rate=%{y}<extra></extra>",
           "legendgroup": "Karnataka",
           "marker": {
            "color": "#EF553B",
            "pattern": {
             "shape": ""
            }
           },
           "name": "Karnataka",
           "offsetgroup": "Karnataka",
           "orientation": "v",
           "showlegend": true,
           "textposition": "auto",
           "type": "bar",
           "x": [
            "South"
           ],
           "xaxis": "x",
           "y": [
            29.84
           ],
           "yaxis": "y"
          },
          {
           "alignmentgroup": "True",
           "hovertemplate": "States=Kerala<br>Month_name=Apr<br>Region=%{x}<br>Estimated Unemployment Rate=%{y}<extra></extra>",
           "legendgroup": "Kerala",
           "marker": {
            "color": "#00cc96",
            "pattern": {
             "shape": ""
            }
           },
           "name": "Kerala",
           "offsetgroup": "Kerala",
           "orientation": "v",
           "showlegend": true,
           "textposition": "auto",
           "type": "bar",
           "x": [
            "South"
           ],
           "xaxis": "x",
           "y": [
            16.99
           ],
           "yaxis": "y"
          },
          {
           "alignmentgroup": "True",
           "hovertemplate": "States=Madhya Pradesh<br>Month_name=Apr<br>Region=%{x}<br>Estimated Unemployment Rate=%{y}<extra></extra>",
           "legendgroup": "Madhya Pradesh",
           "marker": {
            "color": "#ab63fa",
            "pattern": {
             "shape": ""
            }
           },
           "name": "Madhya Pradesh",
           "offsetgroup": "Madhya Pradesh",
           "orientation": "v",
           "showlegend": true,
           "textposition": "auto",
           "type": "bar",
           "x": [
            "West"
           ],
           "xaxis": "x",
           "y": [
            12.36
           ],
           "yaxis": "y"
          },
          {
           "alignmentgroup": "True",
           "hovertemplate": "States=Maharashtra<br>Month_name=Apr<br>Region=%{x}<br>Estimated Unemployment Rate=%{y}<extra></extra>",
           "legendgroup": "Maharashtra",
           "marker": {
            "color": "#FFA15A",
            "pattern": {
             "shape": ""
            }
           },
           "name": "Maharashtra",
           "offsetgroup": "Maharashtra",
           "orientation": "v",
           "showlegend": true,
           "textposition": "auto",
           "type": "bar",
           "x": [
            "West"
           ],
           "xaxis": "x",
           "y": [
            20.9
           ],
           "yaxis": "y"
          },
          {
           "alignmentgroup": "True",
           "hovertemplate": "States=Meghalaya<br>Month_name=Apr<br>Region=%{x}<br>Estimated Unemployment Rate=%{y}<extra></extra>",
           "legendgroup": "Meghalaya",
           "marker": {
            "color": "#19d3f3",
            "pattern": {
             "shape": ""
            }
           },
           "name": "Meghalaya",
           "offsetgroup": "Meghalaya",
           "orientation": "v",
           "showlegend": true,
           "textposition": "auto",
           "type": "bar",
           "x": [
            "Northeast"
           ],
           "xaxis": "x",
           "y": [
            10.03
           ],
           "yaxis": "y"
          },
          {
           "alignmentgroup": "True",
           "hovertemplate": "States=Odisha<br>Month_name=Apr<br>Region=%{x}<br>Estimated Unemployment Rate=%{y}<extra></extra>",
           "legendgroup": "Odisha",
           "marker": {
            "color": "#FF6692",
            "pattern": {
             "shape": ""
            }
           },
           "name": "Odisha",
           "offsetgroup": "Odisha",
           "orientation": "v",
           "showlegend": true,
           "textposition": "auto",
           "type": "bar",
           "x": [
            "East"
           ],
           "xaxis": "x",
           "y": [
            23.76
           ],
           "yaxis": "y"
          },
          {
           "alignmentgroup": "True",
           "hovertemplate": "States=Puducherry<br>Month_name=Apr<br>Region=%{x}<br>Estimated Unemployment Rate=%{y}<extra></extra>",
           "legendgroup": "Puducherry",
           "marker": {
            "color": "#B6E880",
            "pattern": {
             "shape": ""
            }
           },
           "name": "Puducherry",
           "offsetgroup": "Puducherry",
           "orientation": "v",
           "showlegend": true,
           "textposition": "auto",
           "type": "bar",
           "x": [
            "South"
           ],
           "xaxis": "x",
           "y": [
            75.85
           ],
           "yaxis": "y"
          },
          {
           "alignmentgroup": "True",
           "hovertemplate": "States=Punjab<br>Month_name=Apr<br>Region=%{x}<br>Estimated Unemployment Rate=%{y}<extra></extra>",
           "legendgroup": "Punjab",
           "marker": {
            "color": "#FF97FF",
            "pattern": {
             "shape": ""
            }
           },
           "name": "Punjab",
           "offsetgroup": "Punjab",
           "orientation": "v",
           "showlegend": true,
           "textposition": "auto",
           "type": "bar",
           "x": [
            "North"
           ],
           "xaxis": "x",
           "y": [
            2.86
           ],
           "yaxis": "y"
          },
          {
           "alignmentgroup": "True",
           "hovertemplate": "States=Rajasthan<br>Month_name=Apr<br>Region=%{x}<br>Estimated Unemployment Rate=%{y}<extra></extra>",
           "legendgroup": "Rajasthan",
           "marker": {
            "color": "#FECB52",
            "pattern": {
             "shape": ""
            }
           },
           "name": "Rajasthan",
           "offsetgroup": "Rajasthan",
           "orientation": "v",
           "showlegend": true,
           "textposition": "auto",
           "type": "bar",
           "x": [
            "North"
           ],
           "xaxis": "x",
           "y": [
            17.7
           ],
           "yaxis": "y"
          },
          {
           "alignmentgroup": "True",
           "hovertemplate": "States=Sikkim<br>Month_name=Apr<br>Region=%{x}<br>Estimated Unemployment Rate=%{y}<extra></extra>",
           "legendgroup": "Sikkim",
           "marker": {
            "color": "#636efa",
            "pattern": {
             "shape": ""
            }
           },
           "name": "Sikkim",
           "offsetgroup": "Sikkim",
           "orientation": "v",
           "showlegend": true,
           "textposition": "auto",
           "type": "bar",
           "x": [
            "Northeast"
           ],
           "xaxis": "x",
           "y": [
            2.28
           ],
           "yaxis": "y"
          },
          {
           "alignmentgroup": "True",
           "hovertemplate": "States=Tamil Nadu<br>Month_name=Apr<br>Region=%{x}<br>Estimated Unemployment Rate=%{y}<extra></extra>",
           "legendgroup": "Tamil Nadu",
           "marker": {
            "color": "#EF553B",
            "pattern": {
             "shape": ""
            }
           },
           "name": "Tamil Nadu",
           "offsetgroup": "Tamil Nadu",
           "orientation": "v",
           "showlegend": true,
           "textposition": "auto",
           "type": "bar",
           "x": [
            "South"
           ],
           "xaxis": "x",
           "y": [
            49.83
           ],
           "yaxis": "y"
          },
          {
           "alignmentgroup": "True",
           "hovertemplate": "States=Telangana<br>Month_name=Apr<br>Region=%{x}<br>Estimated Unemployment Rate=%{y}<extra></extra>",
           "legendgroup": "Telangana",
           "marker": {
            "color": "#00cc96",
            "pattern": {
             "shape": ""
            }
           },
           "name": "Telangana",
           "offsetgroup": "Telangana",
           "orientation": "v",
           "showlegend": true,
           "textposition": "auto",
           "type": "bar",
           "x": [
            "South"
           ],
           "xaxis": "x",
           "y": [
            6.25
           ],
           "yaxis": "y"
          },
          {
           "alignmentgroup": "True",
           "hovertemplate": "States=Tripura<br>Month_name=Apr<br>Region=%{x}<br>Estimated Unemployment Rate=%{y}<extra></extra>",
           "legendgroup": "Tripura",
           "marker": {
            "color": "#ab63fa",
            "pattern": {
             "shape": ""
            }
           },
           "name": "Tripura",
           "offsetgroup": "Tripura",
           "orientation": "v",
           "showlegend": true,
           "textposition": "auto",
           "type": "bar",
           "x": [
            "Northeast"
           ],
           "xaxis": "x",
           "y": [
            41.23
           ],
           "yaxis": "y"
          },
          {
           "alignmentgroup": "True",
           "hovertemplate": "States=Uttar Pradesh<br>Month_name=Apr<br>Region=%{x}<br>Estimated Unemployment Rate=%{y}<extra></extra>",
           "legendgroup": "Uttar Pradesh",
           "marker": {
            "color": "#FFA15A",
            "pattern": {
             "shape": ""
            }
           },
           "name": "Uttar Pradesh",
           "offsetgroup": "Uttar Pradesh",
           "orientation": "v",
           "showlegend": true,
           "textposition": "auto",
           "type": "bar",
           "x": [
            "North"
           ],
           "xaxis": "x",
           "y": [
            21.54
           ],
           "yaxis": "y"
          },
          {
           "alignmentgroup": "True",
           "hovertemplate": "States=Uttarakhand<br>Month_name=Apr<br>Region=%{x}<br>Estimated Unemployment Rate=%{y}<extra></extra>",
           "legendgroup": "Uttarakhand",
           "marker": {
            "color": "#19d3f3",
            "pattern": {
             "shape": ""
            }
           },
           "name": "Uttarakhand",
           "offsetgroup": "Uttarakhand",
           "orientation": "v",
           "showlegend": true,
           "textposition": "auto",
           "type": "bar",
           "x": [
            "North"
           ],
           "xaxis": "x",
           "y": [
            6.48
           ],
           "yaxis": "y"
          },
          {
           "alignmentgroup": "True",
           "hovertemplate": "States=West Bengal<br>Month_name=Apr<br>Region=%{x}<br>Estimated Unemployment Rate=%{y}<extra></extra>",
           "legendgroup": "West Bengal",
           "marker": {
            "color": "#FF6692",
            "pattern": {
             "shape": ""
            }
           },
           "name": "West Bengal",
           "offsetgroup": "West Bengal",
           "orientation": "v",
           "showlegend": true,
           "textposition": "auto",
           "type": "bar",
           "x": [
            "East"
           ],
           "xaxis": "x",
           "y": [
            17.41
           ],
           "yaxis": "y"
          }
         ],
         "name": "Apr"
        },
        {
         "data": [
          {
           "alignmentgroup": "True",
           "hovertemplate": "States=Andhra Pradesh<br>Month_name=May<br>Region=%{x}<br>Estimated Unemployment Rate=%{y}<extra></extra>",
           "legendgroup": "Andhra Pradesh",
           "marker": {
            "color": "#636efa",
            "pattern": {
             "shape": ""
            }
           },
           "name": "Andhra Pradesh",
           "offsetgroup": "Andhra Pradesh",
           "orientation": "v",
           "showlegend": true,
           "textposition": "auto",
           "type": "bar",
           "x": [
            "South"
           ],
           "xaxis": "x",
           "y": [
            17.43
           ],
           "yaxis": "y"
          },
          {
           "alignmentgroup": "True",
           "hovertemplate": "States=Assam<br>Month_name=May<br>Region=%{x}<br>Estimated Unemployment Rate=%{y}<extra></extra>",
           "legendgroup": "Assam",
           "marker": {
            "color": "#EF553B",
            "pattern": {
             "shape": ""
            }
           },
           "name": "Assam",
           "offsetgroup": "Assam",
           "orientation": "v",
           "showlegend": true,
           "textposition": "auto",
           "type": "bar",
           "x": [
            "Northeast"
           ],
           "xaxis": "x",
           "y": [
            9.55
           ],
           "yaxis": "y"
          },
          {
           "alignmentgroup": "True",
           "hovertemplate": "States=Bihar<br>Month_name=May<br>Region=%{x}<br>Estimated Unemployment Rate=%{y}<extra></extra>",
           "legendgroup": "Bihar",
           "marker": {
            "color": "#00cc96",
            "pattern": {
             "shape": ""
            }
           },
           "name": "Bihar",
           "offsetgroup": "Bihar",
           "orientation": "v",
           "showlegend": true,
           "textposition": "auto",
           "type": "bar",
           "x": [
            "East"
           ],
           "xaxis": "x",
           "y": [
            45.96
           ],
           "yaxis": "y"
          },
          {
           "alignmentgroup": "True",
           "hovertemplate": "States=Chhattisgarh<br>Month_name=May<br>Region=%{x}<br>Estimated Unemployment Rate=%{y}<extra></extra>",
           "legendgroup": "Chhattisgarh",
           "marker": {
            "color": "#ab63fa",
            "pattern": {
             "shape": ""
            }
           },
           "name": "Chhattisgarh",
           "offsetgroup": "Chhattisgarh",
           "orientation": "v",
           "showlegend": true,
           "textposition": "auto",
           "type": "bar",
           "x": [
            "West"
           ],
           "xaxis": "x",
           "y": [
            10.5
           ],
           "yaxis": "y"
          },
          {
           "alignmentgroup": "True",
           "hovertemplate": "States=Delhi<br>Month_name=May<br>Region=%{x}<br>Estimated Unemployment Rate=%{y}<extra></extra>",
           "legendgroup": "Delhi",
           "marker": {
            "color": "#FFA15A",
            "pattern": {
             "shape": ""
            }
           },
           "name": "Delhi",
           "offsetgroup": "Delhi",
           "orientation": "v",
           "showlegend": true,
           "textposition": "auto",
           "type": "bar",
           "x": [
            "North"
           ],
           "xaxis": "x",
           "y": [
            42.27
           ],
           "yaxis": "y"
          },
          {
           "alignmentgroup": "True",
           "hovertemplate": "States=Goa<br>Month_name=May<br>Region=%{x}<br>Estimated Unemployment Rate=%{y}<extra></extra>",
           "legendgroup": "Goa",
           "marker": {
            "color": "#19d3f3",
            "pattern": {
             "shape": ""
            }
           },
           "name": "Goa",
           "offsetgroup": "Goa",
           "orientation": "v",
           "showlegend": true,
           "textposition": "auto",
           "type": "bar",
           "x": [
            "West"
           ],
           "xaxis": "x",
           "y": [
            21.25
           ],
           "yaxis": "y"
          },
          {
           "alignmentgroup": "True",
           "hovertemplate": "States=Gujarat<br>Month_name=May<br>Region=%{x}<br>Estimated Unemployment Rate=%{y}<extra></extra>",
           "legendgroup": "Gujarat",
           "marker": {
            "color": "#FF6692",
            "pattern": {
             "shape": ""
            }
           },
           "name": "Gujarat",
           "offsetgroup": "Gujarat",
           "orientation": "v",
           "showlegend": true,
           "textposition": "auto",
           "type": "bar",
           "x": [
            "West"
           ],
           "xaxis": "x",
           "y": [
            12.11
           ],
           "yaxis": "y"
          },
          {
           "alignmentgroup": "True",
           "hovertemplate": "States=Haryana<br>Month_name=May<br>Region=%{x}<br>Estimated Unemployment Rate=%{y}<extra></extra>",
           "legendgroup": "Haryana",
           "marker": {
            "color": "#B6E880",
            "pattern": {
             "shape": ""
            }
           },
           "name": "Haryana",
           "offsetgroup": "Haryana",
           "orientation": "v",
           "showlegend": true,
           "textposition": "auto",
           "type": "bar",
           "x": [
            "North"
           ],
           "xaxis": "x",
           "y": [
            29.02
           ],
           "yaxis": "y"
          },
          {
           "alignmentgroup": "True",
           "hovertemplate": "States=Himachal Pradesh<br>Month_name=May<br>Region=%{x}<br>Estimated Unemployment Rate=%{y}<extra></extra>",
           "legendgroup": "Himachal Pradesh",
           "marker": {
            "color": "#FF97FF",
            "pattern": {
             "shape": ""
            }
           },
           "name": "Himachal Pradesh",
           "offsetgroup": "Himachal Pradesh",
           "orientation": "v",
           "showlegend": true,
           "textposition": "auto",
           "type": "bar",
           "x": [
            "North"
           ],
           "xaxis": "x",
           "y": [
            26.95
           ],
           "yaxis": "y"
          },
          {
           "alignmentgroup": "True",
           "hovertemplate": "States=Jammu & Kashmir<br>Month_name=May<br>Region=%{x}<br>Estimated Unemployment Rate=%{y}<extra></extra>",
           "legendgroup": "Jammu & Kashmir",
           "marker": {
            "color": "#FECB52",
            "pattern": {
             "shape": ""
            }
           },
           "name": "Jammu & Kashmir",
           "offsetgroup": "Jammu & Kashmir",
           "orientation": "v",
           "showlegend": true,
           "textposition": "auto",
           "type": "bar",
           "x": [
            "North"
           ],
           "xaxis": "x",
           "y": [
            18.74
           ],
           "yaxis": "y"
          },
          {
           "alignmentgroup": "True",
           "hovertemplate": "States=Jharkhand<br>Month_name=May<br>Region=%{x}<br>Estimated Unemployment Rate=%{y}<extra></extra>",
           "legendgroup": "Jharkhand",
           "marker": {
            "color": "#636efa",
            "pattern": {
             "shape": ""
            }
           },
           "name": "Jharkhand",
           "offsetgroup": "Jharkhand",
           "orientation": "v",
           "showlegend": true,
           "textposition": "auto",
           "type": "bar",
           "x": [
            "East"
           ],
           "xaxis": "x",
           "y": [
            59.23
           ],
           "yaxis": "y"
          },
          {
           "alignmentgroup": "True",
           "hovertemplate": "States=Karnataka<br>Month_name=May<br>Region=%{x}<br>Estimated Unemployment Rate=%{y}<extra></extra>",
           "legendgroup": "Karnataka",
           "marker": {
            "color": "#EF553B",
            "pattern": {
             "shape": ""
            }
           },
           "name": "Karnataka",
           "offsetgroup": "Karnataka",
           "orientation": "v",
           "showlegend": true,
           "textposition": "auto",
           "type": "bar",
           "x": [
            "South"
           ],
           "xaxis": "x",
           "y": [
            19.97
           ],
           "yaxis": "y"
          },
          {
           "alignmentgroup": "True",
           "hovertemplate": "States=Kerala<br>Month_name=May<br>Region=%{x}<br>Estimated Unemployment Rate=%{y}<extra></extra>",
           "legendgroup": "Kerala",
           "marker": {
            "color": "#00cc96",
            "pattern": {
             "shape": ""
            }
           },
           "name": "Kerala",
           "offsetgroup": "Kerala",
           "orientation": "v",
           "showlegend": true,
           "textposition": "auto",
           "type": "bar",
           "x": [
            "South"
           ],
           "xaxis": "x",
           "y": [
            17.88
           ],
           "yaxis": "y"
          },
          {
           "alignmentgroup": "True",
           "hovertemplate": "States=Madhya Pradesh<br>Month_name=May<br>Region=%{x}<br>Estimated Unemployment Rate=%{y}<extra></extra>",
           "legendgroup": "Madhya Pradesh",
           "marker": {
            "color": "#ab63fa",
            "pattern": {
             "shape": ""
            }
           },
           "name": "Madhya Pradesh",
           "offsetgroup": "Madhya Pradesh",
           "orientation": "v",
           "showlegend": true,
           "textposition": "auto",
           "type": "bar",
           "x": [
            "West"
           ],
           "xaxis": "x",
           "y": [
            21.98
           ],
           "yaxis": "y"
          },
          {
           "alignmentgroup": "True",
           "hovertemplate": "States=Maharashtra<br>Month_name=May<br>Region=%{x}<br>Estimated Unemployment Rate=%{y}<extra></extra>",
           "legendgroup": "Maharashtra",
           "marker": {
            "color": "#FFA15A",
            "pattern": {
             "shape": ""
            }
           },
           "name": "Maharashtra",
           "offsetgroup": "Maharashtra",
           "orientation": "v",
           "showlegend": true,
           "textposition": "auto",
           "type": "bar",
           "x": [
            "West"
           ],
           "xaxis": "x",
           "y": [
            15.46
           ],
           "yaxis": "y"
          },
          {
           "alignmentgroup": "True",
           "hovertemplate": "States=Meghalaya<br>Month_name=May<br>Region=%{x}<br>Estimated Unemployment Rate=%{y}<extra></extra>",
           "legendgroup": "Meghalaya",
           "marker": {
            "color": "#19d3f3",
            "pattern": {
             "shape": ""
            }
           },
           "name": "Meghalaya",
           "offsetgroup": "Meghalaya",
           "orientation": "v",
           "showlegend": true,
           "textposition": "auto",
           "type": "bar",
           "x": [
            "Northeast"
           ],
           "xaxis": "x",
           "y": [
            5.92
           ],
           "yaxis": "y"
          },
          {
           "alignmentgroup": "True",
           "hovertemplate": "States=Odisha<br>Month_name=May<br>Region=%{x}<br>Estimated Unemployment Rate=%{y}<extra></extra>",
           "legendgroup": "Odisha",
           "marker": {
            "color": "#FF6692",
            "pattern": {
             "shape": ""
            }
           },
           "name": "Odisha",
           "offsetgroup": "Odisha",
           "orientation": "v",
           "showlegend": true,
           "textposition": "auto",
           "type": "bar",
           "x": [
            "East"
           ],
           "xaxis": "x",
           "y": [
            11.41
           ],
           "yaxis": "y"
          },
          {
           "alignmentgroup": "True",
           "hovertemplate": "States=Puducherry<br>Month_name=May<br>Region=%{x}<br>Estimated Unemployment Rate=%{y}<extra></extra>",
           "legendgroup": "Puducherry",
           "marker": {
            "color": "#B6E880",
            "pattern": {
             "shape": ""
            }
           },
           "name": "Puducherry",
           "offsetgroup": "Puducherry",
           "orientation": "v",
           "showlegend": true,
           "textposition": "auto",
           "type": "bar",
           "x": [
            "South"
           ],
           "xaxis": "x",
           "y": [
            58.19
           ],
           "yaxis": "y"
          },
          {
           "alignmentgroup": "True",
           "hovertemplate": "States=Punjab<br>Month_name=May<br>Region=%{x}<br>Estimated Unemployment Rate=%{y}<extra></extra>",
           "legendgroup": "Punjab",
           "marker": {
            "color": "#FF97FF",
            "pattern": {
             "shape": ""
            }
           },
           "name": "Punjab",
           "offsetgroup": "Punjab",
           "orientation": "v",
           "showlegend": true,
           "textposition": "auto",
           "type": "bar",
           "x": [
            "North"
           ],
           "xaxis": "x",
           "y": [
            28.33
           ],
           "yaxis": "y"
          },
          {
           "alignmentgroup": "True",
           "hovertemplate": "States=Rajasthan<br>Month_name=May<br>Region=%{x}<br>Estimated Unemployment Rate=%{y}<extra></extra>",
           "legendgroup": "Rajasthan",
           "marker": {
            "color": "#FECB52",
            "pattern": {
             "shape": ""
            }
           },
           "name": "Rajasthan",
           "offsetgroup": "Rajasthan",
           "orientation": "v",
           "showlegend": true,
           "textposition": "auto",
           "type": "bar",
           "x": [
            "North"
           ],
           "xaxis": "x",
           "y": [
            15.74
           ],
           "yaxis": "y"
          },
          {
           "alignmentgroup": "True",
           "hovertemplate": "States=Sikkim<br>Month_name=May<br>Region=%{x}<br>Estimated Unemployment Rate=%{y}<extra></extra>",
           "legendgroup": "Sikkim",
           "marker": {
            "color": "#636efa",
            "pattern": {
             "shape": ""
            }
           },
           "name": "Sikkim",
           "offsetgroup": "Sikkim",
           "orientation": "v",
           "showlegend": true,
           "textposition": "auto",
           "type": "bar",
           "x": [
            "Northeast"
           ],
           "xaxis": "x",
           "y": [
            24.51
           ],
           "yaxis": "y"
          },
          {
           "alignmentgroup": "True",
           "hovertemplate": "States=Tamil Nadu<br>Month_name=May<br>Region=%{x}<br>Estimated Unemployment Rate=%{y}<extra></extra>",
           "legendgroup": "Tamil Nadu",
           "marker": {
            "color": "#EF553B",
            "pattern": {
             "shape": ""
            }
           },
           "name": "Tamil Nadu",
           "offsetgroup": "Tamil Nadu",
           "orientation": "v",
           "showlegend": true,
           "textposition": "auto",
           "type": "bar",
           "x": [
            "South"
           ],
           "xaxis": "x",
           "y": [
            33.16
           ],
           "yaxis": "y"
          },
          {
           "alignmentgroup": "True",
           "hovertemplate": "States=Telangana<br>Month_name=May<br>Region=%{x}<br>Estimated Unemployment Rate=%{y}<extra></extra>",
           "legendgroup": "Telangana",
           "marker": {
            "color": "#00cc96",
            "pattern": {
             "shape": ""
            }
           },
           "name": "Telangana",
           "offsetgroup": "Telangana",
           "orientation": "v",
           "showlegend": true,
           "textposition": "auto",
           "type": "bar",
           "x": [
            "South"
           ],
           "xaxis": "x",
           "y": [
            14.7
           ],
           "yaxis": "y"
          },
          {
           "alignmentgroup": "True",
           "hovertemplate": "States=Tripura<br>Month_name=May<br>Region=%{x}<br>Estimated Unemployment Rate=%{y}<extra></extra>",
           "legendgroup": "Tripura",
           "marker": {
            "color": "#ab63fa",
            "pattern": {
             "shape": ""
            }
           },
           "name": "Tripura",
           "offsetgroup": "Tripura",
           "orientation": "v",
           "showlegend": true,
           "textposition": "auto",
           "type": "bar",
           "x": [
            "Northeast"
           ],
           "xaxis": "x",
           "y": [
            21.51
           ],
           "yaxis": "y"
          },
          {
           "alignmentgroup": "True",
           "hovertemplate": "States=Uttar Pradesh<br>Month_name=May<br>Region=%{x}<br>Estimated Unemployment Rate=%{y}<extra></extra>",
           "legendgroup": "Uttar Pradesh",
           "marker": {
            "color": "#FFA15A",
            "pattern": {
             "shape": ""
            }
           },
           "name": "Uttar Pradesh",
           "offsetgroup": "Uttar Pradesh",
           "orientation": "v",
           "showlegend": true,
           "textposition": "auto",
           "type": "bar",
           "x": [
            "North"
           ],
           "xaxis": "x",
           "y": [
            20.41
           ],
           "yaxis": "y"
          },
          {
           "alignmentgroup": "True",
           "hovertemplate": "States=Uttarakhand<br>Month_name=May<br>Region=%{x}<br>Estimated Unemployment Rate=%{y}<extra></extra>",
           "legendgroup": "Uttarakhand",
           "marker": {
            "color": "#19d3f3",
            "pattern": {
             "shape": ""
            }
           },
           "name": "Uttarakhand",
           "offsetgroup": "Uttarakhand",
           "orientation": "v",
           "showlegend": true,
           "textposition": "auto",
           "type": "bar",
           "x": [
            "North"
           ],
           "xaxis": "x",
           "y": [
            8.01
           ],
           "yaxis": "y"
          },
          {
           "alignmentgroup": "True",
           "hovertemplate": "States=West Bengal<br>Month_name=May<br>Region=%{x}<br>Estimated Unemployment Rate=%{y}<extra></extra>",
           "legendgroup": "West Bengal",
           "marker": {
            "color": "#FF6692",
            "pattern": {
             "shape": ""
            }
           },
           "name": "West Bengal",
           "offsetgroup": "West Bengal",
           "orientation": "v",
           "showlegend": true,
           "textposition": "auto",
           "type": "bar",
           "x": [
            "East"
           ],
           "xaxis": "x",
           "y": [
            17.41
           ],
           "yaxis": "y"
          }
         ],
         "name": "May"
        },
        {
         "data": [
          {
           "alignmentgroup": "True",
           "hovertemplate": "States=Andhra Pradesh<br>Month_name=Jun<br>Region=%{x}<br>Estimated Unemployment Rate=%{y}<extra></extra>",
           "legendgroup": "Andhra Pradesh",
           "marker": {
            "color": "#636efa",
            "pattern": {
             "shape": ""
            }
           },
           "name": "Andhra Pradesh",
           "offsetgroup": "Andhra Pradesh",
           "orientation": "v",
           "showlegend": true,
           "textposition": "auto",
           "type": "bar",
           "x": [
            "South"
           ],
           "xaxis": "x",
           "y": [
            3.31
           ],
           "yaxis": "y"
          },
          {
           "alignmentgroup": "True",
           "hovertemplate": "States=Assam<br>Month_name=Jun<br>Region=%{x}<br>Estimated Unemployment Rate=%{y}<extra></extra>",
           "legendgroup": "Assam",
           "marker": {
            "color": "#EF553B",
            "pattern": {
             "shape": ""
            }
           },
           "name": "Assam",
           "offsetgroup": "Assam",
           "orientation": "v",
           "showlegend": true,
           "textposition": "auto",
           "type": "bar",
           "x": [
            "Northeast"
           ],
           "xaxis": "x",
           "y": [
            0.6
           ],
           "yaxis": "y"
          },
          {
           "alignmentgroup": "True",
           "hovertemplate": "States=Bihar<br>Month_name=Jun<br>Region=%{x}<br>Estimated Unemployment Rate=%{y}<extra></extra>",
           "legendgroup": "Bihar",
           "marker": {
            "color": "#00cc96",
            "pattern": {
             "shape": ""
            }
           },
           "name": "Bihar",
           "offsetgroup": "Bihar",
           "orientation": "v",
           "showlegend": true,
           "textposition": "auto",
           "type": "bar",
           "x": [
            "East"
           ],
           "xaxis": "x",
           "y": [
            17.82
           ],
           "yaxis": "y"
          },
          {
           "alignmentgroup": "True",
           "hovertemplate": "States=Chhattisgarh<br>Month_name=Jun<br>Region=%{x}<br>Estimated Unemployment Rate=%{y}<extra></extra>",
           "legendgroup": "Chhattisgarh",
           "marker": {
            "color": "#ab63fa",
            "pattern": {
             "shape": ""
            }
           },
           "name": "Chhattisgarh",
           "offsetgroup": "Chhattisgarh",
           "orientation": "v",
           "showlegend": true,
           "textposition": "auto",
           "type": "bar",
           "x": [
            "West"
           ],
           "xaxis": "x",
           "y": [
            14.23
           ],
           "yaxis": "y"
          },
          {
           "alignmentgroup": "True",
           "hovertemplate": "States=Delhi<br>Month_name=Jun<br>Region=%{x}<br>Estimated Unemployment Rate=%{y}<extra></extra>",
           "legendgroup": "Delhi",
           "marker": {
            "color": "#FFA15A",
            "pattern": {
             "shape": ""
            }
           },
           "name": "Delhi",
           "offsetgroup": "Delhi",
           "orientation": "v",
           "showlegend": true,
           "textposition": "auto",
           "type": "bar",
           "x": [
            "North"
           ],
           "xaxis": "x",
           "y": [
            18.19
           ],
           "yaxis": "y"
          },
          {
           "alignmentgroup": "True",
           "hovertemplate": "States=Goa<br>Month_name=Jun<br>Region=%{x}<br>Estimated Unemployment Rate=%{y}<extra></extra>",
           "legendgroup": "Goa",
           "marker": {
            "color": "#19d3f3",
            "pattern": {
             "shape": ""
            }
           },
           "name": "Goa",
           "offsetgroup": "Goa",
           "orientation": "v",
           "showlegend": true,
           "textposition": "auto",
           "type": "bar",
           "x": [
            "West"
           ],
           "xaxis": "x",
           "y": [
            9.96
           ],
           "yaxis": "y"
          },
          {
           "alignmentgroup": "True",
           "hovertemplate": "States=Gujarat<br>Month_name=Jun<br>Region=%{x}<br>Estimated Unemployment Rate=%{y}<extra></extra>",
           "legendgroup": "Gujarat",
           "marker": {
            "color": "#FF6692",
            "pattern": {
             "shape": ""
            }
           },
           "name": "Gujarat",
           "offsetgroup": "Gujarat",
           "orientation": "v",
           "showlegend": true,
           "textposition": "auto",
           "type": "bar",
           "x": [
            "West"
           ],
           "xaxis": "x",
           "y": [
            3.2
           ],
           "yaxis": "y"
          },
          {
           "alignmentgroup": "True",
           "hovertemplate": "States=Haryana<br>Month_name=Jun<br>Region=%{x}<br>Estimated Unemployment Rate=%{y}<extra></extra>",
           "legendgroup": "Haryana",
           "marker": {
            "color": "#B6E880",
            "pattern": {
             "shape": ""
            }
           },
           "name": "Haryana",
           "offsetgroup": "Haryana",
           "orientation": "v",
           "showlegend": true,
           "textposition": "auto",
           "type": "bar",
           "x": [
            "North"
           ],
           "xaxis": "x",
           "y": [
            26.7
           ],
           "yaxis": "y"
          },
          {
           "alignmentgroup": "True",
           "hovertemplate": "States=Himachal Pradesh<br>Month_name=Jun<br>Region=%{x}<br>Estimated Unemployment Rate=%{y}<extra></extra>",
           "legendgroup": "Himachal Pradesh",
           "marker": {
            "color": "#FF97FF",
            "pattern": {
             "shape": ""
            }
           },
           "name": "Himachal Pradesh",
           "offsetgroup": "Himachal Pradesh",
           "orientation": "v",
           "showlegend": true,
           "textposition": "auto",
           "type": "bar",
           "x": [
            "North"
           ],
           "xaxis": "x",
           "y": [
            13.47
           ],
           "yaxis": "y"
          },
          {
           "alignmentgroup": "True",
           "hovertemplate": "States=Jammu & Kashmir<br>Month_name=Jun<br>Region=%{x}<br>Estimated Unemployment Rate=%{y}<extra></extra>",
           "legendgroup": "Jammu & Kashmir",
           "marker": {
            "color": "#FECB52",
            "pattern": {
             "shape": ""
            }
           },
           "name": "Jammu & Kashmir",
           "offsetgroup": "Jammu & Kashmir",
           "orientation": "v",
           "showlegend": true,
           "textposition": "auto",
           "type": "bar",
           "x": [
            "North"
           ],
           "xaxis": "x",
           "y": [
            17.92
           ],
           "yaxis": "y"
          },
          {
           "alignmentgroup": "True",
           "hovertemplate": "States=Jharkhand<br>Month_name=Jun<br>Region=%{x}<br>Estimated Unemployment Rate=%{y}<extra></extra>",
           "legendgroup": "Jharkhand",
           "marker": {
            "color": "#636efa",
            "pattern": {
             "shape": ""
            }
           },
           "name": "Jharkhand",
           "offsetgroup": "Jharkhand",
           "orientation": "v",
           "showlegend": true,
           "textposition": "auto",
           "type": "bar",
           "x": [
            "East"
           ],
           "xaxis": "x",
           "y": [
            20.95
           ],
           "yaxis": "y"
          },
          {
           "alignmentgroup": "True",
           "hovertemplate": "States=Karnataka<br>Month_name=Jun<br>Region=%{x}<br>Estimated Unemployment Rate=%{y}<extra></extra>",
           "legendgroup": "Karnataka",
           "marker": {
            "color": "#EF553B",
            "pattern": {
             "shape": ""
            }
           },
           "name": "Karnataka",
           "offsetgroup": "Karnataka",
           "orientation": "v",
           "showlegend": true,
           "textposition": "auto",
           "type": "bar",
           "x": [
            "South"
           ],
           "xaxis": "x",
           "y": [
            8.44
           ],
           "yaxis": "y"
          },
          {
           "alignmentgroup": "True",
           "hovertemplate": "States=Kerala<br>Month_name=Jun<br>Region=%{x}<br>Estimated Unemployment Rate=%{y}<extra></extra>",
           "legendgroup": "Kerala",
           "marker": {
            "color": "#00cc96",
            "pattern": {
             "shape": ""
            }
           },
           "name": "Kerala",
           "offsetgroup": "Kerala",
           "orientation": "v",
           "showlegend": true,
           "textposition": "auto",
           "type": "bar",
           "x": [
            "South"
           ],
           "xaxis": "x",
           "y": [
            9.71
           ],
           "yaxis": "y"
          },
          {
           "alignmentgroup": "True",
           "hovertemplate": "States=Madhya Pradesh<br>Month_name=Jun<br>Region=%{x}<br>Estimated Unemployment Rate=%{y}<extra></extra>",
           "legendgroup": "Madhya Pradesh",
           "marker": {
            "color": "#ab63fa",
            "pattern": {
             "shape": ""
            }
           },
           "name": "Madhya Pradesh",
           "offsetgroup": "Madhya Pradesh",
           "orientation": "v",
           "showlegend": true,
           "textposition": "auto",
           "type": "bar",
           "x": [
            "West"
           ],
           "xaxis": "x",
           "y": [
            6.48
           ],
           "yaxis": "y"
          },
          {
           "alignmentgroup": "True",
           "hovertemplate": "States=Maharashtra<br>Month_name=Jun<br>Region=%{x}<br>Estimated Unemployment Rate=%{y}<extra></extra>",
           "legendgroup": "Maharashtra",
           "marker": {
            "color": "#FFA15A",
            "pattern": {
             "shape": ""
            }
           },
           "name": "Maharashtra",
           "offsetgroup": "Maharashtra",
           "orientation": "v",
           "showlegend": true,
           "textposition": "auto",
           "type": "bar",
           "x": [
            "West"
           ],
           "xaxis": "x",
           "y": [
            9.23
           ],
           "yaxis": "y"
          },
          {
           "alignmentgroup": "True",
           "hovertemplate": "States=Meghalaya<br>Month_name=Jun<br>Region=%{x}<br>Estimated Unemployment Rate=%{y}<extra></extra>",
           "legendgroup": "Meghalaya",
           "marker": {
            "color": "#19d3f3",
            "pattern": {
             "shape": ""
            }
           },
           "name": "Meghalaya",
           "offsetgroup": "Meghalaya",
           "orientation": "v",
           "showlegend": true,
           "textposition": "auto",
           "type": "bar",
           "x": [
            "Northeast"
           ],
           "xaxis": "x",
           "y": [
            1.15
           ],
           "yaxis": "y"
          },
          {
           "alignmentgroup": "True",
           "hovertemplate": "States=Odisha<br>Month_name=Jun<br>Region=%{x}<br>Estimated Unemployment Rate=%{y}<extra></extra>",
           "legendgroup": "Odisha",
           "marker": {
            "color": "#FF6692",
            "pattern": {
             "shape": ""
            }
           },
           "name": "Odisha",
           "offsetgroup": "Odisha",
           "orientation": "v",
           "showlegend": true,
           "textposition": "auto",
           "type": "bar",
           "x": [
            "East"
           ],
           "xaxis": "x",
           "y": [
            3.77
           ],
           "yaxis": "y"
          },
          {
           "alignmentgroup": "True",
           "hovertemplate": "States=Puducherry<br>Month_name=Jun<br>Region=%{x}<br>Estimated Unemployment Rate=%{y}<extra></extra>",
           "legendgroup": "Puducherry",
           "marker": {
            "color": "#B6E880",
            "pattern": {
             "shape": ""
            }
           },
           "name": "Puducherry",
           "offsetgroup": "Puducherry",
           "orientation": "v",
           "showlegend": true,
           "textposition": "auto",
           "type": "bar",
           "x": [
            "South"
           ],
           "xaxis": "x",
           "y": [
            4.24
           ],
           "yaxis": "y"
          },
          {
           "alignmentgroup": "True",
           "hovertemplate": "States=Punjab<br>Month_name=Jun<br>Region=%{x}<br>Estimated Unemployment Rate=%{y}<extra></extra>",
           "legendgroup": "Punjab",
           "marker": {
            "color": "#FF97FF",
            "pattern": {
             "shape": ""
            }
           },
           "name": "Punjab",
           "offsetgroup": "Punjab",
           "orientation": "v",
           "showlegend": true,
           "textposition": "auto",
           "type": "bar",
           "x": [
            "North"
           ],
           "xaxis": "x",
           "y": [
            16.55
           ],
           "yaxis": "y"
          },
          {
           "alignmentgroup": "True",
           "hovertemplate": "States=Rajasthan<br>Month_name=Jun<br>Region=%{x}<br>Estimated Unemployment Rate=%{y}<extra></extra>",
           "legendgroup": "Rajasthan",
           "marker": {
            "color": "#FECB52",
            "pattern": {
             "shape": ""
            }
           },
           "name": "Rajasthan",
           "offsetgroup": "Rajasthan",
           "orientation": "v",
           "showlegend": true,
           "textposition": "auto",
           "type": "bar",
           "x": [
            "North"
           ],
           "xaxis": "x",
           "y": [
            14.39
           ],
           "yaxis": "y"
          },
          {
           "alignmentgroup": "True",
           "hovertemplate": "States=Sikkim<br>Month_name=Jun<br>Region=%{x}<br>Estimated Unemployment Rate=%{y}<extra></extra>",
           "legendgroup": "Sikkim",
           "marker": {
            "color": "#636efa",
            "pattern": {
             "shape": ""
            }
           },
           "name": "Sikkim",
           "offsetgroup": "Sikkim",
           "orientation": "v",
           "showlegend": true,
           "textposition": "auto",
           "type": "bar",
           "x": [
            "Northeast"
           ],
           "xaxis": "x",
           "y": [
            4.46
           ],
           "yaxis": "y"
          },
          {
           "alignmentgroup": "True",
           "hovertemplate": "States=Tamil Nadu<br>Month_name=Jun<br>Region=%{x}<br>Estimated Unemployment Rate=%{y}<extra></extra>",
           "legendgroup": "Tamil Nadu",
           "marker": {
            "color": "#EF553B",
            "pattern": {
             "shape": ""
            }
           },
           "name": "Tamil Nadu",
           "offsetgroup": "Tamil Nadu",
           "orientation": "v",
           "showlegend": true,
           "textposition": "auto",
           "type": "bar",
           "x": [
            "South"
           ],
           "xaxis": "x",
           "y": [
            12.2
           ],
           "yaxis": "y"
          },
          {
           "alignmentgroup": "True",
           "hovertemplate": "States=Telangana<br>Month_name=Jun<br>Region=%{x}<br>Estimated Unemployment Rate=%{y}<extra></extra>",
           "legendgroup": "Telangana",
           "marker": {
            "color": "#00cc96",
            "pattern": {
             "shape": ""
            }
           },
           "name": "Telangana",
           "offsetgroup": "Telangana",
           "orientation": "v",
           "showlegend": true,
           "textposition": "auto",
           "type": "bar",
           "x": [
            "South"
           ],
           "xaxis": "x",
           "y": [
            10.55
           ],
           "yaxis": "y"
          },
          {
           "alignmentgroup": "True",
           "hovertemplate": "States=Tripura<br>Month_name=Jun<br>Region=%{x}<br>Estimated Unemployment Rate=%{y}<extra></extra>",
           "legendgroup": "Tripura",
           "marker": {
            "color": "#ab63fa",
            "pattern": {
             "shape": ""
            }
           },
           "name": "Tripura",
           "offsetgroup": "Tripura",
           "orientation": "v",
           "showlegend": true,
           "textposition": "auto",
           "type": "bar",
           "x": [
            "Northeast"
           ],
           "xaxis": "x",
           "y": [
            21.71
           ],
           "yaxis": "y"
          },
          {
           "alignmentgroup": "True",
           "hovertemplate": "States=Uttar Pradesh<br>Month_name=Jun<br>Region=%{x}<br>Estimated Unemployment Rate=%{y}<extra></extra>",
           "legendgroup": "Uttar Pradesh",
           "marker": {
            "color": "#FFA15A",
            "pattern": {
             "shape": ""
            }
           },
           "name": "Uttar Pradesh",
           "offsetgroup": "Uttar Pradesh",
           "orientation": "v",
           "showlegend": true,
           "textposition": "auto",
           "type": "bar",
           "x": [
            "North"
           ],
           "xaxis": "x",
           "y": [
            9.47
           ],
           "yaxis": "y"
          },
          {
           "alignmentgroup": "True",
           "hovertemplate": "States=Uttarakhand<br>Month_name=Jun<br>Region=%{x}<br>Estimated Unemployment Rate=%{y}<extra></extra>",
           "legendgroup": "Uttarakhand",
           "marker": {
            "color": "#19d3f3",
            "pattern": {
             "shape": ""
            }
           },
           "name": "Uttarakhand",
           "offsetgroup": "Uttarakhand",
           "orientation": "v",
           "showlegend": true,
           "textposition": "auto",
           "type": "bar",
           "x": [
            "North"
           ],
           "xaxis": "x",
           "y": [
            8.61
           ],
           "yaxis": "y"
          },
          {
           "alignmentgroup": "True",
           "hovertemplate": "States=West Bengal<br>Month_name=Jun<br>Region=%{x}<br>Estimated Unemployment Rate=%{y}<extra></extra>",
           "legendgroup": "West Bengal",
           "marker": {
            "color": "#FF6692",
            "pattern": {
             "shape": ""
            }
           },
           "name": "West Bengal",
           "offsetgroup": "West Bengal",
           "orientation": "v",
           "showlegend": true,
           "textposition": "auto",
           "type": "bar",
           "x": [
            "East"
           ],
           "xaxis": "x",
           "y": [
            7.29
           ],
           "yaxis": "y"
          }
         ],
         "name": "Jun"
        },
        {
         "data": [
          {
           "alignmentgroup": "True",
           "hovertemplate": "States=Andhra Pradesh<br>Month_name=Jul<br>Region=%{x}<br>Estimated Unemployment Rate=%{y}<extra></extra>",
           "legendgroup": "Andhra Pradesh",
           "marker": {
            "color": "#636efa",
            "pattern": {
             "shape": ""
            }
           },
           "name": "Andhra Pradesh",
           "offsetgroup": "Andhra Pradesh",
           "orientation": "v",
           "showlegend": true,
           "textposition": "auto",
           "type": "bar",
           "x": [
            "South"
           ],
           "xaxis": "x",
           "y": [
            8.34
           ],
           "yaxis": "y"
          },
          {
           "alignmentgroup": "True",
           "hovertemplate": "States=Assam<br>Month_name=Jul<br>Region=%{x}<br>Estimated Unemployment Rate=%{y}<extra></extra>",
           "legendgroup": "Assam",
           "marker": {
            "color": "#EF553B",
            "pattern": {
             "shape": ""
            }
           },
           "name": "Assam",
           "offsetgroup": "Assam",
           "orientation": "v",
           "showlegend": true,
           "textposition": "auto",
           "type": "bar",
           "x": [
            "Northeast"
           ],
           "xaxis": "x",
           "y": [
            3.77
           ],
           "yaxis": "y"
          },
          {
           "alignmentgroup": "True",
           "hovertemplate": "States=Bihar<br>Month_name=Jul<br>Region=%{x}<br>Estimated Unemployment Rate=%{y}<extra></extra>",
           "legendgroup": "Bihar",
           "marker": {
            "color": "#00cc96",
            "pattern": {
             "shape": ""
            }
           },
           "name": "Bihar",
           "offsetgroup": "Bihar",
           "orientation": "v",
           "showlegend": true,
           "textposition": "auto",
           "type": "bar",
           "x": [
            "East"
           ],
           "xaxis": "x",
           "y": [
            12.79
           ],
           "yaxis": "y"
          },
          {
           "alignmentgroup": "True",
           "hovertemplate": "States=Chhattisgarh<br>Month_name=Jul<br>Region=%{x}<br>Estimated Unemployment Rate=%{y}<extra></extra>",
           "legendgroup": "Chhattisgarh",
           "marker": {
            "color": "#ab63fa",
            "pattern": {
             "shape": ""
            }
           },
           "name": "Chhattisgarh",
           "offsetgroup": "Chhattisgarh",
           "orientation": "v",
           "showlegend": true,
           "textposition": "auto",
           "type": "bar",
           "x": [
            "West"
           ],
           "xaxis": "x",
           "y": [
            10.27
           ],
           "yaxis": "y"
          },
          {
           "alignmentgroup": "True",
           "hovertemplate": "States=Delhi<br>Month_name=Jul<br>Region=%{x}<br>Estimated Unemployment Rate=%{y}<extra></extra>",
           "legendgroup": "Delhi",
           "marker": {
            "color": "#FFA15A",
            "pattern": {
             "shape": ""
            }
           },
           "name": "Delhi",
           "offsetgroup": "Delhi",
           "orientation": "v",
           "showlegend": true,
           "textposition": "auto",
           "type": "bar",
           "x": [
            "North"
           ],
           "xaxis": "x",
           "y": [
            20.3
           ],
           "yaxis": "y"
          },
          {
           "alignmentgroup": "True",
           "hovertemplate": "States=Goa<br>Month_name=Jul<br>Region=%{x}<br>Estimated Unemployment Rate=%{y}<extra></extra>",
           "legendgroup": "Goa",
           "marker": {
            "color": "#19d3f3",
            "pattern": {
             "shape": ""
            }
           },
           "name": "Goa",
           "offsetgroup": "Goa",
           "orientation": "v",
           "showlegend": true,
           "textposition": "auto",
           "type": "bar",
           "x": [
            "West"
           ],
           "xaxis": "x",
           "y": [
            17.07
           ],
           "yaxis": "y"
          },
          {
           "alignmentgroup": "True",
           "hovertemplate": "States=Gujarat<br>Month_name=Jul<br>Region=%{x}<br>Estimated Unemployment Rate=%{y}<extra></extra>",
           "legendgroup": "Gujarat",
           "marker": {
            "color": "#FF6692",
            "pattern": {
             "shape": ""
            }
           },
           "name": "Gujarat",
           "offsetgroup": "Gujarat",
           "orientation": "v",
           "showlegend": true,
           "textposition": "auto",
           "type": "bar",
           "x": [
            "West"
           ],
           "xaxis": "x",
           "y": [
            1.84
           ],
           "yaxis": "y"
          },
          {
           "alignmentgroup": "True",
           "hovertemplate": "States=Haryana<br>Month_name=Jul<br>Region=%{x}<br>Estimated Unemployment Rate=%{y}<extra></extra>",
           "legendgroup": "Haryana",
           "marker": {
            "color": "#B6E880",
            "pattern": {
             "shape": ""
            }
           },
           "name": "Haryana",
           "offsetgroup": "Haryana",
           "orientation": "v",
           "showlegend": true,
           "textposition": "auto",
           "type": "bar",
           "x": [
            "North"
           ],
           "xaxis": "x",
           "y": [
            24.18
           ],
           "yaxis": "y"
          },
          {
           "alignmentgroup": "True",
           "hovertemplate": "States=Himachal Pradesh<br>Month_name=Jul<br>Region=%{x}<br>Estimated Unemployment Rate=%{y}<extra></extra>",
           "legendgroup": "Himachal Pradesh",
           "marker": {
            "color": "#FF97FF",
            "pattern": {
             "shape": ""
            }
           },
           "name": "Himachal Pradesh",
           "offsetgroup": "Himachal Pradesh",
           "orientation": "v",
           "showlegend": true,
           "textposition": "auto",
           "type": "bar",
           "x": [
            "North"
           ],
           "xaxis": "x",
           "y": [
            24.31
           ],
           "yaxis": "y"
          },
          {
           "alignmentgroup": "True",
           "hovertemplate": "States=Jammu & Kashmir<br>Month_name=Jul<br>Region=%{x}<br>Estimated Unemployment Rate=%{y}<extra></extra>",
           "legendgroup": "Jammu & Kashmir",
           "marker": {
            "color": "#FECB52",
            "pattern": {
             "shape": ""
            }
           },
           "name": "Jammu & Kashmir",
           "offsetgroup": "Jammu & Kashmir",
           "orientation": "v",
           "showlegend": true,
           "textposition": "auto",
           "type": "bar",
           "x": [
            "North"
           ],
           "xaxis": "x",
           "y": [
            10.88
           ],
           "yaxis": "y"
          },
          {
           "alignmentgroup": "True",
           "hovertemplate": "States=Jharkhand<br>Month_name=Jul<br>Region=%{x}<br>Estimated Unemployment Rate=%{y}<extra></extra>",
           "legendgroup": "Jharkhand",
           "marker": {
            "color": "#636efa",
            "pattern": {
             "shape": ""
            }
           },
           "name": "Jharkhand",
           "offsetgroup": "Jharkhand",
           "orientation": "v",
           "showlegend": true,
           "textposition": "auto",
           "type": "bar",
           "x": [
            "East"
           ],
           "xaxis": "x",
           "y": [
            7.63
           ],
           "yaxis": "y"
          },
          {
           "alignmentgroup": "True",
           "hovertemplate": "States=Karnataka<br>Month_name=Jul<br>Region=%{x}<br>Estimated Unemployment Rate=%{y}<extra></extra>",
           "legendgroup": "Karnataka",
           "marker": {
            "color": "#EF553B",
            "pattern": {
             "shape": ""
            }
           },
           "name": "Karnataka",
           "offsetgroup": "Karnataka",
           "orientation": "v",
           "showlegend": true,
           "textposition": "auto",
           "type": "bar",
           "x": [
            "South"
           ],
           "xaxis": "x",
           "y": [
            4.01
           ],
           "yaxis": "y"
          },
          {
           "alignmentgroup": "True",
           "hovertemplate": "States=Kerala<br>Month_name=Jul<br>Region=%{x}<br>Estimated Unemployment Rate=%{y}<extra></extra>",
           "legendgroup": "Kerala",
           "marker": {
            "color": "#00cc96",
            "pattern": {
             "shape": ""
            }
           },
           "name": "Kerala",
           "offsetgroup": "Kerala",
           "orientation": "v",
           "showlegend": true,
           "textposition": "auto",
           "type": "bar",
           "x": [
            "South"
           ],
           "xaxis": "x",
           "y": [
            7.09
           ],
           "yaxis": "y"
          },
          {
           "alignmentgroup": "True",
           "hovertemplate": "States=Madhya Pradesh<br>Month_name=Jul<br>Region=%{x}<br>Estimated Unemployment Rate=%{y}<extra></extra>",
           "legendgroup": "Madhya Pradesh",
           "marker": {
            "color": "#ab63fa",
            "pattern": {
             "shape": ""
            }
           },
           "name": "Madhya Pradesh",
           "offsetgroup": "Madhya Pradesh",
           "orientation": "v",
           "showlegend": true,
           "textposition": "auto",
           "type": "bar",
           "x": [
            "West"
           ],
           "xaxis": "x",
           "y": [
            5.08
           ],
           "yaxis": "y"
          },
          {
           "alignmentgroup": "True",
           "hovertemplate": "States=Maharashtra<br>Month_name=Jul<br>Region=%{x}<br>Estimated Unemployment Rate=%{y}<extra></extra>",
           "legendgroup": "Maharashtra",
           "marker": {
            "color": "#FFA15A",
            "pattern": {
             "shape": ""
            }
           },
           "name": "Maharashtra",
           "offsetgroup": "Maharashtra",
           "orientation": "v",
           "showlegend": true,
           "textposition": "auto",
           "type": "bar",
           "x": [
            "West"
           ],
           "xaxis": "x",
           "y": [
            3.89
           ],
           "yaxis": "y"
          },
          {
           "alignmentgroup": "True",
           "hovertemplate": "States=Meghalaya<br>Month_name=Jul<br>Region=%{x}<br>Estimated Unemployment Rate=%{y}<extra></extra>",
           "legendgroup": "Meghalaya",
           "marker": {
            "color": "#19d3f3",
            "pattern": {
             "shape": ""
            }
           },
           "name": "Meghalaya",
           "offsetgroup": "Meghalaya",
           "orientation": "v",
           "showlegend": true,
           "textposition": "auto",
           "type": "bar",
           "x": [
            "Northeast"
           ],
           "xaxis": "x",
           "y": [
            2.1
           ],
           "yaxis": "y"
          },
          {
           "alignmentgroup": "True",
           "hovertemplate": "States=Odisha<br>Month_name=Jul<br>Region=%{x}<br>Estimated Unemployment Rate=%{y}<extra></extra>",
           "legendgroup": "Odisha",
           "marker": {
            "color": "#FF6692",
            "pattern": {
             "shape": ""
            }
           },
           "name": "Odisha",
           "offsetgroup": "Odisha",
           "orientation": "v",
           "showlegend": true,
           "textposition": "auto",
           "type": "bar",
           "x": [
            "East"
           ],
           "xaxis": "x",
           "y": [
            1.88
           ],
           "yaxis": "y"
          },
          {
           "alignmentgroup": "True",
           "hovertemplate": "States=Puducherry<br>Month_name=Jul<br>Region=%{x}<br>Estimated Unemployment Rate=%{y}<extra></extra>",
           "legendgroup": "Puducherry",
           "marker": {
            "color": "#B6E880",
            "pattern": {
             "shape": ""
            }
           },
           "name": "Puducherry",
           "offsetgroup": "Puducherry",
           "orientation": "v",
           "showlegend": true,
           "textposition": "auto",
           "type": "bar",
           "x": [
            "South"
           ],
           "xaxis": "x",
           "y": [
            15.47
           ],
           "yaxis": "y"
          },
          {
           "alignmentgroup": "True",
           "hovertemplate": "States=Punjab<br>Month_name=Jul<br>Region=%{x}<br>Estimated Unemployment Rate=%{y}<extra></extra>",
           "legendgroup": "Punjab",
           "marker": {
            "color": "#FF97FF",
            "pattern": {
             "shape": ""
            }
           },
           "name": "Punjab",
           "offsetgroup": "Punjab",
           "orientation": "v",
           "showlegend": true,
           "textposition": "auto",
           "type": "bar",
           "x": [
            "North"
           ],
           "xaxis": "x",
           "y": [
            9.19
           ],
           "yaxis": "y"
          },
          {
           "alignmentgroup": "True",
           "hovertemplate": "States=Rajasthan<br>Month_name=Jul<br>Region=%{x}<br>Estimated Unemployment Rate=%{y}<extra></extra>",
           "legendgroup": "Rajasthan",
           "marker": {
            "color": "#FECB52",
            "pattern": {
             "shape": ""
            }
           },
           "name": "Rajasthan",
           "offsetgroup": "Rajasthan",
           "orientation": "v",
           "showlegend": true,
           "textposition": "auto",
           "type": "bar",
           "x": [
            "North"
           ],
           "xaxis": "x",
           "y": [
            15.81
           ],
           "yaxis": "y"
          },
          {
           "alignmentgroup": "True",
           "hovertemplate": "States=Sikkim<br>Month_name=Jul<br>Region=%{x}<br>Estimated Unemployment Rate=%{y}<extra></extra>",
           "legendgroup": "Sikkim",
           "marker": {
            "color": "#636efa",
            "pattern": {
             "shape": ""
            }
           },
           "name": "Sikkim",
           "offsetgroup": "Sikkim",
           "orientation": "v",
           "showlegend": true,
           "textposition": "auto",
           "type": "bar",
           "x": [
            "Northeast"
           ],
           "xaxis": "x",
           "y": [
            4.45
           ],
           "yaxis": "y"
          },
          {
           "alignmentgroup": "True",
           "hovertemplate": "States=Tamil Nadu<br>Month_name=Jul<br>Region=%{x}<br>Estimated Unemployment Rate=%{y}<extra></extra>",
           "legendgroup": "Tamil Nadu",
           "marker": {
            "color": "#EF553B",
            "pattern": {
             "shape": ""
            }
           },
           "name": "Tamil Nadu",
           "offsetgroup": "Tamil Nadu",
           "orientation": "v",
           "showlegend": true,
           "textposition": "auto",
           "type": "bar",
           "x": [
            "South"
           ],
           "xaxis": "x",
           "y": [
            6.81
           ],
           "yaxis": "y"
          },
          {
           "alignmentgroup": "True",
           "hovertemplate": "States=Telangana<br>Month_name=Jul<br>Region=%{x}<br>Estimated Unemployment Rate=%{y}<extra></extra>",
           "legendgroup": "Telangana",
           "marker": {
            "color": "#00cc96",
            "pattern": {
             "shape": ""
            }
           },
           "name": "Telangana",
           "offsetgroup": "Telangana",
           "orientation": "v",
           "showlegend": true,
           "textposition": "auto",
           "type": "bar",
           "x": [
            "South"
           ],
           "xaxis": "x",
           "y": [
            5.36
           ],
           "yaxis": "y"
          },
          {
           "alignmentgroup": "True",
           "hovertemplate": "States=Tripura<br>Month_name=Jul<br>Region=%{x}<br>Estimated Unemployment Rate=%{y}<extra></extra>",
           "legendgroup": "Tripura",
           "marker": {
            "color": "#ab63fa",
            "pattern": {
             "shape": ""
            }
           },
           "name": "Tripura",
           "offsetgroup": "Tripura",
           "orientation": "v",
           "showlegend": true,
           "textposition": "auto",
           "type": "bar",
           "x": [
            "Northeast"
           ],
           "xaxis": "x",
           "y": [
            18.24
           ],
           "yaxis": "y"
          },
          {
           "alignmentgroup": "True",
           "hovertemplate": "States=Uttar Pradesh<br>Month_name=Jul<br>Region=%{x}<br>Estimated Unemployment Rate=%{y}<extra></extra>",
           "legendgroup": "Uttar Pradesh",
           "marker": {
            "color": "#FFA15A",
            "pattern": {
             "shape": ""
            }
           },
           "name": "Uttar Pradesh",
           "offsetgroup": "Uttar Pradesh",
           "orientation": "v",
           "showlegend": true,
           "textposition": "auto",
           "type": "bar",
           "x": [
            "North"
           ],
           "xaxis": "x",
           "y": [
            5.56
           ],
           "yaxis": "y"
          },
          {
           "alignmentgroup": "True",
           "hovertemplate": "States=Uttarakhand<br>Month_name=Jul<br>Region=%{x}<br>Estimated Unemployment Rate=%{y}<extra></extra>",
           "legendgroup": "Uttarakhand",
           "marker": {
            "color": "#19d3f3",
            "pattern": {
             "shape": ""
            }
           },
           "name": "Uttarakhand",
           "offsetgroup": "Uttarakhand",
           "orientation": "v",
           "showlegend": true,
           "textposition": "auto",
           "type": "bar",
           "x": [
            "North"
           ],
           "xaxis": "x",
           "y": [
            12.38
           ],
           "yaxis": "y"
          },
          {
           "alignmentgroup": "True",
           "hovertemplate": "States=West Bengal<br>Month_name=Jul<br>Region=%{x}<br>Estimated Unemployment Rate=%{y}<extra></extra>",
           "legendgroup": "West Bengal",
           "marker": {
            "color": "#FF6692",
            "pattern": {
             "shape": ""
            }
           },
           "name": "West Bengal",
           "offsetgroup": "West Bengal",
           "orientation": "v",
           "showlegend": true,
           "textposition": "auto",
           "type": "bar",
           "x": [
            "East"
           ],
           "xaxis": "x",
           "y": [
            6.83
           ],
           "yaxis": "y"
          }
         ],
         "name": "Jul"
        },
        {
         "data": [
          {
           "alignmentgroup": "True",
           "hovertemplate": "States=Andhra Pradesh<br>Month_name=Aug<br>Region=%{x}<br>Estimated Unemployment Rate=%{y}<extra></extra>",
           "legendgroup": "Andhra Pradesh",
           "marker": {
            "color": "#636efa",
            "pattern": {
             "shape": ""
            }
           },
           "name": "Andhra Pradesh",
           "offsetgroup": "Andhra Pradesh",
           "orientation": "v",
           "showlegend": true,
           "textposition": "auto",
           "type": "bar",
           "x": [
            "South"
           ],
           "xaxis": "x",
           "y": [
            6.96
           ],
           "yaxis": "y"
          },
          {
           "alignmentgroup": "True",
           "hovertemplate": "States=Assam<br>Month_name=Aug<br>Region=%{x}<br>Estimated Unemployment Rate=%{y}<extra></extra>",
           "legendgroup": "Assam",
           "marker": {
            "color": "#EF553B",
            "pattern": {
             "shape": ""
            }
           },
           "name": "Assam",
           "offsetgroup": "Assam",
           "orientation": "v",
           "showlegend": true,
           "textposition": "auto",
           "type": "bar",
           "x": [
            "Northeast"
           ],
           "xaxis": "x",
           "y": [
            5.53
           ],
           "yaxis": "y"
          },
          {
           "alignmentgroup": "True",
           "hovertemplate": "States=Bihar<br>Month_name=Aug<br>Region=%{x}<br>Estimated Unemployment Rate=%{y}<extra></extra>",
           "legendgroup": "Bihar",
           "marker": {
            "color": "#00cc96",
            "pattern": {
             "shape": ""
            }
           },
           "name": "Bihar",
           "offsetgroup": "Bihar",
           "orientation": "v",
           "showlegend": true,
           "textposition": "auto",
           "type": "bar",
           "x": [
            "East"
           ],
           "xaxis": "x",
           "y": [
            13.44
           ],
           "yaxis": "y"
          },
          {
           "alignmentgroup": "True",
           "hovertemplate": "States=Chhattisgarh<br>Month_name=Aug<br>Region=%{x}<br>Estimated Unemployment Rate=%{y}<extra></extra>",
           "legendgroup": "Chhattisgarh",
           "marker": {
            "color": "#ab63fa",
            "pattern": {
             "shape": ""
            }
           },
           "name": "Chhattisgarh",
           "offsetgroup": "Chhattisgarh",
           "orientation": "v",
           "showlegend": true,
           "textposition": "auto",
           "type": "bar",
           "x": [
            "West"
           ],
           "xaxis": "x",
           "y": [
            5.63
           ],
           "yaxis": "y"
          },
          {
           "alignmentgroup": "True",
           "hovertemplate": "States=Delhi<br>Month_name=Aug<br>Region=%{x}<br>Estimated Unemployment Rate=%{y}<extra></extra>",
           "legendgroup": "Delhi",
           "marker": {
            "color": "#FFA15A",
            "pattern": {
             "shape": ""
            }
           },
           "name": "Delhi",
           "offsetgroup": "Delhi",
           "orientation": "v",
           "showlegend": true,
           "textposition": "auto",
           "type": "bar",
           "x": [
            "North"
           ],
           "xaxis": "x",
           "y": [
            13.79
           ],
           "yaxis": "y"
          },
          {
           "alignmentgroup": "True",
           "hovertemplate": "States=Goa<br>Month_name=Aug<br>Region=%{x}<br>Estimated Unemployment Rate=%{y}<extra></extra>",
           "legendgroup": "Goa",
           "marker": {
            "color": "#19d3f3",
            "pattern": {
             "shape": ""
            }
           },
           "name": "Goa",
           "offsetgroup": "Goa",
           "orientation": "v",
           "showlegend": true,
           "textposition": "auto",
           "type": "bar",
           "x": [
            "West"
           ],
           "xaxis": "x",
           "y": [
            16.21
           ],
           "yaxis": "y"
          },
          {
           "alignmentgroup": "True",
           "hovertemplate": "States=Gujarat<br>Month_name=Aug<br>Region=%{x}<br>Estimated Unemployment Rate=%{y}<extra></extra>",
           "legendgroup": "Gujarat",
           "marker": {
            "color": "#FF6692",
            "pattern": {
             "shape": ""
            }
           },
           "name": "Gujarat",
           "offsetgroup": "Gujarat",
           "orientation": "v",
           "showlegend": true,
           "textposition": "auto",
           "type": "bar",
           "x": [
            "West"
           ],
           "xaxis": "x",
           "y": [
            1.87
           ],
           "yaxis": "y"
          },
          {
           "alignmentgroup": "True",
           "hovertemplate": "States=Haryana<br>Month_name=Aug<br>Region=%{x}<br>Estimated Unemployment Rate=%{y}<extra></extra>",
           "legendgroup": "Haryana",
           "marker": {
            "color": "#B6E880",
            "pattern": {
             "shape": ""
            }
           },
           "name": "Haryana",
           "offsetgroup": "Haryana",
           "orientation": "v",
           "showlegend": true,
           "textposition": "auto",
           "type": "bar",
           "x": [
            "North"
           ],
           "xaxis": "x",
           "y": [
            33.5
           ],
           "yaxis": "y"
          },
          {
           "alignmentgroup": "True",
           "hovertemplate": "States=Himachal Pradesh<br>Month_name=Aug<br>Region=%{x}<br>Estimated Unemployment Rate=%{y}<extra></extra>",
           "legendgroup": "Himachal Pradesh",
           "marker": {
            "color": "#FF97FF",
            "pattern": {
             "shape": ""
            }
           },
           "name": "Himachal Pradesh",
           "offsetgroup": "Himachal Pradesh",
           "orientation": "v",
           "showlegend": true,
           "textposition": "auto",
           "type": "bar",
           "x": [
            "North"
           ],
           "xaxis": "x",
           "y": [
            15.79
           ],
           "yaxis": "y"
          },
          {
           "alignmentgroup": "True",
           "hovertemplate": "States=Jammu & Kashmir<br>Month_name=Aug<br>Region=%{x}<br>Estimated Unemployment Rate=%{y}<extra></extra>",
           "legendgroup": "Jammu & Kashmir",
           "marker": {
            "color": "#FECB52",
            "pattern": {
             "shape": ""
            }
           },
           "name": "Jammu & Kashmir",
           "offsetgroup": "Jammu & Kashmir",
           "orientation": "v",
           "showlegend": true,
           "textposition": "auto",
           "type": "bar",
           "x": [
            "North"
           ],
           "xaxis": "x",
           "y": [
            11.09
           ],
           "yaxis": "y"
          },
          {
           "alignmentgroup": "True",
           "hovertemplate": "States=Jharkhand<br>Month_name=Aug<br>Region=%{x}<br>Estimated Unemployment Rate=%{y}<extra></extra>",
           "legendgroup": "Jharkhand",
           "marker": {
            "color": "#636efa",
            "pattern": {
             "shape": ""
            }
           },
           "name": "Jharkhand",
           "offsetgroup": "Jharkhand",
           "orientation": "v",
           "showlegend": true,
           "textposition": "auto",
           "type": "bar",
           "x": [
            "East"
           ],
           "xaxis": "x",
           "y": [
            9.76
           ],
           "yaxis": "y"
          },
          {
           "alignmentgroup": "True",
           "hovertemplate": "States=Karnataka<br>Month_name=Aug<br>Region=%{x}<br>Estimated Unemployment Rate=%{y}<extra></extra>",
           "legendgroup": "Karnataka",
           "marker": {
            "color": "#EF553B",
            "pattern": {
             "shape": ""
            }
           },
           "name": "Karnataka",
           "offsetgroup": "Karnataka",
           "orientation": "v",
           "showlegend": true,
           "textposition": "auto",
           "type": "bar",
           "x": [
            "South"
           ],
           "xaxis": "x",
           "y": [
            0.5
           ],
           "yaxis": "y"
          },
          {
           "alignmentgroup": "True",
           "hovertemplate": "States=Kerala<br>Month_name=Aug<br>Region=%{x}<br>Estimated Unemployment Rate=%{y}<extra></extra>",
           "legendgroup": "Kerala",
           "marker": {
            "color": "#00cc96",
            "pattern": {
             "shape": ""
            }
           },
           "name": "Kerala",
           "offsetgroup": "Kerala",
           "orientation": "v",
           "showlegend": true,
           "textposition": "auto",
           "type": "bar",
           "x": [
            "South"
           ],
           "xaxis": "x",
           "y": [
            10.98
           ],
           "yaxis": "y"
          },
          {
           "alignmentgroup": "True",
           "hovertemplate": "States=Madhya Pradesh<br>Month_name=Aug<br>Region=%{x}<br>Estimated Unemployment Rate=%{y}<extra></extra>",
           "legendgroup": "Madhya Pradesh",
           "marker": {
            "color": "#ab63fa",
            "pattern": {
             "shape": ""
            }
           },
           "name": "Madhya Pradesh",
           "offsetgroup": "Madhya Pradesh",
           "orientation": "v",
           "showlegend": true,
           "textposition": "auto",
           "type": "bar",
           "x": [
            "West"
           ],
           "xaxis": "x",
           "y": [
            4.7
           ],
           "yaxis": "y"
          },
          {
           "alignmentgroup": "True",
           "hovertemplate": "States=Maharashtra<br>Month_name=Aug<br>Region=%{x}<br>Estimated Unemployment Rate=%{y}<extra></extra>",
           "legendgroup": "Maharashtra",
           "marker": {
            "color": "#FFA15A",
            "pattern": {
             "shape": ""
            }
           },
           "name": "Maharashtra",
           "offsetgroup": "Maharashtra",
           "orientation": "v",
           "showlegend": true,
           "textposition": "auto",
           "type": "bar",
           "x": [
            "West"
           ],
           "xaxis": "x",
           "y": [
            6.23
           ],
           "yaxis": "y"
          },
          {
           "alignmentgroup": "True",
           "hovertemplate": "States=Meghalaya<br>Month_name=Aug<br>Region=%{x}<br>Estimated Unemployment Rate=%{y}<extra></extra>",
           "legendgroup": "Meghalaya",
           "marker": {
            "color": "#19d3f3",
            "pattern": {
             "shape": ""
            }
           },
           "name": "Meghalaya",
           "offsetgroup": "Meghalaya",
           "orientation": "v",
           "showlegend": true,
           "textposition": "auto",
           "type": "bar",
           "x": [
            "Northeast"
           ],
           "xaxis": "x",
           "y": [
            3.74
           ],
           "yaxis": "y"
          },
          {
           "alignmentgroup": "True",
           "hovertemplate": "States=Odisha<br>Month_name=Aug<br>Region=%{x}<br>Estimated Unemployment Rate=%{y}<extra></extra>",
           "legendgroup": "Odisha",
           "marker": {
            "color": "#FF6692",
            "pattern": {
             "shape": ""
            }
           },
           "name": "Odisha",
           "offsetgroup": "Odisha",
           "orientation": "v",
           "showlegend": true,
           "textposition": "auto",
           "type": "bar",
           "x": [
            "East"
           ],
           "xaxis": "x",
           "y": [
            1.42
           ],
           "yaxis": "y"
          },
          {
           "alignmentgroup": "True",
           "hovertemplate": "States=Puducherry<br>Month_name=Aug<br>Region=%{x}<br>Estimated Unemployment Rate=%{y}<extra></extra>",
           "legendgroup": "Puducherry",
           "marker": {
            "color": "#B6E880",
            "pattern": {
             "shape": ""
            }
           },
           "name": "Puducherry",
           "offsetgroup": "Puducherry",
           "orientation": "v",
           "showlegend": true,
           "textposition": "auto",
           "type": "bar",
           "x": [
            "South"
           ],
           "xaxis": "x",
           "y": [
            5.05
           ],
           "yaxis": "y"
          },
          {
           "alignmentgroup": "True",
           "hovertemplate": "States=Punjab<br>Month_name=Aug<br>Region=%{x}<br>Estimated Unemployment Rate=%{y}<extra></extra>",
           "legendgroup": "Punjab",
           "marker": {
            "color": "#FF97FF",
            "pattern": {
             "shape": ""
            }
           },
           "name": "Punjab",
           "offsetgroup": "Punjab",
           "orientation": "v",
           "showlegend": true,
           "textposition": "auto",
           "type": "bar",
           "x": [
            "North"
           ],
           "xaxis": "x",
           "y": [
            10.99
           ],
           "yaxis": "y"
          },
          {
           "alignmentgroup": "True",
           "hovertemplate": "States=Rajasthan<br>Month_name=Aug<br>Region=%{x}<br>Estimated Unemployment Rate=%{y}<extra></extra>",
           "legendgroup": "Rajasthan",
           "marker": {
            "color": "#FECB52",
            "pattern": {
             "shape": ""
            }
           },
           "name": "Rajasthan",
           "offsetgroup": "Rajasthan",
           "orientation": "v",
           "showlegend": true,
           "textposition": "auto",
           "type": "bar",
           "x": [
            "North"
           ],
           "xaxis": "x",
           "y": [
            17.51
           ],
           "yaxis": "y"
          },
          {
           "alignmentgroup": "True",
           "hovertemplate": "States=Sikkim<br>Month_name=Aug<br>Region=%{x}<br>Estimated Unemployment Rate=%{y}<extra></extra>",
           "legendgroup": "Sikkim",
           "marker": {
            "color": "#636efa",
            "pattern": {
             "shape": ""
            }
           },
           "name": "Sikkim",
           "offsetgroup": "Sikkim",
           "orientation": "v",
           "showlegend": true,
           "textposition": "auto",
           "type": "bar",
           "x": [
            "Northeast"
           ],
           "xaxis": "x",
           "y": [
            12.49
           ],
           "yaxis": "y"
          },
          {
           "alignmentgroup": "True",
           "hovertemplate": "States=Tamil Nadu<br>Month_name=Aug<br>Region=%{x}<br>Estimated Unemployment Rate=%{y}<extra></extra>",
           "legendgroup": "Tamil Nadu",
           "marker": {
            "color": "#EF553B",
            "pattern": {
             "shape": ""
            }
           },
           "name": "Tamil Nadu",
           "offsetgroup": "Tamil Nadu",
           "orientation": "v",
           "showlegend": true,
           "textposition": "auto",
           "type": "bar",
           "x": [
            "South"
           ],
           "xaxis": "x",
           "y": [
            2.65
           ],
           "yaxis": "y"
          },
          {
           "alignmentgroup": "True",
           "hovertemplate": "States=Telangana<br>Month_name=Aug<br>Region=%{x}<br>Estimated Unemployment Rate=%{y}<extra></extra>",
           "legendgroup": "Telangana",
           "marker": {
            "color": "#00cc96",
            "pattern": {
             "shape": ""
            }
           },
           "name": "Telangana",
           "offsetgroup": "Telangana",
           "orientation": "v",
           "showlegend": true,
           "textposition": "auto",
           "type": "bar",
           "x": [
            "South"
           ],
           "xaxis": "x",
           "y": [
            5.79
           ],
           "yaxis": "y"
          },
          {
           "alignmentgroup": "True",
           "hovertemplate": "States=Tripura<br>Month_name=Aug<br>Region=%{x}<br>Estimated Unemployment Rate=%{y}<extra></extra>",
           "legendgroup": "Tripura",
           "marker": {
            "color": "#ab63fa",
            "pattern": {
             "shape": ""
            }
           },
           "name": "Tripura",
           "offsetgroup": "Tripura",
           "orientation": "v",
           "showlegend": true,
           "textposition": "auto",
           "type": "bar",
           "x": [
            "Northeast"
           ],
           "xaxis": "x",
           "y": [
            27.92
           ],
           "yaxis": "y"
          },
          {
           "alignmentgroup": "True",
           "hovertemplate": "States=Uttar Pradesh<br>Month_name=Aug<br>Region=%{x}<br>Estimated Unemployment Rate=%{y}<extra></extra>",
           "legendgroup": "Uttar Pradesh",
           "marker": {
            "color": "#FFA15A",
            "pattern": {
             "shape": ""
            }
           },
           "name": "Uttar Pradesh",
           "offsetgroup": "Uttar Pradesh",
           "orientation": "v",
           "showlegend": true,
           "textposition": "auto",
           "type": "bar",
           "x": [
            "North"
           ],
           "xaxis": "x",
           "y": [
            5.79
           ],
           "yaxis": "y"
          },
          {
           "alignmentgroup": "True",
           "hovertemplate": "States=Uttarakhand<br>Month_name=Aug<br>Region=%{x}<br>Estimated Unemployment Rate=%{y}<extra></extra>",
           "legendgroup": "Uttarakhand",
           "marker": {
            "color": "#19d3f3",
            "pattern": {
             "shape": ""
            }
           },
           "name": "Uttarakhand",
           "offsetgroup": "Uttarakhand",
           "orientation": "v",
           "showlegend": true,
           "textposition": "auto",
           "type": "bar",
           "x": [
            "North"
           ],
           "xaxis": "x",
           "y": [
            14.26
           ],
           "yaxis": "y"
          },
          {
           "alignmentgroup": "True",
           "hovertemplate": "States=West Bengal<br>Month_name=Aug<br>Region=%{x}<br>Estimated Unemployment Rate=%{y}<extra></extra>",
           "legendgroup": "West Bengal",
           "marker": {
            "color": "#FF6692",
            "pattern": {
             "shape": ""
            }
           },
           "name": "West Bengal",
           "offsetgroup": "West Bengal",
           "orientation": "v",
           "showlegend": true,
           "textposition": "auto",
           "type": "bar",
           "x": [
            "East"
           ],
           "xaxis": "x",
           "y": [
            14.87
           ],
           "yaxis": "y"
          }
         ],
         "name": "Aug"
        },
        {
         "data": [
          {
           "alignmentgroup": "True",
           "hovertemplate": "States=Andhra Pradesh<br>Month_name=Sep<br>Region=%{x}<br>Estimated Unemployment Rate=%{y}<extra></extra>",
           "legendgroup": "Andhra Pradesh",
           "marker": {
            "color": "#636efa",
            "pattern": {
             "shape": ""
            }
           },
           "name": "Andhra Pradesh",
           "offsetgroup": "Andhra Pradesh",
           "orientation": "v",
           "showlegend": true,
           "textposition": "auto",
           "type": "bar",
           "x": [
            "South"
           ],
           "xaxis": "x",
           "y": [
            6.4
           ],
           "yaxis": "y"
          },
          {
           "alignmentgroup": "True",
           "hovertemplate": "States=Assam<br>Month_name=Sep<br>Region=%{x}<br>Estimated Unemployment Rate=%{y}<extra></extra>",
           "legendgroup": "Assam",
           "marker": {
            "color": "#EF553B",
            "pattern": {
             "shape": ""
            }
           },
           "name": "Assam",
           "offsetgroup": "Assam",
           "orientation": "v",
           "showlegend": true,
           "textposition": "auto",
           "type": "bar",
           "x": [
            "Northeast"
           ],
           "xaxis": "x",
           "y": [
            1.19
           ],
           "yaxis": "y"
          },
          {
           "alignmentgroup": "True",
           "hovertemplate": "States=Bihar<br>Month_name=Sep<br>Region=%{x}<br>Estimated Unemployment Rate=%{y}<extra></extra>",
           "legendgroup": "Bihar",
           "marker": {
            "color": "#00cc96",
            "pattern": {
             "shape": ""
            }
           },
           "name": "Bihar",
           "offsetgroup": "Bihar",
           "orientation": "v",
           "showlegend": true,
           "textposition": "auto",
           "type": "bar",
           "x": [
            "East"
           ],
           "xaxis": "x",
           "y": [
            11.91
           ],
           "yaxis": "y"
          },
          {
           "alignmentgroup": "True",
           "hovertemplate": "States=Chhattisgarh<br>Month_name=Sep<br>Region=%{x}<br>Estimated Unemployment Rate=%{y}<extra></extra>",
           "legendgroup": "Chhattisgarh",
           "marker": {
            "color": "#ab63fa",
            "pattern": {
             "shape": ""
            }
           },
           "name": "Chhattisgarh",
           "offsetgroup": "Chhattisgarh",
           "orientation": "v",
           "showlegend": true,
           "textposition": "auto",
           "type": "bar",
           "x": [
            "West"
           ],
           "xaxis": "x",
           "y": [
            1.96
           ],
           "yaxis": "y"
          },
          {
           "alignmentgroup": "True",
           "hovertemplate": "States=Delhi<br>Month_name=Sep<br>Region=%{x}<br>Estimated Unemployment Rate=%{y}<extra></extra>",
           "legendgroup": "Delhi",
           "marker": {
            "color": "#FFA15A",
            "pattern": {
             "shape": ""
            }
           },
           "name": "Delhi",
           "offsetgroup": "Delhi",
           "orientation": "v",
           "showlegend": true,
           "textposition": "auto",
           "type": "bar",
           "x": [
            "North"
           ],
           "xaxis": "x",
           "y": [
            12.53
           ],
           "yaxis": "y"
          },
          {
           "alignmentgroup": "True",
           "hovertemplate": "States=Goa<br>Month_name=Sep<br>Region=%{x}<br>Estimated Unemployment Rate=%{y}<extra></extra>",
           "legendgroup": "Goa",
           "marker": {
            "color": "#19d3f3",
            "pattern": {
             "shape": ""
            }
           },
           "name": "Goa",
           "offsetgroup": "Goa",
           "orientation": "v",
           "showlegend": true,
           "textposition": "auto",
           "type": "bar",
           "x": [
            "West"
           ],
           "xaxis": "x",
           "y": [
            15.38
           ],
           "yaxis": "y"
          },
          {
           "alignmentgroup": "True",
           "hovertemplate": "States=Gujarat<br>Month_name=Sep<br>Region=%{x}<br>Estimated Unemployment Rate=%{y}<extra></extra>",
           "legendgroup": "Gujarat",
           "marker": {
            "color": "#FF6692",
            "pattern": {
             "shape": ""
            }
           },
           "name": "Gujarat",
           "offsetgroup": "Gujarat",
           "orientation": "v",
           "showlegend": true,
           "textposition": "auto",
           "type": "bar",
           "x": [
            "West"
           ],
           "xaxis": "x",
           "y": [
            3.42
           ],
           "yaxis": "y"
          },
          {
           "alignmentgroup": "True",
           "hovertemplate": "States=Haryana<br>Month_name=Sep<br>Region=%{x}<br>Estimated Unemployment Rate=%{y}<extra></extra>",
           "legendgroup": "Haryana",
           "marker": {
            "color": "#B6E880",
            "pattern": {
             "shape": ""
            }
           },
           "name": "Haryana",
           "offsetgroup": "Haryana",
           "orientation": "v",
           "showlegend": true,
           "textposition": "auto",
           "type": "bar",
           "x": [
            "North"
           ],
           "xaxis": "x",
           "y": [
            19.68
           ],
           "yaxis": "y"
          },
          {
           "alignmentgroup": "True",
           "hovertemplate": "States=Himachal Pradesh<br>Month_name=Sep<br>Region=%{x}<br>Estimated Unemployment Rate=%{y}<extra></extra>",
           "legendgroup": "Himachal Pradesh",
           "marker": {
            "color": "#FF97FF",
            "pattern": {
             "shape": ""
            }
           },
           "name": "Himachal Pradesh",
           "offsetgroup": "Himachal Pradesh",
           "orientation": "v",
           "showlegend": true,
           "textposition": "auto",
           "type": "bar",
           "x": [
            "North"
           ],
           "xaxis": "x",
           "y": [
            12.04
           ],
           "yaxis": "y"
          },
          {
           "alignmentgroup": "True",
           "hovertemplate": "States=Jammu & Kashmir<br>Month_name=Sep<br>Region=%{x}<br>Estimated Unemployment Rate=%{y}<extra></extra>",
           "legendgroup": "Jammu & Kashmir",
           "marker": {
            "color": "#FECB52",
            "pattern": {
             "shape": ""
            }
           },
           "name": "Jammu & Kashmir",
           "offsetgroup": "Jammu & Kashmir",
           "orientation": "v",
           "showlegend": true,
           "textposition": "auto",
           "type": "bar",
           "x": [
            "North"
           ],
           "xaxis": "x",
           "y": [
            16.17
           ],
           "yaxis": "y"
          },
          {
           "alignmentgroup": "True",
           "hovertemplate": "States=Jharkhand<br>Month_name=Sep<br>Region=%{x}<br>Estimated Unemployment Rate=%{y}<extra></extra>",
           "legendgroup": "Jharkhand",
           "marker": {
            "color": "#636efa",
            "pattern": {
             "shape": ""
            }
           },
           "name": "Jharkhand",
           "offsetgroup": "Jharkhand",
           "orientation": "v",
           "showlegend": true,
           "textposition": "auto",
           "type": "bar",
           "x": [
            "East"
           ],
           "xaxis": "x",
           "y": [
            8.24
           ],
           "yaxis": "y"
          },
          {
           "alignmentgroup": "True",
           "hovertemplate": "States=Karnataka<br>Month_name=Sep<br>Region=%{x}<br>Estimated Unemployment Rate=%{y}<extra></extra>",
           "legendgroup": "Karnataka",
           "marker": {
            "color": "#EF553B",
            "pattern": {
             "shape": ""
            }
           },
           "name": "Karnataka",
           "offsetgroup": "Karnataka",
           "orientation": "v",
           "showlegend": true,
           "textposition": "auto",
           "type": "bar",
           "x": [
            "South"
           ],
           "xaxis": "x",
           "y": [
            2.41
           ],
           "yaxis": "y"
          },
          {
           "alignmentgroup": "True",
           "hovertemplate": "States=Kerala<br>Month_name=Sep<br>Region=%{x}<br>Estimated Unemployment Rate=%{y}<extra></extra>",
           "legendgroup": "Kerala",
           "marker": {
            "color": "#00cc96",
            "pattern": {
             "shape": ""
            }
           },
           "name": "Kerala",
           "offsetgroup": "Kerala",
           "orientation": "v",
           "showlegend": true,
           "textposition": "auto",
           "type": "bar",
           "x": [
            "South"
           ],
           "xaxis": "x",
           "y": [
            5.91
           ],
           "yaxis": "y"
          },
          {
           "alignmentgroup": "True",
           "hovertemplate": "States=Madhya Pradesh<br>Month_name=Sep<br>Region=%{x}<br>Estimated Unemployment Rate=%{y}<extra></extra>",
           "legendgroup": "Madhya Pradesh",
           "marker": {
            "color": "#ab63fa",
            "pattern": {
             "shape": ""
            }
           },
           "name": "Madhya Pradesh",
           "offsetgroup": "Madhya Pradesh",
           "orientation": "v",
           "showlegend": true,
           "textposition": "auto",
           "type": "bar",
           "x": [
            "West"
           ],
           "xaxis": "x",
           "y": [
            3.91
           ],
           "yaxis": "y"
          },
          {
           "alignmentgroup": "True",
           "hovertemplate": "States=Maharashtra<br>Month_name=Sep<br>Region=%{x}<br>Estimated Unemployment Rate=%{y}<extra></extra>",
           "legendgroup": "Maharashtra",
           "marker": {
            "color": "#FFA15A",
            "pattern": {
             "shape": ""
            }
           },
           "name": "Maharashtra",
           "offsetgroup": "Maharashtra",
           "orientation": "v",
           "showlegend": true,
           "textposition": "auto",
           "type": "bar",
           "x": [
            "West"
           ],
           "xaxis": "x",
           "y": [
            4.55
           ],
           "yaxis": "y"
          },
          {
           "alignmentgroup": "True",
           "hovertemplate": "States=Meghalaya<br>Month_name=Sep<br>Region=%{x}<br>Estimated Unemployment Rate=%{y}<extra></extra>",
           "legendgroup": "Meghalaya",
           "marker": {
            "color": "#19d3f3",
            "pattern": {
             "shape": ""
            }
           },
           "name": "Meghalaya",
           "offsetgroup": "Meghalaya",
           "orientation": "v",
           "showlegend": true,
           "textposition": "auto",
           "type": "bar",
           "x": [
            "Northeast"
           ],
           "xaxis": "x",
           "y": [
            4.29
           ],
           "yaxis": "y"
          },
          {
           "alignmentgroup": "True",
           "hovertemplate": "States=Odisha<br>Month_name=Sep<br>Region=%{x}<br>Estimated Unemployment Rate=%{y}<extra></extra>",
           "legendgroup": "Odisha",
           "marker": {
            "color": "#FF6692",
            "pattern": {
             "shape": ""
            }
           },
           "name": "Odisha",
           "offsetgroup": "Odisha",
           "orientation": "v",
           "showlegend": true,
           "textposition": "auto",
           "type": "bar",
           "x": [
            "East"
           ],
           "xaxis": "x",
           "y": [
            2.1
           ],
           "yaxis": "y"
          },
          {
           "alignmentgroup": "True",
           "hovertemplate": "States=Puducherry<br>Month_name=Sep<br>Region=%{x}<br>Estimated Unemployment Rate=%{y}<extra></extra>",
           "legendgroup": "Puducherry",
           "marker": {
            "color": "#B6E880",
            "pattern": {
             "shape": ""
            }
           },
           "name": "Puducherry",
           "offsetgroup": "Puducherry",
           "orientation": "v",
           "showlegend": true,
           "textposition": "auto",
           "type": "bar",
           "x": [
            "South"
           ],
           "xaxis": "x",
           "y": [
            10.9
           ],
           "yaxis": "y"
          },
          {
           "alignmentgroup": "True",
           "hovertemplate": "States=Punjab<br>Month_name=Sep<br>Region=%{x}<br>Estimated Unemployment Rate=%{y}<extra></extra>",
           "legendgroup": "Punjab",
           "marker": {
            "color": "#FF97FF",
            "pattern": {
             "shape": ""
            }
           },
           "name": "Punjab",
           "offsetgroup": "Punjab",
           "orientation": "v",
           "showlegend": true,
           "textposition": "auto",
           "type": "bar",
           "x": [
            "North"
           ],
           "xaxis": "x",
           "y": [
            9.61
           ],
           "yaxis": "y"
          },
          {
           "alignmentgroup": "True",
           "hovertemplate": "States=Rajasthan<br>Month_name=Sep<br>Region=%{x}<br>Estimated Unemployment Rate=%{y}<extra></extra>",
           "legendgroup": "Rajasthan",
           "marker": {
            "color": "#FECB52",
            "pattern": {
             "shape": ""
            }
           },
           "name": "Rajasthan",
           "offsetgroup": "Rajasthan",
           "orientation": "v",
           "showlegend": true,
           "textposition": "auto",
           "type": "bar",
           "x": [
            "North"
           ],
           "xaxis": "x",
           "y": [
            15.35
           ],
           "yaxis": "y"
          },
          {
           "alignmentgroup": "True",
           "hovertemplate": "States=Sikkim<br>Month_name=Sep<br>Region=%{x}<br>Estimated Unemployment Rate=%{y}<extra></extra>",
           "legendgroup": "Sikkim",
           "marker": {
            "color": "#636efa",
            "pattern": {
             "shape": ""
            }
           },
           "name": "Sikkim",
           "offsetgroup": "Sikkim",
           "orientation": "v",
           "showlegend": true,
           "textposition": "auto",
           "type": "bar",
           "x": [
            "Northeast"
           ],
           "xaxis": "x",
           "y": [
            5.7
           ],
           "yaxis": "y"
          },
          {
           "alignmentgroup": "True",
           "hovertemplate": "States=Tamil Nadu<br>Month_name=Sep<br>Region=%{x}<br>Estimated Unemployment Rate=%{y}<extra></extra>",
           "legendgroup": "Tamil Nadu",
           "marker": {
            "color": "#EF553B",
            "pattern": {
             "shape": ""
            }
           },
           "name": "Tamil Nadu",
           "offsetgroup": "Tamil Nadu",
           "orientation": "v",
           "showlegend": true,
           "textposition": "auto",
           "type": "bar",
           "x": [
            "South"
           ],
           "xaxis": "x",
           "y": [
            5
           ],
           "yaxis": "y"
          },
          {
           "alignmentgroup": "True",
           "hovertemplate": "States=Telangana<br>Month_name=Sep<br>Region=%{x}<br>Estimated Unemployment Rate=%{y}<extra></extra>",
           "legendgroup": "Telangana",
           "marker": {
            "color": "#00cc96",
            "pattern": {
             "shape": ""
            }
           },
           "name": "Telangana",
           "offsetgroup": "Telangana",
           "orientation": "v",
           "showlegend": true,
           "textposition": "auto",
           "type": "bar",
           "x": [
            "South"
           ],
           "xaxis": "x",
           "y": [
            3.27
           ],
           "yaxis": "y"
          },
          {
           "alignmentgroup": "True",
           "hovertemplate": "States=Tripura<br>Month_name=Sep<br>Region=%{x}<br>Estimated Unemployment Rate=%{y}<extra></extra>",
           "legendgroup": "Tripura",
           "marker": {
            "color": "#ab63fa",
            "pattern": {
             "shape": ""
            }
           },
           "name": "Tripura",
           "offsetgroup": "Tripura",
           "orientation": "v",
           "showlegend": true,
           "textposition": "auto",
           "type": "bar",
           "x": [
            "Northeast"
           ],
           "xaxis": "x",
           "y": [
            17.35
           ],
           "yaxis": "y"
          },
          {
           "alignmentgroup": "True",
           "hovertemplate": "States=Uttar Pradesh<br>Month_name=Sep<br>Region=%{x}<br>Estimated Unemployment Rate=%{y}<extra></extra>",
           "legendgroup": "Uttar Pradesh",
           "marker": {
            "color": "#FFA15A",
            "pattern": {
             "shape": ""
            }
           },
           "name": "Uttar Pradesh",
           "offsetgroup": "Uttar Pradesh",
           "orientation": "v",
           "showlegend": true,
           "textposition": "auto",
           "type": "bar",
           "x": [
            "North"
           ],
           "xaxis": "x",
           "y": [
            4.18
           ],
           "yaxis": "y"
          },
          {
           "alignmentgroup": "True",
           "hovertemplate": "States=Uttarakhand<br>Month_name=Sep<br>Region=%{x}<br>Estimated Unemployment Rate=%{y}<extra></extra>",
           "legendgroup": "Uttarakhand",
           "marker": {
            "color": "#19d3f3",
            "pattern": {
             "shape": ""
            }
           },
           "name": "Uttarakhand",
           "offsetgroup": "Uttarakhand",
           "orientation": "v",
           "showlegend": true,
           "textposition": "auto",
           "type": "bar",
           "x": [
            "North"
           ],
           "xaxis": "x",
           "y": [
            22.26
           ],
           "yaxis": "y"
          },
          {
           "alignmentgroup": "True",
           "hovertemplate": "States=West Bengal<br>Month_name=Sep<br>Region=%{x}<br>Estimated Unemployment Rate=%{y}<extra></extra>",
           "legendgroup": "West Bengal",
           "marker": {
            "color": "#FF6692",
            "pattern": {
             "shape": ""
            }
           },
           "name": "West Bengal",
           "offsetgroup": "West Bengal",
           "orientation": "v",
           "showlegend": true,
           "textposition": "auto",
           "type": "bar",
           "x": [
            "East"
           ],
           "xaxis": "x",
           "y": [
            9.35
           ],
           "yaxis": "y"
          }
         ],
         "name": "Sep"
        },
        {
         "data": [
          {
           "alignmentgroup": "True",
           "hovertemplate": "States=Andhra Pradesh<br>Month_name=Oct<br>Region=%{x}<br>Estimated Unemployment Rate=%{y}<extra></extra>",
           "legendgroup": "Andhra Pradesh",
           "marker": {
            "color": "#636efa",
            "pattern": {
             "shape": ""
            }
           },
           "name": "Andhra Pradesh",
           "offsetgroup": "Andhra Pradesh",
           "orientation": "v",
           "showlegend": true,
           "textposition": "auto",
           "type": "bar",
           "x": [
            "South"
           ],
           "xaxis": "x",
           "y": [
            6.59
           ],
           "yaxis": "y"
          },
          {
           "alignmentgroup": "True",
           "hovertemplate": "States=Assam<br>Month_name=Oct<br>Region=%{x}<br>Estimated Unemployment Rate=%{y}<extra></extra>",
           "legendgroup": "Assam",
           "marker": {
            "color": "#EF553B",
            "pattern": {
             "shape": ""
            }
           },
           "name": "Assam",
           "offsetgroup": "Assam",
           "orientation": "v",
           "showlegend": true,
           "textposition": "auto",
           "type": "bar",
           "x": [
            "Northeast"
           ],
           "xaxis": "x",
           "y": [
            3.02
           ],
           "yaxis": "y"
          },
          {
           "alignmentgroup": "True",
           "hovertemplate": "States=Bihar<br>Month_name=Oct<br>Region=%{x}<br>Estimated Unemployment Rate=%{y}<extra></extra>",
           "legendgroup": "Bihar",
           "marker": {
            "color": "#00cc96",
            "pattern": {
             "shape": ""
            }
           },
           "name": "Bihar",
           "offsetgroup": "Bihar",
           "orientation": "v",
           "showlegend": true,
           "textposition": "auto",
           "type": "bar",
           "x": [
            "East"
           ],
           "xaxis": "x",
           "y": [
            9.82
           ],
           "yaxis": "y"
          },
          {
           "alignmentgroup": "True",
           "hovertemplate": "States=Chhattisgarh<br>Month_name=Oct<br>Region=%{x}<br>Estimated Unemployment Rate=%{y}<extra></extra>",
           "legendgroup": "Chhattisgarh",
           "marker": {
            "color": "#ab63fa",
            "pattern": {
             "shape": ""
            }
           },
           "name": "Chhattisgarh",
           "offsetgroup": "Chhattisgarh",
           "orientation": "v",
           "showlegend": true,
           "textposition": "auto",
           "type": "bar",
           "x": [
            "West"
           ],
           "xaxis": "x",
           "y": [
            6.62
           ],
           "yaxis": "y"
          },
          {
           "alignmentgroup": "True",
           "hovertemplate": "States=Delhi<br>Month_name=Oct<br>Region=%{x}<br>Estimated Unemployment Rate=%{y}<extra></extra>",
           "legendgroup": "Delhi",
           "marker": {
            "color": "#FFA15A",
            "pattern": {
             "shape": ""
            }
           },
           "name": "Delhi",
           "offsetgroup": "Delhi",
           "orientation": "v",
           "showlegend": true,
           "textposition": "auto",
           "type": "bar",
           "x": [
            "North"
           ],
           "xaxis": "x",
           "y": [
            6.27
           ],
           "yaxis": "y"
          },
          {
           "alignmentgroup": "True",
           "hovertemplate": "States=Goa<br>Month_name=Oct<br>Region=%{x}<br>Estimated Unemployment Rate=%{y}<extra></extra>",
           "legendgroup": "Goa",
           "marker": {
            "color": "#19d3f3",
            "pattern": {
             "shape": ""
            }
           },
           "name": "Goa",
           "offsetgroup": "Goa",
           "orientation": "v",
           "showlegend": true,
           "textposition": "auto",
           "type": "bar",
           "x": [
            "West"
           ],
           "xaxis": "x",
           "y": [
            11.54
           ],
           "yaxis": "y"
          },
          {
           "alignmentgroup": "True",
           "hovertemplate": "States=Gujarat<br>Month_name=Oct<br>Region=%{x}<br>Estimated Unemployment Rate=%{y}<extra></extra>",
           "legendgroup": "Gujarat",
           "marker": {
            "color": "#FF6692",
            "pattern": {
             "shape": ""
            }
           },
           "name": "Gujarat",
           "offsetgroup": "Gujarat",
           "orientation": "v",
           "showlegend": true,
           "textposition": "auto",
           "type": "bar",
           "x": [
            "West"
           ],
           "xaxis": "x",
           "y": [
            4.03
           ],
           "yaxis": "y"
          },
          {
           "alignmentgroup": "True",
           "hovertemplate": "States=Haryana<br>Month_name=Oct<br>Region=%{x}<br>Estimated Unemployment Rate=%{y}<extra></extra>",
           "legendgroup": "Haryana",
           "marker": {
            "color": "#B6E880",
            "pattern": {
             "shape": ""
            }
           },
           "name": "Haryana",
           "offsetgroup": "Haryana",
           "orientation": "v",
           "showlegend": true,
           "textposition": "auto",
           "type": "bar",
           "x": [
            "North"
           ],
           "xaxis": "x",
           "y": [
            27.31
           ],
           "yaxis": "y"
          },
          {
           "alignmentgroup": "True",
           "hovertemplate": "States=Himachal Pradesh<br>Month_name=Oct<br>Region=%{x}<br>Estimated Unemployment Rate=%{y}<extra></extra>",
           "legendgroup": "Himachal Pradesh",
           "marker": {
            "color": "#FF97FF",
            "pattern": {
             "shape": ""
            }
           },
           "name": "Himachal Pradesh",
           "offsetgroup": "Himachal Pradesh",
           "orientation": "v",
           "showlegend": true,
           "textposition": "auto",
           "type": "bar",
           "x": [
            "North"
           ],
           "xaxis": "x",
           "y": [
            13.46
           ],
           "yaxis": "y"
          },
          {
           "alignmentgroup": "True",
           "hovertemplate": "States=Jammu & Kashmir<br>Month_name=Oct<br>Region=%{x}<br>Estimated Unemployment Rate=%{y}<extra></extra>",
           "legendgroup": "Jammu & Kashmir",
           "marker": {
            "color": "#FECB52",
            "pattern": {
             "shape": ""
            }
           },
           "name": "Jammu & Kashmir",
           "offsetgroup": "Jammu & Kashmir",
           "orientation": "v",
           "showlegend": true,
           "textposition": "auto",
           "type": "bar",
           "x": [
            "North"
           ],
           "xaxis": "x",
           "y": [
            16.14
           ],
           "yaxis": "y"
          },
          {
           "alignmentgroup": "True",
           "hovertemplate": "States=Jharkhand<br>Month_name=Oct<br>Region=%{x}<br>Estimated Unemployment Rate=%{y}<extra></extra>",
           "legendgroup": "Jharkhand",
           "marker": {
            "color": "#636efa",
            "pattern": {
             "shape": ""
            }
           },
           "name": "Jharkhand",
           "offsetgroup": "Jharkhand",
           "orientation": "v",
           "showlegend": true,
           "textposition": "auto",
           "type": "bar",
           "x": [
            "East"
           ],
           "xaxis": "x",
           "y": [
            11.8
           ],
           "yaxis": "y"
          },
          {
           "alignmentgroup": "True",
           "hovertemplate": "States=Karnataka<br>Month_name=Oct<br>Region=%{x}<br>Estimated Unemployment Rate=%{y}<extra></extra>",
           "legendgroup": "Karnataka",
           "marker": {
            "color": "#EF553B",
            "pattern": {
             "shape": ""
            }
           },
           "name": "Karnataka",
           "offsetgroup": "Karnataka",
           "orientation": "v",
           "showlegend": true,
           "textposition": "auto",
           "type": "bar",
           "x": [
            "South"
           ],
           "xaxis": "x",
           "y": [
            1.58
           ],
           "yaxis": "y"
          },
          {
           "alignmentgroup": "True",
           "hovertemplate": "States=Kerala<br>Month_name=Oct<br>Region=%{x}<br>Estimated Unemployment Rate=%{y}<extra></extra>",
           "legendgroup": "Kerala",
           "marker": {
            "color": "#00cc96",
            "pattern": {
             "shape": ""
            }
           },
           "name": "Kerala",
           "offsetgroup": "Kerala",
           "orientation": "v",
           "showlegend": true,
           "textposition": "auto",
           "type": "bar",
           "x": [
            "South"
           ],
           "xaxis": "x",
           "y": [
            3.88
           ],
           "yaxis": "y"
          },
          {
           "alignmentgroup": "True",
           "hovertemplate": "States=Madhya Pradesh<br>Month_name=Oct<br>Region=%{x}<br>Estimated Unemployment Rate=%{y}<extra></extra>",
           "legendgroup": "Madhya Pradesh",
           "marker": {
            "color": "#ab63fa",
            "pattern": {
             "shape": ""
            }
           },
           "name": "Madhya Pradesh",
           "offsetgroup": "Madhya Pradesh",
           "orientation": "v",
           "showlegend": true,
           "textposition": "auto",
           "type": "bar",
           "x": [
            "West"
           ],
           "xaxis": "x",
           "y": [
            3.13
           ],
           "yaxis": "y"
          },
          {
           "alignmentgroup": "True",
           "hovertemplate": "States=Maharashtra<br>Month_name=Oct<br>Region=%{x}<br>Estimated Unemployment Rate=%{y}<extra></extra>",
           "legendgroup": "Maharashtra",
           "marker": {
            "color": "#FFA15A",
            "pattern": {
             "shape": ""
            }
           },
           "name": "Maharashtra",
           "offsetgroup": "Maharashtra",
           "orientation": "v",
           "showlegend": true,
           "textposition": "auto",
           "type": "bar",
           "x": [
            "West"
           ],
           "xaxis": "x",
           "y": [
            4.1
           ],
           "yaxis": "y"
          },
          {
           "alignmentgroup": "True",
           "hovertemplate": "States=Meghalaya<br>Month_name=Oct<br>Region=%{x}<br>Estimated Unemployment Rate=%{y}<extra></extra>",
           "legendgroup": "Meghalaya",
           "marker": {
            "color": "#19d3f3",
            "pattern": {
             "shape": ""
            }
           },
           "name": "Meghalaya",
           "offsetgroup": "Meghalaya",
           "orientation": "v",
           "showlegend": true,
           "textposition": "auto",
           "type": "bar",
           "x": [
            "Northeast"
           ],
           "xaxis": "x",
           "y": [
            4.6
           ],
           "yaxis": "y"
          },
          {
           "alignmentgroup": "True",
           "hovertemplate": "States=Odisha<br>Month_name=Oct<br>Region=%{x}<br>Estimated Unemployment Rate=%{y}<extra></extra>",
           "legendgroup": "Odisha",
           "marker": {
            "color": "#FF6692",
            "pattern": {
             "shape": ""
            }
           },
           "name": "Odisha",
           "offsetgroup": "Odisha",
           "orientation": "v",
           "showlegend": true,
           "textposition": "auto",
           "type": "bar",
           "x": [
            "East"
           ],
           "xaxis": "x",
           "y": [
            2.18
           ],
           "yaxis": "y"
          },
          {
           "alignmentgroup": "True",
           "hovertemplate": "States=Puducherry<br>Month_name=Oct<br>Region=%{x}<br>Estimated Unemployment Rate=%{y}<extra></extra>",
           "legendgroup": "Puducherry",
           "marker": {
            "color": "#B6E880",
            "pattern": {
             "shape": ""
            }
           },
           "name": "Puducherry",
           "offsetgroup": "Puducherry",
           "orientation": "v",
           "showlegend": true,
           "textposition": "auto",
           "type": "bar",
           "x": [
            "South"
           ],
           "xaxis": "x",
           "y": [
            6.18
           ],
           "yaxis": "y"
          },
          {
           "alignmentgroup": "True",
           "hovertemplate": "States=Punjab<br>Month_name=Oct<br>Region=%{x}<br>Estimated Unemployment Rate=%{y}<extra></extra>",
           "legendgroup": "Punjab",
           "marker": {
            "color": "#FF97FF",
            "pattern": {
             "shape": ""
            }
           },
           "name": "Punjab",
           "offsetgroup": "Punjab",
           "orientation": "v",
           "showlegend": true,
           "textposition": "auto",
           "type": "bar",
           "x": [
            "North"
           ],
           "xaxis": "x",
           "y": [
            9.88
           ],
           "yaxis": "y"
          },
          {
           "alignmentgroup": "True",
           "hovertemplate": "States=Rajasthan<br>Month_name=Oct<br>Region=%{x}<br>Estimated Unemployment Rate=%{y}<extra></extra>",
           "legendgroup": "Rajasthan",
           "marker": {
            "color": "#FECB52",
            "pattern": {
             "shape": ""
            }
           },
           "name": "Rajasthan",
           "offsetgroup": "Rajasthan",
           "orientation": "v",
           "showlegend": true,
           "textposition": "auto",
           "type": "bar",
           "x": [
            "North"
           ],
           "xaxis": "x",
           "y": [
            24.15
           ],
           "yaxis": "y"
          },
          {
           "alignmentgroup": "True",
           "hovertemplate": "States=Sikkim<br>Month_name=Oct<br>Region=%{x}<br>Estimated Unemployment Rate=%{y}<extra></extra>",
           "legendgroup": "Sikkim",
           "marker": {
            "color": "#636efa",
            "pattern": {
             "shape": ""
            }
           },
           "name": "Sikkim",
           "offsetgroup": "Sikkim",
           "orientation": "v",
           "showlegend": true,
           "textposition": "auto",
           "type": "bar",
           "x": [
            "Northeast"
           ],
           "xaxis": "x",
           "y": [
            0.88
           ],
           "yaxis": "y"
          },
          {
           "alignmentgroup": "True",
           "hovertemplate": "States=Tamil Nadu<br>Month_name=Oct<br>Region=%{x}<br>Estimated Unemployment Rate=%{y}<extra></extra>",
           "legendgroup": "Tamil Nadu",
           "marker": {
            "color": "#EF553B",
            "pattern": {
             "shape": ""
            }
           },
           "name": "Tamil Nadu",
           "offsetgroup": "Tamil Nadu",
           "orientation": "v",
           "showlegend": true,
           "textposition": "auto",
           "type": "bar",
           "x": [
            "South"
           ],
           "xaxis": "x",
           "y": [
            2.16
           ],
           "yaxis": "y"
          },
          {
           "alignmentgroup": "True",
           "hovertemplate": "States=Telangana<br>Month_name=Oct<br>Region=%{x}<br>Estimated Unemployment Rate=%{y}<extra></extra>",
           "legendgroup": "Telangana",
           "marker": {
            "color": "#00cc96",
            "pattern": {
             "shape": ""
            }
           },
           "name": "Telangana",
           "offsetgroup": "Telangana",
           "orientation": "v",
           "showlegend": true,
           "textposition": "auto",
           "type": "bar",
           "x": [
            "South"
           ],
           "xaxis": "x",
           "y": [
            2.86
           ],
           "yaxis": "y"
          },
          {
           "alignmentgroup": "True",
           "hovertemplate": "States=Tripura<br>Month_name=Oct<br>Region=%{x}<br>Estimated Unemployment Rate=%{y}<extra></extra>",
           "legendgroup": "Tripura",
           "marker": {
            "color": "#ab63fa",
            "pattern": {
             "shape": ""
            }
           },
           "name": "Tripura",
           "offsetgroup": "Tripura",
           "orientation": "v",
           "showlegend": true,
           "textposition": "auto",
           "type": "bar",
           "x": [
            "Northeast"
           ],
           "xaxis": "x",
           "y": [
            11.57
           ],
           "yaxis": "y"
          },
          {
           "alignmentgroup": "True",
           "hovertemplate": "States=Uttar Pradesh<br>Month_name=Oct<br>Region=%{x}<br>Estimated Unemployment Rate=%{y}<extra></extra>",
           "legendgroup": "Uttar Pradesh",
           "marker": {
            "color": "#FFA15A",
            "pattern": {
             "shape": ""
            }
           },
           "name": "Uttar Pradesh",
           "offsetgroup": "Uttar Pradesh",
           "orientation": "v",
           "showlegend": true,
           "textposition": "auto",
           "type": "bar",
           "x": [
            "North"
           ],
           "xaxis": "x",
           "y": [
            3.75
           ],
           "yaxis": "y"
          },
          {
           "alignmentgroup": "True",
           "hovertemplate": "States=Uttarakhand<br>Month_name=Oct<br>Region=%{x}<br>Estimated Unemployment Rate=%{y}<extra></extra>",
           "legendgroup": "Uttarakhand",
           "marker": {
            "color": "#19d3f3",
            "pattern": {
             "shape": ""
            }
           },
           "name": "Uttarakhand",
           "offsetgroup": "Uttarakhand",
           "orientation": "v",
           "showlegend": true,
           "textposition": "auto",
           "type": "bar",
           "x": [
            "North"
           ],
           "xaxis": "x",
           "y": [
            9.23
           ],
           "yaxis": "y"
          },
          {
           "alignmentgroup": "True",
           "hovertemplate": "States=West Bengal<br>Month_name=Oct<br>Region=%{x}<br>Estimated Unemployment Rate=%{y}<extra></extra>",
           "legendgroup": "West Bengal",
           "marker": {
            "color": "#FF6692",
            "pattern": {
             "shape": ""
            }
           },
           "name": "West Bengal",
           "offsetgroup": "West Bengal",
           "orientation": "v",
           "showlegend": true,
           "textposition": "auto",
           "type": "bar",
           "x": [
            "East"
           ],
           "xaxis": "x",
           "y": [
            9.98
           ],
           "yaxis": "y"
          }
         ],
         "name": "Oct"
        }
       ],
       "layout": {
        "autosize": true,
        "barmode": "relative",
        "legend": {
         "title": {
          "text": "States"
         },
         "tracegroupgap": 0
        },
        "sliders": [
         {
          "active": 9,
          "currentvalue": {
           "prefix": "Month_name="
          },
          "len": 0.9,
          "pad": {
           "b": 10,
           "t": 60
          },
          "steps": [
           {
            "args": [
             [
              "Jan"
             ],
             {
              "frame": {
               "duration": 0,
               "redraw": true
              },
              "fromcurrent": true,
              "mode": "immediate",
              "transition": {
               "duration": 0,
               "easing": "linear"
              }
             }
            ],
            "label": "Jan",
            "method": "animate"
           },
           {
            "args": [
             [
              "Feb"
             ],
             {
              "frame": {
               "duration": 0,
               "redraw": true
              },
              "fromcurrent": true,
              "mode": "immediate",
              "transition": {
               "duration": 0,
               "easing": "linear"
              }
             }
            ],
            "label": "Feb",
            "method": "animate"
           },
           {
            "args": [
             [
              "Mar"
             ],
             {
              "frame": {
               "duration": 0,
               "redraw": true
              },
              "fromcurrent": true,
              "mode": "immediate",
              "transition": {
               "duration": 0,
               "easing": "linear"
              }
             }
            ],
            "label": "Mar",
            "method": "animate"
           },
           {
            "args": [
             [
              "Apr"
             ],
             {
              "frame": {
               "duration": 0,
               "redraw": true
              },
              "fromcurrent": true,
              "mode": "immediate",
              "transition": {
               "duration": 0,
               "easing": "linear"
              }
             }
            ],
            "label": "Apr",
            "method": "animate"
           },
           {
            "args": [
             [
              "May"
             ],
             {
              "frame": {
               "duration": 0,
               "redraw": true
              },
              "fromcurrent": true,
              "mode": "immediate",
              "transition": {
               "duration": 0,
               "easing": "linear"
              }
             }
            ],
            "label": "May",
            "method": "animate"
           },
           {
            "args": [
             [
              "Jun"
             ],
             {
              "frame": {
               "duration": 0,
               "redraw": true
              },
              "fromcurrent": true,
              "mode": "immediate",
              "transition": {
               "duration": 0,
               "easing": "linear"
              }
             }
            ],
            "label": "Jun",
            "method": "animate"
           },
           {
            "args": [
             [
              "Jul"
             ],
             {
              "frame": {
               "duration": 0,
               "redraw": true
              },
              "fromcurrent": true,
              "mode": "immediate",
              "transition": {
               "duration": 0,
               "easing": "linear"
              }
             }
            ],
            "label": "Jul",
            "method": "animate"
           },
           {
            "args": [
             [
              "Aug"
             ],
             {
              "frame": {
               "duration": 0,
               "redraw": true
              },
              "fromcurrent": true,
              "mode": "immediate",
              "transition": {
               "duration": 0,
               "easing": "linear"
              }
             }
            ],
            "label": "Aug",
            "method": "animate"
           },
           {
            "args": [
             [
              "Sep"
             ],
             {
              "frame": {
               "duration": 0,
               "redraw": true
              },
              "fromcurrent": true,
              "mode": "immediate",
              "transition": {
               "duration": 0,
               "easing": "linear"
              }
             }
            ],
            "label": "Sep",
            "method": "animate"
           },
           {
            "args": [
             [
              "Oct"
             ],
             {
              "frame": {
               "duration": 0,
               "redraw": true
              },
              "fromcurrent": true,
              "mode": "immediate",
              "transition": {
               "duration": 0,
               "easing": "linear"
              }
             }
            ],
            "label": "Oct",
            "method": "animate"
           }
          ],
          "x": 0.1,
          "xanchor": "left",
          "y": 0,
          "yanchor": "top"
         }
        ],
        "template": {
         "data": {
          "bar": [
           {
            "error_x": {
             "color": "#2a3f5f"
            },
            "error_y": {
             "color": "#2a3f5f"
            },
            "marker": {
             "line": {
              "color": "#E5ECF6",
              "width": 0.5
             },
             "pattern": {
              "fillmode": "overlay",
              "size": 10,
              "solidity": 0.2
             }
            },
            "type": "bar"
           }
          ],
          "barpolar": [
           {
            "marker": {
             "line": {
              "color": "#E5ECF6",
              "width": 0.5
             },
             "pattern": {
              "fillmode": "overlay",
              "size": 10,
              "solidity": 0.2
             }
            },
            "type": "barpolar"
           }
          ],
          "carpet": [
           {
            "aaxis": {
             "endlinecolor": "#2a3f5f",
             "gridcolor": "white",
             "linecolor": "white",
             "minorgridcolor": "white",
             "startlinecolor": "#2a3f5f"
            },
            "baxis": {
             "endlinecolor": "#2a3f5f",
             "gridcolor": "white",
             "linecolor": "white",
             "minorgridcolor": "white",
             "startlinecolor": "#2a3f5f"
            },
            "type": "carpet"
           }
          ],
          "choropleth": [
           {
            "colorbar": {
             "outlinewidth": 0,
             "ticks": ""
            },
            "type": "choropleth"
           }
          ],
          "contour": [
           {
            "colorbar": {
             "outlinewidth": 0,
             "ticks": ""
            },
            "colorscale": [
             [
              0,
              "#0d0887"
             ],
             [
              0.1111111111111111,
              "#46039f"
             ],
             [
              0.2222222222222222,
              "#7201a8"
             ],
             [
              0.3333333333333333,
              "#9c179e"
             ],
             [
              0.4444444444444444,
              "#bd3786"
             ],
             [
              0.5555555555555556,
              "#d8576b"
             ],
             [
              0.6666666666666666,
              "#ed7953"
             ],
             [
              0.7777777777777778,
              "#fb9f3a"
             ],
             [
              0.8888888888888888,
              "#fdca26"
             ],
             [
              1,
              "#f0f921"
             ]
            ],
            "type": "contour"
           }
          ],
          "contourcarpet": [
           {
            "colorbar": {
             "outlinewidth": 0,
             "ticks": ""
            },
            "type": "contourcarpet"
           }
          ],
          "heatmap": [
           {
            "colorbar": {
             "outlinewidth": 0,
             "ticks": ""
            },
            "colorscale": [
             [
              0,
              "#0d0887"
             ],
             [
              0.1111111111111111,
              "#46039f"
             ],
             [
              0.2222222222222222,
              "#7201a8"
             ],
             [
              0.3333333333333333,
              "#9c179e"
             ],
             [
              0.4444444444444444,
              "#bd3786"
             ],
             [
              0.5555555555555556,
              "#d8576b"
             ],
             [
              0.6666666666666666,
              "#ed7953"
             ],
             [
              0.7777777777777778,
              "#fb9f3a"
             ],
             [
              0.8888888888888888,
              "#fdca26"
             ],
             [
              1,
              "#f0f921"
             ]
            ],
            "type": "heatmap"
           }
          ],
          "heatmapgl": [
           {
            "colorbar": {
             "outlinewidth": 0,
             "ticks": ""
            },
            "colorscale": [
             [
              0,
              "#0d0887"
             ],
             [
              0.1111111111111111,
              "#46039f"
             ],
             [
              0.2222222222222222,
              "#7201a8"
             ],
             [
              0.3333333333333333,
              "#9c179e"
             ],
             [
              0.4444444444444444,
              "#bd3786"
             ],
             [
              0.5555555555555556,
              "#d8576b"
             ],
             [
              0.6666666666666666,
              "#ed7953"
             ],
             [
              0.7777777777777778,
              "#fb9f3a"
             ],
             [
              0.8888888888888888,
              "#fdca26"
             ],
             [
              1,
              "#f0f921"
             ]
            ],
            "type": "heatmapgl"
           }
          ],
          "histogram": [
           {
            "marker": {
             "pattern": {
              "fillmode": "overlay",
              "size": 10,
              "solidity": 0.2
             }
            },
            "type": "histogram"
           }
          ],
          "histogram2d": [
           {
            "colorbar": {
             "outlinewidth": 0,
             "ticks": ""
            },
            "colorscale": [
             [
              0,
              "#0d0887"
             ],
             [
              0.1111111111111111,
              "#46039f"
             ],
             [
              0.2222222222222222,
              "#7201a8"
             ],
             [
              0.3333333333333333,
              "#9c179e"
             ],
             [
              0.4444444444444444,
              "#bd3786"
             ],
             [
              0.5555555555555556,
              "#d8576b"
             ],
             [
              0.6666666666666666,
              "#ed7953"
             ],
             [
              0.7777777777777778,
              "#fb9f3a"
             ],
             [
              0.8888888888888888,
              "#fdca26"
             ],
             [
              1,
              "#f0f921"
             ]
            ],
            "type": "histogram2d"
           }
          ],
          "histogram2dcontour": [
           {
            "colorbar": {
             "outlinewidth": 0,
             "ticks": ""
            },
            "colorscale": [
             [
              0,
              "#0d0887"
             ],
             [
              0.1111111111111111,
              "#46039f"
             ],
             [
              0.2222222222222222,
              "#7201a8"
             ],
             [
              0.3333333333333333,
              "#9c179e"
             ],
             [
              0.4444444444444444,
              "#bd3786"
             ],
             [
              0.5555555555555556,
              "#d8576b"
             ],
             [
              0.6666666666666666,
              "#ed7953"
             ],
             [
              0.7777777777777778,
              "#fb9f3a"
             ],
             [
              0.8888888888888888,
              "#fdca26"
             ],
             [
              1,
              "#f0f921"
             ]
            ],
            "type": "histogram2dcontour"
           }
          ],
          "mesh3d": [
           {
            "colorbar": {
             "outlinewidth": 0,
             "ticks": ""
            },
            "type": "mesh3d"
           }
          ],
          "parcoords": [
           {
            "line": {
             "colorbar": {
              "outlinewidth": 0,
              "ticks": ""
             }
            },
            "type": "parcoords"
           }
          ],
          "pie": [
           {
            "automargin": true,
            "type": "pie"
           }
          ],
          "scatter": [
           {
            "fillpattern": {
             "fillmode": "overlay",
             "size": 10,
             "solidity": 0.2
            },
            "type": "scatter"
           }
          ],
          "scatter3d": [
           {
            "line": {
             "colorbar": {
              "outlinewidth": 0,
              "ticks": ""
             }
            },
            "marker": {
             "colorbar": {
              "outlinewidth": 0,
              "ticks": ""
             }
            },
            "type": "scatter3d"
           }
          ],
          "scattercarpet": [
           {
            "marker": {
             "colorbar": {
              "outlinewidth": 0,
              "ticks": ""
             }
            },
            "type": "scattercarpet"
           }
          ],
          "scattergeo": [
           {
            "marker": {
             "colorbar": {
              "outlinewidth": 0,
              "ticks": ""
             }
            },
            "type": "scattergeo"
           }
          ],
          "scattergl": [
           {
            "marker": {
             "colorbar": {
              "outlinewidth": 0,
              "ticks": ""
             }
            },
            "type": "scattergl"
           }
          ],
          "scattermapbox": [
           {
            "marker": {
             "colorbar": {
              "outlinewidth": 0,
              "ticks": ""
             }
            },
            "type": "scattermapbox"
           }
          ],
          "scatterpolar": [
           {
            "marker": {
             "colorbar": {
              "outlinewidth": 0,
              "ticks": ""
             }
            },
            "type": "scatterpolar"
           }
          ],
          "scatterpolargl": [
           {
            "marker": {
             "colorbar": {
              "outlinewidth": 0,
              "ticks": ""
             }
            },
            "type": "scatterpolargl"
           }
          ],
          "scatterternary": [
           {
            "marker": {
             "colorbar": {
              "outlinewidth": 0,
              "ticks": ""
             }
            },
            "type": "scatterternary"
           }
          ],
          "surface": [
           {
            "colorbar": {
             "outlinewidth": 0,
             "ticks": ""
            },
            "colorscale": [
             [
              0,
              "#0d0887"
             ],
             [
              0.1111111111111111,
              "#46039f"
             ],
             [
              0.2222222222222222,
              "#7201a8"
             ],
             [
              0.3333333333333333,
              "#9c179e"
             ],
             [
              0.4444444444444444,
              "#bd3786"
             ],
             [
              0.5555555555555556,
              "#d8576b"
             ],
             [
              0.6666666666666666,
              "#ed7953"
             ],
             [
              0.7777777777777778,
              "#fb9f3a"
             ],
             [
              0.8888888888888888,
              "#fdca26"
             ],
             [
              1,
              "#f0f921"
             ]
            ],
            "type": "surface"
           }
          ],
          "table": [
           {
            "cells": {
             "fill": {
              "color": "#EBF0F8"
             },
             "line": {
              "color": "white"
             }
            },
            "header": {
             "fill": {
              "color": "#C8D4E3"
             },
             "line": {
              "color": "white"
             }
            },
            "type": "table"
           }
          ]
         },
         "layout": {
          "annotationdefaults": {
           "arrowcolor": "#2a3f5f",
           "arrowhead": 0,
           "arrowwidth": 1
          },
          "autotypenumbers": "strict",
          "coloraxis": {
           "colorbar": {
            "outlinewidth": 0,
            "ticks": ""
           }
          },
          "colorscale": {
           "diverging": [
            [
             0,
             "#8e0152"
            ],
            [
             0.1,
             "#c51b7d"
            ],
            [
             0.2,
             "#de77ae"
            ],
            [
             0.3,
             "#f1b6da"
            ],
            [
             0.4,
             "#fde0ef"
            ],
            [
             0.5,
             "#f7f7f7"
            ],
            [
             0.6,
             "#e6f5d0"
            ],
            [
             0.7,
             "#b8e186"
            ],
            [
             0.8,
             "#7fbc41"
            ],
            [
             0.9,
             "#4d9221"
            ],
            [
             1,
             "#276419"
            ]
           ],
           "sequential": [
            [
             0,
             "#0d0887"
            ],
            [
             0.1111111111111111,
             "#46039f"
            ],
            [
             0.2222222222222222,
             "#7201a8"
            ],
            [
             0.3333333333333333,
             "#9c179e"
            ],
            [
             0.4444444444444444,
             "#bd3786"
            ],
            [
             0.5555555555555556,
             "#d8576b"
            ],
            [
             0.6666666666666666,
             "#ed7953"
            ],
            [
             0.7777777777777778,
             "#fb9f3a"
            ],
            [
             0.8888888888888888,
             "#fdca26"
            ],
            [
             1,
             "#f0f921"
            ]
           ],
           "sequentialminus": [
            [
             0,
             "#0d0887"
            ],
            [
             0.1111111111111111,
             "#46039f"
            ],
            [
             0.2222222222222222,
             "#7201a8"
            ],
            [
             0.3333333333333333,
             "#9c179e"
            ],
            [
             0.4444444444444444,
             "#bd3786"
            ],
            [
             0.5555555555555556,
             "#d8576b"
            ],
            [
             0.6666666666666666,
             "#ed7953"
            ],
            [
             0.7777777777777778,
             "#fb9f3a"
            ],
            [
             0.8888888888888888,
             "#fdca26"
            ],
            [
             1,
             "#f0f921"
            ]
           ]
          },
          "colorway": [
           "#636efa",
           "#EF553B",
           "#00cc96",
           "#ab63fa",
           "#FFA15A",
           "#19d3f3",
           "#FF6692",
           "#B6E880",
           "#FF97FF",
           "#FECB52"
          ],
          "font": {
           "color": "#2a3f5f"
          },
          "geo": {
           "bgcolor": "white",
           "lakecolor": "white",
           "landcolor": "#E5ECF6",
           "showlakes": true,
           "showland": true,
           "subunitcolor": "white"
          },
          "hoverlabel": {
           "align": "left"
          },
          "hovermode": "closest",
          "mapbox": {
           "style": "light"
          },
          "paper_bgcolor": "white",
          "plot_bgcolor": "#E5ECF6",
          "polar": {
           "angularaxis": {
            "gridcolor": "white",
            "linecolor": "white",
            "ticks": ""
           },
           "bgcolor": "#E5ECF6",
           "radialaxis": {
            "gridcolor": "white",
            "linecolor": "white",
            "ticks": ""
           }
          },
          "scene": {
           "xaxis": {
            "backgroundcolor": "#E5ECF6",
            "gridcolor": "white",
            "gridwidth": 2,
            "linecolor": "white",
            "showbackground": true,
            "ticks": "",
            "zerolinecolor": "white"
           },
           "yaxis": {
            "backgroundcolor": "#E5ECF6",
            "gridcolor": "white",
            "gridwidth": 2,
            "linecolor": "white",
            "showbackground": true,
            "ticks": "",
            "zerolinecolor": "white"
           },
           "zaxis": {
            "backgroundcolor": "#E5ECF6",
            "gridcolor": "white",
            "gridwidth": 2,
            "linecolor": "white",
            "showbackground": true,
            "ticks": "",
            "zerolinecolor": "white"
           }
          },
          "shapedefaults": {
           "line": {
            "color": "#2a3f5f"
           }
          },
          "ternary": {
           "aaxis": {
            "gridcolor": "white",
            "linecolor": "white",
            "ticks": ""
           },
           "baxis": {
            "gridcolor": "white",
            "linecolor": "white",
            "ticks": ""
           },
           "bgcolor": "#E5ECF6",
           "caxis": {
            "gridcolor": "white",
            "linecolor": "white",
            "ticks": ""
           }
          },
          "title": {
           "x": 0.05
          },
          "xaxis": {
           "automargin": true,
           "gridcolor": "white",
           "linecolor": "white",
           "ticks": "",
           "title": {
            "standoff": 15
           },
           "zerolinecolor": "white",
           "zerolinewidth": 2
          },
          "yaxis": {
           "automargin": true,
           "gridcolor": "white",
           "linecolor": "white",
           "ticks": "",
           "title": {
            "standoff": 15
           },
           "zerolinecolor": "white",
           "zerolinewidth": 2
          }
         }
        },
        "title": {
         "text": "Unemployment Rate per region from Jan .2020 to Oct 2020 "
        },
        "updatemenus": [
         {
          "active": 0,
          "buttons": [
           {
            "args": [
             null,
             {
              "frame": {
               "duration": 1000,
               "redraw": true
              },
              "fromcurrent": true,
              "mode": "immediate",
              "transition": {
               "duration": 500,
               "easing": "linear"
              }
             }
            ],
            "label": "&#9654;",
            "method": "animate"
           },
           {
            "args": [
             [
              null
             ],
             {
              "frame": {
               "duration": 0,
               "redraw": true
              },
              "fromcurrent": true,
              "mode": "immediate",
              "transition": {
               "duration": 0,
               "easing": "linear"
              }
             }
            ],
            "label": "&#9724;",
            "method": "animate"
           }
          ],
          "direction": "left",
          "pad": {
           "r": 10,
           "t": 70
          },
          "showactive": false,
          "type": "buttons",
          "x": 0.1,
          "xanchor": "right",
          "y": 0,
          "yanchor": "top"
         }
        ],
        "xaxis": {
         "anchor": "y",
         "autorange": true,
         "categoryorder": "total descending",
         "domain": [
          0,
          1
         ],
         "range": [
          -0.5,
          4.5
         ],
         "title": {
          "text": "Region"
         },
         "type": "category"
        },
        "yaxis": {
         "anchor": "x",
         "autorange": true,
         "domain": [
          0,
          1
         ],
         "range": [
          0,
          115.98947368421054
         ],
         "title": {
          "text": "Estimated Unemployment Rate"
         },
         "type": "linear"
        }
       }
      },
      "text/html": [
       "<div>                            <div id=\"6aee0ab8-a24e-405c-b033-c5eadf93b723\" class=\"plotly-graph-div\" style=\"height:600px; width:100%;\"></div>            <script type=\"text/javascript\">                require([\"plotly\"], function(Plotly) {                    window.PLOTLYENV=window.PLOTLYENV || {};                                    if (document.getElementById(\"6aee0ab8-a24e-405c-b033-c5eadf93b723\")) {                    Plotly.newPlot(                        \"6aee0ab8-a24e-405c-b033-c5eadf93b723\",                        [{\"alignmentgroup\":\"True\",\"hovertemplate\":\"States=Andhra Pradesh\\u003cbr\\u003eMonth_name=Jan\\u003cbr\\u003eRegion=%{x}\\u003cbr\\u003eEstimated Unemployment Rate=%{y}\\u003cextra\\u003e\\u003c\\u002fextra\\u003e\",\"legendgroup\":\"Andhra Pradesh\",\"marker\":{\"color\":\"#636efa\",\"pattern\":{\"shape\":\"\"}},\"name\":\"Andhra Pradesh\",\"offsetgroup\":\"Andhra Pradesh\",\"orientation\":\"v\",\"showlegend\":true,\"textposition\":\"auto\",\"x\":[\"South\"],\"xaxis\":\"x\",\"y\":[5.48],\"yaxis\":\"y\",\"type\":\"bar\"},{\"alignmentgroup\":\"True\",\"hovertemplate\":\"States=Assam\\u003cbr\\u003eMonth_name=Jan\\u003cbr\\u003eRegion=%{x}\\u003cbr\\u003eEstimated Unemployment Rate=%{y}\\u003cextra\\u003e\\u003c\\u002fextra\\u003e\",\"legendgroup\":\"Assam\",\"marker\":{\"color\":\"#EF553B\",\"pattern\":{\"shape\":\"\"}},\"name\":\"Assam\",\"offsetgroup\":\"Assam\",\"orientation\":\"v\",\"showlegend\":true,\"textposition\":\"auto\",\"x\":[\"Northeast\"],\"xaxis\":\"x\",\"y\":[4.66],\"yaxis\":\"y\",\"type\":\"bar\"},{\"alignmentgroup\":\"True\",\"hovertemplate\":\"States=Bihar\\u003cbr\\u003eMonth_name=Jan\\u003cbr\\u003eRegion=%{x}\\u003cbr\\u003eEstimated Unemployment Rate=%{y}\\u003cextra\\u003e\\u003c\\u002fextra\\u003e\",\"legendgroup\":\"Bihar\",\"marker\":{\"color\":\"#00cc96\",\"pattern\":{\"shape\":\"\"}},\"name\":\"Bihar\",\"offsetgroup\":\"Bihar\",\"orientation\":\"v\",\"showlegend\":true,\"textposition\":\"auto\",\"x\":[\"East\"],\"xaxis\":\"x\",\"y\":[10.61],\"yaxis\":\"y\",\"type\":\"bar\"},{\"alignmentgroup\":\"True\",\"hovertemplate\":\"States=Chhattisgarh\\u003cbr\\u003eMonth_name=Jan\\u003cbr\\u003eRegion=%{x}\\u003cbr\\u003eEstimated Unemployment Rate=%{y}\\u003cextra\\u003e\\u003c\\u002fextra\\u003e\",\"legendgroup\":\"Chhattisgarh\",\"marker\":{\"color\":\"#ab63fa\",\"pattern\":{\"shape\":\"\"}},\"name\":\"Chhattisgarh\",\"offsetgroup\":\"Chhattisgarh\",\"orientation\":\"v\",\"showlegend\":true,\"textposition\":\"auto\",\"x\":[\"West\"],\"xaxis\":\"x\",\"y\":[9.65],\"yaxis\":\"y\",\"type\":\"bar\"},{\"alignmentgroup\":\"True\",\"hovertemplate\":\"States=Delhi\\u003cbr\\u003eMonth_name=Jan\\u003cbr\\u003eRegion=%{x}\\u003cbr\\u003eEstimated Unemployment Rate=%{y}\\u003cextra\\u003e\\u003c\\u002fextra\\u003e\",\"legendgroup\":\"Delhi\",\"marker\":{\"color\":\"#FFA15A\",\"pattern\":{\"shape\":\"\"}},\"name\":\"Delhi\",\"offsetgroup\":\"Delhi\",\"orientation\":\"v\",\"showlegend\":true,\"textposition\":\"auto\",\"x\":[\"North\"],\"xaxis\":\"x\",\"y\":[22.23],\"yaxis\":\"y\",\"type\":\"bar\"},{\"alignmentgroup\":\"True\",\"hovertemplate\":\"States=Goa\\u003cbr\\u003eMonth_name=Jan\\u003cbr\\u003eRegion=%{x}\\u003cbr\\u003eEstimated Unemployment Rate=%{y}\\u003cextra\\u003e\\u003c\\u002fextra\\u003e\",\"legendgroup\":\"Goa\",\"marker\":{\"color\":\"#19d3f3\",\"pattern\":{\"shape\":\"\"}},\"name\":\"Goa\",\"offsetgroup\":\"Goa\",\"orientation\":\"v\",\"showlegend\":true,\"textposition\":\"auto\",\"x\":[\"West\"],\"xaxis\":\"x\",\"y\":[8.89],\"yaxis\":\"y\",\"type\":\"bar\"},{\"alignmentgroup\":\"True\",\"hovertemplate\":\"States=Gujarat\\u003cbr\\u003eMonth_name=Jan\\u003cbr\\u003eRegion=%{x}\\u003cbr\\u003eEstimated Unemployment Rate=%{y}\\u003cextra\\u003e\\u003c\\u002fextra\\u003e\",\"legendgroup\":\"Gujarat\",\"marker\":{\"color\":\"#FF6692\",\"pattern\":{\"shape\":\"\"}},\"name\":\"Gujarat\",\"offsetgroup\":\"Gujarat\",\"orientation\":\"v\",\"showlegend\":true,\"textposition\":\"auto\",\"x\":[\"West\"],\"xaxis\":\"x\",\"y\":[5.54],\"yaxis\":\"y\",\"type\":\"bar\"},{\"alignmentgroup\":\"True\",\"hovertemplate\":\"States=Haryana\\u003cbr\\u003eMonth_name=Jan\\u003cbr\\u003eRegion=%{x}\\u003cbr\\u003eEstimated Unemployment Rate=%{y}\\u003cextra\\u003e\\u003c\\u002fextra\\u003e\",\"legendgroup\":\"Haryana\",\"marker\":{\"color\":\"#B6E880\",\"pattern\":{\"shape\":\"\"}},\"name\":\"Haryana\",\"offsetgroup\":\"Haryana\",\"orientation\":\"v\",\"showlegend\":true,\"textposition\":\"auto\",\"x\":[\"North\"],\"xaxis\":\"x\",\"y\":[20.34],\"yaxis\":\"y\",\"type\":\"bar\"},{\"alignmentgroup\":\"True\",\"hovertemplate\":\"States=Himachal Pradesh\\u003cbr\\u003eMonth_name=Jan\\u003cbr\\u003eRegion=%{x}\\u003cbr\\u003eEstimated Unemployment Rate=%{y}\\u003cextra\\u003e\\u003c\\u002fextra\\u003e\",\"legendgroup\":\"Himachal Pradesh\",\"marker\":{\"color\":\"#FF97FF\",\"pattern\":{\"shape\":\"\"}},\"name\":\"Himachal Pradesh\",\"offsetgroup\":\"Himachal Pradesh\",\"orientation\":\"v\",\"showlegend\":true,\"textposition\":\"auto\",\"x\":[\"North\"],\"xaxis\":\"x\",\"y\":[16.83],\"yaxis\":\"y\",\"type\":\"bar\"},{\"alignmentgroup\":\"True\",\"hovertemplate\":\"States=Jammu & Kashmir\\u003cbr\\u003eMonth_name=Jan\\u003cbr\\u003eRegion=%{x}\\u003cbr\\u003eEstimated Unemployment Rate=%{y}\\u003cextra\\u003e\\u003c\\u002fextra\\u003e\",\"legendgroup\":\"Jammu & Kashmir\",\"marker\":{\"color\":\"#FECB52\",\"pattern\":{\"shape\":\"\"}},\"name\":\"Jammu & Kashmir\",\"offsetgroup\":\"Jammu & Kashmir\",\"orientation\":\"v\",\"showlegend\":true,\"textposition\":\"auto\",\"x\":[\"North\"],\"xaxis\":\"x\",\"y\":[21.08],\"yaxis\":\"y\",\"type\":\"bar\"},{\"alignmentgroup\":\"True\",\"hovertemplate\":\"States=Jharkhand\\u003cbr\\u003eMonth_name=Jan\\u003cbr\\u003eRegion=%{x}\\u003cbr\\u003eEstimated Unemployment Rate=%{y}\\u003cextra\\u003e\\u003c\\u002fextra\\u003e\",\"legendgroup\":\"Jharkhand\",\"marker\":{\"color\":\"#636efa\",\"pattern\":{\"shape\":\"\"}},\"name\":\"Jharkhand\",\"offsetgroup\":\"Jharkhand\",\"orientation\":\"v\",\"showlegend\":true,\"textposition\":\"auto\",\"x\":[\"East\"],\"xaxis\":\"x\",\"y\":[10.61],\"yaxis\":\"y\",\"type\":\"bar\"},{\"alignmentgroup\":\"True\",\"hovertemplate\":\"States=Karnataka\\u003cbr\\u003eMonth_name=Jan\\u003cbr\\u003eRegion=%{x}\\u003cbr\\u003eEstimated Unemployment Rate=%{y}\\u003cextra\\u003e\\u003c\\u002fextra\\u003e\",\"legendgroup\":\"Karnataka\",\"marker\":{\"color\":\"#EF553B\",\"pattern\":{\"shape\":\"\"}},\"name\":\"Karnataka\",\"offsetgroup\":\"Karnataka\",\"orientation\":\"v\",\"showlegend\":true,\"textposition\":\"auto\",\"x\":[\"South\"],\"xaxis\":\"x\",\"y\":[2.86],\"yaxis\":\"y\",\"type\":\"bar\"},{\"alignmentgroup\":\"True\",\"hovertemplate\":\"States=Kerala\\u003cbr\\u003eMonth_name=Jan\\u003cbr\\u003eRegion=%{x}\\u003cbr\\u003eEstimated Unemployment Rate=%{y}\\u003cextra\\u003e\\u003c\\u002fextra\\u003e\",\"legendgroup\":\"Kerala\",\"marker\":{\"color\":\"#00cc96\",\"pattern\":{\"shape\":\"\"}},\"name\":\"Kerala\",\"offsetgroup\":\"Kerala\",\"orientation\":\"v\",\"showlegend\":true,\"textposition\":\"auto\",\"x\":[\"South\"],\"xaxis\":\"x\",\"y\":[5.31],\"yaxis\":\"y\",\"type\":\"bar\"},{\"alignmentgroup\":\"True\",\"hovertemplate\":\"States=Madhya Pradesh\\u003cbr\\u003eMonth_name=Jan\\u003cbr\\u003eRegion=%{x}\\u003cbr\\u003eEstimated Unemployment Rate=%{y}\\u003cextra\\u003e\\u003c\\u002fextra\\u003e\",\"legendgroup\":\"Madhya Pradesh\",\"marker\":{\"color\":\"#ab63fa\",\"pattern\":{\"shape\":\"\"}},\"name\":\"Madhya Pradesh\",\"offsetgroup\":\"Madhya Pradesh\",\"orientation\":\"v\",\"showlegend\":true,\"textposition\":\"auto\",\"x\":[\"West\"],\"xaxis\":\"x\",\"y\":[4.11],\"yaxis\":\"y\",\"type\":\"bar\"},{\"alignmentgroup\":\"True\",\"hovertemplate\":\"States=Maharashtra\\u003cbr\\u003eMonth_name=Jan\\u003cbr\\u003eRegion=%{x}\\u003cbr\\u003eEstimated Unemployment Rate=%{y}\\u003cextra\\u003e\\u003c\\u002fextra\\u003e\",\"legendgroup\":\"Maharashtra\",\"marker\":{\"color\":\"#FFA15A\",\"pattern\":{\"shape\":\"\"}},\"name\":\"Maharashtra\",\"offsetgroup\":\"Maharashtra\",\"orientation\":\"v\",\"showlegend\":true,\"textposition\":\"auto\",\"x\":[\"West\"],\"xaxis\":\"x\",\"y\":[4.95],\"yaxis\":\"y\",\"type\":\"bar\"},{\"alignmentgroup\":\"True\",\"hovertemplate\":\"States=Meghalaya\\u003cbr\\u003eMonth_name=Jan\\u003cbr\\u003eRegion=%{x}\\u003cbr\\u003eEstimated Unemployment Rate=%{y}\\u003cextra\\u003e\\u003c\\u002fextra\\u003e\",\"legendgroup\":\"Meghalaya\",\"marker\":{\"color\":\"#19d3f3\",\"pattern\":{\"shape\":\"\"}},\"name\":\"Meghalaya\",\"offsetgroup\":\"Meghalaya\",\"orientation\":\"v\",\"showlegend\":true,\"textposition\":\"auto\",\"x\":[\"Northeast\"],\"xaxis\":\"x\",\"y\":[1.66],\"yaxis\":\"y\",\"type\":\"bar\"},{\"alignmentgroup\":\"True\",\"hovertemplate\":\"States=Odisha\\u003cbr\\u003eMonth_name=Jan\\u003cbr\\u003eRegion=%{x}\\u003cbr\\u003eEstimated Unemployment Rate=%{y}\\u003cextra\\u003e\\u003c\\u002fextra\\u003e\",\"legendgroup\":\"Odisha\",\"marker\":{\"color\":\"#FF6692\",\"pattern\":{\"shape\":\"\"}},\"name\":\"Odisha\",\"offsetgroup\":\"Odisha\",\"orientation\":\"v\",\"showlegend\":true,\"textposition\":\"auto\",\"x\":[\"East\"],\"xaxis\":\"x\",\"y\":[1.9],\"yaxis\":\"y\",\"type\":\"bar\"},{\"alignmentgroup\":\"True\",\"hovertemplate\":\"States=Puducherry\\u003cbr\\u003eMonth_name=Jan\\u003cbr\\u003eRegion=%{x}\\u003cbr\\u003eEstimated Unemployment Rate=%{y}\\u003cextra\\u003e\\u003c\\u002fextra\\u003e\",\"legendgroup\":\"Puducherry\",\"marker\":{\"color\":\"#B6E880\",\"pattern\":{\"shape\":\"\"}},\"name\":\"Puducherry\",\"offsetgroup\":\"Puducherry\",\"orientation\":\"v\",\"showlegend\":true,\"textposition\":\"auto\",\"x\":[\"South\"],\"xaxis\":\"x\",\"y\":[0.58],\"yaxis\":\"y\",\"type\":\"bar\"},{\"alignmentgroup\":\"True\",\"hovertemplate\":\"States=Punjab\\u003cbr\\u003eMonth_name=Jan\\u003cbr\\u003eRegion=%{x}\\u003cbr\\u003eEstimated Unemployment Rate=%{y}\\u003cextra\\u003e\\u003c\\u002fextra\\u003e\",\"legendgroup\":\"Punjab\",\"marker\":{\"color\":\"#FF97FF\",\"pattern\":{\"shape\":\"\"}},\"name\":\"Punjab\",\"offsetgroup\":\"Punjab\",\"orientation\":\"v\",\"showlegend\":true,\"textposition\":\"auto\",\"x\":[\"North\"],\"xaxis\":\"x\",\"y\":[11.11],\"yaxis\":\"y\",\"type\":\"bar\"},{\"alignmentgroup\":\"True\",\"hovertemplate\":\"States=Rajasthan\\u003cbr\\u003eMonth_name=Jan\\u003cbr\\u003eRegion=%{x}\\u003cbr\\u003eEstimated Unemployment Rate=%{y}\\u003cextra\\u003e\\u003c\\u002fextra\\u003e\",\"legendgroup\":\"Rajasthan\",\"marker\":{\"color\":\"#FECB52\",\"pattern\":{\"shape\":\"\"}},\"name\":\"Rajasthan\",\"offsetgroup\":\"Rajasthan\",\"orientation\":\"v\",\"showlegend\":true,\"textposition\":\"auto\",\"x\":[\"North\"],\"xaxis\":\"x\",\"y\":[10.97],\"yaxis\":\"y\",\"type\":\"bar\"},{\"alignmentgroup\":\"True\",\"hovertemplate\":\"States=Tamil Nadu\\u003cbr\\u003eMonth_name=Jan\\u003cbr\\u003eRegion=%{x}\\u003cbr\\u003eEstimated Unemployment Rate=%{y}\\u003cextra\\u003e\\u003c\\u002fextra\\u003e\",\"legendgroup\":\"Tamil Nadu\",\"marker\":{\"color\":\"#EF553B\",\"pattern\":{\"shape\":\"\"}},\"name\":\"Tamil Nadu\",\"offsetgroup\":\"Tamil Nadu\",\"orientation\":\"v\",\"showlegend\":true,\"textposition\":\"auto\",\"x\":[\"South\"],\"xaxis\":\"x\",\"y\":[1.57],\"yaxis\":\"y\",\"type\":\"bar\"},{\"alignmentgroup\":\"True\",\"hovertemplate\":\"States=Telangana\\u003cbr\\u003eMonth_name=Jan\\u003cbr\\u003eRegion=%{x}\\u003cbr\\u003eEstimated Unemployment Rate=%{y}\\u003cextra\\u003e\\u003c\\u002fextra\\u003e\",\"legendgroup\":\"Telangana\",\"marker\":{\"color\":\"#00cc96\",\"pattern\":{\"shape\":\"\"}},\"name\":\"Telangana\",\"offsetgroup\":\"Telangana\",\"orientation\":\"v\",\"showlegend\":true,\"textposition\":\"auto\",\"x\":[\"South\"],\"xaxis\":\"x\",\"y\":[5.49],\"yaxis\":\"y\",\"type\":\"bar\"},{\"alignmentgroup\":\"True\",\"hovertemplate\":\"States=Tripura\\u003cbr\\u003eMonth_name=Jan\\u003cbr\\u003eRegion=%{x}\\u003cbr\\u003eEstimated Unemployment Rate=%{y}\\u003cextra\\u003e\\u003c\\u002fextra\\u003e\",\"legendgroup\":\"Tripura\",\"marker\":{\"color\":\"#ab63fa\",\"pattern\":{\"shape\":\"\"}},\"name\":\"Tripura\",\"offsetgroup\":\"Tripura\",\"orientation\":\"v\",\"showlegend\":true,\"textposition\":\"auto\",\"x\":[\"Northeast\"],\"xaxis\":\"x\",\"y\":[32.67],\"yaxis\":\"y\",\"type\":\"bar\"},{\"alignmentgroup\":\"True\",\"hovertemplate\":\"States=Uttar Pradesh\\u003cbr\\u003eMonth_name=Jan\\u003cbr\\u003eRegion=%{x}\\u003cbr\\u003eEstimated Unemployment Rate=%{y}\\u003cextra\\u003e\\u003c\\u002fextra\\u003e\",\"legendgroup\":\"Uttar Pradesh\",\"marker\":{\"color\":\"#FFA15A\",\"pattern\":{\"shape\":\"\"}},\"name\":\"Uttar Pradesh\",\"offsetgroup\":\"Uttar Pradesh\",\"orientation\":\"v\",\"showlegend\":true,\"textposition\":\"auto\",\"x\":[\"North\"],\"xaxis\":\"x\",\"y\":[7.58],\"yaxis\":\"y\",\"type\":\"bar\"},{\"alignmentgroup\":\"True\",\"hovertemplate\":\"States=Uttarakhand\\u003cbr\\u003eMonth_name=Jan\\u003cbr\\u003eRegion=%{x}\\u003cbr\\u003eEstimated Unemployment Rate=%{y}\\u003cextra\\u003e\\u003c\\u002fextra\\u003e\",\"legendgroup\":\"Uttarakhand\",\"marker\":{\"color\":\"#19d3f3\",\"pattern\":{\"shape\":\"\"}},\"name\":\"Uttarakhand\",\"offsetgroup\":\"Uttarakhand\",\"orientation\":\"v\",\"showlegend\":true,\"textposition\":\"auto\",\"x\":[\"North\"],\"xaxis\":\"x\",\"y\":[5.49],\"yaxis\":\"y\",\"type\":\"bar\"},{\"alignmentgroup\":\"True\",\"hovertemplate\":\"States=West Bengal\\u003cbr\\u003eMonth_name=Jan\\u003cbr\\u003eRegion=%{x}\\u003cbr\\u003eEstimated Unemployment Rate=%{y}\\u003cextra\\u003e\\u003c\\u002fextra\\u003e\",\"legendgroup\":\"West Bengal\",\"marker\":{\"color\":\"#FF6692\",\"pattern\":{\"shape\":\"\"}},\"name\":\"West Bengal\",\"offsetgroup\":\"West Bengal\",\"orientation\":\"v\",\"showlegend\":true,\"textposition\":\"auto\",\"x\":[\"East\"],\"xaxis\":\"x\",\"y\":[6.94],\"yaxis\":\"y\",\"type\":\"bar\"}],                        {\"template\":{\"data\":{\"histogram2dcontour\":[{\"type\":\"histogram2dcontour\",\"colorbar\":{\"outlinewidth\":0,\"ticks\":\"\"},\"colorscale\":[[0.0,\"#0d0887\"],[0.1111111111111111,\"#46039f\"],[0.2222222222222222,\"#7201a8\"],[0.3333333333333333,\"#9c179e\"],[0.4444444444444444,\"#bd3786\"],[0.5555555555555556,\"#d8576b\"],[0.6666666666666666,\"#ed7953\"],[0.7777777777777778,\"#fb9f3a\"],[0.8888888888888888,\"#fdca26\"],[1.0,\"#f0f921\"]]}],\"choropleth\":[{\"type\":\"choropleth\",\"colorbar\":{\"outlinewidth\":0,\"ticks\":\"\"}}],\"histogram2d\":[{\"type\":\"histogram2d\",\"colorbar\":{\"outlinewidth\":0,\"ticks\":\"\"},\"colorscale\":[[0.0,\"#0d0887\"],[0.1111111111111111,\"#46039f\"],[0.2222222222222222,\"#7201a8\"],[0.3333333333333333,\"#9c179e\"],[0.4444444444444444,\"#bd3786\"],[0.5555555555555556,\"#d8576b\"],[0.6666666666666666,\"#ed7953\"],[0.7777777777777778,\"#fb9f3a\"],[0.8888888888888888,\"#fdca26\"],[1.0,\"#f0f921\"]]}],\"heatmap\":[{\"type\":\"heatmap\",\"colorbar\":{\"outlinewidth\":0,\"ticks\":\"\"},\"colorscale\":[[0.0,\"#0d0887\"],[0.1111111111111111,\"#46039f\"],[0.2222222222222222,\"#7201a8\"],[0.3333333333333333,\"#9c179e\"],[0.4444444444444444,\"#bd3786\"],[0.5555555555555556,\"#d8576b\"],[0.6666666666666666,\"#ed7953\"],[0.7777777777777778,\"#fb9f3a\"],[0.8888888888888888,\"#fdca26\"],[1.0,\"#f0f921\"]]}],\"heatmapgl\":[{\"type\":\"heatmapgl\",\"colorbar\":{\"outlinewidth\":0,\"ticks\":\"\"},\"colorscale\":[[0.0,\"#0d0887\"],[0.1111111111111111,\"#46039f\"],[0.2222222222222222,\"#7201a8\"],[0.3333333333333333,\"#9c179e\"],[0.4444444444444444,\"#bd3786\"],[0.5555555555555556,\"#d8576b\"],[0.6666666666666666,\"#ed7953\"],[0.7777777777777778,\"#fb9f3a\"],[0.8888888888888888,\"#fdca26\"],[1.0,\"#f0f921\"]]}],\"contourcarpet\":[{\"type\":\"contourcarpet\",\"colorbar\":{\"outlinewidth\":0,\"ticks\":\"\"}}],\"contour\":[{\"type\":\"contour\",\"colorbar\":{\"outlinewidth\":0,\"ticks\":\"\"},\"colorscale\":[[0.0,\"#0d0887\"],[0.1111111111111111,\"#46039f\"],[0.2222222222222222,\"#7201a8\"],[0.3333333333333333,\"#9c179e\"],[0.4444444444444444,\"#bd3786\"],[0.5555555555555556,\"#d8576b\"],[0.6666666666666666,\"#ed7953\"],[0.7777777777777778,\"#fb9f3a\"],[0.8888888888888888,\"#fdca26\"],[1.0,\"#f0f921\"]]}],\"surface\":[{\"type\":\"surface\",\"colorbar\":{\"outlinewidth\":0,\"ticks\":\"\"},\"colorscale\":[[0.0,\"#0d0887\"],[0.1111111111111111,\"#46039f\"],[0.2222222222222222,\"#7201a8\"],[0.3333333333333333,\"#9c179e\"],[0.4444444444444444,\"#bd3786\"],[0.5555555555555556,\"#d8576b\"],[0.6666666666666666,\"#ed7953\"],[0.7777777777777778,\"#fb9f3a\"],[0.8888888888888888,\"#fdca26\"],[1.0,\"#f0f921\"]]}],\"mesh3d\":[{\"type\":\"mesh3d\",\"colorbar\":{\"outlinewidth\":0,\"ticks\":\"\"}}],\"scatter\":[{\"fillpattern\":{\"fillmode\":\"overlay\",\"size\":10,\"solidity\":0.2},\"type\":\"scatter\"}],\"parcoords\":[{\"type\":\"parcoords\",\"line\":{\"colorbar\":{\"outlinewidth\":0,\"ticks\":\"\"}}}],\"scatterpolargl\":[{\"type\":\"scatterpolargl\",\"marker\":{\"colorbar\":{\"outlinewidth\":0,\"ticks\":\"\"}}}],\"bar\":[{\"error_x\":{\"color\":\"#2a3f5f\"},\"error_y\":{\"color\":\"#2a3f5f\"},\"marker\":{\"line\":{\"color\":\"#E5ECF6\",\"width\":0.5},\"pattern\":{\"fillmode\":\"overlay\",\"size\":10,\"solidity\":0.2}},\"type\":\"bar\"}],\"scattergeo\":[{\"type\":\"scattergeo\",\"marker\":{\"colorbar\":{\"outlinewidth\":0,\"ticks\":\"\"}}}],\"scatterpolar\":[{\"type\":\"scatterpolar\",\"marker\":{\"colorbar\":{\"outlinewidth\":0,\"ticks\":\"\"}}}],\"histogram\":[{\"marker\":{\"pattern\":{\"fillmode\":\"overlay\",\"size\":10,\"solidity\":0.2}},\"type\":\"histogram\"}],\"scattergl\":[{\"type\":\"scattergl\",\"marker\":{\"colorbar\":{\"outlinewidth\":0,\"ticks\":\"\"}}}],\"scatter3d\":[{\"type\":\"scatter3d\",\"line\":{\"colorbar\":{\"outlinewidth\":0,\"ticks\":\"\"}},\"marker\":{\"colorbar\":{\"outlinewidth\":0,\"ticks\":\"\"}}}],\"scattermapbox\":[{\"type\":\"scattermapbox\",\"marker\":{\"colorbar\":{\"outlinewidth\":0,\"ticks\":\"\"}}}],\"scatterternary\":[{\"type\":\"scatterternary\",\"marker\":{\"colorbar\":{\"outlinewidth\":0,\"ticks\":\"\"}}}],\"scattercarpet\":[{\"type\":\"scattercarpet\",\"marker\":{\"colorbar\":{\"outlinewidth\":0,\"ticks\":\"\"}}}],\"carpet\":[{\"aaxis\":{\"endlinecolor\":\"#2a3f5f\",\"gridcolor\":\"white\",\"linecolor\":\"white\",\"minorgridcolor\":\"white\",\"startlinecolor\":\"#2a3f5f\"},\"baxis\":{\"endlinecolor\":\"#2a3f5f\",\"gridcolor\":\"white\",\"linecolor\":\"white\",\"minorgridcolor\":\"white\",\"startlinecolor\":\"#2a3f5f\"},\"type\":\"carpet\"}],\"table\":[{\"cells\":{\"fill\":{\"color\":\"#EBF0F8\"},\"line\":{\"color\":\"white\"}},\"header\":{\"fill\":{\"color\":\"#C8D4E3\"},\"line\":{\"color\":\"white\"}},\"type\":\"table\"}],\"barpolar\":[{\"marker\":{\"line\":{\"color\":\"#E5ECF6\",\"width\":0.5},\"pattern\":{\"fillmode\":\"overlay\",\"size\":10,\"solidity\":0.2}},\"type\":\"barpolar\"}],\"pie\":[{\"automargin\":true,\"type\":\"pie\"}]},\"layout\":{\"autotypenumbers\":\"strict\",\"colorway\":[\"#636efa\",\"#EF553B\",\"#00cc96\",\"#ab63fa\",\"#FFA15A\",\"#19d3f3\",\"#FF6692\",\"#B6E880\",\"#FF97FF\",\"#FECB52\"],\"font\":{\"color\":\"#2a3f5f\"},\"hovermode\":\"closest\",\"hoverlabel\":{\"align\":\"left\"},\"paper_bgcolor\":\"white\",\"plot_bgcolor\":\"#E5ECF6\",\"polar\":{\"bgcolor\":\"#E5ECF6\",\"angularaxis\":{\"gridcolor\":\"white\",\"linecolor\":\"white\",\"ticks\":\"\"},\"radialaxis\":{\"gridcolor\":\"white\",\"linecolor\":\"white\",\"ticks\":\"\"}},\"ternary\":{\"bgcolor\":\"#E5ECF6\",\"aaxis\":{\"gridcolor\":\"white\",\"linecolor\":\"white\",\"ticks\":\"\"},\"baxis\":{\"gridcolor\":\"white\",\"linecolor\":\"white\",\"ticks\":\"\"},\"caxis\":{\"gridcolor\":\"white\",\"linecolor\":\"white\",\"ticks\":\"\"}},\"coloraxis\":{\"colorbar\":{\"outlinewidth\":0,\"ticks\":\"\"}},\"colorscale\":{\"sequential\":[[0.0,\"#0d0887\"],[0.1111111111111111,\"#46039f\"],[0.2222222222222222,\"#7201a8\"],[0.3333333333333333,\"#9c179e\"],[0.4444444444444444,\"#bd3786\"],[0.5555555555555556,\"#d8576b\"],[0.6666666666666666,\"#ed7953\"],[0.7777777777777778,\"#fb9f3a\"],[0.8888888888888888,\"#fdca26\"],[1.0,\"#f0f921\"]],\"sequentialminus\":[[0.0,\"#0d0887\"],[0.1111111111111111,\"#46039f\"],[0.2222222222222222,\"#7201a8\"],[0.3333333333333333,\"#9c179e\"],[0.4444444444444444,\"#bd3786\"],[0.5555555555555556,\"#d8576b\"],[0.6666666666666666,\"#ed7953\"],[0.7777777777777778,\"#fb9f3a\"],[0.8888888888888888,\"#fdca26\"],[1.0,\"#f0f921\"]],\"diverging\":[[0,\"#8e0152\"],[0.1,\"#c51b7d\"],[0.2,\"#de77ae\"],[0.3,\"#f1b6da\"],[0.4,\"#fde0ef\"],[0.5,\"#f7f7f7\"],[0.6,\"#e6f5d0\"],[0.7,\"#b8e186\"],[0.8,\"#7fbc41\"],[0.9,\"#4d9221\"],[1,\"#276419\"]]},\"xaxis\":{\"gridcolor\":\"white\",\"linecolor\":\"white\",\"ticks\":\"\",\"title\":{\"standoff\":15},\"zerolinecolor\":\"white\",\"automargin\":true,\"zerolinewidth\":2},\"yaxis\":{\"gridcolor\":\"white\",\"linecolor\":\"white\",\"ticks\":\"\",\"title\":{\"standoff\":15},\"zerolinecolor\":\"white\",\"automargin\":true,\"zerolinewidth\":2},\"scene\":{\"xaxis\":{\"backgroundcolor\":\"#E5ECF6\",\"gridcolor\":\"white\",\"linecolor\":\"white\",\"showbackground\":true,\"ticks\":\"\",\"zerolinecolor\":\"white\",\"gridwidth\":2},\"yaxis\":{\"backgroundcolor\":\"#E5ECF6\",\"gridcolor\":\"white\",\"linecolor\":\"white\",\"showbackground\":true,\"ticks\":\"\",\"zerolinecolor\":\"white\",\"gridwidth\":2},\"zaxis\":{\"backgroundcolor\":\"#E5ECF6\",\"gridcolor\":\"white\",\"linecolor\":\"white\",\"showbackground\":true,\"ticks\":\"\",\"zerolinecolor\":\"white\",\"gridwidth\":2}},\"shapedefaults\":{\"line\":{\"color\":\"#2a3f5f\"}},\"annotationdefaults\":{\"arrowcolor\":\"#2a3f5f\",\"arrowhead\":0,\"arrowwidth\":1},\"geo\":{\"bgcolor\":\"white\",\"landcolor\":\"#E5ECF6\",\"subunitcolor\":\"white\",\"showland\":true,\"showlakes\":true,\"lakecolor\":\"white\"},\"title\":{\"x\":0.05},\"mapbox\":{\"style\":\"light\"}}},\"xaxis\":{\"anchor\":\"y\",\"domain\":[0.0,1.0],\"title\":{\"text\":\"Region\"},\"categoryorder\":\"total descending\"},\"yaxis\":{\"anchor\":\"x\",\"domain\":[0.0,1.0],\"title\":{\"text\":\"Estimated Unemployment Rate\"}},\"legend\":{\"title\":{\"text\":\"States\"},\"tracegroupgap\":0},\"title\":{\"text\":\"Unemployment Rate per region from Jan .2020 to Oct 2020 \"},\"barmode\":\"relative\",\"height\":600,\"updatemenus\":[{\"buttons\":[{\"args\":[null,{\"frame\":{\"duration\":1000,\"redraw\":true},\"mode\":\"immediate\",\"fromcurrent\":true,\"transition\":{\"duration\":500,\"easing\":\"linear\"}}],\"label\":\"&#9654;\",\"method\":\"animate\"},{\"args\":[[null],{\"frame\":{\"duration\":0,\"redraw\":true},\"mode\":\"immediate\",\"fromcurrent\":true,\"transition\":{\"duration\":0,\"easing\":\"linear\"}}],\"label\":\"&#9724;\",\"method\":\"animate\"}],\"direction\":\"left\",\"pad\":{\"r\":10,\"t\":70},\"showactive\":false,\"type\":\"buttons\",\"x\":0.1,\"xanchor\":\"right\",\"y\":0,\"yanchor\":\"top\"}],\"sliders\":[{\"active\":0,\"currentvalue\":{\"prefix\":\"Month_name=\"},\"len\":0.9,\"pad\":{\"b\":10,\"t\":60},\"steps\":[{\"args\":[[\"Jan\"],{\"frame\":{\"duration\":0,\"redraw\":true},\"mode\":\"immediate\",\"fromcurrent\":true,\"transition\":{\"duration\":0,\"easing\":\"linear\"}}],\"label\":\"Jan\",\"method\":\"animate\"},{\"args\":[[\"Feb\"],{\"frame\":{\"duration\":0,\"redraw\":true},\"mode\":\"immediate\",\"fromcurrent\":true,\"transition\":{\"duration\":0,\"easing\":\"linear\"}}],\"label\":\"Feb\",\"method\":\"animate\"},{\"args\":[[\"Mar\"],{\"frame\":{\"duration\":0,\"redraw\":true},\"mode\":\"immediate\",\"fromcurrent\":true,\"transition\":{\"duration\":0,\"easing\":\"linear\"}}],\"label\":\"Mar\",\"method\":\"animate\"},{\"args\":[[\"Apr\"],{\"frame\":{\"duration\":0,\"redraw\":true},\"mode\":\"immediate\",\"fromcurrent\":true,\"transition\":{\"duration\":0,\"easing\":\"linear\"}}],\"label\":\"Apr\",\"method\":\"animate\"},{\"args\":[[\"May\"],{\"frame\":{\"duration\":0,\"redraw\":true},\"mode\":\"immediate\",\"fromcurrent\":true,\"transition\":{\"duration\":0,\"easing\":\"linear\"}}],\"label\":\"May\",\"method\":\"animate\"},{\"args\":[[\"Jun\"],{\"frame\":{\"duration\":0,\"redraw\":true},\"mode\":\"immediate\",\"fromcurrent\":true,\"transition\":{\"duration\":0,\"easing\":\"linear\"}}],\"label\":\"Jun\",\"method\":\"animate\"},{\"args\":[[\"Jul\"],{\"frame\":{\"duration\":0,\"redraw\":true},\"mode\":\"immediate\",\"fromcurrent\":true,\"transition\":{\"duration\":0,\"easing\":\"linear\"}}],\"label\":\"Jul\",\"method\":\"animate\"},{\"args\":[[\"Aug\"],{\"frame\":{\"duration\":0,\"redraw\":true},\"mode\":\"immediate\",\"fromcurrent\":true,\"transition\":{\"duration\":0,\"easing\":\"linear\"}}],\"label\":\"Aug\",\"method\":\"animate\"},{\"args\":[[\"Sep\"],{\"frame\":{\"duration\":0,\"redraw\":true},\"mode\":\"immediate\",\"fromcurrent\":true,\"transition\":{\"duration\":0,\"easing\":\"linear\"}}],\"label\":\"Sep\",\"method\":\"animate\"},{\"args\":[[\"Oct\"],{\"frame\":{\"duration\":0,\"redraw\":true},\"mode\":\"immediate\",\"fromcurrent\":true,\"transition\":{\"duration\":0,\"easing\":\"linear\"}}],\"label\":\"Oct\",\"method\":\"animate\"}],\"x\":0.1,\"xanchor\":\"left\",\"y\":0,\"yanchor\":\"top\"}]},                        {\"responsive\": true}                    ).then(function(){\n",
       "                            Plotly.addFrames('6aee0ab8-a24e-405c-b033-c5eadf93b723', [{\"data\":[{\"alignmentgroup\":\"True\",\"hovertemplate\":\"States=Andhra Pradesh\\u003cbr\\u003eMonth_name=Jan\\u003cbr\\u003eRegion=%{x}\\u003cbr\\u003eEstimated Unemployment Rate=%{y}\\u003cextra\\u003e\\u003c\\u002fextra\\u003e\",\"legendgroup\":\"Andhra Pradesh\",\"marker\":{\"color\":\"#636efa\",\"pattern\":{\"shape\":\"\"}},\"name\":\"Andhra Pradesh\",\"offsetgroup\":\"Andhra Pradesh\",\"orientation\":\"v\",\"showlegend\":true,\"textposition\":\"auto\",\"x\":[\"South\"],\"xaxis\":\"x\",\"y\":[5.48],\"yaxis\":\"y\",\"type\":\"bar\"},{\"alignmentgroup\":\"True\",\"hovertemplate\":\"States=Assam\\u003cbr\\u003eMonth_name=Jan\\u003cbr\\u003eRegion=%{x}\\u003cbr\\u003eEstimated Unemployment Rate=%{y}\\u003cextra\\u003e\\u003c\\u002fextra\\u003e\",\"legendgroup\":\"Assam\",\"marker\":{\"color\":\"#EF553B\",\"pattern\":{\"shape\":\"\"}},\"name\":\"Assam\",\"offsetgroup\":\"Assam\",\"orientation\":\"v\",\"showlegend\":true,\"textposition\":\"auto\",\"x\":[\"Northeast\"],\"xaxis\":\"x\",\"y\":[4.66],\"yaxis\":\"y\",\"type\":\"bar\"},{\"alignmentgroup\":\"True\",\"hovertemplate\":\"States=Bihar\\u003cbr\\u003eMonth_name=Jan\\u003cbr\\u003eRegion=%{x}\\u003cbr\\u003eEstimated Unemployment Rate=%{y}\\u003cextra\\u003e\\u003c\\u002fextra\\u003e\",\"legendgroup\":\"Bihar\",\"marker\":{\"color\":\"#00cc96\",\"pattern\":{\"shape\":\"\"}},\"name\":\"Bihar\",\"offsetgroup\":\"Bihar\",\"orientation\":\"v\",\"showlegend\":true,\"textposition\":\"auto\",\"x\":[\"East\"],\"xaxis\":\"x\",\"y\":[10.61],\"yaxis\":\"y\",\"type\":\"bar\"},{\"alignmentgroup\":\"True\",\"hovertemplate\":\"States=Chhattisgarh\\u003cbr\\u003eMonth_name=Jan\\u003cbr\\u003eRegion=%{x}\\u003cbr\\u003eEstimated Unemployment Rate=%{y}\\u003cextra\\u003e\\u003c\\u002fextra\\u003e\",\"legendgroup\":\"Chhattisgarh\",\"marker\":{\"color\":\"#ab63fa\",\"pattern\":{\"shape\":\"\"}},\"name\":\"Chhattisgarh\",\"offsetgroup\":\"Chhattisgarh\",\"orientation\":\"v\",\"showlegend\":true,\"textposition\":\"auto\",\"x\":[\"West\"],\"xaxis\":\"x\",\"y\":[9.65],\"yaxis\":\"y\",\"type\":\"bar\"},{\"alignmentgroup\":\"True\",\"hovertemplate\":\"States=Delhi\\u003cbr\\u003eMonth_name=Jan\\u003cbr\\u003eRegion=%{x}\\u003cbr\\u003eEstimated Unemployment Rate=%{y}\\u003cextra\\u003e\\u003c\\u002fextra\\u003e\",\"legendgroup\":\"Delhi\",\"marker\":{\"color\":\"#FFA15A\",\"pattern\":{\"shape\":\"\"}},\"name\":\"Delhi\",\"offsetgroup\":\"Delhi\",\"orientation\":\"v\",\"showlegend\":true,\"textposition\":\"auto\",\"x\":[\"North\"],\"xaxis\":\"x\",\"y\":[22.23],\"yaxis\":\"y\",\"type\":\"bar\"},{\"alignmentgroup\":\"True\",\"hovertemplate\":\"States=Goa\\u003cbr\\u003eMonth_name=Jan\\u003cbr\\u003eRegion=%{x}\\u003cbr\\u003eEstimated Unemployment Rate=%{y}\\u003cextra\\u003e\\u003c\\u002fextra\\u003e\",\"legendgroup\":\"Goa\",\"marker\":{\"color\":\"#19d3f3\",\"pattern\":{\"shape\":\"\"}},\"name\":\"Goa\",\"offsetgroup\":\"Goa\",\"orientation\":\"v\",\"showlegend\":true,\"textposition\":\"auto\",\"x\":[\"West\"],\"xaxis\":\"x\",\"y\":[8.89],\"yaxis\":\"y\",\"type\":\"bar\"},{\"alignmentgroup\":\"True\",\"hovertemplate\":\"States=Gujarat\\u003cbr\\u003eMonth_name=Jan\\u003cbr\\u003eRegion=%{x}\\u003cbr\\u003eEstimated Unemployment Rate=%{y}\\u003cextra\\u003e\\u003c\\u002fextra\\u003e\",\"legendgroup\":\"Gujarat\",\"marker\":{\"color\":\"#FF6692\",\"pattern\":{\"shape\":\"\"}},\"name\":\"Gujarat\",\"offsetgroup\":\"Gujarat\",\"orientation\":\"v\",\"showlegend\":true,\"textposition\":\"auto\",\"x\":[\"West\"],\"xaxis\":\"x\",\"y\":[5.54],\"yaxis\":\"y\",\"type\":\"bar\"},{\"alignmentgroup\":\"True\",\"hovertemplate\":\"States=Haryana\\u003cbr\\u003eMonth_name=Jan\\u003cbr\\u003eRegion=%{x}\\u003cbr\\u003eEstimated Unemployment Rate=%{y}\\u003cextra\\u003e\\u003c\\u002fextra\\u003e\",\"legendgroup\":\"Haryana\",\"marker\":{\"color\":\"#B6E880\",\"pattern\":{\"shape\":\"\"}},\"name\":\"Haryana\",\"offsetgroup\":\"Haryana\",\"orientation\":\"v\",\"showlegend\":true,\"textposition\":\"auto\",\"x\":[\"North\"],\"xaxis\":\"x\",\"y\":[20.34],\"yaxis\":\"y\",\"type\":\"bar\"},{\"alignmentgroup\":\"True\",\"hovertemplate\":\"States=Himachal Pradesh\\u003cbr\\u003eMonth_name=Jan\\u003cbr\\u003eRegion=%{x}\\u003cbr\\u003eEstimated Unemployment Rate=%{y}\\u003cextra\\u003e\\u003c\\u002fextra\\u003e\",\"legendgroup\":\"Himachal Pradesh\",\"marker\":{\"color\":\"#FF97FF\",\"pattern\":{\"shape\":\"\"}},\"name\":\"Himachal Pradesh\",\"offsetgroup\":\"Himachal Pradesh\",\"orientation\":\"v\",\"showlegend\":true,\"textposition\":\"auto\",\"x\":[\"North\"],\"xaxis\":\"x\",\"y\":[16.83],\"yaxis\":\"y\",\"type\":\"bar\"},{\"alignmentgroup\":\"True\",\"hovertemplate\":\"States=Jammu & Kashmir\\u003cbr\\u003eMonth_name=Jan\\u003cbr\\u003eRegion=%{x}\\u003cbr\\u003eEstimated Unemployment Rate=%{y}\\u003cextra\\u003e\\u003c\\u002fextra\\u003e\",\"legendgroup\":\"Jammu & Kashmir\",\"marker\":{\"color\":\"#FECB52\",\"pattern\":{\"shape\":\"\"}},\"name\":\"Jammu & Kashmir\",\"offsetgroup\":\"Jammu & Kashmir\",\"orientation\":\"v\",\"showlegend\":true,\"textposition\":\"auto\",\"x\":[\"North\"],\"xaxis\":\"x\",\"y\":[21.08],\"yaxis\":\"y\",\"type\":\"bar\"},{\"alignmentgroup\":\"True\",\"hovertemplate\":\"States=Jharkhand\\u003cbr\\u003eMonth_name=Jan\\u003cbr\\u003eRegion=%{x}\\u003cbr\\u003eEstimated Unemployment Rate=%{y}\\u003cextra\\u003e\\u003c\\u002fextra\\u003e\",\"legendgroup\":\"Jharkhand\",\"marker\":{\"color\":\"#636efa\",\"pattern\":{\"shape\":\"\"}},\"name\":\"Jharkhand\",\"offsetgroup\":\"Jharkhand\",\"orientation\":\"v\",\"showlegend\":true,\"textposition\":\"auto\",\"x\":[\"East\"],\"xaxis\":\"x\",\"y\":[10.61],\"yaxis\":\"y\",\"type\":\"bar\"},{\"alignmentgroup\":\"True\",\"hovertemplate\":\"States=Karnataka\\u003cbr\\u003eMonth_name=Jan\\u003cbr\\u003eRegion=%{x}\\u003cbr\\u003eEstimated Unemployment Rate=%{y}\\u003cextra\\u003e\\u003c\\u002fextra\\u003e\",\"legendgroup\":\"Karnataka\",\"marker\":{\"color\":\"#EF553B\",\"pattern\":{\"shape\":\"\"}},\"name\":\"Karnataka\",\"offsetgroup\":\"Karnataka\",\"orientation\":\"v\",\"showlegend\":true,\"textposition\":\"auto\",\"x\":[\"South\"],\"xaxis\":\"x\",\"y\":[2.86],\"yaxis\":\"y\",\"type\":\"bar\"},{\"alignmentgroup\":\"True\",\"hovertemplate\":\"States=Kerala\\u003cbr\\u003eMonth_name=Jan\\u003cbr\\u003eRegion=%{x}\\u003cbr\\u003eEstimated Unemployment Rate=%{y}\\u003cextra\\u003e\\u003c\\u002fextra\\u003e\",\"legendgroup\":\"Kerala\",\"marker\":{\"color\":\"#00cc96\",\"pattern\":{\"shape\":\"\"}},\"name\":\"Kerala\",\"offsetgroup\":\"Kerala\",\"orientation\":\"v\",\"showlegend\":true,\"textposition\":\"auto\",\"x\":[\"South\"],\"xaxis\":\"x\",\"y\":[5.31],\"yaxis\":\"y\",\"type\":\"bar\"},{\"alignmentgroup\":\"True\",\"hovertemplate\":\"States=Madhya Pradesh\\u003cbr\\u003eMonth_name=Jan\\u003cbr\\u003eRegion=%{x}\\u003cbr\\u003eEstimated Unemployment Rate=%{y}\\u003cextra\\u003e\\u003c\\u002fextra\\u003e\",\"legendgroup\":\"Madhya Pradesh\",\"marker\":{\"color\":\"#ab63fa\",\"pattern\":{\"shape\":\"\"}},\"name\":\"Madhya Pradesh\",\"offsetgroup\":\"Madhya Pradesh\",\"orientation\":\"v\",\"showlegend\":true,\"textposition\":\"auto\",\"x\":[\"West\"],\"xaxis\":\"x\",\"y\":[4.11],\"yaxis\":\"y\",\"type\":\"bar\"},{\"alignmentgroup\":\"True\",\"hovertemplate\":\"States=Maharashtra\\u003cbr\\u003eMonth_name=Jan\\u003cbr\\u003eRegion=%{x}\\u003cbr\\u003eEstimated Unemployment Rate=%{y}\\u003cextra\\u003e\\u003c\\u002fextra\\u003e\",\"legendgroup\":\"Maharashtra\",\"marker\":{\"color\":\"#FFA15A\",\"pattern\":{\"shape\":\"\"}},\"name\":\"Maharashtra\",\"offsetgroup\":\"Maharashtra\",\"orientation\":\"v\",\"showlegend\":true,\"textposition\":\"auto\",\"x\":[\"West\"],\"xaxis\":\"x\",\"y\":[4.95],\"yaxis\":\"y\",\"type\":\"bar\"},{\"alignmentgroup\":\"True\",\"hovertemplate\":\"States=Meghalaya\\u003cbr\\u003eMonth_name=Jan\\u003cbr\\u003eRegion=%{x}\\u003cbr\\u003eEstimated Unemployment Rate=%{y}\\u003cextra\\u003e\\u003c\\u002fextra\\u003e\",\"legendgroup\":\"Meghalaya\",\"marker\":{\"color\":\"#19d3f3\",\"pattern\":{\"shape\":\"\"}},\"name\":\"Meghalaya\",\"offsetgroup\":\"Meghalaya\",\"orientation\":\"v\",\"showlegend\":true,\"textposition\":\"auto\",\"x\":[\"Northeast\"],\"xaxis\":\"x\",\"y\":[1.66],\"yaxis\":\"y\",\"type\":\"bar\"},{\"alignmentgroup\":\"True\",\"hovertemplate\":\"States=Odisha\\u003cbr\\u003eMonth_name=Jan\\u003cbr\\u003eRegion=%{x}\\u003cbr\\u003eEstimated Unemployment Rate=%{y}\\u003cextra\\u003e\\u003c\\u002fextra\\u003e\",\"legendgroup\":\"Odisha\",\"marker\":{\"color\":\"#FF6692\",\"pattern\":{\"shape\":\"\"}},\"name\":\"Odisha\",\"offsetgroup\":\"Odisha\",\"orientation\":\"v\",\"showlegend\":true,\"textposition\":\"auto\",\"x\":[\"East\"],\"xaxis\":\"x\",\"y\":[1.9],\"yaxis\":\"y\",\"type\":\"bar\"},{\"alignmentgroup\":\"True\",\"hovertemplate\":\"States=Puducherry\\u003cbr\\u003eMonth_name=Jan\\u003cbr\\u003eRegion=%{x}\\u003cbr\\u003eEstimated Unemployment Rate=%{y}\\u003cextra\\u003e\\u003c\\u002fextra\\u003e\",\"legendgroup\":\"Puducherry\",\"marker\":{\"color\":\"#B6E880\",\"pattern\":{\"shape\":\"\"}},\"name\":\"Puducherry\",\"offsetgroup\":\"Puducherry\",\"orientation\":\"v\",\"showlegend\":true,\"textposition\":\"auto\",\"x\":[\"South\"],\"xaxis\":\"x\",\"y\":[0.58],\"yaxis\":\"y\",\"type\":\"bar\"},{\"alignmentgroup\":\"True\",\"hovertemplate\":\"States=Punjab\\u003cbr\\u003eMonth_name=Jan\\u003cbr\\u003eRegion=%{x}\\u003cbr\\u003eEstimated Unemployment Rate=%{y}\\u003cextra\\u003e\\u003c\\u002fextra\\u003e\",\"legendgroup\":\"Punjab\",\"marker\":{\"color\":\"#FF97FF\",\"pattern\":{\"shape\":\"\"}},\"name\":\"Punjab\",\"offsetgroup\":\"Punjab\",\"orientation\":\"v\",\"showlegend\":true,\"textposition\":\"auto\",\"x\":[\"North\"],\"xaxis\":\"x\",\"y\":[11.11],\"yaxis\":\"y\",\"type\":\"bar\"},{\"alignmentgroup\":\"True\",\"hovertemplate\":\"States=Rajasthan\\u003cbr\\u003eMonth_name=Jan\\u003cbr\\u003eRegion=%{x}\\u003cbr\\u003eEstimated Unemployment Rate=%{y}\\u003cextra\\u003e\\u003c\\u002fextra\\u003e\",\"legendgroup\":\"Rajasthan\",\"marker\":{\"color\":\"#FECB52\",\"pattern\":{\"shape\":\"\"}},\"name\":\"Rajasthan\",\"offsetgroup\":\"Rajasthan\",\"orientation\":\"v\",\"showlegend\":true,\"textposition\":\"auto\",\"x\":[\"North\"],\"xaxis\":\"x\",\"y\":[10.97],\"yaxis\":\"y\",\"type\":\"bar\"},{\"alignmentgroup\":\"True\",\"hovertemplate\":\"States=Tamil Nadu\\u003cbr\\u003eMonth_name=Jan\\u003cbr\\u003eRegion=%{x}\\u003cbr\\u003eEstimated Unemployment Rate=%{y}\\u003cextra\\u003e\\u003c\\u002fextra\\u003e\",\"legendgroup\":\"Tamil Nadu\",\"marker\":{\"color\":\"#EF553B\",\"pattern\":{\"shape\":\"\"}},\"name\":\"Tamil Nadu\",\"offsetgroup\":\"Tamil Nadu\",\"orientation\":\"v\",\"showlegend\":true,\"textposition\":\"auto\",\"x\":[\"South\"],\"xaxis\":\"x\",\"y\":[1.57],\"yaxis\":\"y\",\"type\":\"bar\"},{\"alignmentgroup\":\"True\",\"hovertemplate\":\"States=Telangana\\u003cbr\\u003eMonth_name=Jan\\u003cbr\\u003eRegion=%{x}\\u003cbr\\u003eEstimated Unemployment Rate=%{y}\\u003cextra\\u003e\\u003c\\u002fextra\\u003e\",\"legendgroup\":\"Telangana\",\"marker\":{\"color\":\"#00cc96\",\"pattern\":{\"shape\":\"\"}},\"name\":\"Telangana\",\"offsetgroup\":\"Telangana\",\"orientation\":\"v\",\"showlegend\":true,\"textposition\":\"auto\",\"x\":[\"South\"],\"xaxis\":\"x\",\"y\":[5.49],\"yaxis\":\"y\",\"type\":\"bar\"},{\"alignmentgroup\":\"True\",\"hovertemplate\":\"States=Tripura\\u003cbr\\u003eMonth_name=Jan\\u003cbr\\u003eRegion=%{x}\\u003cbr\\u003eEstimated Unemployment Rate=%{y}\\u003cextra\\u003e\\u003c\\u002fextra\\u003e\",\"legendgroup\":\"Tripura\",\"marker\":{\"color\":\"#ab63fa\",\"pattern\":{\"shape\":\"\"}},\"name\":\"Tripura\",\"offsetgroup\":\"Tripura\",\"orientation\":\"v\",\"showlegend\":true,\"textposition\":\"auto\",\"x\":[\"Northeast\"],\"xaxis\":\"x\",\"y\":[32.67],\"yaxis\":\"y\",\"type\":\"bar\"},{\"alignmentgroup\":\"True\",\"hovertemplate\":\"States=Uttar Pradesh\\u003cbr\\u003eMonth_name=Jan\\u003cbr\\u003eRegion=%{x}\\u003cbr\\u003eEstimated Unemployment Rate=%{y}\\u003cextra\\u003e\\u003c\\u002fextra\\u003e\",\"legendgroup\":\"Uttar Pradesh\",\"marker\":{\"color\":\"#FFA15A\",\"pattern\":{\"shape\":\"\"}},\"name\":\"Uttar Pradesh\",\"offsetgroup\":\"Uttar Pradesh\",\"orientation\":\"v\",\"showlegend\":true,\"textposition\":\"auto\",\"x\":[\"North\"],\"xaxis\":\"x\",\"y\":[7.58],\"yaxis\":\"y\",\"type\":\"bar\"},{\"alignmentgroup\":\"True\",\"hovertemplate\":\"States=Uttarakhand\\u003cbr\\u003eMonth_name=Jan\\u003cbr\\u003eRegion=%{x}\\u003cbr\\u003eEstimated Unemployment Rate=%{y}\\u003cextra\\u003e\\u003c\\u002fextra\\u003e\",\"legendgroup\":\"Uttarakhand\",\"marker\":{\"color\":\"#19d3f3\",\"pattern\":{\"shape\":\"\"}},\"name\":\"Uttarakhand\",\"offsetgroup\":\"Uttarakhand\",\"orientation\":\"v\",\"showlegend\":true,\"textposition\":\"auto\",\"x\":[\"North\"],\"xaxis\":\"x\",\"y\":[5.49],\"yaxis\":\"y\",\"type\":\"bar\"},{\"alignmentgroup\":\"True\",\"hovertemplate\":\"States=West Bengal\\u003cbr\\u003eMonth_name=Jan\\u003cbr\\u003eRegion=%{x}\\u003cbr\\u003eEstimated Unemployment Rate=%{y}\\u003cextra\\u003e\\u003c\\u002fextra\\u003e\",\"legendgroup\":\"West Bengal\",\"marker\":{\"color\":\"#FF6692\",\"pattern\":{\"shape\":\"\"}},\"name\":\"West Bengal\",\"offsetgroup\":\"West Bengal\",\"orientation\":\"v\",\"showlegend\":true,\"textposition\":\"auto\",\"x\":[\"East\"],\"xaxis\":\"x\",\"y\":[6.94],\"yaxis\":\"y\",\"type\":\"bar\"}],\"name\":\"Jan\"},{\"data\":[{\"alignmentgroup\":\"True\",\"hovertemplate\":\"States=Andhra Pradesh\\u003cbr\\u003eMonth_name=Feb\\u003cbr\\u003eRegion=%{x}\\u003cbr\\u003eEstimated Unemployment Rate=%{y}\\u003cextra\\u003e\\u003c\\u002fextra\\u003e\",\"legendgroup\":\"Andhra Pradesh\",\"marker\":{\"color\":\"#636efa\",\"pattern\":{\"shape\":\"\"}},\"name\":\"Andhra Pradesh\",\"offsetgroup\":\"Andhra Pradesh\",\"orientation\":\"v\",\"showlegend\":true,\"textposition\":\"auto\",\"x\":[\"South\"],\"xaxis\":\"x\",\"y\":[5.83],\"yaxis\":\"y\",\"type\":\"bar\"},{\"alignmentgroup\":\"True\",\"hovertemplate\":\"States=Assam\\u003cbr\\u003eMonth_name=Feb\\u003cbr\\u003eRegion=%{x}\\u003cbr\\u003eEstimated Unemployment Rate=%{y}\\u003cextra\\u003e\\u003c\\u002fextra\\u003e\",\"legendgroup\":\"Assam\",\"marker\":{\"color\":\"#EF553B\",\"pattern\":{\"shape\":\"\"}},\"name\":\"Assam\",\"offsetgroup\":\"Assam\",\"orientation\":\"v\",\"showlegend\":true,\"textposition\":\"auto\",\"x\":[\"Northeast\"],\"xaxis\":\"x\",\"y\":[4.41],\"yaxis\":\"y\",\"type\":\"bar\"},{\"alignmentgroup\":\"True\",\"hovertemplate\":\"States=Bihar\\u003cbr\\u003eMonth_name=Feb\\u003cbr\\u003eRegion=%{x}\\u003cbr\\u003eEstimated Unemployment Rate=%{y}\\u003cextra\\u003e\\u003c\\u002fextra\\u003e\",\"legendgroup\":\"Bihar\",\"marker\":{\"color\":\"#00cc96\",\"pattern\":{\"shape\":\"\"}},\"name\":\"Bihar\",\"offsetgroup\":\"Bihar\",\"orientation\":\"v\",\"showlegend\":true,\"textposition\":\"auto\",\"x\":[\"East\"],\"xaxis\":\"x\",\"y\":[10.29],\"yaxis\":\"y\",\"type\":\"bar\"},{\"alignmentgroup\":\"True\",\"hovertemplate\":\"States=Chhattisgarh\\u003cbr\\u003eMonth_name=Feb\\u003cbr\\u003eRegion=%{x}\\u003cbr\\u003eEstimated Unemployment Rate=%{y}\\u003cextra\\u003e\\u003c\\u002fextra\\u003e\",\"legendgroup\":\"Chhattisgarh\",\"marker\":{\"color\":\"#ab63fa\",\"pattern\":{\"shape\":\"\"}},\"name\":\"Chhattisgarh\",\"offsetgroup\":\"Chhattisgarh\",\"orientation\":\"v\",\"showlegend\":true,\"textposition\":\"auto\",\"x\":[\"West\"],\"xaxis\":\"x\",\"y\":[8.38],\"yaxis\":\"y\",\"type\":\"bar\"},{\"alignmentgroup\":\"True\",\"hovertemplate\":\"States=Delhi\\u003cbr\\u003eMonth_name=Feb\\u003cbr\\u003eRegion=%{x}\\u003cbr\\u003eEstimated Unemployment Rate=%{y}\\u003cextra\\u003e\\u003c\\u002fextra\\u003e\",\"legendgroup\":\"Delhi\",\"marker\":{\"color\":\"#FFA15A\",\"pattern\":{\"shape\":\"\"}},\"name\":\"Delhi\",\"offsetgroup\":\"Delhi\",\"orientation\":\"v\",\"showlegend\":true,\"textposition\":\"auto\",\"x\":[\"North\"],\"xaxis\":\"x\",\"y\":[14.84],\"yaxis\":\"y\",\"type\":\"bar\"},{\"alignmentgroup\":\"True\",\"hovertemplate\":\"States=Goa\\u003cbr\\u003eMonth_name=Feb\\u003cbr\\u003eRegion=%{x}\\u003cbr\\u003eEstimated Unemployment Rate=%{y}\\u003cextra\\u003e\\u003c\\u002fextra\\u003e\",\"legendgroup\":\"Goa\",\"marker\":{\"color\":\"#19d3f3\",\"pattern\":{\"shape\":\"\"}},\"name\":\"Goa\",\"offsetgroup\":\"Goa\",\"orientation\":\"v\",\"showlegend\":true,\"textposition\":\"auto\",\"x\":[\"West\"],\"xaxis\":\"x\",\"y\":[2.81],\"yaxis\":\"y\",\"type\":\"bar\"},{\"alignmentgroup\":\"True\",\"hovertemplate\":\"States=Gujarat\\u003cbr\\u003eMonth_name=Feb\\u003cbr\\u003eRegion=%{x}\\u003cbr\\u003eEstimated Unemployment Rate=%{y}\\u003cextra\\u003e\\u003c\\u002fextra\\u003e\",\"legendgroup\":\"Gujarat\",\"marker\":{\"color\":\"#FF6692\",\"pattern\":{\"shape\":\"\"}},\"name\":\"Gujarat\",\"offsetgroup\":\"Gujarat\",\"orientation\":\"v\",\"showlegend\":true,\"textposition\":\"auto\",\"x\":[\"West\"],\"xaxis\":\"x\",\"y\":[6.38],\"yaxis\":\"y\",\"type\":\"bar\"},{\"alignmentgroup\":\"True\",\"hovertemplate\":\"States=Haryana\\u003cbr\\u003eMonth_name=Feb\\u003cbr\\u003eRegion=%{x}\\u003cbr\\u003eEstimated Unemployment Rate=%{y}\\u003cextra\\u003e\\u003c\\u002fextra\\u003e\",\"legendgroup\":\"Haryana\",\"marker\":{\"color\":\"#B6E880\",\"pattern\":{\"shape\":\"\"}},\"name\":\"Haryana\",\"offsetgroup\":\"Haryana\",\"orientation\":\"v\",\"showlegend\":true,\"textposition\":\"auto\",\"x\":[\"North\"],\"xaxis\":\"x\",\"y\":[25.77],\"yaxis\":\"y\",\"type\":\"bar\"},{\"alignmentgroup\":\"True\",\"hovertemplate\":\"States=Himachal Pradesh\\u003cbr\\u003eMonth_name=Feb\\u003cbr\\u003eRegion=%{x}\\u003cbr\\u003eEstimated Unemployment Rate=%{y}\\u003cextra\\u003e\\u003c\\u002fextra\\u003e\",\"legendgroup\":\"Himachal Pradesh\",\"marker\":{\"color\":\"#FF97FF\",\"pattern\":{\"shape\":\"\"}},\"name\":\"Himachal Pradesh\",\"offsetgroup\":\"Himachal Pradesh\",\"orientation\":\"v\",\"showlegend\":true,\"textposition\":\"auto\",\"x\":[\"North\"],\"xaxis\":\"x\",\"y\":[16.84],\"yaxis\":\"y\",\"type\":\"bar\"},{\"alignmentgroup\":\"True\",\"hovertemplate\":\"States=Jammu & Kashmir\\u003cbr\\u003eMonth_name=Feb\\u003cbr\\u003eRegion=%{x}\\u003cbr\\u003eEstimated Unemployment Rate=%{y}\\u003cextra\\u003e\\u003c\\u002fextra\\u003e\",\"legendgroup\":\"Jammu & Kashmir\",\"marker\":{\"color\":\"#FECB52\",\"pattern\":{\"shape\":\"\"}},\"name\":\"Jammu & Kashmir\",\"offsetgroup\":\"Jammu & Kashmir\",\"orientation\":\"v\",\"showlegend\":true,\"textposition\":\"auto\",\"x\":[\"North\"],\"xaxis\":\"x\",\"y\":[20.78],\"yaxis\":\"y\",\"type\":\"bar\"},{\"alignmentgroup\":\"True\",\"hovertemplate\":\"States=Jharkhand\\u003cbr\\u003eMonth_name=Feb\\u003cbr\\u003eRegion=%{x}\\u003cbr\\u003eEstimated Unemployment Rate=%{y}\\u003cextra\\u003e\\u003c\\u002fextra\\u003e\",\"legendgroup\":\"Jharkhand\",\"marker\":{\"color\":\"#636efa\",\"pattern\":{\"shape\":\"\"}},\"name\":\"Jharkhand\",\"offsetgroup\":\"Jharkhand\",\"orientation\":\"v\",\"showlegend\":true,\"textposition\":\"auto\",\"x\":[\"East\"],\"xaxis\":\"x\",\"y\":[11.85],\"yaxis\":\"y\",\"type\":\"bar\"},{\"alignmentgroup\":\"True\",\"hovertemplate\":\"States=Karnataka\\u003cbr\\u003eMonth_name=Feb\\u003cbr\\u003eRegion=%{x}\\u003cbr\\u003eEstimated Unemployment Rate=%{y}\\u003cextra\\u003e\\u003c\\u002fextra\\u003e\",\"legendgroup\":\"Karnataka\",\"marker\":{\"color\":\"#EF553B\",\"pattern\":{\"shape\":\"\"}},\"name\":\"Karnataka\",\"offsetgroup\":\"Karnataka\",\"orientation\":\"v\",\"showlegend\":true,\"textposition\":\"auto\",\"x\":[\"South\"],\"xaxis\":\"x\",\"y\":[3.61],\"yaxis\":\"y\",\"type\":\"bar\"},{\"alignmentgroup\":\"True\",\"hovertemplate\":\"States=Kerala\\u003cbr\\u003eMonth_name=Feb\\u003cbr\\u003eRegion=%{x}\\u003cbr\\u003eEstimated Unemployment Rate=%{y}\\u003cextra\\u003e\\u003c\\u002fextra\\u003e\",\"legendgroup\":\"Kerala\",\"marker\":{\"color\":\"#00cc96\",\"pattern\":{\"shape\":\"\"}},\"name\":\"Kerala\",\"offsetgroup\":\"Kerala\",\"orientation\":\"v\",\"showlegend\":true,\"textposition\":\"auto\",\"x\":[\"South\"],\"xaxis\":\"x\",\"y\":[7.6],\"yaxis\":\"y\",\"type\":\"bar\"},{\"alignmentgroup\":\"True\",\"hovertemplate\":\"States=Madhya Pradesh\\u003cbr\\u003eMonth_name=Feb\\u003cbr\\u003eRegion=%{x}\\u003cbr\\u003eEstimated Unemployment Rate=%{y}\\u003cextra\\u003e\\u003c\\u002fextra\\u003e\",\"legendgroup\":\"Madhya Pradesh\",\"marker\":{\"color\":\"#ab63fa\",\"pattern\":{\"shape\":\"\"}},\"name\":\"Madhya Pradesh\",\"offsetgroup\":\"Madhya Pradesh\",\"orientation\":\"v\",\"showlegend\":true,\"textposition\":\"auto\",\"x\":[\"West\"],\"xaxis\":\"x\",\"y\":[4.57],\"yaxis\":\"y\",\"type\":\"bar\"},{\"alignmentgroup\":\"True\",\"hovertemplate\":\"States=Maharashtra\\u003cbr\\u003eMonth_name=Feb\\u003cbr\\u003eRegion=%{x}\\u003cbr\\u003eEstimated Unemployment Rate=%{y}\\u003cextra\\u003e\\u003c\\u002fextra\\u003e\",\"legendgroup\":\"Maharashtra\",\"marker\":{\"color\":\"#FFA15A\",\"pattern\":{\"shape\":\"\"}},\"name\":\"Maharashtra\",\"offsetgroup\":\"Maharashtra\",\"orientation\":\"v\",\"showlegend\":true,\"textposition\":\"auto\",\"x\":[\"West\"],\"xaxis\":\"x\",\"y\":[4.69],\"yaxis\":\"y\",\"type\":\"bar\"},{\"alignmentgroup\":\"True\",\"hovertemplate\":\"States=Meghalaya\\u003cbr\\u003eMonth_name=Feb\\u003cbr\\u003eRegion=%{x}\\u003cbr\\u003eEstimated Unemployment Rate=%{y}\\u003cextra\\u003e\\u003c\\u002fextra\\u003e\",\"legendgroup\":\"Meghalaya\",\"marker\":{\"color\":\"#19d3f3\",\"pattern\":{\"shape\":\"\"}},\"name\":\"Meghalaya\",\"offsetgroup\":\"Meghalaya\",\"orientation\":\"v\",\"showlegend\":true,\"textposition\":\"auto\",\"x\":[\"Northeast\"],\"xaxis\":\"x\",\"y\":[3.59],\"yaxis\":\"y\",\"type\":\"bar\"},{\"alignmentgroup\":\"True\",\"hovertemplate\":\"States=Odisha\\u003cbr\\u003eMonth_name=Feb\\u003cbr\\u003eRegion=%{x}\\u003cbr\\u003eEstimated Unemployment Rate=%{y}\\u003cextra\\u003e\\u003c\\u002fextra\\u003e\",\"legendgroup\":\"Odisha\",\"marker\":{\"color\":\"#FF6692\",\"pattern\":{\"shape\":\"\"}},\"name\":\"Odisha\",\"offsetgroup\":\"Odisha\",\"orientation\":\"v\",\"showlegend\":true,\"textposition\":\"auto\",\"x\":[\"East\"],\"xaxis\":\"x\",\"y\":[3.12],\"yaxis\":\"y\",\"type\":\"bar\"},{\"alignmentgroup\":\"True\",\"hovertemplate\":\"States=Puducherry\\u003cbr\\u003eMonth_name=Feb\\u003cbr\\u003eRegion=%{x}\\u003cbr\\u003eEstimated Unemployment Rate=%{y}\\u003cextra\\u003e\\u003c\\u002fextra\\u003e\",\"legendgroup\":\"Puducherry\",\"marker\":{\"color\":\"#B6E880\",\"pattern\":{\"shape\":\"\"}},\"name\":\"Puducherry\",\"offsetgroup\":\"Puducherry\",\"orientation\":\"v\",\"showlegend\":true,\"textposition\":\"auto\",\"x\":[\"South\"],\"xaxis\":\"x\",\"y\":[1.76],\"yaxis\":\"y\",\"type\":\"bar\"},{\"alignmentgroup\":\"True\",\"hovertemplate\":\"States=Punjab\\u003cbr\\u003eMonth_name=Feb\\u003cbr\\u003eRegion=%{x}\\u003cbr\\u003eEstimated Unemployment Rate=%{y}\\u003cextra\\u003e\\u003c\\u002fextra\\u003e\",\"legendgroup\":\"Punjab\",\"marker\":{\"color\":\"#FF97FF\",\"pattern\":{\"shape\":\"\"}},\"name\":\"Punjab\",\"offsetgroup\":\"Punjab\",\"orientation\":\"v\",\"showlegend\":true,\"textposition\":\"auto\",\"x\":[\"North\"],\"xaxis\":\"x\",\"y\":[10.97],\"yaxis\":\"y\",\"type\":\"bar\"},{\"alignmentgroup\":\"True\",\"hovertemplate\":\"States=Rajasthan\\u003cbr\\u003eMonth_name=Feb\\u003cbr\\u003eRegion=%{x}\\u003cbr\\u003eEstimated Unemployment Rate=%{y}\\u003cextra\\u003e\\u003c\\u002fextra\\u003e\",\"legendgroup\":\"Rajasthan\",\"marker\":{\"color\":\"#FECB52\",\"pattern\":{\"shape\":\"\"}},\"name\":\"Rajasthan\",\"offsetgroup\":\"Rajasthan\",\"orientation\":\"v\",\"showlegend\":true,\"textposition\":\"auto\",\"x\":[\"North\"],\"xaxis\":\"x\",\"y\":[15.16],\"yaxis\":\"y\",\"type\":\"bar\"},{\"alignmentgroup\":\"True\",\"hovertemplate\":\"States=Tamil Nadu\\u003cbr\\u003eMonth_name=Feb\\u003cbr\\u003eRegion=%{x}\\u003cbr\\u003eEstimated Unemployment Rate=%{y}\\u003cextra\\u003e\\u003c\\u002fextra\\u003e\",\"legendgroup\":\"Tamil Nadu\",\"marker\":{\"color\":\"#EF553B\",\"pattern\":{\"shape\":\"\"}},\"name\":\"Tamil Nadu\",\"offsetgroup\":\"Tamil Nadu\",\"orientation\":\"v\",\"showlegend\":true,\"textposition\":\"auto\",\"x\":[\"South\"],\"xaxis\":\"x\",\"y\":[2.09],\"yaxis\":\"y\",\"type\":\"bar\"},{\"alignmentgroup\":\"True\",\"hovertemplate\":\"States=Telangana\\u003cbr\\u003eMonth_name=Feb\\u003cbr\\u003eRegion=%{x}\\u003cbr\\u003eEstimated Unemployment Rate=%{y}\\u003cextra\\u003e\\u003c\\u002fextra\\u003e\",\"legendgroup\":\"Telangana\",\"marker\":{\"color\":\"#00cc96\",\"pattern\":{\"shape\":\"\"}},\"name\":\"Telangana\",\"offsetgroup\":\"Telangana\",\"orientation\":\"v\",\"showlegend\":true,\"textposition\":\"auto\",\"x\":[\"South\"],\"xaxis\":\"x\",\"y\":[8.29],\"yaxis\":\"y\",\"type\":\"bar\"},{\"alignmentgroup\":\"True\",\"hovertemplate\":\"States=Tripura\\u003cbr\\u003eMonth_name=Feb\\u003cbr\\u003eRegion=%{x}\\u003cbr\\u003eEstimated Unemployment Rate=%{y}\\u003cextra\\u003e\\u003c\\u002fextra\\u003e\",\"legendgroup\":\"Tripura\",\"marker\":{\"color\":\"#ab63fa\",\"pattern\":{\"shape\":\"\"}},\"name\":\"Tripura\",\"offsetgroup\":\"Tripura\",\"orientation\":\"v\",\"showlegend\":true,\"textposition\":\"auto\",\"x\":[\"Northeast\"],\"xaxis\":\"x\",\"y\":[28.4],\"yaxis\":\"y\",\"type\":\"bar\"},{\"alignmentgroup\":\"True\",\"hovertemplate\":\"States=Uttar Pradesh\\u003cbr\\u003eMonth_name=Feb\\u003cbr\\u003eRegion=%{x}\\u003cbr\\u003eEstimated Unemployment Rate=%{y}\\u003cextra\\u003e\\u003c\\u002fextra\\u003e\",\"legendgroup\":\"Uttar Pradesh\",\"marker\":{\"color\":\"#FFA15A\",\"pattern\":{\"shape\":\"\"}},\"name\":\"Uttar Pradesh\",\"offsetgroup\":\"Uttar Pradesh\",\"orientation\":\"v\",\"showlegend\":true,\"textposition\":\"auto\",\"x\":[\"North\"],\"xaxis\":\"x\",\"y\":[8.98],\"yaxis\":\"y\",\"type\":\"bar\"},{\"alignmentgroup\":\"True\",\"hovertemplate\":\"States=Uttarakhand\\u003cbr\\u003eMonth_name=Feb\\u003cbr\\u003eRegion=%{x}\\u003cbr\\u003eEstimated Unemployment Rate=%{y}\\u003cextra\\u003e\\u003c\\u002fextra\\u003e\",\"legendgroup\":\"Uttarakhand\",\"marker\":{\"color\":\"#19d3f3\",\"pattern\":{\"shape\":\"\"}},\"name\":\"Uttarakhand\",\"offsetgroup\":\"Uttarakhand\",\"orientation\":\"v\",\"showlegend\":true,\"textposition\":\"auto\",\"x\":[\"North\"],\"xaxis\":\"x\",\"y\":[4.99],\"yaxis\":\"y\",\"type\":\"bar\"},{\"alignmentgroup\":\"True\",\"hovertemplate\":\"States=West Bengal\\u003cbr\\u003eMonth_name=Feb\\u003cbr\\u003eRegion=%{x}\\u003cbr\\u003eEstimated Unemployment Rate=%{y}\\u003cextra\\u003e\\u003c\\u002fextra\\u003e\",\"legendgroup\":\"West Bengal\",\"marker\":{\"color\":\"#FF6692\",\"pattern\":{\"shape\":\"\"}},\"name\":\"West Bengal\",\"offsetgroup\":\"West Bengal\",\"orientation\":\"v\",\"showlegend\":true,\"textposition\":\"auto\",\"x\":[\"East\"],\"xaxis\":\"x\",\"y\":[4.92],\"yaxis\":\"y\",\"type\":\"bar\"}],\"name\":\"Feb\"},{\"data\":[{\"alignmentgroup\":\"True\",\"hovertemplate\":\"States=Andhra Pradesh\\u003cbr\\u003eMonth_name=Mar\\u003cbr\\u003eRegion=%{x}\\u003cbr\\u003eEstimated Unemployment Rate=%{y}\\u003cextra\\u003e\\u003c\\u002fextra\\u003e\",\"legendgroup\":\"Andhra Pradesh\",\"marker\":{\"color\":\"#636efa\",\"pattern\":{\"shape\":\"\"}},\"name\":\"Andhra Pradesh\",\"offsetgroup\":\"Andhra Pradesh\",\"orientation\":\"v\",\"showlegend\":true,\"textposition\":\"auto\",\"x\":[\"South\"],\"xaxis\":\"x\",\"y\":[5.79],\"yaxis\":\"y\",\"type\":\"bar\"},{\"alignmentgroup\":\"True\",\"hovertemplate\":\"States=Assam\\u003cbr\\u003eMonth_name=Mar\\u003cbr\\u003eRegion=%{x}\\u003cbr\\u003eEstimated Unemployment Rate=%{y}\\u003cextra\\u003e\\u003c\\u002fextra\\u003e\",\"legendgroup\":\"Assam\",\"marker\":{\"color\":\"#EF553B\",\"pattern\":{\"shape\":\"\"}},\"name\":\"Assam\",\"offsetgroup\":\"Assam\",\"orientation\":\"v\",\"showlegend\":true,\"textposition\":\"auto\",\"x\":[\"Northeast\"],\"xaxis\":\"x\",\"y\":[4.77],\"yaxis\":\"y\",\"type\":\"bar\"},{\"alignmentgroup\":\"True\",\"hovertemplate\":\"States=Bihar\\u003cbr\\u003eMonth_name=Mar\\u003cbr\\u003eRegion=%{x}\\u003cbr\\u003eEstimated Unemployment Rate=%{y}\\u003cextra\\u003e\\u003c\\u002fextra\\u003e\",\"legendgroup\":\"Bihar\",\"marker\":{\"color\":\"#00cc96\",\"pattern\":{\"shape\":\"\"}},\"name\":\"Bihar\",\"offsetgroup\":\"Bihar\",\"orientation\":\"v\",\"showlegend\":true,\"textposition\":\"auto\",\"x\":[\"East\"],\"xaxis\":\"x\",\"y\":[15.43],\"yaxis\":\"y\",\"type\":\"bar\"},{\"alignmentgroup\":\"True\",\"hovertemplate\":\"States=Chhattisgarh\\u003cbr\\u003eMonth_name=Mar\\u003cbr\\u003eRegion=%{x}\\u003cbr\\u003eEstimated Unemployment Rate=%{y}\\u003cextra\\u003e\\u003c\\u002fextra\\u003e\",\"legendgroup\":\"Chhattisgarh\",\"marker\":{\"color\":\"#ab63fa\",\"pattern\":{\"shape\":\"\"}},\"name\":\"Chhattisgarh\",\"offsetgroup\":\"Chhattisgarh\",\"orientation\":\"v\",\"showlegend\":true,\"textposition\":\"auto\",\"x\":[\"West\"],\"xaxis\":\"x\",\"y\":[7.54],\"yaxis\":\"y\",\"type\":\"bar\"},{\"alignmentgroup\":\"True\",\"hovertemplate\":\"States=Delhi\\u003cbr\\u003eMonth_name=Mar\\u003cbr\\u003eRegion=%{x}\\u003cbr\\u003eEstimated Unemployment Rate=%{y}\\u003cextra\\u003e\\u003c\\u002fextra\\u003e\",\"legendgroup\":\"Delhi\",\"marker\":{\"color\":\"#FFA15A\",\"pattern\":{\"shape\":\"\"}},\"name\":\"Delhi\",\"offsetgroup\":\"Delhi\",\"orientation\":\"v\",\"showlegend\":true,\"textposition\":\"auto\",\"x\":[\"North\"],\"xaxis\":\"x\",\"y\":[17.04],\"yaxis\":\"y\",\"type\":\"bar\"},{\"alignmentgroup\":\"True\",\"hovertemplate\":\"States=Goa\\u003cbr\\u003eMonth_name=Mar\\u003cbr\\u003eRegion=%{x}\\u003cbr\\u003eEstimated Unemployment Rate=%{y}\\u003cextra\\u003e\\u003c\\u002fextra\\u003e\",\"legendgroup\":\"Goa\",\"marker\":{\"color\":\"#19d3f3\",\"pattern\":{\"shape\":\"\"}},\"name\":\"Goa\",\"offsetgroup\":\"Goa\",\"orientation\":\"v\",\"showlegend\":true,\"textposition\":\"auto\",\"x\":[\"West\"],\"xaxis\":\"x\",\"y\":[5.25],\"yaxis\":\"y\",\"type\":\"bar\"},{\"alignmentgroup\":\"True\",\"hovertemplate\":\"States=Gujarat\\u003cbr\\u003eMonth_name=Mar\\u003cbr\\u003eRegion=%{x}\\u003cbr\\u003eEstimated Unemployment Rate=%{y}\\u003cextra\\u003e\\u003c\\u002fextra\\u003e\",\"legendgroup\":\"Gujarat\",\"marker\":{\"color\":\"#FF6692\",\"pattern\":{\"shape\":\"\"}},\"name\":\"Gujarat\",\"offsetgroup\":\"Gujarat\",\"orientation\":\"v\",\"showlegend\":true,\"textposition\":\"auto\",\"x\":[\"West\"],\"xaxis\":\"x\",\"y\":[6.66],\"yaxis\":\"y\",\"type\":\"bar\"},{\"alignmentgroup\":\"True\",\"hovertemplate\":\"States=Haryana\\u003cbr\\u003eMonth_name=Mar\\u003cbr\\u003eRegion=%{x}\\u003cbr\\u003eEstimated Unemployment Rate=%{y}\\u003cextra\\u003e\\u003c\\u002fextra\\u003e\",\"legendgroup\":\"Haryana\",\"marker\":{\"color\":\"#B6E880\",\"pattern\":{\"shape\":\"\"}},\"name\":\"Haryana\",\"offsetgroup\":\"Haryana\",\"orientation\":\"v\",\"showlegend\":true,\"textposition\":\"auto\",\"x\":[\"North\"],\"xaxis\":\"x\",\"y\":[25.05],\"yaxis\":\"y\",\"type\":\"bar\"},{\"alignmentgroup\":\"True\",\"hovertemplate\":\"States=Himachal Pradesh\\u003cbr\\u003eMonth_name=Mar\\u003cbr\\u003eRegion=%{x}\\u003cbr\\u003eEstimated Unemployment Rate=%{y}\\u003cextra\\u003e\\u003c\\u002fextra\\u003e\",\"legendgroup\":\"Himachal Pradesh\",\"marker\":{\"color\":\"#FF97FF\",\"pattern\":{\"shape\":\"\"}},\"name\":\"Himachal Pradesh\",\"offsetgroup\":\"Himachal Pradesh\",\"orientation\":\"v\",\"showlegend\":true,\"textposition\":\"auto\",\"x\":[\"North\"],\"xaxis\":\"x\",\"y\":[18.76],\"yaxis\":\"y\",\"type\":\"bar\"},{\"alignmentgroup\":\"True\",\"hovertemplate\":\"States=Jammu & Kashmir\\u003cbr\\u003eMonth_name=Mar\\u003cbr\\u003eRegion=%{x}\\u003cbr\\u003eEstimated Unemployment Rate=%{y}\\u003cextra\\u003e\\u003c\\u002fextra\\u003e\",\"legendgroup\":\"Jammu & Kashmir\",\"marker\":{\"color\":\"#FECB52\",\"pattern\":{\"shape\":\"\"}},\"name\":\"Jammu & Kashmir\",\"offsetgroup\":\"Jammu & Kashmir\",\"orientation\":\"v\",\"showlegend\":true,\"textposition\":\"auto\",\"x\":[\"North\"],\"xaxis\":\"x\",\"y\":[15.5],\"yaxis\":\"y\",\"type\":\"bar\"},{\"alignmentgroup\":\"True\",\"hovertemplate\":\"States=Jharkhand\\u003cbr\\u003eMonth_name=Mar\\u003cbr\\u003eRegion=%{x}\\u003cbr\\u003eEstimated Unemployment Rate=%{y}\\u003cextra\\u003e\\u003c\\u002fextra\\u003e\",\"legendgroup\":\"Jharkhand\",\"marker\":{\"color\":\"#636efa\",\"pattern\":{\"shape\":\"\"}},\"name\":\"Jharkhand\",\"offsetgroup\":\"Jharkhand\",\"orientation\":\"v\",\"showlegend\":true,\"textposition\":\"auto\",\"x\":[\"East\"],\"xaxis\":\"x\",\"y\":[8.23],\"yaxis\":\"y\",\"type\":\"bar\"},{\"alignmentgroup\":\"True\",\"hovertemplate\":\"States=Karnataka\\u003cbr\\u003eMonth_name=Mar\\u003cbr\\u003eRegion=%{x}\\u003cbr\\u003eEstimated Unemployment Rate=%{y}\\u003cextra\\u003e\\u003c\\u002fextra\\u003e\",\"legendgroup\":\"Karnataka\",\"marker\":{\"color\":\"#EF553B\",\"pattern\":{\"shape\":\"\"}},\"name\":\"Karnataka\",\"offsetgroup\":\"Karnataka\",\"orientation\":\"v\",\"showlegend\":true,\"textposition\":\"auto\",\"x\":[\"South\"],\"xaxis\":\"x\",\"y\":[3.46],\"yaxis\":\"y\",\"type\":\"bar\"},{\"alignmentgroup\":\"True\",\"hovertemplate\":\"States=Kerala\\u003cbr\\u003eMonth_name=Mar\\u003cbr\\u003eRegion=%{x}\\u003cbr\\u003eEstimated Unemployment Rate=%{y}\\u003cextra\\u003e\\u003c\\u002fextra\\u003e\",\"legendgroup\":\"Kerala\",\"marker\":{\"color\":\"#00cc96\",\"pattern\":{\"shape\":\"\"}},\"name\":\"Kerala\",\"offsetgroup\":\"Kerala\",\"orientation\":\"v\",\"showlegend\":true,\"textposition\":\"auto\",\"x\":[\"South\"],\"xaxis\":\"x\",\"y\":[8.99],\"yaxis\":\"y\",\"type\":\"bar\"},{\"alignmentgroup\":\"True\",\"hovertemplate\":\"States=Madhya Pradesh\\u003cbr\\u003eMonth_name=Mar\\u003cbr\\u003eRegion=%{x}\\u003cbr\\u003eEstimated Unemployment Rate=%{y}\\u003cextra\\u003e\\u003c\\u002fextra\\u003e\",\"legendgroup\":\"Madhya Pradesh\",\"marker\":{\"color\":\"#ab63fa\",\"pattern\":{\"shape\":\"\"}},\"name\":\"Madhya Pradesh\",\"offsetgroup\":\"Madhya Pradesh\",\"orientation\":\"v\",\"showlegend\":true,\"textposition\":\"auto\",\"x\":[\"West\"],\"xaxis\":\"x\",\"y\":[2.22],\"yaxis\":\"y\",\"type\":\"bar\"},{\"alignmentgroup\":\"True\",\"hovertemplate\":\"States=Maharashtra\\u003cbr\\u003eMonth_name=Mar\\u003cbr\\u003eRegion=%{x}\\u003cbr\\u003eEstimated Unemployment Rate=%{y}\\u003cextra\\u003e\\u003c\\u002fextra\\u003e\",\"legendgroup\":\"Maharashtra\",\"marker\":{\"color\":\"#FFA15A\",\"pattern\":{\"shape\":\"\"}},\"name\":\"Maharashtra\",\"offsetgroup\":\"Maharashtra\",\"orientation\":\"v\",\"showlegend\":true,\"textposition\":\"auto\",\"x\":[\"West\"],\"xaxis\":\"x\",\"y\":[5.79],\"yaxis\":\"y\",\"type\":\"bar\"},{\"alignmentgroup\":\"True\",\"hovertemplate\":\"States=Meghalaya\\u003cbr\\u003eMonth_name=Mar\\u003cbr\\u003eRegion=%{x}\\u003cbr\\u003eEstimated Unemployment Rate=%{y}\\u003cextra\\u003e\\u003c\\u002fextra\\u003e\",\"legendgroup\":\"Meghalaya\",\"marker\":{\"color\":\"#19d3f3\",\"pattern\":{\"shape\":\"\"}},\"name\":\"Meghalaya\",\"offsetgroup\":\"Meghalaya\",\"orientation\":\"v\",\"showlegend\":true,\"textposition\":\"auto\",\"x\":[\"Northeast\"],\"xaxis\":\"x\",\"y\":[1.58],\"yaxis\":\"y\",\"type\":\"bar\"},{\"alignmentgroup\":\"True\",\"hovertemplate\":\"States=Odisha\\u003cbr\\u003eMonth_name=Mar\\u003cbr\\u003eRegion=%{x}\\u003cbr\\u003eEstimated Unemployment Rate=%{y}\\u003cextra\\u003e\\u003c\\u002fextra\\u003e\",\"legendgroup\":\"Odisha\",\"marker\":{\"color\":\"#FF6692\",\"pattern\":{\"shape\":\"\"}},\"name\":\"Odisha\",\"offsetgroup\":\"Odisha\",\"orientation\":\"v\",\"showlegend\":true,\"textposition\":\"auto\",\"x\":[\"East\"],\"xaxis\":\"x\",\"y\":[13.08],\"yaxis\":\"y\",\"type\":\"bar\"},{\"alignmentgroup\":\"True\",\"hovertemplate\":\"States=Puducherry\\u003cbr\\u003eMonth_name=Mar\\u003cbr\\u003eRegion=%{x}\\u003cbr\\u003eEstimated Unemployment Rate=%{y}\\u003cextra\\u003e\\u003c\\u002fextra\\u003e\",\"legendgroup\":\"Puducherry\",\"marker\":{\"color\":\"#B6E880\",\"pattern\":{\"shape\":\"\"}},\"name\":\"Puducherry\",\"offsetgroup\":\"Puducherry\",\"orientation\":\"v\",\"showlegend\":true,\"textposition\":\"auto\",\"x\":[\"South\"],\"xaxis\":\"x\",\"y\":[1.2],\"yaxis\":\"y\",\"type\":\"bar\"},{\"alignmentgroup\":\"True\",\"hovertemplate\":\"States=Punjab\\u003cbr\\u003eMonth_name=Mar\\u003cbr\\u003eRegion=%{x}\\u003cbr\\u003eEstimated Unemployment Rate=%{y}\\u003cextra\\u003e\\u003c\\u002fextra\\u003e\",\"legendgroup\":\"Punjab\",\"marker\":{\"color\":\"#FF97FF\",\"pattern\":{\"shape\":\"\"}},\"name\":\"Punjab\",\"offsetgroup\":\"Punjab\",\"orientation\":\"v\",\"showlegend\":true,\"textposition\":\"auto\",\"x\":[\"North\"],\"xaxis\":\"x\",\"y\":[10.32],\"yaxis\":\"y\",\"type\":\"bar\"},{\"alignmentgroup\":\"True\",\"hovertemplate\":\"States=Rajasthan\\u003cbr\\u003eMonth_name=Mar\\u003cbr\\u003eRegion=%{x}\\u003cbr\\u003eEstimated Unemployment Rate=%{y}\\u003cextra\\u003e\\u003c\\u002fextra\\u003e\",\"legendgroup\":\"Rajasthan\",\"marker\":{\"color\":\"#FECB52\",\"pattern\":{\"shape\":\"\"}},\"name\":\"Rajasthan\",\"offsetgroup\":\"Rajasthan\",\"orientation\":\"v\",\"showlegend\":true,\"textposition\":\"auto\",\"x\":[\"North\"],\"xaxis\":\"x\",\"y\":[11.9],\"yaxis\":\"y\",\"type\":\"bar\"},{\"alignmentgroup\":\"True\",\"hovertemplate\":\"States=Sikkim\\u003cbr\\u003eMonth_name=Mar\\u003cbr\\u003eRegion=%{x}\\u003cbr\\u003eEstimated Unemployment Rate=%{y}\\u003cextra\\u003e\\u003c\\u002fextra\\u003e\",\"legendgroup\":\"Sikkim\",\"marker\":{\"color\":\"#636efa\",\"pattern\":{\"shape\":\"\"}},\"name\":\"Sikkim\",\"offsetgroup\":\"Sikkim\",\"orientation\":\"v\",\"showlegend\":true,\"textposition\":\"auto\",\"x\":[\"Northeast\"],\"xaxis\":\"x\",\"y\":[23.57],\"yaxis\":\"y\",\"type\":\"bar\"},{\"alignmentgroup\":\"True\",\"hovertemplate\":\"States=Tamil Nadu\\u003cbr\\u003eMonth_name=Mar\\u003cbr\\u003eRegion=%{x}\\u003cbr\\u003eEstimated Unemployment Rate=%{y}\\u003cextra\\u003e\\u003c\\u002fextra\\u003e\",\"legendgroup\":\"Tamil Nadu\",\"marker\":{\"color\":\"#EF553B\",\"pattern\":{\"shape\":\"\"}},\"name\":\"Tamil Nadu\",\"offsetgroup\":\"Tamil Nadu\",\"orientation\":\"v\",\"showlegend\":true,\"textposition\":\"auto\",\"x\":[\"South\"],\"xaxis\":\"x\",\"y\":[6.4],\"yaxis\":\"y\",\"type\":\"bar\"},{\"alignmentgroup\":\"True\",\"hovertemplate\":\"States=Telangana\\u003cbr\\u003eMonth_name=Mar\\u003cbr\\u003eRegion=%{x}\\u003cbr\\u003eEstimated Unemployment Rate=%{y}\\u003cextra\\u003e\\u003c\\u002fextra\\u003e\",\"legendgroup\":\"Telangana\",\"marker\":{\"color\":\"#00cc96\",\"pattern\":{\"shape\":\"\"}},\"name\":\"Telangana\",\"offsetgroup\":\"Telangana\",\"orientation\":\"v\",\"showlegend\":true,\"textposition\":\"auto\",\"x\":[\"South\"],\"xaxis\":\"x\",\"y\":[5.77],\"yaxis\":\"y\",\"type\":\"bar\"},{\"alignmentgroup\":\"True\",\"hovertemplate\":\"States=Tripura\\u003cbr\\u003eMonth_name=Mar\\u003cbr\\u003eRegion=%{x}\\u003cbr\\u003eEstimated Unemployment Rate=%{y}\\u003cextra\\u003e\\u003c\\u002fextra\\u003e\",\"legendgroup\":\"Tripura\",\"marker\":{\"color\":\"#ab63fa\",\"pattern\":{\"shape\":\"\"}},\"name\":\"Tripura\",\"offsetgroup\":\"Tripura\",\"orientation\":\"v\",\"showlegend\":true,\"textposition\":\"auto\",\"x\":[\"Northeast\"],\"xaxis\":\"x\",\"y\":[29.95],\"yaxis\":\"y\",\"type\":\"bar\"},{\"alignmentgroup\":\"True\",\"hovertemplate\":\"States=Uttar Pradesh\\u003cbr\\u003eMonth_name=Mar\\u003cbr\\u003eRegion=%{x}\\u003cbr\\u003eEstimated Unemployment Rate=%{y}\\u003cextra\\u003e\\u003c\\u002fextra\\u003e\",\"legendgroup\":\"Uttar Pradesh\",\"marker\":{\"color\":\"#FFA15A\",\"pattern\":{\"shape\":\"\"}},\"name\":\"Uttar Pradesh\",\"offsetgroup\":\"Uttar Pradesh\",\"orientation\":\"v\",\"showlegend\":true,\"textposition\":\"auto\",\"x\":[\"North\"],\"xaxis\":\"x\",\"y\":[10.11],\"yaxis\":\"y\",\"type\":\"bar\"},{\"alignmentgroup\":\"True\",\"hovertemplate\":\"States=Uttarakhand\\u003cbr\\u003eMonth_name=Mar\\u003cbr\\u003eRegion=%{x}\\u003cbr\\u003eEstimated Unemployment Rate=%{y}\\u003cextra\\u003e\\u003c\\u002fextra\\u003e\",\"legendgroup\":\"Uttarakhand\",\"marker\":{\"color\":\"#19d3f3\",\"pattern\":{\"shape\":\"\"}},\"name\":\"Uttarakhand\",\"offsetgroup\":\"Uttarakhand\",\"orientation\":\"v\",\"showlegend\":true,\"textposition\":\"auto\",\"x\":[\"North\"],\"xaxis\":\"x\",\"y\":[19.85],\"yaxis\":\"y\",\"type\":\"bar\"},{\"alignmentgroup\":\"True\",\"hovertemplate\":\"States=West Bengal\\u003cbr\\u003eMonth_name=Mar\\u003cbr\\u003eRegion=%{x}\\u003cbr\\u003eEstimated Unemployment Rate=%{y}\\u003cextra\\u003e\\u003c\\u002fextra\\u003e\",\"legendgroup\":\"West Bengal\",\"marker\":{\"color\":\"#FF6692\",\"pattern\":{\"shape\":\"\"}},\"name\":\"West Bengal\",\"offsetgroup\":\"West Bengal\",\"orientation\":\"v\",\"showlegend\":true,\"textposition\":\"auto\",\"x\":[\"East\"],\"xaxis\":\"x\",\"y\":[6.92],\"yaxis\":\"y\",\"type\":\"bar\"}],\"name\":\"Mar\"},{\"data\":[{\"alignmentgroup\":\"True\",\"hovertemplate\":\"States=Andhra Pradesh\\u003cbr\\u003eMonth_name=Apr\\u003cbr\\u003eRegion=%{x}\\u003cbr\\u003eEstimated Unemployment Rate=%{y}\\u003cextra\\u003e\\u003c\\u002fextra\\u003e\",\"legendgroup\":\"Andhra Pradesh\",\"marker\":{\"color\":\"#636efa\",\"pattern\":{\"shape\":\"\"}},\"name\":\"Andhra Pradesh\",\"offsetgroup\":\"Andhra Pradesh\",\"orientation\":\"v\",\"showlegend\":true,\"textposition\":\"auto\",\"x\":[\"South\"],\"xaxis\":\"x\",\"y\":[20.51],\"yaxis\":\"y\",\"type\":\"bar\"},{\"alignmentgroup\":\"True\",\"hovertemplate\":\"States=Assam\\u003cbr\\u003eMonth_name=Apr\\u003cbr\\u003eRegion=%{x}\\u003cbr\\u003eEstimated Unemployment Rate=%{y}\\u003cextra\\u003e\\u003c\\u002fextra\\u003e\",\"legendgroup\":\"Assam\",\"marker\":{\"color\":\"#EF553B\",\"pattern\":{\"shape\":\"\"}},\"name\":\"Assam\",\"offsetgroup\":\"Assam\",\"orientation\":\"v\",\"showlegend\":true,\"textposition\":\"auto\",\"x\":[\"Northeast\"],\"xaxis\":\"x\",\"y\":[11.06],\"yaxis\":\"y\",\"type\":\"bar\"},{\"alignmentgroup\":\"True\",\"hovertemplate\":\"States=Bihar\\u003cbr\\u003eMonth_name=Apr\\u003cbr\\u003eRegion=%{x}\\u003cbr\\u003eEstimated Unemployment Rate=%{y}\\u003cextra\\u003e\\u003c\\u002fextra\\u003e\",\"legendgroup\":\"Bihar\",\"marker\":{\"color\":\"#00cc96\",\"pattern\":{\"shape\":\"\"}},\"name\":\"Bihar\",\"offsetgroup\":\"Bihar\",\"orientation\":\"v\",\"showlegend\":true,\"textposition\":\"auto\",\"x\":[\"East\"],\"xaxis\":\"x\",\"y\":[46.64],\"yaxis\":\"y\",\"type\":\"bar\"},{\"alignmentgroup\":\"True\",\"hovertemplate\":\"States=Chhattisgarh\\u003cbr\\u003eMonth_name=Apr\\u003cbr\\u003eRegion=%{x}\\u003cbr\\u003eEstimated Unemployment Rate=%{y}\\u003cextra\\u003e\\u003c\\u002fextra\\u003e\",\"legendgroup\":\"Chhattisgarh\",\"marker\":{\"color\":\"#ab63fa\",\"pattern\":{\"shape\":\"\"}},\"name\":\"Chhattisgarh\",\"offsetgroup\":\"Chhattisgarh\",\"orientation\":\"v\",\"showlegend\":true,\"textposition\":\"auto\",\"x\":[\"West\"],\"xaxis\":\"x\",\"y\":[3.41],\"yaxis\":\"y\",\"type\":\"bar\"},{\"alignmentgroup\":\"True\",\"hovertemplate\":\"States=Delhi\\u003cbr\\u003eMonth_name=Apr\\u003cbr\\u003eRegion=%{x}\\u003cbr\\u003eEstimated Unemployment Rate=%{y}\\u003cextra\\u003e\\u003c\\u002fextra\\u003e\",\"legendgroup\":\"Delhi\",\"marker\":{\"color\":\"#FFA15A\",\"pattern\":{\"shape\":\"\"}},\"name\":\"Delhi\",\"offsetgroup\":\"Delhi\",\"orientation\":\"v\",\"showlegend\":true,\"textposition\":\"auto\",\"x\":[\"North\"],\"xaxis\":\"x\",\"y\":[16.68],\"yaxis\":\"y\",\"type\":\"bar\"},{\"alignmentgroup\":\"True\",\"hovertemplate\":\"States=Goa\\u003cbr\\u003eMonth_name=Apr\\u003cbr\\u003eRegion=%{x}\\u003cbr\\u003eEstimated Unemployment Rate=%{y}\\u003cextra\\u003e\\u003c\\u002fextra\\u003e\",\"legendgroup\":\"Goa\",\"marker\":{\"color\":\"#19d3f3\",\"pattern\":{\"shape\":\"\"}},\"name\":\"Goa\",\"offsetgroup\":\"Goa\",\"orientation\":\"v\",\"showlegend\":true,\"textposition\":\"auto\",\"x\":[\"West\"],\"xaxis\":\"x\",\"y\":[13.31],\"yaxis\":\"y\",\"type\":\"bar\"},{\"alignmentgroup\":\"True\",\"hovertemplate\":\"States=Gujarat\\u003cbr\\u003eMonth_name=Apr\\u003cbr\\u003eRegion=%{x}\\u003cbr\\u003eEstimated Unemployment Rate=%{y}\\u003cextra\\u003e\\u003c\\u002fextra\\u003e\",\"legendgroup\":\"Gujarat\",\"marker\":{\"color\":\"#FF6692\",\"pattern\":{\"shape\":\"\"}},\"name\":\"Gujarat\",\"offsetgroup\":\"Gujarat\",\"orientation\":\"v\",\"showlegend\":true,\"textposition\":\"auto\",\"x\":[\"West\"],\"xaxis\":\"x\",\"y\":[18.71],\"yaxis\":\"y\",\"type\":\"bar\"},{\"alignmentgroup\":\"True\",\"hovertemplate\":\"States=Haryana\\u003cbr\\u003eMonth_name=Apr\\u003cbr\\u003eRegion=%{x}\\u003cbr\\u003eEstimated Unemployment Rate=%{y}\\u003cextra\\u003e\\u003c\\u002fextra\\u003e\",\"legendgroup\":\"Haryana\",\"marker\":{\"color\":\"#B6E880\",\"pattern\":{\"shape\":\"\"}},\"name\":\"Haryana\",\"offsetgroup\":\"Haryana\",\"orientation\":\"v\",\"showlegend\":true,\"textposition\":\"auto\",\"x\":[\"North\"],\"xaxis\":\"x\",\"y\":[43.22],\"yaxis\":\"y\",\"type\":\"bar\"},{\"alignmentgroup\":\"True\",\"hovertemplate\":\"States=Himachal Pradesh\\u003cbr\\u003eMonth_name=Apr\\u003cbr\\u003eRegion=%{x}\\u003cbr\\u003eEstimated Unemployment Rate=%{y}\\u003cextra\\u003e\\u003c\\u002fextra\\u003e\",\"legendgroup\":\"Himachal Pradesh\",\"marker\":{\"color\":\"#FF97FF\",\"pattern\":{\"shape\":\"\"}},\"name\":\"Himachal Pradesh\",\"offsetgroup\":\"Himachal Pradesh\",\"orientation\":\"v\",\"showlegend\":true,\"textposition\":\"auto\",\"x\":[\"North\"],\"xaxis\":\"x\",\"y\":[2.2],\"yaxis\":\"y\",\"type\":\"bar\"},{\"alignmentgroup\":\"True\",\"hovertemplate\":\"States=Jharkhand\\u003cbr\\u003eMonth_name=Apr\\u003cbr\\u003eRegion=%{x}\\u003cbr\\u003eEstimated Unemployment Rate=%{y}\\u003cextra\\u003e\\u003c\\u002fextra\\u003e\",\"legendgroup\":\"Jharkhand\",\"marker\":{\"color\":\"#636efa\",\"pattern\":{\"shape\":\"\"}},\"name\":\"Jharkhand\",\"offsetgroup\":\"Jharkhand\",\"orientation\":\"v\",\"showlegend\":true,\"textposition\":\"auto\",\"x\":[\"East\"],\"xaxis\":\"x\",\"y\":[47.09],\"yaxis\":\"y\",\"type\":\"bar\"},{\"alignmentgroup\":\"True\",\"hovertemplate\":\"States=Karnataka\\u003cbr\\u003eMonth_name=Apr\\u003cbr\\u003eRegion=%{x}\\u003cbr\\u003eEstimated Unemployment Rate=%{y}\\u003cextra\\u003e\\u003c\\u002fextra\\u003e\",\"legendgroup\":\"Karnataka\",\"marker\":{\"color\":\"#EF553B\",\"pattern\":{\"shape\":\"\"}},\"name\":\"Karnataka\",\"offsetgroup\":\"Karnataka\",\"orientation\":\"v\",\"showlegend\":true,\"textposition\":\"auto\",\"x\":[\"South\"],\"xaxis\":\"x\",\"y\":[29.84],\"yaxis\":\"y\",\"type\":\"bar\"},{\"alignmentgroup\":\"True\",\"hovertemplate\":\"States=Kerala\\u003cbr\\u003eMonth_name=Apr\\u003cbr\\u003eRegion=%{x}\\u003cbr\\u003eEstimated Unemployment Rate=%{y}\\u003cextra\\u003e\\u003c\\u002fextra\\u003e\",\"legendgroup\":\"Kerala\",\"marker\":{\"color\":\"#00cc96\",\"pattern\":{\"shape\":\"\"}},\"name\":\"Kerala\",\"offsetgroup\":\"Kerala\",\"orientation\":\"v\",\"showlegend\":true,\"textposition\":\"auto\",\"x\":[\"South\"],\"xaxis\":\"x\",\"y\":[16.99],\"yaxis\":\"y\",\"type\":\"bar\"},{\"alignmentgroup\":\"True\",\"hovertemplate\":\"States=Madhya Pradesh\\u003cbr\\u003eMonth_name=Apr\\u003cbr\\u003eRegion=%{x}\\u003cbr\\u003eEstimated Unemployment Rate=%{y}\\u003cextra\\u003e\\u003c\\u002fextra\\u003e\",\"legendgroup\":\"Madhya Pradesh\",\"marker\":{\"color\":\"#ab63fa\",\"pattern\":{\"shape\":\"\"}},\"name\":\"Madhya Pradesh\",\"offsetgroup\":\"Madhya Pradesh\",\"orientation\":\"v\",\"showlegend\":true,\"textposition\":\"auto\",\"x\":[\"West\"],\"xaxis\":\"x\",\"y\":[12.36],\"yaxis\":\"y\",\"type\":\"bar\"},{\"alignmentgroup\":\"True\",\"hovertemplate\":\"States=Maharashtra\\u003cbr\\u003eMonth_name=Apr\\u003cbr\\u003eRegion=%{x}\\u003cbr\\u003eEstimated Unemployment Rate=%{y}\\u003cextra\\u003e\\u003c\\u002fextra\\u003e\",\"legendgroup\":\"Maharashtra\",\"marker\":{\"color\":\"#FFA15A\",\"pattern\":{\"shape\":\"\"}},\"name\":\"Maharashtra\",\"offsetgroup\":\"Maharashtra\",\"orientation\":\"v\",\"showlegend\":true,\"textposition\":\"auto\",\"x\":[\"West\"],\"xaxis\":\"x\",\"y\":[20.9],\"yaxis\":\"y\",\"type\":\"bar\"},{\"alignmentgroup\":\"True\",\"hovertemplate\":\"States=Meghalaya\\u003cbr\\u003eMonth_name=Apr\\u003cbr\\u003eRegion=%{x}\\u003cbr\\u003eEstimated Unemployment Rate=%{y}\\u003cextra\\u003e\\u003c\\u002fextra\\u003e\",\"legendgroup\":\"Meghalaya\",\"marker\":{\"color\":\"#19d3f3\",\"pattern\":{\"shape\":\"\"}},\"name\":\"Meghalaya\",\"offsetgroup\":\"Meghalaya\",\"orientation\":\"v\",\"showlegend\":true,\"textposition\":\"auto\",\"x\":[\"Northeast\"],\"xaxis\":\"x\",\"y\":[10.03],\"yaxis\":\"y\",\"type\":\"bar\"},{\"alignmentgroup\":\"True\",\"hovertemplate\":\"States=Odisha\\u003cbr\\u003eMonth_name=Apr\\u003cbr\\u003eRegion=%{x}\\u003cbr\\u003eEstimated Unemployment Rate=%{y}\\u003cextra\\u003e\\u003c\\u002fextra\\u003e\",\"legendgroup\":\"Odisha\",\"marker\":{\"color\":\"#FF6692\",\"pattern\":{\"shape\":\"\"}},\"name\":\"Odisha\",\"offsetgroup\":\"Odisha\",\"orientation\":\"v\",\"showlegend\":true,\"textposition\":\"auto\",\"x\":[\"East\"],\"xaxis\":\"x\",\"y\":[23.76],\"yaxis\":\"y\",\"type\":\"bar\"},{\"alignmentgroup\":\"True\",\"hovertemplate\":\"States=Puducherry\\u003cbr\\u003eMonth_name=Apr\\u003cbr\\u003eRegion=%{x}\\u003cbr\\u003eEstimated Unemployment Rate=%{y}\\u003cextra\\u003e\\u003c\\u002fextra\\u003e\",\"legendgroup\":\"Puducherry\",\"marker\":{\"color\":\"#B6E880\",\"pattern\":{\"shape\":\"\"}},\"name\":\"Puducherry\",\"offsetgroup\":\"Puducherry\",\"orientation\":\"v\",\"showlegend\":true,\"textposition\":\"auto\",\"x\":[\"South\"],\"xaxis\":\"x\",\"y\":[75.85],\"yaxis\":\"y\",\"type\":\"bar\"},{\"alignmentgroup\":\"True\",\"hovertemplate\":\"States=Punjab\\u003cbr\\u003eMonth_name=Apr\\u003cbr\\u003eRegion=%{x}\\u003cbr\\u003eEstimated Unemployment Rate=%{y}\\u003cextra\\u003e\\u003c\\u002fextra\\u003e\",\"legendgroup\":\"Punjab\",\"marker\":{\"color\":\"#FF97FF\",\"pattern\":{\"shape\":\"\"}},\"name\":\"Punjab\",\"offsetgroup\":\"Punjab\",\"orientation\":\"v\",\"showlegend\":true,\"textposition\":\"auto\",\"x\":[\"North\"],\"xaxis\":\"x\",\"y\":[2.86],\"yaxis\":\"y\",\"type\":\"bar\"},{\"alignmentgroup\":\"True\",\"hovertemplate\":\"States=Rajasthan\\u003cbr\\u003eMonth_name=Apr\\u003cbr\\u003eRegion=%{x}\\u003cbr\\u003eEstimated Unemployment Rate=%{y}\\u003cextra\\u003e\\u003c\\u002fextra\\u003e\",\"legendgroup\":\"Rajasthan\",\"marker\":{\"color\":\"#FECB52\",\"pattern\":{\"shape\":\"\"}},\"name\":\"Rajasthan\",\"offsetgroup\":\"Rajasthan\",\"orientation\":\"v\",\"showlegend\":true,\"textposition\":\"auto\",\"x\":[\"North\"],\"xaxis\":\"x\",\"y\":[17.7],\"yaxis\":\"y\",\"type\":\"bar\"},{\"alignmentgroup\":\"True\",\"hovertemplate\":\"States=Sikkim\\u003cbr\\u003eMonth_name=Apr\\u003cbr\\u003eRegion=%{x}\\u003cbr\\u003eEstimated Unemployment Rate=%{y}\\u003cextra\\u003e\\u003c\\u002fextra\\u003e\",\"legendgroup\":\"Sikkim\",\"marker\":{\"color\":\"#636efa\",\"pattern\":{\"shape\":\"\"}},\"name\":\"Sikkim\",\"offsetgroup\":\"Sikkim\",\"orientation\":\"v\",\"showlegend\":true,\"textposition\":\"auto\",\"x\":[\"Northeast\"],\"xaxis\":\"x\",\"y\":[2.28],\"yaxis\":\"y\",\"type\":\"bar\"},{\"alignmentgroup\":\"True\",\"hovertemplate\":\"States=Tamil Nadu\\u003cbr\\u003eMonth_name=Apr\\u003cbr\\u003eRegion=%{x}\\u003cbr\\u003eEstimated Unemployment Rate=%{y}\\u003cextra\\u003e\\u003c\\u002fextra\\u003e\",\"legendgroup\":\"Tamil Nadu\",\"marker\":{\"color\":\"#EF553B\",\"pattern\":{\"shape\":\"\"}},\"name\":\"Tamil Nadu\",\"offsetgroup\":\"Tamil Nadu\",\"orientation\":\"v\",\"showlegend\":true,\"textposition\":\"auto\",\"x\":[\"South\"],\"xaxis\":\"x\",\"y\":[49.83],\"yaxis\":\"y\",\"type\":\"bar\"},{\"alignmentgroup\":\"True\",\"hovertemplate\":\"States=Telangana\\u003cbr\\u003eMonth_name=Apr\\u003cbr\\u003eRegion=%{x}\\u003cbr\\u003eEstimated Unemployment Rate=%{y}\\u003cextra\\u003e\\u003c\\u002fextra\\u003e\",\"legendgroup\":\"Telangana\",\"marker\":{\"color\":\"#00cc96\",\"pattern\":{\"shape\":\"\"}},\"name\":\"Telangana\",\"offsetgroup\":\"Telangana\",\"orientation\":\"v\",\"showlegend\":true,\"textposition\":\"auto\",\"x\":[\"South\"],\"xaxis\":\"x\",\"y\":[6.25],\"yaxis\":\"y\",\"type\":\"bar\"},{\"alignmentgroup\":\"True\",\"hovertemplate\":\"States=Tripura\\u003cbr\\u003eMonth_name=Apr\\u003cbr\\u003eRegion=%{x}\\u003cbr\\u003eEstimated Unemployment Rate=%{y}\\u003cextra\\u003e\\u003c\\u002fextra\\u003e\",\"legendgroup\":\"Tripura\",\"marker\":{\"color\":\"#ab63fa\",\"pattern\":{\"shape\":\"\"}},\"name\":\"Tripura\",\"offsetgroup\":\"Tripura\",\"orientation\":\"v\",\"showlegend\":true,\"textposition\":\"auto\",\"x\":[\"Northeast\"],\"xaxis\":\"x\",\"y\":[41.23],\"yaxis\":\"y\",\"type\":\"bar\"},{\"alignmentgroup\":\"True\",\"hovertemplate\":\"States=Uttar Pradesh\\u003cbr\\u003eMonth_name=Apr\\u003cbr\\u003eRegion=%{x}\\u003cbr\\u003eEstimated Unemployment Rate=%{y}\\u003cextra\\u003e\\u003c\\u002fextra\\u003e\",\"legendgroup\":\"Uttar Pradesh\",\"marker\":{\"color\":\"#FFA15A\",\"pattern\":{\"shape\":\"\"}},\"name\":\"Uttar Pradesh\",\"offsetgroup\":\"Uttar Pradesh\",\"orientation\":\"v\",\"showlegend\":true,\"textposition\":\"auto\",\"x\":[\"North\"],\"xaxis\":\"x\",\"y\":[21.54],\"yaxis\":\"y\",\"type\":\"bar\"},{\"alignmentgroup\":\"True\",\"hovertemplate\":\"States=Uttarakhand\\u003cbr\\u003eMonth_name=Apr\\u003cbr\\u003eRegion=%{x}\\u003cbr\\u003eEstimated Unemployment Rate=%{y}\\u003cextra\\u003e\\u003c\\u002fextra\\u003e\",\"legendgroup\":\"Uttarakhand\",\"marker\":{\"color\":\"#19d3f3\",\"pattern\":{\"shape\":\"\"}},\"name\":\"Uttarakhand\",\"offsetgroup\":\"Uttarakhand\",\"orientation\":\"v\",\"showlegend\":true,\"textposition\":\"auto\",\"x\":[\"North\"],\"xaxis\":\"x\",\"y\":[6.48],\"yaxis\":\"y\",\"type\":\"bar\"},{\"alignmentgroup\":\"True\",\"hovertemplate\":\"States=West Bengal\\u003cbr\\u003eMonth_name=Apr\\u003cbr\\u003eRegion=%{x}\\u003cbr\\u003eEstimated Unemployment Rate=%{y}\\u003cextra\\u003e\\u003c\\u002fextra\\u003e\",\"legendgroup\":\"West Bengal\",\"marker\":{\"color\":\"#FF6692\",\"pattern\":{\"shape\":\"\"}},\"name\":\"West Bengal\",\"offsetgroup\":\"West Bengal\",\"orientation\":\"v\",\"showlegend\":true,\"textposition\":\"auto\",\"x\":[\"East\"],\"xaxis\":\"x\",\"y\":[17.41],\"yaxis\":\"y\",\"type\":\"bar\"}],\"name\":\"Apr\"},{\"data\":[{\"alignmentgroup\":\"True\",\"hovertemplate\":\"States=Andhra Pradesh\\u003cbr\\u003eMonth_name=May\\u003cbr\\u003eRegion=%{x}\\u003cbr\\u003eEstimated Unemployment Rate=%{y}\\u003cextra\\u003e\\u003c\\u002fextra\\u003e\",\"legendgroup\":\"Andhra Pradesh\",\"marker\":{\"color\":\"#636efa\",\"pattern\":{\"shape\":\"\"}},\"name\":\"Andhra Pradesh\",\"offsetgroup\":\"Andhra Pradesh\",\"orientation\":\"v\",\"showlegend\":true,\"textposition\":\"auto\",\"x\":[\"South\"],\"xaxis\":\"x\",\"y\":[17.43],\"yaxis\":\"y\",\"type\":\"bar\"},{\"alignmentgroup\":\"True\",\"hovertemplate\":\"States=Assam\\u003cbr\\u003eMonth_name=May\\u003cbr\\u003eRegion=%{x}\\u003cbr\\u003eEstimated Unemployment Rate=%{y}\\u003cextra\\u003e\\u003c\\u002fextra\\u003e\",\"legendgroup\":\"Assam\",\"marker\":{\"color\":\"#EF553B\",\"pattern\":{\"shape\":\"\"}},\"name\":\"Assam\",\"offsetgroup\":\"Assam\",\"orientation\":\"v\",\"showlegend\":true,\"textposition\":\"auto\",\"x\":[\"Northeast\"],\"xaxis\":\"x\",\"y\":[9.55],\"yaxis\":\"y\",\"type\":\"bar\"},{\"alignmentgroup\":\"True\",\"hovertemplate\":\"States=Bihar\\u003cbr\\u003eMonth_name=May\\u003cbr\\u003eRegion=%{x}\\u003cbr\\u003eEstimated Unemployment Rate=%{y}\\u003cextra\\u003e\\u003c\\u002fextra\\u003e\",\"legendgroup\":\"Bihar\",\"marker\":{\"color\":\"#00cc96\",\"pattern\":{\"shape\":\"\"}},\"name\":\"Bihar\",\"offsetgroup\":\"Bihar\",\"orientation\":\"v\",\"showlegend\":true,\"textposition\":\"auto\",\"x\":[\"East\"],\"xaxis\":\"x\",\"y\":[45.96],\"yaxis\":\"y\",\"type\":\"bar\"},{\"alignmentgroup\":\"True\",\"hovertemplate\":\"States=Chhattisgarh\\u003cbr\\u003eMonth_name=May\\u003cbr\\u003eRegion=%{x}\\u003cbr\\u003eEstimated Unemployment Rate=%{y}\\u003cextra\\u003e\\u003c\\u002fextra\\u003e\",\"legendgroup\":\"Chhattisgarh\",\"marker\":{\"color\":\"#ab63fa\",\"pattern\":{\"shape\":\"\"}},\"name\":\"Chhattisgarh\",\"offsetgroup\":\"Chhattisgarh\",\"orientation\":\"v\",\"showlegend\":true,\"textposition\":\"auto\",\"x\":[\"West\"],\"xaxis\":\"x\",\"y\":[10.5],\"yaxis\":\"y\",\"type\":\"bar\"},{\"alignmentgroup\":\"True\",\"hovertemplate\":\"States=Delhi\\u003cbr\\u003eMonth_name=May\\u003cbr\\u003eRegion=%{x}\\u003cbr\\u003eEstimated Unemployment Rate=%{y}\\u003cextra\\u003e\\u003c\\u002fextra\\u003e\",\"legendgroup\":\"Delhi\",\"marker\":{\"color\":\"#FFA15A\",\"pattern\":{\"shape\":\"\"}},\"name\":\"Delhi\",\"offsetgroup\":\"Delhi\",\"orientation\":\"v\",\"showlegend\":true,\"textposition\":\"auto\",\"x\":[\"North\"],\"xaxis\":\"x\",\"y\":[42.27],\"yaxis\":\"y\",\"type\":\"bar\"},{\"alignmentgroup\":\"True\",\"hovertemplate\":\"States=Goa\\u003cbr\\u003eMonth_name=May\\u003cbr\\u003eRegion=%{x}\\u003cbr\\u003eEstimated Unemployment Rate=%{y}\\u003cextra\\u003e\\u003c\\u002fextra\\u003e\",\"legendgroup\":\"Goa\",\"marker\":{\"color\":\"#19d3f3\",\"pattern\":{\"shape\":\"\"}},\"name\":\"Goa\",\"offsetgroup\":\"Goa\",\"orientation\":\"v\",\"showlegend\":true,\"textposition\":\"auto\",\"x\":[\"West\"],\"xaxis\":\"x\",\"y\":[21.25],\"yaxis\":\"y\",\"type\":\"bar\"},{\"alignmentgroup\":\"True\",\"hovertemplate\":\"States=Gujarat\\u003cbr\\u003eMonth_name=May\\u003cbr\\u003eRegion=%{x}\\u003cbr\\u003eEstimated Unemployment Rate=%{y}\\u003cextra\\u003e\\u003c\\u002fextra\\u003e\",\"legendgroup\":\"Gujarat\",\"marker\":{\"color\":\"#FF6692\",\"pattern\":{\"shape\":\"\"}},\"name\":\"Gujarat\",\"offsetgroup\":\"Gujarat\",\"orientation\":\"v\",\"showlegend\":true,\"textposition\":\"auto\",\"x\":[\"West\"],\"xaxis\":\"x\",\"y\":[12.11],\"yaxis\":\"y\",\"type\":\"bar\"},{\"alignmentgroup\":\"True\",\"hovertemplate\":\"States=Haryana\\u003cbr\\u003eMonth_name=May\\u003cbr\\u003eRegion=%{x}\\u003cbr\\u003eEstimated Unemployment Rate=%{y}\\u003cextra\\u003e\\u003c\\u002fextra\\u003e\",\"legendgroup\":\"Haryana\",\"marker\":{\"color\":\"#B6E880\",\"pattern\":{\"shape\":\"\"}},\"name\":\"Haryana\",\"offsetgroup\":\"Haryana\",\"orientation\":\"v\",\"showlegend\":true,\"textposition\":\"auto\",\"x\":[\"North\"],\"xaxis\":\"x\",\"y\":[29.02],\"yaxis\":\"y\",\"type\":\"bar\"},{\"alignmentgroup\":\"True\",\"hovertemplate\":\"States=Himachal Pradesh\\u003cbr\\u003eMonth_name=May\\u003cbr\\u003eRegion=%{x}\\u003cbr\\u003eEstimated Unemployment Rate=%{y}\\u003cextra\\u003e\\u003c\\u002fextra\\u003e\",\"legendgroup\":\"Himachal Pradesh\",\"marker\":{\"color\":\"#FF97FF\",\"pattern\":{\"shape\":\"\"}},\"name\":\"Himachal Pradesh\",\"offsetgroup\":\"Himachal Pradesh\",\"orientation\":\"v\",\"showlegend\":true,\"textposition\":\"auto\",\"x\":[\"North\"],\"xaxis\":\"x\",\"y\":[26.95],\"yaxis\":\"y\",\"type\":\"bar\"},{\"alignmentgroup\":\"True\",\"hovertemplate\":\"States=Jammu & Kashmir\\u003cbr\\u003eMonth_name=May\\u003cbr\\u003eRegion=%{x}\\u003cbr\\u003eEstimated Unemployment Rate=%{y}\\u003cextra\\u003e\\u003c\\u002fextra\\u003e\",\"legendgroup\":\"Jammu & Kashmir\",\"marker\":{\"color\":\"#FECB52\",\"pattern\":{\"shape\":\"\"}},\"name\":\"Jammu & Kashmir\",\"offsetgroup\":\"Jammu & Kashmir\",\"orientation\":\"v\",\"showlegend\":true,\"textposition\":\"auto\",\"x\":[\"North\"],\"xaxis\":\"x\",\"y\":[18.74],\"yaxis\":\"y\",\"type\":\"bar\"},{\"alignmentgroup\":\"True\",\"hovertemplate\":\"States=Jharkhand\\u003cbr\\u003eMonth_name=May\\u003cbr\\u003eRegion=%{x}\\u003cbr\\u003eEstimated Unemployment Rate=%{y}\\u003cextra\\u003e\\u003c\\u002fextra\\u003e\",\"legendgroup\":\"Jharkhand\",\"marker\":{\"color\":\"#636efa\",\"pattern\":{\"shape\":\"\"}},\"name\":\"Jharkhand\",\"offsetgroup\":\"Jharkhand\",\"orientation\":\"v\",\"showlegend\":true,\"textposition\":\"auto\",\"x\":[\"East\"],\"xaxis\":\"x\",\"y\":[59.23],\"yaxis\":\"y\",\"type\":\"bar\"},{\"alignmentgroup\":\"True\",\"hovertemplate\":\"States=Karnataka\\u003cbr\\u003eMonth_name=May\\u003cbr\\u003eRegion=%{x}\\u003cbr\\u003eEstimated Unemployment Rate=%{y}\\u003cextra\\u003e\\u003c\\u002fextra\\u003e\",\"legendgroup\":\"Karnataka\",\"marker\":{\"color\":\"#EF553B\",\"pattern\":{\"shape\":\"\"}},\"name\":\"Karnataka\",\"offsetgroup\":\"Karnataka\",\"orientation\":\"v\",\"showlegend\":true,\"textposition\":\"auto\",\"x\":[\"South\"],\"xaxis\":\"x\",\"y\":[19.97],\"yaxis\":\"y\",\"type\":\"bar\"},{\"alignmentgroup\":\"True\",\"hovertemplate\":\"States=Kerala\\u003cbr\\u003eMonth_name=May\\u003cbr\\u003eRegion=%{x}\\u003cbr\\u003eEstimated Unemployment Rate=%{y}\\u003cextra\\u003e\\u003c\\u002fextra\\u003e\",\"legendgroup\":\"Kerala\",\"marker\":{\"color\":\"#00cc96\",\"pattern\":{\"shape\":\"\"}},\"name\":\"Kerala\",\"offsetgroup\":\"Kerala\",\"orientation\":\"v\",\"showlegend\":true,\"textposition\":\"auto\",\"x\":[\"South\"],\"xaxis\":\"x\",\"y\":[17.88],\"yaxis\":\"y\",\"type\":\"bar\"},{\"alignmentgroup\":\"True\",\"hovertemplate\":\"States=Madhya Pradesh\\u003cbr\\u003eMonth_name=May\\u003cbr\\u003eRegion=%{x}\\u003cbr\\u003eEstimated Unemployment Rate=%{y}\\u003cextra\\u003e\\u003c\\u002fextra\\u003e\",\"legendgroup\":\"Madhya Pradesh\",\"marker\":{\"color\":\"#ab63fa\",\"pattern\":{\"shape\":\"\"}},\"name\":\"Madhya Pradesh\",\"offsetgroup\":\"Madhya Pradesh\",\"orientation\":\"v\",\"showlegend\":true,\"textposition\":\"auto\",\"x\":[\"West\"],\"xaxis\":\"x\",\"y\":[21.98],\"yaxis\":\"y\",\"type\":\"bar\"},{\"alignmentgroup\":\"True\",\"hovertemplate\":\"States=Maharashtra\\u003cbr\\u003eMonth_name=May\\u003cbr\\u003eRegion=%{x}\\u003cbr\\u003eEstimated Unemployment Rate=%{y}\\u003cextra\\u003e\\u003c\\u002fextra\\u003e\",\"legendgroup\":\"Maharashtra\",\"marker\":{\"color\":\"#FFA15A\",\"pattern\":{\"shape\":\"\"}},\"name\":\"Maharashtra\",\"offsetgroup\":\"Maharashtra\",\"orientation\":\"v\",\"showlegend\":true,\"textposition\":\"auto\",\"x\":[\"West\"],\"xaxis\":\"x\",\"y\":[15.46],\"yaxis\":\"y\",\"type\":\"bar\"},{\"alignmentgroup\":\"True\",\"hovertemplate\":\"States=Meghalaya\\u003cbr\\u003eMonth_name=May\\u003cbr\\u003eRegion=%{x}\\u003cbr\\u003eEstimated Unemployment Rate=%{y}\\u003cextra\\u003e\\u003c\\u002fextra\\u003e\",\"legendgroup\":\"Meghalaya\",\"marker\":{\"color\":\"#19d3f3\",\"pattern\":{\"shape\":\"\"}},\"name\":\"Meghalaya\",\"offsetgroup\":\"Meghalaya\",\"orientation\":\"v\",\"showlegend\":true,\"textposition\":\"auto\",\"x\":[\"Northeast\"],\"xaxis\":\"x\",\"y\":[5.92],\"yaxis\":\"y\",\"type\":\"bar\"},{\"alignmentgroup\":\"True\",\"hovertemplate\":\"States=Odisha\\u003cbr\\u003eMonth_name=May\\u003cbr\\u003eRegion=%{x}\\u003cbr\\u003eEstimated Unemployment Rate=%{y}\\u003cextra\\u003e\\u003c\\u002fextra\\u003e\",\"legendgroup\":\"Odisha\",\"marker\":{\"color\":\"#FF6692\",\"pattern\":{\"shape\":\"\"}},\"name\":\"Odisha\",\"offsetgroup\":\"Odisha\",\"orientation\":\"v\",\"showlegend\":true,\"textposition\":\"auto\",\"x\":[\"East\"],\"xaxis\":\"x\",\"y\":[11.41],\"yaxis\":\"y\",\"type\":\"bar\"},{\"alignmentgroup\":\"True\",\"hovertemplate\":\"States=Puducherry\\u003cbr\\u003eMonth_name=May\\u003cbr\\u003eRegion=%{x}\\u003cbr\\u003eEstimated Unemployment Rate=%{y}\\u003cextra\\u003e\\u003c\\u002fextra\\u003e\",\"legendgroup\":\"Puducherry\",\"marker\":{\"color\":\"#B6E880\",\"pattern\":{\"shape\":\"\"}},\"name\":\"Puducherry\",\"offsetgroup\":\"Puducherry\",\"orientation\":\"v\",\"showlegend\":true,\"textposition\":\"auto\",\"x\":[\"South\"],\"xaxis\":\"x\",\"y\":[58.19],\"yaxis\":\"y\",\"type\":\"bar\"},{\"alignmentgroup\":\"True\",\"hovertemplate\":\"States=Punjab\\u003cbr\\u003eMonth_name=May\\u003cbr\\u003eRegion=%{x}\\u003cbr\\u003eEstimated Unemployment Rate=%{y}\\u003cextra\\u003e\\u003c\\u002fextra\\u003e\",\"legendgroup\":\"Punjab\",\"marker\":{\"color\":\"#FF97FF\",\"pattern\":{\"shape\":\"\"}},\"name\":\"Punjab\",\"offsetgroup\":\"Punjab\",\"orientation\":\"v\",\"showlegend\":true,\"textposition\":\"auto\",\"x\":[\"North\"],\"xaxis\":\"x\",\"y\":[28.33],\"yaxis\":\"y\",\"type\":\"bar\"},{\"alignmentgroup\":\"True\",\"hovertemplate\":\"States=Rajasthan\\u003cbr\\u003eMonth_name=May\\u003cbr\\u003eRegion=%{x}\\u003cbr\\u003eEstimated Unemployment Rate=%{y}\\u003cextra\\u003e\\u003c\\u002fextra\\u003e\",\"legendgroup\":\"Rajasthan\",\"marker\":{\"color\":\"#FECB52\",\"pattern\":{\"shape\":\"\"}},\"name\":\"Rajasthan\",\"offsetgroup\":\"Rajasthan\",\"orientation\":\"v\",\"showlegend\":true,\"textposition\":\"auto\",\"x\":[\"North\"],\"xaxis\":\"x\",\"y\":[15.74],\"yaxis\":\"y\",\"type\":\"bar\"},{\"alignmentgroup\":\"True\",\"hovertemplate\":\"States=Sikkim\\u003cbr\\u003eMonth_name=May\\u003cbr\\u003eRegion=%{x}\\u003cbr\\u003eEstimated Unemployment Rate=%{y}\\u003cextra\\u003e\\u003c\\u002fextra\\u003e\",\"legendgroup\":\"Sikkim\",\"marker\":{\"color\":\"#636efa\",\"pattern\":{\"shape\":\"\"}},\"name\":\"Sikkim\",\"offsetgroup\":\"Sikkim\",\"orientation\":\"v\",\"showlegend\":true,\"textposition\":\"auto\",\"x\":[\"Northeast\"],\"xaxis\":\"x\",\"y\":[24.51],\"yaxis\":\"y\",\"type\":\"bar\"},{\"alignmentgroup\":\"True\",\"hovertemplate\":\"States=Tamil Nadu\\u003cbr\\u003eMonth_name=May\\u003cbr\\u003eRegion=%{x}\\u003cbr\\u003eEstimated Unemployment Rate=%{y}\\u003cextra\\u003e\\u003c\\u002fextra\\u003e\",\"legendgroup\":\"Tamil Nadu\",\"marker\":{\"color\":\"#EF553B\",\"pattern\":{\"shape\":\"\"}},\"name\":\"Tamil Nadu\",\"offsetgroup\":\"Tamil Nadu\",\"orientation\":\"v\",\"showlegend\":true,\"textposition\":\"auto\",\"x\":[\"South\"],\"xaxis\":\"x\",\"y\":[33.16],\"yaxis\":\"y\",\"type\":\"bar\"},{\"alignmentgroup\":\"True\",\"hovertemplate\":\"States=Telangana\\u003cbr\\u003eMonth_name=May\\u003cbr\\u003eRegion=%{x}\\u003cbr\\u003eEstimated Unemployment Rate=%{y}\\u003cextra\\u003e\\u003c\\u002fextra\\u003e\",\"legendgroup\":\"Telangana\",\"marker\":{\"color\":\"#00cc96\",\"pattern\":{\"shape\":\"\"}},\"name\":\"Telangana\",\"offsetgroup\":\"Telangana\",\"orientation\":\"v\",\"showlegend\":true,\"textposition\":\"auto\",\"x\":[\"South\"],\"xaxis\":\"x\",\"y\":[14.7],\"yaxis\":\"y\",\"type\":\"bar\"},{\"alignmentgroup\":\"True\",\"hovertemplate\":\"States=Tripura\\u003cbr\\u003eMonth_name=May\\u003cbr\\u003eRegion=%{x}\\u003cbr\\u003eEstimated Unemployment Rate=%{y}\\u003cextra\\u003e\\u003c\\u002fextra\\u003e\",\"legendgroup\":\"Tripura\",\"marker\":{\"color\":\"#ab63fa\",\"pattern\":{\"shape\":\"\"}},\"name\":\"Tripura\",\"offsetgroup\":\"Tripura\",\"orientation\":\"v\",\"showlegend\":true,\"textposition\":\"auto\",\"x\":[\"Northeast\"],\"xaxis\":\"x\",\"y\":[21.51],\"yaxis\":\"y\",\"type\":\"bar\"},{\"alignmentgroup\":\"True\",\"hovertemplate\":\"States=Uttar Pradesh\\u003cbr\\u003eMonth_name=May\\u003cbr\\u003eRegion=%{x}\\u003cbr\\u003eEstimated Unemployment Rate=%{y}\\u003cextra\\u003e\\u003c\\u002fextra\\u003e\",\"legendgroup\":\"Uttar Pradesh\",\"marker\":{\"color\":\"#FFA15A\",\"pattern\":{\"shape\":\"\"}},\"name\":\"Uttar Pradesh\",\"offsetgroup\":\"Uttar Pradesh\",\"orientation\":\"v\",\"showlegend\":true,\"textposition\":\"auto\",\"x\":[\"North\"],\"xaxis\":\"x\",\"y\":[20.41],\"yaxis\":\"y\",\"type\":\"bar\"},{\"alignmentgroup\":\"True\",\"hovertemplate\":\"States=Uttarakhand\\u003cbr\\u003eMonth_name=May\\u003cbr\\u003eRegion=%{x}\\u003cbr\\u003eEstimated Unemployment Rate=%{y}\\u003cextra\\u003e\\u003c\\u002fextra\\u003e\",\"legendgroup\":\"Uttarakhand\",\"marker\":{\"color\":\"#19d3f3\",\"pattern\":{\"shape\":\"\"}},\"name\":\"Uttarakhand\",\"offsetgroup\":\"Uttarakhand\",\"orientation\":\"v\",\"showlegend\":true,\"textposition\":\"auto\",\"x\":[\"North\"],\"xaxis\":\"x\",\"y\":[8.01],\"yaxis\":\"y\",\"type\":\"bar\"},{\"alignmentgroup\":\"True\",\"hovertemplate\":\"States=West Bengal\\u003cbr\\u003eMonth_name=May\\u003cbr\\u003eRegion=%{x}\\u003cbr\\u003eEstimated Unemployment Rate=%{y}\\u003cextra\\u003e\\u003c\\u002fextra\\u003e\",\"legendgroup\":\"West Bengal\",\"marker\":{\"color\":\"#FF6692\",\"pattern\":{\"shape\":\"\"}},\"name\":\"West Bengal\",\"offsetgroup\":\"West Bengal\",\"orientation\":\"v\",\"showlegend\":true,\"textposition\":\"auto\",\"x\":[\"East\"],\"xaxis\":\"x\",\"y\":[17.41],\"yaxis\":\"y\",\"type\":\"bar\"}],\"name\":\"May\"},{\"data\":[{\"alignmentgroup\":\"True\",\"hovertemplate\":\"States=Andhra Pradesh\\u003cbr\\u003eMonth_name=Jun\\u003cbr\\u003eRegion=%{x}\\u003cbr\\u003eEstimated Unemployment Rate=%{y}\\u003cextra\\u003e\\u003c\\u002fextra\\u003e\",\"legendgroup\":\"Andhra Pradesh\",\"marker\":{\"color\":\"#636efa\",\"pattern\":{\"shape\":\"\"}},\"name\":\"Andhra Pradesh\",\"offsetgroup\":\"Andhra Pradesh\",\"orientation\":\"v\",\"showlegend\":true,\"textposition\":\"auto\",\"x\":[\"South\"],\"xaxis\":\"x\",\"y\":[3.31],\"yaxis\":\"y\",\"type\":\"bar\"},{\"alignmentgroup\":\"True\",\"hovertemplate\":\"States=Assam\\u003cbr\\u003eMonth_name=Jun\\u003cbr\\u003eRegion=%{x}\\u003cbr\\u003eEstimated Unemployment Rate=%{y}\\u003cextra\\u003e\\u003c\\u002fextra\\u003e\",\"legendgroup\":\"Assam\",\"marker\":{\"color\":\"#EF553B\",\"pattern\":{\"shape\":\"\"}},\"name\":\"Assam\",\"offsetgroup\":\"Assam\",\"orientation\":\"v\",\"showlegend\":true,\"textposition\":\"auto\",\"x\":[\"Northeast\"],\"xaxis\":\"x\",\"y\":[0.6],\"yaxis\":\"y\",\"type\":\"bar\"},{\"alignmentgroup\":\"True\",\"hovertemplate\":\"States=Bihar\\u003cbr\\u003eMonth_name=Jun\\u003cbr\\u003eRegion=%{x}\\u003cbr\\u003eEstimated Unemployment Rate=%{y}\\u003cextra\\u003e\\u003c\\u002fextra\\u003e\",\"legendgroup\":\"Bihar\",\"marker\":{\"color\":\"#00cc96\",\"pattern\":{\"shape\":\"\"}},\"name\":\"Bihar\",\"offsetgroup\":\"Bihar\",\"orientation\":\"v\",\"showlegend\":true,\"textposition\":\"auto\",\"x\":[\"East\"],\"xaxis\":\"x\",\"y\":[17.82],\"yaxis\":\"y\",\"type\":\"bar\"},{\"alignmentgroup\":\"True\",\"hovertemplate\":\"States=Chhattisgarh\\u003cbr\\u003eMonth_name=Jun\\u003cbr\\u003eRegion=%{x}\\u003cbr\\u003eEstimated Unemployment Rate=%{y}\\u003cextra\\u003e\\u003c\\u002fextra\\u003e\",\"legendgroup\":\"Chhattisgarh\",\"marker\":{\"color\":\"#ab63fa\",\"pattern\":{\"shape\":\"\"}},\"name\":\"Chhattisgarh\",\"offsetgroup\":\"Chhattisgarh\",\"orientation\":\"v\",\"showlegend\":true,\"textposition\":\"auto\",\"x\":[\"West\"],\"xaxis\":\"x\",\"y\":[14.23],\"yaxis\":\"y\",\"type\":\"bar\"},{\"alignmentgroup\":\"True\",\"hovertemplate\":\"States=Delhi\\u003cbr\\u003eMonth_name=Jun\\u003cbr\\u003eRegion=%{x}\\u003cbr\\u003eEstimated Unemployment Rate=%{y}\\u003cextra\\u003e\\u003c\\u002fextra\\u003e\",\"legendgroup\":\"Delhi\",\"marker\":{\"color\":\"#FFA15A\",\"pattern\":{\"shape\":\"\"}},\"name\":\"Delhi\",\"offsetgroup\":\"Delhi\",\"orientation\":\"v\",\"showlegend\":true,\"textposition\":\"auto\",\"x\":[\"North\"],\"xaxis\":\"x\",\"y\":[18.19],\"yaxis\":\"y\",\"type\":\"bar\"},{\"alignmentgroup\":\"True\",\"hovertemplate\":\"States=Goa\\u003cbr\\u003eMonth_name=Jun\\u003cbr\\u003eRegion=%{x}\\u003cbr\\u003eEstimated Unemployment Rate=%{y}\\u003cextra\\u003e\\u003c\\u002fextra\\u003e\",\"legendgroup\":\"Goa\",\"marker\":{\"color\":\"#19d3f3\",\"pattern\":{\"shape\":\"\"}},\"name\":\"Goa\",\"offsetgroup\":\"Goa\",\"orientation\":\"v\",\"showlegend\":true,\"textposition\":\"auto\",\"x\":[\"West\"],\"xaxis\":\"x\",\"y\":[9.96],\"yaxis\":\"y\",\"type\":\"bar\"},{\"alignmentgroup\":\"True\",\"hovertemplate\":\"States=Gujarat\\u003cbr\\u003eMonth_name=Jun\\u003cbr\\u003eRegion=%{x}\\u003cbr\\u003eEstimated Unemployment Rate=%{y}\\u003cextra\\u003e\\u003c\\u002fextra\\u003e\",\"legendgroup\":\"Gujarat\",\"marker\":{\"color\":\"#FF6692\",\"pattern\":{\"shape\":\"\"}},\"name\":\"Gujarat\",\"offsetgroup\":\"Gujarat\",\"orientation\":\"v\",\"showlegend\":true,\"textposition\":\"auto\",\"x\":[\"West\"],\"xaxis\":\"x\",\"y\":[3.2],\"yaxis\":\"y\",\"type\":\"bar\"},{\"alignmentgroup\":\"True\",\"hovertemplate\":\"States=Haryana\\u003cbr\\u003eMonth_name=Jun\\u003cbr\\u003eRegion=%{x}\\u003cbr\\u003eEstimated Unemployment Rate=%{y}\\u003cextra\\u003e\\u003c\\u002fextra\\u003e\",\"legendgroup\":\"Haryana\",\"marker\":{\"color\":\"#B6E880\",\"pattern\":{\"shape\":\"\"}},\"name\":\"Haryana\",\"offsetgroup\":\"Haryana\",\"orientation\":\"v\",\"showlegend\":true,\"textposition\":\"auto\",\"x\":[\"North\"],\"xaxis\":\"x\",\"y\":[26.7],\"yaxis\":\"y\",\"type\":\"bar\"},{\"alignmentgroup\":\"True\",\"hovertemplate\":\"States=Himachal Pradesh\\u003cbr\\u003eMonth_name=Jun\\u003cbr\\u003eRegion=%{x}\\u003cbr\\u003eEstimated Unemployment Rate=%{y}\\u003cextra\\u003e\\u003c\\u002fextra\\u003e\",\"legendgroup\":\"Himachal Pradesh\",\"marker\":{\"color\":\"#FF97FF\",\"pattern\":{\"shape\":\"\"}},\"name\":\"Himachal Pradesh\",\"offsetgroup\":\"Himachal Pradesh\",\"orientation\":\"v\",\"showlegend\":true,\"textposition\":\"auto\",\"x\":[\"North\"],\"xaxis\":\"x\",\"y\":[13.47],\"yaxis\":\"y\",\"type\":\"bar\"},{\"alignmentgroup\":\"True\",\"hovertemplate\":\"States=Jammu & Kashmir\\u003cbr\\u003eMonth_name=Jun\\u003cbr\\u003eRegion=%{x}\\u003cbr\\u003eEstimated Unemployment Rate=%{y}\\u003cextra\\u003e\\u003c\\u002fextra\\u003e\",\"legendgroup\":\"Jammu & Kashmir\",\"marker\":{\"color\":\"#FECB52\",\"pattern\":{\"shape\":\"\"}},\"name\":\"Jammu & Kashmir\",\"offsetgroup\":\"Jammu & Kashmir\",\"orientation\":\"v\",\"showlegend\":true,\"textposition\":\"auto\",\"x\":[\"North\"],\"xaxis\":\"x\",\"y\":[17.92],\"yaxis\":\"y\",\"type\":\"bar\"},{\"alignmentgroup\":\"True\",\"hovertemplate\":\"States=Jharkhand\\u003cbr\\u003eMonth_name=Jun\\u003cbr\\u003eRegion=%{x}\\u003cbr\\u003eEstimated Unemployment Rate=%{y}\\u003cextra\\u003e\\u003c\\u002fextra\\u003e\",\"legendgroup\":\"Jharkhand\",\"marker\":{\"color\":\"#636efa\",\"pattern\":{\"shape\":\"\"}},\"name\":\"Jharkhand\",\"offsetgroup\":\"Jharkhand\",\"orientation\":\"v\",\"showlegend\":true,\"textposition\":\"auto\",\"x\":[\"East\"],\"xaxis\":\"x\",\"y\":[20.95],\"yaxis\":\"y\",\"type\":\"bar\"},{\"alignmentgroup\":\"True\",\"hovertemplate\":\"States=Karnataka\\u003cbr\\u003eMonth_name=Jun\\u003cbr\\u003eRegion=%{x}\\u003cbr\\u003eEstimated Unemployment Rate=%{y}\\u003cextra\\u003e\\u003c\\u002fextra\\u003e\",\"legendgroup\":\"Karnataka\",\"marker\":{\"color\":\"#EF553B\",\"pattern\":{\"shape\":\"\"}},\"name\":\"Karnataka\",\"offsetgroup\":\"Karnataka\",\"orientation\":\"v\",\"showlegend\":true,\"textposition\":\"auto\",\"x\":[\"South\"],\"xaxis\":\"x\",\"y\":[8.44],\"yaxis\":\"y\",\"type\":\"bar\"},{\"alignmentgroup\":\"True\",\"hovertemplate\":\"States=Kerala\\u003cbr\\u003eMonth_name=Jun\\u003cbr\\u003eRegion=%{x}\\u003cbr\\u003eEstimated Unemployment Rate=%{y}\\u003cextra\\u003e\\u003c\\u002fextra\\u003e\",\"legendgroup\":\"Kerala\",\"marker\":{\"color\":\"#00cc96\",\"pattern\":{\"shape\":\"\"}},\"name\":\"Kerala\",\"offsetgroup\":\"Kerala\",\"orientation\":\"v\",\"showlegend\":true,\"textposition\":\"auto\",\"x\":[\"South\"],\"xaxis\":\"x\",\"y\":[9.71],\"yaxis\":\"y\",\"type\":\"bar\"},{\"alignmentgroup\":\"True\",\"hovertemplate\":\"States=Madhya Pradesh\\u003cbr\\u003eMonth_name=Jun\\u003cbr\\u003eRegion=%{x}\\u003cbr\\u003eEstimated Unemployment Rate=%{y}\\u003cextra\\u003e\\u003c\\u002fextra\\u003e\",\"legendgroup\":\"Madhya Pradesh\",\"marker\":{\"color\":\"#ab63fa\",\"pattern\":{\"shape\":\"\"}},\"name\":\"Madhya Pradesh\",\"offsetgroup\":\"Madhya Pradesh\",\"orientation\":\"v\",\"showlegend\":true,\"textposition\":\"auto\",\"x\":[\"West\"],\"xaxis\":\"x\",\"y\":[6.48],\"yaxis\":\"y\",\"type\":\"bar\"},{\"alignmentgroup\":\"True\",\"hovertemplate\":\"States=Maharashtra\\u003cbr\\u003eMonth_name=Jun\\u003cbr\\u003eRegion=%{x}\\u003cbr\\u003eEstimated Unemployment Rate=%{y}\\u003cextra\\u003e\\u003c\\u002fextra\\u003e\",\"legendgroup\":\"Maharashtra\",\"marker\":{\"color\":\"#FFA15A\",\"pattern\":{\"shape\":\"\"}},\"name\":\"Maharashtra\",\"offsetgroup\":\"Maharashtra\",\"orientation\":\"v\",\"showlegend\":true,\"textposition\":\"auto\",\"x\":[\"West\"],\"xaxis\":\"x\",\"y\":[9.23],\"yaxis\":\"y\",\"type\":\"bar\"},{\"alignmentgroup\":\"True\",\"hovertemplate\":\"States=Meghalaya\\u003cbr\\u003eMonth_name=Jun\\u003cbr\\u003eRegion=%{x}\\u003cbr\\u003eEstimated Unemployment Rate=%{y}\\u003cextra\\u003e\\u003c\\u002fextra\\u003e\",\"legendgroup\":\"Meghalaya\",\"marker\":{\"color\":\"#19d3f3\",\"pattern\":{\"shape\":\"\"}},\"name\":\"Meghalaya\",\"offsetgroup\":\"Meghalaya\",\"orientation\":\"v\",\"showlegend\":true,\"textposition\":\"auto\",\"x\":[\"Northeast\"],\"xaxis\":\"x\",\"y\":[1.15],\"yaxis\":\"y\",\"type\":\"bar\"},{\"alignmentgroup\":\"True\",\"hovertemplate\":\"States=Odisha\\u003cbr\\u003eMonth_name=Jun\\u003cbr\\u003eRegion=%{x}\\u003cbr\\u003eEstimated Unemployment Rate=%{y}\\u003cextra\\u003e\\u003c\\u002fextra\\u003e\",\"legendgroup\":\"Odisha\",\"marker\":{\"color\":\"#FF6692\",\"pattern\":{\"shape\":\"\"}},\"name\":\"Odisha\",\"offsetgroup\":\"Odisha\",\"orientation\":\"v\",\"showlegend\":true,\"textposition\":\"auto\",\"x\":[\"East\"],\"xaxis\":\"x\",\"y\":[3.77],\"yaxis\":\"y\",\"type\":\"bar\"},{\"alignmentgroup\":\"True\",\"hovertemplate\":\"States=Puducherry\\u003cbr\\u003eMonth_name=Jun\\u003cbr\\u003eRegion=%{x}\\u003cbr\\u003eEstimated Unemployment Rate=%{y}\\u003cextra\\u003e\\u003c\\u002fextra\\u003e\",\"legendgroup\":\"Puducherry\",\"marker\":{\"color\":\"#B6E880\",\"pattern\":{\"shape\":\"\"}},\"name\":\"Puducherry\",\"offsetgroup\":\"Puducherry\",\"orientation\":\"v\",\"showlegend\":true,\"textposition\":\"auto\",\"x\":[\"South\"],\"xaxis\":\"x\",\"y\":[4.24],\"yaxis\":\"y\",\"type\":\"bar\"},{\"alignmentgroup\":\"True\",\"hovertemplate\":\"States=Punjab\\u003cbr\\u003eMonth_name=Jun\\u003cbr\\u003eRegion=%{x}\\u003cbr\\u003eEstimated Unemployment Rate=%{y}\\u003cextra\\u003e\\u003c\\u002fextra\\u003e\",\"legendgroup\":\"Punjab\",\"marker\":{\"color\":\"#FF97FF\",\"pattern\":{\"shape\":\"\"}},\"name\":\"Punjab\",\"offsetgroup\":\"Punjab\",\"orientation\":\"v\",\"showlegend\":true,\"textposition\":\"auto\",\"x\":[\"North\"],\"xaxis\":\"x\",\"y\":[16.55],\"yaxis\":\"y\",\"type\":\"bar\"},{\"alignmentgroup\":\"True\",\"hovertemplate\":\"States=Rajasthan\\u003cbr\\u003eMonth_name=Jun\\u003cbr\\u003eRegion=%{x}\\u003cbr\\u003eEstimated Unemployment Rate=%{y}\\u003cextra\\u003e\\u003c\\u002fextra\\u003e\",\"legendgroup\":\"Rajasthan\",\"marker\":{\"color\":\"#FECB52\",\"pattern\":{\"shape\":\"\"}},\"name\":\"Rajasthan\",\"offsetgroup\":\"Rajasthan\",\"orientation\":\"v\",\"showlegend\":true,\"textposition\":\"auto\",\"x\":[\"North\"],\"xaxis\":\"x\",\"y\":[14.39],\"yaxis\":\"y\",\"type\":\"bar\"},{\"alignmentgroup\":\"True\",\"hovertemplate\":\"States=Sikkim\\u003cbr\\u003eMonth_name=Jun\\u003cbr\\u003eRegion=%{x}\\u003cbr\\u003eEstimated Unemployment Rate=%{y}\\u003cextra\\u003e\\u003c\\u002fextra\\u003e\",\"legendgroup\":\"Sikkim\",\"marker\":{\"color\":\"#636efa\",\"pattern\":{\"shape\":\"\"}},\"name\":\"Sikkim\",\"offsetgroup\":\"Sikkim\",\"orientation\":\"v\",\"showlegend\":true,\"textposition\":\"auto\",\"x\":[\"Northeast\"],\"xaxis\":\"x\",\"y\":[4.46],\"yaxis\":\"y\",\"type\":\"bar\"},{\"alignmentgroup\":\"True\",\"hovertemplate\":\"States=Tamil Nadu\\u003cbr\\u003eMonth_name=Jun\\u003cbr\\u003eRegion=%{x}\\u003cbr\\u003eEstimated Unemployment Rate=%{y}\\u003cextra\\u003e\\u003c\\u002fextra\\u003e\",\"legendgroup\":\"Tamil Nadu\",\"marker\":{\"color\":\"#EF553B\",\"pattern\":{\"shape\":\"\"}},\"name\":\"Tamil Nadu\",\"offsetgroup\":\"Tamil Nadu\",\"orientation\":\"v\",\"showlegend\":true,\"textposition\":\"auto\",\"x\":[\"South\"],\"xaxis\":\"x\",\"y\":[12.2],\"yaxis\":\"y\",\"type\":\"bar\"},{\"alignmentgroup\":\"True\",\"hovertemplate\":\"States=Telangana\\u003cbr\\u003eMonth_name=Jun\\u003cbr\\u003eRegion=%{x}\\u003cbr\\u003eEstimated Unemployment Rate=%{y}\\u003cextra\\u003e\\u003c\\u002fextra\\u003e\",\"legendgroup\":\"Telangana\",\"marker\":{\"color\":\"#00cc96\",\"pattern\":{\"shape\":\"\"}},\"name\":\"Telangana\",\"offsetgroup\":\"Telangana\",\"orientation\":\"v\",\"showlegend\":true,\"textposition\":\"auto\",\"x\":[\"South\"],\"xaxis\":\"x\",\"y\":[10.55],\"yaxis\":\"y\",\"type\":\"bar\"},{\"alignmentgroup\":\"True\",\"hovertemplate\":\"States=Tripura\\u003cbr\\u003eMonth_name=Jun\\u003cbr\\u003eRegion=%{x}\\u003cbr\\u003eEstimated Unemployment Rate=%{y}\\u003cextra\\u003e\\u003c\\u002fextra\\u003e\",\"legendgroup\":\"Tripura\",\"marker\":{\"color\":\"#ab63fa\",\"pattern\":{\"shape\":\"\"}},\"name\":\"Tripura\",\"offsetgroup\":\"Tripura\",\"orientation\":\"v\",\"showlegend\":true,\"textposition\":\"auto\",\"x\":[\"Northeast\"],\"xaxis\":\"x\",\"y\":[21.71],\"yaxis\":\"y\",\"type\":\"bar\"},{\"alignmentgroup\":\"True\",\"hovertemplate\":\"States=Uttar Pradesh\\u003cbr\\u003eMonth_name=Jun\\u003cbr\\u003eRegion=%{x}\\u003cbr\\u003eEstimated Unemployment Rate=%{y}\\u003cextra\\u003e\\u003c\\u002fextra\\u003e\",\"legendgroup\":\"Uttar Pradesh\",\"marker\":{\"color\":\"#FFA15A\",\"pattern\":{\"shape\":\"\"}},\"name\":\"Uttar Pradesh\",\"offsetgroup\":\"Uttar Pradesh\",\"orientation\":\"v\",\"showlegend\":true,\"textposition\":\"auto\",\"x\":[\"North\"],\"xaxis\":\"x\",\"y\":[9.47],\"yaxis\":\"y\",\"type\":\"bar\"},{\"alignmentgroup\":\"True\",\"hovertemplate\":\"States=Uttarakhand\\u003cbr\\u003eMonth_name=Jun\\u003cbr\\u003eRegion=%{x}\\u003cbr\\u003eEstimated Unemployment Rate=%{y}\\u003cextra\\u003e\\u003c\\u002fextra\\u003e\",\"legendgroup\":\"Uttarakhand\",\"marker\":{\"color\":\"#19d3f3\",\"pattern\":{\"shape\":\"\"}},\"name\":\"Uttarakhand\",\"offsetgroup\":\"Uttarakhand\",\"orientation\":\"v\",\"showlegend\":true,\"textposition\":\"auto\",\"x\":[\"North\"],\"xaxis\":\"x\",\"y\":[8.61],\"yaxis\":\"y\",\"type\":\"bar\"},{\"alignmentgroup\":\"True\",\"hovertemplate\":\"States=West Bengal\\u003cbr\\u003eMonth_name=Jun\\u003cbr\\u003eRegion=%{x}\\u003cbr\\u003eEstimated Unemployment Rate=%{y}\\u003cextra\\u003e\\u003c\\u002fextra\\u003e\",\"legendgroup\":\"West Bengal\",\"marker\":{\"color\":\"#FF6692\",\"pattern\":{\"shape\":\"\"}},\"name\":\"West Bengal\",\"offsetgroup\":\"West Bengal\",\"orientation\":\"v\",\"showlegend\":true,\"textposition\":\"auto\",\"x\":[\"East\"],\"xaxis\":\"x\",\"y\":[7.29],\"yaxis\":\"y\",\"type\":\"bar\"}],\"name\":\"Jun\"},{\"data\":[{\"alignmentgroup\":\"True\",\"hovertemplate\":\"States=Andhra Pradesh\\u003cbr\\u003eMonth_name=Jul\\u003cbr\\u003eRegion=%{x}\\u003cbr\\u003eEstimated Unemployment Rate=%{y}\\u003cextra\\u003e\\u003c\\u002fextra\\u003e\",\"legendgroup\":\"Andhra Pradesh\",\"marker\":{\"color\":\"#636efa\",\"pattern\":{\"shape\":\"\"}},\"name\":\"Andhra Pradesh\",\"offsetgroup\":\"Andhra Pradesh\",\"orientation\":\"v\",\"showlegend\":true,\"textposition\":\"auto\",\"x\":[\"South\"],\"xaxis\":\"x\",\"y\":[8.34],\"yaxis\":\"y\",\"type\":\"bar\"},{\"alignmentgroup\":\"True\",\"hovertemplate\":\"States=Assam\\u003cbr\\u003eMonth_name=Jul\\u003cbr\\u003eRegion=%{x}\\u003cbr\\u003eEstimated Unemployment Rate=%{y}\\u003cextra\\u003e\\u003c\\u002fextra\\u003e\",\"legendgroup\":\"Assam\",\"marker\":{\"color\":\"#EF553B\",\"pattern\":{\"shape\":\"\"}},\"name\":\"Assam\",\"offsetgroup\":\"Assam\",\"orientation\":\"v\",\"showlegend\":true,\"textposition\":\"auto\",\"x\":[\"Northeast\"],\"xaxis\":\"x\",\"y\":[3.77],\"yaxis\":\"y\",\"type\":\"bar\"},{\"alignmentgroup\":\"True\",\"hovertemplate\":\"States=Bihar\\u003cbr\\u003eMonth_name=Jul\\u003cbr\\u003eRegion=%{x}\\u003cbr\\u003eEstimated Unemployment Rate=%{y}\\u003cextra\\u003e\\u003c\\u002fextra\\u003e\",\"legendgroup\":\"Bihar\",\"marker\":{\"color\":\"#00cc96\",\"pattern\":{\"shape\":\"\"}},\"name\":\"Bihar\",\"offsetgroup\":\"Bihar\",\"orientation\":\"v\",\"showlegend\":true,\"textposition\":\"auto\",\"x\":[\"East\"],\"xaxis\":\"x\",\"y\":[12.79],\"yaxis\":\"y\",\"type\":\"bar\"},{\"alignmentgroup\":\"True\",\"hovertemplate\":\"States=Chhattisgarh\\u003cbr\\u003eMonth_name=Jul\\u003cbr\\u003eRegion=%{x}\\u003cbr\\u003eEstimated Unemployment Rate=%{y}\\u003cextra\\u003e\\u003c\\u002fextra\\u003e\",\"legendgroup\":\"Chhattisgarh\",\"marker\":{\"color\":\"#ab63fa\",\"pattern\":{\"shape\":\"\"}},\"name\":\"Chhattisgarh\",\"offsetgroup\":\"Chhattisgarh\",\"orientation\":\"v\",\"showlegend\":true,\"textposition\":\"auto\",\"x\":[\"West\"],\"xaxis\":\"x\",\"y\":[10.27],\"yaxis\":\"y\",\"type\":\"bar\"},{\"alignmentgroup\":\"True\",\"hovertemplate\":\"States=Delhi\\u003cbr\\u003eMonth_name=Jul\\u003cbr\\u003eRegion=%{x}\\u003cbr\\u003eEstimated Unemployment Rate=%{y}\\u003cextra\\u003e\\u003c\\u002fextra\\u003e\",\"legendgroup\":\"Delhi\",\"marker\":{\"color\":\"#FFA15A\",\"pattern\":{\"shape\":\"\"}},\"name\":\"Delhi\",\"offsetgroup\":\"Delhi\",\"orientation\":\"v\",\"showlegend\":true,\"textposition\":\"auto\",\"x\":[\"North\"],\"xaxis\":\"x\",\"y\":[20.3],\"yaxis\":\"y\",\"type\":\"bar\"},{\"alignmentgroup\":\"True\",\"hovertemplate\":\"States=Goa\\u003cbr\\u003eMonth_name=Jul\\u003cbr\\u003eRegion=%{x}\\u003cbr\\u003eEstimated Unemployment Rate=%{y}\\u003cextra\\u003e\\u003c\\u002fextra\\u003e\",\"legendgroup\":\"Goa\",\"marker\":{\"color\":\"#19d3f3\",\"pattern\":{\"shape\":\"\"}},\"name\":\"Goa\",\"offsetgroup\":\"Goa\",\"orientation\":\"v\",\"showlegend\":true,\"textposition\":\"auto\",\"x\":[\"West\"],\"xaxis\":\"x\",\"y\":[17.07],\"yaxis\":\"y\",\"type\":\"bar\"},{\"alignmentgroup\":\"True\",\"hovertemplate\":\"States=Gujarat\\u003cbr\\u003eMonth_name=Jul\\u003cbr\\u003eRegion=%{x}\\u003cbr\\u003eEstimated Unemployment Rate=%{y}\\u003cextra\\u003e\\u003c\\u002fextra\\u003e\",\"legendgroup\":\"Gujarat\",\"marker\":{\"color\":\"#FF6692\",\"pattern\":{\"shape\":\"\"}},\"name\":\"Gujarat\",\"offsetgroup\":\"Gujarat\",\"orientation\":\"v\",\"showlegend\":true,\"textposition\":\"auto\",\"x\":[\"West\"],\"xaxis\":\"x\",\"y\":[1.84],\"yaxis\":\"y\",\"type\":\"bar\"},{\"alignmentgroup\":\"True\",\"hovertemplate\":\"States=Haryana\\u003cbr\\u003eMonth_name=Jul\\u003cbr\\u003eRegion=%{x}\\u003cbr\\u003eEstimated Unemployment Rate=%{y}\\u003cextra\\u003e\\u003c\\u002fextra\\u003e\",\"legendgroup\":\"Haryana\",\"marker\":{\"color\":\"#B6E880\",\"pattern\":{\"shape\":\"\"}},\"name\":\"Haryana\",\"offsetgroup\":\"Haryana\",\"orientation\":\"v\",\"showlegend\":true,\"textposition\":\"auto\",\"x\":[\"North\"],\"xaxis\":\"x\",\"y\":[24.18],\"yaxis\":\"y\",\"type\":\"bar\"},{\"alignmentgroup\":\"True\",\"hovertemplate\":\"States=Himachal Pradesh\\u003cbr\\u003eMonth_name=Jul\\u003cbr\\u003eRegion=%{x}\\u003cbr\\u003eEstimated Unemployment Rate=%{y}\\u003cextra\\u003e\\u003c\\u002fextra\\u003e\",\"legendgroup\":\"Himachal Pradesh\",\"marker\":{\"color\":\"#FF97FF\",\"pattern\":{\"shape\":\"\"}},\"name\":\"Himachal Pradesh\",\"offsetgroup\":\"Himachal Pradesh\",\"orientation\":\"v\",\"showlegend\":true,\"textposition\":\"auto\",\"x\":[\"North\"],\"xaxis\":\"x\",\"y\":[24.31],\"yaxis\":\"y\",\"type\":\"bar\"},{\"alignmentgroup\":\"True\",\"hovertemplate\":\"States=Jammu & Kashmir\\u003cbr\\u003eMonth_name=Jul\\u003cbr\\u003eRegion=%{x}\\u003cbr\\u003eEstimated Unemployment Rate=%{y}\\u003cextra\\u003e\\u003c\\u002fextra\\u003e\",\"legendgroup\":\"Jammu & Kashmir\",\"marker\":{\"color\":\"#FECB52\",\"pattern\":{\"shape\":\"\"}},\"name\":\"Jammu & Kashmir\",\"offsetgroup\":\"Jammu & Kashmir\",\"orientation\":\"v\",\"showlegend\":true,\"textposition\":\"auto\",\"x\":[\"North\"],\"xaxis\":\"x\",\"y\":[10.88],\"yaxis\":\"y\",\"type\":\"bar\"},{\"alignmentgroup\":\"True\",\"hovertemplate\":\"States=Jharkhand\\u003cbr\\u003eMonth_name=Jul\\u003cbr\\u003eRegion=%{x}\\u003cbr\\u003eEstimated Unemployment Rate=%{y}\\u003cextra\\u003e\\u003c\\u002fextra\\u003e\",\"legendgroup\":\"Jharkhand\",\"marker\":{\"color\":\"#636efa\",\"pattern\":{\"shape\":\"\"}},\"name\":\"Jharkhand\",\"offsetgroup\":\"Jharkhand\",\"orientation\":\"v\",\"showlegend\":true,\"textposition\":\"auto\",\"x\":[\"East\"],\"xaxis\":\"x\",\"y\":[7.63],\"yaxis\":\"y\",\"type\":\"bar\"},{\"alignmentgroup\":\"True\",\"hovertemplate\":\"States=Karnataka\\u003cbr\\u003eMonth_name=Jul\\u003cbr\\u003eRegion=%{x}\\u003cbr\\u003eEstimated Unemployment Rate=%{y}\\u003cextra\\u003e\\u003c\\u002fextra\\u003e\",\"legendgroup\":\"Karnataka\",\"marker\":{\"color\":\"#EF553B\",\"pattern\":{\"shape\":\"\"}},\"name\":\"Karnataka\",\"offsetgroup\":\"Karnataka\",\"orientation\":\"v\",\"showlegend\":true,\"textposition\":\"auto\",\"x\":[\"South\"],\"xaxis\":\"x\",\"y\":[4.01],\"yaxis\":\"y\",\"type\":\"bar\"},{\"alignmentgroup\":\"True\",\"hovertemplate\":\"States=Kerala\\u003cbr\\u003eMonth_name=Jul\\u003cbr\\u003eRegion=%{x}\\u003cbr\\u003eEstimated Unemployment Rate=%{y}\\u003cextra\\u003e\\u003c\\u002fextra\\u003e\",\"legendgroup\":\"Kerala\",\"marker\":{\"color\":\"#00cc96\",\"pattern\":{\"shape\":\"\"}},\"name\":\"Kerala\",\"offsetgroup\":\"Kerala\",\"orientation\":\"v\",\"showlegend\":true,\"textposition\":\"auto\",\"x\":[\"South\"],\"xaxis\":\"x\",\"y\":[7.09],\"yaxis\":\"y\",\"type\":\"bar\"},{\"alignmentgroup\":\"True\",\"hovertemplate\":\"States=Madhya Pradesh\\u003cbr\\u003eMonth_name=Jul\\u003cbr\\u003eRegion=%{x}\\u003cbr\\u003eEstimated Unemployment Rate=%{y}\\u003cextra\\u003e\\u003c\\u002fextra\\u003e\",\"legendgroup\":\"Madhya Pradesh\",\"marker\":{\"color\":\"#ab63fa\",\"pattern\":{\"shape\":\"\"}},\"name\":\"Madhya Pradesh\",\"offsetgroup\":\"Madhya Pradesh\",\"orientation\":\"v\",\"showlegend\":true,\"textposition\":\"auto\",\"x\":[\"West\"],\"xaxis\":\"x\",\"y\":[5.08],\"yaxis\":\"y\",\"type\":\"bar\"},{\"alignmentgroup\":\"True\",\"hovertemplate\":\"States=Maharashtra\\u003cbr\\u003eMonth_name=Jul\\u003cbr\\u003eRegion=%{x}\\u003cbr\\u003eEstimated Unemployment Rate=%{y}\\u003cextra\\u003e\\u003c\\u002fextra\\u003e\",\"legendgroup\":\"Maharashtra\",\"marker\":{\"color\":\"#FFA15A\",\"pattern\":{\"shape\":\"\"}},\"name\":\"Maharashtra\",\"offsetgroup\":\"Maharashtra\",\"orientation\":\"v\",\"showlegend\":true,\"textposition\":\"auto\",\"x\":[\"West\"],\"xaxis\":\"x\",\"y\":[3.89],\"yaxis\":\"y\",\"type\":\"bar\"},{\"alignmentgroup\":\"True\",\"hovertemplate\":\"States=Meghalaya\\u003cbr\\u003eMonth_name=Jul\\u003cbr\\u003eRegion=%{x}\\u003cbr\\u003eEstimated Unemployment Rate=%{y}\\u003cextra\\u003e\\u003c\\u002fextra\\u003e\",\"legendgroup\":\"Meghalaya\",\"marker\":{\"color\":\"#19d3f3\",\"pattern\":{\"shape\":\"\"}},\"name\":\"Meghalaya\",\"offsetgroup\":\"Meghalaya\",\"orientation\":\"v\",\"showlegend\":true,\"textposition\":\"auto\",\"x\":[\"Northeast\"],\"xaxis\":\"x\",\"y\":[2.1],\"yaxis\":\"y\",\"type\":\"bar\"},{\"alignmentgroup\":\"True\",\"hovertemplate\":\"States=Odisha\\u003cbr\\u003eMonth_name=Jul\\u003cbr\\u003eRegion=%{x}\\u003cbr\\u003eEstimated Unemployment Rate=%{y}\\u003cextra\\u003e\\u003c\\u002fextra\\u003e\",\"legendgroup\":\"Odisha\",\"marker\":{\"color\":\"#FF6692\",\"pattern\":{\"shape\":\"\"}},\"name\":\"Odisha\",\"offsetgroup\":\"Odisha\",\"orientation\":\"v\",\"showlegend\":true,\"textposition\":\"auto\",\"x\":[\"East\"],\"xaxis\":\"x\",\"y\":[1.88],\"yaxis\":\"y\",\"type\":\"bar\"},{\"alignmentgroup\":\"True\",\"hovertemplate\":\"States=Puducherry\\u003cbr\\u003eMonth_name=Jul\\u003cbr\\u003eRegion=%{x}\\u003cbr\\u003eEstimated Unemployment Rate=%{y}\\u003cextra\\u003e\\u003c\\u002fextra\\u003e\",\"legendgroup\":\"Puducherry\",\"marker\":{\"color\":\"#B6E880\",\"pattern\":{\"shape\":\"\"}},\"name\":\"Puducherry\",\"offsetgroup\":\"Puducherry\",\"orientation\":\"v\",\"showlegend\":true,\"textposition\":\"auto\",\"x\":[\"South\"],\"xaxis\":\"x\",\"y\":[15.47],\"yaxis\":\"y\",\"type\":\"bar\"},{\"alignmentgroup\":\"True\",\"hovertemplate\":\"States=Punjab\\u003cbr\\u003eMonth_name=Jul\\u003cbr\\u003eRegion=%{x}\\u003cbr\\u003eEstimated Unemployment Rate=%{y}\\u003cextra\\u003e\\u003c\\u002fextra\\u003e\",\"legendgroup\":\"Punjab\",\"marker\":{\"color\":\"#FF97FF\",\"pattern\":{\"shape\":\"\"}},\"name\":\"Punjab\",\"offsetgroup\":\"Punjab\",\"orientation\":\"v\",\"showlegend\":true,\"textposition\":\"auto\",\"x\":[\"North\"],\"xaxis\":\"x\",\"y\":[9.19],\"yaxis\":\"y\",\"type\":\"bar\"},{\"alignmentgroup\":\"True\",\"hovertemplate\":\"States=Rajasthan\\u003cbr\\u003eMonth_name=Jul\\u003cbr\\u003eRegion=%{x}\\u003cbr\\u003eEstimated Unemployment Rate=%{y}\\u003cextra\\u003e\\u003c\\u002fextra\\u003e\",\"legendgroup\":\"Rajasthan\",\"marker\":{\"color\":\"#FECB52\",\"pattern\":{\"shape\":\"\"}},\"name\":\"Rajasthan\",\"offsetgroup\":\"Rajasthan\",\"orientation\":\"v\",\"showlegend\":true,\"textposition\":\"auto\",\"x\":[\"North\"],\"xaxis\":\"x\",\"y\":[15.81],\"yaxis\":\"y\",\"type\":\"bar\"},{\"alignmentgroup\":\"True\",\"hovertemplate\":\"States=Sikkim\\u003cbr\\u003eMonth_name=Jul\\u003cbr\\u003eRegion=%{x}\\u003cbr\\u003eEstimated Unemployment Rate=%{y}\\u003cextra\\u003e\\u003c\\u002fextra\\u003e\",\"legendgroup\":\"Sikkim\",\"marker\":{\"color\":\"#636efa\",\"pattern\":{\"shape\":\"\"}},\"name\":\"Sikkim\",\"offsetgroup\":\"Sikkim\",\"orientation\":\"v\",\"showlegend\":true,\"textposition\":\"auto\",\"x\":[\"Northeast\"],\"xaxis\":\"x\",\"y\":[4.45],\"yaxis\":\"y\",\"type\":\"bar\"},{\"alignmentgroup\":\"True\",\"hovertemplate\":\"States=Tamil Nadu\\u003cbr\\u003eMonth_name=Jul\\u003cbr\\u003eRegion=%{x}\\u003cbr\\u003eEstimated Unemployment Rate=%{y}\\u003cextra\\u003e\\u003c\\u002fextra\\u003e\",\"legendgroup\":\"Tamil Nadu\",\"marker\":{\"color\":\"#EF553B\",\"pattern\":{\"shape\":\"\"}},\"name\":\"Tamil Nadu\",\"offsetgroup\":\"Tamil Nadu\",\"orientation\":\"v\",\"showlegend\":true,\"textposition\":\"auto\",\"x\":[\"South\"],\"xaxis\":\"x\",\"y\":[6.81],\"yaxis\":\"y\",\"type\":\"bar\"},{\"alignmentgroup\":\"True\",\"hovertemplate\":\"States=Telangana\\u003cbr\\u003eMonth_name=Jul\\u003cbr\\u003eRegion=%{x}\\u003cbr\\u003eEstimated Unemployment Rate=%{y}\\u003cextra\\u003e\\u003c\\u002fextra\\u003e\",\"legendgroup\":\"Telangana\",\"marker\":{\"color\":\"#00cc96\",\"pattern\":{\"shape\":\"\"}},\"name\":\"Telangana\",\"offsetgroup\":\"Telangana\",\"orientation\":\"v\",\"showlegend\":true,\"textposition\":\"auto\",\"x\":[\"South\"],\"xaxis\":\"x\",\"y\":[5.36],\"yaxis\":\"y\",\"type\":\"bar\"},{\"alignmentgroup\":\"True\",\"hovertemplate\":\"States=Tripura\\u003cbr\\u003eMonth_name=Jul\\u003cbr\\u003eRegion=%{x}\\u003cbr\\u003eEstimated Unemployment Rate=%{y}\\u003cextra\\u003e\\u003c\\u002fextra\\u003e\",\"legendgroup\":\"Tripura\",\"marker\":{\"color\":\"#ab63fa\",\"pattern\":{\"shape\":\"\"}},\"name\":\"Tripura\",\"offsetgroup\":\"Tripura\",\"orientation\":\"v\",\"showlegend\":true,\"textposition\":\"auto\",\"x\":[\"Northeast\"],\"xaxis\":\"x\",\"y\":[18.24],\"yaxis\":\"y\",\"type\":\"bar\"},{\"alignmentgroup\":\"True\",\"hovertemplate\":\"States=Uttar Pradesh\\u003cbr\\u003eMonth_name=Jul\\u003cbr\\u003eRegion=%{x}\\u003cbr\\u003eEstimated Unemployment Rate=%{y}\\u003cextra\\u003e\\u003c\\u002fextra\\u003e\",\"legendgroup\":\"Uttar Pradesh\",\"marker\":{\"color\":\"#FFA15A\",\"pattern\":{\"shape\":\"\"}},\"name\":\"Uttar Pradesh\",\"offsetgroup\":\"Uttar Pradesh\",\"orientation\":\"v\",\"showlegend\":true,\"textposition\":\"auto\",\"x\":[\"North\"],\"xaxis\":\"x\",\"y\":[5.56],\"yaxis\":\"y\",\"type\":\"bar\"},{\"alignmentgroup\":\"True\",\"hovertemplate\":\"States=Uttarakhand\\u003cbr\\u003eMonth_name=Jul\\u003cbr\\u003eRegion=%{x}\\u003cbr\\u003eEstimated Unemployment Rate=%{y}\\u003cextra\\u003e\\u003c\\u002fextra\\u003e\",\"legendgroup\":\"Uttarakhand\",\"marker\":{\"color\":\"#19d3f3\",\"pattern\":{\"shape\":\"\"}},\"name\":\"Uttarakhand\",\"offsetgroup\":\"Uttarakhand\",\"orientation\":\"v\",\"showlegend\":true,\"textposition\":\"auto\",\"x\":[\"North\"],\"xaxis\":\"x\",\"y\":[12.38],\"yaxis\":\"y\",\"type\":\"bar\"},{\"alignmentgroup\":\"True\",\"hovertemplate\":\"States=West Bengal\\u003cbr\\u003eMonth_name=Jul\\u003cbr\\u003eRegion=%{x}\\u003cbr\\u003eEstimated Unemployment Rate=%{y}\\u003cextra\\u003e\\u003c\\u002fextra\\u003e\",\"legendgroup\":\"West Bengal\",\"marker\":{\"color\":\"#FF6692\",\"pattern\":{\"shape\":\"\"}},\"name\":\"West Bengal\",\"offsetgroup\":\"West Bengal\",\"orientation\":\"v\",\"showlegend\":true,\"textposition\":\"auto\",\"x\":[\"East\"],\"xaxis\":\"x\",\"y\":[6.83],\"yaxis\":\"y\",\"type\":\"bar\"}],\"name\":\"Jul\"},{\"data\":[{\"alignmentgroup\":\"True\",\"hovertemplate\":\"States=Andhra Pradesh\\u003cbr\\u003eMonth_name=Aug\\u003cbr\\u003eRegion=%{x}\\u003cbr\\u003eEstimated Unemployment Rate=%{y}\\u003cextra\\u003e\\u003c\\u002fextra\\u003e\",\"legendgroup\":\"Andhra Pradesh\",\"marker\":{\"color\":\"#636efa\",\"pattern\":{\"shape\":\"\"}},\"name\":\"Andhra Pradesh\",\"offsetgroup\":\"Andhra Pradesh\",\"orientation\":\"v\",\"showlegend\":true,\"textposition\":\"auto\",\"x\":[\"South\"],\"xaxis\":\"x\",\"y\":[6.96],\"yaxis\":\"y\",\"type\":\"bar\"},{\"alignmentgroup\":\"True\",\"hovertemplate\":\"States=Assam\\u003cbr\\u003eMonth_name=Aug\\u003cbr\\u003eRegion=%{x}\\u003cbr\\u003eEstimated Unemployment Rate=%{y}\\u003cextra\\u003e\\u003c\\u002fextra\\u003e\",\"legendgroup\":\"Assam\",\"marker\":{\"color\":\"#EF553B\",\"pattern\":{\"shape\":\"\"}},\"name\":\"Assam\",\"offsetgroup\":\"Assam\",\"orientation\":\"v\",\"showlegend\":true,\"textposition\":\"auto\",\"x\":[\"Northeast\"],\"xaxis\":\"x\",\"y\":[5.53],\"yaxis\":\"y\",\"type\":\"bar\"},{\"alignmentgroup\":\"True\",\"hovertemplate\":\"States=Bihar\\u003cbr\\u003eMonth_name=Aug\\u003cbr\\u003eRegion=%{x}\\u003cbr\\u003eEstimated Unemployment Rate=%{y}\\u003cextra\\u003e\\u003c\\u002fextra\\u003e\",\"legendgroup\":\"Bihar\",\"marker\":{\"color\":\"#00cc96\",\"pattern\":{\"shape\":\"\"}},\"name\":\"Bihar\",\"offsetgroup\":\"Bihar\",\"orientation\":\"v\",\"showlegend\":true,\"textposition\":\"auto\",\"x\":[\"East\"],\"xaxis\":\"x\",\"y\":[13.44],\"yaxis\":\"y\",\"type\":\"bar\"},{\"alignmentgroup\":\"True\",\"hovertemplate\":\"States=Chhattisgarh\\u003cbr\\u003eMonth_name=Aug\\u003cbr\\u003eRegion=%{x}\\u003cbr\\u003eEstimated Unemployment Rate=%{y}\\u003cextra\\u003e\\u003c\\u002fextra\\u003e\",\"legendgroup\":\"Chhattisgarh\",\"marker\":{\"color\":\"#ab63fa\",\"pattern\":{\"shape\":\"\"}},\"name\":\"Chhattisgarh\",\"offsetgroup\":\"Chhattisgarh\",\"orientation\":\"v\",\"showlegend\":true,\"textposition\":\"auto\",\"x\":[\"West\"],\"xaxis\":\"x\",\"y\":[5.63],\"yaxis\":\"y\",\"type\":\"bar\"},{\"alignmentgroup\":\"True\",\"hovertemplate\":\"States=Delhi\\u003cbr\\u003eMonth_name=Aug\\u003cbr\\u003eRegion=%{x}\\u003cbr\\u003eEstimated Unemployment Rate=%{y}\\u003cextra\\u003e\\u003c\\u002fextra\\u003e\",\"legendgroup\":\"Delhi\",\"marker\":{\"color\":\"#FFA15A\",\"pattern\":{\"shape\":\"\"}},\"name\":\"Delhi\",\"offsetgroup\":\"Delhi\",\"orientation\":\"v\",\"showlegend\":true,\"textposition\":\"auto\",\"x\":[\"North\"],\"xaxis\":\"x\",\"y\":[13.79],\"yaxis\":\"y\",\"type\":\"bar\"},{\"alignmentgroup\":\"True\",\"hovertemplate\":\"States=Goa\\u003cbr\\u003eMonth_name=Aug\\u003cbr\\u003eRegion=%{x}\\u003cbr\\u003eEstimated Unemployment Rate=%{y}\\u003cextra\\u003e\\u003c\\u002fextra\\u003e\",\"legendgroup\":\"Goa\",\"marker\":{\"color\":\"#19d3f3\",\"pattern\":{\"shape\":\"\"}},\"name\":\"Goa\",\"offsetgroup\":\"Goa\",\"orientation\":\"v\",\"showlegend\":true,\"textposition\":\"auto\",\"x\":[\"West\"],\"xaxis\":\"x\",\"y\":[16.21],\"yaxis\":\"y\",\"type\":\"bar\"},{\"alignmentgroup\":\"True\",\"hovertemplate\":\"States=Gujarat\\u003cbr\\u003eMonth_name=Aug\\u003cbr\\u003eRegion=%{x}\\u003cbr\\u003eEstimated Unemployment Rate=%{y}\\u003cextra\\u003e\\u003c\\u002fextra\\u003e\",\"legendgroup\":\"Gujarat\",\"marker\":{\"color\":\"#FF6692\",\"pattern\":{\"shape\":\"\"}},\"name\":\"Gujarat\",\"offsetgroup\":\"Gujarat\",\"orientation\":\"v\",\"showlegend\":true,\"textposition\":\"auto\",\"x\":[\"West\"],\"xaxis\":\"x\",\"y\":[1.87],\"yaxis\":\"y\",\"type\":\"bar\"},{\"alignmentgroup\":\"True\",\"hovertemplate\":\"States=Haryana\\u003cbr\\u003eMonth_name=Aug\\u003cbr\\u003eRegion=%{x}\\u003cbr\\u003eEstimated Unemployment Rate=%{y}\\u003cextra\\u003e\\u003c\\u002fextra\\u003e\",\"legendgroup\":\"Haryana\",\"marker\":{\"color\":\"#B6E880\",\"pattern\":{\"shape\":\"\"}},\"name\":\"Haryana\",\"offsetgroup\":\"Haryana\",\"orientation\":\"v\",\"showlegend\":true,\"textposition\":\"auto\",\"x\":[\"North\"],\"xaxis\":\"x\",\"y\":[33.5],\"yaxis\":\"y\",\"type\":\"bar\"},{\"alignmentgroup\":\"True\",\"hovertemplate\":\"States=Himachal Pradesh\\u003cbr\\u003eMonth_name=Aug\\u003cbr\\u003eRegion=%{x}\\u003cbr\\u003eEstimated Unemployment Rate=%{y}\\u003cextra\\u003e\\u003c\\u002fextra\\u003e\",\"legendgroup\":\"Himachal Pradesh\",\"marker\":{\"color\":\"#FF97FF\",\"pattern\":{\"shape\":\"\"}},\"name\":\"Himachal Pradesh\",\"offsetgroup\":\"Himachal Pradesh\",\"orientation\":\"v\",\"showlegend\":true,\"textposition\":\"auto\",\"x\":[\"North\"],\"xaxis\":\"x\",\"y\":[15.79],\"yaxis\":\"y\",\"type\":\"bar\"},{\"alignmentgroup\":\"True\",\"hovertemplate\":\"States=Jammu & Kashmir\\u003cbr\\u003eMonth_name=Aug\\u003cbr\\u003eRegion=%{x}\\u003cbr\\u003eEstimated Unemployment Rate=%{y}\\u003cextra\\u003e\\u003c\\u002fextra\\u003e\",\"legendgroup\":\"Jammu & Kashmir\",\"marker\":{\"color\":\"#FECB52\",\"pattern\":{\"shape\":\"\"}},\"name\":\"Jammu & Kashmir\",\"offsetgroup\":\"Jammu & Kashmir\",\"orientation\":\"v\",\"showlegend\":true,\"textposition\":\"auto\",\"x\":[\"North\"],\"xaxis\":\"x\",\"y\":[11.09],\"yaxis\":\"y\",\"type\":\"bar\"},{\"alignmentgroup\":\"True\",\"hovertemplate\":\"States=Jharkhand\\u003cbr\\u003eMonth_name=Aug\\u003cbr\\u003eRegion=%{x}\\u003cbr\\u003eEstimated Unemployment Rate=%{y}\\u003cextra\\u003e\\u003c\\u002fextra\\u003e\",\"legendgroup\":\"Jharkhand\",\"marker\":{\"color\":\"#636efa\",\"pattern\":{\"shape\":\"\"}},\"name\":\"Jharkhand\",\"offsetgroup\":\"Jharkhand\",\"orientation\":\"v\",\"showlegend\":true,\"textposition\":\"auto\",\"x\":[\"East\"],\"xaxis\":\"x\",\"y\":[9.76],\"yaxis\":\"y\",\"type\":\"bar\"},{\"alignmentgroup\":\"True\",\"hovertemplate\":\"States=Karnataka\\u003cbr\\u003eMonth_name=Aug\\u003cbr\\u003eRegion=%{x}\\u003cbr\\u003eEstimated Unemployment Rate=%{y}\\u003cextra\\u003e\\u003c\\u002fextra\\u003e\",\"legendgroup\":\"Karnataka\",\"marker\":{\"color\":\"#EF553B\",\"pattern\":{\"shape\":\"\"}},\"name\":\"Karnataka\",\"offsetgroup\":\"Karnataka\",\"orientation\":\"v\",\"showlegend\":true,\"textposition\":\"auto\",\"x\":[\"South\"],\"xaxis\":\"x\",\"y\":[0.5],\"yaxis\":\"y\",\"type\":\"bar\"},{\"alignmentgroup\":\"True\",\"hovertemplate\":\"States=Kerala\\u003cbr\\u003eMonth_name=Aug\\u003cbr\\u003eRegion=%{x}\\u003cbr\\u003eEstimated Unemployment Rate=%{y}\\u003cextra\\u003e\\u003c\\u002fextra\\u003e\",\"legendgroup\":\"Kerala\",\"marker\":{\"color\":\"#00cc96\",\"pattern\":{\"shape\":\"\"}},\"name\":\"Kerala\",\"offsetgroup\":\"Kerala\",\"orientation\":\"v\",\"showlegend\":true,\"textposition\":\"auto\",\"x\":[\"South\"],\"xaxis\":\"x\",\"y\":[10.98],\"yaxis\":\"y\",\"type\":\"bar\"},{\"alignmentgroup\":\"True\",\"hovertemplate\":\"States=Madhya Pradesh\\u003cbr\\u003eMonth_name=Aug\\u003cbr\\u003eRegion=%{x}\\u003cbr\\u003eEstimated Unemployment Rate=%{y}\\u003cextra\\u003e\\u003c\\u002fextra\\u003e\",\"legendgroup\":\"Madhya Pradesh\",\"marker\":{\"color\":\"#ab63fa\",\"pattern\":{\"shape\":\"\"}},\"name\":\"Madhya Pradesh\",\"offsetgroup\":\"Madhya Pradesh\",\"orientation\":\"v\",\"showlegend\":true,\"textposition\":\"auto\",\"x\":[\"West\"],\"xaxis\":\"x\",\"y\":[4.7],\"yaxis\":\"y\",\"type\":\"bar\"},{\"alignmentgroup\":\"True\",\"hovertemplate\":\"States=Maharashtra\\u003cbr\\u003eMonth_name=Aug\\u003cbr\\u003eRegion=%{x}\\u003cbr\\u003eEstimated Unemployment Rate=%{y}\\u003cextra\\u003e\\u003c\\u002fextra\\u003e\",\"legendgroup\":\"Maharashtra\",\"marker\":{\"color\":\"#FFA15A\",\"pattern\":{\"shape\":\"\"}},\"name\":\"Maharashtra\",\"offsetgroup\":\"Maharashtra\",\"orientation\":\"v\",\"showlegend\":true,\"textposition\":\"auto\",\"x\":[\"West\"],\"xaxis\":\"x\",\"y\":[6.23],\"yaxis\":\"y\",\"type\":\"bar\"},{\"alignmentgroup\":\"True\",\"hovertemplate\":\"States=Meghalaya\\u003cbr\\u003eMonth_name=Aug\\u003cbr\\u003eRegion=%{x}\\u003cbr\\u003eEstimated Unemployment Rate=%{y}\\u003cextra\\u003e\\u003c\\u002fextra\\u003e\",\"legendgroup\":\"Meghalaya\",\"marker\":{\"color\":\"#19d3f3\",\"pattern\":{\"shape\":\"\"}},\"name\":\"Meghalaya\",\"offsetgroup\":\"Meghalaya\",\"orientation\":\"v\",\"showlegend\":true,\"textposition\":\"auto\",\"x\":[\"Northeast\"],\"xaxis\":\"x\",\"y\":[3.74],\"yaxis\":\"y\",\"type\":\"bar\"},{\"alignmentgroup\":\"True\",\"hovertemplate\":\"States=Odisha\\u003cbr\\u003eMonth_name=Aug\\u003cbr\\u003eRegion=%{x}\\u003cbr\\u003eEstimated Unemployment Rate=%{y}\\u003cextra\\u003e\\u003c\\u002fextra\\u003e\",\"legendgroup\":\"Odisha\",\"marker\":{\"color\":\"#FF6692\",\"pattern\":{\"shape\":\"\"}},\"name\":\"Odisha\",\"offsetgroup\":\"Odisha\",\"orientation\":\"v\",\"showlegend\":true,\"textposition\":\"auto\",\"x\":[\"East\"],\"xaxis\":\"x\",\"y\":[1.42],\"yaxis\":\"y\",\"type\":\"bar\"},{\"alignmentgroup\":\"True\",\"hovertemplate\":\"States=Puducherry\\u003cbr\\u003eMonth_name=Aug\\u003cbr\\u003eRegion=%{x}\\u003cbr\\u003eEstimated Unemployment Rate=%{y}\\u003cextra\\u003e\\u003c\\u002fextra\\u003e\",\"legendgroup\":\"Puducherry\",\"marker\":{\"color\":\"#B6E880\",\"pattern\":{\"shape\":\"\"}},\"name\":\"Puducherry\",\"offsetgroup\":\"Puducherry\",\"orientation\":\"v\",\"showlegend\":true,\"textposition\":\"auto\",\"x\":[\"South\"],\"xaxis\":\"x\",\"y\":[5.05],\"yaxis\":\"y\",\"type\":\"bar\"},{\"alignmentgroup\":\"True\",\"hovertemplate\":\"States=Punjab\\u003cbr\\u003eMonth_name=Aug\\u003cbr\\u003eRegion=%{x}\\u003cbr\\u003eEstimated Unemployment Rate=%{y}\\u003cextra\\u003e\\u003c\\u002fextra\\u003e\",\"legendgroup\":\"Punjab\",\"marker\":{\"color\":\"#FF97FF\",\"pattern\":{\"shape\":\"\"}},\"name\":\"Punjab\",\"offsetgroup\":\"Punjab\",\"orientation\":\"v\",\"showlegend\":true,\"textposition\":\"auto\",\"x\":[\"North\"],\"xaxis\":\"x\",\"y\":[10.99],\"yaxis\":\"y\",\"type\":\"bar\"},{\"alignmentgroup\":\"True\",\"hovertemplate\":\"States=Rajasthan\\u003cbr\\u003eMonth_name=Aug\\u003cbr\\u003eRegion=%{x}\\u003cbr\\u003eEstimated Unemployment Rate=%{y}\\u003cextra\\u003e\\u003c\\u002fextra\\u003e\",\"legendgroup\":\"Rajasthan\",\"marker\":{\"color\":\"#FECB52\",\"pattern\":{\"shape\":\"\"}},\"name\":\"Rajasthan\",\"offsetgroup\":\"Rajasthan\",\"orientation\":\"v\",\"showlegend\":true,\"textposition\":\"auto\",\"x\":[\"North\"],\"xaxis\":\"x\",\"y\":[17.51],\"yaxis\":\"y\",\"type\":\"bar\"},{\"alignmentgroup\":\"True\",\"hovertemplate\":\"States=Sikkim\\u003cbr\\u003eMonth_name=Aug\\u003cbr\\u003eRegion=%{x}\\u003cbr\\u003eEstimated Unemployment Rate=%{y}\\u003cextra\\u003e\\u003c\\u002fextra\\u003e\",\"legendgroup\":\"Sikkim\",\"marker\":{\"color\":\"#636efa\",\"pattern\":{\"shape\":\"\"}},\"name\":\"Sikkim\",\"offsetgroup\":\"Sikkim\",\"orientation\":\"v\",\"showlegend\":true,\"textposition\":\"auto\",\"x\":[\"Northeast\"],\"xaxis\":\"x\",\"y\":[12.49],\"yaxis\":\"y\",\"type\":\"bar\"},{\"alignmentgroup\":\"True\",\"hovertemplate\":\"States=Tamil Nadu\\u003cbr\\u003eMonth_name=Aug\\u003cbr\\u003eRegion=%{x}\\u003cbr\\u003eEstimated Unemployment Rate=%{y}\\u003cextra\\u003e\\u003c\\u002fextra\\u003e\",\"legendgroup\":\"Tamil Nadu\",\"marker\":{\"color\":\"#EF553B\",\"pattern\":{\"shape\":\"\"}},\"name\":\"Tamil Nadu\",\"offsetgroup\":\"Tamil Nadu\",\"orientation\":\"v\",\"showlegend\":true,\"textposition\":\"auto\",\"x\":[\"South\"],\"xaxis\":\"x\",\"y\":[2.65],\"yaxis\":\"y\",\"type\":\"bar\"},{\"alignmentgroup\":\"True\",\"hovertemplate\":\"States=Telangana\\u003cbr\\u003eMonth_name=Aug\\u003cbr\\u003eRegion=%{x}\\u003cbr\\u003eEstimated Unemployment Rate=%{y}\\u003cextra\\u003e\\u003c\\u002fextra\\u003e\",\"legendgroup\":\"Telangana\",\"marker\":{\"color\":\"#00cc96\",\"pattern\":{\"shape\":\"\"}},\"name\":\"Telangana\",\"offsetgroup\":\"Telangana\",\"orientation\":\"v\",\"showlegend\":true,\"textposition\":\"auto\",\"x\":[\"South\"],\"xaxis\":\"x\",\"y\":[5.79],\"yaxis\":\"y\",\"type\":\"bar\"},{\"alignmentgroup\":\"True\",\"hovertemplate\":\"States=Tripura\\u003cbr\\u003eMonth_name=Aug\\u003cbr\\u003eRegion=%{x}\\u003cbr\\u003eEstimated Unemployment Rate=%{y}\\u003cextra\\u003e\\u003c\\u002fextra\\u003e\",\"legendgroup\":\"Tripura\",\"marker\":{\"color\":\"#ab63fa\",\"pattern\":{\"shape\":\"\"}},\"name\":\"Tripura\",\"offsetgroup\":\"Tripura\",\"orientation\":\"v\",\"showlegend\":true,\"textposition\":\"auto\",\"x\":[\"Northeast\"],\"xaxis\":\"x\",\"y\":[27.92],\"yaxis\":\"y\",\"type\":\"bar\"},{\"alignmentgroup\":\"True\",\"hovertemplate\":\"States=Uttar Pradesh\\u003cbr\\u003eMonth_name=Aug\\u003cbr\\u003eRegion=%{x}\\u003cbr\\u003eEstimated Unemployment Rate=%{y}\\u003cextra\\u003e\\u003c\\u002fextra\\u003e\",\"legendgroup\":\"Uttar Pradesh\",\"marker\":{\"color\":\"#FFA15A\",\"pattern\":{\"shape\":\"\"}},\"name\":\"Uttar Pradesh\",\"offsetgroup\":\"Uttar Pradesh\",\"orientation\":\"v\",\"showlegend\":true,\"textposition\":\"auto\",\"x\":[\"North\"],\"xaxis\":\"x\",\"y\":[5.79],\"yaxis\":\"y\",\"type\":\"bar\"},{\"alignmentgroup\":\"True\",\"hovertemplate\":\"States=Uttarakhand\\u003cbr\\u003eMonth_name=Aug\\u003cbr\\u003eRegion=%{x}\\u003cbr\\u003eEstimated Unemployment Rate=%{y}\\u003cextra\\u003e\\u003c\\u002fextra\\u003e\",\"legendgroup\":\"Uttarakhand\",\"marker\":{\"color\":\"#19d3f3\",\"pattern\":{\"shape\":\"\"}},\"name\":\"Uttarakhand\",\"offsetgroup\":\"Uttarakhand\",\"orientation\":\"v\",\"showlegend\":true,\"textposition\":\"auto\",\"x\":[\"North\"],\"xaxis\":\"x\",\"y\":[14.26],\"yaxis\":\"y\",\"type\":\"bar\"},{\"alignmentgroup\":\"True\",\"hovertemplate\":\"States=West Bengal\\u003cbr\\u003eMonth_name=Aug\\u003cbr\\u003eRegion=%{x}\\u003cbr\\u003eEstimated Unemployment Rate=%{y}\\u003cextra\\u003e\\u003c\\u002fextra\\u003e\",\"legendgroup\":\"West Bengal\",\"marker\":{\"color\":\"#FF6692\",\"pattern\":{\"shape\":\"\"}},\"name\":\"West Bengal\",\"offsetgroup\":\"West Bengal\",\"orientation\":\"v\",\"showlegend\":true,\"textposition\":\"auto\",\"x\":[\"East\"],\"xaxis\":\"x\",\"y\":[14.87],\"yaxis\":\"y\",\"type\":\"bar\"}],\"name\":\"Aug\"},{\"data\":[{\"alignmentgroup\":\"True\",\"hovertemplate\":\"States=Andhra Pradesh\\u003cbr\\u003eMonth_name=Sep\\u003cbr\\u003eRegion=%{x}\\u003cbr\\u003eEstimated Unemployment Rate=%{y}\\u003cextra\\u003e\\u003c\\u002fextra\\u003e\",\"legendgroup\":\"Andhra Pradesh\",\"marker\":{\"color\":\"#636efa\",\"pattern\":{\"shape\":\"\"}},\"name\":\"Andhra Pradesh\",\"offsetgroup\":\"Andhra Pradesh\",\"orientation\":\"v\",\"showlegend\":true,\"textposition\":\"auto\",\"x\":[\"South\"],\"xaxis\":\"x\",\"y\":[6.4],\"yaxis\":\"y\",\"type\":\"bar\"},{\"alignmentgroup\":\"True\",\"hovertemplate\":\"States=Assam\\u003cbr\\u003eMonth_name=Sep\\u003cbr\\u003eRegion=%{x}\\u003cbr\\u003eEstimated Unemployment Rate=%{y}\\u003cextra\\u003e\\u003c\\u002fextra\\u003e\",\"legendgroup\":\"Assam\",\"marker\":{\"color\":\"#EF553B\",\"pattern\":{\"shape\":\"\"}},\"name\":\"Assam\",\"offsetgroup\":\"Assam\",\"orientation\":\"v\",\"showlegend\":true,\"textposition\":\"auto\",\"x\":[\"Northeast\"],\"xaxis\":\"x\",\"y\":[1.19],\"yaxis\":\"y\",\"type\":\"bar\"},{\"alignmentgroup\":\"True\",\"hovertemplate\":\"States=Bihar\\u003cbr\\u003eMonth_name=Sep\\u003cbr\\u003eRegion=%{x}\\u003cbr\\u003eEstimated Unemployment Rate=%{y}\\u003cextra\\u003e\\u003c\\u002fextra\\u003e\",\"legendgroup\":\"Bihar\",\"marker\":{\"color\":\"#00cc96\",\"pattern\":{\"shape\":\"\"}},\"name\":\"Bihar\",\"offsetgroup\":\"Bihar\",\"orientation\":\"v\",\"showlegend\":true,\"textposition\":\"auto\",\"x\":[\"East\"],\"xaxis\":\"x\",\"y\":[11.91],\"yaxis\":\"y\",\"type\":\"bar\"},{\"alignmentgroup\":\"True\",\"hovertemplate\":\"States=Chhattisgarh\\u003cbr\\u003eMonth_name=Sep\\u003cbr\\u003eRegion=%{x}\\u003cbr\\u003eEstimated Unemployment Rate=%{y}\\u003cextra\\u003e\\u003c\\u002fextra\\u003e\",\"legendgroup\":\"Chhattisgarh\",\"marker\":{\"color\":\"#ab63fa\",\"pattern\":{\"shape\":\"\"}},\"name\":\"Chhattisgarh\",\"offsetgroup\":\"Chhattisgarh\",\"orientation\":\"v\",\"showlegend\":true,\"textposition\":\"auto\",\"x\":[\"West\"],\"xaxis\":\"x\",\"y\":[1.96],\"yaxis\":\"y\",\"type\":\"bar\"},{\"alignmentgroup\":\"True\",\"hovertemplate\":\"States=Delhi\\u003cbr\\u003eMonth_name=Sep\\u003cbr\\u003eRegion=%{x}\\u003cbr\\u003eEstimated Unemployment Rate=%{y}\\u003cextra\\u003e\\u003c\\u002fextra\\u003e\",\"legendgroup\":\"Delhi\",\"marker\":{\"color\":\"#FFA15A\",\"pattern\":{\"shape\":\"\"}},\"name\":\"Delhi\",\"offsetgroup\":\"Delhi\",\"orientation\":\"v\",\"showlegend\":true,\"textposition\":\"auto\",\"x\":[\"North\"],\"xaxis\":\"x\",\"y\":[12.53],\"yaxis\":\"y\",\"type\":\"bar\"},{\"alignmentgroup\":\"True\",\"hovertemplate\":\"States=Goa\\u003cbr\\u003eMonth_name=Sep\\u003cbr\\u003eRegion=%{x}\\u003cbr\\u003eEstimated Unemployment Rate=%{y}\\u003cextra\\u003e\\u003c\\u002fextra\\u003e\",\"legendgroup\":\"Goa\",\"marker\":{\"color\":\"#19d3f3\",\"pattern\":{\"shape\":\"\"}},\"name\":\"Goa\",\"offsetgroup\":\"Goa\",\"orientation\":\"v\",\"showlegend\":true,\"textposition\":\"auto\",\"x\":[\"West\"],\"xaxis\":\"x\",\"y\":[15.38],\"yaxis\":\"y\",\"type\":\"bar\"},{\"alignmentgroup\":\"True\",\"hovertemplate\":\"States=Gujarat\\u003cbr\\u003eMonth_name=Sep\\u003cbr\\u003eRegion=%{x}\\u003cbr\\u003eEstimated Unemployment Rate=%{y}\\u003cextra\\u003e\\u003c\\u002fextra\\u003e\",\"legendgroup\":\"Gujarat\",\"marker\":{\"color\":\"#FF6692\",\"pattern\":{\"shape\":\"\"}},\"name\":\"Gujarat\",\"offsetgroup\":\"Gujarat\",\"orientation\":\"v\",\"showlegend\":true,\"textposition\":\"auto\",\"x\":[\"West\"],\"xaxis\":\"x\",\"y\":[3.42],\"yaxis\":\"y\",\"type\":\"bar\"},{\"alignmentgroup\":\"True\",\"hovertemplate\":\"States=Haryana\\u003cbr\\u003eMonth_name=Sep\\u003cbr\\u003eRegion=%{x}\\u003cbr\\u003eEstimated Unemployment Rate=%{y}\\u003cextra\\u003e\\u003c\\u002fextra\\u003e\",\"legendgroup\":\"Haryana\",\"marker\":{\"color\":\"#B6E880\",\"pattern\":{\"shape\":\"\"}},\"name\":\"Haryana\",\"offsetgroup\":\"Haryana\",\"orientation\":\"v\",\"showlegend\":true,\"textposition\":\"auto\",\"x\":[\"North\"],\"xaxis\":\"x\",\"y\":[19.68],\"yaxis\":\"y\",\"type\":\"bar\"},{\"alignmentgroup\":\"True\",\"hovertemplate\":\"States=Himachal Pradesh\\u003cbr\\u003eMonth_name=Sep\\u003cbr\\u003eRegion=%{x}\\u003cbr\\u003eEstimated Unemployment Rate=%{y}\\u003cextra\\u003e\\u003c\\u002fextra\\u003e\",\"legendgroup\":\"Himachal Pradesh\",\"marker\":{\"color\":\"#FF97FF\",\"pattern\":{\"shape\":\"\"}},\"name\":\"Himachal Pradesh\",\"offsetgroup\":\"Himachal Pradesh\",\"orientation\":\"v\",\"showlegend\":true,\"textposition\":\"auto\",\"x\":[\"North\"],\"xaxis\":\"x\",\"y\":[12.04],\"yaxis\":\"y\",\"type\":\"bar\"},{\"alignmentgroup\":\"True\",\"hovertemplate\":\"States=Jammu & Kashmir\\u003cbr\\u003eMonth_name=Sep\\u003cbr\\u003eRegion=%{x}\\u003cbr\\u003eEstimated Unemployment Rate=%{y}\\u003cextra\\u003e\\u003c\\u002fextra\\u003e\",\"legendgroup\":\"Jammu & Kashmir\",\"marker\":{\"color\":\"#FECB52\",\"pattern\":{\"shape\":\"\"}},\"name\":\"Jammu & Kashmir\",\"offsetgroup\":\"Jammu & Kashmir\",\"orientation\":\"v\",\"showlegend\":true,\"textposition\":\"auto\",\"x\":[\"North\"],\"xaxis\":\"x\",\"y\":[16.17],\"yaxis\":\"y\",\"type\":\"bar\"},{\"alignmentgroup\":\"True\",\"hovertemplate\":\"States=Jharkhand\\u003cbr\\u003eMonth_name=Sep\\u003cbr\\u003eRegion=%{x}\\u003cbr\\u003eEstimated Unemployment Rate=%{y}\\u003cextra\\u003e\\u003c\\u002fextra\\u003e\",\"legendgroup\":\"Jharkhand\",\"marker\":{\"color\":\"#636efa\",\"pattern\":{\"shape\":\"\"}},\"name\":\"Jharkhand\",\"offsetgroup\":\"Jharkhand\",\"orientation\":\"v\",\"showlegend\":true,\"textposition\":\"auto\",\"x\":[\"East\"],\"xaxis\":\"x\",\"y\":[8.24],\"yaxis\":\"y\",\"type\":\"bar\"},{\"alignmentgroup\":\"True\",\"hovertemplate\":\"States=Karnataka\\u003cbr\\u003eMonth_name=Sep\\u003cbr\\u003eRegion=%{x}\\u003cbr\\u003eEstimated Unemployment Rate=%{y}\\u003cextra\\u003e\\u003c\\u002fextra\\u003e\",\"legendgroup\":\"Karnataka\",\"marker\":{\"color\":\"#EF553B\",\"pattern\":{\"shape\":\"\"}},\"name\":\"Karnataka\",\"offsetgroup\":\"Karnataka\",\"orientation\":\"v\",\"showlegend\":true,\"textposition\":\"auto\",\"x\":[\"South\"],\"xaxis\":\"x\",\"y\":[2.41],\"yaxis\":\"y\",\"type\":\"bar\"},{\"alignmentgroup\":\"True\",\"hovertemplate\":\"States=Kerala\\u003cbr\\u003eMonth_name=Sep\\u003cbr\\u003eRegion=%{x}\\u003cbr\\u003eEstimated Unemployment Rate=%{y}\\u003cextra\\u003e\\u003c\\u002fextra\\u003e\",\"legendgroup\":\"Kerala\",\"marker\":{\"color\":\"#00cc96\",\"pattern\":{\"shape\":\"\"}},\"name\":\"Kerala\",\"offsetgroup\":\"Kerala\",\"orientation\":\"v\",\"showlegend\":true,\"textposition\":\"auto\",\"x\":[\"South\"],\"xaxis\":\"x\",\"y\":[5.91],\"yaxis\":\"y\",\"type\":\"bar\"},{\"alignmentgroup\":\"True\",\"hovertemplate\":\"States=Madhya Pradesh\\u003cbr\\u003eMonth_name=Sep\\u003cbr\\u003eRegion=%{x}\\u003cbr\\u003eEstimated Unemployment Rate=%{y}\\u003cextra\\u003e\\u003c\\u002fextra\\u003e\",\"legendgroup\":\"Madhya Pradesh\",\"marker\":{\"color\":\"#ab63fa\",\"pattern\":{\"shape\":\"\"}},\"name\":\"Madhya Pradesh\",\"offsetgroup\":\"Madhya Pradesh\",\"orientation\":\"v\",\"showlegend\":true,\"textposition\":\"auto\",\"x\":[\"West\"],\"xaxis\":\"x\",\"y\":[3.91],\"yaxis\":\"y\",\"type\":\"bar\"},{\"alignmentgroup\":\"True\",\"hovertemplate\":\"States=Maharashtra\\u003cbr\\u003eMonth_name=Sep\\u003cbr\\u003eRegion=%{x}\\u003cbr\\u003eEstimated Unemployment Rate=%{y}\\u003cextra\\u003e\\u003c\\u002fextra\\u003e\",\"legendgroup\":\"Maharashtra\",\"marker\":{\"color\":\"#FFA15A\",\"pattern\":{\"shape\":\"\"}},\"name\":\"Maharashtra\",\"offsetgroup\":\"Maharashtra\",\"orientation\":\"v\",\"showlegend\":true,\"textposition\":\"auto\",\"x\":[\"West\"],\"xaxis\":\"x\",\"y\":[4.55],\"yaxis\":\"y\",\"type\":\"bar\"},{\"alignmentgroup\":\"True\",\"hovertemplate\":\"States=Meghalaya\\u003cbr\\u003eMonth_name=Sep\\u003cbr\\u003eRegion=%{x}\\u003cbr\\u003eEstimated Unemployment Rate=%{y}\\u003cextra\\u003e\\u003c\\u002fextra\\u003e\",\"legendgroup\":\"Meghalaya\",\"marker\":{\"color\":\"#19d3f3\",\"pattern\":{\"shape\":\"\"}},\"name\":\"Meghalaya\",\"offsetgroup\":\"Meghalaya\",\"orientation\":\"v\",\"showlegend\":true,\"textposition\":\"auto\",\"x\":[\"Northeast\"],\"xaxis\":\"x\",\"y\":[4.29],\"yaxis\":\"y\",\"type\":\"bar\"},{\"alignmentgroup\":\"True\",\"hovertemplate\":\"States=Odisha\\u003cbr\\u003eMonth_name=Sep\\u003cbr\\u003eRegion=%{x}\\u003cbr\\u003eEstimated Unemployment Rate=%{y}\\u003cextra\\u003e\\u003c\\u002fextra\\u003e\",\"legendgroup\":\"Odisha\",\"marker\":{\"color\":\"#FF6692\",\"pattern\":{\"shape\":\"\"}},\"name\":\"Odisha\",\"offsetgroup\":\"Odisha\",\"orientation\":\"v\",\"showlegend\":true,\"textposition\":\"auto\",\"x\":[\"East\"],\"xaxis\":\"x\",\"y\":[2.1],\"yaxis\":\"y\",\"type\":\"bar\"},{\"alignmentgroup\":\"True\",\"hovertemplate\":\"States=Puducherry\\u003cbr\\u003eMonth_name=Sep\\u003cbr\\u003eRegion=%{x}\\u003cbr\\u003eEstimated Unemployment Rate=%{y}\\u003cextra\\u003e\\u003c\\u002fextra\\u003e\",\"legendgroup\":\"Puducherry\",\"marker\":{\"color\":\"#B6E880\",\"pattern\":{\"shape\":\"\"}},\"name\":\"Puducherry\",\"offsetgroup\":\"Puducherry\",\"orientation\":\"v\",\"showlegend\":true,\"textposition\":\"auto\",\"x\":[\"South\"],\"xaxis\":\"x\",\"y\":[10.9],\"yaxis\":\"y\",\"type\":\"bar\"},{\"alignmentgroup\":\"True\",\"hovertemplate\":\"States=Punjab\\u003cbr\\u003eMonth_name=Sep\\u003cbr\\u003eRegion=%{x}\\u003cbr\\u003eEstimated Unemployment Rate=%{y}\\u003cextra\\u003e\\u003c\\u002fextra\\u003e\",\"legendgroup\":\"Punjab\",\"marker\":{\"color\":\"#FF97FF\",\"pattern\":{\"shape\":\"\"}},\"name\":\"Punjab\",\"offsetgroup\":\"Punjab\",\"orientation\":\"v\",\"showlegend\":true,\"textposition\":\"auto\",\"x\":[\"North\"],\"xaxis\":\"x\",\"y\":[9.61],\"yaxis\":\"y\",\"type\":\"bar\"},{\"alignmentgroup\":\"True\",\"hovertemplate\":\"States=Rajasthan\\u003cbr\\u003eMonth_name=Sep\\u003cbr\\u003eRegion=%{x}\\u003cbr\\u003eEstimated Unemployment Rate=%{y}\\u003cextra\\u003e\\u003c\\u002fextra\\u003e\",\"legendgroup\":\"Rajasthan\",\"marker\":{\"color\":\"#FECB52\",\"pattern\":{\"shape\":\"\"}},\"name\":\"Rajasthan\",\"offsetgroup\":\"Rajasthan\",\"orientation\":\"v\",\"showlegend\":true,\"textposition\":\"auto\",\"x\":[\"North\"],\"xaxis\":\"x\",\"y\":[15.35],\"yaxis\":\"y\",\"type\":\"bar\"},{\"alignmentgroup\":\"True\",\"hovertemplate\":\"States=Sikkim\\u003cbr\\u003eMonth_name=Sep\\u003cbr\\u003eRegion=%{x}\\u003cbr\\u003eEstimated Unemployment Rate=%{y}\\u003cextra\\u003e\\u003c\\u002fextra\\u003e\",\"legendgroup\":\"Sikkim\",\"marker\":{\"color\":\"#636efa\",\"pattern\":{\"shape\":\"\"}},\"name\":\"Sikkim\",\"offsetgroup\":\"Sikkim\",\"orientation\":\"v\",\"showlegend\":true,\"textposition\":\"auto\",\"x\":[\"Northeast\"],\"xaxis\":\"x\",\"y\":[5.7],\"yaxis\":\"y\",\"type\":\"bar\"},{\"alignmentgroup\":\"True\",\"hovertemplate\":\"States=Tamil Nadu\\u003cbr\\u003eMonth_name=Sep\\u003cbr\\u003eRegion=%{x}\\u003cbr\\u003eEstimated Unemployment Rate=%{y}\\u003cextra\\u003e\\u003c\\u002fextra\\u003e\",\"legendgroup\":\"Tamil Nadu\",\"marker\":{\"color\":\"#EF553B\",\"pattern\":{\"shape\":\"\"}},\"name\":\"Tamil Nadu\",\"offsetgroup\":\"Tamil Nadu\",\"orientation\":\"v\",\"showlegend\":true,\"textposition\":\"auto\",\"x\":[\"South\"],\"xaxis\":\"x\",\"y\":[5.0],\"yaxis\":\"y\",\"type\":\"bar\"},{\"alignmentgroup\":\"True\",\"hovertemplate\":\"States=Telangana\\u003cbr\\u003eMonth_name=Sep\\u003cbr\\u003eRegion=%{x}\\u003cbr\\u003eEstimated Unemployment Rate=%{y}\\u003cextra\\u003e\\u003c\\u002fextra\\u003e\",\"legendgroup\":\"Telangana\",\"marker\":{\"color\":\"#00cc96\",\"pattern\":{\"shape\":\"\"}},\"name\":\"Telangana\",\"offsetgroup\":\"Telangana\",\"orientation\":\"v\",\"showlegend\":true,\"textposition\":\"auto\",\"x\":[\"South\"],\"xaxis\":\"x\",\"y\":[3.27],\"yaxis\":\"y\",\"type\":\"bar\"},{\"alignmentgroup\":\"True\",\"hovertemplate\":\"States=Tripura\\u003cbr\\u003eMonth_name=Sep\\u003cbr\\u003eRegion=%{x}\\u003cbr\\u003eEstimated Unemployment Rate=%{y}\\u003cextra\\u003e\\u003c\\u002fextra\\u003e\",\"legendgroup\":\"Tripura\",\"marker\":{\"color\":\"#ab63fa\",\"pattern\":{\"shape\":\"\"}},\"name\":\"Tripura\",\"offsetgroup\":\"Tripura\",\"orientation\":\"v\",\"showlegend\":true,\"textposition\":\"auto\",\"x\":[\"Northeast\"],\"xaxis\":\"x\",\"y\":[17.35],\"yaxis\":\"y\",\"type\":\"bar\"},{\"alignmentgroup\":\"True\",\"hovertemplate\":\"States=Uttar Pradesh\\u003cbr\\u003eMonth_name=Sep\\u003cbr\\u003eRegion=%{x}\\u003cbr\\u003eEstimated Unemployment Rate=%{y}\\u003cextra\\u003e\\u003c\\u002fextra\\u003e\",\"legendgroup\":\"Uttar Pradesh\",\"marker\":{\"color\":\"#FFA15A\",\"pattern\":{\"shape\":\"\"}},\"name\":\"Uttar Pradesh\",\"offsetgroup\":\"Uttar Pradesh\",\"orientation\":\"v\",\"showlegend\":true,\"textposition\":\"auto\",\"x\":[\"North\"],\"xaxis\":\"x\",\"y\":[4.18],\"yaxis\":\"y\",\"type\":\"bar\"},{\"alignmentgroup\":\"True\",\"hovertemplate\":\"States=Uttarakhand\\u003cbr\\u003eMonth_name=Sep\\u003cbr\\u003eRegion=%{x}\\u003cbr\\u003eEstimated Unemployment Rate=%{y}\\u003cextra\\u003e\\u003c\\u002fextra\\u003e\",\"legendgroup\":\"Uttarakhand\",\"marker\":{\"color\":\"#19d3f3\",\"pattern\":{\"shape\":\"\"}},\"name\":\"Uttarakhand\",\"offsetgroup\":\"Uttarakhand\",\"orientation\":\"v\",\"showlegend\":true,\"textposition\":\"auto\",\"x\":[\"North\"],\"xaxis\":\"x\",\"y\":[22.26],\"yaxis\":\"y\",\"type\":\"bar\"},{\"alignmentgroup\":\"True\",\"hovertemplate\":\"States=West Bengal\\u003cbr\\u003eMonth_name=Sep\\u003cbr\\u003eRegion=%{x}\\u003cbr\\u003eEstimated Unemployment Rate=%{y}\\u003cextra\\u003e\\u003c\\u002fextra\\u003e\",\"legendgroup\":\"West Bengal\",\"marker\":{\"color\":\"#FF6692\",\"pattern\":{\"shape\":\"\"}},\"name\":\"West Bengal\",\"offsetgroup\":\"West Bengal\",\"orientation\":\"v\",\"showlegend\":true,\"textposition\":\"auto\",\"x\":[\"East\"],\"xaxis\":\"x\",\"y\":[9.35],\"yaxis\":\"y\",\"type\":\"bar\"}],\"name\":\"Sep\"},{\"data\":[{\"alignmentgroup\":\"True\",\"hovertemplate\":\"States=Andhra Pradesh\\u003cbr\\u003eMonth_name=Oct\\u003cbr\\u003eRegion=%{x}\\u003cbr\\u003eEstimated Unemployment Rate=%{y}\\u003cextra\\u003e\\u003c\\u002fextra\\u003e\",\"legendgroup\":\"Andhra Pradesh\",\"marker\":{\"color\":\"#636efa\",\"pattern\":{\"shape\":\"\"}},\"name\":\"Andhra Pradesh\",\"offsetgroup\":\"Andhra Pradesh\",\"orientation\":\"v\",\"showlegend\":true,\"textposition\":\"auto\",\"x\":[\"South\"],\"xaxis\":\"x\",\"y\":[6.59],\"yaxis\":\"y\",\"type\":\"bar\"},{\"alignmentgroup\":\"True\",\"hovertemplate\":\"States=Assam\\u003cbr\\u003eMonth_name=Oct\\u003cbr\\u003eRegion=%{x}\\u003cbr\\u003eEstimated Unemployment Rate=%{y}\\u003cextra\\u003e\\u003c\\u002fextra\\u003e\",\"legendgroup\":\"Assam\",\"marker\":{\"color\":\"#EF553B\",\"pattern\":{\"shape\":\"\"}},\"name\":\"Assam\",\"offsetgroup\":\"Assam\",\"orientation\":\"v\",\"showlegend\":true,\"textposition\":\"auto\",\"x\":[\"Northeast\"],\"xaxis\":\"x\",\"y\":[3.02],\"yaxis\":\"y\",\"type\":\"bar\"},{\"alignmentgroup\":\"True\",\"hovertemplate\":\"States=Bihar\\u003cbr\\u003eMonth_name=Oct\\u003cbr\\u003eRegion=%{x}\\u003cbr\\u003eEstimated Unemployment Rate=%{y}\\u003cextra\\u003e\\u003c\\u002fextra\\u003e\",\"legendgroup\":\"Bihar\",\"marker\":{\"color\":\"#00cc96\",\"pattern\":{\"shape\":\"\"}},\"name\":\"Bihar\",\"offsetgroup\":\"Bihar\",\"orientation\":\"v\",\"showlegend\":true,\"textposition\":\"auto\",\"x\":[\"East\"],\"xaxis\":\"x\",\"y\":[9.82],\"yaxis\":\"y\",\"type\":\"bar\"},{\"alignmentgroup\":\"True\",\"hovertemplate\":\"States=Chhattisgarh\\u003cbr\\u003eMonth_name=Oct\\u003cbr\\u003eRegion=%{x}\\u003cbr\\u003eEstimated Unemployment Rate=%{y}\\u003cextra\\u003e\\u003c\\u002fextra\\u003e\",\"legendgroup\":\"Chhattisgarh\",\"marker\":{\"color\":\"#ab63fa\",\"pattern\":{\"shape\":\"\"}},\"name\":\"Chhattisgarh\",\"offsetgroup\":\"Chhattisgarh\",\"orientation\":\"v\",\"showlegend\":true,\"textposition\":\"auto\",\"x\":[\"West\"],\"xaxis\":\"x\",\"y\":[6.62],\"yaxis\":\"y\",\"type\":\"bar\"},{\"alignmentgroup\":\"True\",\"hovertemplate\":\"States=Delhi\\u003cbr\\u003eMonth_name=Oct\\u003cbr\\u003eRegion=%{x}\\u003cbr\\u003eEstimated Unemployment Rate=%{y}\\u003cextra\\u003e\\u003c\\u002fextra\\u003e\",\"legendgroup\":\"Delhi\",\"marker\":{\"color\":\"#FFA15A\",\"pattern\":{\"shape\":\"\"}},\"name\":\"Delhi\",\"offsetgroup\":\"Delhi\",\"orientation\":\"v\",\"showlegend\":true,\"textposition\":\"auto\",\"x\":[\"North\"],\"xaxis\":\"x\",\"y\":[6.27],\"yaxis\":\"y\",\"type\":\"bar\"},{\"alignmentgroup\":\"True\",\"hovertemplate\":\"States=Goa\\u003cbr\\u003eMonth_name=Oct\\u003cbr\\u003eRegion=%{x}\\u003cbr\\u003eEstimated Unemployment Rate=%{y}\\u003cextra\\u003e\\u003c\\u002fextra\\u003e\",\"legendgroup\":\"Goa\",\"marker\":{\"color\":\"#19d3f3\",\"pattern\":{\"shape\":\"\"}},\"name\":\"Goa\",\"offsetgroup\":\"Goa\",\"orientation\":\"v\",\"showlegend\":true,\"textposition\":\"auto\",\"x\":[\"West\"],\"xaxis\":\"x\",\"y\":[11.54],\"yaxis\":\"y\",\"type\":\"bar\"},{\"alignmentgroup\":\"True\",\"hovertemplate\":\"States=Gujarat\\u003cbr\\u003eMonth_name=Oct\\u003cbr\\u003eRegion=%{x}\\u003cbr\\u003eEstimated Unemployment Rate=%{y}\\u003cextra\\u003e\\u003c\\u002fextra\\u003e\",\"legendgroup\":\"Gujarat\",\"marker\":{\"color\":\"#FF6692\",\"pattern\":{\"shape\":\"\"}},\"name\":\"Gujarat\",\"offsetgroup\":\"Gujarat\",\"orientation\":\"v\",\"showlegend\":true,\"textposition\":\"auto\",\"x\":[\"West\"],\"xaxis\":\"x\",\"y\":[4.03],\"yaxis\":\"y\",\"type\":\"bar\"},{\"alignmentgroup\":\"True\",\"hovertemplate\":\"States=Haryana\\u003cbr\\u003eMonth_name=Oct\\u003cbr\\u003eRegion=%{x}\\u003cbr\\u003eEstimated Unemployment Rate=%{y}\\u003cextra\\u003e\\u003c\\u002fextra\\u003e\",\"legendgroup\":\"Haryana\",\"marker\":{\"color\":\"#B6E880\",\"pattern\":{\"shape\":\"\"}},\"name\":\"Haryana\",\"offsetgroup\":\"Haryana\",\"orientation\":\"v\",\"showlegend\":true,\"textposition\":\"auto\",\"x\":[\"North\"],\"xaxis\":\"x\",\"y\":[27.31],\"yaxis\":\"y\",\"type\":\"bar\"},{\"alignmentgroup\":\"True\",\"hovertemplate\":\"States=Himachal Pradesh\\u003cbr\\u003eMonth_name=Oct\\u003cbr\\u003eRegion=%{x}\\u003cbr\\u003eEstimated Unemployment Rate=%{y}\\u003cextra\\u003e\\u003c\\u002fextra\\u003e\",\"legendgroup\":\"Himachal Pradesh\",\"marker\":{\"color\":\"#FF97FF\",\"pattern\":{\"shape\":\"\"}},\"name\":\"Himachal Pradesh\",\"offsetgroup\":\"Himachal Pradesh\",\"orientation\":\"v\",\"showlegend\":true,\"textposition\":\"auto\",\"x\":[\"North\"],\"xaxis\":\"x\",\"y\":[13.46],\"yaxis\":\"y\",\"type\":\"bar\"},{\"alignmentgroup\":\"True\",\"hovertemplate\":\"States=Jammu & Kashmir\\u003cbr\\u003eMonth_name=Oct\\u003cbr\\u003eRegion=%{x}\\u003cbr\\u003eEstimated Unemployment Rate=%{y}\\u003cextra\\u003e\\u003c\\u002fextra\\u003e\",\"legendgroup\":\"Jammu & Kashmir\",\"marker\":{\"color\":\"#FECB52\",\"pattern\":{\"shape\":\"\"}},\"name\":\"Jammu & Kashmir\",\"offsetgroup\":\"Jammu & Kashmir\",\"orientation\":\"v\",\"showlegend\":true,\"textposition\":\"auto\",\"x\":[\"North\"],\"xaxis\":\"x\",\"y\":[16.14],\"yaxis\":\"y\",\"type\":\"bar\"},{\"alignmentgroup\":\"True\",\"hovertemplate\":\"States=Jharkhand\\u003cbr\\u003eMonth_name=Oct\\u003cbr\\u003eRegion=%{x}\\u003cbr\\u003eEstimated Unemployment Rate=%{y}\\u003cextra\\u003e\\u003c\\u002fextra\\u003e\",\"legendgroup\":\"Jharkhand\",\"marker\":{\"color\":\"#636efa\",\"pattern\":{\"shape\":\"\"}},\"name\":\"Jharkhand\",\"offsetgroup\":\"Jharkhand\",\"orientation\":\"v\",\"showlegend\":true,\"textposition\":\"auto\",\"x\":[\"East\"],\"xaxis\":\"x\",\"y\":[11.8],\"yaxis\":\"y\",\"type\":\"bar\"},{\"alignmentgroup\":\"True\",\"hovertemplate\":\"States=Karnataka\\u003cbr\\u003eMonth_name=Oct\\u003cbr\\u003eRegion=%{x}\\u003cbr\\u003eEstimated Unemployment Rate=%{y}\\u003cextra\\u003e\\u003c\\u002fextra\\u003e\",\"legendgroup\":\"Karnataka\",\"marker\":{\"color\":\"#EF553B\",\"pattern\":{\"shape\":\"\"}},\"name\":\"Karnataka\",\"offsetgroup\":\"Karnataka\",\"orientation\":\"v\",\"showlegend\":true,\"textposition\":\"auto\",\"x\":[\"South\"],\"xaxis\":\"x\",\"y\":[1.58],\"yaxis\":\"y\",\"type\":\"bar\"},{\"alignmentgroup\":\"True\",\"hovertemplate\":\"States=Kerala\\u003cbr\\u003eMonth_name=Oct\\u003cbr\\u003eRegion=%{x}\\u003cbr\\u003eEstimated Unemployment Rate=%{y}\\u003cextra\\u003e\\u003c\\u002fextra\\u003e\",\"legendgroup\":\"Kerala\",\"marker\":{\"color\":\"#00cc96\",\"pattern\":{\"shape\":\"\"}},\"name\":\"Kerala\",\"offsetgroup\":\"Kerala\",\"orientation\":\"v\",\"showlegend\":true,\"textposition\":\"auto\",\"x\":[\"South\"],\"xaxis\":\"x\",\"y\":[3.88],\"yaxis\":\"y\",\"type\":\"bar\"},{\"alignmentgroup\":\"True\",\"hovertemplate\":\"States=Madhya Pradesh\\u003cbr\\u003eMonth_name=Oct\\u003cbr\\u003eRegion=%{x}\\u003cbr\\u003eEstimated Unemployment Rate=%{y}\\u003cextra\\u003e\\u003c\\u002fextra\\u003e\",\"legendgroup\":\"Madhya Pradesh\",\"marker\":{\"color\":\"#ab63fa\",\"pattern\":{\"shape\":\"\"}},\"name\":\"Madhya Pradesh\",\"offsetgroup\":\"Madhya Pradesh\",\"orientation\":\"v\",\"showlegend\":true,\"textposition\":\"auto\",\"x\":[\"West\"],\"xaxis\":\"x\",\"y\":[3.13],\"yaxis\":\"y\",\"type\":\"bar\"},{\"alignmentgroup\":\"True\",\"hovertemplate\":\"States=Maharashtra\\u003cbr\\u003eMonth_name=Oct\\u003cbr\\u003eRegion=%{x}\\u003cbr\\u003eEstimated Unemployment Rate=%{y}\\u003cextra\\u003e\\u003c\\u002fextra\\u003e\",\"legendgroup\":\"Maharashtra\",\"marker\":{\"color\":\"#FFA15A\",\"pattern\":{\"shape\":\"\"}},\"name\":\"Maharashtra\",\"offsetgroup\":\"Maharashtra\",\"orientation\":\"v\",\"showlegend\":true,\"textposition\":\"auto\",\"x\":[\"West\"],\"xaxis\":\"x\",\"y\":[4.1],\"yaxis\":\"y\",\"type\":\"bar\"},{\"alignmentgroup\":\"True\",\"hovertemplate\":\"States=Meghalaya\\u003cbr\\u003eMonth_name=Oct\\u003cbr\\u003eRegion=%{x}\\u003cbr\\u003eEstimated Unemployment Rate=%{y}\\u003cextra\\u003e\\u003c\\u002fextra\\u003e\",\"legendgroup\":\"Meghalaya\",\"marker\":{\"color\":\"#19d3f3\",\"pattern\":{\"shape\":\"\"}},\"name\":\"Meghalaya\",\"offsetgroup\":\"Meghalaya\",\"orientation\":\"v\",\"showlegend\":true,\"textposition\":\"auto\",\"x\":[\"Northeast\"],\"xaxis\":\"x\",\"y\":[4.6],\"yaxis\":\"y\",\"type\":\"bar\"},{\"alignmentgroup\":\"True\",\"hovertemplate\":\"States=Odisha\\u003cbr\\u003eMonth_name=Oct\\u003cbr\\u003eRegion=%{x}\\u003cbr\\u003eEstimated Unemployment Rate=%{y}\\u003cextra\\u003e\\u003c\\u002fextra\\u003e\",\"legendgroup\":\"Odisha\",\"marker\":{\"color\":\"#FF6692\",\"pattern\":{\"shape\":\"\"}},\"name\":\"Odisha\",\"offsetgroup\":\"Odisha\",\"orientation\":\"v\",\"showlegend\":true,\"textposition\":\"auto\",\"x\":[\"East\"],\"xaxis\":\"x\",\"y\":[2.18],\"yaxis\":\"y\",\"type\":\"bar\"},{\"alignmentgroup\":\"True\",\"hovertemplate\":\"States=Puducherry\\u003cbr\\u003eMonth_name=Oct\\u003cbr\\u003eRegion=%{x}\\u003cbr\\u003eEstimated Unemployment Rate=%{y}\\u003cextra\\u003e\\u003c\\u002fextra\\u003e\",\"legendgroup\":\"Puducherry\",\"marker\":{\"color\":\"#B6E880\",\"pattern\":{\"shape\":\"\"}},\"name\":\"Puducherry\",\"offsetgroup\":\"Puducherry\",\"orientation\":\"v\",\"showlegend\":true,\"textposition\":\"auto\",\"x\":[\"South\"],\"xaxis\":\"x\",\"y\":[6.18],\"yaxis\":\"y\",\"type\":\"bar\"},{\"alignmentgroup\":\"True\",\"hovertemplate\":\"States=Punjab\\u003cbr\\u003eMonth_name=Oct\\u003cbr\\u003eRegion=%{x}\\u003cbr\\u003eEstimated Unemployment Rate=%{y}\\u003cextra\\u003e\\u003c\\u002fextra\\u003e\",\"legendgroup\":\"Punjab\",\"marker\":{\"color\":\"#FF97FF\",\"pattern\":{\"shape\":\"\"}},\"name\":\"Punjab\",\"offsetgroup\":\"Punjab\",\"orientation\":\"v\",\"showlegend\":true,\"textposition\":\"auto\",\"x\":[\"North\"],\"xaxis\":\"x\",\"y\":[9.88],\"yaxis\":\"y\",\"type\":\"bar\"},{\"alignmentgroup\":\"True\",\"hovertemplate\":\"States=Rajasthan\\u003cbr\\u003eMonth_name=Oct\\u003cbr\\u003eRegion=%{x}\\u003cbr\\u003eEstimated Unemployment Rate=%{y}\\u003cextra\\u003e\\u003c\\u002fextra\\u003e\",\"legendgroup\":\"Rajasthan\",\"marker\":{\"color\":\"#FECB52\",\"pattern\":{\"shape\":\"\"}},\"name\":\"Rajasthan\",\"offsetgroup\":\"Rajasthan\",\"orientation\":\"v\",\"showlegend\":true,\"textposition\":\"auto\",\"x\":[\"North\"],\"xaxis\":\"x\",\"y\":[24.15],\"yaxis\":\"y\",\"type\":\"bar\"},{\"alignmentgroup\":\"True\",\"hovertemplate\":\"States=Sikkim\\u003cbr\\u003eMonth_name=Oct\\u003cbr\\u003eRegion=%{x}\\u003cbr\\u003eEstimated Unemployment Rate=%{y}\\u003cextra\\u003e\\u003c\\u002fextra\\u003e\",\"legendgroup\":\"Sikkim\",\"marker\":{\"color\":\"#636efa\",\"pattern\":{\"shape\":\"\"}},\"name\":\"Sikkim\",\"offsetgroup\":\"Sikkim\",\"orientation\":\"v\",\"showlegend\":true,\"textposition\":\"auto\",\"x\":[\"Northeast\"],\"xaxis\":\"x\",\"y\":[0.88],\"yaxis\":\"y\",\"type\":\"bar\"},{\"alignmentgroup\":\"True\",\"hovertemplate\":\"States=Tamil Nadu\\u003cbr\\u003eMonth_name=Oct\\u003cbr\\u003eRegion=%{x}\\u003cbr\\u003eEstimated Unemployment Rate=%{y}\\u003cextra\\u003e\\u003c\\u002fextra\\u003e\",\"legendgroup\":\"Tamil Nadu\",\"marker\":{\"color\":\"#EF553B\",\"pattern\":{\"shape\":\"\"}},\"name\":\"Tamil Nadu\",\"offsetgroup\":\"Tamil Nadu\",\"orientation\":\"v\",\"showlegend\":true,\"textposition\":\"auto\",\"x\":[\"South\"],\"xaxis\":\"x\",\"y\":[2.16],\"yaxis\":\"y\",\"type\":\"bar\"},{\"alignmentgroup\":\"True\",\"hovertemplate\":\"States=Telangana\\u003cbr\\u003eMonth_name=Oct\\u003cbr\\u003eRegion=%{x}\\u003cbr\\u003eEstimated Unemployment Rate=%{y}\\u003cextra\\u003e\\u003c\\u002fextra\\u003e\",\"legendgroup\":\"Telangana\",\"marker\":{\"color\":\"#00cc96\",\"pattern\":{\"shape\":\"\"}},\"name\":\"Telangana\",\"offsetgroup\":\"Telangana\",\"orientation\":\"v\",\"showlegend\":true,\"textposition\":\"auto\",\"x\":[\"South\"],\"xaxis\":\"x\",\"y\":[2.86],\"yaxis\":\"y\",\"type\":\"bar\"},{\"alignmentgroup\":\"True\",\"hovertemplate\":\"States=Tripura\\u003cbr\\u003eMonth_name=Oct\\u003cbr\\u003eRegion=%{x}\\u003cbr\\u003eEstimated Unemployment Rate=%{y}\\u003cextra\\u003e\\u003c\\u002fextra\\u003e\",\"legendgroup\":\"Tripura\",\"marker\":{\"color\":\"#ab63fa\",\"pattern\":{\"shape\":\"\"}},\"name\":\"Tripura\",\"offsetgroup\":\"Tripura\",\"orientation\":\"v\",\"showlegend\":true,\"textposition\":\"auto\",\"x\":[\"Northeast\"],\"xaxis\":\"x\",\"y\":[11.57],\"yaxis\":\"y\",\"type\":\"bar\"},{\"alignmentgroup\":\"True\",\"hovertemplate\":\"States=Uttar Pradesh\\u003cbr\\u003eMonth_name=Oct\\u003cbr\\u003eRegion=%{x}\\u003cbr\\u003eEstimated Unemployment Rate=%{y}\\u003cextra\\u003e\\u003c\\u002fextra\\u003e\",\"legendgroup\":\"Uttar Pradesh\",\"marker\":{\"color\":\"#FFA15A\",\"pattern\":{\"shape\":\"\"}},\"name\":\"Uttar Pradesh\",\"offsetgroup\":\"Uttar Pradesh\",\"orientation\":\"v\",\"showlegend\":true,\"textposition\":\"auto\",\"x\":[\"North\"],\"xaxis\":\"x\",\"y\":[3.75],\"yaxis\":\"y\",\"type\":\"bar\"},{\"alignmentgroup\":\"True\",\"hovertemplate\":\"States=Uttarakhand\\u003cbr\\u003eMonth_name=Oct\\u003cbr\\u003eRegion=%{x}\\u003cbr\\u003eEstimated Unemployment Rate=%{y}\\u003cextra\\u003e\\u003c\\u002fextra\\u003e\",\"legendgroup\":\"Uttarakhand\",\"marker\":{\"color\":\"#19d3f3\",\"pattern\":{\"shape\":\"\"}},\"name\":\"Uttarakhand\",\"offsetgroup\":\"Uttarakhand\",\"orientation\":\"v\",\"showlegend\":true,\"textposition\":\"auto\",\"x\":[\"North\"],\"xaxis\":\"x\",\"y\":[9.23],\"yaxis\":\"y\",\"type\":\"bar\"},{\"alignmentgroup\":\"True\",\"hovertemplate\":\"States=West Bengal\\u003cbr\\u003eMonth_name=Oct\\u003cbr\\u003eRegion=%{x}\\u003cbr\\u003eEstimated Unemployment Rate=%{y}\\u003cextra\\u003e\\u003c\\u002fextra\\u003e\",\"legendgroup\":\"West Bengal\",\"marker\":{\"color\":\"#FF6692\",\"pattern\":{\"shape\":\"\"}},\"name\":\"West Bengal\",\"offsetgroup\":\"West Bengal\",\"orientation\":\"v\",\"showlegend\":true,\"textposition\":\"auto\",\"x\":[\"East\"],\"xaxis\":\"x\",\"y\":[9.98],\"yaxis\":\"y\",\"type\":\"bar\"}],\"name\":\"Oct\"}]);\n",
       "                        }).then(function(){\n",
       "                            \n",
       "var gd = document.getElementById('6aee0ab8-a24e-405c-b033-c5eadf93b723');\n",
       "var x = new MutationObserver(function (mutations, observer) {{\n",
       "        var display = window.getComputedStyle(gd).display;\n",
       "        if (!display || display === 'none') {{\n",
       "            console.log([gd, 'removed!']);\n",
       "            Plotly.purge(gd);\n",
       "            observer.disconnect();\n",
       "        }}\n",
       "}});\n",
       "\n",
       "// Listen for the removal of the full notebook cells\n",
       "var notebookContainer = gd.closest('#notebook-container');\n",
       "if (notebookContainer) {{\n",
       "    x.observe(notebookContainer, {childList: true});\n",
       "}}\n",
       "\n",
       "// Listen for the clearing of the current output cell\n",
       "var outputEl = gd.closest('.output');\n",
       "if (outputEl) {{\n",
       "    x.observe(outputEl, {childList: true});\n",
       "}}\n",
       "\n",
       "                        })                };                });            </script>        </div>"
      ]
     },
     "metadata": {},
     "output_type": "display_data"
    }
   ],
   "source": [
    "# Bar Plot formation \n",
    "\n",
    "unempRegion_df = df_cleaned[['Estimated Unemployment Rate','Region' , 'Month_name','States']]\n",
    "\n",
    "fig = px.bar(unempRegion_df , y = 'Estimated Unemployment Rate' , x = 'Region' , animation_frame = 'Month_name' , color = 'States' , \n",
    "             height = 600 , title = 'Unemployment Rate per region from Jan .2020 to Oct 2020 ')\n",
    "\n",
    "#Updating the x-axis category order to be in descending total\n",
    "fig.update_layout(xaxis = {'categoryorder' : 'total descending' })\n",
    "\n",
    "#Adjusting the animation frame duration\n",
    "fig.layout.updatemenus[0].buttons[0].args[1][\"frame\"][\"duration\"] = 1000\n",
    "\n",
    "# Showcasing the bar plot formed\n",
    "fig.show()"
   ]
  },
  {
   "cell_type": "code",
   "execution_count": null,
   "id": "970228dc-c334-40cc-8c05-62df3ea8c269",
   "metadata": {},
   "outputs": [],
   "source": []
  },
  {
   "cell_type": "markdown",
   "id": "bc9354a9-c1c7-4c64-ac1a-2e57163a79ca",
   "metadata": {},
   "source": [
    "**Sunbrust chart showing the unemployment rate per state per region**"
   ]
  },
  {
   "cell_type": "code",
   "execution_count": 26,
   "id": "25fac7e2-eae2-4d5b-aa2d-2f8d3e69382d",
   "metadata": {},
   "outputs": [
    {
     "data": {
      "application/vnd.plotly.v1+json": {
       "config": {
        "plotlyServerURL": "https://plot.ly"
       },
       "data": [
        {
         "branchvalues": "total",
         "domain": {
          "x": [
           0,
           1
          ],
          "y": [
           0,
           1
          ]
         },
         "hovertemplate": "labels=%{label}<br>Estimated Unemployment Rate=%{value}<br>parent=%{parent}<br>id=%{id}<extra></extra>",
         "ids": [
          "East/Andhra Pradesh",
          "North/Andhra Pradesh",
          "Northeast/Andhra Pradesh",
          "South/Andhra Pradesh",
          "West/Andhra Pradesh",
          "East/Assam",
          "North/Assam",
          "Northeast/Assam",
          "South/Assam",
          "West/Assam",
          "East/Bihar",
          "North/Bihar",
          "Northeast/Bihar",
          "South/Bihar",
          "West/Bihar",
          "East/Chhattisgarh",
          "North/Chhattisgarh",
          "Northeast/Chhattisgarh",
          "South/Chhattisgarh",
          "West/Chhattisgarh",
          "East/Delhi",
          "North/Delhi",
          "Northeast/Delhi",
          "South/Delhi",
          "West/Delhi",
          "East/Goa",
          "North/Goa",
          "Northeast/Goa",
          "South/Goa",
          "West/Goa",
          "East/Gujarat",
          "North/Gujarat",
          "Northeast/Gujarat",
          "South/Gujarat",
          "West/Gujarat",
          "East/Haryana",
          "North/Haryana",
          "Northeast/Haryana",
          "South/Haryana",
          "West/Haryana",
          "East/Himachal Pradesh",
          "North/Himachal Pradesh",
          "Northeast/Himachal Pradesh",
          "South/Himachal Pradesh",
          "West/Himachal Pradesh",
          "East/Jammu & Kashmir",
          "North/Jammu & Kashmir",
          "Northeast/Jammu & Kashmir",
          "South/Jammu & Kashmir",
          "West/Jammu & Kashmir",
          "East/Jharkhand",
          "North/Jharkhand",
          "Northeast/Jharkhand",
          "South/Jharkhand",
          "West/Jharkhand",
          "East/Karnataka",
          "North/Karnataka",
          "Northeast/Karnataka",
          "South/Karnataka",
          "West/Karnataka",
          "East/Kerala",
          "North/Kerala",
          "Northeast/Kerala",
          "South/Kerala",
          "West/Kerala",
          "East/Madhya Pradesh",
          "North/Madhya Pradesh",
          "Northeast/Madhya Pradesh",
          "South/Madhya Pradesh",
          "West/Madhya Pradesh",
          "East/Maharashtra",
          "North/Maharashtra",
          "Northeast/Maharashtra",
          "South/Maharashtra",
          "West/Maharashtra",
          "East/Meghalaya",
          "North/Meghalaya",
          "Northeast/Meghalaya",
          "South/Meghalaya",
          "West/Meghalaya",
          "East/Odisha",
          "North/Odisha",
          "Northeast/Odisha",
          "South/Odisha",
          "West/Odisha",
          "East/Puducherry",
          "North/Puducherry",
          "Northeast/Puducherry",
          "South/Puducherry",
          "West/Puducherry",
          "East/Punjab",
          "North/Punjab",
          "Northeast/Punjab",
          "South/Punjab",
          "West/Punjab",
          "East/Rajasthan",
          "North/Rajasthan",
          "Northeast/Rajasthan",
          "South/Rajasthan",
          "West/Rajasthan",
          "East/Sikkim",
          "North/Sikkim",
          "Northeast/Sikkim",
          "South/Sikkim",
          "West/Sikkim",
          "East/Tamil Nadu",
          "North/Tamil Nadu",
          "Northeast/Tamil Nadu",
          "South/Tamil Nadu",
          "West/Tamil Nadu",
          "East/Telangana",
          "North/Telangana",
          "Northeast/Telangana",
          "South/Telangana",
          "West/Telangana",
          "East/Tripura",
          "North/Tripura",
          "Northeast/Tripura",
          "South/Tripura",
          "West/Tripura",
          "East/Uttar Pradesh",
          "North/Uttar Pradesh",
          "Northeast/Uttar Pradesh",
          "South/Uttar Pradesh",
          "West/Uttar Pradesh",
          "East/Uttarakhand",
          "North/Uttarakhand",
          "Northeast/Uttarakhand",
          "South/Uttarakhand",
          "West/Uttarakhand",
          "East/West Bengal",
          "North/West Bengal",
          "Northeast/West Bengal",
          "South/West Bengal",
          "West/West Bengal",
          "East",
          "North",
          "Northeast",
          "South",
          "West"
         ],
         "labels": [
          "Andhra Pradesh",
          "Andhra Pradesh",
          "Andhra Pradesh",
          "Andhra Pradesh",
          "Andhra Pradesh",
          "Assam",
          "Assam",
          "Assam",
          "Assam",
          "Assam",
          "Bihar",
          "Bihar",
          "Bihar",
          "Bihar",
          "Bihar",
          "Chhattisgarh",
          "Chhattisgarh",
          "Chhattisgarh",
          "Chhattisgarh",
          "Chhattisgarh",
          "Delhi",
          "Delhi",
          "Delhi",
          "Delhi",
          "Delhi",
          "Goa",
          "Goa",
          "Goa",
          "Goa",
          "Goa",
          "Gujarat",
          "Gujarat",
          "Gujarat",
          "Gujarat",
          "Gujarat",
          "Haryana",
          "Haryana",
          "Haryana",
          "Haryana",
          "Haryana",
          "Himachal Pradesh",
          "Himachal Pradesh",
          "Himachal Pradesh",
          "Himachal Pradesh",
          "Himachal Pradesh",
          "Jammu & Kashmir",
          "Jammu & Kashmir",
          "Jammu & Kashmir",
          "Jammu & Kashmir",
          "Jammu & Kashmir",
          "Jharkhand",
          "Jharkhand",
          "Jharkhand",
          "Jharkhand",
          "Jharkhand",
          "Karnataka",
          "Karnataka",
          "Karnataka",
          "Karnataka",
          "Karnataka",
          "Kerala",
          "Kerala",
          "Kerala",
          "Kerala",
          "Kerala",
          "Madhya Pradesh",
          "Madhya Pradesh",
          "Madhya Pradesh",
          "Madhya Pradesh",
          "Madhya Pradesh",
          "Maharashtra",
          "Maharashtra",
          "Maharashtra",
          "Maharashtra",
          "Maharashtra",
          "Meghalaya",
          "Meghalaya",
          "Meghalaya",
          "Meghalaya",
          "Meghalaya",
          "Odisha",
          "Odisha",
          "Odisha",
          "Odisha",
          "Odisha",
          "Puducherry",
          "Puducherry",
          "Puducherry",
          "Puducherry",
          "Puducherry",
          "Punjab",
          "Punjab",
          "Punjab",
          "Punjab",
          "Punjab",
          "Rajasthan",
          "Rajasthan",
          "Rajasthan",
          "Rajasthan",
          "Rajasthan",
          "Sikkim",
          "Sikkim",
          "Sikkim",
          "Sikkim",
          "Sikkim",
          "Tamil Nadu",
          "Tamil Nadu",
          "Tamil Nadu",
          "Tamil Nadu",
          "Tamil Nadu",
          "Telangana",
          "Telangana",
          "Telangana",
          "Telangana",
          "Telangana",
          "Tripura",
          "Tripura",
          "Tripura",
          "Tripura",
          "Tripura",
          "Uttar Pradesh",
          "Uttar Pradesh",
          "Uttar Pradesh",
          "Uttar Pradesh",
          "Uttar Pradesh",
          "Uttarakhand",
          "Uttarakhand",
          "Uttarakhand",
          "Uttarakhand",
          "Uttarakhand",
          "West Bengal",
          "West Bengal",
          "West Bengal",
          "West Bengal",
          "West Bengal",
          "East",
          "North",
          "Northeast",
          "South",
          "West"
         ],
         "name": "",
         "parents": [
          "East",
          "North",
          "Northeast",
          "South",
          "West",
          "East",
          "North",
          "Northeast",
          "South",
          "West",
          "East",
          "North",
          "Northeast",
          "South",
          "West",
          "East",
          "North",
          "Northeast",
          "South",
          "West",
          "East",
          "North",
          "Northeast",
          "South",
          "West",
          "East",
          "North",
          "Northeast",
          "South",
          "West",
          "East",
          "North",
          "Northeast",
          "South",
          "West",
          "East",
          "North",
          "Northeast",
          "South",
          "West",
          "East",
          "North",
          "Northeast",
          "South",
          "West",
          "East",
          "North",
          "Northeast",
          "South",
          "West",
          "East",
          "North",
          "Northeast",
          "South",
          "West",
          "East",
          "North",
          "Northeast",
          "South",
          "West",
          "East",
          "North",
          "Northeast",
          "South",
          "West",
          "East",
          "North",
          "Northeast",
          "South",
          "West",
          "East",
          "North",
          "Northeast",
          "South",
          "West",
          "East",
          "North",
          "Northeast",
          "South",
          "West",
          "East",
          "North",
          "Northeast",
          "South",
          "West",
          "East",
          "North",
          "Northeast",
          "South",
          "West",
          "East",
          "North",
          "Northeast",
          "South",
          "West",
          "East",
          "North",
          "Northeast",
          "South",
          "West",
          "East",
          "North",
          "Northeast",
          "South",
          "West",
          "East",
          "North",
          "Northeast",
          "South",
          "West",
          "East",
          "North",
          "Northeast",
          "South",
          "West",
          "East",
          "North",
          "Northeast",
          "South",
          "West",
          "East",
          "North",
          "Northeast",
          "South",
          "West",
          "East",
          "North",
          "Northeast",
          "South",
          "West",
          "East",
          "North",
          "Northeast",
          "South",
          "West",
          "",
          "",
          "",
          "",
          ""
         ],
         "type": "sunburst",
         "values": [
          0,
          0,
          0,
          8.664,
          0,
          0,
          0,
          4.856,
          0,
          0,
          19.471,
          0,
          0,
          0,
          0,
          0,
          0,
          0,
          0,
          7.819,
          0,
          18.414,
          0,
          0,
          0,
          0,
          0,
          0,
          0,
          12.167,
          0,
          0,
          0,
          0,
          6.3759999999999994,
          0,
          27.476999999999997,
          0,
          0,
          0,
          0,
          16.065,
          0,
          0,
          0,
          0,
          16.477777777777778,
          0,
          0,
          0,
          19.538999999999998,
          0,
          0,
          0,
          0,
          0,
          0,
          0,
          7.667999999999999,
          0,
          0,
          0,
          0,
          9.434000000000001,
          0,
          0,
          0,
          0,
          0,
          6.854000000000001,
          0,
          0,
          0,
          0,
          7.979000000000001,
          0,
          0,
          3.8659999999999997,
          0,
          0,
          6.462000000000001,
          0,
          0,
          0,
          0,
          0,
          0,
          0,
          17.942,
          0,
          0,
          11.981,
          0,
          0,
          0,
          0,
          15.868,
          0,
          0,
          0,
          0,
          0,
          9.7925,
          0,
          0,
          0,
          0,
          0,
          12.187,
          0,
          0,
          0,
          0,
          6.833,
          0,
          0,
          0,
          25.055,
          0,
          0,
          0,
          9.737,
          0,
          0,
          0,
          0,
          11.156,
          0,
          0,
          0,
          10.192,
          0,
          0,
          0,
          0,
          55.664,
          127.17577777777778,
          43.5695,
          62.727999999999994,
          41.195
         ]
        }
       ],
       "layout": {
        "height": 500,
        "legend": {
         "tracegroupgap": 0
        },
        "template": {
         "data": {
          "bar": [
           {
            "error_x": {
             "color": "#2a3f5f"
            },
            "error_y": {
             "color": "#2a3f5f"
            },
            "marker": {
             "line": {
              "color": "#E5ECF6",
              "width": 0.5
             },
             "pattern": {
              "fillmode": "overlay",
              "size": 10,
              "solidity": 0.2
             }
            },
            "type": "bar"
           }
          ],
          "barpolar": [
           {
            "marker": {
             "line": {
              "color": "#E5ECF6",
              "width": 0.5
             },
             "pattern": {
              "fillmode": "overlay",
              "size": 10,
              "solidity": 0.2
             }
            },
            "type": "barpolar"
           }
          ],
          "carpet": [
           {
            "aaxis": {
             "endlinecolor": "#2a3f5f",
             "gridcolor": "white",
             "linecolor": "white",
             "minorgridcolor": "white",
             "startlinecolor": "#2a3f5f"
            },
            "baxis": {
             "endlinecolor": "#2a3f5f",
             "gridcolor": "white",
             "linecolor": "white",
             "minorgridcolor": "white",
             "startlinecolor": "#2a3f5f"
            },
            "type": "carpet"
           }
          ],
          "choropleth": [
           {
            "colorbar": {
             "outlinewidth": 0,
             "ticks": ""
            },
            "type": "choropleth"
           }
          ],
          "contour": [
           {
            "colorbar": {
             "outlinewidth": 0,
             "ticks": ""
            },
            "colorscale": [
             [
              0,
              "#0d0887"
             ],
             [
              0.1111111111111111,
              "#46039f"
             ],
             [
              0.2222222222222222,
              "#7201a8"
             ],
             [
              0.3333333333333333,
              "#9c179e"
             ],
             [
              0.4444444444444444,
              "#bd3786"
             ],
             [
              0.5555555555555556,
              "#d8576b"
             ],
             [
              0.6666666666666666,
              "#ed7953"
             ],
             [
              0.7777777777777778,
              "#fb9f3a"
             ],
             [
              0.8888888888888888,
              "#fdca26"
             ],
             [
              1,
              "#f0f921"
             ]
            ],
            "type": "contour"
           }
          ],
          "contourcarpet": [
           {
            "colorbar": {
             "outlinewidth": 0,
             "ticks": ""
            },
            "type": "contourcarpet"
           }
          ],
          "heatmap": [
           {
            "colorbar": {
             "outlinewidth": 0,
             "ticks": ""
            },
            "colorscale": [
             [
              0,
              "#0d0887"
             ],
             [
              0.1111111111111111,
              "#46039f"
             ],
             [
              0.2222222222222222,
              "#7201a8"
             ],
             [
              0.3333333333333333,
              "#9c179e"
             ],
             [
              0.4444444444444444,
              "#bd3786"
             ],
             [
              0.5555555555555556,
              "#d8576b"
             ],
             [
              0.6666666666666666,
              "#ed7953"
             ],
             [
              0.7777777777777778,
              "#fb9f3a"
             ],
             [
              0.8888888888888888,
              "#fdca26"
             ],
             [
              1,
              "#f0f921"
             ]
            ],
            "type": "heatmap"
           }
          ],
          "heatmapgl": [
           {
            "colorbar": {
             "outlinewidth": 0,
             "ticks": ""
            },
            "colorscale": [
             [
              0,
              "#0d0887"
             ],
             [
              0.1111111111111111,
              "#46039f"
             ],
             [
              0.2222222222222222,
              "#7201a8"
             ],
             [
              0.3333333333333333,
              "#9c179e"
             ],
             [
              0.4444444444444444,
              "#bd3786"
             ],
             [
              0.5555555555555556,
              "#d8576b"
             ],
             [
              0.6666666666666666,
              "#ed7953"
             ],
             [
              0.7777777777777778,
              "#fb9f3a"
             ],
             [
              0.8888888888888888,
              "#fdca26"
             ],
             [
              1,
              "#f0f921"
             ]
            ],
            "type": "heatmapgl"
           }
          ],
          "histogram": [
           {
            "marker": {
             "pattern": {
              "fillmode": "overlay",
              "size": 10,
              "solidity": 0.2
             }
            },
            "type": "histogram"
           }
          ],
          "histogram2d": [
           {
            "colorbar": {
             "outlinewidth": 0,
             "ticks": ""
            },
            "colorscale": [
             [
              0,
              "#0d0887"
             ],
             [
              0.1111111111111111,
              "#46039f"
             ],
             [
              0.2222222222222222,
              "#7201a8"
             ],
             [
              0.3333333333333333,
              "#9c179e"
             ],
             [
              0.4444444444444444,
              "#bd3786"
             ],
             [
              0.5555555555555556,
              "#d8576b"
             ],
             [
              0.6666666666666666,
              "#ed7953"
             ],
             [
              0.7777777777777778,
              "#fb9f3a"
             ],
             [
              0.8888888888888888,
              "#fdca26"
             ],
             [
              1,
              "#f0f921"
             ]
            ],
            "type": "histogram2d"
           }
          ],
          "histogram2dcontour": [
           {
            "colorbar": {
             "outlinewidth": 0,
             "ticks": ""
            },
            "colorscale": [
             [
              0,
              "#0d0887"
             ],
             [
              0.1111111111111111,
              "#46039f"
             ],
             [
              0.2222222222222222,
              "#7201a8"
             ],
             [
              0.3333333333333333,
              "#9c179e"
             ],
             [
              0.4444444444444444,
              "#bd3786"
             ],
             [
              0.5555555555555556,
              "#d8576b"
             ],
             [
              0.6666666666666666,
              "#ed7953"
             ],
             [
              0.7777777777777778,
              "#fb9f3a"
             ],
             [
              0.8888888888888888,
              "#fdca26"
             ],
             [
              1,
              "#f0f921"
             ]
            ],
            "type": "histogram2dcontour"
           }
          ],
          "mesh3d": [
           {
            "colorbar": {
             "outlinewidth": 0,
             "ticks": ""
            },
            "type": "mesh3d"
           }
          ],
          "parcoords": [
           {
            "line": {
             "colorbar": {
              "outlinewidth": 0,
              "ticks": ""
             }
            },
            "type": "parcoords"
           }
          ],
          "pie": [
           {
            "automargin": true,
            "type": "pie"
           }
          ],
          "scatter": [
           {
            "fillpattern": {
             "fillmode": "overlay",
             "size": 10,
             "solidity": 0.2
            },
            "type": "scatter"
           }
          ],
          "scatter3d": [
           {
            "line": {
             "colorbar": {
              "outlinewidth": 0,
              "ticks": ""
             }
            },
            "marker": {
             "colorbar": {
              "outlinewidth": 0,
              "ticks": ""
             }
            },
            "type": "scatter3d"
           }
          ],
          "scattercarpet": [
           {
            "marker": {
             "colorbar": {
              "outlinewidth": 0,
              "ticks": ""
             }
            },
            "type": "scattercarpet"
           }
          ],
          "scattergeo": [
           {
            "marker": {
             "colorbar": {
              "outlinewidth": 0,
              "ticks": ""
             }
            },
            "type": "scattergeo"
           }
          ],
          "scattergl": [
           {
            "marker": {
             "colorbar": {
              "outlinewidth": 0,
              "ticks": ""
             }
            },
            "type": "scattergl"
           }
          ],
          "scattermapbox": [
           {
            "marker": {
             "colorbar": {
              "outlinewidth": 0,
              "ticks": ""
             }
            },
            "type": "scattermapbox"
           }
          ],
          "scatterpolar": [
           {
            "marker": {
             "colorbar": {
              "outlinewidth": 0,
              "ticks": ""
             }
            },
            "type": "scatterpolar"
           }
          ],
          "scatterpolargl": [
           {
            "marker": {
             "colorbar": {
              "outlinewidth": 0,
              "ticks": ""
             }
            },
            "type": "scatterpolargl"
           }
          ],
          "scatterternary": [
           {
            "marker": {
             "colorbar": {
              "outlinewidth": 0,
              "ticks": ""
             }
            },
            "type": "scatterternary"
           }
          ],
          "surface": [
           {
            "colorbar": {
             "outlinewidth": 0,
             "ticks": ""
            },
            "colorscale": [
             [
              0,
              "#0d0887"
             ],
             [
              0.1111111111111111,
              "#46039f"
             ],
             [
              0.2222222222222222,
              "#7201a8"
             ],
             [
              0.3333333333333333,
              "#9c179e"
             ],
             [
              0.4444444444444444,
              "#bd3786"
             ],
             [
              0.5555555555555556,
              "#d8576b"
             ],
             [
              0.6666666666666666,
              "#ed7953"
             ],
             [
              0.7777777777777778,
              "#fb9f3a"
             ],
             [
              0.8888888888888888,
              "#fdca26"
             ],
             [
              1,
              "#f0f921"
             ]
            ],
            "type": "surface"
           }
          ],
          "table": [
           {
            "cells": {
             "fill": {
              "color": "#EBF0F8"
             },
             "line": {
              "color": "white"
             }
            },
            "header": {
             "fill": {
              "color": "#C8D4E3"
             },
             "line": {
              "color": "white"
             }
            },
            "type": "table"
           }
          ]
         },
         "layout": {
          "annotationdefaults": {
           "arrowcolor": "#2a3f5f",
           "arrowhead": 0,
           "arrowwidth": 1
          },
          "autotypenumbers": "strict",
          "coloraxis": {
           "colorbar": {
            "outlinewidth": 0,
            "ticks": ""
           }
          },
          "colorscale": {
           "diverging": [
            [
             0,
             "#8e0152"
            ],
            [
             0.1,
             "#c51b7d"
            ],
            [
             0.2,
             "#de77ae"
            ],
            [
             0.3,
             "#f1b6da"
            ],
            [
             0.4,
             "#fde0ef"
            ],
            [
             0.5,
             "#f7f7f7"
            ],
            [
             0.6,
             "#e6f5d0"
            ],
            [
             0.7,
             "#b8e186"
            ],
            [
             0.8,
             "#7fbc41"
            ],
            [
             0.9,
             "#4d9221"
            ],
            [
             1,
             "#276419"
            ]
           ],
           "sequential": [
            [
             0,
             "#0d0887"
            ],
            [
             0.1111111111111111,
             "#46039f"
            ],
            [
             0.2222222222222222,
             "#7201a8"
            ],
            [
             0.3333333333333333,
             "#9c179e"
            ],
            [
             0.4444444444444444,
             "#bd3786"
            ],
            [
             0.5555555555555556,
             "#d8576b"
            ],
            [
             0.6666666666666666,
             "#ed7953"
            ],
            [
             0.7777777777777778,
             "#fb9f3a"
            ],
            [
             0.8888888888888888,
             "#fdca26"
            ],
            [
             1,
             "#f0f921"
            ]
           ],
           "sequentialminus": [
            [
             0,
             "#0d0887"
            ],
            [
             0.1111111111111111,
             "#46039f"
            ],
            [
             0.2222222222222222,
             "#7201a8"
            ],
            [
             0.3333333333333333,
             "#9c179e"
            ],
            [
             0.4444444444444444,
             "#bd3786"
            ],
            [
             0.5555555555555556,
             "#d8576b"
            ],
            [
             0.6666666666666666,
             "#ed7953"
            ],
            [
             0.7777777777777778,
             "#fb9f3a"
            ],
            [
             0.8888888888888888,
             "#fdca26"
            ],
            [
             1,
             "#f0f921"
            ]
           ]
          },
          "colorway": [
           "#636efa",
           "#EF553B",
           "#00cc96",
           "#ab63fa",
           "#FFA15A",
           "#19d3f3",
           "#FF6692",
           "#B6E880",
           "#FF97FF",
           "#FECB52"
          ],
          "font": {
           "color": "#2a3f5f"
          },
          "geo": {
           "bgcolor": "white",
           "lakecolor": "white",
           "landcolor": "#E5ECF6",
           "showlakes": true,
           "showland": true,
           "subunitcolor": "white"
          },
          "hoverlabel": {
           "align": "left"
          },
          "hovermode": "closest",
          "mapbox": {
           "style": "light"
          },
          "paper_bgcolor": "white",
          "plot_bgcolor": "#E5ECF6",
          "polar": {
           "angularaxis": {
            "gridcolor": "white",
            "linecolor": "white",
            "ticks": ""
           },
           "bgcolor": "#E5ECF6",
           "radialaxis": {
            "gridcolor": "white",
            "linecolor": "white",
            "ticks": ""
           }
          },
          "scene": {
           "xaxis": {
            "backgroundcolor": "#E5ECF6",
            "gridcolor": "white",
            "gridwidth": 2,
            "linecolor": "white",
            "showbackground": true,
            "ticks": "",
            "zerolinecolor": "white"
           },
           "yaxis": {
            "backgroundcolor": "#E5ECF6",
            "gridcolor": "white",
            "gridwidth": 2,
            "linecolor": "white",
            "showbackground": true,
            "ticks": "",
            "zerolinecolor": "white"
           },
           "zaxis": {
            "backgroundcolor": "#E5ECF6",
            "gridcolor": "white",
            "gridwidth": 2,
            "linecolor": "white",
            "showbackground": true,
            "ticks": "",
            "zerolinecolor": "white"
           }
          },
          "shapedefaults": {
           "line": {
            "color": "#2a3f5f"
           }
          },
          "ternary": {
           "aaxis": {
            "gridcolor": "white",
            "linecolor": "white",
            "ticks": ""
           },
           "baxis": {
            "gridcolor": "white",
            "linecolor": "white",
            "ticks": ""
           },
           "bgcolor": "#E5ECF6",
           "caxis": {
            "gridcolor": "white",
            "linecolor": "white",
            "ticks": ""
           }
          },
          "title": {
           "x": 0.05
          },
          "xaxis": {
           "automargin": true,
           "gridcolor": "white",
           "linecolor": "white",
           "ticks": "",
           "title": {
            "standoff": 15
           },
           "zerolinecolor": "white",
           "zerolinewidth": 2
          },
          "yaxis": {
           "automargin": true,
           "gridcolor": "white",
           "linecolor": "white",
           "ticks": "",
           "title": {
            "standoff": 15
           },
           "zerolinecolor": "white",
           "zerolinewidth": 2
          }
         }
        },
        "title": {
         "text": "Unemployment Rate in each region and state  "
        },
        "width": 1000
       }
      },
      "text/html": [
       "<div>                            <div id=\"feccd006-bb84-42b3-9ad3-1713865c670f\" class=\"plotly-graph-div\" style=\"height:500px; width:1000px;\"></div>            <script type=\"text/javascript\">                require([\"plotly\"], function(Plotly) {                    window.PLOTLYENV=window.PLOTLYENV || {};                                    if (document.getElementById(\"feccd006-bb84-42b3-9ad3-1713865c670f\")) {                    Plotly.newPlot(                        \"feccd006-bb84-42b3-9ad3-1713865c670f\",                        [{\"branchvalues\":\"total\",\"domain\":{\"x\":[0.0,1.0],\"y\":[0.0,1.0]},\"hovertemplate\":\"labels=%{label}\\u003cbr\\u003eEstimated Unemployment Rate=%{value}\\u003cbr\\u003eparent=%{parent}\\u003cbr\\u003eid=%{id}\\u003cextra\\u003e\\u003c\\u002fextra\\u003e\",\"ids\":[\"East\\u002fAndhra Pradesh\",\"North\\u002fAndhra Pradesh\",\"Northeast\\u002fAndhra Pradesh\",\"South\\u002fAndhra Pradesh\",\"West\\u002fAndhra Pradesh\",\"East\\u002fAssam\",\"North\\u002fAssam\",\"Northeast\\u002fAssam\",\"South\\u002fAssam\",\"West\\u002fAssam\",\"East\\u002fBihar\",\"North\\u002fBihar\",\"Northeast\\u002fBihar\",\"South\\u002fBihar\",\"West\\u002fBihar\",\"East\\u002fChhattisgarh\",\"North\\u002fChhattisgarh\",\"Northeast\\u002fChhattisgarh\",\"South\\u002fChhattisgarh\",\"West\\u002fChhattisgarh\",\"East\\u002fDelhi\",\"North\\u002fDelhi\",\"Northeast\\u002fDelhi\",\"South\\u002fDelhi\",\"West\\u002fDelhi\",\"East\\u002fGoa\",\"North\\u002fGoa\",\"Northeast\\u002fGoa\",\"South\\u002fGoa\",\"West\\u002fGoa\",\"East\\u002fGujarat\",\"North\\u002fGujarat\",\"Northeast\\u002fGujarat\",\"South\\u002fGujarat\",\"West\\u002fGujarat\",\"East\\u002fHaryana\",\"North\\u002fHaryana\",\"Northeast\\u002fHaryana\",\"South\\u002fHaryana\",\"West\\u002fHaryana\",\"East\\u002fHimachal Pradesh\",\"North\\u002fHimachal Pradesh\",\"Northeast\\u002fHimachal Pradesh\",\"South\\u002fHimachal Pradesh\",\"West\\u002fHimachal Pradesh\",\"East\\u002fJammu & Kashmir\",\"North\\u002fJammu & Kashmir\",\"Northeast\\u002fJammu & Kashmir\",\"South\\u002fJammu & Kashmir\",\"West\\u002fJammu & Kashmir\",\"East\\u002fJharkhand\",\"North\\u002fJharkhand\",\"Northeast\\u002fJharkhand\",\"South\\u002fJharkhand\",\"West\\u002fJharkhand\",\"East\\u002fKarnataka\",\"North\\u002fKarnataka\",\"Northeast\\u002fKarnataka\",\"South\\u002fKarnataka\",\"West\\u002fKarnataka\",\"East\\u002fKerala\",\"North\\u002fKerala\",\"Northeast\\u002fKerala\",\"South\\u002fKerala\",\"West\\u002fKerala\",\"East\\u002fMadhya Pradesh\",\"North\\u002fMadhya Pradesh\",\"Northeast\\u002fMadhya Pradesh\",\"South\\u002fMadhya Pradesh\",\"West\\u002fMadhya Pradesh\",\"East\\u002fMaharashtra\",\"North\\u002fMaharashtra\",\"Northeast\\u002fMaharashtra\",\"South\\u002fMaharashtra\",\"West\\u002fMaharashtra\",\"East\\u002fMeghalaya\",\"North\\u002fMeghalaya\",\"Northeast\\u002fMeghalaya\",\"South\\u002fMeghalaya\",\"West\\u002fMeghalaya\",\"East\\u002fOdisha\",\"North\\u002fOdisha\",\"Northeast\\u002fOdisha\",\"South\\u002fOdisha\",\"West\\u002fOdisha\",\"East\\u002fPuducherry\",\"North\\u002fPuducherry\",\"Northeast\\u002fPuducherry\",\"South\\u002fPuducherry\",\"West\\u002fPuducherry\",\"East\\u002fPunjab\",\"North\\u002fPunjab\",\"Northeast\\u002fPunjab\",\"South\\u002fPunjab\",\"West\\u002fPunjab\",\"East\\u002fRajasthan\",\"North\\u002fRajasthan\",\"Northeast\\u002fRajasthan\",\"South\\u002fRajasthan\",\"West\\u002fRajasthan\",\"East\\u002fSikkim\",\"North\\u002fSikkim\",\"Northeast\\u002fSikkim\",\"South\\u002fSikkim\",\"West\\u002fSikkim\",\"East\\u002fTamil Nadu\",\"North\\u002fTamil Nadu\",\"Northeast\\u002fTamil Nadu\",\"South\\u002fTamil Nadu\",\"West\\u002fTamil Nadu\",\"East\\u002fTelangana\",\"North\\u002fTelangana\",\"Northeast\\u002fTelangana\",\"South\\u002fTelangana\",\"West\\u002fTelangana\",\"East\\u002fTripura\",\"North\\u002fTripura\",\"Northeast\\u002fTripura\",\"South\\u002fTripura\",\"West\\u002fTripura\",\"East\\u002fUttar Pradesh\",\"North\\u002fUttar Pradesh\",\"Northeast\\u002fUttar Pradesh\",\"South\\u002fUttar Pradesh\",\"West\\u002fUttar Pradesh\",\"East\\u002fUttarakhand\",\"North\\u002fUttarakhand\",\"Northeast\\u002fUttarakhand\",\"South\\u002fUttarakhand\",\"West\\u002fUttarakhand\",\"East\\u002fWest Bengal\",\"North\\u002fWest Bengal\",\"Northeast\\u002fWest Bengal\",\"South\\u002fWest Bengal\",\"West\\u002fWest Bengal\",\"East\",\"North\",\"Northeast\",\"South\",\"West\"],\"labels\":[\"Andhra Pradesh\",\"Andhra Pradesh\",\"Andhra Pradesh\",\"Andhra Pradesh\",\"Andhra Pradesh\",\"Assam\",\"Assam\",\"Assam\",\"Assam\",\"Assam\",\"Bihar\",\"Bihar\",\"Bihar\",\"Bihar\",\"Bihar\",\"Chhattisgarh\",\"Chhattisgarh\",\"Chhattisgarh\",\"Chhattisgarh\",\"Chhattisgarh\",\"Delhi\",\"Delhi\",\"Delhi\",\"Delhi\",\"Delhi\",\"Goa\",\"Goa\",\"Goa\",\"Goa\",\"Goa\",\"Gujarat\",\"Gujarat\",\"Gujarat\",\"Gujarat\",\"Gujarat\",\"Haryana\",\"Haryana\",\"Haryana\",\"Haryana\",\"Haryana\",\"Himachal Pradesh\",\"Himachal Pradesh\",\"Himachal Pradesh\",\"Himachal Pradesh\",\"Himachal Pradesh\",\"Jammu & Kashmir\",\"Jammu & Kashmir\",\"Jammu & Kashmir\",\"Jammu & Kashmir\",\"Jammu & Kashmir\",\"Jharkhand\",\"Jharkhand\",\"Jharkhand\",\"Jharkhand\",\"Jharkhand\",\"Karnataka\",\"Karnataka\",\"Karnataka\",\"Karnataka\",\"Karnataka\",\"Kerala\",\"Kerala\",\"Kerala\",\"Kerala\",\"Kerala\",\"Madhya Pradesh\",\"Madhya Pradesh\",\"Madhya Pradesh\",\"Madhya Pradesh\",\"Madhya Pradesh\",\"Maharashtra\",\"Maharashtra\",\"Maharashtra\",\"Maharashtra\",\"Maharashtra\",\"Meghalaya\",\"Meghalaya\",\"Meghalaya\",\"Meghalaya\",\"Meghalaya\",\"Odisha\",\"Odisha\",\"Odisha\",\"Odisha\",\"Odisha\",\"Puducherry\",\"Puducherry\",\"Puducherry\",\"Puducherry\",\"Puducherry\",\"Punjab\",\"Punjab\",\"Punjab\",\"Punjab\",\"Punjab\",\"Rajasthan\",\"Rajasthan\",\"Rajasthan\",\"Rajasthan\",\"Rajasthan\",\"Sikkim\",\"Sikkim\",\"Sikkim\",\"Sikkim\",\"Sikkim\",\"Tamil Nadu\",\"Tamil Nadu\",\"Tamil Nadu\",\"Tamil Nadu\",\"Tamil Nadu\",\"Telangana\",\"Telangana\",\"Telangana\",\"Telangana\",\"Telangana\",\"Tripura\",\"Tripura\",\"Tripura\",\"Tripura\",\"Tripura\",\"Uttar Pradesh\",\"Uttar Pradesh\",\"Uttar Pradesh\",\"Uttar Pradesh\",\"Uttar Pradesh\",\"Uttarakhand\",\"Uttarakhand\",\"Uttarakhand\",\"Uttarakhand\",\"Uttarakhand\",\"West Bengal\",\"West Bengal\",\"West Bengal\",\"West Bengal\",\"West Bengal\",\"East\",\"North\",\"Northeast\",\"South\",\"West\"],\"name\":\"\",\"parents\":[\"East\",\"North\",\"Northeast\",\"South\",\"West\",\"East\",\"North\",\"Northeast\",\"South\",\"West\",\"East\",\"North\",\"Northeast\",\"South\",\"West\",\"East\",\"North\",\"Northeast\",\"South\",\"West\",\"East\",\"North\",\"Northeast\",\"South\",\"West\",\"East\",\"North\",\"Northeast\",\"South\",\"West\",\"East\",\"North\",\"Northeast\",\"South\",\"West\",\"East\",\"North\",\"Northeast\",\"South\",\"West\",\"East\",\"North\",\"Northeast\",\"South\",\"West\",\"East\",\"North\",\"Northeast\",\"South\",\"West\",\"East\",\"North\",\"Northeast\",\"South\",\"West\",\"East\",\"North\",\"Northeast\",\"South\",\"West\",\"East\",\"North\",\"Northeast\",\"South\",\"West\",\"East\",\"North\",\"Northeast\",\"South\",\"West\",\"East\",\"North\",\"Northeast\",\"South\",\"West\",\"East\",\"North\",\"Northeast\",\"South\",\"West\",\"East\",\"North\",\"Northeast\",\"South\",\"West\",\"East\",\"North\",\"Northeast\",\"South\",\"West\",\"East\",\"North\",\"Northeast\",\"South\",\"West\",\"East\",\"North\",\"Northeast\",\"South\",\"West\",\"East\",\"North\",\"Northeast\",\"South\",\"West\",\"East\",\"North\",\"Northeast\",\"South\",\"West\",\"East\",\"North\",\"Northeast\",\"South\",\"West\",\"East\",\"North\",\"Northeast\",\"South\",\"West\",\"East\",\"North\",\"Northeast\",\"South\",\"West\",\"East\",\"North\",\"Northeast\",\"South\",\"West\",\"East\",\"North\",\"Northeast\",\"South\",\"West\",\"\",\"\",\"\",\"\",\"\"],\"values\":[0.0,0.0,0.0,8.664,0.0,0.0,0.0,4.856,0.0,0.0,19.471,0.0,0.0,0.0,0.0,0.0,0.0,0.0,0.0,7.819,0.0,18.414,0.0,0.0,0.0,0.0,0.0,0.0,0.0,12.167,0.0,0.0,0.0,0.0,6.3759999999999994,0.0,27.476999999999997,0.0,0.0,0.0,0.0,16.065,0.0,0.0,0.0,0.0,16.477777777777778,0.0,0.0,0.0,19.538999999999998,0.0,0.0,0.0,0.0,0.0,0.0,0.0,7.667999999999999,0.0,0.0,0.0,0.0,9.434000000000001,0.0,0.0,0.0,0.0,0.0,6.854000000000001,0.0,0.0,0.0,0.0,7.979000000000001,0.0,0.0,3.8659999999999997,0.0,0.0,6.462000000000001,0.0,0.0,0.0,0.0,0.0,0.0,0.0,17.942,0.0,0.0,11.981,0.0,0.0,0.0,0.0,15.868,0.0,0.0,0.0,0.0,0.0,9.7925,0.0,0.0,0.0,0.0,0.0,12.187,0.0,0.0,0.0,0.0,6.833,0.0,0.0,0.0,25.055,0.0,0.0,0.0,9.737,0.0,0.0,0.0,0.0,11.156,0.0,0.0,0.0,10.192,0.0,0.0,0.0,0.0,55.664,127.17577777777778,43.5695,62.727999999999994,41.195],\"type\":\"sunburst\"}],                        {\"template\":{\"data\":{\"histogram2dcontour\":[{\"type\":\"histogram2dcontour\",\"colorbar\":{\"outlinewidth\":0,\"ticks\":\"\"},\"colorscale\":[[0.0,\"#0d0887\"],[0.1111111111111111,\"#46039f\"],[0.2222222222222222,\"#7201a8\"],[0.3333333333333333,\"#9c179e\"],[0.4444444444444444,\"#bd3786\"],[0.5555555555555556,\"#d8576b\"],[0.6666666666666666,\"#ed7953\"],[0.7777777777777778,\"#fb9f3a\"],[0.8888888888888888,\"#fdca26\"],[1.0,\"#f0f921\"]]}],\"choropleth\":[{\"type\":\"choropleth\",\"colorbar\":{\"outlinewidth\":0,\"ticks\":\"\"}}],\"histogram2d\":[{\"type\":\"histogram2d\",\"colorbar\":{\"outlinewidth\":0,\"ticks\":\"\"},\"colorscale\":[[0.0,\"#0d0887\"],[0.1111111111111111,\"#46039f\"],[0.2222222222222222,\"#7201a8\"],[0.3333333333333333,\"#9c179e\"],[0.4444444444444444,\"#bd3786\"],[0.5555555555555556,\"#d8576b\"],[0.6666666666666666,\"#ed7953\"],[0.7777777777777778,\"#fb9f3a\"],[0.8888888888888888,\"#fdca26\"],[1.0,\"#f0f921\"]]}],\"heatmap\":[{\"type\":\"heatmap\",\"colorbar\":{\"outlinewidth\":0,\"ticks\":\"\"},\"colorscale\":[[0.0,\"#0d0887\"],[0.1111111111111111,\"#46039f\"],[0.2222222222222222,\"#7201a8\"],[0.3333333333333333,\"#9c179e\"],[0.4444444444444444,\"#bd3786\"],[0.5555555555555556,\"#d8576b\"],[0.6666666666666666,\"#ed7953\"],[0.7777777777777778,\"#fb9f3a\"],[0.8888888888888888,\"#fdca26\"],[1.0,\"#f0f921\"]]}],\"heatmapgl\":[{\"type\":\"heatmapgl\",\"colorbar\":{\"outlinewidth\":0,\"ticks\":\"\"},\"colorscale\":[[0.0,\"#0d0887\"],[0.1111111111111111,\"#46039f\"],[0.2222222222222222,\"#7201a8\"],[0.3333333333333333,\"#9c179e\"],[0.4444444444444444,\"#bd3786\"],[0.5555555555555556,\"#d8576b\"],[0.6666666666666666,\"#ed7953\"],[0.7777777777777778,\"#fb9f3a\"],[0.8888888888888888,\"#fdca26\"],[1.0,\"#f0f921\"]]}],\"contourcarpet\":[{\"type\":\"contourcarpet\",\"colorbar\":{\"outlinewidth\":0,\"ticks\":\"\"}}],\"contour\":[{\"type\":\"contour\",\"colorbar\":{\"outlinewidth\":0,\"ticks\":\"\"},\"colorscale\":[[0.0,\"#0d0887\"],[0.1111111111111111,\"#46039f\"],[0.2222222222222222,\"#7201a8\"],[0.3333333333333333,\"#9c179e\"],[0.4444444444444444,\"#bd3786\"],[0.5555555555555556,\"#d8576b\"],[0.6666666666666666,\"#ed7953\"],[0.7777777777777778,\"#fb9f3a\"],[0.8888888888888888,\"#fdca26\"],[1.0,\"#f0f921\"]]}],\"surface\":[{\"type\":\"surface\",\"colorbar\":{\"outlinewidth\":0,\"ticks\":\"\"},\"colorscale\":[[0.0,\"#0d0887\"],[0.1111111111111111,\"#46039f\"],[0.2222222222222222,\"#7201a8\"],[0.3333333333333333,\"#9c179e\"],[0.4444444444444444,\"#bd3786\"],[0.5555555555555556,\"#d8576b\"],[0.6666666666666666,\"#ed7953\"],[0.7777777777777778,\"#fb9f3a\"],[0.8888888888888888,\"#fdca26\"],[1.0,\"#f0f921\"]]}],\"mesh3d\":[{\"type\":\"mesh3d\",\"colorbar\":{\"outlinewidth\":0,\"ticks\":\"\"}}],\"scatter\":[{\"fillpattern\":{\"fillmode\":\"overlay\",\"size\":10,\"solidity\":0.2},\"type\":\"scatter\"}],\"parcoords\":[{\"type\":\"parcoords\",\"line\":{\"colorbar\":{\"outlinewidth\":0,\"ticks\":\"\"}}}],\"scatterpolargl\":[{\"type\":\"scatterpolargl\",\"marker\":{\"colorbar\":{\"outlinewidth\":0,\"ticks\":\"\"}}}],\"bar\":[{\"error_x\":{\"color\":\"#2a3f5f\"},\"error_y\":{\"color\":\"#2a3f5f\"},\"marker\":{\"line\":{\"color\":\"#E5ECF6\",\"width\":0.5},\"pattern\":{\"fillmode\":\"overlay\",\"size\":10,\"solidity\":0.2}},\"type\":\"bar\"}],\"scattergeo\":[{\"type\":\"scattergeo\",\"marker\":{\"colorbar\":{\"outlinewidth\":0,\"ticks\":\"\"}}}],\"scatterpolar\":[{\"type\":\"scatterpolar\",\"marker\":{\"colorbar\":{\"outlinewidth\":0,\"ticks\":\"\"}}}],\"histogram\":[{\"marker\":{\"pattern\":{\"fillmode\":\"overlay\",\"size\":10,\"solidity\":0.2}},\"type\":\"histogram\"}],\"scattergl\":[{\"type\":\"scattergl\",\"marker\":{\"colorbar\":{\"outlinewidth\":0,\"ticks\":\"\"}}}],\"scatter3d\":[{\"type\":\"scatter3d\",\"line\":{\"colorbar\":{\"outlinewidth\":0,\"ticks\":\"\"}},\"marker\":{\"colorbar\":{\"outlinewidth\":0,\"ticks\":\"\"}}}],\"scattermapbox\":[{\"type\":\"scattermapbox\",\"marker\":{\"colorbar\":{\"outlinewidth\":0,\"ticks\":\"\"}}}],\"scatterternary\":[{\"type\":\"scatterternary\",\"marker\":{\"colorbar\":{\"outlinewidth\":0,\"ticks\":\"\"}}}],\"scattercarpet\":[{\"type\":\"scattercarpet\",\"marker\":{\"colorbar\":{\"outlinewidth\":0,\"ticks\":\"\"}}}],\"carpet\":[{\"aaxis\":{\"endlinecolor\":\"#2a3f5f\",\"gridcolor\":\"white\",\"linecolor\":\"white\",\"minorgridcolor\":\"white\",\"startlinecolor\":\"#2a3f5f\"},\"baxis\":{\"endlinecolor\":\"#2a3f5f\",\"gridcolor\":\"white\",\"linecolor\":\"white\",\"minorgridcolor\":\"white\",\"startlinecolor\":\"#2a3f5f\"},\"type\":\"carpet\"}],\"table\":[{\"cells\":{\"fill\":{\"color\":\"#EBF0F8\"},\"line\":{\"color\":\"white\"}},\"header\":{\"fill\":{\"color\":\"#C8D4E3\"},\"line\":{\"color\":\"white\"}},\"type\":\"table\"}],\"barpolar\":[{\"marker\":{\"line\":{\"color\":\"#E5ECF6\",\"width\":0.5},\"pattern\":{\"fillmode\":\"overlay\",\"size\":10,\"solidity\":0.2}},\"type\":\"barpolar\"}],\"pie\":[{\"automargin\":true,\"type\":\"pie\"}]},\"layout\":{\"autotypenumbers\":\"strict\",\"colorway\":[\"#636efa\",\"#EF553B\",\"#00cc96\",\"#ab63fa\",\"#FFA15A\",\"#19d3f3\",\"#FF6692\",\"#B6E880\",\"#FF97FF\",\"#FECB52\"],\"font\":{\"color\":\"#2a3f5f\"},\"hovermode\":\"closest\",\"hoverlabel\":{\"align\":\"left\"},\"paper_bgcolor\":\"white\",\"plot_bgcolor\":\"#E5ECF6\",\"polar\":{\"bgcolor\":\"#E5ECF6\",\"angularaxis\":{\"gridcolor\":\"white\",\"linecolor\":\"white\",\"ticks\":\"\"},\"radialaxis\":{\"gridcolor\":\"white\",\"linecolor\":\"white\",\"ticks\":\"\"}},\"ternary\":{\"bgcolor\":\"#E5ECF6\",\"aaxis\":{\"gridcolor\":\"white\",\"linecolor\":\"white\",\"ticks\":\"\"},\"baxis\":{\"gridcolor\":\"white\",\"linecolor\":\"white\",\"ticks\":\"\"},\"caxis\":{\"gridcolor\":\"white\",\"linecolor\":\"white\",\"ticks\":\"\"}},\"coloraxis\":{\"colorbar\":{\"outlinewidth\":0,\"ticks\":\"\"}},\"colorscale\":{\"sequential\":[[0.0,\"#0d0887\"],[0.1111111111111111,\"#46039f\"],[0.2222222222222222,\"#7201a8\"],[0.3333333333333333,\"#9c179e\"],[0.4444444444444444,\"#bd3786\"],[0.5555555555555556,\"#d8576b\"],[0.6666666666666666,\"#ed7953\"],[0.7777777777777778,\"#fb9f3a\"],[0.8888888888888888,\"#fdca26\"],[1.0,\"#f0f921\"]],\"sequentialminus\":[[0.0,\"#0d0887\"],[0.1111111111111111,\"#46039f\"],[0.2222222222222222,\"#7201a8\"],[0.3333333333333333,\"#9c179e\"],[0.4444444444444444,\"#bd3786\"],[0.5555555555555556,\"#d8576b\"],[0.6666666666666666,\"#ed7953\"],[0.7777777777777778,\"#fb9f3a\"],[0.8888888888888888,\"#fdca26\"],[1.0,\"#f0f921\"]],\"diverging\":[[0,\"#8e0152\"],[0.1,\"#c51b7d\"],[0.2,\"#de77ae\"],[0.3,\"#f1b6da\"],[0.4,\"#fde0ef\"],[0.5,\"#f7f7f7\"],[0.6,\"#e6f5d0\"],[0.7,\"#b8e186\"],[0.8,\"#7fbc41\"],[0.9,\"#4d9221\"],[1,\"#276419\"]]},\"xaxis\":{\"gridcolor\":\"white\",\"linecolor\":\"white\",\"ticks\":\"\",\"title\":{\"standoff\":15},\"zerolinecolor\":\"white\",\"automargin\":true,\"zerolinewidth\":2},\"yaxis\":{\"gridcolor\":\"white\",\"linecolor\":\"white\",\"ticks\":\"\",\"title\":{\"standoff\":15},\"zerolinecolor\":\"white\",\"automargin\":true,\"zerolinewidth\":2},\"scene\":{\"xaxis\":{\"backgroundcolor\":\"#E5ECF6\",\"gridcolor\":\"white\",\"linecolor\":\"white\",\"showbackground\":true,\"ticks\":\"\",\"zerolinecolor\":\"white\",\"gridwidth\":2},\"yaxis\":{\"backgroundcolor\":\"#E5ECF6\",\"gridcolor\":\"white\",\"linecolor\":\"white\",\"showbackground\":true,\"ticks\":\"\",\"zerolinecolor\":\"white\",\"gridwidth\":2},\"zaxis\":{\"backgroundcolor\":\"#E5ECF6\",\"gridcolor\":\"white\",\"linecolor\":\"white\",\"showbackground\":true,\"ticks\":\"\",\"zerolinecolor\":\"white\",\"gridwidth\":2}},\"shapedefaults\":{\"line\":{\"color\":\"#2a3f5f\"}},\"annotationdefaults\":{\"arrowcolor\":\"#2a3f5f\",\"arrowhead\":0,\"arrowwidth\":1},\"geo\":{\"bgcolor\":\"white\",\"landcolor\":\"#E5ECF6\",\"subunitcolor\":\"white\",\"showland\":true,\"showlakes\":true,\"lakecolor\":\"white\"},\"title\":{\"x\":0.05},\"mapbox\":{\"style\":\"light\"}}},\"legend\":{\"tracegroupgap\":0},\"title\":{\"text\":\"Unemployment Rate in each region and state  \"},\"height\":500,\"width\":1000},                        {\"responsive\": true}                    ).then(function(){\n",
       "                            \n",
       "var gd = document.getElementById('feccd006-bb84-42b3-9ad3-1713865c670f');\n",
       "var x = new MutationObserver(function (mutations, observer) {{\n",
       "        var display = window.getComputedStyle(gd).display;\n",
       "        if (!display || display === 'none') {{\n",
       "            console.log([gd, 'removed!']);\n",
       "            Plotly.purge(gd);\n",
       "            observer.disconnect();\n",
       "        }}\n",
       "}});\n",
       "\n",
       "// Listen for the removal of the full notebook cells\n",
       "var notebookContainer = gd.closest('#notebook-container');\n",
       "if (notebookContainer) {{\n",
       "    x.observe(notebookContainer, {childList: true});\n",
       "}}\n",
       "\n",
       "// Listen for the clearing of the current output cell\n",
       "var outputEl = gd.closest('.output');\n",
       "if (outputEl) {{\n",
       "    x.observe(outputEl, {childList: true});\n",
       "}}\n",
       "\n",
       "                        })                };                });            </script>        </div>"
      ]
     },
     "metadata": {},
     "output_type": "display_data"
    }
   ],
   "source": [
    "# Creating dataframe with relevant columns \n",
    "\n",
    "unemployed_df = df_cleaned[['Region' , 'States' ,'Estimated Unemployment Rate', 'Estimated Employed' , 'Estimated Labour Participation Rate']]\n",
    "\n",
    "unemployed = unemployed_df.groupby(['Region', 'States']).mean().reset_index()\n",
    "\n",
    "# Creating Sunbrust chart \n",
    "\n",
    "fig = px.sunburst(unemployed , path = ['Region','States'] , values = 'Estimated Unemployment Rate' , \n",
    "                  title = 'Unemployment Rate in each region and state  ' ,height = 500 , width = 1000)\n",
    "\n",
    "# Showcasing the sunbrust chart formed\n",
    "\n",
    "fig.show()"
   ]
  },
  {
   "cell_type": "code",
   "execution_count": null,
   "id": "b443c582-0319-40e5-bfd8-ab9ea9ae00a8",
   "metadata": {},
   "outputs": [],
   "source": []
  },
  {
   "cell_type": "markdown",
   "id": "c217c4aa-ed5c-4e44-9bd6-04c3a5c20767",
   "metadata": {},
   "source": [
    "**Filtering of data**"
   ]
  },
  {
   "cell_type": "code",
   "execution_count": 103,
   "id": "b11ec065-d201-4414-8ccd-4b82f9fd4274",
   "metadata": {},
   "outputs": [
    {
     "data": {
      "text/html": [
       "<div>\n",
       "<style scoped>\n",
       "    .dataframe tbody tr th:only-of-type {\n",
       "        vertical-align: middle;\n",
       "    }\n",
       "\n",
       "    .dataframe tbody tr th {\n",
       "        vertical-align: top;\n",
       "    }\n",
       "\n",
       "    .dataframe thead th {\n",
       "        text-align: right;\n",
       "    }\n",
       "</style>\n",
       "<table border=\"1\" class=\"dataframe\">\n",
       "  <thead>\n",
       "    <tr style=\"text-align: right;\">\n",
       "      <th></th>\n",
       "      <th>States</th>\n",
       "      <th>Estimated Unemployment Rate before lockdown</th>\n",
       "      <th>Estimated Unemployment Rate after lockdown</th>\n",
       "    </tr>\n",
       "  </thead>\n",
       "  <tbody>\n",
       "    <tr>\n",
       "      <th>0</th>\n",
       "      <td>Andhra Pradesh</td>\n",
       "      <td>8.171667</td>\n",
       "      <td>9.4025</td>\n",
       "    </tr>\n",
       "    <tr>\n",
       "      <th>1</th>\n",
       "      <td>Assam</td>\n",
       "      <td>3.943333</td>\n",
       "      <td>6.2250</td>\n",
       "    </tr>\n",
       "    <tr>\n",
       "      <th>2</th>\n",
       "      <td>Bihar</td>\n",
       "      <td>18.623333</td>\n",
       "      <td>20.7425</td>\n",
       "    </tr>\n",
       "    <tr>\n",
       "      <th>3</th>\n",
       "      <td>Chhattisgarh</td>\n",
       "      <td>8.201667</td>\n",
       "      <td>7.2450</td>\n",
       "    </tr>\n",
       "    <tr>\n",
       "      <th>4</th>\n",
       "      <td>Delhi</td>\n",
       "      <td>18.891667</td>\n",
       "      <td>17.6975</td>\n",
       "    </tr>\n",
       "  </tbody>\n",
       "</table>\n",
       "</div>"
      ],
      "text/plain": [
       "           States  Estimated Unemployment Rate before lockdown  \\\n",
       "0  Andhra Pradesh                                     8.171667   \n",
       "1           Assam                                     3.943333   \n",
       "2           Bihar                                    18.623333   \n",
       "3    Chhattisgarh                                     8.201667   \n",
       "4           Delhi                                    18.891667   \n",
       "\n",
       "   Estimated Unemployment Rate after lockdown  \n",
       "0                                      9.4025  \n",
       "1                                      6.2250  \n",
       "2                                     20.7425  \n",
       "3                                      7.2450  \n",
       "4                                     17.6975  "
      ]
     },
     "execution_count": 103,
     "metadata": {},
     "output_type": "execute_result"
    }
   ],
   "source": [
    "# Filtering of data before lockdown ie.period from Jan to April \n",
    "BL_df = df_cleaned[( df_cleaned['Month_int'] >= 1) & ( df_cleaned['Month_int'] <= 4 ) ]\n",
    "\n",
    "\n",
    "# Filtering of data after lockdown ie.period from May to October\n",
    "AL_df = df_cleaned[(df_cleaned['Month_int']> 4) & (df_cleaned['Month_int']<= 10 )]\n",
    "\n",
    "\n",
    "# Calculating the mean unemployment rate per state before lockdown \n",
    "\n",
    "MeanBL_df = BL_df.groupby(\"States\")['Estimated Unemployment Rate'].mean().reset_index()\n",
    "\n",
    "# Calculating the mean of unemployment rate per state after lockdown\n",
    "\n",
    "AL_df_mean = AL_df.groupby(\"States\")[\"Estimated Unemployment Rate\"].mean().reset_index()\n",
    "\n",
    "AL_df_mean[\"Estimated Unemployment Rate after lockdown\"] = MeanBL_df[\"Estimated Unemployment Rate\"]\n",
    "\n",
    "AL_df_mean.columns = ['States','Estimated Unemployment Rate before lockdown','Estimated Unemployment Rate after lockdown']\n",
    "\n",
    "# AL_df_mean.head()\n",
    "\n",
    "unm_df = AL_df_mean.copy()\n",
    "unm_df.head()"
   ]
  },
  {
   "cell_type": "code",
   "execution_count": null,
   "id": "b7d91aef-58fe-43f4-99bb-ac1558e32737",
   "metadata": {},
   "outputs": [],
   "source": []
  },
  {
   "cell_type": "code",
   "execution_count": 122,
   "id": "8761415b-7f32-4332-b7e7-e0667d9f24b3",
   "metadata": {},
   "outputs": [
    {
     "data": {
      "application/vnd.plotly.v1+json": {
       "config": {
        "plotlyServerURL": "https://plot.ly"
       },
       "data": [
        {
         "alignmentgroup": "True",
         "hovertemplate": "States=%{x}<br>Percentage change in unemployment rate=%{marker.color}<extra></extra>",
         "legendgroup": "",
         "marker": {
          "color": [
           175.88,
           111.31,
           67.69,
           61.62,
           57.86,
           47.74,
           47.1,
           44.94,
           26.15,
           25.39,
           19.05,
           16.01,
           15.06,
           11.38,
           6.97,
           5.2,
           -0.8,
           -6.32,
           -9.01,
           -11.66,
           -17.41,
           -18.8,
           -22.71,
           -22.95,
           -26.13,
           -37.45,
           -50.34
          ],
          "coloraxis": "coloraxis",
          "pattern": {
           "shape": ""
          }
         },
         "name": "",
         "offsetgroup": "",
         "orientation": "v",
         "showlegend": false,
         "textposition": "auto",
         "type": "bar",
         "x": [
          "Odisha",
          "Gujarat",
          "Tripura",
          "Karnataka",
          "Assam",
          "Sikkim",
          "Uttar Pradesh",
          "Tamil Nadu",
          "Jammu & Kashmir",
          "Maharashtra",
          "Puducherry",
          "Meghalaya",
          "Andhra Pradesh",
          "Bihar",
          "Haryana",
          "Kerala",
          "Jharkhand",
          "Delhi",
          "Telangana",
          "Chhattisgarh",
          "West Bengal",
          "Rajasthan",
          "Himachal Pradesh",
          "Madhya Pradesh",
          "Uttarakhand",
          "Punjab",
          "Goa"
         ],
         "xaxis": "x",
         "y": [
          175.88,
          111.31,
          67.69,
          61.62,
          57.86,
          47.74,
          47.1,
          44.94,
          26.15,
          25.39,
          19.05,
          16.01,
          15.06,
          11.38,
          6.97,
          5.2,
          -0.8,
          -6.32,
          -9.01,
          -11.66,
          -17.41,
          -18.8,
          -22.71,
          -22.95,
          -26.13,
          -37.45,
          -50.34
         ],
         "yaxis": "y"
        }
       ],
       "layout": {
        "barmode": "relative",
        "coloraxis": {
         "colorbar": {
          "title": {
           "text": "Percentage change in unemployment rate"
          }
         },
         "colorscale": [
          [
           0,
           "#0d0887"
          ],
          [
           0.1111111111111111,
           "#46039f"
          ],
          [
           0.2222222222222222,
           "#7201a8"
          ],
          [
           0.3333333333333333,
           "#9c179e"
          ],
          [
           0.4444444444444444,
           "#bd3786"
          ],
          [
           0.5555555555555556,
           "#d8576b"
          ],
          [
           0.6666666666666666,
           "#ed7953"
          ],
          [
           0.7777777777777778,
           "#fb9f3a"
          ],
          [
           0.8888888888888888,
           "#fdca26"
          ],
          [
           1,
           "#f0f921"
          ]
         ]
        },
        "height": 500,
        "legend": {
         "tracegroupgap": 0
        },
        "template": {
         "data": {
          "bar": [
           {
            "error_x": {
             "color": "#2a3f5f"
            },
            "error_y": {
             "color": "#2a3f5f"
            },
            "marker": {
             "line": {
              "color": "#E5ECF6",
              "width": 0.5
             },
             "pattern": {
              "fillmode": "overlay",
              "size": 10,
              "solidity": 0.2
             }
            },
            "type": "bar"
           }
          ],
          "barpolar": [
           {
            "marker": {
             "line": {
              "color": "#E5ECF6",
              "width": 0.5
             },
             "pattern": {
              "fillmode": "overlay",
              "size": 10,
              "solidity": 0.2
             }
            },
            "type": "barpolar"
           }
          ],
          "carpet": [
           {
            "aaxis": {
             "endlinecolor": "#2a3f5f",
             "gridcolor": "white",
             "linecolor": "white",
             "minorgridcolor": "white",
             "startlinecolor": "#2a3f5f"
            },
            "baxis": {
             "endlinecolor": "#2a3f5f",
             "gridcolor": "white",
             "linecolor": "white",
             "minorgridcolor": "white",
             "startlinecolor": "#2a3f5f"
            },
            "type": "carpet"
           }
          ],
          "choropleth": [
           {
            "colorbar": {
             "outlinewidth": 0,
             "ticks": ""
            },
            "type": "choropleth"
           }
          ],
          "contour": [
           {
            "colorbar": {
             "outlinewidth": 0,
             "ticks": ""
            },
            "colorscale": [
             [
              0,
              "#0d0887"
             ],
             [
              0.1111111111111111,
              "#46039f"
             ],
             [
              0.2222222222222222,
              "#7201a8"
             ],
             [
              0.3333333333333333,
              "#9c179e"
             ],
             [
              0.4444444444444444,
              "#bd3786"
             ],
             [
              0.5555555555555556,
              "#d8576b"
             ],
             [
              0.6666666666666666,
              "#ed7953"
             ],
             [
              0.7777777777777778,
              "#fb9f3a"
             ],
             [
              0.8888888888888888,
              "#fdca26"
             ],
             [
              1,
              "#f0f921"
             ]
            ],
            "type": "contour"
           }
          ],
          "contourcarpet": [
           {
            "colorbar": {
             "outlinewidth": 0,
             "ticks": ""
            },
            "type": "contourcarpet"
           }
          ],
          "heatmap": [
           {
            "colorbar": {
             "outlinewidth": 0,
             "ticks": ""
            },
            "colorscale": [
             [
              0,
              "#0d0887"
             ],
             [
              0.1111111111111111,
              "#46039f"
             ],
             [
              0.2222222222222222,
              "#7201a8"
             ],
             [
              0.3333333333333333,
              "#9c179e"
             ],
             [
              0.4444444444444444,
              "#bd3786"
             ],
             [
              0.5555555555555556,
              "#d8576b"
             ],
             [
              0.6666666666666666,
              "#ed7953"
             ],
             [
              0.7777777777777778,
              "#fb9f3a"
             ],
             [
              0.8888888888888888,
              "#fdca26"
             ],
             [
              1,
              "#f0f921"
             ]
            ],
            "type": "heatmap"
           }
          ],
          "heatmapgl": [
           {
            "colorbar": {
             "outlinewidth": 0,
             "ticks": ""
            },
            "colorscale": [
             [
              0,
              "#0d0887"
             ],
             [
              0.1111111111111111,
              "#46039f"
             ],
             [
              0.2222222222222222,
              "#7201a8"
             ],
             [
              0.3333333333333333,
              "#9c179e"
             ],
             [
              0.4444444444444444,
              "#bd3786"
             ],
             [
              0.5555555555555556,
              "#d8576b"
             ],
             [
              0.6666666666666666,
              "#ed7953"
             ],
             [
              0.7777777777777778,
              "#fb9f3a"
             ],
             [
              0.8888888888888888,
              "#fdca26"
             ],
             [
              1,
              "#f0f921"
             ]
            ],
            "type": "heatmapgl"
           }
          ],
          "histogram": [
           {
            "marker": {
             "pattern": {
              "fillmode": "overlay",
              "size": 10,
              "solidity": 0.2
             }
            },
            "type": "histogram"
           }
          ],
          "histogram2d": [
           {
            "colorbar": {
             "outlinewidth": 0,
             "ticks": ""
            },
            "colorscale": [
             [
              0,
              "#0d0887"
             ],
             [
              0.1111111111111111,
              "#46039f"
             ],
             [
              0.2222222222222222,
              "#7201a8"
             ],
             [
              0.3333333333333333,
              "#9c179e"
             ],
             [
              0.4444444444444444,
              "#bd3786"
             ],
             [
              0.5555555555555556,
              "#d8576b"
             ],
             [
              0.6666666666666666,
              "#ed7953"
             ],
             [
              0.7777777777777778,
              "#fb9f3a"
             ],
             [
              0.8888888888888888,
              "#fdca26"
             ],
             [
              1,
              "#f0f921"
             ]
            ],
            "type": "histogram2d"
           }
          ],
          "histogram2dcontour": [
           {
            "colorbar": {
             "outlinewidth": 0,
             "ticks": ""
            },
            "colorscale": [
             [
              0,
              "#0d0887"
             ],
             [
              0.1111111111111111,
              "#46039f"
             ],
             [
              0.2222222222222222,
              "#7201a8"
             ],
             [
              0.3333333333333333,
              "#9c179e"
             ],
             [
              0.4444444444444444,
              "#bd3786"
             ],
             [
              0.5555555555555556,
              "#d8576b"
             ],
             [
              0.6666666666666666,
              "#ed7953"
             ],
             [
              0.7777777777777778,
              "#fb9f3a"
             ],
             [
              0.8888888888888888,
              "#fdca26"
             ],
             [
              1,
              "#f0f921"
             ]
            ],
            "type": "histogram2dcontour"
           }
          ],
          "mesh3d": [
           {
            "colorbar": {
             "outlinewidth": 0,
             "ticks": ""
            },
            "type": "mesh3d"
           }
          ],
          "parcoords": [
           {
            "line": {
             "colorbar": {
              "outlinewidth": 0,
              "ticks": ""
             }
            },
            "type": "parcoords"
           }
          ],
          "pie": [
           {
            "automargin": true,
            "type": "pie"
           }
          ],
          "scatter": [
           {
            "fillpattern": {
             "fillmode": "overlay",
             "size": 10,
             "solidity": 0.2
            },
            "type": "scatter"
           }
          ],
          "scatter3d": [
           {
            "line": {
             "colorbar": {
              "outlinewidth": 0,
              "ticks": ""
             }
            },
            "marker": {
             "colorbar": {
              "outlinewidth": 0,
              "ticks": ""
             }
            },
            "type": "scatter3d"
           }
          ],
          "scattercarpet": [
           {
            "marker": {
             "colorbar": {
              "outlinewidth": 0,
              "ticks": ""
             }
            },
            "type": "scattercarpet"
           }
          ],
          "scattergeo": [
           {
            "marker": {
             "colorbar": {
              "outlinewidth": 0,
              "ticks": ""
             }
            },
            "type": "scattergeo"
           }
          ],
          "scattergl": [
           {
            "marker": {
             "colorbar": {
              "outlinewidth": 0,
              "ticks": ""
             }
            },
            "type": "scattergl"
           }
          ],
          "scattermapbox": [
           {
            "marker": {
             "colorbar": {
              "outlinewidth": 0,
              "ticks": ""
             }
            },
            "type": "scattermapbox"
           }
          ],
          "scatterpolar": [
           {
            "marker": {
             "colorbar": {
              "outlinewidth": 0,
              "ticks": ""
             }
            },
            "type": "scatterpolar"
           }
          ],
          "scatterpolargl": [
           {
            "marker": {
             "colorbar": {
              "outlinewidth": 0,
              "ticks": ""
             }
            },
            "type": "scatterpolargl"
           }
          ],
          "scatterternary": [
           {
            "marker": {
             "colorbar": {
              "outlinewidth": 0,
              "ticks": ""
             }
            },
            "type": "scatterternary"
           }
          ],
          "surface": [
           {
            "colorbar": {
             "outlinewidth": 0,
             "ticks": ""
            },
            "colorscale": [
             [
              0,
              "#0d0887"
             ],
             [
              0.1111111111111111,
              "#46039f"
             ],
             [
              0.2222222222222222,
              "#7201a8"
             ],
             [
              0.3333333333333333,
              "#9c179e"
             ],
             [
              0.4444444444444444,
              "#bd3786"
             ],
             [
              0.5555555555555556,
              "#d8576b"
             ],
             [
              0.6666666666666666,
              "#ed7953"
             ],
             [
              0.7777777777777778,
              "#fb9f3a"
             ],
             [
              0.8888888888888888,
              "#fdca26"
             ],
             [
              1,
              "#f0f921"
             ]
            ],
            "type": "surface"
           }
          ],
          "table": [
           {
            "cells": {
             "fill": {
              "color": "#EBF0F8"
             },
             "line": {
              "color": "white"
             }
            },
            "header": {
             "fill": {
              "color": "#C8D4E3"
             },
             "line": {
              "color": "white"
             }
            },
            "type": "table"
           }
          ]
         },
         "layout": {
          "annotationdefaults": {
           "arrowcolor": "#2a3f5f",
           "arrowhead": 0,
           "arrowwidth": 1
          },
          "autotypenumbers": "strict",
          "coloraxis": {
           "colorbar": {
            "outlinewidth": 0,
            "ticks": ""
           }
          },
          "colorscale": {
           "diverging": [
            [
             0,
             "#8e0152"
            ],
            [
             0.1,
             "#c51b7d"
            ],
            [
             0.2,
             "#de77ae"
            ],
            [
             0.3,
             "#f1b6da"
            ],
            [
             0.4,
             "#fde0ef"
            ],
            [
             0.5,
             "#f7f7f7"
            ],
            [
             0.6,
             "#e6f5d0"
            ],
            [
             0.7,
             "#b8e186"
            ],
            [
             0.8,
             "#7fbc41"
            ],
            [
             0.9,
             "#4d9221"
            ],
            [
             1,
             "#276419"
            ]
           ],
           "sequential": [
            [
             0,
             "#0d0887"
            ],
            [
             0.1111111111111111,
             "#46039f"
            ],
            [
             0.2222222222222222,
             "#7201a8"
            ],
            [
             0.3333333333333333,
             "#9c179e"
            ],
            [
             0.4444444444444444,
             "#bd3786"
            ],
            [
             0.5555555555555556,
             "#d8576b"
            ],
            [
             0.6666666666666666,
             "#ed7953"
            ],
            [
             0.7777777777777778,
             "#fb9f3a"
            ],
            [
             0.8888888888888888,
             "#fdca26"
            ],
            [
             1,
             "#f0f921"
            ]
           ],
           "sequentialminus": [
            [
             0,
             "#0d0887"
            ],
            [
             0.1111111111111111,
             "#46039f"
            ],
            [
             0.2222222222222222,
             "#7201a8"
            ],
            [
             0.3333333333333333,
             "#9c179e"
            ],
            [
             0.4444444444444444,
             "#bd3786"
            ],
            [
             0.5555555555555556,
             "#d8576b"
            ],
            [
             0.6666666666666666,
             "#ed7953"
            ],
            [
             0.7777777777777778,
             "#fb9f3a"
            ],
            [
             0.8888888888888888,
             "#fdca26"
            ],
            [
             1,
             "#f0f921"
            ]
           ]
          },
          "colorway": [
           "#636efa",
           "#EF553B",
           "#00cc96",
           "#ab63fa",
           "#FFA15A",
           "#19d3f3",
           "#FF6692",
           "#B6E880",
           "#FF97FF",
           "#FECB52"
          ],
          "font": {
           "color": "#2a3f5f"
          },
          "geo": {
           "bgcolor": "white",
           "lakecolor": "white",
           "landcolor": "#E5ECF6",
           "showlakes": true,
           "showland": true,
           "subunitcolor": "white"
          },
          "hoverlabel": {
           "align": "left"
          },
          "hovermode": "closest",
          "mapbox": {
           "style": "light"
          },
          "paper_bgcolor": "white",
          "plot_bgcolor": "#E5ECF6",
          "polar": {
           "angularaxis": {
            "gridcolor": "white",
            "linecolor": "white",
            "ticks": ""
           },
           "bgcolor": "#E5ECF6",
           "radialaxis": {
            "gridcolor": "white",
            "linecolor": "white",
            "ticks": ""
           }
          },
          "scene": {
           "xaxis": {
            "backgroundcolor": "#E5ECF6",
            "gridcolor": "white",
            "gridwidth": 2,
            "linecolor": "white",
            "showbackground": true,
            "ticks": "",
            "zerolinecolor": "white"
           },
           "yaxis": {
            "backgroundcolor": "#E5ECF6",
            "gridcolor": "white",
            "gridwidth": 2,
            "linecolor": "white",
            "showbackground": true,
            "ticks": "",
            "zerolinecolor": "white"
           },
           "zaxis": {
            "backgroundcolor": "#E5ECF6",
            "gridcolor": "white",
            "gridwidth": 2,
            "linecolor": "white",
            "showbackground": true,
            "ticks": "",
            "zerolinecolor": "white"
           }
          },
          "shapedefaults": {
           "line": {
            "color": "#2a3f5f"
           }
          },
          "ternary": {
           "aaxis": {
            "gridcolor": "white",
            "linecolor": "white",
            "ticks": ""
           },
           "baxis": {
            "gridcolor": "white",
            "linecolor": "white",
            "ticks": ""
           },
           "bgcolor": "#E5ECF6",
           "caxis": {
            "gridcolor": "white",
            "linecolor": "white",
            "ticks": ""
           }
          },
          "title": {
           "x": 0.05
          },
          "xaxis": {
           "automargin": true,
           "gridcolor": "white",
           "linecolor": "white",
           "ticks": "",
           "title": {
            "standoff": 15
           },
           "zerolinecolor": "white",
           "zerolinewidth": 2
          },
          "yaxis": {
           "automargin": true,
           "gridcolor": "white",
           "linecolor": "white",
           "ticks": "",
           "title": {
            "standoff": 15
           },
           "zerolinecolor": "white",
           "zerolinewidth": 2
          }
         }
        },
        "title": {
         "text": "Percentage change in unemployment rate per state"
        },
        "width": 1200,
        "xaxis": {
         "anchor": "y",
         "autorange": true,
         "domain": [
          0,
          1
         ],
         "range": [
          -0.5,
          26.5
         ],
         "tickangle": 50,
         "title": {
          "text": "States"
         },
         "type": "category"
        },
        "yaxis": {
         "anchor": "x",
         "autorange": true,
         "domain": [
          0,
          1
         ],
         "range": [
          -62.90777777777778,
          188.4477777777778
         ],
         "title": {
          "text": "Percentage change in unemployment rate"
         },
         "type": "linear"
        }
       }
      },
      "text/html": [
       "<div>                            <div id=\"e952ca14-d34c-45d3-8247-9114ff5bc20e\" class=\"plotly-graph-div\" style=\"height:500px; width:1200px;\"></div>            <script type=\"text/javascript\">                require([\"plotly\"], function(Plotly) {                    window.PLOTLYENV=window.PLOTLYENV || {};                                    if (document.getElementById(\"e952ca14-d34c-45d3-8247-9114ff5bc20e\")) {                    Plotly.newPlot(                        \"e952ca14-d34c-45d3-8247-9114ff5bc20e\",                        [{\"alignmentgroup\":\"True\",\"hovertemplate\":\"States=%{x}\\u003cbr\\u003ePercentage change in unemployment rate=%{marker.color}\\u003cextra\\u003e\\u003c\\u002fextra\\u003e\",\"legendgroup\":\"\",\"marker\":{\"color\":[175.88,111.31,67.69,61.62,57.86,47.74,47.1,44.94,26.15,25.39,19.05,16.01,15.06,11.38,6.97,5.2,-0.8,-6.32,-9.01,-11.66,-17.41,-18.8,-22.71,-22.95,-26.13,-37.45,-50.34],\"coloraxis\":\"coloraxis\",\"pattern\":{\"shape\":\"\"}},\"name\":\"\",\"offsetgroup\":\"\",\"orientation\":\"v\",\"showlegend\":false,\"textposition\":\"auto\",\"x\":[\"Odisha\",\"Gujarat\",\"Tripura\",\"Karnataka\",\"Assam\",\"Sikkim\",\"Uttar Pradesh\",\"Tamil Nadu\",\"Jammu & Kashmir\",\"Maharashtra\",\"Puducherry\",\"Meghalaya\",\"Andhra Pradesh\",\"Bihar\",\"Haryana\",\"Kerala\",\"Jharkhand\",\"Delhi\",\"Telangana\",\"Chhattisgarh\",\"West Bengal\",\"Rajasthan\",\"Himachal Pradesh\",\"Madhya Pradesh\",\"Uttarakhand\",\"Punjab\",\"Goa\"],\"xaxis\":\"x\",\"y\":[175.88,111.31,67.69,61.62,57.86,47.74,47.1,44.94,26.15,25.39,19.05,16.01,15.06,11.38,6.97,5.2,-0.8,-6.32,-9.01,-11.66,-17.41,-18.8,-22.71,-22.95,-26.13,-37.45,-50.34],\"yaxis\":\"y\",\"type\":\"bar\"}],                        {\"template\":{\"data\":{\"histogram2dcontour\":[{\"type\":\"histogram2dcontour\",\"colorbar\":{\"outlinewidth\":0,\"ticks\":\"\"},\"colorscale\":[[0.0,\"#0d0887\"],[0.1111111111111111,\"#46039f\"],[0.2222222222222222,\"#7201a8\"],[0.3333333333333333,\"#9c179e\"],[0.4444444444444444,\"#bd3786\"],[0.5555555555555556,\"#d8576b\"],[0.6666666666666666,\"#ed7953\"],[0.7777777777777778,\"#fb9f3a\"],[0.8888888888888888,\"#fdca26\"],[1.0,\"#f0f921\"]]}],\"choropleth\":[{\"type\":\"choropleth\",\"colorbar\":{\"outlinewidth\":0,\"ticks\":\"\"}}],\"histogram2d\":[{\"type\":\"histogram2d\",\"colorbar\":{\"outlinewidth\":0,\"ticks\":\"\"},\"colorscale\":[[0.0,\"#0d0887\"],[0.1111111111111111,\"#46039f\"],[0.2222222222222222,\"#7201a8\"],[0.3333333333333333,\"#9c179e\"],[0.4444444444444444,\"#bd3786\"],[0.5555555555555556,\"#d8576b\"],[0.6666666666666666,\"#ed7953\"],[0.7777777777777778,\"#fb9f3a\"],[0.8888888888888888,\"#fdca26\"],[1.0,\"#f0f921\"]]}],\"heatmap\":[{\"type\":\"heatmap\",\"colorbar\":{\"outlinewidth\":0,\"ticks\":\"\"},\"colorscale\":[[0.0,\"#0d0887\"],[0.1111111111111111,\"#46039f\"],[0.2222222222222222,\"#7201a8\"],[0.3333333333333333,\"#9c179e\"],[0.4444444444444444,\"#bd3786\"],[0.5555555555555556,\"#d8576b\"],[0.6666666666666666,\"#ed7953\"],[0.7777777777777778,\"#fb9f3a\"],[0.8888888888888888,\"#fdca26\"],[1.0,\"#f0f921\"]]}],\"heatmapgl\":[{\"type\":\"heatmapgl\",\"colorbar\":{\"outlinewidth\":0,\"ticks\":\"\"},\"colorscale\":[[0.0,\"#0d0887\"],[0.1111111111111111,\"#46039f\"],[0.2222222222222222,\"#7201a8\"],[0.3333333333333333,\"#9c179e\"],[0.4444444444444444,\"#bd3786\"],[0.5555555555555556,\"#d8576b\"],[0.6666666666666666,\"#ed7953\"],[0.7777777777777778,\"#fb9f3a\"],[0.8888888888888888,\"#fdca26\"],[1.0,\"#f0f921\"]]}],\"contourcarpet\":[{\"type\":\"contourcarpet\",\"colorbar\":{\"outlinewidth\":0,\"ticks\":\"\"}}],\"contour\":[{\"type\":\"contour\",\"colorbar\":{\"outlinewidth\":0,\"ticks\":\"\"},\"colorscale\":[[0.0,\"#0d0887\"],[0.1111111111111111,\"#46039f\"],[0.2222222222222222,\"#7201a8\"],[0.3333333333333333,\"#9c179e\"],[0.4444444444444444,\"#bd3786\"],[0.5555555555555556,\"#d8576b\"],[0.6666666666666666,\"#ed7953\"],[0.7777777777777778,\"#fb9f3a\"],[0.8888888888888888,\"#fdca26\"],[1.0,\"#f0f921\"]]}],\"surface\":[{\"type\":\"surface\",\"colorbar\":{\"outlinewidth\":0,\"ticks\":\"\"},\"colorscale\":[[0.0,\"#0d0887\"],[0.1111111111111111,\"#46039f\"],[0.2222222222222222,\"#7201a8\"],[0.3333333333333333,\"#9c179e\"],[0.4444444444444444,\"#bd3786\"],[0.5555555555555556,\"#d8576b\"],[0.6666666666666666,\"#ed7953\"],[0.7777777777777778,\"#fb9f3a\"],[0.8888888888888888,\"#fdca26\"],[1.0,\"#f0f921\"]]}],\"mesh3d\":[{\"type\":\"mesh3d\",\"colorbar\":{\"outlinewidth\":0,\"ticks\":\"\"}}],\"scatter\":[{\"fillpattern\":{\"fillmode\":\"overlay\",\"size\":10,\"solidity\":0.2},\"type\":\"scatter\"}],\"parcoords\":[{\"type\":\"parcoords\",\"line\":{\"colorbar\":{\"outlinewidth\":0,\"ticks\":\"\"}}}],\"scatterpolargl\":[{\"type\":\"scatterpolargl\",\"marker\":{\"colorbar\":{\"outlinewidth\":0,\"ticks\":\"\"}}}],\"bar\":[{\"error_x\":{\"color\":\"#2a3f5f\"},\"error_y\":{\"color\":\"#2a3f5f\"},\"marker\":{\"line\":{\"color\":\"#E5ECF6\",\"width\":0.5},\"pattern\":{\"fillmode\":\"overlay\",\"size\":10,\"solidity\":0.2}},\"type\":\"bar\"}],\"scattergeo\":[{\"type\":\"scattergeo\",\"marker\":{\"colorbar\":{\"outlinewidth\":0,\"ticks\":\"\"}}}],\"scatterpolar\":[{\"type\":\"scatterpolar\",\"marker\":{\"colorbar\":{\"outlinewidth\":0,\"ticks\":\"\"}}}],\"histogram\":[{\"marker\":{\"pattern\":{\"fillmode\":\"overlay\",\"size\":10,\"solidity\":0.2}},\"type\":\"histogram\"}],\"scattergl\":[{\"type\":\"scattergl\",\"marker\":{\"colorbar\":{\"outlinewidth\":0,\"ticks\":\"\"}}}],\"scatter3d\":[{\"type\":\"scatter3d\",\"line\":{\"colorbar\":{\"outlinewidth\":0,\"ticks\":\"\"}},\"marker\":{\"colorbar\":{\"outlinewidth\":0,\"ticks\":\"\"}}}],\"scattermapbox\":[{\"type\":\"scattermapbox\",\"marker\":{\"colorbar\":{\"outlinewidth\":0,\"ticks\":\"\"}}}],\"scatterternary\":[{\"type\":\"scatterternary\",\"marker\":{\"colorbar\":{\"outlinewidth\":0,\"ticks\":\"\"}}}],\"scattercarpet\":[{\"type\":\"scattercarpet\",\"marker\":{\"colorbar\":{\"outlinewidth\":0,\"ticks\":\"\"}}}],\"carpet\":[{\"aaxis\":{\"endlinecolor\":\"#2a3f5f\",\"gridcolor\":\"white\",\"linecolor\":\"white\",\"minorgridcolor\":\"white\",\"startlinecolor\":\"#2a3f5f\"},\"baxis\":{\"endlinecolor\":\"#2a3f5f\",\"gridcolor\":\"white\",\"linecolor\":\"white\",\"minorgridcolor\":\"white\",\"startlinecolor\":\"#2a3f5f\"},\"type\":\"carpet\"}],\"table\":[{\"cells\":{\"fill\":{\"color\":\"#EBF0F8\"},\"line\":{\"color\":\"white\"}},\"header\":{\"fill\":{\"color\":\"#C8D4E3\"},\"line\":{\"color\":\"white\"}},\"type\":\"table\"}],\"barpolar\":[{\"marker\":{\"line\":{\"color\":\"#E5ECF6\",\"width\":0.5},\"pattern\":{\"fillmode\":\"overlay\",\"size\":10,\"solidity\":0.2}},\"type\":\"barpolar\"}],\"pie\":[{\"automargin\":true,\"type\":\"pie\"}]},\"layout\":{\"autotypenumbers\":\"strict\",\"colorway\":[\"#636efa\",\"#EF553B\",\"#00cc96\",\"#ab63fa\",\"#FFA15A\",\"#19d3f3\",\"#FF6692\",\"#B6E880\",\"#FF97FF\",\"#FECB52\"],\"font\":{\"color\":\"#2a3f5f\"},\"hovermode\":\"closest\",\"hoverlabel\":{\"align\":\"left\"},\"paper_bgcolor\":\"white\",\"plot_bgcolor\":\"#E5ECF6\",\"polar\":{\"bgcolor\":\"#E5ECF6\",\"angularaxis\":{\"gridcolor\":\"white\",\"linecolor\":\"white\",\"ticks\":\"\"},\"radialaxis\":{\"gridcolor\":\"white\",\"linecolor\":\"white\",\"ticks\":\"\"}},\"ternary\":{\"bgcolor\":\"#E5ECF6\",\"aaxis\":{\"gridcolor\":\"white\",\"linecolor\":\"white\",\"ticks\":\"\"},\"baxis\":{\"gridcolor\":\"white\",\"linecolor\":\"white\",\"ticks\":\"\"},\"caxis\":{\"gridcolor\":\"white\",\"linecolor\":\"white\",\"ticks\":\"\"}},\"coloraxis\":{\"colorbar\":{\"outlinewidth\":0,\"ticks\":\"\"}},\"colorscale\":{\"sequential\":[[0.0,\"#0d0887\"],[0.1111111111111111,\"#46039f\"],[0.2222222222222222,\"#7201a8\"],[0.3333333333333333,\"#9c179e\"],[0.4444444444444444,\"#bd3786\"],[0.5555555555555556,\"#d8576b\"],[0.6666666666666666,\"#ed7953\"],[0.7777777777777778,\"#fb9f3a\"],[0.8888888888888888,\"#fdca26\"],[1.0,\"#f0f921\"]],\"sequentialminus\":[[0.0,\"#0d0887\"],[0.1111111111111111,\"#46039f\"],[0.2222222222222222,\"#7201a8\"],[0.3333333333333333,\"#9c179e\"],[0.4444444444444444,\"#bd3786\"],[0.5555555555555556,\"#d8576b\"],[0.6666666666666666,\"#ed7953\"],[0.7777777777777778,\"#fb9f3a\"],[0.8888888888888888,\"#fdca26\"],[1.0,\"#f0f921\"]],\"diverging\":[[0,\"#8e0152\"],[0.1,\"#c51b7d\"],[0.2,\"#de77ae\"],[0.3,\"#f1b6da\"],[0.4,\"#fde0ef\"],[0.5,\"#f7f7f7\"],[0.6,\"#e6f5d0\"],[0.7,\"#b8e186\"],[0.8,\"#7fbc41\"],[0.9,\"#4d9221\"],[1,\"#276419\"]]},\"xaxis\":{\"gridcolor\":\"white\",\"linecolor\":\"white\",\"ticks\":\"\",\"title\":{\"standoff\":15},\"zerolinecolor\":\"white\",\"automargin\":true,\"zerolinewidth\":2},\"yaxis\":{\"gridcolor\":\"white\",\"linecolor\":\"white\",\"ticks\":\"\",\"title\":{\"standoff\":15},\"zerolinecolor\":\"white\",\"automargin\":true,\"zerolinewidth\":2},\"scene\":{\"xaxis\":{\"backgroundcolor\":\"#E5ECF6\",\"gridcolor\":\"white\",\"linecolor\":\"white\",\"showbackground\":true,\"ticks\":\"\",\"zerolinecolor\":\"white\",\"gridwidth\":2},\"yaxis\":{\"backgroundcolor\":\"#E5ECF6\",\"gridcolor\":\"white\",\"linecolor\":\"white\",\"showbackground\":true,\"ticks\":\"\",\"zerolinecolor\":\"white\",\"gridwidth\":2},\"zaxis\":{\"backgroundcolor\":\"#E5ECF6\",\"gridcolor\":\"white\",\"linecolor\":\"white\",\"showbackground\":true,\"ticks\":\"\",\"zerolinecolor\":\"white\",\"gridwidth\":2}},\"shapedefaults\":{\"line\":{\"color\":\"#2a3f5f\"}},\"annotationdefaults\":{\"arrowcolor\":\"#2a3f5f\",\"arrowhead\":0,\"arrowwidth\":1},\"geo\":{\"bgcolor\":\"white\",\"landcolor\":\"#E5ECF6\",\"subunitcolor\":\"white\",\"showland\":true,\"showlakes\":true,\"lakecolor\":\"white\"},\"title\":{\"x\":0.05},\"mapbox\":{\"style\":\"light\"}}},\"xaxis\":{\"anchor\":\"y\",\"domain\":[0.0,1.0],\"title\":{\"text\":\"States\"},\"tickangle\":50},\"yaxis\":{\"anchor\":\"x\",\"domain\":[0.0,1.0],\"title\":{\"text\":\"Percentage change in unemployment rate\"}},\"coloraxis\":{\"colorbar\":{\"title\":{\"text\":\"Percentage change in unemployment rate\"}},\"colorscale\":[[0.0,\"#0d0887\"],[0.1111111111111111,\"#46039f\"],[0.2222222222222222,\"#7201a8\"],[0.3333333333333333,\"#9c179e\"],[0.4444444444444444,\"#bd3786\"],[0.5555555555555556,\"#d8576b\"],[0.6666666666666666,\"#ed7953\"],[0.7777777777777778,\"#fb9f3a\"],[0.8888888888888888,\"#fdca26\"],[1.0,\"#f0f921\"]]},\"legend\":{\"tracegroupgap\":0},\"title\":{\"text\":\"Percentage change in unemployment rate per state\"},\"barmode\":\"relative\",\"height\":500,\"width\":1200},                        {\"responsive\": true}                    ).then(function(){\n",
       "                            \n",
       "var gd = document.getElementById('e952ca14-d34c-45d3-8247-9114ff5bc20e');\n",
       "var x = new MutationObserver(function (mutations, observer) {{\n",
       "        var display = window.getComputedStyle(gd).display;\n",
       "        if (!display || display === 'none') {{\n",
       "            console.log([gd, 'removed!']);\n",
       "            Plotly.purge(gd);\n",
       "            observer.disconnect();\n",
       "        }}\n",
       "}});\n",
       "\n",
       "// Listen for the removal of the full notebook cells\n",
       "var notebookContainer = gd.closest('#notebook-container');\n",
       "if (notebookContainer) {{\n",
       "    x.observe(notebookContainer, {childList: true});\n",
       "}}\n",
       "\n",
       "// Listen for the clearing of the current output cell\n",
       "var outputEl = gd.closest('.output');\n",
       "if (outputEl) {{\n",
       "    x.observe(outputEl, {childList: true});\n",
       "}}\n",
       "\n",
       "                        })                };                });            </script>        </div>"
      ]
     },
     "metadata": {},
     "output_type": "display_data"
    }
   ],
   "source": [
    "# Percentage change in unemployment rate \n",
    "\n",
    "unm_df['Percentage change in unemployment rate'] = round (((unm_df['Estimated Unemployment Rate after lockdown'] - unm_df['Estimated Unemployment Rate before lockdown']) / (unm_df['Estimated Unemployment Rate before lockdown']) ) * 100 , 2) ;          \n",
    "\n",
    "# Sorting the dataframe\n",
    "\n",
    "unm_df_sorted = unm_df.sort_values( 'Percentage change in unemployment rate' , ascending = False )\n",
    "\n",
    "unm_df_sorted.head(10)\n",
    "\n",
    "# showcasing the required df in a baar chart\n",
    "\n",
    "fig = px.bar(unm_df_sorted , x= 'States' , y = 'Percentage change in unemployment rate' , color = 'Percentage change in unemployment rate', \n",
    "             width = 1200 , height = 500 , title = 'Percentage change in unemployment rate per state')\n",
    "fig.update_layout(xaxis_tickangle = 50)\n",
    "\n",
    "fig.show()"
   ]
  },
  {
   "cell_type": "markdown",
   "id": "c65237a7-e9d8-490d-9c4e-c6b0725082aa",
   "metadata": {},
   "source": [
    "**Conclusion :**\n",
    "\n",
    "The most affected states/territories in India during the lockdown in case of unemployment were:\n",
    "\n",
    "- Odisha  \n",
    "- Gujarat  \n",
    "- Tripura  \n",
    "- Karnataka  \n",
    "- Assam  \n",
    "- Sikkim    \n",
    "\n",
    "while we can see that also states like Punjab , Uttarkhand,  Madhya Pradesh etc have seen decrease in unemployment rate  \n",
    "\n"
   ]
  },
  {
   "cell_type": "code",
   "execution_count": null,
   "id": "c55c7a6d-8a98-4a19-81a5-7d4f7daebfbb",
   "metadata": {},
   "outputs": [],
   "source": []
  },
  {
   "cell_type": "code",
   "execution_count": 1,
   "id": "dbb43396-147e-49fa-b68d-a3702bb91083",
   "metadata": {},
   "outputs": [
    {
     "name": "stdout",
     "output_type": "stream",
     "text": [
      "And the project ends here \n"
     ]
    }
   ],
   "source": [
    "print(\"And the project ends here \")"
   ]
  }
 ],
 "metadata": {
  "kernelspec": {
   "display_name": "Python 3 (ipykernel)",
   "language": "python",
   "name": "python3"
  },
  "language_info": {
   "codemirror_mode": {
    "name": "ipython",
    "version": 3
   },
   "file_extension": ".py",
   "mimetype": "text/x-python",
   "name": "python",
   "nbconvert_exporter": "python",
   "pygments_lexer": "ipython3",
   "version": "3.11.4"
  }
 },
 "nbformat": 4,
 "nbformat_minor": 5
}
